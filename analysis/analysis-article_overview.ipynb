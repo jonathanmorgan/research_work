{
 "cells": [
  {
   "cell_type": "markdown",
   "id": "abc635f1-f422-4f7f-86b1-c11e725d5847",
   "metadata": {},
   "source": [
    "**analysis-article_overview.ipynb - Article overview**"
   ]
  },
  {
   "cell_type": "markdown",
   "id": "ba4ccabf-42d0-4217-8baf-87bd790d8478",
   "metadata": {},
   "source": [
    "# Setup"
   ]
  },
  {
   "cell_type": "markdown",
   "id": "089876e6-2d2f-4fd0-96f6-730520fb0bab",
   "metadata": {},
   "source": [
    "## Setup - Imports"
   ]
  },
  {
   "cell_type": "code",
   "execution_count": 1,
   "id": "47c3f417-8fcb-49c1-85f3-44c070e980fe",
   "metadata": {},
   "outputs": [
    {
     "name": "stdout",
     "output_type": "stream",
     "text": [
      "packages imported at 2022-05-10 03:16:14.934844\n"
     ]
    }
   ],
   "source": [
    "# python base imports\n",
    "import datetime\n",
    "import json\n",
    "\n",
    "# import six\n",
    "import six\n",
    "\n",
    "print( \"packages imported at \" + str( datetime.datetime.now() ) )"
   ]
  },
  {
   "cell_type": "markdown",
   "id": "17939321-ff9b-4230-84ef-5165d0d8820a",
   "metadata": {},
   "source": [
    "## Setup - Initialize Django\n",
    "\n",
    "- Back to [Table of Contents](#Table-of-Contents)\n",
    "\n",
    "First, initialize my dev django project, so I can run code in this notebook that references my django models and can talk to the database using my project's settings."
   ]
  },
  {
   "cell_type": "code",
   "execution_count": 2,
   "id": "f2ea6891-3f5d-48f3-b819-a8ba8fa9d869",
   "metadata": {},
   "outputs": [
    {
     "name": "stdout",
     "output_type": "stream",
     "text": [
      "django initialized at 2022-05-10 03:16:17.119833\n"
     ]
    }
   ],
   "source": [
    "%run ../django_init.py"
   ]
  },
  {
   "cell_type": "code",
   "execution_count": 3,
   "id": "4c4c9544-0d64-4cf1-baca-f1226617dec1",
   "metadata": {},
   "outputs": [
    {
     "name": "stdout",
     "output_type": "stream",
     "text": [
      "django model packages imported at 2022-05-10 03:16:17.845201\n"
     ]
    }
   ],
   "source": [
    "# django imports\n",
    "from django.contrib.auth.models import User\n",
    "from django.db.models import Max\n",
    "from django.db.models import Min\n",
    "\n",
    "# sourcenet imports\n",
    "from context_text.shared.context_text_base import ContextTextBase\n",
    "\n",
    "# context_analysis imports\n",
    "from context_analysis.network.network_person_info import NetworkPersonInfo\n",
    "\n",
    "# sourcenet imports\n",
    "from context_text.models import Article\n",
    "from context_text.models import Article_Author\n",
    "from context_text.models import Article_Data\n",
    "from context_text.models import Article_Subject\n",
    "from context_text.models import Newspaper\n",
    "from context_text.models import Person\n",
    "\n",
    "# article coding\n",
    "from context_text.article_coding.article_coder import ArticleCoder\n",
    "#from context_text.article_coding.article_coding import ArticleCoding\n",
    "from context_text.article_coding.open_calais_v2.open_calais_v2_article_coder import OpenCalaisV2ArticleCoder\n",
    "\n",
    "# context_text shared\n",
    "from context_text.shared.context_text_base import ContextTextBase\n",
    "\n",
    "print( \"django model packages imported at \" + str( datetime.datetime.now() ) )"
   ]
  },
  {
   "cell_type": "markdown",
   "id": "732b5099-9487-4c60-a4bd-35df7a6bf144",
   "metadata": {},
   "source": [
    "## Setup - Important instances"
   ]
  },
  {
   "cell_type": "code",
   "execution_count": 4,
   "id": "3033a36d-b69a-4caf-89bd-9d8d7780e83c",
   "metadata": {},
   "outputs": [],
   "source": [
    "# get ArticleCoding instance.\n",
    "#article_coding = ArticleCoding()\n",
    "\n",
    "# automated coding user\n",
    "automated_coder = ArticleCoder.get_automated_coding_user()\n",
    "\n",
    "# newspapers for Grand Rapids Press and Detroit News.\n",
    "grand_rapids_press = Newspaper.objects.get( newsbank_code = \"GRPB\" )\n",
    "detroit_news = Newspaper.objects.get( newsbank_code = \"DTNB\" )"
   ]
  },
  {
   "cell_type": "markdown",
   "id": "e4328f75-861c-4624-9abb-91741d4966b9",
   "metadata": {},
   "source": [
    "## Setup - functions"
   ]
  },
  {
   "cell_type": "markdown",
   "id": "62c27e1b-b35b-46a1-8890-c32e7a77794a",
   "metadata": {},
   "source": [
    "### Setup - function create_tag_summary"
   ]
  },
  {
   "cell_type": "code",
   "execution_count": 14,
   "id": "93b95e19-aedc-4981-ba83-c7c3aff69af5",
   "metadata": {},
   "outputs": [
    {
     "name": "stdout",
     "output_type": "stream",
     "text": [
      "function create_tag_summary() defined at 2022-05-10 03:29:53.710254\n"
     ]
    }
   ],
   "source": [
    "def create_tag_summary( work_qs_IN, output_every_IN = 1000 ):\n",
    "    \n",
    "    # return reference\n",
    "    tag_info_OUT = None\n",
    "    \n",
    "    # declare variables\n",
    "    tag_to_count_map = dict()\n",
    "    article_counter = None\n",
    "    output_every = None\n",
    "    work_qs = None\n",
    "    article = None\n",
    "    tag_list = None\n",
    "    tag_name = None\n",
    "    tag_count = None\n",
    "    \n",
    "    # init\n",
    "    work_qs = work_qs_IN\n",
    "    output_every = output_every_IN\n",
    "\n",
    "    # loop\n",
    "    article_counter = 0\n",
    "    for article in work_qs:\n",
    "\n",
    "        # increment article_counter\n",
    "        article_counter += 1\n",
    "\n",
    "        # get list of tags for article\n",
    "        tag_list = article.tags.names()\n",
    "\n",
    "        # loop over tags\n",
    "        for tag_name in tag_list:\n",
    "\n",
    "            # look for tag in map\n",
    "            tag_count = tag_to_count_map.get( tag_name, 0 )\n",
    "            tag_count += 1\n",
    "            tag_to_count_map[ tag_name ] = tag_count\n",
    "\n",
    "        #-- END loop over tags. --#\n",
    "\n",
    "        # output?\n",
    "        if ( article_counter % output_every == 0 ):\n",
    "\n",
    "            print( \"--> processed: {}\".format( article_counter ) )\n",
    "\n",
    "        #-- END check if time to output something. --#\n",
    "\n",
    "    #-- END loop over articles. --#\n",
    "    \n",
    "    tag_info_OUT = tag_to_count_map\n",
    "\n",
    "    return tag_info_OUT\n",
    "    \n",
    "#-- END function create_tag_summary() --#\n",
    "\n",
    "print( \"function create_tag_summary() defined at \" + str( datetime.datetime.now() ) )"
   ]
  },
  {
   "cell_type": "markdown",
   "id": "f5bef787-23ea-468f-a953-12ec0106c61e",
   "metadata": {
    "tags": []
   },
   "source": [
    "# Articles\n",
    "\n",
    "- Using details from: [newsbank-article_coding.ipynb](../data/article_coding/newsbank-article_coding.ipynb)"
   ]
  },
  {
   "cell_type": "code",
   "execution_count": 5,
   "id": "1c44668d-67e8-4bac-b6aa-714f873a1791",
   "metadata": {},
   "outputs": [],
   "source": [
    "article_qs = Article.objects.all()"
   ]
  },
  {
   "cell_type": "markdown",
   "id": "9b8e9e94-1c25-46b9-a3cd-2de3047d9bcf",
   "metadata": {},
   "source": [
    "## Grand Rapids Press (GRP)"
   ]
  },
  {
   "cell_type": "code",
   "execution_count": 6,
   "id": "176ef7be-1686-4d3f-8d75-82a9398a2d5a",
   "metadata": {},
   "outputs": [
    {
     "name": "stdout",
     "output_type": "stream",
     "text": [
      "354315 Article instances for newspaper 1 - Grand Rapids Press, The ( GRPB ).\n"
     ]
    }
   ],
   "source": [
    "# get automated coder user.\n",
    "#automated_coder = ArticleCoder.get_automated_coding_user()\n",
    "my_newspaper = grand_rapids_press\n",
    "\n",
    "# filter to just Article_Data coded by this user.\n",
    "grp_article_qs = article_qs.filter( newspaper = my_newspaper )\n",
    "\n",
    "# how many now?\n",
    "article_count = grp_article_qs.count()\n",
    "\n",
    "print( \"{} Article instances for newspaper {}.\".format( article_count, my_newspaper ) )"
   ]
  },
  {
   "cell_type": "markdown",
   "id": "8d52e40b-1a1e-45f2-aca8-4b34f9da45b0",
   "metadata": {},
   "source": [
    "### GRP - coded tag"
   ]
  },
  {
   "cell_type": "code",
   "execution_count": 7,
   "id": "72351bdd-0c7b-4e1f-9a84-e7c65113a169",
   "metadata": {},
   "outputs": [
    {
     "name": "stdout",
     "output_type": "stream",
     "text": [
      "Tags ['coded-OpenCalaisV2ArticleCoder'] - Matching article count: 43816\n"
     ]
    }
   ],
   "source": [
    "tags_in_list = []\n",
    "tags_in_list.append( OpenCalaisV2ArticleCoder.TAG_CODED_BY_ME )\n",
    "grp_coded_article_qs = grp_article_qs.filter( tags__name__in = tags_in_list )\n",
    "print( \"Tags {} - Matching article count: {}\".format( tags_in_list, grp_coded_article_qs.count() ) )"
   ]
  },
  {
   "cell_type": "markdown",
   "id": "70d9698d-b538-486a-81a1-841f9039b8a2",
   "metadata": {},
   "source": [
    "### GRP - hard news tag"
   ]
  },
  {
   "cell_type": "code",
   "execution_count": 8,
   "id": "405264cd-32e4-4b74-8c95-197ac56e3b6d",
   "metadata": {},
   "outputs": [
    {
     "name": "stdout",
     "output_type": "stream",
     "text": [
      "Tags ['local_hard_news'] - Matching article count: 43816\n"
     ]
    }
   ],
   "source": [
    "tags_in_list = []\n",
    "tags_in_list.append( ContextTextBase.TAG_LOCAL_HARD_NEWS )\n",
    "grp_news_article_qs = grp_article_qs.filter( tags__name__in = tags_in_list )\n",
    "print( \"Tags {} - Matching article count: {}\".format( tags_in_list, grp_news_article_qs.count() ) )"
   ]
  },
  {
   "cell_type": "markdown",
   "id": "b37974c6-c9cf-4a9f-93eb-610830f38ed4",
   "metadata": {},
   "source": [
    "### GRP - date ranges\n",
    "\n",
    "Get min and max publication dates for articles within a QuerySet.\n",
    "\n",
    "- Django aggregation function guide: [https://docs.djangoproject.com/en/4.0/topics/db/aggregation/](https://docs.djangoproject.com/en/4.0/topics/db/aggregation/)"
   ]
  },
  {
   "cell_type": "code",
   "execution_count": 9,
   "id": "dd139fad-aa1e-485f-b539-fc341d8bc94e",
   "metadata": {},
   "outputs": [
    {
     "name": "stdout",
     "output_type": "stream",
     "text": [
      "Min pubdate: 2005-01-01 ( {'pub_date__min': datetime.date(2005, 1, 1)} )\n"
     ]
    }
   ],
   "source": [
    "# minimum publication date\n",
    "work_qs = grp_news_article_qs\n",
    "aggregate_value_dict = work_qs.aggregate( Min( \"pub_date\" ) )  \n",
    "min_pubdate = aggregate_value_dict[ \"pub_date__min\" ]\n",
    "print( \"Min pubdate: {min_pubdate} ( {agg_dict} )\".format( min_pubdate = min_pubdate, agg_dict = aggregate_value_dict ) )"
   ]
  },
  {
   "cell_type": "code",
   "execution_count": 10,
   "id": "d2703b1f-399f-4bdc-b338-c100a9774916",
   "metadata": {},
   "outputs": [
    {
     "name": "stdout",
     "output_type": "stream",
     "text": [
      "Max pubdate: 2010-11-30 ( {'pub_date__max': datetime.date(2010, 11, 30)} )\n"
     ]
    }
   ],
   "source": [
    "# maximum publication date\n",
    "work_qs = grp_news_article_qs\n",
    "aggregate_value_dict = work_qs.aggregate( Max( \"pub_date\" ) )  \n",
    "max_pubdate = aggregate_value_dict[ \"pub_date__max\" ]\n",
    "print( \"Max pubdate: {max_pubdate} ( {agg_dict} )\".format( max_pubdate = max_pubdate, agg_dict = aggregate_value_dict ) )"
   ]
  },
  {
   "cell_type": "markdown",
   "id": "7e403d19-1ffc-4e37-9678-143c41bce288",
   "metadata": {},
   "source": [
    "### GRP - tags overview "
   ]
  },
  {
   "cell_type": "markdown",
   "id": "feeccd47-311e-4653-9380-69dc707fee35",
   "metadata": {
    "tags": []
   },
   "source": [
    "#### GRP - all article tags"
   ]
  },
  {
   "cell_type": "code",
   "execution_count": 16,
   "id": "746509a5-7738-4185-8016-501f28effe9c",
   "metadata": {},
   "outputs": [
    {
     "name": "stdout",
     "output_type": "stream",
     "text": [
      "--> processed: 1000\n",
      "--> processed: 2000\n",
      "--> processed: 3000\n",
      "--> processed: 4000\n",
      "--> processed: 5000\n",
      "--> processed: 6000\n",
      "--> processed: 7000\n",
      "--> processed: 8000\n",
      "--> processed: 9000\n",
      "--> processed: 10000\n",
      "--> processed: 11000\n",
      "--> processed: 12000\n",
      "--> processed: 13000\n",
      "--> processed: 14000\n",
      "--> processed: 15000\n",
      "--> processed: 16000\n",
      "--> processed: 17000\n",
      "--> processed: 18000\n",
      "--> processed: 19000\n",
      "--> processed: 20000\n",
      "--> processed: 21000\n",
      "--> processed: 22000\n",
      "--> processed: 23000\n",
      "--> processed: 24000\n",
      "--> processed: 25000\n",
      "--> processed: 26000\n",
      "--> processed: 27000\n",
      "--> processed: 28000\n",
      "--> processed: 29000\n",
      "--> processed: 30000\n",
      "--> processed: 31000\n",
      "--> processed: 32000\n",
      "--> processed: 33000\n",
      "--> processed: 34000\n",
      "--> processed: 35000\n",
      "--> processed: 36000\n",
      "--> processed: 37000\n",
      "--> processed: 38000\n",
      "--> processed: 39000\n",
      "--> processed: 40000\n",
      "--> processed: 41000\n",
      "--> processed: 42000\n",
      "--> processed: 43000\n",
      "--> processed: 44000\n",
      "--> processed: 45000\n",
      "--> processed: 46000\n",
      "--> processed: 47000\n",
      "--> processed: 48000\n",
      "--> processed: 49000\n",
      "--> processed: 50000\n",
      "--> processed: 51000\n",
      "--> processed: 52000\n",
      "--> processed: 53000\n",
      "--> processed: 54000\n",
      "--> processed: 55000\n",
      "--> processed: 56000\n",
      "--> processed: 57000\n",
      "--> processed: 58000\n",
      "--> processed: 59000\n",
      "--> processed: 60000\n",
      "--> processed: 61000\n",
      "--> processed: 62000\n",
      "--> processed: 63000\n",
      "--> processed: 64000\n",
      "--> processed: 65000\n",
      "--> processed: 66000\n",
      "--> processed: 67000\n",
      "--> processed: 68000\n",
      "--> processed: 69000\n",
      "--> processed: 70000\n",
      "--> processed: 71000\n",
      "--> processed: 72000\n",
      "--> processed: 73000\n",
      "--> processed: 74000\n",
      "--> processed: 75000\n",
      "--> processed: 76000\n",
      "--> processed: 77000\n",
      "--> processed: 78000\n",
      "--> processed: 79000\n",
      "--> processed: 80000\n",
      "--> processed: 81000\n",
      "--> processed: 82000\n",
      "--> processed: 83000\n",
      "--> processed: 84000\n",
      "--> processed: 85000\n",
      "--> processed: 86000\n",
      "--> processed: 87000\n",
      "--> processed: 88000\n",
      "--> processed: 89000\n",
      "--> processed: 90000\n",
      "--> processed: 91000\n",
      "--> processed: 92000\n",
      "--> processed: 93000\n",
      "--> processed: 94000\n",
      "--> processed: 95000\n",
      "--> processed: 96000\n",
      "--> processed: 97000\n",
      "--> processed: 98000\n",
      "--> processed: 99000\n",
      "--> processed: 100000\n",
      "--> processed: 101000\n",
      "--> processed: 102000\n",
      "--> processed: 103000\n",
      "--> processed: 104000\n",
      "--> processed: 105000\n",
      "--> processed: 106000\n",
      "--> processed: 107000\n",
      "--> processed: 108000\n",
      "--> processed: 109000\n",
      "--> processed: 110000\n",
      "--> processed: 111000\n",
      "--> processed: 112000\n",
      "--> processed: 113000\n",
      "--> processed: 114000\n",
      "--> processed: 115000\n",
      "--> processed: 116000\n",
      "--> processed: 117000\n",
      "--> processed: 118000\n",
      "--> processed: 119000\n",
      "--> processed: 120000\n",
      "--> processed: 121000\n",
      "--> processed: 122000\n",
      "--> processed: 123000\n",
      "--> processed: 124000\n",
      "--> processed: 125000\n",
      "--> processed: 126000\n",
      "--> processed: 127000\n",
      "--> processed: 128000\n",
      "--> processed: 129000\n",
      "--> processed: 130000\n",
      "--> processed: 131000\n",
      "--> processed: 132000\n",
      "--> processed: 133000\n",
      "--> processed: 134000\n",
      "--> processed: 135000\n",
      "--> processed: 136000\n",
      "--> processed: 137000\n",
      "--> processed: 138000\n",
      "--> processed: 139000\n",
      "--> processed: 140000\n",
      "--> processed: 141000\n",
      "--> processed: 142000\n",
      "--> processed: 143000\n",
      "--> processed: 144000\n",
      "--> processed: 145000\n",
      "--> processed: 146000\n",
      "--> processed: 147000\n",
      "--> processed: 148000\n",
      "--> processed: 149000\n",
      "--> processed: 150000\n",
      "--> processed: 151000\n",
      "--> processed: 152000\n",
      "--> processed: 153000\n",
      "--> processed: 154000\n",
      "--> processed: 155000\n",
      "--> processed: 156000\n",
      "--> processed: 157000\n",
      "--> processed: 158000\n",
      "--> processed: 159000\n",
      "--> processed: 160000\n",
      "--> processed: 161000\n",
      "--> processed: 162000\n",
      "--> processed: 163000\n",
      "--> processed: 164000\n",
      "--> processed: 165000\n",
      "--> processed: 166000\n",
      "--> processed: 167000\n",
      "--> processed: 168000\n",
      "--> processed: 169000\n",
      "--> processed: 170000\n",
      "--> processed: 171000\n",
      "--> processed: 172000\n",
      "--> processed: 173000\n",
      "--> processed: 174000\n",
      "--> processed: 175000\n",
      "--> processed: 176000\n",
      "--> processed: 177000\n",
      "--> processed: 178000\n",
      "--> processed: 179000\n",
      "--> processed: 180000\n",
      "--> processed: 181000\n",
      "--> processed: 182000\n",
      "--> processed: 183000\n",
      "--> processed: 184000\n",
      "--> processed: 185000\n",
      "--> processed: 186000\n",
      "--> processed: 187000\n",
      "--> processed: 188000\n",
      "--> processed: 189000\n",
      "--> processed: 190000\n",
      "--> processed: 191000\n",
      "--> processed: 192000\n",
      "--> processed: 193000\n",
      "--> processed: 194000\n",
      "--> processed: 195000\n",
      "--> processed: 196000\n",
      "--> processed: 197000\n",
      "--> processed: 198000\n",
      "--> processed: 199000\n",
      "--> processed: 200000\n",
      "--> processed: 201000\n",
      "--> processed: 202000\n",
      "--> processed: 203000\n",
      "--> processed: 204000\n",
      "--> processed: 205000\n",
      "--> processed: 206000\n",
      "--> processed: 207000\n",
      "--> processed: 208000\n",
      "--> processed: 209000\n",
      "--> processed: 210000\n",
      "--> processed: 211000\n",
      "--> processed: 212000\n",
      "--> processed: 213000\n",
      "--> processed: 214000\n",
      "--> processed: 215000\n",
      "--> processed: 216000\n",
      "--> processed: 217000\n",
      "--> processed: 218000\n",
      "--> processed: 219000\n",
      "--> processed: 220000\n",
      "--> processed: 221000\n",
      "--> processed: 222000\n",
      "--> processed: 223000\n",
      "--> processed: 224000\n",
      "--> processed: 225000\n",
      "--> processed: 226000\n",
      "--> processed: 227000\n",
      "--> processed: 228000\n",
      "--> processed: 229000\n",
      "--> processed: 230000\n",
      "--> processed: 231000\n",
      "--> processed: 232000\n",
      "--> processed: 233000\n",
      "--> processed: 234000\n",
      "--> processed: 235000\n",
      "--> processed: 236000\n",
      "--> processed: 237000\n",
      "--> processed: 238000\n",
      "--> processed: 239000\n",
      "--> processed: 240000\n",
      "--> processed: 241000\n",
      "--> processed: 242000\n",
      "--> processed: 243000\n",
      "--> processed: 244000\n",
      "--> processed: 245000\n",
      "--> processed: 246000\n",
      "--> processed: 247000\n",
      "--> processed: 248000\n",
      "--> processed: 249000\n",
      "--> processed: 250000\n",
      "--> processed: 251000\n",
      "--> processed: 252000\n",
      "--> processed: 253000\n",
      "--> processed: 254000\n",
      "--> processed: 255000\n",
      "--> processed: 256000\n",
      "--> processed: 257000\n",
      "--> processed: 258000\n",
      "--> processed: 259000\n",
      "--> processed: 260000\n",
      "--> processed: 261000\n",
      "--> processed: 262000\n",
      "--> processed: 263000\n",
      "--> processed: 264000\n",
      "--> processed: 265000\n",
      "--> processed: 266000\n",
      "--> processed: 267000\n",
      "--> processed: 268000\n",
      "--> processed: 269000\n",
      "--> processed: 270000\n",
      "--> processed: 271000\n",
      "--> processed: 272000\n",
      "--> processed: 273000\n",
      "--> processed: 274000\n",
      "--> processed: 275000\n",
      "--> processed: 276000\n",
      "--> processed: 277000\n",
      "--> processed: 278000\n",
      "--> processed: 279000\n",
      "--> processed: 280000\n",
      "--> processed: 281000\n",
      "--> processed: 282000\n",
      "--> processed: 283000\n",
      "--> processed: 284000\n",
      "--> processed: 285000\n",
      "--> processed: 286000\n",
      "--> processed: 287000\n",
      "--> processed: 288000\n",
      "--> processed: 289000\n",
      "--> processed: 290000\n",
      "--> processed: 291000\n",
      "--> processed: 292000\n",
      "--> processed: 293000\n",
      "--> processed: 294000\n",
      "--> processed: 295000\n",
      "--> processed: 296000\n",
      "--> processed: 297000\n",
      "--> processed: 298000\n",
      "--> processed: 299000\n",
      "--> processed: 300000\n",
      "--> processed: 301000\n",
      "--> processed: 302000\n",
      "--> processed: 303000\n",
      "--> processed: 304000\n",
      "--> processed: 305000\n",
      "--> processed: 306000\n",
      "--> processed: 307000\n",
      "--> processed: 308000\n",
      "--> processed: 309000\n",
      "--> processed: 310000\n",
      "--> processed: 311000\n",
      "--> processed: 312000\n",
      "--> processed: 313000\n",
      "--> processed: 314000\n",
      "--> processed: 315000\n",
      "--> processed: 316000\n",
      "--> processed: 317000\n",
      "--> processed: 318000\n",
      "--> processed: 319000\n",
      "--> processed: 320000\n",
      "--> processed: 321000\n",
      "--> processed: 322000\n",
      "--> processed: 323000\n",
      "--> processed: 324000\n",
      "--> processed: 325000\n",
      "--> processed: 326000\n",
      "--> processed: 327000\n",
      "--> processed: 328000\n",
      "--> processed: 329000\n",
      "--> processed: 330000\n",
      "--> processed: 331000\n",
      "--> processed: 332000\n",
      "--> processed: 333000\n",
      "--> processed: 334000\n",
      "--> processed: 335000\n",
      "--> processed: 336000\n",
      "--> processed: 337000\n",
      "--> processed: 338000\n",
      "--> processed: 339000\n",
      "--> processed: 340000\n",
      "--> processed: 341000\n",
      "--> processed: 342000\n",
      "--> processed: 343000\n",
      "--> processed: 344000\n",
      "--> processed: 345000\n",
      "--> processed: 346000\n",
      "--> processed: 347000\n",
      "--> processed: 348000\n",
      "--> processed: 349000\n",
      "--> processed: 350000\n",
      "--> processed: 351000\n",
      "--> processed: 352000\n",
      "--> processed: 353000\n",
      "--> processed: 354000\n",
      "- tag coded-OpenCalaisV2ArticleCoder: 43816\n",
      "- tag export_to_context-20191126-164206: 43816\n",
      "- tag grp_month: 441\n",
      "- tag local_hard_news: 43816\n",
      "- tag minnesota1-20160328: 147\n",
      "- tag minnesota2-20160328: 147\n",
      "- tag minnesota3-20160328: 147\n",
      "- tag prelim_network: 109\n",
      "- tag prelim_reliability: 19\n",
      "- tag prelim_reliability_combined: 60\n",
      "- tag prelim_reliability_test: 60\n",
      "- tag prelim_training_001: 40\n",
      "- tag prelim_training_002: 30\n",
      "- tag prelim_training_003: 60\n",
      "- tag prelim_unit_test_001: 10\n",
      "- tag prelim_unit_test_002: 10\n",
      "- tag prelim_unit_test_003: 10\n",
      "- tag prelim_unit_test_004: 10\n",
      "- tag prelim_unit_test_005: 10\n",
      "- tag prelim_unit_test_006: 10\n",
      "- tag prelim_unit_test_007: 10\n"
     ]
    }
   ],
   "source": [
    "# declare variables\n",
    "tag_to_count_map = None\n",
    "tag_list = None\n",
    "tag_name = None\n",
    "tag_count = None\n",
    "\n",
    "# all articles:\n",
    "tag_to_count_map = create_tag_summary( grp_article_qs )\n",
    "\n",
    "# output summary\n",
    "tag_list = list( tag_to_count_map.keys() )\n",
    "tag_list.sort()\n",
    "for tag_name in tag_list:\n",
    "\n",
    "    tag_count = tag_to_count_map.get( tag_name, 0 )\n",
    "    print( \"- tag {}: {}\".format( tag_name, tag_count ) )\n",
    "    \n",
    "#-- END loop over tag counts --#"
   ]
  },
  {
   "cell_type": "markdown",
   "id": "6b10a270-56e9-4a31-a185-13b67a30b638",
   "metadata": {},
   "source": [
    "#### GRP - hard news article tags"
   ]
  },
  {
   "cell_type": "code",
   "execution_count": 15,
   "id": "84c3489b-8627-4214-b841-6c1e91214ef3",
   "metadata": {},
   "outputs": [
    {
     "name": "stdout",
     "output_type": "stream",
     "text": [
      "--> processed: 1000\n",
      "--> processed: 2000\n",
      "--> processed: 3000\n",
      "--> processed: 4000\n",
      "--> processed: 5000\n",
      "--> processed: 6000\n",
      "--> processed: 7000\n",
      "--> processed: 8000\n",
      "--> processed: 9000\n",
      "--> processed: 10000\n",
      "--> processed: 11000\n",
      "--> processed: 12000\n",
      "--> processed: 13000\n",
      "--> processed: 14000\n",
      "--> processed: 15000\n",
      "--> processed: 16000\n",
      "--> processed: 17000\n",
      "--> processed: 18000\n",
      "--> processed: 19000\n",
      "--> processed: 20000\n",
      "--> processed: 21000\n",
      "--> processed: 22000\n",
      "--> processed: 23000\n",
      "--> processed: 24000\n",
      "--> processed: 25000\n",
      "--> processed: 26000\n",
      "--> processed: 27000\n",
      "--> processed: 28000\n",
      "--> processed: 29000\n",
      "--> processed: 30000\n",
      "--> processed: 31000\n",
      "--> processed: 32000\n",
      "--> processed: 33000\n",
      "--> processed: 34000\n",
      "--> processed: 35000\n",
      "--> processed: 36000\n",
      "--> processed: 37000\n",
      "--> processed: 38000\n",
      "--> processed: 39000\n",
      "--> processed: 40000\n",
      "--> processed: 41000\n",
      "--> processed: 42000\n",
      "--> processed: 43000\n",
      "- tag coded-OpenCalaisV2ArticleCoder: 43816\n",
      "- tag export_to_context-20191126-164206: 43816\n",
      "- tag grp_month: 441\n",
      "- tag local_hard_news: 43816\n",
      "- tag minnesota1-20160328: 147\n",
      "- tag minnesota2-20160328: 147\n",
      "- tag minnesota3-20160328: 147\n",
      "- tag prelim_network: 109\n",
      "- tag prelim_reliability: 19\n",
      "- tag prelim_reliability_combined: 60\n",
      "- tag prelim_reliability_test: 60\n",
      "- tag prelim_training_001: 40\n",
      "- tag prelim_training_002: 30\n",
      "- tag prelim_training_003: 60\n",
      "- tag prelim_unit_test_001: 10\n",
      "- tag prelim_unit_test_002: 10\n",
      "- tag prelim_unit_test_003: 10\n",
      "- tag prelim_unit_test_004: 10\n",
      "- tag prelim_unit_test_005: 10\n",
      "- tag prelim_unit_test_006: 10\n",
      "- tag prelim_unit_test_007: 10\n"
     ]
    }
   ],
   "source": [
    "# declare variables\n",
    "tag_to_count_map = None\n",
    "tag_list = None\n",
    "tag_name = None\n",
    "tag_count = None\n",
    "\n",
    "# all articles:\n",
    "tag_to_count_map = create_tag_summary( grp_news_article_qs )\n",
    "\n",
    "# output summary\n",
    "tag_list = list( tag_to_count_map.keys() )\n",
    "tag_list.sort()\n",
    "for tag_name in tag_list:\n",
    "\n",
    "    tag_count = tag_to_count_map.get( tag_name, 0 )\n",
    "    print( \"- tag {}: {}\".format( tag_name, tag_count ) )\n",
    "    \n",
    "#-- END loop over tag counts --#"
   ]
  },
  {
   "cell_type": "markdown",
   "id": "db7397cd-ee1b-4dfa-b61a-d42db5d93c15",
   "metadata": {},
   "source": [
    "## The Detroit News (TDN)"
   ]
  },
  {
   "cell_type": "code",
   "execution_count": 17,
   "id": "47f4e765-4c2b-46f6-84ff-97debf9c3916",
   "metadata": {},
   "outputs": [
    {
     "name": "stdout",
     "output_type": "stream",
     "text": [
      "159716 Article instances for newspaper 2 - Detroit News, The ( DTNB ).\n"
     ]
    }
   ],
   "source": [
    "# get automated coder user.\n",
    "#automated_coder = ArticleCoder.get_automated_coding_user()\n",
    "my_newspaper = detroit_news\n",
    "\n",
    "# filter to just Article_Data coded by this user.\n",
    "tdn_article_qs = article_qs.filter( newspaper = my_newspaper )\n",
    "\n",
    "# how many now?\n",
    "article_count = tdn_article_qs.count()\n",
    "\n",
    "print( \"{} Article instances for newspaper {}.\".format( article_count, my_newspaper ) )"
   ]
  },
  {
   "cell_type": "markdown",
   "id": "be2fa2dc-ee99-44df-898a-0bc9032bf764",
   "metadata": {},
   "source": [
    "### TDN - coded tag"
   ]
  },
  {
   "cell_type": "code",
   "execution_count": 18,
   "id": "8eebbbea-4e96-413e-9cb4-d70bfe3875df",
   "metadata": {},
   "outputs": [
    {
     "name": "stdout",
     "output_type": "stream",
     "text": [
      "Tags ['coded-OpenCalaisV2ArticleCoder'] - Matching article count: 27\n"
     ]
    }
   ],
   "source": [
    "tags_in_list = []\n",
    "tags_in_list.append( OpenCalaisV2ArticleCoder.TAG_CODED_BY_ME )\n",
    "tdn_coded_article_qs = tdn_article_qs.filter( tags__name__in = tags_in_list )\n",
    "print( \"Tags {} - Matching article count: {}\".format( tags_in_list, tdn_coded_article_qs.count() ) )"
   ]
  },
  {
   "cell_type": "markdown",
   "id": "1e5215c8-cb3f-4f76-8d1e-d2863bcf53ad",
   "metadata": {},
   "source": [
    "### TDN - hard news tag"
   ]
  },
  {
   "cell_type": "code",
   "execution_count": 19,
   "id": "06fb7538-2f9e-475d-8856-3cfcc91986ac",
   "metadata": {},
   "outputs": [
    {
     "name": "stdout",
     "output_type": "stream",
     "text": [
      "Tags ['local_hard_news'] - Matching article count: 0\n"
     ]
    }
   ],
   "source": [
    "tags_in_list = []\n",
    "tags_in_list.append( ContextTextBase.TAG_LOCAL_HARD_NEWS )\n",
    "tdn_news_article_qs = tdn_article_qs.filter( tags__name__in = tags_in_list )\n",
    "print( \"Tags {} - Matching article count: {}\".format( tags_in_list, tdn_news_article_qs.count() ) )"
   ]
  },
  {
   "cell_type": "markdown",
   "id": "b7070057-dd48-45d9-b17d-625c30152946",
   "metadata": {},
   "source": [
    "### TDN - date ranges\n",
    "\n",
    "Get min and max publication dates for articles within a QuerySet.\n",
    "\n",
    "- Django aggregation function guide: [https://docs.djangoproject.com/en/4.0/topics/db/aggregation/](https://docs.djangoproject.com/en/4.0/topics/db/aggregation/)"
   ]
  },
  {
   "cell_type": "code",
   "execution_count": 20,
   "id": "568fcefe-39e9-45c8-836b-9325e9cf0486",
   "metadata": {},
   "outputs": [
    {
     "name": "stdout",
     "output_type": "stream",
     "text": [
      "Min pubdate: 2005-01-01 ( {'pub_date__min': datetime.date(2005, 1, 1)} )\n"
     ]
    }
   ],
   "source": [
    "# minimum publication date\n",
    "work_qs = tdn_article_qs\n",
    "aggregate_value_dict = work_qs.aggregate( Min( \"pub_date\" ) )  \n",
    "min_pubdate = aggregate_value_dict[ \"pub_date__min\" ]\n",
    "print( \"Min pubdate: {min_pubdate} ( {agg_dict} )\".format( min_pubdate = min_pubdate, agg_dict = aggregate_value_dict ) )"
   ]
  },
  {
   "cell_type": "code",
   "execution_count": 22,
   "id": "ff3ce16b-f71a-45a3-abc9-3e3dda70ce4a",
   "metadata": {},
   "outputs": [
    {
     "name": "stdout",
     "output_type": "stream",
     "text": [
      "Max pubdate: 2010-10-31 ( {'pub_date__max': datetime.date(2010, 10, 31)} )\n"
     ]
    }
   ],
   "source": [
    "# maximum publication date\n",
    "work_qs = tdn_article_qs\n",
    "aggregate_value_dict = work_qs.aggregate( Max( \"pub_date\" ) )  \n",
    "max_pubdate = aggregate_value_dict[ \"pub_date__max\" ]\n",
    "print( \"Max pubdate: {max_pubdate} ( {agg_dict} )\".format( max_pubdate = max_pubdate, agg_dict = aggregate_value_dict ) )"
   ]
  },
  {
   "cell_type": "markdown",
   "id": "383f2901-83ae-4e19-af5c-d9e2b5ba2555",
   "metadata": {},
   "source": [
    "### TDN - tags overview "
   ]
  },
  {
   "cell_type": "markdown",
   "id": "497fcb5d-7ac1-4920-a692-adab667cdd6d",
   "metadata": {
    "tags": []
   },
   "source": [
    "#### TDN - all article tags"
   ]
  },
  {
   "cell_type": "code",
   "execution_count": 23,
   "id": "0ef2f32a-46af-4f11-8a84-48fecf4d5713",
   "metadata": {},
   "outputs": [
    {
     "name": "stdout",
     "output_type": "stream",
     "text": [
      "--> processed: 1000\n",
      "--> processed: 2000\n",
      "--> processed: 3000\n",
      "--> processed: 4000\n",
      "--> processed: 5000\n",
      "--> processed: 6000\n",
      "--> processed: 7000\n",
      "--> processed: 8000\n",
      "--> processed: 9000\n",
      "--> processed: 10000\n",
      "--> processed: 11000\n",
      "--> processed: 12000\n",
      "--> processed: 13000\n",
      "--> processed: 14000\n",
      "--> processed: 15000\n",
      "--> processed: 16000\n",
      "--> processed: 17000\n",
      "--> processed: 18000\n",
      "--> processed: 19000\n",
      "--> processed: 20000\n",
      "--> processed: 21000\n",
      "--> processed: 22000\n",
      "--> processed: 23000\n",
      "--> processed: 24000\n",
      "--> processed: 25000\n",
      "--> processed: 26000\n",
      "--> processed: 27000\n",
      "--> processed: 28000\n",
      "--> processed: 29000\n",
      "--> processed: 30000\n",
      "--> processed: 31000\n",
      "--> processed: 32000\n",
      "--> processed: 33000\n",
      "--> processed: 34000\n",
      "--> processed: 35000\n",
      "--> processed: 36000\n",
      "--> processed: 37000\n",
      "--> processed: 38000\n",
      "--> processed: 39000\n",
      "--> processed: 40000\n",
      "--> processed: 41000\n",
      "--> processed: 42000\n",
      "--> processed: 43000\n",
      "--> processed: 44000\n",
      "--> processed: 45000\n",
      "--> processed: 46000\n",
      "--> processed: 47000\n",
      "--> processed: 48000\n",
      "--> processed: 49000\n",
      "--> processed: 50000\n",
      "--> processed: 51000\n",
      "--> processed: 52000\n",
      "--> processed: 53000\n",
      "--> processed: 54000\n",
      "--> processed: 55000\n",
      "--> processed: 56000\n",
      "--> processed: 57000\n",
      "--> processed: 58000\n",
      "--> processed: 59000\n",
      "--> processed: 60000\n",
      "--> processed: 61000\n",
      "--> processed: 62000\n",
      "--> processed: 63000\n",
      "--> processed: 64000\n",
      "--> processed: 65000\n",
      "--> processed: 66000\n",
      "--> processed: 67000\n",
      "--> processed: 68000\n",
      "--> processed: 69000\n",
      "--> processed: 70000\n",
      "--> processed: 71000\n",
      "--> processed: 72000\n",
      "--> processed: 73000\n",
      "--> processed: 74000\n",
      "--> processed: 75000\n",
      "--> processed: 76000\n",
      "--> processed: 77000\n",
      "--> processed: 78000\n",
      "--> processed: 79000\n",
      "--> processed: 80000\n",
      "--> processed: 81000\n",
      "--> processed: 82000\n",
      "--> processed: 83000\n",
      "--> processed: 84000\n",
      "--> processed: 85000\n",
      "--> processed: 86000\n",
      "--> processed: 87000\n",
      "--> processed: 88000\n",
      "--> processed: 89000\n",
      "--> processed: 90000\n",
      "--> processed: 91000\n",
      "--> processed: 92000\n",
      "--> processed: 93000\n",
      "--> processed: 94000\n",
      "--> processed: 95000\n",
      "--> processed: 96000\n",
      "--> processed: 97000\n",
      "--> processed: 98000\n",
      "--> processed: 99000\n",
      "--> processed: 100000\n",
      "--> processed: 101000\n",
      "--> processed: 102000\n",
      "--> processed: 103000\n",
      "--> processed: 104000\n",
      "--> processed: 105000\n",
      "--> processed: 106000\n",
      "--> processed: 107000\n",
      "--> processed: 108000\n",
      "--> processed: 109000\n",
      "--> processed: 110000\n",
      "--> processed: 111000\n",
      "--> processed: 112000\n",
      "--> processed: 113000\n",
      "--> processed: 114000\n",
      "--> processed: 115000\n",
      "--> processed: 116000\n",
      "--> processed: 117000\n",
      "--> processed: 118000\n",
      "--> processed: 119000\n",
      "--> processed: 120000\n",
      "--> processed: 121000\n",
      "--> processed: 122000\n",
      "--> processed: 123000\n",
      "--> processed: 124000\n",
      "--> processed: 125000\n",
      "--> processed: 126000\n",
      "--> processed: 127000\n",
      "--> processed: 128000\n",
      "--> processed: 129000\n",
      "--> processed: 130000\n",
      "--> processed: 131000\n",
      "--> processed: 132000\n",
      "--> processed: 133000\n",
      "--> processed: 134000\n",
      "--> processed: 135000\n",
      "--> processed: 136000\n",
      "--> processed: 137000\n",
      "--> processed: 138000\n",
      "--> processed: 139000\n",
      "--> processed: 140000\n",
      "--> processed: 141000\n",
      "--> processed: 142000\n",
      "--> processed: 143000\n",
      "--> processed: 144000\n",
      "--> processed: 145000\n",
      "--> processed: 146000\n",
      "--> processed: 147000\n",
      "--> processed: 148000\n",
      "--> processed: 149000\n",
      "--> processed: 150000\n",
      "--> processed: 151000\n",
      "--> processed: 152000\n",
      "--> processed: 153000\n",
      "--> processed: 154000\n",
      "--> processed: 155000\n",
      "--> processed: 156000\n",
      "--> processed: 157000\n",
      "--> processed: 158000\n",
      "--> processed: 159000\n",
      "- tag coded-OpenCalaisV2ArticleCoder: 27\n",
      "- tag export_to_context-20191126-164206: 27\n",
      "- tag minnesota1-20160409: 27\n",
      "- tag minnesota2-20160409: 27\n",
      "- tag minnesota3-20160409: 27\n",
      "- tag prelim_reliability: 27\n",
      "- tag prelim_reliability_combined: 27\n"
     ]
    }
   ],
   "source": [
    "# declare variables\n",
    "tag_to_count_map = None\n",
    "tag_list = None\n",
    "tag_name = None\n",
    "tag_count = None\n",
    "\n",
    "# all articles:\n",
    "tag_to_count_map = create_tag_summary( tdn_article_qs )\n",
    "\n",
    "# output summary\n",
    "tag_list = list( tag_to_count_map.keys() )\n",
    "tag_list.sort()\n",
    "for tag_name in tag_list:\n",
    "\n",
    "    tag_count = tag_to_count_map.get( tag_name, 0 )\n",
    "    print( \"- tag {}: {}\".format( tag_name, tag_count ) )\n",
    "    \n",
    "#-- END loop over tag counts --#"
   ]
  }
 ],
 "metadata": {
  "kernelspec": {
   "display_name": "research_virtualenv",
   "language": "python",
   "name": "research"
  },
  "language_info": {
   "codemirror_mode": {
    "name": "ipython",
    "version": 3
   },
   "file_extension": ".py",
   "mimetype": "text/x-python",
   "name": "python",
   "nbconvert_exporter": "python",
   "pygments_lexer": "ipython3",
   "version": "3.10.4"
  },
  "toc-autonumbering": true
 },
 "nbformat": 4,
 "nbformat_minor": 5
}
