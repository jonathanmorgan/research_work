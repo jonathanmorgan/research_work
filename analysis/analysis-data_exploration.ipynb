{
 "cells": [
  {
   "cell_type": "markdown",
   "id": "ba4ccabf-42d0-4217-8baf-87bd790d8478",
   "metadata": {},
   "source": [
    "# Setup"
   ]
  },
  {
   "cell_type": "markdown",
   "id": "089876e6-2d2f-4fd0-96f6-730520fb0bab",
   "metadata": {},
   "source": [
    "## Setup - Imports"
   ]
  },
  {
   "cell_type": "code",
   "execution_count": 2,
   "id": "47c3f417-8fcb-49c1-85f3-44c070e980fe",
   "metadata": {},
   "outputs": [
    {
     "name": "stdout",
     "output_type": "stream",
     "text": [
      "packages imported at 2022-05-04 18:47:28.870186\n"
     ]
    }
   ],
   "source": [
    "# python base imports\n",
    "import datetime\n",
    "\n",
    "# import six\n",
    "import six\n",
    "\n",
    "print( \"packages imported at \" + str( datetime.datetime.now() ) )"
   ]
  },
  {
   "cell_type": "markdown",
   "id": "17939321-ff9b-4230-84ef-5165d0d8820a",
   "metadata": {},
   "source": [
    "## Setup - Initialize Django\n",
    "\n",
    "- Back to [Table of Contents](#Table-of-Contents)\n",
    "\n",
    "First, initialize my dev django project, so I can run code in this notebook that references my django models and can talk to the database using my project's settings."
   ]
  },
  {
   "cell_type": "code",
   "execution_count": 1,
   "id": "f2ea6891-3f5d-48f3-b819-a8ba8fa9d869",
   "metadata": {},
   "outputs": [
    {
     "name": "stdout",
     "output_type": "stream",
     "text": [
      "django initialized at 2022-05-04 18:42:12.880035\n"
     ]
    }
   ],
   "source": [
    "%run ../django_init.py"
   ]
  },
  {
   "cell_type": "code",
   "execution_count": 35,
   "id": "4c4c9544-0d64-4cf1-baca-f1226617dec1",
   "metadata": {},
   "outputs": [
    {
     "name": "stdout",
     "output_type": "stream",
     "text": [
      "django model packages imported at 2022-05-05 03:21:08.413566\n"
     ]
    }
   ],
   "source": [
    "# django imports\n",
    "from django.contrib.auth.models import User\n",
    "\n",
    "# sourcenet imports\n",
    "from context_text.shared.context_text_base import ContextTextBase\n",
    "\n",
    "# context_analysis imports\n",
    "from context_analysis.network.network_person_info import NetworkPersonInfo\n",
    "\n",
    "# sourcenet imports\n",
    "from context_text.models import Article\n",
    "from context_text.models import Article_Data\n",
    "from context_text.models import Newspaper\n",
    "from context_text.models import Person\n",
    "\n",
    "# article coding\n",
    "from context_text.article_coding.article_coder import ArticleCoder\n",
    "#from context_text.article_coding.article_coding import ArticleCoding\n",
    "from context_text.article_coding.open_calais_v2.open_calais_v2_article_coder import OpenCalaisV2ArticleCoder\n",
    "\n",
    "# context_text shared\n",
    "from context_text.shared.context_text_base import ContextTextBase\n",
    "\n",
    "print( \"django model packages imported at \" + str( datetime.datetime.now() ) )"
   ]
  },
  {
   "cell_type": "markdown",
   "id": "732b5099-9487-4c60-a4bd-35df7a6bf144",
   "metadata": {},
   "source": [
    "## Setup - Important instances"
   ]
  },
  {
   "cell_type": "code",
   "execution_count": 19,
   "id": "3033a36d-b69a-4caf-89bd-9d8d7780e83c",
   "metadata": {},
   "outputs": [],
   "source": [
    "# get ArticleCoding instance.\n",
    "#article_coding = ArticleCoding()\n",
    "\n",
    "# automated coding user\n",
    "automated_coder = ArticleCoder.get_automated_coding_user()\n",
    "\n",
    "# newspapers for Grand Rapids Press and Detroit News.\n",
    "grand_rapids_press = Newspaper.objects.get( newsbank_code = \"GRPB\" )\n",
    "detroit_news = Newspaper.objects.get( newsbank_code = \"DTNB\" )"
   ]
  },
  {
   "cell_type": "markdown",
   "id": "f5bef787-23ea-468f-a953-12ec0106c61e",
   "metadata": {},
   "source": [
    "# Filter Articles\n",
    "\n",
    "- Using details from: [newsbank-article_coding.ipynb](../data/article_coding/newsbank-article_coding.ipynb)"
   ]
  },
  {
   "cell_type": "code",
   "execution_count": 39,
   "id": "1c44668d-67e8-4bac-b6aa-714f873a1791",
   "metadata": {},
   "outputs": [],
   "source": [
    "article_qs = Article.objects.all()"
   ]
  },
  {
   "cell_type": "markdown",
   "id": "09f53b8c-9c95-4eeb-bd78-911f5cdc63b4",
   "metadata": {},
   "source": [
    "## Detroit News"
   ]
  },
  {
   "cell_type": "code",
   "execution_count": 36,
   "id": "47f4e765-4c2b-46f6-84ff-97debf9c3916",
   "metadata": {},
   "outputs": [
    {
     "name": "stdout",
     "output_type": "stream",
     "text": [
      "27 Article instances for newspaper 2 - Detroit News, The ( DTNB ).\n"
     ]
    }
   ],
   "source": [
    "# get automated coder user.\n",
    "#automated_coder = ArticleCoder.get_automated_coding_user()\n",
    "my_newspaper = detroit_news\n",
    "\n",
    "# filter to just Article_Data coded by this user.\n",
    "article_qs = article_qs.filter( newspaper = my_newspaper )\n",
    "\n",
    "# how many now?\n",
    "article_data_count = article_qs.count()\n",
    "\n",
    "print( \"{} Article instances for newspaper {}.\".format( article_data_count, my_newspaper ) )"
   ]
  },
  {
   "cell_type": "markdown",
   "id": "d1a50e16-8456-4f9d-a04c-11db28fe3fc8",
   "metadata": {},
   "source": [
    "### Detroit News - coded tag"
   ]
  },
  {
   "cell_type": "code",
   "execution_count": 34,
   "id": "8eebbbea-4e96-413e-9cb4-d70bfe3875df",
   "metadata": {},
   "outputs": [
    {
     "name": "stdout",
     "output_type": "stream",
     "text": [
      "Matching article count: 27\n"
     ]
    }
   ],
   "source": [
    "tags_in_list = []\n",
    "tags_in_list.append( OpenCalaisV2ArticleCoder.TAG_CODED_BY_ME )\n",
    "article_qs = article_qs.filter( tags__name__in = tags_in_list )\n",
    "print( \"Tags {} - Matching article count: {}\".format( tags_in_list, article_qs.count() ) )"
   ]
  },
  {
   "cell_type": "markdown",
   "id": "3e0f8fd6-ed99-4850-8d18-060d1c0f84b8",
   "metadata": {},
   "source": [
    "### Detroit News - hard news tag"
   ]
  },
  {
   "cell_type": "code",
   "execution_count": 37,
   "id": "06fb7538-2f9e-475d-8856-3cfcc91986ac",
   "metadata": {},
   "outputs": [
    {
     "name": "stdout",
     "output_type": "stream",
     "text": [
      "Tags ['local_hard_news'] - Matching article count: 0\n"
     ]
    }
   ],
   "source": [
    "tags_in_list = []\n",
    "tags_in_list.append( ContextTextBase.TAG_LOCAL_HARD_NEWS )\n",
    "article_qs = article_qs.filter( tags__name__in = tags_in_list )\n",
    "print( \"Tags {} - Matching article count: {}\".format( tags_in_list, article_qs.count() ) )"
   ]
  },
  {
   "cell_type": "markdown",
   "id": "9b8e9e94-1c25-46b9-a3cd-2de3047d9bcf",
   "metadata": {},
   "source": [
    "## Grand Rapids Press"
   ]
  },
  {
   "cell_type": "code",
   "execution_count": 40,
   "id": "176ef7be-1686-4d3f-8d75-82a9398a2d5a",
   "metadata": {},
   "outputs": [
    {
     "name": "stdout",
     "output_type": "stream",
     "text": [
      "354315 Article instances for newspaper 1 - Grand Rapids Press, The ( GRPB ).\n"
     ]
    }
   ],
   "source": [
    "# get automated coder user.\n",
    "#automated_coder = ArticleCoder.get_automated_coding_user()\n",
    "my_newspaper = grand_rapids_press\n",
    "\n",
    "# filter to just Article_Data coded by this user.\n",
    "article_qs = article_qs.filter( newspaper = my_newspaper )\n",
    "\n",
    "# how many now?\n",
    "article_data_count = article_qs.count()\n",
    "\n",
    "print( \"{} Article instances for newspaper {}.\".format( article_data_count, my_newspaper ) )"
   ]
  },
  {
   "cell_type": "markdown",
   "id": "8d52e40b-1a1e-45f2-aca8-4b34f9da45b0",
   "metadata": {},
   "source": [
    "### Grand Rapids Press - coded tag"
   ]
  },
  {
   "cell_type": "code",
   "execution_count": 41,
   "id": "72351bdd-0c7b-4e1f-9a84-e7c65113a169",
   "metadata": {},
   "outputs": [
    {
     "name": "stdout",
     "output_type": "stream",
     "text": [
      "Tags ['coded-OpenCalaisV2ArticleCoder'] - Matching article count: 43816\n"
     ]
    }
   ],
   "source": [
    "tags_in_list = []\n",
    "tags_in_list.append( OpenCalaisV2ArticleCoder.TAG_CODED_BY_ME )\n",
    "article_qs = article_qs.filter( tags__name__in = tags_in_list )\n",
    "print( \"Tags {} - Matching article count: {}\".format( tags_in_list, article_qs.count() ) )"
   ]
  },
  {
   "cell_type": "markdown",
   "id": "70d9698d-b538-486a-81a1-841f9039b8a2",
   "metadata": {},
   "source": [
    "### Grand Rapids Press - hard news tag"
   ]
  },
  {
   "cell_type": "code",
   "execution_count": 42,
   "id": "405264cd-32e4-4b74-8c95-197ac56e3b6d",
   "metadata": {},
   "outputs": [
    {
     "name": "stdout",
     "output_type": "stream",
     "text": [
      "Tags ['local_hard_news'] - Matching article count: 43816\n"
     ]
    }
   ],
   "source": [
    "tags_in_list = []\n",
    "tags_in_list.append( ContextTextBase.TAG_LOCAL_HARD_NEWS )\n",
    "article_qs = article_qs.filter( tags__name__in = tags_in_list )\n",
    "print( \"Tags {} - Matching article count: {}\".format( tags_in_list, article_qs.count() ) )"
   ]
  },
  {
   "cell_type": "markdown",
   "id": "b25d18a6-95bf-4363-bda0-91f87e96fd35",
   "metadata": {
    "tags": []
   },
   "source": [
    "# Filter Article_Data"
   ]
  },
  {
   "cell_type": "code",
   "execution_count": 22,
   "id": "9986c8bb-60b7-420d-be6a-eb1f81e38eee",
   "metadata": {},
   "outputs": [
    {
     "name": "stdout",
     "output_type": "stream",
     "text": [
      "Starting with 45657 total Article_Data instances.\n"
     ]
    }
   ],
   "source": [
    "article_data_qs = None\n",
    "article_data_count = None\n",
    "\n",
    "# get all Article_Data.\n",
    "article_data_qs = Article_Data.objects.all()\n",
    "\n",
    "# how many we starting with?\n",
    "article_data_count = article_data_qs.count()\n",
    "\n",
    "print( \"Starting with {} total Article_Data instances.\".format( article_data_count ) )"
   ]
  },
  {
   "cell_type": "markdown",
   "id": "02e34ac1-04de-415e-a0df-a63424f2e205",
   "metadata": {},
   "source": [
    "## Only automated coder"
   ]
  },
  {
   "cell_type": "code",
   "execution_count": 23,
   "id": "ab8dc939-fb55-4b9a-9b68-73a5b66b07b8",
   "metadata": {},
   "outputs": [
    {
     "name": "stdout",
     "output_type": "stream",
     "text": [
      "44211 Article_Data instances for coder automated.\n"
     ]
    }
   ],
   "source": [
    "# get automated coder user.\n",
    "#automated_coder = ArticleCoder.get_automated_coding_user()\n",
    "\n",
    "# filter to just Article_Data coded by this user.\n",
    "article_data_qs = article_data_qs.filter( coder = automated_coder )\n",
    "\n",
    "# how many now?\n",
    "article_data_count = article_data_qs.count()\n",
    "\n",
    "print( \"{} Article_Data instances for coder {}.\".format( article_data_count, automated_coder ) )"
   ]
  },
  {
   "cell_type": "markdown",
   "id": "ca0dd642-7aca-4530-9f5f-94fc30c172f4",
   "metadata": {},
   "source": [
    "## Only Detroit News"
   ]
  },
  {
   "cell_type": "code",
   "execution_count": 20,
   "id": "67966f9f-edd9-4897-bd3d-6f429040bc50",
   "metadata": {},
   "outputs": [
    {
     "name": "stdout",
     "output_type": "stream",
     "text": [
      "81 Article_Data instances for newspaper 2 - Detroit News, The ( DTNB ).\n"
     ]
    }
   ],
   "source": [
    "# get automated coder user.\n",
    "#automated_coder = ArticleCoder.get_automated_coding_user()\n",
    "my_newspaper = detroit_news\n",
    "\n",
    "# filter to just Article_Data coded by this user.\n",
    "article_data_qs = article_data_qs.filter( article__newspaper = my_newspaper )\n",
    "\n",
    "# how many now?\n",
    "article_data_count = article_data_qs.count()\n",
    "\n",
    "print( \"{} Article_Data instances for newspaper {}.\".format( article_data_count, my_newspaper ) )"
   ]
  },
  {
   "cell_type": "markdown",
   "id": "e57f2480-d4e7-42d4-b834-82c6f56c6765",
   "metadata": {},
   "source": [
    "## Only Grand Rapids Press"
   ]
  },
  {
   "cell_type": "code",
   "execution_count": 24,
   "id": "a02e7c06-14f1-479a-b30f-04b90281df55",
   "metadata": {},
   "outputs": [
    {
     "name": "stdout",
     "output_type": "stream",
     "text": [
      "44130 Article_Data instances for newspaper 1 - Grand Rapids Press, The ( GRPB ).\n"
     ]
    }
   ],
   "source": [
    "# get automated coder user.\n",
    "#automated_coder = ArticleCoder.get_automated_coding_user()\n",
    "my_newspaper = grand_rapids_press\n",
    "\n",
    "# filter to just Article_Data coded by this user.\n",
    "article_data_qs = article_data_qs.filter( article__newspaper = my_newspaper )\n",
    "\n",
    "# how many now?\n",
    "article_data_count = article_data_qs.count()\n",
    "\n",
    "print( \"{} Article_Data instances for newspaper {}.\".format( article_data_count, my_newspaper ) )"
   ]
  }
 ],
 "metadata": {
  "kernelspec": {
   "display_name": "research_virtualenv",
   "language": "python",
   "name": "research"
  },
  "language_info": {
   "codemirror_mode": {
    "name": "ipython",
    "version": 3
   },
   "file_extension": ".py",
   "mimetype": "text/x-python",
   "name": "python",
   "nbconvert_exporter": "python",
   "pygments_lexer": "ipython3",
   "version": "3.10.4"
  }
 },
 "nbformat": 4,
 "nbformat_minor": 5
}
