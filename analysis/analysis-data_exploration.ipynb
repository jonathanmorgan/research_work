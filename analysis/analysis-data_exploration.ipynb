{
 "cells": [
  {
   "cell_type": "markdown",
   "id": "ba4ccabf-42d0-4217-8baf-87bd790d8478",
   "metadata": {},
   "source": [
    "# Setup"
   ]
  },
  {
   "cell_type": "markdown",
   "id": "089876e6-2d2f-4fd0-96f6-730520fb0bab",
   "metadata": {},
   "source": [
    "## Setup - Imports"
   ]
  },
  {
   "cell_type": "code",
   "execution_count": null,
   "id": "47c3f417-8fcb-49c1-85f3-44c070e980fe",
   "metadata": {},
   "outputs": [],
   "source": [
    "# python base imports\n",
    "import datetime\n",
    "import json\n",
    "\n",
    "# import six\n",
    "import six\n",
    "\n",
    "print( \"packages imported at \" + str( datetime.datetime.now() ) )"
   ]
  },
  {
   "cell_type": "markdown",
   "id": "17939321-ff9b-4230-84ef-5165d0d8820a",
   "metadata": {},
   "source": [
    "## Setup - Initialize Django\n",
    "\n",
    "- Back to [Table of Contents](#Table-of-Contents)\n",
    "\n",
    "First, initialize my dev django project, so I can run code in this notebook that references my django models and can talk to the database using my project's settings."
   ]
  },
  {
   "cell_type": "code",
   "execution_count": null,
   "id": "f2ea6891-3f5d-48f3-b819-a8ba8fa9d869",
   "metadata": {},
   "outputs": [],
   "source": [
    "%run ../django_init.py"
   ]
  },
  {
   "cell_type": "code",
   "execution_count": null,
   "id": "4c4c9544-0d64-4cf1-baca-f1226617dec1",
   "metadata": {},
   "outputs": [],
   "source": [
    "# django imports\n",
    "from django.contrib.auth.models import User\n",
    "\n",
    "# sourcenet imports\n",
    "from context_text.shared.context_text_base import ContextTextBase\n",
    "\n",
    "# context_analysis imports\n",
    "from context_analysis.network.network_person_info import NetworkPersonInfo\n",
    "\n",
    "# sourcenet imports\n",
    "from context_text.models import Article\n",
    "from context_text.models import Article_Author\n",
    "from context_text.models import Article_Data\n",
    "from context_text.models import Article_Subject\n",
    "from context_text.models import Newspaper\n",
    "from context_text.models import Person\n",
    "\n",
    "# article coding\n",
    "from context_text.article_coding.article_coder import ArticleCoder\n",
    "#from context_text.article_coding.article_coding import ArticleCoding\n",
    "from context_text.article_coding.open_calais_v2.open_calais_v2_article_coder import OpenCalaisV2ArticleCoder\n",
    "\n",
    "# import class that actually processes requests for outputting networks.\n",
    "from context_text.export.network_output import NetworkOutput\n",
    "\n",
    "# context_text shared\n",
    "from context_text.shared.context_text_base import ContextTextBase\n",
    "\n",
    "print( \"django model packages imported at \" + str( datetime.datetime.now() ) )"
   ]
  },
  {
   "cell_type": "markdown",
   "id": "732b5099-9487-4c60-a4bd-35df7a6bf144",
   "metadata": {},
   "source": [
    "## Setup - Important instances"
   ]
  },
  {
   "cell_type": "code",
   "execution_count": null,
   "id": "3033a36d-b69a-4caf-89bd-9d8d7780e83c",
   "metadata": {},
   "outputs": [],
   "source": [
    "# get ArticleCoding instance.\n",
    "#article_coding = ArticleCoding()\n",
    "\n",
    "# automated coding user\n",
    "automated_coder = ArticleCoder.get_automated_coding_user()\n",
    "\n",
    "# newspapers for Grand Rapids Press and Detroit News.\n",
    "grand_rapids_press = Newspaper.objects.get( newsbank_code = \"GRPB\" )\n",
    "detroit_news = Newspaper.objects.get( newsbank_code = \"DTNB\" )"
   ]
  },
  {
   "cell_type": "markdown",
   "id": "79234051-2431-4f63-a80b-f05959831c0b",
   "metadata": {},
   "source": [
    "# network data output test"
   ]
  },
  {
   "cell_type": "code",
   "execution_count": null,
   "id": "60ef24eb-3a73-4fc7-8b67-2979753889ed",
   "metadata": {},
   "outputs": [],
   "source": [
    "request_json_string = \"\"\"{\n",
    "    \"csrfmiddlewaretoken\": \"2TkA5hqznbLUQDJA63yw67i20ItvuA1wDigtsWZg65ieSP00lorVMb452yTn6W11\",\n",
    "    \"start_date\": \"2009-12-01\",\n",
    "    \"end_date\": \"2009-12-31\",\n",
    "    \"date_range\": \"\",\n",
    "    \"publications\": \"1\",\n",
    "    \"coder_id_priority_list\": \"2\",\n",
    "    \"coder_type_filter_type\": \"automated\",\n",
    "    \"coder_types_list\": \"OpenCalais_REST_API_v2\",\n",
    "    \"tags_list\": \"grp_month\",\n",
    "    \"unique_identifiers\": \"\",\n",
    "    \"allow_duplicate_articles\": \"no\",\n",
    "    \"include_source_contact_types\": [\n",
    "        \"direct\",\n",
    "        \"event\",\n",
    "        \"past_quotes\",\n",
    "        \"document\",\n",
    "        \"other\"\n",
    "    ],\n",
    "    \"network_download_as_file\": \"yes\",\n",
    "    \"network_include_render_details\": \"no\",\n",
    "    \"output_type\": \"tab_delimited_matrix\",\n",
    "    \"network_data_output_type\": \"net_and_attr_cols\",\n",
    "    \"network_label\": \"\",\n",
    "    \"network_include_headers\": \"yes\",\n",
    "    \"person_query_type\": \"custom\",\n",
    "    \"person_start_date\": \"2009-12-01\",\n",
    "    \"person_end_date\": \"2009-12-31\",\n",
    "    \"person_date_range\": \"\",\n",
    "    \"person_publications\": \"1\",\n",
    "    \"person_coders\": \"2\",\n",
    "    \"person_coder_id_priority_list\": \"\",\n",
    "    \"person_coder_type_filter_type\": \"automated\",\n",
    "    \"person_coder_types_list\": \"OpenCalais_REST_API_v2\",\n",
    "    \"person_tag_list\": \"grp_month\",\n",
    "    \"person_unique_identifiers\": \"\",\n",
    "    \"person_allow_duplicate_articles\": \"yes\"\n",
    "}\"\"\"\n",
    "request_json = json.loads( request_json_string )\n",
    "print( request_json ) "
   ]
  },
  {
   "cell_type": "code",
   "execution_count": null,
   "id": "473054a8-d601-4eb4-9ab8-ca14f452cca9",
   "metadata": {},
   "outputs": [],
   "source": [
    "# try creating network data.\n",
    "network_outputter = NetworkOutput()\n",
    "network_data = network_outputter.process_network_output_request(\n",
    "    params_IN = request_json,\n",
    "    debug_flag_IN = None\n",
    ")"
   ]
  },
  {
   "cell_type": "code",
   "execution_count": null,
   "id": "c20ddf44-e7af-4b77-98c6-2aead646db44",
   "metadata": {},
   "outputs": [],
   "source": [
    "print( \"Network data length: {}\".format( len( network_data ) ) )"
   ]
  },
  {
   "cell_type": "code",
   "execution_count": null,
   "id": "82aada51-899c-476b-b564-4fd5ef4a7889",
   "metadata": {},
   "outputs": [],
   "source": [
    "# write the output to a file\n",
    "current_date_time = None\n",
    "my_file_extension = None\n",
    "network_data_file_path = None\n",
    "network_data_file = None\n",
    "\n",
    "# time stamp and file extension to append to file name\n",
    "current_date_time = datetime.datetime.now().strftime( '%Y%m%d-%H%M%S' )\n",
    "my_file_extension = \"txt\"\n",
    "\n",
    "# make file path.\n",
    "network_data_file_path = \"context_text_data-{timestamp}.{file_extension}\".format(\n",
    "    timestamp = current_date_time,\n",
    "    file_extension = my_file_extension\n",
    ")\n",
    "\n",
    "# write to file.\n",
    "with open( network_data_file_path, 'w' ) as network_data_file:\n",
    "\n",
    "    # output all the data to file.\n",
    "    network_data_file.write( network_data )\n",
    "    \n",
    "#-- END with open( network_data_file_path, 'w' ) as network_data_file --#\n",
    "\n",
    "print( \"network data written to file {} at {}\".format( network_data_file_path, datetime.datetime.now() ) )"
   ]
  },
  {
   "cell_type": "markdown",
   "id": "f5bef787-23ea-468f-a953-12ec0106c61e",
   "metadata": {
    "tags": []
   },
   "source": [
    "# Filter Articles\n",
    "\n",
    "- Using details from: [newsbank-article_coding.ipynb](../data/article_coding/newsbank-article_coding.ipynb)"
   ]
  },
  {
   "cell_type": "code",
   "execution_count": null,
   "id": "1c44668d-67e8-4bac-b6aa-714f873a1791",
   "metadata": {},
   "outputs": [],
   "source": [
    "article_qs = Article.objects.all()"
   ]
  },
  {
   "cell_type": "markdown",
   "id": "09f53b8c-9c95-4eeb-bd78-911f5cdc63b4",
   "metadata": {},
   "source": [
    "## Detroit News"
   ]
  },
  {
   "cell_type": "code",
   "execution_count": null,
   "id": "47f4e765-4c2b-46f6-84ff-97debf9c3916",
   "metadata": {},
   "outputs": [],
   "source": [
    "# get automated coder user.\n",
    "#automated_coder = ArticleCoder.get_automated_coding_user()\n",
    "my_newspaper = detroit_news\n",
    "\n",
    "# filter to just Article_Data coded by this user.\n",
    "article_qs = article_qs.filter( newspaper = my_newspaper )\n",
    "\n",
    "# how many now?\n",
    "article_data_count = article_qs.count()\n",
    "\n",
    "print( \"{} Article instances for newspaper {}.\".format( article_data_count, my_newspaper ) )"
   ]
  },
  {
   "cell_type": "markdown",
   "id": "d1a50e16-8456-4f9d-a04c-11db28fe3fc8",
   "metadata": {},
   "source": [
    "### Detroit News - coded tag"
   ]
  },
  {
   "cell_type": "code",
   "execution_count": null,
   "id": "8eebbbea-4e96-413e-9cb4-d70bfe3875df",
   "metadata": {},
   "outputs": [],
   "source": [
    "tags_in_list = []\n",
    "tags_in_list.append( OpenCalaisV2ArticleCoder.TAG_CODED_BY_ME )\n",
    "article_qs = article_qs.filter( tags__name__in = tags_in_list )\n",
    "print( \"Tags {} - Matching article count: {}\".format( tags_in_list, article_qs.count() ) )"
   ]
  },
  {
   "cell_type": "markdown",
   "id": "3e0f8fd6-ed99-4850-8d18-060d1c0f84b8",
   "metadata": {},
   "source": [
    "### Detroit News - hard news tag"
   ]
  },
  {
   "cell_type": "code",
   "execution_count": null,
   "id": "06fb7538-2f9e-475d-8856-3cfcc91986ac",
   "metadata": {},
   "outputs": [],
   "source": [
    "tags_in_list = []\n",
    "tags_in_list.append( ContextTextBase.TAG_LOCAL_HARD_NEWS )\n",
    "article_qs = article_qs.filter( tags__name__in = tags_in_list )\n",
    "print( \"Tags {} - Matching article count: {}\".format( tags_in_list, article_qs.count() ) )"
   ]
  },
  {
   "cell_type": "markdown",
   "id": "9b8e9e94-1c25-46b9-a3cd-2de3047d9bcf",
   "metadata": {},
   "source": [
    "## Grand Rapids Press"
   ]
  },
  {
   "cell_type": "code",
   "execution_count": null,
   "id": "176ef7be-1686-4d3f-8d75-82a9398a2d5a",
   "metadata": {},
   "outputs": [],
   "source": [
    "# get automated coder user.\n",
    "#automated_coder = ArticleCoder.get_automated_coding_user()\n",
    "my_newspaper = grand_rapids_press\n",
    "\n",
    "# filter to just Article_Data coded by this user.\n",
    "article_qs = article_qs.filter( newspaper = my_newspaper )\n",
    "\n",
    "# how many now?\n",
    "article_data_count = article_qs.count()\n",
    "\n",
    "print( \"{} Article instances for newspaper {}.\".format( article_data_count, my_newspaper ) )"
   ]
  },
  {
   "cell_type": "markdown",
   "id": "8d52e40b-1a1e-45f2-aca8-4b34f9da45b0",
   "metadata": {},
   "source": [
    "### Grand Rapids Press - coded tag"
   ]
  },
  {
   "cell_type": "code",
   "execution_count": null,
   "id": "72351bdd-0c7b-4e1f-9a84-e7c65113a169",
   "metadata": {},
   "outputs": [],
   "source": [
    "tags_in_list = []\n",
    "tags_in_list.append( OpenCalaisV2ArticleCoder.TAG_CODED_BY_ME )\n",
    "article_qs = article_qs.filter( tags__name__in = tags_in_list )\n",
    "print( \"Tags {} - Matching article count: {}\".format( tags_in_list, article_qs.count() ) )"
   ]
  },
  {
   "cell_type": "markdown",
   "id": "70d9698d-b538-486a-81a1-841f9039b8a2",
   "metadata": {},
   "source": [
    "### Grand Rapids Press - hard news tag"
   ]
  },
  {
   "cell_type": "code",
   "execution_count": null,
   "id": "405264cd-32e4-4b74-8c95-197ac56e3b6d",
   "metadata": {},
   "outputs": [],
   "source": [
    "tags_in_list = []\n",
    "tags_in_list.append( ContextTextBase.TAG_LOCAL_HARD_NEWS )\n",
    "article_qs = article_qs.filter( tags__name__in = tags_in_list )\n",
    "print( \"Tags {} - Matching article count: {}\".format( tags_in_list, article_qs.count() ) )"
   ]
  },
  {
   "cell_type": "markdown",
   "id": "b25d18a6-95bf-4363-bda0-91f87e96fd35",
   "metadata": {
    "tags": []
   },
   "source": [
    "# Filter Article_Data"
   ]
  },
  {
   "cell_type": "code",
   "execution_count": null,
   "id": "9986c8bb-60b7-420d-be6a-eb1f81e38eee",
   "metadata": {},
   "outputs": [],
   "source": [
    "article_data_qs = None\n",
    "article_data_count = None\n",
    "\n",
    "# get all Article_Data.\n",
    "article_data_qs = Article_Data.objects.all()\n",
    "\n",
    "# how many we starting with?\n",
    "article_data_count = article_data_qs.count()\n",
    "\n",
    "print( \"Starting with {} total Article_Data instances.\".format( article_data_count ) )"
   ]
  },
  {
   "cell_type": "markdown",
   "id": "4fc98b10-3624-4df2-9f07-a091fe43a465",
   "metadata": {},
   "source": [
    "## Detect single-name people within Article_Data"
   ]
  },
  {
   "cell_type": "markdown",
   "id": "bd856293-bc61-41d1-9d3e-ca420bce5479",
   "metadata": {},
   "source": [
    "- code to filter out those with single names... where?\n",
    "\n",
    "    - notebook where work was done originally (just notes - it was manual): [prelim_month-create_Reliability_Names_data.ipynb](./methods/data_creation/prelim_month-create_Reliability_Names_data.ipynb)\n",
    "    - code to filter to just single first names is in `context_analysis/views.py --> reliability_names_disagreement_view()`:\n",
    "    \n",
    "            if ( reliability_names_only_first_name == True ):\n",
    "\n",
    "                # to start, first name needs to not be null and\n",
    "                #     not be empty.\n",
    "                reliability_names_qs = reliability_names_qs.filter( \n",
    "                    Q( person__first_name__isnull = False ) & ~Q( person__first_name = \"\" ),\n",
    "                    Q( person__middle_name__isnull = True ) | Q( person__middle_name = \"\" ),\n",
    "                    Q( person__last_name__isnull = True ) | Q( person__last_name = \"\" ),\n",
    "                    Q( person__name_prefix__isnull = True ) | Q( person__name_prefix = \"\" ),\n",
    "                    Q( person__name_suffix__isnull = True ) | Q( person__name_suffix = \"\" ),\n",
    "                    Q( person__nickname__isnull = True ) | Q( person__nickname = \"\" ),\n",
    "                )\n",
    "\n",
    "            #-- END only first name --#\n",
    "\n",
    "Person in Article_Data\n",
    "\n",
    "- Article_Data\n",
    "\n",
    "    - Article_Author\n",
    "    - Article_Subject\n",
    "    - both Article_Author and Article_Subject have \"person\" relation that ties to person instance for name and other details.\n",
    "    - They also have name fields:\n",
    "    \n",
    "        - name\n",
    "        - verbatim_name\n",
    "        - lookup_name\n",
    "        \n",
    "    - Should mine the above to see how widely and reliably the name fields were set - could just look for names with no internal spaces there..."
   ]
  },
  {
   "cell_type": "code",
   "execution_count": null,
   "id": "2fc80f91-90a1-4cd5-b637-b85ce0130cac",
   "metadata": {},
   "outputs": [],
   "source": [
    "# start with Article_Data QuerySet\n",
    "article_data_qs = Article_Data.objects.all()"
   ]
  },
  {
   "cell_type": "markdown",
   "id": "02e34ac1-04de-415e-a0df-a63424f2e205",
   "metadata": {},
   "source": [
    "## Only automated coder"
   ]
  },
  {
   "cell_type": "code",
   "execution_count": null,
   "id": "ab8dc939-fb55-4b9a-9b68-73a5b66b07b8",
   "metadata": {},
   "outputs": [],
   "source": [
    "# get automated coder user.\n",
    "#automated_coder = ArticleCoder.get_automated_coding_user()\n",
    "\n",
    "# filter to just Article_Data coded by this user.\n",
    "article_data_qs = article_data_qs.filter( coder = automated_coder )\n",
    "\n",
    "# how many now?\n",
    "article_data_count = article_data_qs.count()\n",
    "\n",
    "print( \"{} Article_Data instances for coder {}.\".format( article_data_count, automated_coder ) )"
   ]
  },
  {
   "cell_type": "markdown",
   "id": "ca0dd642-7aca-4530-9f5f-94fc30c172f4",
   "metadata": {},
   "source": [
    "## Only Detroit News"
   ]
  },
  {
   "cell_type": "code",
   "execution_count": null,
   "id": "67966f9f-edd9-4897-bd3d-6f429040bc50",
   "metadata": {},
   "outputs": [],
   "source": [
    "# get automated coder user.\n",
    "#automated_coder = ArticleCoder.get_automated_coding_user()\n",
    "my_newspaper = detroit_news\n",
    "\n",
    "# filter to just Article_Data coded by this user.\n",
    "article_data_qs = article_data_qs.filter( article__newspaper = my_newspaper )\n",
    "\n",
    "# how many now?\n",
    "article_data_count = article_data_qs.count()\n",
    "\n",
    "print( \"{} Article_Data instances for newspaper {}.\".format( article_data_count, my_newspaper ) )"
   ]
  },
  {
   "cell_type": "markdown",
   "id": "e57f2480-d4e7-42d4-b834-82c6f56c6765",
   "metadata": {},
   "source": [
    "## Only Grand Rapids Press"
   ]
  },
  {
   "cell_type": "code",
   "execution_count": null,
   "id": "a02e7c06-14f1-479a-b30f-04b90281df55",
   "metadata": {},
   "outputs": [],
   "source": [
    "# get automated coder user.\n",
    "#automated_coder = ArticleCoder.get_automated_coding_user()\n",
    "my_newspaper = grand_rapids_press\n",
    "\n",
    "# filter to just Article_Data coded by this user.\n",
    "article_data_qs = article_data_qs.filter( article__newspaper = my_newspaper )\n",
    "\n",
    "# how many now?\n",
    "article_data_count = article_data_qs.count()\n",
    "\n",
    "print( \"{} Article_Data instances for newspaper {}.\".format( article_data_count, my_newspaper ) )"
   ]
  }
 ],
 "metadata": {
  "kernelspec": {
   "display_name": "research_virtualenv",
   "language": "python",
   "name": "research"
  },
  "language_info": {
   "codemirror_mode": {
    "name": "ipython",
    "version": 3
   },
   "file_extension": ".py",
   "mimetype": "text/x-python",
   "name": "python",
   "nbconvert_exporter": "python",
   "pygments_lexer": "ipython3",
   "version": "3.10.4"
  }
 },
 "nbformat": 4,
 "nbformat_minor": 5
}
