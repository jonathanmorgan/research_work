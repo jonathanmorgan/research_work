{
 "cells": [
  {
   "cell_type": "markdown",
   "id": "ba4ccabf-42d0-4217-8baf-87bd790d8478",
   "metadata": {},
   "source": [
    "# Setup"
   ]
  },
  {
   "cell_type": "markdown",
   "id": "089876e6-2d2f-4fd0-96f6-730520fb0bab",
   "metadata": {},
   "source": [
    "## Setup - Imports"
   ]
  },
  {
   "cell_type": "code",
   "execution_count": 1,
   "id": "47c3f417-8fcb-49c1-85f3-44c070e980fe",
   "metadata": {},
   "outputs": [
    {
     "name": "stdout",
     "output_type": "stream",
     "text": [
      "packages imported at 2022-05-10 01:22:56.361553\n"
     ]
    }
   ],
   "source": [
    "# python base imports\n",
    "import datetime\n",
    "import json\n",
    "\n",
    "# import six\n",
    "import six\n",
    "\n",
    "print( \"packages imported at \" + str( datetime.datetime.now() ) )"
   ]
  },
  {
   "cell_type": "markdown",
   "id": "17939321-ff9b-4230-84ef-5165d0d8820a",
   "metadata": {},
   "source": [
    "## Setup - Initialize Django\n",
    "\n",
    "- Back to [Table of Contents](#Table-of-Contents)\n",
    "\n",
    "First, initialize my dev django project, so I can run code in this notebook that references my django models and can talk to the database using my project's settings."
   ]
  },
  {
   "cell_type": "code",
   "execution_count": 2,
   "id": "f2ea6891-3f5d-48f3-b819-a8ba8fa9d869",
   "metadata": {},
   "outputs": [
    {
     "name": "stdout",
     "output_type": "stream",
     "text": [
      "django initialized at 2022-05-10 01:23:00.154384\n"
     ]
    }
   ],
   "source": [
    "%run ../django_init.py"
   ]
  },
  {
   "cell_type": "code",
   "execution_count": 3,
   "id": "4c4c9544-0d64-4cf1-baca-f1226617dec1",
   "metadata": {},
   "outputs": [
    {
     "name": "stdout",
     "output_type": "stream",
     "text": [
      "django model packages imported at 2022-05-10 01:23:01.620767\n"
     ]
    }
   ],
   "source": [
    "# django imports\n",
    "from django.contrib.auth.models import User\n",
    "\n",
    "# sourcenet imports\n",
    "from context_text.shared.context_text_base import ContextTextBase\n",
    "\n",
    "# context_analysis imports\n",
    "from context_analysis.network.network_person_info import NetworkPersonInfo\n",
    "\n",
    "# sourcenet imports\n",
    "from context_text.models import Article\n",
    "from context_text.models import Article_Author\n",
    "from context_text.models import Article_Data\n",
    "from context_text.models import Article_Subject\n",
    "from context_text.models import Newspaper\n",
    "from context_text.models import Person\n",
    "\n",
    "# article coding\n",
    "from context_text.article_coding.article_coder import ArticleCoder\n",
    "#from context_text.article_coding.article_coding import ArticleCoding\n",
    "from context_text.article_coding.open_calais_v2.open_calais_v2_article_coder import OpenCalaisV2ArticleCoder\n",
    "\n",
    "# import class that actually processes requests for outputting networks.\n",
    "from context_text.export.network_output import NetworkOutput\n",
    "\n",
    "# context_text shared\n",
    "from context_text.shared.context_text_base import ContextTextBase\n",
    "\n",
    "print( \"django model packages imported at \" + str( datetime.datetime.now() ) )"
   ]
  },
  {
   "cell_type": "markdown",
   "id": "732b5099-9487-4c60-a4bd-35df7a6bf144",
   "metadata": {},
   "source": [
    "## Setup - Important instances"
   ]
  },
  {
   "cell_type": "code",
   "execution_count": 4,
   "id": "3033a36d-b69a-4caf-89bd-9d8d7780e83c",
   "metadata": {},
   "outputs": [],
   "source": [
    "# get ArticleCoding instance.\n",
    "#article_coding = ArticleCoding()\n",
    "\n",
    "# automated coding user\n",
    "automated_coder = ArticleCoder.get_automated_coding_user()\n",
    "\n",
    "# newspapers for Grand Rapids Press and Detroit News.\n",
    "grand_rapids_press = Newspaper.objects.get( newsbank_code = \"GRPB\" )\n",
    "detroit_news = Newspaper.objects.get( newsbank_code = \"DTNB\" )"
   ]
  },
  {
   "cell_type": "markdown",
   "id": "7ea63481-8088-47d9-9a29-8d6db59daf4c",
   "metadata": {},
   "source": [
    "# Article_Data Overview"
   ]
  },
  {
   "cell_type": "code",
   "execution_count": 11,
   "id": "9986c8bb-60b7-420d-be6a-eb1f81e38eee",
   "metadata": {},
   "outputs": [
    {
     "name": "stdout",
     "output_type": "stream",
     "text": [
      "Starting with 45657 total Article_Data instances.\n"
     ]
    }
   ],
   "source": [
    "article_data_qs = None\n",
    "article_data_count = None\n",
    "\n",
    "# get all Article_Data.\n",
    "article_data_qs = Article_Data.objects.all()\n",
    "\n",
    "# how many we starting with?\n",
    "article_data_count = article_data_qs.count()\n",
    "\n",
    "print( \"Starting with {} total Article_Data instances.\".format( article_data_count ) )"
   ]
  },
  {
   "cell_type": "markdown",
   "id": "4fc98b10-3624-4df2-9f07-a091fe43a465",
   "metadata": {},
   "source": [
    "## Detect single-name people within Article_Data\n",
    "\n",
    "- Moved this work off to separate work notebook: [analysis-omit_single_names.ipynb](./omit_single_names.ipynb)"
   ]
  },
  {
   "cell_type": "markdown",
   "id": "df157d5e-320d-449c-a7e9-4e4f93b0f7c5",
   "metadata": {},
   "source": [
    "## Filter on coder"
   ]
  },
  {
   "cell_type": "markdown",
   "id": "02e34ac1-04de-415e-a0df-a63424f2e205",
   "metadata": {},
   "source": [
    "### Only automated coder"
   ]
  },
  {
   "cell_type": "code",
   "execution_count": 13,
   "id": "ab8dc939-fb55-4b9a-9b68-73a5b66b07b8",
   "metadata": {},
   "outputs": [
    {
     "name": "stdout",
     "output_type": "stream",
     "text": [
      "44211 Article_Data instances for coder automated.\n"
     ]
    }
   ],
   "source": [
    "# get automated coder user.\n",
    "#automated_coder = ArticleCoder.get_automated_coding_user()\n",
    "\n",
    "# filter to just Article_Data coded by this user.\n",
    "article_data_qs = article_data_qs.filter( coder = automated_coder )\n",
    "\n",
    "# how many now?\n",
    "article_data_count = article_data_qs.count()\n",
    "\n",
    "print( \"{} Article_Data instances for coder {}.\".format( article_data_count, automated_coder ) )"
   ]
  },
  {
   "cell_type": "markdown",
   "id": "03f38008-d065-4de6-820d-d42df9a5cd4a",
   "metadata": {},
   "source": [
    "### Only OpenCalais_v2"
   ]
  },
  {
   "cell_type": "code",
   "execution_count": 14,
   "id": "ff170204-17c8-4b5f-a94e-f698e3d6c2c2",
   "metadata": {},
   "outputs": [
    {
     "name": "stdout",
     "output_type": "stream",
     "text": [
      "43843 Article_Data instances for coder_type OpenCalais_REST_API_v2.\n"
     ]
    }
   ],
   "source": [
    "my_coder_type = \"OpenCalais_REST_API_v2\"\n",
    "\n",
    "# filter to just Article_Data with coder_type of \"OpenCalais_REST_API_v2\"\n",
    "article_data_qs = article_data_qs.filter( coder_type = my_coder_type )\n",
    "\n",
    "# how many now?\n",
    "article_data_count = article_data_qs.count()\n",
    "\n",
    "print( \"{} Article_Data instances for coder_type {}.\".format( article_data_count, my_coder_type ) )"
   ]
  },
  {
   "cell_type": "markdown",
   "id": "6d226020-ce1e-4738-b0c4-a95f3634b46c",
   "metadata": {},
   "source": [
    "## Filter on paper"
   ]
  },
  {
   "cell_type": "markdown",
   "id": "ca0dd642-7aca-4530-9f5f-94fc30c172f4",
   "metadata": {},
   "source": [
    "### Only Detroit News"
   ]
  },
  {
   "cell_type": "code",
   "execution_count": null,
   "id": "67966f9f-edd9-4897-bd3d-6f429040bc50",
   "metadata": {},
   "outputs": [],
   "source": [
    "# get automated coder user.\n",
    "#automated_coder = ArticleCoder.get_automated_coding_user()\n",
    "my_newspaper = detroit_news\n",
    "\n",
    "# filter to just Article_Data coded by this user.\n",
    "article_data_qs = article_data_qs.filter( article__newspaper = my_newspaper )\n",
    "\n",
    "# how many now?\n",
    "article_data_count = article_data_qs.count()\n",
    "\n",
    "print( \"{} Article_Data instances for newspaper {}.\".format( article_data_count, my_newspaper ) )"
   ]
  },
  {
   "cell_type": "markdown",
   "id": "e57f2480-d4e7-42d4-b834-82c6f56c6765",
   "metadata": {},
   "source": [
    "### Only Grand Rapids Press"
   ]
  },
  {
   "cell_type": "code",
   "execution_count": 15,
   "id": "a02e7c06-14f1-479a-b30f-04b90281df55",
   "metadata": {
    "tags": []
   },
   "outputs": [
    {
     "name": "stdout",
     "output_type": "stream",
     "text": [
      "43816 Article_Data instances for newspaper 1 - Grand Rapids Press, The ( GRPB ).\n"
     ]
    }
   ],
   "source": [
    "# get automated coder user.\n",
    "#automated_coder = ArticleCoder.get_automated_coding_user()\n",
    "my_newspaper = grand_rapids_press\n",
    "\n",
    "# filter to just Article_Data coded by this user.\n",
    "article_data_qs = article_data_qs.filter( article__newspaper = my_newspaper )\n",
    "\n",
    "# how many now?\n",
    "article_data_count = article_data_qs.count()\n",
    "\n",
    "print( \"{} Article_Data instances for newspaper {}.\".format( article_data_count, my_newspaper ) )"
   ]
  },
  {
   "cell_type": "markdown",
   "id": "479c01c9-54bc-4b27-95c7-42e4165472b5",
   "metadata": {},
   "source": [
    "# Moved to other notebooks"
   ]
  },
  {
   "cell_type": "markdown",
   "id": "5a922167-aa9a-4562-b6b3-8231133c58f7",
   "metadata": {},
   "source": [
    "## programmatic network data construction\n",
    "\n",
    "- make code in [Network Builder](https://research.local/research/context/text/output/network) callable with a JSON dictionary rather than through view.\n",
    "\n",
    "    - Switched all code into NetworkOutput class (`context_text/export/network_output.py --> NetworkOutput`), got it to work either in view function or stand-alone code with JSON parameters.\n",
    "    - Example notebook: [analysis-network_data_output_example.ipynb](./analysis-network_data_output_example.ipynb)"
   ]
  },
  {
   "cell_type": "markdown",
   "id": "2c37f3e2-1170-457e-aa18-af01c68244f1",
   "metadata": {},
   "source": [
    "## Article overview\n",
    "\n",
    "- [analysis-article_overview.ipynb](./analysis-article_overview.ipynb)"
   ]
  }
 ],
 "metadata": {
  "kernelspec": {
   "display_name": "research_virtualenv",
   "language": "python",
   "name": "research"
  },
  "language_info": {
   "codemirror_mode": {
    "name": "ipython",
    "version": 3
   },
   "file_extension": ".py",
   "mimetype": "text/x-python",
   "name": "python",
   "nbconvert_exporter": "python",
   "pygments_lexer": "ipython3",
   "version": "3.10.4"
  },
  "toc-autonumbering": true
 },
 "nbformat": 4,
 "nbformat_minor": 5
}
