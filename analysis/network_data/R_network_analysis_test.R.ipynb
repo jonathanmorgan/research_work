{
 "cells": [
  {
   "cell_type": "markdown",
   "id": "d57670c1-aa3a-4493-9694-8c6f08164e6f",
   "metadata": {},
   "source": [
    "**R_network_analysis_test.R.ipynb** - play with R and large matrices, see how it goes."
   ]
  },
  {
   "cell_type": "markdown",
   "id": "b9927dd5-50a1-4c3c-827a-bb29df45ed84",
   "metadata": {},
   "source": [
    "# R network analysis files\n",
    "\n",
    "Related files:\n",
    "\n",
    "* network descriptives\n",
    "    * network-level\n",
    "        \n",
    "        * files\n",
    "            \n",
    "            * R scripts:\n",
    "                \n",
    "                * `context_analysis/R/db_connect.r`\n",
    "                * `context_analysis/R/sna/functions-sna.r`\n",
    "                * `context_analysis/R/sna/NetworkInfo.r`\n",
    "                * `context_analysis/R/sna/sna-load_data.r`\n",
    "                * `context_analysis/R/sna/igraph/*`\n",
    "                * `context_analysis/R/sna/statnet/*`\n",
    "        \n",
    "        * statnet/sna\n",
    "            \n",
    "            * `sna::gden()` - graph density\n",
    "            * R scripts:\n",
    "                \n",
    "                * `context_analysis/R/sna/statnet/sna-statnet-init.r`\n",
    "                * `context_analysis/R/sna/statnet/sna-statnet-network-stats.r`\n",
    "                * `context_analysis/R/sna/statnet/sna-qap.r`\n",
    "        \n",
    "        * igraph\n",
    "            \n",
    "            * `igraph::transitivity()` - vector of transitivity scores for each node in a graph, plus network-level transitivity score.\n",
    "                \n",
    "                * Q - interpretation?\n",
    "                \n",
    "            * R scripts:\n",
    "                \n",
    "                * `context_analysis/R/sna/statnet/sna-igraph-init.r`\n",
    "                * `context_analysis/R/sna/statnet/sna-igraph-network-stats.r`\n"
   ]
  },
  {
   "cell_type": "markdown",
   "id": "a99e1b8e-c276-4806-8dfc-9b45f4a1f508",
   "metadata": {},
   "source": [
    "# Setup"
   ]
  },
  {
   "cell_type": "markdown",
   "id": "f14bca47-4d4e-4b12-94d1-b521d2fd2b20",
   "metadata": {},
   "source": [
    "## Setup -  working directories\n",
    "\n",
    "Store important directories and file names in variables:"
   ]
  },
  {
   "cell_type": "code",
   "execution_count": 1,
   "id": "0a78d54c-8651-44d8-9e03-ec09b2ce7f21",
   "metadata": {
    "ExecuteTime": {
     "end_time": "2017-12-10T05:01:24.770670Z",
     "start_time": "2017-12-10T05:01:24.550Z"
    },
    "tags": []
   },
   "outputs": [
    {
     "data": {
      "text/html": [
       "'/home/jonathanmorgan/work/django/research/research/work/phd_work/analysis/network_data'"
      ],
      "text/latex": [
       "'/home/jonathanmorgan/work/django/research/research/work/phd\\_work/analysis/network\\_data'"
      ],
      "text/markdown": [
       "'/home/jonathanmorgan/work/django/research/research/work/phd_work/analysis/network_data'"
      ],
      "text/plain": [
       "[1] \"/home/jonathanmorgan/work/django/research/research/work/phd_work/analysis/network_data\""
      ]
     },
     "metadata": {},
     "output_type": "display_data"
    }
   ],
   "source": [
    "getwd()"
   ]
  },
  {
   "cell_type": "code",
   "execution_count": 2,
   "id": "21466b1c-f488-4a3f-b73a-a6baea65388d",
   "metadata": {
    "ExecuteTime": {
     "end_time": "2017-12-10T05:01:25.522650Z",
     "start_time": "2017-12-10T05:01:25.453Z"
    }
   },
   "outputs": [],
   "source": [
    "# code files (in particular SNA function library, modest though it may be)\n",
    "base_code_directory <- \"/home/jonathanmorgan/work/django/research/research/context_analysis/R\"\n",
    "sna_code_directory <- paste( base_code_directory, \"/sna\", sep = \"\" )\n",
    "code_directory <- sna_code_directory\n",
    "\n",
    "# home directory\n",
    "home_directory <- getwd()\n",
    "home_directory <- \"/home/jonathanmorgan/work/django/research/research/work/phd_work/analysis/network_data\"\n",
    "\n",
    "# data directories\n",
    "#data_directory <- paste( home_directory, \"/data\", sep = \"\" )\n",
    "data_directory <- \"/home/jonathanmorgan/shares/phd_work/network_data/grp_6mos_by_month-take1\"\n",
    "workspace_file_name <- \"statnet-grp-test.RData\"\n",
    "workspace_file_path <- paste( data_directory, \"/\", workspace_file_name )"
   ]
  },
  {
   "cell_type": "code",
   "execution_count": 3,
   "id": "2d2bf2e8-f953-41ae-b45b-a82335627c50",
   "metadata": {
    "ExecuteTime": {
     "end_time": "2017-12-10T05:01:27.832199Z",
     "start_time": "2017-12-10T05:01:27.795Z"
    }
   },
   "outputs": [
    {
     "data": {
      "text/html": [
       "'/home/jonathanmorgan/shares/phd_work/network_data/grp_6mos_by_month-take1'"
      ],
      "text/latex": [
       "'/home/jonathanmorgan/shares/phd\\_work/network\\_data/grp\\_6mos\\_by\\_month-take1'"
      ],
      "text/markdown": [
       "'/home/jonathanmorgan/shares/phd_work/network_data/grp_6mos_by_month-take1'"
      ],
      "text/plain": [
       "[1] \"/home/jonathanmorgan/shares/phd_work/network_data/grp_6mos_by_month-take1\""
      ]
     },
     "metadata": {},
     "output_type": "display_data"
    }
   ],
   "source": [
    "# set working directory to data directory for now.\n",
    "setwd( data_directory )\n",
    "getwd()"
   ]
  },
  {
   "cell_type": "markdown",
   "id": "4f14425e-1440-47df-ae6c-7551f7105701",
   "metadata": {},
   "source": [
    "## Setup - functions"
   ]
  },
  {
   "cell_type": "markdown",
   "id": "5f6082c8-f6d5-46b8-8510-29c71fccd65b",
   "metadata": {
    "tags": []
   },
   "source": [
    "### Setup - functions - import SNA functions\n",
    "\n",
    "source the file `functions-sna.r`."
   ]
  },
  {
   "cell_type": "code",
   "execution_count": 4,
   "id": "f8510f2a-8bb4-4c2d-a016-c54a83af148f",
   "metadata": {},
   "outputs": [],
   "source": [
    "sna_function_file_path <- paste( sna_code_directory, \"/\", 'functions-sna.r', sep = \"\" )"
   ]
  },
  {
   "cell_type": "code",
   "execution_count": 5,
   "id": "32715e01-51bc-459b-931e-31c75cd90dfd",
   "metadata": {
    "ExecuteTime": {
     "end_time": "2017-12-10T05:01:29.517336Z",
     "start_time": "2017-12-10T05:01:29.493Z"
    }
   },
   "outputs": [],
   "source": [
    "source( sna_function_file_path )"
   ]
  },
  {
   "cell_type": "markdown",
   "id": "3882b953-9d90-41d8-bc29-a5df3a91801e",
   "metadata": {
    "tags": []
   },
   "source": [
    "### Setup - functions - import statnet functions\n",
    "\n",
    "- Back to [Table of Contents](#Table-of-Contents)\n",
    "\n",
    "source the file `statnet/functions-statnet.r`.  This file includes:\n",
    "\n",
    "- `compareMatricesQAP()`, used extensively below."
   ]
  },
  {
   "cell_type": "code",
   "execution_count": 6,
   "id": "b8ab2111-75f0-4009-9d72-ee3197173e6f",
   "metadata": {
    "ExecuteTime": {
     "end_time": "2019-07-25T02:29:05.050972Z",
     "start_time": "2019-07-25T02:29:05.011Z"
    }
   },
   "outputs": [],
   "source": [
    "# statnet/sna functions\n",
    "# - /home/jonathanmorgan/work/django/research/context_analysis/R/sna/stanet/functions-statnet.r\n",
    "statnetFunctionFilePath <- paste( sna_code_directory, \"/statnet/\", 'functions-statnet.r', sep = \"\" )"
   ]
  },
  {
   "cell_type": "code",
   "execution_count": 7,
   "id": "2aac68ca-2c63-4049-81d4-90998c660173",
   "metadata": {
    "ExecuteTime": {
     "end_time": "2019-07-25T02:29:06.527793Z",
     "start_time": "2019-07-25T02:29:06.350Z"
    }
   },
   "outputs": [
    {
     "name": "stderr",
     "output_type": "stream",
     "text": [
      "Loading required package: statnet.common\n",
      "\n",
      "\n",
      "Attaching package: ‘statnet.common’\n",
      "\n",
      "\n",
      "The following objects are masked from ‘package:base’:\n",
      "\n",
      "    attr, order\n",
      "\n",
      "\n",
      "Loading required package: network\n",
      "\n",
      "\n",
      "‘network’ 1.17.2 (2022-05-20), part of the Statnet Project\n",
      "* ‘news(package=\"network\")’ for changes since last version\n",
      "* ‘citation(\"network\")’ for citation information\n",
      "* ‘https://statnet.org’ for help, support, and other information\n",
      "\n",
      "\n",
      "sna: Tools for Social Network Analysis\n",
      "Version 2.7 created on 2022-05-09.\n",
      "copyright (c) 2005, Carter T. Butts, University of California-Irvine\n",
      " For citation information, type citation(\"sna\").\n",
      " Type help(package=\"sna\") to get started.\n",
      "\n",
      "\n"
     ]
    }
   ],
   "source": [
    "source( statnetFunctionFilePath )"
   ]
  },
  {
   "cell_type": "markdown",
   "id": "69edbf7c-9118-4081-9208-79935357073c",
   "metadata": {},
   "source": [
    "## Setup - ReferenceClasses"
   ]
  },
  {
   "cell_type": "markdown",
   "id": "0fff86f0-3be5-4677-a809-46ab760aaf44",
   "metadata": {},
   "source": [
    "### Setup - ReferenceClass - NetworkInfo"
   ]
  },
  {
   "cell_type": "code",
   "execution_count": 8,
   "id": "dd05131d-9d48-4a1d-8823-831a7a080646",
   "metadata": {},
   "outputs": [],
   "source": [
    "networkInfoClassFilePath <- paste( sna_code_directory, \"/NetworkInfo.r\", sep = \"\" )"
   ]
  },
  {
   "cell_type": "code",
   "execution_count": 9,
   "id": "bab5b1db-43de-4c2d-9174-4c20e0bae3ac",
   "metadata": {
    "ExecuteTime": {
     "end_time": "2019-07-25T02:29:06.527793Z",
     "start_time": "2019-07-25T02:29:06.350Z"
    }
   },
   "outputs": [
    {
     "name": "stderr",
     "output_type": "stream",
     "text": [
      "Loading required package: tergm\n",
      "\n",
      "Loading required package: ergm\n",
      "\n",
      "\n",
      "‘ergm’ 4.2.2 (2022-06-01), part of the Statnet Project\n",
      "* ‘news(package=\"ergm\")’ for changes since last version\n",
      "* ‘citation(\"ergm\")’ for citation information\n",
      "* ‘https://statnet.org’ for help, support, and other information\n",
      "\n",
      "\n",
      "‘ergm’ 4 is a major update that introduces some backwards-incompatible\n",
      "changes. Please type ‘news(package=\"ergm\")’ for a list of major\n",
      "changes.\n",
      "\n",
      "\n",
      "\n",
      "Attaching package: ‘ergm’\n",
      "\n",
      "\n",
      "The following object is masked from ‘package:statnet.common’:\n",
      "\n",
      "    snctrl\n",
      "\n",
      "\n",
      "Loading required package: networkDynamic\n",
      "\n",
      "\n",
      "‘networkDynamic’ 0.11.2 (2022-05-04), part of the Statnet Project\n",
      "* ‘news(package=\"networkDynamic\")’ for changes since last version\n",
      "* ‘citation(\"networkDynamic\")’ for citation information\n",
      "* ‘https://statnet.org’ for help, support, and other information\n",
      "\n",
      "\n",
      "Registered S3 method overwritten by 'tergm':\n",
      "  method                   from\n",
      "  simulate_formula.network ergm\n",
      "\n",
      "\n",
      "‘tergm’ 4.0.2 (2021-07-28), part of the Statnet Project\n",
      "* ‘news(package=\"tergm\")’ for changes since last version\n",
      "* ‘citation(\"tergm\")’ for citation information\n",
      "* ‘https://statnet.org’ for help, support, and other information\n",
      "\n",
      "\n",
      "\n",
      "Attaching package: ‘tergm’\n",
      "\n",
      "\n",
      "The following object is masked from ‘package:ergm’:\n",
      "\n",
      "    snctrl\n",
      "\n",
      "\n",
      "The following object is masked from ‘package:statnet.common’:\n",
      "\n",
      "    snctrl\n",
      "\n",
      "\n",
      "Loading required package: ergm.count\n",
      "\n",
      "\n",
      "‘ergm.count’ 4.1.1 (2022-05-24), part of the Statnet Project\n",
      "* ‘news(package=\"ergm.count\")’ for changes since last version\n",
      "* ‘citation(\"ergm.count\")’ for citation information\n",
      "* ‘https://statnet.org’ for help, support, and other information\n",
      "\n",
      "\n",
      "Loading required package: tsna\n",
      "\n",
      "\n",
      "‘statnet’ 2019.6 (2019-06-13), part of the Statnet Project\n",
      "* ‘news(package=\"statnet\")’ for changes since last version\n",
      "* ‘citation(\"statnet\")’ for citation information\n",
      "* ‘https://statnet.org’ for help, support, and other information\n",
      "\n",
      "\n",
      "ReferenceClass NetworkInfo defined @ Sun Jun  5 13:16:05 2022\n",
      "\n",
      "Function processBeforeAfterNetworks defined @ Sun Jun  5 13:16:05 2022\n",
      "\n"
     ]
    }
   ],
   "source": [
    "source( networkInfoClassFilePath )"
   ]
  },
  {
   "cell_type": "markdown",
   "id": "e35dc6e8-451c-44a4-b382-5d1f3e2e4197",
   "metadata": {},
   "source": [
    "## Setup - network data"
   ]
  },
  {
   "cell_type": "markdown",
   "id": "82a8012f-9789-4e8e-9275-ef44c54dea49",
   "metadata": {},
   "source": [
    "### Setup - network data - notes: render and store network data\n",
    "\n",
    "First, need render to render network data and upload it to your server.\n",
    "\n",
    "Directions for creating network data: \n",
    "\n",
    "- network data creation example notebook: [analysis-network_data_output_example.ipynb](../analysis-network_data_output_example.ipynb)\n",
    "\n",
    "    - this shows programmatic data creation using JSON file to capture request parameters.\n",
    "    - includes all parameters and a few examples of different ways you can set parameters.\n",
    "\n",
    "- actual network data creation notebook: [analysis-network_data_output-GRP.ipynb](./analysis-network_data_output-GRP.ipynb)\n",
    "\n",
    "You want a tab-delimited matrix that includes both the network and attributes of nodes as columns, and you want it to include a header row.\n",
    "\n",
    "Once you render your network data files, you should place them on the server.\n",
    "\n",
    "High level data file layout:\n",
    "\n",
    "- tab-delimited.\n",
    "- first row and first column are labels\n",
    "- last 2 columns are traits of nodes (`person_id` and `person_type`)\n",
    "- each row and column after first until the trait columns represents a person found in one of the articles.\n",
    "- The people are in the same order from top to bottom and left to right.\n",
    "- Where the row and column of two people meet, and one of the people is an author, the nunber in the cell where they meet is the number of times the non-author was quoted in an article by the author.  Does not include more basic two-mode co-location ties (appeared in same article, even if not an author and/or not quoted).\n"
   ]
  },
  {
   "cell_type": "markdown",
   "id": "42c0f61c-b7ae-42c5-9a60-6c39b13fa02f",
   "metadata": {},
   "source": [
    "# Actual processing using ReferenceClasses"
   ]
  },
  {
   "cell_type": "markdown",
   "id": "107710f4-70af-4585-bf4e-065570e7f5ad",
   "metadata": {},
   "source": [
    "## NetworkInfo - process single network"
   ]
  },
  {
   "cell_type": "code",
   "execution_count": null,
   "id": "9b709efd-6eb6-479f-aa4d-0320ed341966",
   "metadata": {},
   "outputs": [],
   "source": [
    "testNetworkInfo <- NetworkInfo()\n",
    "testNetworkInfo$initFromTabData(\n",
    "    data_directory,\n",
    "    \"grp_6mos_by_month_2005-07-03_post-20220604-040716.tab\"\n",
    ")\n",
    "testNetworkInfo$processNetwork()"
   ]
  },
  {
   "cell_type": "code",
   "execution_count": null,
   "id": "c6d32be2-5823-4ff0-8d42-66c6a1a1b769",
   "metadata": {},
   "outputs": [],
   "source": [
    "testNetworkInfo$myDegreeAverage"
   ]
  },
  {
   "cell_type": "markdown",
   "id": "3fb8a26d-381a-47b4-a987-b7779b8c1218",
   "metadata": {},
   "source": [
    "## NetworkInfo - process two single networks"
   ]
  },
  {
   "cell_type": "code",
   "execution_count": 12,
   "id": "82a3140f-0818-4e8a-baf1-524765e14c07",
   "metadata": {},
   "outputs": [
    {
     "name": "stderr",
     "output_type": "stream",
     "text": [
      "Warning message in sna::gtrans(myNetworkStatnet, mode = \"graph\"):\n",
      "“gtrans called with use.adjacency=TRUE, but your data looks too large for that to work well.  Overriding to edgelist method.”\n",
      "Warning message in sna::gtrans(myNetworkStatnet, mode = \"graph\"):\n",
      "“gtrans called with use.adjacency=TRUE, but your data looks too large for that to work well.  Overriding to edgelist method.”\n",
      "==> Start of  compareMatricesQAP  at  2022-06-05 13:29:13\n",
      "\n",
      "----> 2005-07-03-grp_6mos_by_month graph correlation = 0.456992042995495 ( @ 2022-06-05 13:29:40 )\n",
      "\n",
      "----> 2005-07-03-grp_6mos_by_month SKIPPED QAP correlation analysis\n",
      "\n",
      "----> 2005-07-03-grp_6mos_by_month graph covariance = 0.000189908742816195 ( @ 2022-06-05 13:29:57 )\n",
      "\n",
      "----> 2005-07-03-grp_6mos_by_month SKIPPED QAP covariance analysis\n",
      "\n",
      "----> 2005-07-03-grp_6mos_by_month graph hamming distance = 45358 ( @ 2022-06-05 13:30:12 )\n",
      "\n",
      "----> 2005-07-03-grp_6mos_by_month SKIPPED QAP hamming distance analysis\n",
      "\n",
      "==> End of  compareMatricesQAP  at  2022-06-05 13:30:12\n",
      "\n"
     ]
    },
    {
     "data": {
      "text/html": [
       "<dl>\n",
       "\t<dt>$baseDate</dt>\n",
       "\t\t<dd>'2005-07-03'</dd>\n",
       "\t<dt>$networkDuration</dt>\n",
       "\t\t<dd>'6mos'</dd>\n",
       "\t<dt>$label</dt>\n",
       "\t\t<dd>'2005-07-03-grp_6mos_by_month'</dd>\n",
       "\t<dt>$beforeBetweennessCentrality</dt>\n",
       "\t\t<dd>0.036634060879916</dd>\n",
       "\t<dt>$beforeConnectedness</dt>\n",
       "\t\t<dd>0.294067754201938</dd>\n",
       "\t<dt>$beforeColumnCount</dt>\n",
       "\t\t<dd>13775</dd>\n",
       "\t<dt>$beforeDataFileName</dt>\n",
       "\t\t<dd>'grp_6mos_by_month_2005-07-03_pre-20220604-040520.tab'</dd>\n",
       "\t<dt>$beforeDataPath</dt>\n",
       "\t\t<dd>'/home/jonathanmorgan/shares/phd_work/network_data/grp_6mos_by_month-take1/grp_6mos_by_month_2005-07-03_pre-20220604-040520.tab'</dd>\n",
       "\t<dt>$beforeDegreeAverage</dt>\n",
       "\t\t<dd>1.37457344078995</dd>\n",
       "\t<dt>$beforeDegreeAverageAuthor2And4</dt>\n",
       "\t\t<dd>60.1761006289308</dd>\n",
       "\t<dt>$beforeDegreeAverageAuthorOnly2</dt>\n",
       "\t\t<dd>62.6953642384106</dd>\n",
       "\t<dt>$beforeDegreeAverageSource3And4</dt>\n",
       "\t\t<dd>1.26808681672026</dd>\n",
       "\t<dt>$beforeDegreeAverageSourceOnly3</dt>\n",
       "\t\t<dd>1.25590128755365</dd>\n",
       "\t<dt>$beforeDegreeCentrality</dt>\n",
       "\t\t<dd>0.0232117228168916</dd>\n",
       "\t<dt>$beforeDegreeMax</dt>\n",
       "\t\t<dd>321</dd>\n",
       "\t<dt>$beforeDegreeVariance</dt>\n",
       "\t\t<dd>127.438177143404</dd>\n",
       "\t<dt>$beforeDegreeStandardDeviation</dt>\n",
       "\t\t<dd>11.2888518966015</dd>\n",
       "\t<dt>$beforeDensity</dt>\n",
       "\t\t<dd>9.98092826597409e-05</dd>\n",
       "\t<dt>$beforeRowCount</dt>\n",
       "\t\t<dd>13773</dd>\n",
       "\t<dt>$beforeTransitivity</dt>\n",
       "\t\t<dd>0.00342872708081513</dd>\n",
       "\t<dt>$afterBetweennessCentrality</dt>\n",
       "\t\t<dd>0.0303777406610043</dd>\n",
       "\t<dt>$afterConnectedness</dt>\n",
       "\t\t<dd>0.303995646265527</dd>\n",
       "\t<dt>$afterColumnCount</dt>\n",
       "\t\t<dd>13775</dd>\n",
       "\t<dt>$afterDataFileName</dt>\n",
       "\t\t<dd>'grp_6mos_by_month_2005-07-03_post-20220604-040716.tab'</dd>\n",
       "\t<dt>$afterDataPath</dt>\n",
       "\t\t<dd>'/home/jonathanmorgan/shares/phd_work/network_data/grp_6mos_by_month-take1/grp_6mos_by_month_2005-07-03_post-20220604-040716.tab'</dd>\n",
       "\t<dt>$afterDegreeAverage</dt>\n",
       "\t\t<dd>1.38836854715748</dd>\n",
       "\t<dt>$afterDegreeAverageAuthor2And4</dt>\n",
       "\t\t<dd>58.6121212121212</dd>\n",
       "\t<dt>$afterDegreeAverageAuthorOnly2</dt>\n",
       "\t\t<dd>59.171974522293</dd>\n",
       "\t<dt>$afterDegreeAverageSource3And4</dt>\n",
       "\t\t<dd>1.2935140113143</dd>\n",
       "\t<dt>$afterDegreeAverageSourceOnly3</dt>\n",
       "\t\t<dd>1.24469906492822</dd>\n",
       "\t<dt>$afterDegreeCentrality</dt>\n",
       "\t\t<dd>0.0213225583410718</dd>\n",
       "\t<dt>$afterDegreeMax</dt>\n",
       "\t\t<dd>295</dd>\n",
       "\t<dt>$afterDegreeVariance</dt>\n",
       "\t\t<dd>123.114697693963</dd>\n",
       "\t<dt>$afterDegreeStandardDeviation</dt>\n",
       "\t\t<dd>11.095706272877</dd>\n",
       "\t<dt>$afterDensity</dt>\n",
       "\t\t<dd>0.000100810960438388</dd>\n",
       "\t<dt>$afterRowCount</dt>\n",
       "\t\t<dd>13773</dd>\n",
       "\t<dt>$afterTransitivity</dt>\n",
       "\t\t<dd>0.00335767914962283</dd>\n",
       "\t<dt>$graphCorrelation</dt>\n",
       "\t\t<dd>0.456992042995495</dd>\n",
       "\t<dt>$graphCovariance</dt>\n",
       "\t\t<dd>0.000189908742816195</dd>\n",
       "\t<dt>$graphHammingDistance</dt>\n",
       "\t\t<dd>45358</dd>\n",
       "</dl>\n"
      ],
      "text/latex": [
       "\\begin{description}\n",
       "\\item[\\$baseDate] '2005-07-03'\n",
       "\\item[\\$networkDuration] '6mos'\n",
       "\\item[\\$label] '2005-07-03-grp\\_6mos\\_by\\_month'\n",
       "\\item[\\$beforeBetweennessCentrality] 0.036634060879916\n",
       "\\item[\\$beforeConnectedness] 0.294067754201938\n",
       "\\item[\\$beforeColumnCount] 13775\n",
       "\\item[\\$beforeDataFileName] 'grp\\_6mos\\_by\\_month\\_2005-07-03\\_pre-20220604-040520.tab'\n",
       "\\item[\\$beforeDataPath] '/home/jonathanmorgan/shares/phd\\_work/network\\_data/grp\\_6mos\\_by\\_month-take1/grp\\_6mos\\_by\\_month\\_2005-07-03\\_pre-20220604-040520.tab'\n",
       "\\item[\\$beforeDegreeAverage] 1.37457344078995\n",
       "\\item[\\$beforeDegreeAverageAuthor2And4] 60.1761006289308\n",
       "\\item[\\$beforeDegreeAverageAuthorOnly2] 62.6953642384106\n",
       "\\item[\\$beforeDegreeAverageSource3And4] 1.26808681672026\n",
       "\\item[\\$beforeDegreeAverageSourceOnly3] 1.25590128755365\n",
       "\\item[\\$beforeDegreeCentrality] 0.0232117228168916\n",
       "\\item[\\$beforeDegreeMax] 321\n",
       "\\item[\\$beforeDegreeVariance] 127.438177143404\n",
       "\\item[\\$beforeDegreeStandardDeviation] 11.2888518966015\n",
       "\\item[\\$beforeDensity] 9.98092826597409e-05\n",
       "\\item[\\$beforeRowCount] 13773\n",
       "\\item[\\$beforeTransitivity] 0.00342872708081513\n",
       "\\item[\\$afterBetweennessCentrality] 0.0303777406610043\n",
       "\\item[\\$afterConnectedness] 0.303995646265527\n",
       "\\item[\\$afterColumnCount] 13775\n",
       "\\item[\\$afterDataFileName] 'grp\\_6mos\\_by\\_month\\_2005-07-03\\_post-20220604-040716.tab'\n",
       "\\item[\\$afterDataPath] '/home/jonathanmorgan/shares/phd\\_work/network\\_data/grp\\_6mos\\_by\\_month-take1/grp\\_6mos\\_by\\_month\\_2005-07-03\\_post-20220604-040716.tab'\n",
       "\\item[\\$afterDegreeAverage] 1.38836854715748\n",
       "\\item[\\$afterDegreeAverageAuthor2And4] 58.6121212121212\n",
       "\\item[\\$afterDegreeAverageAuthorOnly2] 59.171974522293\n",
       "\\item[\\$afterDegreeAverageSource3And4] 1.2935140113143\n",
       "\\item[\\$afterDegreeAverageSourceOnly3] 1.24469906492822\n",
       "\\item[\\$afterDegreeCentrality] 0.0213225583410718\n",
       "\\item[\\$afterDegreeMax] 295\n",
       "\\item[\\$afterDegreeVariance] 123.114697693963\n",
       "\\item[\\$afterDegreeStandardDeviation] 11.095706272877\n",
       "\\item[\\$afterDensity] 0.000100810960438388\n",
       "\\item[\\$afterRowCount] 13773\n",
       "\\item[\\$afterTransitivity] 0.00335767914962283\n",
       "\\item[\\$graphCorrelation] 0.456992042995495\n",
       "\\item[\\$graphCovariance] 0.000189908742816195\n",
       "\\item[\\$graphHammingDistance] 45358\n",
       "\\end{description}\n"
      ],
      "text/markdown": [
       "$baseDate\n",
       ":   '2005-07-03'\n",
       "$networkDuration\n",
       ":   '6mos'\n",
       "$label\n",
       ":   '2005-07-03-grp_6mos_by_month'\n",
       "$beforeBetweennessCentrality\n",
       ":   0.036634060879916\n",
       "$beforeConnectedness\n",
       ":   0.294067754201938\n",
       "$beforeColumnCount\n",
       ":   13775\n",
       "$beforeDataFileName\n",
       ":   'grp_6mos_by_month_2005-07-03_pre-20220604-040520.tab'\n",
       "$beforeDataPath\n",
       ":   '/home/jonathanmorgan/shares/phd_work/network_data/grp_6mos_by_month-take1/grp_6mos_by_month_2005-07-03_pre-20220604-040520.tab'\n",
       "$beforeDegreeAverage\n",
       ":   1.37457344078995\n",
       "$beforeDegreeAverageAuthor2And4\n",
       ":   60.1761006289308\n",
       "$beforeDegreeAverageAuthorOnly2\n",
       ":   62.6953642384106\n",
       "$beforeDegreeAverageSource3And4\n",
       ":   1.26808681672026\n",
       "$beforeDegreeAverageSourceOnly3\n",
       ":   1.25590128755365\n",
       "$beforeDegreeCentrality\n",
       ":   0.0232117228168916\n",
       "$beforeDegreeMax\n",
       ":   321\n",
       "$beforeDegreeVariance\n",
       ":   127.438177143404\n",
       "$beforeDegreeStandardDeviation\n",
       ":   11.2888518966015\n",
       "$beforeDensity\n",
       ":   9.98092826597409e-05\n",
       "$beforeRowCount\n",
       ":   13773\n",
       "$beforeTransitivity\n",
       ":   0.00342872708081513\n",
       "$afterBetweennessCentrality\n",
       ":   0.0303777406610043\n",
       "$afterConnectedness\n",
       ":   0.303995646265527\n",
       "$afterColumnCount\n",
       ":   13775\n",
       "$afterDataFileName\n",
       ":   'grp_6mos_by_month_2005-07-03_post-20220604-040716.tab'\n",
       "$afterDataPath\n",
       ":   '/home/jonathanmorgan/shares/phd_work/network_data/grp_6mos_by_month-take1/grp_6mos_by_month_2005-07-03_post-20220604-040716.tab'\n",
       "$afterDegreeAverage\n",
       ":   1.38836854715748\n",
       "$afterDegreeAverageAuthor2And4\n",
       ":   58.6121212121212\n",
       "$afterDegreeAverageAuthorOnly2\n",
       ":   59.171974522293\n",
       "$afterDegreeAverageSource3And4\n",
       ":   1.2935140113143\n",
       "$afterDegreeAverageSourceOnly3\n",
       ":   1.24469906492822\n",
       "$afterDegreeCentrality\n",
       ":   0.0213225583410718\n",
       "$afterDegreeMax\n",
       ":   295\n",
       "$afterDegreeVariance\n",
       ":   123.114697693963\n",
       "$afterDegreeStandardDeviation\n",
       ":   11.095706272877\n",
       "$afterDensity\n",
       ":   0.000100810960438388\n",
       "$afterRowCount\n",
       ":   13773\n",
       "$afterTransitivity\n",
       ":   0.00335767914962283\n",
       "$graphCorrelation\n",
       ":   0.456992042995495\n",
       "$graphCovariance\n",
       ":   0.000189908742816195\n",
       "$graphHammingDistance\n",
       ":   45358\n",
       "\n",
       "\n"
      ],
      "text/plain": [
       "$baseDate\n",
       "[1] \"2005-07-03\"\n",
       "\n",
       "$networkDuration\n",
       "[1] \"6mos\"\n",
       "\n",
       "$label\n",
       "[1] \"2005-07-03-grp_6mos_by_month\"\n",
       "\n",
       "$beforeBetweennessCentrality\n",
       "[1] 0.03663406\n",
       "\n",
       "$beforeConnectedness\n",
       "[1] 0.2940678\n",
       "\n",
       "$beforeColumnCount\n",
       "[1] 13775\n",
       "\n",
       "$beforeDataFileName\n",
       "[1] \"grp_6mos_by_month_2005-07-03_pre-20220604-040520.tab\"\n",
       "\n",
       "$beforeDataPath\n",
       "[1] \"/home/jonathanmorgan/shares/phd_work/network_data/grp_6mos_by_month-take1/grp_6mos_by_month_2005-07-03_pre-20220604-040520.tab\"\n",
       "\n",
       "$beforeDegreeAverage\n",
       "[1] 1.374573\n",
       "\n",
       "$beforeDegreeAverageAuthor2And4\n",
       "[1] 60.1761\n",
       "\n",
       "$beforeDegreeAverageAuthorOnly2\n",
       "[1] 62.69536\n",
       "\n",
       "$beforeDegreeAverageSource3And4\n",
       "[1] 1.268087\n",
       "\n",
       "$beforeDegreeAverageSourceOnly3\n",
       "[1] 1.255901\n",
       "\n",
       "$beforeDegreeCentrality\n",
       "[1] 0.02321172\n",
       "\n",
       "$beforeDegreeMax\n",
       "[1] 321\n",
       "\n",
       "$beforeDegreeVariance\n",
       "[1] 127.4382\n",
       "\n",
       "$beforeDegreeStandardDeviation\n",
       "[1] 11.28885\n",
       "\n",
       "$beforeDensity\n",
       "[1] 9.980928e-05\n",
       "\n",
       "$beforeRowCount\n",
       "[1] 13773\n",
       "\n",
       "$beforeTransitivity\n",
       "[1] 0.003428727\n",
       "\n",
       "$afterBetweennessCentrality\n",
       "[1] 0.03037774\n",
       "\n",
       "$afterConnectedness\n",
       "[1] 0.3039956\n",
       "\n",
       "$afterColumnCount\n",
       "[1] 13775\n",
       "\n",
       "$afterDataFileName\n",
       "[1] \"grp_6mos_by_month_2005-07-03_post-20220604-040716.tab\"\n",
       "\n",
       "$afterDataPath\n",
       "[1] \"/home/jonathanmorgan/shares/phd_work/network_data/grp_6mos_by_month-take1/grp_6mos_by_month_2005-07-03_post-20220604-040716.tab\"\n",
       "\n",
       "$afterDegreeAverage\n",
       "[1] 1.388369\n",
       "\n",
       "$afterDegreeAverageAuthor2And4\n",
       "[1] 58.61212\n",
       "\n",
       "$afterDegreeAverageAuthorOnly2\n",
       "[1] 59.17197\n",
       "\n",
       "$afterDegreeAverageSource3And4\n",
       "[1] 1.293514\n",
       "\n",
       "$afterDegreeAverageSourceOnly3\n",
       "[1] 1.244699\n",
       "\n",
       "$afterDegreeCentrality\n",
       "[1] 0.02132256\n",
       "\n",
       "$afterDegreeMax\n",
       "[1] 295\n",
       "\n",
       "$afterDegreeVariance\n",
       "[1] 123.1147\n",
       "\n",
       "$afterDegreeStandardDeviation\n",
       "[1] 11.09571\n",
       "\n",
       "$afterDensity\n",
       "[1] 0.000100811\n",
       "\n",
       "$afterRowCount\n",
       "[1] 13773\n",
       "\n",
       "$afterTransitivity\n",
       "[1] 0.003357679\n",
       "\n",
       "$graphCorrelation\n",
       "[1] 0.456992\n",
       "\n",
       "$graphCovariance\n",
       "[1] 0.0001899087\n",
       "\n",
       "$graphHammingDistance\n",
       "[1] 45358\n"
      ]
     },
     "metadata": {},
     "output_type": "display_data"
    }
   ],
   "source": [
    "testList <- processBeforeAfterNetworks(\n",
    "    beforeDataDirectoryIN = data_directory,\n",
    "    beforeFileIN = \"grp_6mos_by_month_2005-07-03_pre-20220604-040520.tab\",\n",
    "    afterDataDirectoryIN = data_directory,\n",
    "    afterFileIN = \"grp_6mos_by_month_2005-07-03_post-20220604-040716.tab\",\n",
    "    dateIN = \"2005-07-03\",\n",
    "    networkDurationIN = \"6mos\",\n",
    "    labelIN = \"2005-07-03-grp_6mos_by_month\",\n",
    "    debugFlagIN = FALSE\n",
    ")\n",
    "\n",
    "testList"
   ]
  },
  {
   "cell_type": "markdown",
   "id": "df404639-8aaa-4721-bb46-4ebd130571dd",
   "metadata": {},
   "source": [
    "## NetworkBeforeAfterDatePair - process pair of networks"
   ]
  },
  {
   "cell_type": "code",
   "execution_count": null,
   "id": "f0b7fc45-07e2-4776-a579-d8449ee73122",
   "metadata": {},
   "outputs": [],
   "source": [
    "# Create pair instance and set basic information\n",
    "testNetworkPair <- NetworkBeforeAfterDatePair()\n",
    "testNetworkPair$myBaseDate <- \"2005-07-03\"\n",
    "testNetworkPair$myLabel <- paste( testNetworkPair$myBaseDate, \"-6mos\", sep = \"\" )\n"
   ]
  },
  {
   "cell_type": "code",
   "execution_count": null,
   "id": "9c640a0c-8ced-4051-bfb1-2be89f35ee88",
   "metadata": {},
   "outputs": [],
   "source": [
    "testNetworkPair$loadBeforeNetwork(\n",
    "    data_directory,\n",
    "    \"grp_6mos_by_month_2005-07-03_pre-20220604-040520.tab\"\n",
    ")"
   ]
  },
  {
   "cell_type": "markdown",
   "id": "34cbc1c8-04e5-4597-8508-7d855c125a8c",
   "metadata": {},
   "source": [
    "- average degree = 1.37457344078995\n",
    "- average author degree (2 and 4) = 60.1761006289308\n",
    "- average author degree (only 2) = 62.6953642384106\n",
    "- average source degree (3 and 4) = 1.26808681672026\n",
    "- average source degree (only 3) = 1.25590128755365\n",
    "- degree SD = 11.2888518966015\n",
    "- degree variance = 127.438177143404\n",
    "- degree max = 321\n",
    "- degree centrality = 0.0232117228168916\n",
    "- betweenness centrality = 0.036634060879916\n",
    "- connectedness = 0.294067754201938\n",
    "- Warning message in sna::gtrans(myNetworkStatnet, mode = \"graph\"):\n",
    "“gtrans called with use.adjacency=TRUE, but your data looks too large for that to work well.  Overriding to edgelist method.”\n",
    "- transitivity = 0.00342872708081513\n",
    "- density = 9.98092826597409e-05"
   ]
  },
  {
   "cell_type": "code",
   "execution_count": null,
   "id": "a612a615-a6fe-4be6-84bb-d4bf5b88bda7",
   "metadata": {},
   "outputs": [],
   "source": [
    "testNetworkPair <- NetworkBeforeAfterDatePair()\n",
    "testNetworkPair$loadAfterNetwork(\n",
    "    data_directory,\n",
    "    \"grp_6mos_by_month_2005-07-03_post-20220604-040716.tab\"\n",
    ")"
   ]
  },
  {
   "cell_type": "markdown",
   "id": "f1abb68a-e426-4cc8-9c94-6775594e3450",
   "metadata": {},
   "source": [
    "- average degree = 1.38836854715748\n",
    "- average author degree (2 and 4) = 58.6121212121212\n",
    "- average author degree (only 2) = 59.171974522293\n",
    "- average source degree (3 and 4) = 1.2935140113143\n",
    "- average source degree (only 3) = 1.24469906492822\n",
    "- degree SD = 11.095706272877\n",
    "- degree variance = 123.114697693963\n",
    "- degree max = 295\n",
    "- degree centrality = 0.0213225583410718\n",
    "- betweenness centrality = 0.0303777406610043\n",
    "- connectedness = 0.303995646265527\n",
    "- Warning message in sna::gtrans(myNetworkStatnet, mode = \"graph\"):\n",
    "“gtrans called with use.adjacency=TRUE, but your data looks too large for that to work well.  Overriding to edgelist method.”\n",
    "- transitivity = 0.00335767914962283\n",
    "- density = 0.000100810960438388"
   ]
  },
  {
   "cell_type": "code",
   "execution_count": null,
   "id": "661440d3-c116-46a4-86e5-94c69f23d996",
   "metadata": {},
   "outputs": [],
   "source": [
    "testNetworkPair$compareMatrices()"
   ]
  },
  {
   "cell_type": "code",
   "execution_count": null,
   "id": "e0d8667b-8faa-430a-9406-eb433eee5e73",
   "metadata": {},
   "outputs": [],
   "source": [
    "testNetwork <- testNetworkPair$myBeforeNetwork\n",
    "testNetwork$myDegreeAverage"
   ]
  },
  {
   "cell_type": "code",
   "execution_count": null,
   "id": "22921819-8be9-4af6-b5f5-4c7a339c0b54",
   "metadata": {},
   "outputs": [],
   "source": [
    "testNetworkPair$myGraphCorrelation"
   ]
  },
  {
   "cell_type": "markdown",
   "id": "f3b95239-ac3a-4be8-9774-71a4fc1f1b81",
   "metadata": {},
   "source": [
    "# garbage collection"
   ]
  },
  {
   "cell_type": "code",
   "execution_count": null,
   "id": "1d8a3f4d-6f3f-4f25-9864-7d20123bddc3",
   "metadata": {},
   "outputs": [],
   "source": [
    "sort(sapply(ls(), function(x) format(object.size(get(x)), unit = 'auto')))"
   ]
  },
  {
   "cell_type": "code",
   "execution_count": null,
   "id": "5651ae5f-3d6f-48bc-bc50-03befb29b790",
   "metadata": {},
   "outputs": [],
   "source": [
    "rm( testNetworkInfo )\n",
    "rm( testNetworkPair )\n",
    "gc()"
   ]
  },
  {
   "cell_type": "markdown",
   "id": "94ea3bbf-0533-4414-aa4c-b79b6bd79fa2",
   "metadata": {},
   "source": [
    "# Workspace"
   ]
  },
  {
   "cell_type": "markdown",
   "id": "8ac6264c-daf0-4dbb-8355-c1eec2cf7bc4",
   "metadata": {},
   "source": [
    "## Workspace - load workspace (optional)\n",
    "\n",
    "If you want, you can load this file's workspace, from a previous run:"
   ]
  },
  {
   "cell_type": "code",
   "execution_count": null,
   "id": "e80992e3-5f74-4c27-b2df-76a5ea5fc121",
   "metadata": {
    "ExecuteTime": {
     "end_time": "2017-12-10T05:01:35.275829Z",
     "start_time": "2017-12-10T05:01:34.708Z"
    }
   },
   "outputs": [],
   "source": [
    "# assumes that you've already set working directory above to the\n",
    "#     working directory.\n",
    "setwd( data_directory )\n",
    "load( workspace_file_name )"
   ]
  },
  {
   "cell_type": "markdown",
   "id": "6df21314-f5cf-4c5d-8884-0c30863a268d",
   "metadata": {
    "tags": []
   },
   "source": [
    "## Workspace - Save workspace image\n",
    "\n",
    "- Back to [Table of Contents](#Table-of-Contents)\n",
    "\n",
    "Save all the information in the current image, in case we need/want it later."
   ]
  },
  {
   "cell_type": "code",
   "execution_count": null,
   "id": "b5ada18d-582d-49ee-b3ab-35f7aff70bb7",
   "metadata": {
    "ExecuteTime": {
     "end_time": "2019-07-25T22:35:24.020012Z",
     "start_time": "2019-07-25T22:35:22.295Z"
    }
   },
   "outputs": [],
   "source": [
    "# help( save.image )\n",
    "message( paste( \"Output workspace to: \", workspace_file_name, sep = \"\" ) )\n",
    "save.image( file = workspace_file_name )"
   ]
  },
  {
   "cell_type": "markdown",
   "id": "f7377d85-317c-411b-93d6-f5dd26c82fd3",
   "metadata": {},
   "source": [
    "# Appendices"
   ]
  },
  {
   "cell_type": "markdown",
   "id": "1c4ceb8b-08a5-46fa-9d34-daf1a1c879d5",
   "metadata": {},
   "source": [
    "## Appendix - Example single network analysis"
   ]
  },
  {
   "cell_type": "markdown",
   "id": "eb9a5ff3-0b87-4933-8541-f31735fb7079",
   "metadata": {},
   "source": [
    "### `test` - loading large network matrix\n",
    "\n",
    "First, we'll just try to load a 5 GB network matrix (all people from entire time, ties from articles in 2005)."
   ]
  },
  {
   "cell_type": "code",
   "execution_count": null,
   "id": "9d653dd0-2188-4764-995b-dce075b31574",
   "metadata": {
    "ExecuteTime": {
     "end_time": "2017-12-08T04:21:23.765124Z",
     "start_time": "2017-12-08T04:21:23.768Z"
    }
   },
   "outputs": [],
   "source": [
    "# initialize variables\n",
    "testDataFolder <- data_directory\n",
    "testDataFile <- \"all_grp_hard_news_2005-20220603-015300.txt\"\n",
    "testDataPath <- paste( testDataFolder, \"/\", testDataFile, sep = \"\" )"
   ]
  },
  {
   "cell_type": "code",
   "execution_count": null,
   "id": "57cc0990-7c7a-4ba3-9d21-57eaedff38d1",
   "metadata": {
    "ExecuteTime": {
     "end_time": "2017-12-08T04:21:34.192082Z",
     "start_time": "2017-12-08T04:21:34.195Z"
    }
   },
   "outputs": [],
   "source": [
    "testDataPath"
   ]
  },
  {
   "cell_type": "markdown",
   "id": "dae58b03-e583-4e11-b846-f963a54579f3",
   "metadata": {},
   "source": [
    "Load the data file into memory"
   ]
  },
  {
   "cell_type": "code",
   "execution_count": null,
   "id": "2a9ea958-be54-463a-9279-146ea13f2621",
   "metadata": {
    "ExecuteTime": {
     "end_time": "2017-12-08T04:21:39.543163Z",
     "start_time": "2017-12-08T04:21:39.041Z"
    }
   },
   "outputs": [],
   "source": [
    "# tab-delimited:\n",
    "testDataDF <- read.delim( testDataPath, header = TRUE, row.names = 1, check.names = FALSE )"
   ]
  },
  {
   "cell_type": "code",
   "execution_count": null,
   "id": "fdd929c7-8d2d-4886-a4e8-73f7ac47e998",
   "metadata": {
    "ExecuteTime": {
     "end_time": "2017-12-08T04:21:41.263112Z",
     "start_time": "2017-12-08T04:21:41.258Z"
    }
   },
   "outputs": [],
   "source": [
    "# get count of rows...\n",
    "testRowCount <- nrow( testDataDF )\n",
    "paste( \"test row count = \", testRowCount, sep = \"\" )\n",
    "\n",
    "# ...and columns\n",
    "testColumnCount <- ncol( testDataDF )\n",
    "paste( \"test column count = \", testColumnCount, sep = \"\" )"
   ]
  },
  {
   "cell_type": "markdown",
   "id": "83c8716b-be6a-4210-a112-7aeae2a59deb",
   "metadata": {},
   "source": [
    "Get just the tie rows and columns for initializing network libraries."
   ]
  },
  {
   "cell_type": "code",
   "execution_count": null,
   "id": "b168ff29-f64b-43a6-9497-09333f207f0a",
   "metadata": {
    "ExecuteTime": {
     "end_time": "2017-12-08T04:21:44.032913Z",
     "start_time": "2017-12-08T04:21:44.037Z"
    }
   },
   "outputs": [],
   "source": [
    "# the below syntax returns only as many columns as there are rows, so\n",
    "#     omitting any trait columns that lie in columns on the right side\n",
    "#     of the file.\n",
    "testNetworkDF <- testDataDF[ , 1 : testRowCount ]\n",
    "#str( testNetworkDF )"
   ]
  },
  {
   "cell_type": "code",
   "execution_count": null,
   "id": "54d55e1b-1c45-4a06-b150-f872f66ae804",
   "metadata": {
    "ExecuteTime": {
     "end_time": "2017-12-08T04:21:45.730944Z",
     "start_time": "2017-12-08T04:21:45.730Z"
    }
   },
   "outputs": [],
   "source": [
    "# convert to a matrix\n",
    "testNetworkMatrix <- as.matrix( testNetworkDF )\n",
    "# str( testNetworkMatrix )"
   ]
  },
  {
   "cell_type": "markdown",
   "id": "52bc9b94-7db0-483e-9cca-7559d7b2b076",
   "metadata": {},
   "source": [
    "### `test` - initialize statnet\n",
    "\n",
    "- Back to [Table of Contents](#Table-of-Contents)\n",
    "\n",
    "First, load the statnet package, then load the automated grp_month data into statnet object and assign attributes to nodes.\n",
    "\n",
    "Based on `context_text/R/sna/statnet/sna-statnet-init.r`."
   ]
  },
  {
   "cell_type": "code",
   "execution_count": null,
   "id": "fbf9763f-2b29-4a50-b2c3-de436b5bc169",
   "metadata": {
    "ExecuteTime": {
     "end_time": "2017-12-08T04:21:51.864666Z",
     "start_time": "2017-12-08T04:21:48.771Z"
    }
   },
   "outputs": [],
   "source": [
    "# make sure you've loaded the statnet library\n",
    "#install.packages( \"statnet\" )\n",
    "library( statnet )"
   ]
  },
  {
   "cell_type": "code",
   "execution_count": null,
   "id": "e6c1c8f5-fbb5-47fc-9572-6e6f7e583066",
   "metadata": {
    "ExecuteTime": {
     "end_time": "2017-12-08T04:21:58.264741Z",
     "start_time": "2017-12-08T04:21:57.687Z"
    }
   },
   "outputs": [],
   "source": [
    "# If you have a data frame of attributes (each attribute is a column, with\n",
    "#     attribute name the column name), you can associate those attributes\n",
    "#     when you create the network.\n",
    "# attribute help: http://www.inside-r.org/packages/cran/network/docs/loading.attributes\n",
    "\n",
    "# load attributes from a file:\n",
    "#tab_attribute_test1 <- read.delim( \"tab-test1-attribute_data.txt\", header = TRUE, row.names = 1, check.names = FALSE )\n",
    "\n",
    "# or create DataFrame by just grabbing the attribute columns\n",
    "testNetworkAttributeDF <- testDataDF[ , ( testColumnCount - 1 ) : testColumnCount ]\n",
    "\n",
    "# convert matrix to statnet network object instance.\n",
    "testNetworkStatnet <- network( testNetworkMatrix, matrix.type = \"adjacency\", directed = FALSE, vertex.attr = testNetworkAttributeDF )\n",
    "\n",
    "# look at information now.\n",
    "testNetworkStatnet\n",
    "\n",
    "# Network attributes:\n",
    "#  vertices = 314\n",
    "#  directed = FALSE\n",
    "#  hyper = FALSE\n",
    "#  loops = FALSE\n",
    "#  multiple = FALSE\n",
    "#  bipartite = FALSE\n",
    "#  total edges= 309\n",
    "#    missing edges= 0\n",
    "#    non-missing edges= 309\n",
    "#\n",
    "# Vertex attribute names:\n",
    "#    person_type vertex.names\n",
    "#\n",
    "# No edge attributes\n"
   ]
  },
  {
   "cell_type": "markdown",
   "id": "03b8642f-c1c3-49e9-8e1c-31f62d21c667",
   "metadata": {},
   "source": [
    "### `test` - Basic metrics\n",
    "\n",
    "- Back to [Table of Contents](#Table-of-Contents)"
   ]
  },
  {
   "cell_type": "code",
   "execution_count": null,
   "id": "7b90fe9e-9527-40d1-b504-47703fc9b420",
   "metadata": {
    "ExecuteTime": {
     "end_time": "2017-12-08T04:22:04.538822Z",
     "start_time": "2017-12-08T04:22:04.517Z"
    }
   },
   "outputs": [],
   "source": [
    "# assuming that our statnet network object is in reference test1_statnet.\n",
    "\n",
    "# Use the degree function in the sna package to create vector of degree values\n",
    "#    for each node.  Make sure to pass the gmode parameter to tell it that the\n",
    "#    graph is not directed (gmode = \"graph\", instead of \"digraph\").\n",
    "# Doc: http://www.inside-r.org/packages/cran/sna/docs/degree\n",
    "#degree_vector <- degree( test1_statnet, gmode = \"graph\" )\n",
    "\n",
    "# If you have other libraries loaded that also implement a degree function, you\n",
    "#    can also call this with package name:\n",
    "testDegreeVector <- sna::degree( testNetworkStatnet, gmode = \"graph\" )\n",
    "\n",
    "# output the vector\n",
    "#testDegreeVector\n",
    "\n",
    "# want more info on the degree function?  You can get to it eventually through\n",
    "#    the following:\n",
    "#help( package = \"sna\" )\n",
    "#??sna::degree\n",
    "\n",
    "# what is the average (mean) degree?\n",
    "testAvgDegree <- mean( testDegreeVector )\n",
    "paste( \"average degree = \", testAvgDegree, sep = \"\" )\n",
    "\n",
    "# subset vector to get only those that are above mean\n",
    "testAboveMeanVector <- testDegreeVector[ testDegreeVector > testAvgDegree ]\n",
    "\n",
    "# Take the degree and associate it with each node as a node attribute.\n",
    "#    (%v% is a shortcut for the get.vertex.attribute command)\n",
    "testNetworkStatnet %v% \"degree\" <- testDegreeVector\n",
    "\n",
    "# also add degree vector to original data frame\n",
    "testDataDF$degree <- testDegreeVector\n"
   ]
  },
  {
   "cell_type": "code",
   "execution_count": null,
   "id": "90d5e4a9-fbc3-4344-9e07-b3373afa0032",
   "metadata": {
    "ExecuteTime": {
     "end_time": "2017-12-08T04:22:06.585819Z",
     "start_time": "2017-12-08T04:22:06.365Z"
    }
   },
   "outputs": [],
   "source": [
    "# average author degree (person types 2 and 4)\n",
    "testAverageAuthorDegree2And4 <- calcAuthorMeanDegree( dataFrameIN = testDataDF, includeBothIN = TRUE )\n",
    "paste( \"average author degree (2 and 4) = \", testAverageAuthorDegree2And4, sep = \"\" )\n",
    "\n",
    "# average author degree (person type 2 only)\n",
    "testAverageAuthorDegreeOnly2 <- calcAuthorMeanDegree( dataFrameIN = testDataDF, includeBothIN = FALSE )\n",
    "paste( \"average author degree (only 2) = \", testAverageAuthorDegreeOnly2, sep = \"\" )\n",
    "\n",
    "# average source degree (person types 3 and 4)\n",
    "testAverageSourceDegree3And4 <- calcSourceMeanDegree( dataFrameIN = testDataDF, includeBothIN = TRUE )\n",
    "paste( \"average source degree (3 and 4) = \", testAverageSourceDegree3And4, sep = \"\" )\n",
    "\n",
    "# average source degree (person type 3 only)\n",
    "testAverageSourceDegreeOnly3 <- calcSourceMeanDegree( dataFrameIN = testDataDF, includeBothIN = FALSE )\n",
    "paste( \"average source degree (only 3) = \", testAverageSourceDegreeOnly3, sep = \"\" )\n"
   ]
  },
  {
   "cell_type": "markdown",
   "id": "c81eb96e-7fd1-43de-baa7-7bf8251c81df",
   "metadata": {},
   "source": [
    "### `test` - More metrics\n",
    "\n",
    "- Back to [Table of Contents](#Table-of-Contents)\n",
    "\n",
    "Now that we have the data in statnet object, run the code in the following for more in-depth information:\n",
    "\n",
    "* `context_text/R/sna/statnet/sna-statnet-network-stats.r`"
   ]
  },
  {
   "cell_type": "code",
   "execution_count": null,
   "id": "7cc6a1b7-4273-4332-a269-d5651b81471b",
   "metadata": {
    "ExecuteTime": {
     "end_time": "2017-12-08T04:22:10.631237Z",
     "start_time": "2017-12-08T04:22:09.004Z"
    }
   },
   "outputs": [],
   "source": [
    "# Links:\n",
    "# - manual (PDF): http://cran.r-project.org/web/packages/sna/sna.pdf\n",
    "# - good notes: http://www.shizukalab.com/toolkits/sna/node-level-calculations\n",
    "\n",
    "# Also, be advised that statnet and igraph don't really play nice together.\n",
    "#    If you'll be using both, best idea is to have a workspace for each.\n",
    "\n",
    "#==============================================================================#\n",
    "# statnet\n",
    "#==============================================================================#\n",
    "\n",
    "# make sure you've loaded the statnet library (includes sna)\n",
    "# install.packages( \"statnet\" )\n",
    "#library( statnet )\n",
    "\n",
    "#==============================================================================#\n",
    "# NODE level\n",
    "#==============================================================================#\n",
    "\n",
    "# what is the standard deviation of the degrees?\n",
    "testDegreeSd <- sd( testDegreeVector )\n",
    "paste( \"degree SD = \", testDegreeSd, sep = \"\" )\n",
    "\n",
    "# what is the variance of the degrees?\n",
    "testDegreeVar <- var( testDegreeVector )\n",
    "paste( \"degree variance = \", testDegreeVar, sep = \"\" )\n",
    "\n",
    "# what is the max value among the degrees?\n",
    "testDegreeMax <- max( testDegreeVector )\n",
    "paste( \"degree max = \", testDegreeMax, sep = \"\" )\n",
    "\n",
    "# calculate and plot degree distributions\n",
    "testDegreeFrequenciesTable <- table( testDegreeVector )\n",
    "paste( \"degree frequencies = \", testDegreeFrequenciesTable, sep = \"\" )\n",
    "testDegreeFrequenciesTable\n",
    "\n",
    "# node-level undirected betweenness\n",
    "testBetweenness <- sna::betweenness( testNetworkStatnet, gmode = \"graph\", cmode = \"undirected\" )\n",
    "\n",
    "#paste( \"betweenness = \", testBetweenness, sep = \"\" )\n",
    "# associate with each node as a node attribute.\n",
    "#    (%v% is a shortcut for the get.vertex.attribute command)\n",
    "testNetworkStatnet %v% \"betweenness\" <- testBetweenness\n",
    "\n",
    "# also add degree vector to original data frame\n",
    "testDataDF$betweenness <- testBetweenness\n",
    "\n",
    "#==============================================================================#\n",
    "# NETWORK level\n",
    "#==============================================================================#\n",
    "\n",
    "# graph-level degree centrality\n",
    "testDegreeCentrality <- sna::centralization( testNetworkStatnet, sna::degree, mode = \"graph\" )\n",
    "paste( \"degree centrality = \", testDegreeCentrality, sep = \"\" )\n",
    "\n",
    "# graph-level betweenness centrality\n",
    "testBetweennessCentrality <- sna::centralization( testNetworkStatnet, sna::betweenness, mode = \"graph\", cmode = \"undirected\" )\n",
    "paste( \"betweenness centrality = \", testBetweennessCentrality, sep = \"\" )\n",
    "\n",
    "# graph-level connectedness\n",
    "testConnectedness <- sna::connectedness( testNetworkStatnet )\n",
    "paste( \"connectedness = \", testConnectedness, sep = \"\" )\n",
    "\n",
    "# graph-level transitivity\n",
    "testTransitivity <- sna::gtrans( testNetworkStatnet, mode = \"graph\" )\n",
    "paste( \"transitivity = \", testTransitivity, sep = \"\" )\n",
    "\n",
    "# graph-level density\n",
    "testDensity <- sna::gden( testNetworkStatnet, mode = \"graph\" )\n",
    "paste( \"density = \", testDensity, sep = \"\" )\n"
   ]
  },
  {
   "cell_type": "markdown",
   "id": "e4b09fe5-f13a-4458-a355-c34cfbc8d356",
   "metadata": {},
   "source": [
    "### `test` - create node attribute DataFrame\n",
    "\n",
    "- Back to [Table of Contents](#Table-of-Contents)\n",
    "\n",
    "If you want to just work with the traits of the nodes/vertexes, you can combine the attribute vectors into a data frame."
   ]
  },
  {
   "cell_type": "code",
   "execution_count": null,
   "id": "9608a077-17e4-4445-863e-50d4fb8e4256",
   "metadata": {
    "ExecuteTime": {
     "end_time": "2017-12-08T04:22:13.361451Z",
     "start_time": "2017-12-08T04:22:13.284Z"
    },
    "scrolled": true
   },
   "outputs": [],
   "source": [
    "#==============================================================================#\n",
    "# output attributes to data frame\n",
    "#==============================================================================#\n",
    "\n",
    "# if you want to just work with the traits of the nodes/vertexes, you can\n",
    "#    combine the attribute vectors into a data frame.\n",
    "\n",
    "# first, output network object to see what attributes you have\n",
    "testNetworkStatnet\n",
    "\n",
    "# then, combine them into a data frame.\n",
    "testNodeAttrDF <- data.frame( id = testNetworkStatnet %v% \"vertex.names\",\n",
    "                                     person_id = testNetworkStatnet %v% \"person_id\",\n",
    "                                     person_type = testNetworkStatnet %v% \"person_type\",\n",
    "                                     degree = testNetworkStatnet %v% \"degree\",\n",
    "                                     betweenness = testNetworkStatnet %v% \"betweenness\" )\n"
   ]
  },
  {
   "cell_type": "markdown",
   "id": "2112c254-27a1-4f90-938c-fc104f9c10fc",
   "metadata": {},
   "source": [
    "## Appendix - QAP network correlation"
   ]
  },
  {
   "cell_type": "markdown",
   "id": "a14fb04a-1e22-4183-9345-0f3c00e4fed2",
   "metadata": {},
   "source": [
    "### Load matrix 1 - before"
   ]
  },
  {
   "cell_type": "code",
   "execution_count": null,
   "id": "9cec41eb-33e9-4b6c-b683-adcfe40249f8",
   "metadata": {
    "ExecuteTime": {
     "end_time": "2017-12-08T04:21:23.765124Z",
     "start_time": "2017-12-08T04:21:23.768Z"
    }
   },
   "outputs": [],
   "source": [
    "# initialize variables\n",
    "beforeDataFolder <- data_directory\n",
    "beforeDataFile <- \"grp_6mos_by_month_2006-06-09_pre-20220604-044842.tab\"\n",
    "beforeDataPath <- paste( beforeDataFolder, \"/\", beforeDataFile, sep = \"\" )"
   ]
  },
  {
   "cell_type": "code",
   "execution_count": null,
   "id": "d631fd4d-ff68-4cfe-81ef-3821b56f24e8",
   "metadata": {
    "ExecuteTime": {
     "end_time": "2017-12-08T04:21:34.192082Z",
     "start_time": "2017-12-08T04:21:34.195Z"
    }
   },
   "outputs": [],
   "source": [
    "beforeDataPath"
   ]
  },
  {
   "cell_type": "markdown",
   "id": "d30a6f73-04dc-45fe-a53c-72c21979972f",
   "metadata": {},
   "source": [
    "Load the data file into memory"
   ]
  },
  {
   "cell_type": "code",
   "execution_count": null,
   "id": "2c9bbd41-b90f-4d46-9cfa-78fcaca712a8",
   "metadata": {
    "ExecuteTime": {
     "end_time": "2017-12-08T04:21:39.543163Z",
     "start_time": "2017-12-08T04:21:39.041Z"
    }
   },
   "outputs": [],
   "source": [
    "# tab-delimited:\n",
    "beforeDataDF <- read.delim( beforeDataPath, header = TRUE, row.names = 1, check.names = FALSE )"
   ]
  },
  {
   "cell_type": "code",
   "execution_count": null,
   "id": "9825946d-4417-4e44-b4b7-7f2e4674bf45",
   "metadata": {
    "ExecuteTime": {
     "end_time": "2017-12-08T04:21:41.263112Z",
     "start_time": "2017-12-08T04:21:41.258Z"
    }
   },
   "outputs": [],
   "source": [
    "# get count of rows...\n",
    "beforeRowCount <- nrow( beforeDataDF )\n",
    "paste( \"before row count = \", beforeRowCount, sep = \"\" )\n",
    "\n",
    "# ...and columns\n",
    "beforeColumnCount <- ncol( beforeDataDF )\n",
    "paste( \"before column count = \", beforeColumnCount, sep = \"\" )"
   ]
  },
  {
   "cell_type": "markdown",
   "id": "ada2e8c7-6236-4b9c-ae79-cb6c809bf4ad",
   "metadata": {},
   "source": [
    "Get just the tie rows and columns for initializing network libraries."
   ]
  },
  {
   "cell_type": "code",
   "execution_count": null,
   "id": "6a4cfcfc-8c09-4a07-82db-dc8ea262a4a2",
   "metadata": {
    "ExecuteTime": {
     "end_time": "2017-12-08T04:21:44.032913Z",
     "start_time": "2017-12-08T04:21:44.037Z"
    }
   },
   "outputs": [],
   "source": [
    "# the below syntax returns only as many columns as there are rows, so\n",
    "#     omitting any trait columns that lie in columns on the right side\n",
    "#     of the file.\n",
    "beforeNetworkDF <- beforeDataDF[ , 1 : beforeRowCount ]\n",
    "#str( beforeNetworkDF )"
   ]
  },
  {
   "cell_type": "code",
   "execution_count": null,
   "id": "e52d8e84-13ad-48d4-b535-59dd8d4808f9",
   "metadata": {
    "ExecuteTime": {
     "end_time": "2017-12-08T04:21:45.730944Z",
     "start_time": "2017-12-08T04:21:45.730Z"
    }
   },
   "outputs": [],
   "source": [
    "# convert to a matrix\n",
    "beforeNetworkMatrix <- as.matrix( beforeNetworkDF )\n",
    "# str( beforeNetworkMatrix )"
   ]
  },
  {
   "cell_type": "markdown",
   "id": "4ed4dc28-d1af-46b4-92e3-29db9617b06b",
   "metadata": {},
   "source": [
    "### Load matrix 2 - after"
   ]
  },
  {
   "cell_type": "code",
   "execution_count": null,
   "id": "b2650686-100f-427a-bc4f-9129db21c3f4",
   "metadata": {
    "ExecuteTime": {
     "end_time": "2017-12-08T04:21:23.765124Z",
     "start_time": "2017-12-08T04:21:23.768Z"
    }
   },
   "outputs": [],
   "source": [
    "# initialize variables\n",
    "afterDataFolder <- data_directory\n",
    "afterDataFile <- \"grp_6mos_by_month_2006-06-09_post-20220604-045115.tab\"\n",
    "afterDataPath <- paste( afterDataFolder, \"/\", afterDataFile, sep = \"\" )"
   ]
  },
  {
   "cell_type": "code",
   "execution_count": null,
   "id": "44ac475e-c63a-4cf3-8243-30817d0d8942",
   "metadata": {
    "ExecuteTime": {
     "end_time": "2017-12-08T04:21:34.192082Z",
     "start_time": "2017-12-08T04:21:34.195Z"
    }
   },
   "outputs": [],
   "source": [
    "afterDataPath"
   ]
  },
  {
   "cell_type": "markdown",
   "id": "16cacfa7-9a1d-4c24-94b9-85f7f78e3c8f",
   "metadata": {},
   "source": [
    "Load the data file into memory"
   ]
  },
  {
   "cell_type": "code",
   "execution_count": null,
   "id": "f49b9e31-401e-4288-94ad-7164f067d004",
   "metadata": {
    "ExecuteTime": {
     "end_time": "2017-12-08T04:21:39.543163Z",
     "start_time": "2017-12-08T04:21:39.041Z"
    }
   },
   "outputs": [],
   "source": [
    "# tab-delimited:\n",
    "afterDataDF <- read.delim( afterDataPath, header = TRUE, row.names = 1, check.names = FALSE )"
   ]
  },
  {
   "cell_type": "code",
   "execution_count": null,
   "id": "2bcc214b-0297-480a-b5bc-d7959c2b9ef5",
   "metadata": {
    "ExecuteTime": {
     "end_time": "2017-12-08T04:21:41.263112Z",
     "start_time": "2017-12-08T04:21:41.258Z"
    }
   },
   "outputs": [],
   "source": [
    "# get count of rows...\n",
    "afterRowCount <- nrow(afterDataDF )\n",
    "paste( \"after row count = \", afterRowCount, sep = \"\" )\n",
    "\n",
    "# ...and columns\n",
    "afterColumnCount <- ncol( afterDataDF )\n",
    "paste( \"after column count = \", afterColumnCount, sep = \"\" )"
   ]
  },
  {
   "cell_type": "markdown",
   "id": "021b7677-c4c8-4636-b3a9-c780a87b59ef",
   "metadata": {},
   "source": [
    "Get just the tie rows and columns for initializing network libraries."
   ]
  },
  {
   "cell_type": "code",
   "execution_count": null,
   "id": "139f89ec-06b5-4d03-8614-d8bac81636f1",
   "metadata": {
    "ExecuteTime": {
     "end_time": "2017-12-08T04:21:44.032913Z",
     "start_time": "2017-12-08T04:21:44.037Z"
    }
   },
   "outputs": [],
   "source": [
    "# the below syntax returns only as many columns as there are rows, so\n",
    "#     omitting any trait columns that lie in columns on the right side\n",
    "#     of the file.\n",
    "afterNetworkDF <- afterDataDF[ , 1 : afterRowCount ]\n",
    "#str( afterNetworkDF )"
   ]
  },
  {
   "cell_type": "code",
   "execution_count": null,
   "id": "d33ca34b-fe7d-4f89-93e8-7bc85bdfff51",
   "metadata": {
    "ExecuteTime": {
     "end_time": "2017-12-08T04:21:45.730944Z",
     "start_time": "2017-12-08T04:21:45.730Z"
    }
   },
   "outputs": [],
   "source": [
    "# convert to a matrix\n",
    "afterNetworkMatrix <- as.matrix( afterNetworkDF )\n",
    "# str( afterNetworkMatrix )"
   ]
  },
  {
   "cell_type": "markdown",
   "id": "bdd7acca-9ea5-4cc3-8e83-f13d195a0716",
   "metadata": {
    "tags": []
   },
   "source": [
    "### run QAP correlation"
   ]
  },
  {
   "cell_type": "code",
   "execution_count": null,
   "id": "3136de3e-c897-4d94-965f-d9e7dd6bf028",
   "metadata": {
    "ExecuteTime": {
     "end_time": "2019-07-25T03:44:07.301263Z",
     "start_time": "2019-07-25T02:30:07.664Z"
    }
   },
   "outputs": [],
   "source": [
    "#outputPrefix <- \"years_before_to_after_layoffs\"\n",
    "outputPrefix <- \"six_month_test\""
   ]
  },
  {
   "cell_type": "code",
   "execution_count": null,
   "id": "ecee5371-c83f-4be9-9935-e7cd6826990c",
   "metadata": {
    "ExecuteTime": {
     "end_time": "2019-07-25T03:52:58.183174Z",
     "start_time": "2019-07-25T02:30:11.153Z"
    }
   },
   "outputs": [],
   "source": [
    "beforeToAfterLayoffOutput <- compareMatricesQAP( beforeNetworkMatrix, afterNetworkMatrix, outputPrefix, doQapIN = FALSE )\n",
    "#beforeToAfterLayoffOutput <- compareMatricesQAP( beforeNetworkMatrix, afterNetworkMatrix, outputPrefix, repsIN = 10 )"
   ]
  },
  {
   "cell_type": "code",
   "execution_count": null,
   "id": "a87d8e44-244f-49f7-b224-13ad3aa64368",
   "metadata": {},
   "outputs": [],
   "source": [
    "# also output plots of distributions of QAP values?\n",
    "displayCompareMatricesQAPOutput( beforeToAfterLayoffOutput, outputPrefix, TRUE )"
   ]
  }
 ],
 "metadata": {
  "kernelspec": {
   "display_name": "R",
   "language": "R",
   "name": "ir"
  },
  "language_info": {
   "codemirror_mode": "r",
   "file_extension": ".r",
   "mimetype": "text/x-r-source",
   "name": "R",
   "pygments_lexer": "r",
   "version": "4.2.0"
  }
 },
 "nbformat": 4,
 "nbformat_minor": 5
}
