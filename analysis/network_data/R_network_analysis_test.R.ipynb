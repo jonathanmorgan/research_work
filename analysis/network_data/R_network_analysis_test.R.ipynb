{
 "cells": [
  {
   "cell_type": "markdown",
   "id": "d57670c1-aa3a-4493-9694-8c6f08164e6f",
   "metadata": {},
   "source": [
    "**R_network_analysis_test.R.ipynb** - play with R and large matrices, see how it goes."
   ]
  },
  {
   "cell_type": "markdown",
   "id": "b9927dd5-50a1-4c3c-827a-bb29df45ed84",
   "metadata": {},
   "source": [
    "# R network analysis files\n",
    "\n",
    "Related files:\n",
    "\n",
    "* network descriptives\n",
    "    * network-level\n",
    "        \n",
    "        * files\n",
    "            \n",
    "            * R scripts:\n",
    "                \n",
    "                * `context_analysis/R/db_connect.r`\n",
    "                * `context_analysis/R/sna/functions-sna.r`\n",
    "                * `context_analysis/R/sna/sna-load_data.r`\n",
    "                * `context_analysis/R/sna/igraph/*`\n",
    "                * `context_analysis/R/sna/statnet/*`\n",
    "        \n",
    "        * statnet/sna\n",
    "            \n",
    "            * `sna::gden()` - graph density\n",
    "            * R scripts:\n",
    "                \n",
    "                * `context_analysis/R/sna/statnet/sna-statnet-init.r`\n",
    "                * `context_analysis/R/sna/statnet/sna-statnet-network-stats.r`\n",
    "                * `context_analysis/R/sna/statnet/sna-qap.r`\n",
    "        \n",
    "        * igraph\n",
    "            \n",
    "            * `igraph::transitivity()` - vector of transitivity scores for each node in a graph, plus network-level transitivity score.\n",
    "                \n",
    "                * Q - interpretation?\n",
    "                \n",
    "            * R scripts:\n",
    "                \n",
    "                * `context_analysis/R/sna/statnet/sna-igraph-init.r`\n",
    "                * `context_analysis/R/sna/statnet/sna-igraph-network-stats.r`\n"
   ]
  },
  {
   "cell_type": "markdown",
   "id": "a99e1b8e-c276-4806-8dfc-9b45f4a1f508",
   "metadata": {},
   "source": [
    "# Setup"
   ]
  },
  {
   "cell_type": "markdown",
   "id": "f14bca47-4d4e-4b12-94d1-b521d2fd2b20",
   "metadata": {},
   "source": [
    "## Setup -  working directories\n",
    "\n",
    "Store important directories and file names in variables:"
   ]
  },
  {
   "cell_type": "code",
   "execution_count": 1,
   "id": "0a78d54c-8651-44d8-9e03-ec09b2ce7f21",
   "metadata": {
    "ExecuteTime": {
     "end_time": "2017-12-10T05:01:24.770670Z",
     "start_time": "2017-12-10T05:01:24.550Z"
    }
   },
   "outputs": [
    {
     "data": {
      "text/html": [
       "'/home/jonathanmorgan/work/django/research/research/work/phd_work/analysis/network_data'"
      ],
      "text/latex": [
       "'/home/jonathanmorgan/work/django/research/research/work/phd\\_work/analysis/network\\_data'"
      ],
      "text/markdown": [
       "'/home/jonathanmorgan/work/django/research/research/work/phd_work/analysis/network_data'"
      ],
      "text/plain": [
       "[1] \"/home/jonathanmorgan/work/django/research/research/work/phd_work/analysis/network_data\""
      ]
     },
     "metadata": {},
     "output_type": "display_data"
    }
   ],
   "source": [
    "getwd()"
   ]
  },
  {
   "cell_type": "code",
   "execution_count": 2,
   "id": "21466b1c-f488-4a3f-b73a-a6baea65388d",
   "metadata": {
    "ExecuteTime": {
     "end_time": "2017-12-10T05:01:25.522650Z",
     "start_time": "2017-12-10T05:01:25.453Z"
    }
   },
   "outputs": [],
   "source": [
    "# code files (in particular SNA function library, modest though it may be)\n",
    "base_code_directory <- \"/home/jonathanmorgan/work/django/research/research/context_analysis/R\"\n",
    "sna_code_directory <- paste( base_code_directory, \"/sna\", sep = \"\" )\n",
    "code_directory <- sna_code_directory\n",
    "sna_function_file_path <- paste( sna_code_directory, \"/\", 'functions-sna.r', sep = \"\" )\n",
    "\n",
    "# home directory\n",
    "home_directory <- getwd()\n",
    "home_directory <- \"/home/jonathanmorgan/work/django/research/research/work/phd_work/analysis/network_data\"\n",
    "\n",
    "# data directories\n",
    "#data_directory <- paste( home_directory, \"/data\", sep = \"\" )\n",
    "data_directory <- \"/home/jonathanmorgan/shares/phd_work/network_data/year_pairs\"\n",
    "workspace_file_name <- \"statnet-grp-test.RData\"\n",
    "workspace_file_path <- paste( data_directory, \"/\", workspace_file_name )"
   ]
  },
  {
   "cell_type": "code",
   "execution_count": 3,
   "id": "2d2bf2e8-f953-41ae-b45b-a82335627c50",
   "metadata": {
    "ExecuteTime": {
     "end_time": "2017-12-10T05:01:27.832199Z",
     "start_time": "2017-12-10T05:01:27.795Z"
    }
   },
   "outputs": [
    {
     "data": {
      "text/html": [
       "'/home/jonathanmorgan/shares/phd_work/network_data/year_pairs'"
      ],
      "text/latex": [
       "'/home/jonathanmorgan/shares/phd\\_work/network\\_data/year\\_pairs'"
      ],
      "text/markdown": [
       "'/home/jonathanmorgan/shares/phd_work/network_data/year_pairs'"
      ],
      "text/plain": [
       "[1] \"/home/jonathanmorgan/shares/phd_work/network_data/year_pairs\""
      ]
     },
     "metadata": {},
     "output_type": "display_data"
    }
   ],
   "source": [
    "# set working directory to data directory for now.\n",
    "setwd( data_directory )\n",
    "getwd()"
   ]
  },
  {
   "cell_type": "markdown",
   "id": "5f6082c8-f6d5-46b8-8510-29c71fccd65b",
   "metadata": {
    "tags": []
   },
   "source": [
    "## Setup - import SNA functions\n",
    "\n",
    "source the file `functions-sna.r`."
   ]
  },
  {
   "cell_type": "code",
   "execution_count": 4,
   "id": "32715e01-51bc-459b-931e-31c75cd90dfd",
   "metadata": {
    "ExecuteTime": {
     "end_time": "2017-12-10T05:01:29.517336Z",
     "start_time": "2017-12-10T05:01:29.493Z"
    }
   },
   "outputs": [],
   "source": [
    "source( sna_function_file_path )"
   ]
  },
  {
   "cell_type": "markdown",
   "id": "3882b953-9d90-41d8-bc29-a5df3a91801e",
   "metadata": {
    "tags": []
   },
   "source": [
    "## Setup - import statnet functions\n",
    "\n",
    "- Back to [Table of Contents](#Table-of-Contents)\n",
    "\n",
    "source the file `statnet/functions-statnet.r`.  This file includes:\n",
    "\n",
    "- `compareMatricesQAP()`, used extensively below."
   ]
  },
  {
   "cell_type": "code",
   "execution_count": 5,
   "id": "b8ab2111-75f0-4009-9d72-ee3197173e6f",
   "metadata": {
    "ExecuteTime": {
     "end_time": "2019-07-25T02:29:05.050972Z",
     "start_time": "2019-07-25T02:29:05.011Z"
    }
   },
   "outputs": [],
   "source": [
    "# statnet/sna functions\n",
    "# - /home/jonathanmorgan/work/django/research/context_analysis/R/sna/stanet/functions-statnet.r\n",
    "statnetFunctionFilePath <- paste( code_directory, \"/statnet/\", 'functions-statnet.r', sep = \"\" )"
   ]
  },
  {
   "cell_type": "code",
   "execution_count": 6,
   "id": "2aac68ca-2c63-4049-81d4-90998c660173",
   "metadata": {
    "ExecuteTime": {
     "end_time": "2019-07-25T02:29:06.527793Z",
     "start_time": "2019-07-25T02:29:06.350Z"
    }
   },
   "outputs": [
    {
     "name": "stderr",
     "output_type": "stream",
     "text": [
      "Loading required package: statnet.common\n",
      "\n",
      "\n",
      "Attaching package: ‘statnet.common’\n",
      "\n",
      "\n",
      "The following objects are masked from ‘package:base’:\n",
      "\n",
      "    attr, order\n",
      "\n",
      "\n",
      "Loading required package: network\n",
      "\n",
      "\n",
      "‘network’ 1.17.2 (2022-05-20), part of the Statnet Project\n",
      "* ‘news(package=\"network\")’ for changes since last version\n",
      "* ‘citation(\"network\")’ for citation information\n",
      "* ‘https://statnet.org’ for help, support, and other information\n",
      "\n",
      "\n",
      "sna: Tools for Social Network Analysis\n",
      "Version 2.7 created on 2022-05-09.\n",
      "copyright (c) 2005, Carter T. Butts, University of California-Irvine\n",
      " For citation information, type citation(\"sna\").\n",
      " Type help(package=\"sna\") to get started.\n",
      "\n",
      "\n"
     ]
    }
   ],
   "source": [
    "source( statnetFunctionFilePath )"
   ]
  },
  {
   "cell_type": "markdown",
   "id": "82a8012f-9789-4e8e-9275-ef44c54dea49",
   "metadata": {},
   "source": [
    "## Setup - network data - render and store network data\n",
    "\n",
    "First, need render to render network data and upload it to your server.\n",
    "\n",
    "Directions for creating network data: \n",
    "\n",
    "- network data creation example notebook: [analysis-network_data_output_example.ipynb](../analysis-network_data_output_example.ipynb)\n",
    "\n",
    "    - this shows programmatic data creation using JSON file to capture request parameters.\n",
    "    - includes all parameters and a few examples of different ways you can set parameters.\n",
    "\n",
    "- actual network data creation notebook: [analysis-network_data_output-GRP.ipynb](./analysis-network_data_output-GRP.ipynb)\n",
    "\n",
    "You want a tab-delimited matrix that includes both the network and attributes of nodes as columns, and you want it to include a header row.\n",
    "\n",
    "Once you render your network data files, you should place them on the server.\n",
    "\n",
    "High level data file layout:\n",
    "\n",
    "- tab-delimited.\n",
    "- first row and first column are labels\n",
    "- last 2 columns are traits of nodes (`person_id` and `person_type`)\n",
    "- each row and column after first until the trait columns represents a person found in one of the articles.\n",
    "- The people are in the same order from top to bottom and left to right.\n",
    "- Where the row and column of two people meet, and one of the people is an author, the nunber in the cell where they meet is the number of times the non-author was quoted in an article by the author.  Does not include more basic two-mode co-location ties (appeared in same article, even if not an author and/or not quoted).\n",
    "\n",
    "Files and their location on server:"
   ]
  },
  {
   "cell_type": "markdown",
   "id": "b3affe7d-dba4-4f27-9385-05eb919e812d",
   "metadata": {},
   "source": [
    "### data - grp_month\n",
    "\n",
    "This is data from the Grand Rapids Press articles from December of 2009, coded by both humans and OpenCalais.\n",
    "\n",
    "Files:\n",
    "\n",
    "- automated full month - `sourcenet_data-20171205-022551-grp_month-automated.tab`\n",
    "- automated week subset - `sourcenet_data-20171206-031358-grp_month-automated-week_subset.tab`\n",
    "- human full month - `sourcenet_data-20171115-043102-grp_month-human.tab`\n",
    "- human week subset - `sourcenet_data-20171206-031319-grp_month-human-week_subset.tab`\n",
    "\n",
    "Location in Dropbox: `Dropbox/academia/MSU/program_stuff/prelim_paper/data/network_analysis/2017.11.14/network/new_coders/grp_month`\n",
    "\n",
    "Location on server: `/home/jonathanmorgan/work/django/research/work/phd_work/data/network/grp_month`"
   ]
  },
  {
   "cell_type": "markdown",
   "id": "b95496f4-5d35-4778-9f03-07b771216b3e",
   "metadata": {},
   "source": [
    "## Setup - load workspace (optional)\n",
    "\n",
    "If you want, you can load this file's workspace, from a previous run:"
   ]
  },
  {
   "cell_type": "code",
   "execution_count": 7,
   "id": "e80992e3-5f74-4c27-b2df-76a5ea5fc121",
   "metadata": {
    "ExecuteTime": {
     "end_time": "2017-12-10T05:01:35.275829Z",
     "start_time": "2017-12-10T05:01:34.708Z"
    }
   },
   "outputs": [
    {
     "name": "stderr",
     "output_type": "stream",
     "text": [
      "Warning message in readChar(con, 5L, useBytes = TRUE):\n",
      "“cannot open compressed file 'statnet-grp-test.RData', probable reason 'No such file or directory'”\n"
     ]
    },
    {
     "ename": "ERROR",
     "evalue": "Error in readChar(con, 5L, useBytes = TRUE): cannot open the connection\n",
     "output_type": "error",
     "traceback": [
      "Error in readChar(con, 5L, useBytes = TRUE): cannot open the connection\nTraceback:\n",
      "1. load(workspace_file_name)",
      "2. readChar(con, 5L, useBytes = TRUE)"
     ]
    }
   ],
   "source": [
    "# assumes that you've already set working directory above to the\n",
    "#     working directory.\n",
    "setwd( data_directory )\n",
    "load( workspace_file_name )"
   ]
  },
  {
   "cell_type": "markdown",
   "id": "05489fae-f663-40b3-af04-9dedbf090038",
   "metadata": {},
   "source": [
    "# GRP analysis"
   ]
  },
  {
   "cell_type": "markdown",
   "id": "ba603e10-758a-4478-98cd-5fa95b1700d1",
   "metadata": {},
   "source": [
    "## test loading large network matrix\n",
    "\n",
    "First, we'll just try to load a 5 GB network matrix (all people from entire time, ties from articles in 2005)."
   ]
  },
  {
   "cell_type": "code",
   "execution_count": null,
   "id": "9d653dd0-2188-4764-995b-dce075b31574",
   "metadata": {
    "ExecuteTime": {
     "end_time": "2017-12-08T04:21:23.765124Z",
     "start_time": "2017-12-08T04:21:23.768Z"
    }
   },
   "outputs": [],
   "source": [
    "# initialize variables\n",
    "testDataFolder <- data_directory\n",
    "testDataFile <- \"all_grp_hard_news_2005-20220603-015300.txt\"\n",
    "testDataPath <- paste( testDataFolder, \"/\", testDataFile, sep = \"\" )"
   ]
  },
  {
   "cell_type": "code",
   "execution_count": null,
   "id": "57cc0990-7c7a-4ba3-9d21-57eaedff38d1",
   "metadata": {
    "ExecuteTime": {
     "end_time": "2017-12-08T04:21:34.192082Z",
     "start_time": "2017-12-08T04:21:34.195Z"
    }
   },
   "outputs": [],
   "source": [
    "testDataPath"
   ]
  },
  {
   "cell_type": "markdown",
   "id": "76e60edf-d36e-4a8a-8bc8-b9eb6fef859e",
   "metadata": {},
   "source": [
    "Load the data file into memory"
   ]
  },
  {
   "cell_type": "code",
   "execution_count": null,
   "id": "2a9ea958-be54-463a-9279-146ea13f2621",
   "metadata": {
    "ExecuteTime": {
     "end_time": "2017-12-08T04:21:39.543163Z",
     "start_time": "2017-12-08T04:21:39.041Z"
    }
   },
   "outputs": [],
   "source": [
    "# tab-delimited:\n",
    "testDataDF <- read.delim( testDataPath, header = TRUE, row.names = 1, check.names = FALSE )"
   ]
  },
  {
   "cell_type": "code",
   "execution_count": null,
   "id": "fdd929c7-8d2d-4886-a4e8-73f7ac47e998",
   "metadata": {
    "ExecuteTime": {
     "end_time": "2017-12-08T04:21:41.263112Z",
     "start_time": "2017-12-08T04:21:41.258Z"
    }
   },
   "outputs": [],
   "source": [
    "# get count of rows...\n",
    "testRowCount <- nrow( testDataDF )\n",
    "paste( \"test row count = \", testRowCount, sep = \"\" )\n",
    "\n",
    "# ...and columns\n",
    "testColumnCount <- ncol( testDataDF )\n",
    "paste( \"test column count = \", testColumnCount, sep = \"\" )"
   ]
  },
  {
   "cell_type": "markdown",
   "id": "7c8fe041-7275-4dae-933e-e780b150503c",
   "metadata": {},
   "source": [
    "Get just the tie rows and columns for initializing network libraries."
   ]
  },
  {
   "cell_type": "code",
   "execution_count": null,
   "id": "b168ff29-f64b-43a6-9497-09333f207f0a",
   "metadata": {
    "ExecuteTime": {
     "end_time": "2017-12-08T04:21:44.032913Z",
     "start_time": "2017-12-08T04:21:44.037Z"
    }
   },
   "outputs": [],
   "source": [
    "# the below syntax returns only as many columns as there are rows, so\n",
    "#     omitting any trait columns that lie in columns on the right side\n",
    "#     of the file.\n",
    "testNetworkDF <- testDataDF[ , 1 : testRowCount ]\n",
    "#str( testNetworkDF )"
   ]
  },
  {
   "cell_type": "code",
   "execution_count": null,
   "id": "54d55e1b-1c45-4a06-b150-f872f66ae804",
   "metadata": {
    "ExecuteTime": {
     "end_time": "2017-12-08T04:21:45.730944Z",
     "start_time": "2017-12-08T04:21:45.730Z"
    }
   },
   "outputs": [],
   "source": [
    "# convert to a matrix\n",
    "testNetworkMatrix <- as.matrix( testNetworkDF )\n",
    "# str( testNetworkMatrix )"
   ]
  },
  {
   "cell_type": "markdown",
   "id": "1c340c52-387f-4202-ae81-d0b246b11b8f",
   "metadata": {},
   "source": [
    "### `test` - initialize statnet\n",
    "\n",
    "- Back to [Table of Contents](#Table-of-Contents)\n",
    "\n",
    "First, load the statnet package, then load the automated grp_month data into statnet object and assign attributes to nodes.\n",
    "\n",
    "Based on `context_text/R/sna/statnet/sna-statnet-init.r`."
   ]
  },
  {
   "cell_type": "code",
   "execution_count": null,
   "id": "fbf9763f-2b29-4a50-b2c3-de436b5bc169",
   "metadata": {
    "ExecuteTime": {
     "end_time": "2017-12-08T04:21:51.864666Z",
     "start_time": "2017-12-08T04:21:48.771Z"
    }
   },
   "outputs": [],
   "source": [
    "# make sure you've loaded the statnet library\n",
    "#install.packages( \"statnet\" )\n",
    "library( statnet )"
   ]
  },
  {
   "cell_type": "code",
   "execution_count": null,
   "id": "e6c1c8f5-fbb5-47fc-9572-6e6f7e583066",
   "metadata": {
    "ExecuteTime": {
     "end_time": "2017-12-08T04:21:58.264741Z",
     "start_time": "2017-12-08T04:21:57.687Z"
    }
   },
   "outputs": [],
   "source": [
    "# If you have a data frame of attributes (each attribute is a column, with\n",
    "#     attribute name the column name), you can associate those attributes\n",
    "#     when you create the network.\n",
    "# attribute help: http://www.inside-r.org/packages/cran/network/docs/loading.attributes\n",
    "\n",
    "# load attributes from a file:\n",
    "#tab_attribute_test1 <- read.delim( \"tab-test1-attribute_data.txt\", header = TRUE, row.names = 1, check.names = FALSE )\n",
    "\n",
    "# or create DataFrame by just grabbing the attribute columns\n",
    "testNetworkAttributeDF <- testDataDF[ , ( testColumnCount - 1 ) : testColumnCount ]\n",
    "\n",
    "# convert matrix to statnet network object instance.\n",
    "testNetworkStatnet <- network( testNetworkMatrix, matrix.type = \"adjacency\", directed = FALSE, vertex.attr = testNetworkAttributeDF )\n",
    "\n",
    "# look at information now.\n",
    "testNetworkStatnet\n",
    "\n",
    "# Network attributes:\n",
    "#  vertices = 314\n",
    "#  directed = FALSE\n",
    "#  hyper = FALSE\n",
    "#  loops = FALSE\n",
    "#  multiple = FALSE\n",
    "#  bipartite = FALSE\n",
    "#  total edges= 309\n",
    "#    missing edges= 0\n",
    "#    non-missing edges= 309\n",
    "#\n",
    "# Vertex attribute names:\n",
    "#    person_type vertex.names\n",
    "#\n",
    "# No edge attributes\n"
   ]
  },
  {
   "cell_type": "markdown",
   "id": "58684e12-e2ab-43d5-83e7-331adedae9e9",
   "metadata": {},
   "source": [
    "### `test` - Basic metrics\n",
    "\n",
    "- Back to [Table of Contents](#Table-of-Contents)"
   ]
  },
  {
   "cell_type": "code",
   "execution_count": null,
   "id": "7b90fe9e-9527-40d1-b504-47703fc9b420",
   "metadata": {
    "ExecuteTime": {
     "end_time": "2017-12-08T04:22:04.538822Z",
     "start_time": "2017-12-08T04:22:04.517Z"
    }
   },
   "outputs": [],
   "source": [
    "# assuming that our statnet network object is in reference test1_statnet.\n",
    "\n",
    "# Use the degree function in the sna package to create vector of degree values\n",
    "#    for each node.  Make sure to pass the gmode parameter to tell it that the\n",
    "#    graph is not directed (gmode = \"graph\", instead of \"digraph\").\n",
    "# Doc: http://www.inside-r.org/packages/cran/sna/docs/degree\n",
    "#degree_vector <- degree( test1_statnet, gmode = \"graph\" )\n",
    "\n",
    "# If you have other libraries loaded that also implement a degree function, you\n",
    "#    can also call this with package name:\n",
    "testDegreeVector <- sna::degree( testNetworkStatnet, gmode = \"graph\" )\n",
    "\n",
    "# output the vector\n",
    "#testDegreeVector\n",
    "\n",
    "# want more info on the degree function?  You can get to it eventually through\n",
    "#    the following:\n",
    "#help( package = \"sna\" )\n",
    "#??sna::degree\n",
    "\n",
    "# what is the average (mean) degree?\n",
    "testAvgDegree <- mean( testDegreeVector )\n",
    "paste( \"average degree = \", testAvgDegree, sep = \"\" )\n",
    "\n",
    "# subset vector to get only those that are above mean\n",
    "testAboveMeanVector <- testDegreeVector[ testDegreeVector > testAvgDegree ]\n",
    "\n",
    "# Take the degree and associate it with each node as a node attribute.\n",
    "#    (%v% is a shortcut for the get.vertex.attribute command)\n",
    "testNetworkStatnet %v% \"degree\" <- testDegreeVector\n",
    "\n",
    "# also add degree vector to original data frame\n",
    "testDataDF$degree <- testDegreeVector\n"
   ]
  },
  {
   "cell_type": "code",
   "execution_count": null,
   "id": "90d5e4a9-fbc3-4344-9e07-b3373afa0032",
   "metadata": {
    "ExecuteTime": {
     "end_time": "2017-12-08T04:22:06.585819Z",
     "start_time": "2017-12-08T04:22:06.365Z"
    }
   },
   "outputs": [],
   "source": [
    "# average author degree (person types 2 and 4)\n",
    "testAverageAuthorDegree2And4 <- calcAuthorMeanDegree( dataFrameIN = testDataDF, includeBothIN = TRUE )\n",
    "paste( \"average author degree (2 and 4) = \", testAverageAuthorDegree2And4, sep = \"\" )\n",
    "\n",
    "# average author degree (person type 2 only)\n",
    "testAverageAuthorDegreeOnly2 <- calcAuthorMeanDegree( dataFrameIN = testDataDF, includeBothIN = FALSE )\n",
    "paste( \"average author degree (only 2) = \", testAverageAuthorDegreeOnly2, sep = \"\" )\n",
    "\n",
    "# average source degree (person types 3 and 4)\n",
    "testAverageSourceDegree3And4 <- calcSourceMeanDegree( dataFrameIN = testDataDF, includeBothIN = TRUE )\n",
    "paste( \"average source degree (3 and 4) = \", testAverageSourceDegree3And4, sep = \"\" )\n",
    "\n",
    "# average source degree (person type 3 only)\n",
    "testAverageSourceDegreeOnly3 <- calcSourceMeanDegree( dataFrameIN = testDataDF, includeBothIN = FALSE )\n",
    "paste( \"average source degree (only 3) = \", testAverageSourceDegreeOnly3, sep = \"\" )\n"
   ]
  },
  {
   "cell_type": "markdown",
   "id": "eb37cda1-4848-4c9b-8817-41a4f4ce9c41",
   "metadata": {},
   "source": [
    "### `test` - More metrics\n",
    "\n",
    "- Back to [Table of Contents](#Table-of-Contents)\n",
    "\n",
    "Now that we have the data in statnet object, run the code in the following for more in-depth information:\n",
    "\n",
    "* `context_text/R/sna/statnet/sna-statnet-network-stats.r`"
   ]
  },
  {
   "cell_type": "code",
   "execution_count": null,
   "id": "7cc6a1b7-4273-4332-a269-d5651b81471b",
   "metadata": {
    "ExecuteTime": {
     "end_time": "2017-12-08T04:22:10.631237Z",
     "start_time": "2017-12-08T04:22:09.004Z"
    }
   },
   "outputs": [],
   "source": [
    "# Links:\n",
    "# - manual (PDF): http://cran.r-project.org/web/packages/sna/sna.pdf\n",
    "# - good notes: http://www.shizukalab.com/toolkits/sna/node-level-calculations\n",
    "\n",
    "# Also, be advised that statnet and igraph don't really play nice together.\n",
    "#    If you'll be using both, best idea is to have a workspace for each.\n",
    "\n",
    "#==============================================================================#\n",
    "# statnet\n",
    "#==============================================================================#\n",
    "\n",
    "# make sure you've loaded the statnet library (includes sna)\n",
    "# install.packages( \"statnet\" )\n",
    "#library( statnet )\n",
    "\n",
    "#==============================================================================#\n",
    "# NODE level\n",
    "#==============================================================================#\n",
    "\n",
    "# what is the standard deviation of the degrees?\n",
    "testDegreeSd <- sd( testDegreeVector )\n",
    "paste( \"degree SD = \", testDegreeSd, sep = \"\" )\n",
    "\n",
    "# what is the variance of the degrees?\n",
    "testDegreeVar <- var( testDegreeVector )\n",
    "paste( \"degree variance = \", testDegreeVar, sep = \"\" )\n",
    "\n",
    "# what is the max value among the degrees?\n",
    "testDegreeMax <- max( testDegreeVector )\n",
    "paste( \"degree max = \", testDegreeMax, sep = \"\" )\n",
    "\n",
    "# calculate and plot degree distributions\n",
    "testDegreeFrequenciesTable <- table( testDegreeVector )\n",
    "paste( \"degree frequencies = \", testDegreeFrequenciesTable, sep = \"\" )\n",
    "testDegreeFrequenciesTable\n",
    "\n",
    "# node-level undirected betweenness\n",
    "testBetweenness <- sna::betweenness( testNetworkStatnet, gmode = \"graph\", cmode = \"undirected\" )\n",
    "\n",
    "#paste( \"betweenness = \", testBetweenness, sep = \"\" )\n",
    "# associate with each node as a node attribute.\n",
    "#    (%v% is a shortcut for the get.vertex.attribute command)\n",
    "testNetworkStatnet %v% \"betweenness\" <- testBetweenness\n",
    "\n",
    "# also add degree vector to original data frame\n",
    "testDataDF$betweenness <- testBetweenness\n",
    "\n",
    "#==============================================================================#\n",
    "# NETWORK level\n",
    "#==============================================================================#\n",
    "\n",
    "# graph-level degree centrality\n",
    "testDegreeCentrality <- sna::centralization( testNetworkStatnet, sna::degree, mode = \"graph\" )\n",
    "paste( \"degree centrality = \", testDegreeCentrality, sep = \"\" )\n",
    "\n",
    "# graph-level betweenness centrality\n",
    "testBetweennessCentrality <- sna::centralization( testNetworkStatnet, sna::betweenness, mode = \"graph\", cmode = \"undirected\" )\n",
    "paste( \"betweenness centrality = \", testBetweennessCentrality, sep = \"\" )\n",
    "\n",
    "# graph-level connectedness\n",
    "testConnectedness <- sna::connectedness( testNetworkStatnet )\n",
    "paste( \"connectedness = \", testConnectedness, sep = \"\" )\n",
    "\n",
    "# graph-level transitivity\n",
    "testTransitivity <- sna::gtrans( testNetworkStatnet, mode = \"graph\" )\n",
    "paste( \"transitivity = \", testTransitivity, sep = \"\" )\n",
    "\n",
    "# graph-level density\n",
    "testDensity <- sna::gden( testNetworkStatnet, mode = \"graph\" )\n",
    "paste( \"density = \", testDensity, sep = \"\" )\n"
   ]
  },
  {
   "cell_type": "markdown",
   "id": "72724785-58ed-44f5-947b-7d00a08a4611",
   "metadata": {},
   "source": [
    "### `test` - create node attribute DataFrame\n",
    "\n",
    "- Back to [Table of Contents](#Table-of-Contents)\n",
    "\n",
    "If you want to just work with the traits of the nodes/vertexes, you can combine the attribute vectors into a data frame."
   ]
  },
  {
   "cell_type": "code",
   "execution_count": null,
   "id": "9608a077-17e4-4445-863e-50d4fb8e4256",
   "metadata": {
    "ExecuteTime": {
     "end_time": "2017-12-08T04:22:13.361451Z",
     "start_time": "2017-12-08T04:22:13.284Z"
    },
    "scrolled": true
   },
   "outputs": [],
   "source": [
    "#==============================================================================#\n",
    "# output attributes to data frame\n",
    "#==============================================================================#\n",
    "\n",
    "# if you want to just work with the traits of the nodes/vertexes, you can\n",
    "#    combine the attribute vectors into a data frame.\n",
    "\n",
    "# first, output network object to see what attributes you have\n",
    "testNetworkStatnet\n",
    "\n",
    "# then, combine them into a data frame.\n",
    "testNodeAttrDF <- data.frame( id = testNetworkStatnet %v% \"vertex.names\",\n",
    "                                     person_id = testNetworkStatnet %v% \"person_id\",\n",
    "                                     person_type = testNetworkStatnet %v% \"person_type\",\n",
    "                                     degree = testNetworkStatnet %v% \"degree\",\n",
    "                                     betweenness = testNetworkStatnet %v% \"betweenness\" )\n"
   ]
  },
  {
   "cell_type": "markdown",
   "id": "7133ceb1-5728-404a-b061-5934341d790a",
   "metadata": {},
   "source": [
    "# QAP"
   ]
  },
  {
   "cell_type": "markdown",
   "id": "151d166e-6d78-4dd8-92ac-bb92231c30e5",
   "metadata": {},
   "source": [
    "## Load matrix 1 - before"
   ]
  },
  {
   "cell_type": "code",
   "execution_count": 8,
   "id": "9cec41eb-33e9-4b6c-b683-adcfe40249f8",
   "metadata": {
    "ExecuteTime": {
     "end_time": "2017-12-08T04:21:23.765124Z",
     "start_time": "2017-12-08T04:21:23.768Z"
    }
   },
   "outputs": [],
   "source": [
    "# initialize variables\n",
    "beforeDataFolder <- data_directory\n",
    "beforeDataFile <- \"grp_years_1_pre-20220603-182828.tab\"\n",
    "beforeDataPath <- paste( beforeDataFolder, \"/\", beforeDataFile, sep = \"\" )"
   ]
  },
  {
   "cell_type": "code",
   "execution_count": 9,
   "id": "d631fd4d-ff68-4cfe-81ef-3821b56f24e8",
   "metadata": {
    "ExecuteTime": {
     "end_time": "2017-12-08T04:21:34.192082Z",
     "start_time": "2017-12-08T04:21:34.195Z"
    }
   },
   "outputs": [
    {
     "data": {
      "text/html": [
       "'/home/jonathanmorgan/shares/phd_work/network_data/year_pairs/grp_years_1_pre-20220603-182828.tab'"
      ],
      "text/latex": [
       "'/home/jonathanmorgan/shares/phd\\_work/network\\_data/year\\_pairs/grp\\_years\\_1\\_pre-20220603-182828.tab'"
      ],
      "text/markdown": [
       "'/home/jonathanmorgan/shares/phd_work/network_data/year_pairs/grp_years_1_pre-20220603-182828.tab'"
      ],
      "text/plain": [
       "[1] \"/home/jonathanmorgan/shares/phd_work/network_data/year_pairs/grp_years_1_pre-20220603-182828.tab\""
      ]
     },
     "metadata": {},
     "output_type": "display_data"
    }
   ],
   "source": [
    "beforeDataPath"
   ]
  },
  {
   "cell_type": "markdown",
   "id": "3f1773f8-4f94-4f69-9824-e303843c2ceb",
   "metadata": {},
   "source": [
    "Load the data file into memory"
   ]
  },
  {
   "cell_type": "code",
   "execution_count": 10,
   "id": "2c9bbd41-b90f-4d46-9cfa-78fcaca712a8",
   "metadata": {
    "ExecuteTime": {
     "end_time": "2017-12-08T04:21:39.543163Z",
     "start_time": "2017-12-08T04:21:39.041Z"
    }
   },
   "outputs": [],
   "source": [
    "# tab-delimited:\n",
    "beforeDataDF <- read.delim( beforeDataPath, header = TRUE, row.names = 1, check.names = FALSE )"
   ]
  },
  {
   "cell_type": "code",
   "execution_count": 11,
   "id": "9825946d-4417-4e44-b4b7-7f2e4674bf45",
   "metadata": {
    "ExecuteTime": {
     "end_time": "2017-12-08T04:21:41.263112Z",
     "start_time": "2017-12-08T04:21:41.258Z"
    }
   },
   "outputs": [
    {
     "data": {
      "text/html": [
       "'before row count = 23387'"
      ],
      "text/latex": [
       "'before row count = 23387'"
      ],
      "text/markdown": [
       "'before row count = 23387'"
      ],
      "text/plain": [
       "[1] \"before row count = 23387\""
      ]
     },
     "metadata": {},
     "output_type": "display_data"
    },
    {
     "data": {
      "text/html": [
       "'before column count = 23389'"
      ],
      "text/latex": [
       "'before column count = 23389'"
      ],
      "text/markdown": [
       "'before column count = 23389'"
      ],
      "text/plain": [
       "[1] \"before column count = 23389\""
      ]
     },
     "metadata": {},
     "output_type": "display_data"
    }
   ],
   "source": [
    "# get count of rows...\n",
    "beforeRowCount <- nrow( beforeDataDF )\n",
    "paste( \"before row count = \", beforeRowCount, sep = \"\" )\n",
    "\n",
    "# ...and columns\n",
    "beforeColumnCount <- ncol( beforeDataDF )\n",
    "paste( \"before column count = \", beforeColumnCount, sep = \"\" )"
   ]
  },
  {
   "cell_type": "markdown",
   "id": "d55e1d6e-fdd9-4688-b252-2aa2e49d9e86",
   "metadata": {},
   "source": [
    "Get just the tie rows and columns for initializing network libraries."
   ]
  },
  {
   "cell_type": "code",
   "execution_count": 12,
   "id": "6a4cfcfc-8c09-4a07-82db-dc8ea262a4a2",
   "metadata": {
    "ExecuteTime": {
     "end_time": "2017-12-08T04:21:44.032913Z",
     "start_time": "2017-12-08T04:21:44.037Z"
    }
   },
   "outputs": [],
   "source": [
    "# the below syntax returns only as many columns as there are rows, so\n",
    "#     omitting any trait columns that lie in columns on the right side\n",
    "#     of the file.\n",
    "beforeNetworkDF <- beforeDataDF[ , 1 : beforeRowCount ]\n",
    "#str( beforeNetworkDF )"
   ]
  },
  {
   "cell_type": "code",
   "execution_count": 13,
   "id": "e52d8e84-13ad-48d4-b535-59dd8d4808f9",
   "metadata": {
    "ExecuteTime": {
     "end_time": "2017-12-08T04:21:45.730944Z",
     "start_time": "2017-12-08T04:21:45.730Z"
    }
   },
   "outputs": [],
   "source": [
    "# convert to a matrix\n",
    "beforeNetworkMatrix <- as.matrix( beforeNetworkDF )\n",
    "# str( beforeNetworkMatrix )"
   ]
  },
  {
   "cell_type": "markdown",
   "id": "4fb4a290-0c5f-4bb0-a4e6-d8871e0ac132",
   "metadata": {},
   "source": [
    "## Load matrix 2 - after"
   ]
  },
  {
   "cell_type": "code",
   "execution_count": 14,
   "id": "b2650686-100f-427a-bc4f-9129db21c3f4",
   "metadata": {
    "ExecuteTime": {
     "end_time": "2017-12-08T04:21:23.765124Z",
     "start_time": "2017-12-08T04:21:23.768Z"
    }
   },
   "outputs": [],
   "source": [
    "# initialize variables\n",
    "afterDataFolder <- data_directory\n",
    "afterDataFile <- \"grp_years_1_post-20220603-183235.tab\"\n",
    "afterDataPath <- paste( afterDataFolder, \"/\", afterDataFile, sep = \"\" )"
   ]
  },
  {
   "cell_type": "code",
   "execution_count": 15,
   "id": "44ac475e-c63a-4cf3-8243-30817d0d8942",
   "metadata": {
    "ExecuteTime": {
     "end_time": "2017-12-08T04:21:34.192082Z",
     "start_time": "2017-12-08T04:21:34.195Z"
    }
   },
   "outputs": [
    {
     "data": {
      "text/html": [
       "'/home/jonathanmorgan/shares/phd_work/network_data/year_pairs/grp_years_1_post-20220603-183235.tab'"
      ],
      "text/latex": [
       "'/home/jonathanmorgan/shares/phd\\_work/network\\_data/year\\_pairs/grp\\_years\\_1\\_post-20220603-183235.tab'"
      ],
      "text/markdown": [
       "'/home/jonathanmorgan/shares/phd_work/network_data/year_pairs/grp_years_1_post-20220603-183235.tab'"
      ],
      "text/plain": [
       "[1] \"/home/jonathanmorgan/shares/phd_work/network_data/year_pairs/grp_years_1_post-20220603-183235.tab\""
      ]
     },
     "metadata": {},
     "output_type": "display_data"
    }
   ],
   "source": [
    "afterDataPath"
   ]
  },
  {
   "cell_type": "markdown",
   "id": "1c464a29-8103-409c-9ed5-60d2ea17a78b",
   "metadata": {},
   "source": [
    "Load the data file into memory"
   ]
  },
  {
   "cell_type": "code",
   "execution_count": 16,
   "id": "f49b9e31-401e-4288-94ad-7164f067d004",
   "metadata": {
    "ExecuteTime": {
     "end_time": "2017-12-08T04:21:39.543163Z",
     "start_time": "2017-12-08T04:21:39.041Z"
    }
   },
   "outputs": [],
   "source": [
    "# tab-delimited:\n",
    "afterDataDF <- read.delim( afterDataPath, header = TRUE, row.names = 1, check.names = FALSE )"
   ]
  },
  {
   "cell_type": "code",
   "execution_count": 17,
   "id": "2bcc214b-0297-480a-b5bc-d7959c2b9ef5",
   "metadata": {
    "ExecuteTime": {
     "end_time": "2017-12-08T04:21:41.263112Z",
     "start_time": "2017-12-08T04:21:41.258Z"
    }
   },
   "outputs": [
    {
     "data": {
      "text/html": [
       "'after row count = 23387'"
      ],
      "text/latex": [
       "'after row count = 23387'"
      ],
      "text/markdown": [
       "'after row count = 23387'"
      ],
      "text/plain": [
       "[1] \"after row count = 23387\""
      ]
     },
     "metadata": {},
     "output_type": "display_data"
    },
    {
     "data": {
      "text/html": [
       "'after column count = 23389'"
      ],
      "text/latex": [
       "'after column count = 23389'"
      ],
      "text/markdown": [
       "'after column count = 23389'"
      ],
      "text/plain": [
       "[1] \"after column count = 23389\""
      ]
     },
     "metadata": {},
     "output_type": "display_data"
    }
   ],
   "source": [
    "# get count of rows...\n",
    "afterRowCount <- nrow(afterDataDF )\n",
    "paste( \"after row count = \", afterRowCount, sep = \"\" )\n",
    "\n",
    "# ...and columns\n",
    "afterColumnCount <- ncol( afterDataDF )\n",
    "paste( \"after column count = \", afterColumnCount, sep = \"\" )"
   ]
  },
  {
   "cell_type": "markdown",
   "id": "32dbb46a-3785-4971-99a3-78351df67b3b",
   "metadata": {},
   "source": [
    "Get just the tie rows and columns for initializing network libraries."
   ]
  },
  {
   "cell_type": "code",
   "execution_count": 18,
   "id": "139f89ec-06b5-4d03-8614-d8bac81636f1",
   "metadata": {
    "ExecuteTime": {
     "end_time": "2017-12-08T04:21:44.032913Z",
     "start_time": "2017-12-08T04:21:44.037Z"
    }
   },
   "outputs": [],
   "source": [
    "# the below syntax returns only as many columns as there are rows, so\n",
    "#     omitting any trait columns that lie in columns on the right side\n",
    "#     of the file.\n",
    "afterNetworkDF <- afterDataDF[ , 1 : afterRowCount ]\n",
    "#str( afterNetworkDF )"
   ]
  },
  {
   "cell_type": "code",
   "execution_count": 19,
   "id": "d33ca34b-fe7d-4f89-93e8-7bc85bdfff51",
   "metadata": {
    "ExecuteTime": {
     "end_time": "2017-12-08T04:21:45.730944Z",
     "start_time": "2017-12-08T04:21:45.730Z"
    }
   },
   "outputs": [],
   "source": [
    "# convert to a matrix\n",
    "afterNetworkMatrix <- as.matrix( afterNetworkDF )\n",
    "# str( afterNetworkMatrix )"
   ]
  },
  {
   "cell_type": "markdown",
   "id": "46d78f5e-db2e-4764-97ff-91866e344da6",
   "metadata": {
    "tags": []
   },
   "source": [
    "## run QAP correlation"
   ]
  },
  {
   "cell_type": "code",
   "execution_count": 20,
   "id": "3136de3e-c897-4d94-965f-d9e7dd6bf028",
   "metadata": {
    "ExecuteTime": {
     "end_time": "2019-07-25T03:44:07.301263Z",
     "start_time": "2019-07-25T02:30:07.664Z"
    }
   },
   "outputs": [],
   "source": [
    "outputPrefix <- \"years_before_to_after_layoffs\""
   ]
  },
  {
   "cell_type": "code",
   "execution_count": 21,
   "id": "ecee5371-c83f-4be9-9935-e7cd6826990c",
   "metadata": {
    "ExecuteTime": {
     "end_time": "2019-07-25T03:52:58.183174Z",
     "start_time": "2019-07-25T02:30:11.153Z"
    }
   },
   "outputs": [
    {
     "name": "stderr",
     "output_type": "stream",
     "text": [
      "==> Start of  compareMatricesQAP  at  2022-06-03 19:05:42\n",
      "\n",
      "----> years_before_to_after_layoffs graph correlation = 0.5023296490798 ( @ 2022-06-03 19:09:23 )\n",
      "\n",
      "----> years_before_to_after_layoffs SKIPPED QAP correlation analysis\n",
      "\n",
      "----> years_before_to_after_layoffs graph covariance = 0.00019013287420071 ( @ 2022-06-03 19:11:09 )\n",
      "\n",
      "----> years_before_to_after_layoffs SKIPPED QAP covariance analysis\n",
      "\n",
      "----> years_before_to_after_layoffs graph hamming distance = 87812 ( @ 2022-06-03 19:11:59 )\n",
      "\n",
      "----> years_before_to_after_layoffs SKIPPED QAP hamming distance analysis\n",
      "\n",
      "==> End of  compareMatricesQAP  at  2022-06-03 19:11:59\n",
      "\n"
     ]
    }
   ],
   "source": [
    "beforeToAfterLayoffOutput <- compareMatricesQAP( beforeNetworkMatrix, afterNetworkMatrix, outputPrefix, doQapIN = FALSE )\n",
    "#beforeToAfterLayoffOutput <- compareMatricesQAP( beforeNetworkMatrix, afterNetworkMatrix, outputPrefix, repsIN = 10 )"
   ]
  },
  {
   "cell_type": "code",
   "execution_count": 22,
   "id": "a87d8e44-244f-49f7-b224-13ad3aa64368",
   "metadata": {},
   "outputs": [
    {
     "name": "stderr",
     "output_type": "stream",
     "text": [
      "----> years_before_to_after_layoffs graph correlation = 0.5023296490798\n",
      "\n",
      "----> years_before_to_after_layoffs QAP correlation analysis summary:\n",
      "\n"
     ]
    },
    {
     "name": "stdout",
     "output_type": "stream",
     "text": [
      "Length  Class   Mode \n",
      "     0   NULL   NULL \n"
     ]
    },
    {
     "name": "stderr",
     "output_type": "stream",
     "text": [
      "0NULLNULL\n",
      "\n",
      "Warning message in min(x):\n",
      "“no non-missing arguments to min; returning Inf”\n",
      "Warning message in max(x):\n",
      "“no non-missing arguments to max; returning -Inf”\n",
      "Warning message in min(x):\n",
      "“no non-missing arguments to min; returning Inf”\n",
      "Warning message in max(x):\n",
      "“no non-missing arguments to max; returning -Inf”\n"
     ]
    },
    {
     "ename": "ERROR",
     "evalue": "Error in plot.window(...): need finite 'xlim' values\n",
     "output_type": "error",
     "traceback": [
      "Error in plot.window(...): need finite 'xlim' values\nTraceback:\n",
      "1. displayCompareMatricesQAPOutput(beforeToAfterLayoffOutput, outputPrefix, \n .     TRUE)",
      "2. plot(qapGcorResult)",
      "3. plot.default(qapGcorResult)",
      "4. localWindow(xlim, ylim, log, asp, ...)",
      "5. plot.window(...)"
     ]
    },
    {
     "data": {
      "image/png": "[encoded data removed]",
      "text/plain": [
       "plot without title"
      ]
     },
     "metadata": {
      "image/png": {
       "height": 420,
       "width": 420
      }
     },
     "output_type": "display_data"
    }
   ],
   "source": [
    "# also output plots of distributions of QAP values?\n",
    "displayCompareMatricesQAPOutput( beforeToAfterLayoffOutput, outputPrefix, TRUE )"
   ]
  }
 ],
 "metadata": {
  "kernelspec": {
   "display_name": "R",
   "language": "R",
   "name": "ir"
  },
  "language_info": {
   "codemirror_mode": "r",
   "file_extension": ".r",
   "mimetype": "text/x-r-source",
   "name": "R",
   "pygments_lexer": "r",
   "version": "4.2.0"
  }
 },
 "nbformat": 4,
 "nbformat_minor": 5
}
