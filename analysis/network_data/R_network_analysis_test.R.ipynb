{
 "cells": [
  {
   "cell_type": "markdown",
   "id": "d57670c1-aa3a-4493-9694-8c6f08164e6f",
   "metadata": {},
   "source": [
    "**R_network_analysis_test.R.ipynb** - play with R and large matrices, see how it goes."
   ]
  },
  {
   "cell_type": "markdown",
   "id": "b9927dd5-50a1-4c3c-827a-bb29df45ed84",
   "metadata": {},
   "source": [
    "# R network analysis files\n",
    "\n",
    "Related files:\n",
    "\n",
    "* network descriptives\n",
    "    * network-level\n",
    "        \n",
    "        * files\n",
    "            \n",
    "            * R scripts:\n",
    "                \n",
    "                * `context_analysis/R/db_connect.r`\n",
    "                * `context_analysis/R/sna/functions-sna.r`\n",
    "                * `context_analysis/R/sna/NetworkInfo.r`\n",
    "                * `context_analysis/R/sna/sna-load_data.r`\n",
    "                * `context_analysis/R/sna/igraph/*`\n",
    "                * `context_analysis/R/sna/statnet/*`\n",
    "        \n",
    "        * statnet/sna\n",
    "            \n",
    "            * `sna::gden()` - graph density\n",
    "            * R scripts:\n",
    "                \n",
    "                * `context_analysis/R/sna/statnet/sna-statnet-init.r`\n",
    "                * `context_analysis/R/sna/statnet/sna-statnet-network-stats.r`\n",
    "                * `context_analysis/R/sna/statnet/sna-qap.r`\n",
    "        \n",
    "        * igraph\n",
    "            \n",
    "            * `igraph::transitivity()` - vector of transitivity scores for each node in a graph, plus network-level transitivity score.\n",
    "                \n",
    "                * Q - interpretation?\n",
    "                \n",
    "            * R scripts:\n",
    "                \n",
    "                * `context_analysis/R/sna/statnet/sna-igraph-init.r`\n",
    "                * `context_analysis/R/sna/statnet/sna-igraph-network-stats.r`\n"
   ]
  },
  {
   "cell_type": "markdown",
   "id": "a99e1b8e-c276-4806-8dfc-9b45f4a1f508",
   "metadata": {},
   "source": [
    "# Setup"
   ]
  },
  {
   "cell_type": "markdown",
   "id": "f14bca47-4d4e-4b12-94d1-b521d2fd2b20",
   "metadata": {},
   "source": [
    "## Setup -  working directories\n",
    "\n",
    "Store important directories and file names in variables:"
   ]
  },
  {
   "cell_type": "code",
   "execution_count": 1,
   "id": "0a78d54c-8651-44d8-9e03-ec09b2ce7f21",
   "metadata": {
    "ExecuteTime": {
     "end_time": "2017-12-10T05:01:24.770670Z",
     "start_time": "2017-12-10T05:01:24.550Z"
    },
    "tags": []
   },
   "outputs": [
    {
     "data": {
      "text/html": [
       "'/home/jonathanmorgan/work/django/research/research/work/phd_work/analysis/network_data'"
      ],
      "text/latex": [
       "'/home/jonathanmorgan/work/django/research/research/work/phd\\_work/analysis/network\\_data'"
      ],
      "text/markdown": [
       "'/home/jonathanmorgan/work/django/research/research/work/phd_work/analysis/network_data'"
      ],
      "text/plain": [
       "[1] \"/home/jonathanmorgan/work/django/research/research/work/phd_work/analysis/network_data\""
      ]
     },
     "metadata": {},
     "output_type": "display_data"
    }
   ],
   "source": [
    "getwd()"
   ]
  },
  {
   "cell_type": "code",
   "execution_count": 2,
   "id": "21466b1c-f488-4a3f-b73a-a6baea65388d",
   "metadata": {
    "ExecuteTime": {
     "end_time": "2017-12-10T05:01:25.522650Z",
     "start_time": "2017-12-10T05:01:25.453Z"
    }
   },
   "outputs": [],
   "source": [
    "# code files (in particular SNA function library, modest though it may be)\n",
    "base_code_directory <- \"/home/jonathanmorgan/work/django/research/research/context_analysis/R\"\n",
    "sna_code_directory <- paste( base_code_directory, \"/sna\", sep = \"\" )\n",
    "code_directory <- sna_code_directory\n",
    "\n",
    "# home directory\n",
    "home_directory <- getwd()\n",
    "home_directory <- \"/home/jonathanmorgan/work/django/research/research/work/phd_work/analysis/network_data\"\n",
    "\n",
    "# data directories\n",
    "#data_directory <- paste( home_directory, \"/data\", sep = \"\" )\n",
    "data_directory <- \"/home/jonathanmorgan/shares/phd_work/network_data/grp_6mos_by_month\"\n",
    "workspace_file_name <- \"R_grp_network_analysis_test.RData\"\n",
    "workspace_file_path <- paste( data_directory, \"/\", workspace_file_name )"
   ]
  },
  {
   "cell_type": "code",
   "execution_count": 3,
   "id": "2d2bf2e8-f953-41ae-b45b-a82335627c50",
   "metadata": {
    "ExecuteTime": {
     "end_time": "2017-12-10T05:01:27.832199Z",
     "start_time": "2017-12-10T05:01:27.795Z"
    }
   },
   "outputs": [
    {
     "data": {
      "text/html": [
       "'/home/jonathanmorgan/shares/phd_work/network_data/grp_6mos_by_month'"
      ],
      "text/latex": [
       "'/home/jonathanmorgan/shares/phd\\_work/network\\_data/grp\\_6mos\\_by\\_month'"
      ],
      "text/markdown": [
       "'/home/jonathanmorgan/shares/phd_work/network_data/grp_6mos_by_month'"
      ],
      "text/plain": [
       "[1] \"/home/jonathanmorgan/shares/phd_work/network_data/grp_6mos_by_month\""
      ]
     },
     "metadata": {},
     "output_type": "display_data"
    }
   ],
   "source": [
    "# set working directory to data directory for now.\n",
    "setwd( data_directory )\n",
    "getwd()"
   ]
  },
  {
   "cell_type": "markdown",
   "id": "4f14425e-1440-47df-ae6c-7551f7105701",
   "metadata": {},
   "source": [
    "## Setup - functions"
   ]
  },
  {
   "cell_type": "markdown",
   "id": "5f6082c8-f6d5-46b8-8510-29c71fccd65b",
   "metadata": {
    "tags": []
   },
   "source": [
    "### Setup - functions - import SNA functions\n",
    "\n",
    "source the file `functions-sna.r`."
   ]
  },
  {
   "cell_type": "code",
   "execution_count": 4,
   "id": "f8510f2a-8bb4-4c2d-a016-c54a83af148f",
   "metadata": {
    "tags": []
   },
   "outputs": [],
   "source": [
    "sna_function_file_path <- paste( sna_code_directory, \"/\", 'functions-sna.r', sep = \"\" )"
   ]
  },
  {
   "cell_type": "code",
   "execution_count": 5,
   "id": "32715e01-51bc-459b-931e-31c75cd90dfd",
   "metadata": {
    "ExecuteTime": {
     "end_time": "2017-12-10T05:01:29.517336Z",
     "start_time": "2017-12-10T05:01:29.493Z"
    }
   },
   "outputs": [],
   "source": [
    "source( sna_function_file_path )"
   ]
  },
  {
   "cell_type": "markdown",
   "id": "3882b953-9d90-41d8-bc29-a5df3a91801e",
   "metadata": {
    "tags": []
   },
   "source": [
    "### Setup - functions - import statnet functions\n",
    "\n",
    "- Back to [Table of Contents](#Table-of-Contents)\n",
    "\n",
    "source the file `statnet/functions-statnet.r`.  This file includes:\n",
    "\n",
    "- `compareMatricesQAP()`, used extensively below."
   ]
  },
  {
   "cell_type": "code",
   "execution_count": 6,
   "id": "b8ab2111-75f0-4009-9d72-ee3197173e6f",
   "metadata": {
    "ExecuteTime": {
     "end_time": "2019-07-25T02:29:05.050972Z",
     "start_time": "2019-07-25T02:29:05.011Z"
    }
   },
   "outputs": [],
   "source": [
    "# statnet/sna functions\n",
    "# - /home/jonathanmorgan/work/django/research/context_analysis/R/sna/stanet/functions-statnet.r\n",
    "statnetFunctionFilePath <- paste( sna_code_directory, \"/statnet/\", 'functions-statnet.r', sep = \"\" )"
   ]
  },
  {
   "cell_type": "code",
   "execution_count": 7,
   "id": "2aac68ca-2c63-4049-81d4-90998c660173",
   "metadata": {
    "ExecuteTime": {
     "end_time": "2019-07-25T02:29:06.527793Z",
     "start_time": "2019-07-25T02:29:06.350Z"
    }
   },
   "outputs": [
    {
     "name": "stderr",
     "output_type": "stream",
     "text": [
      "Loading required package: statnet.common\n",
      "\n",
      "\n",
      "Attaching package: ‘statnet.common’\n",
      "\n",
      "\n",
      "The following objects are masked from ‘package:base’:\n",
      "\n",
      "    attr, order\n",
      "\n",
      "\n",
      "Loading required package: network\n",
      "\n",
      "\n",
      "‘network’ 1.17.2 (2022-05-20), part of the Statnet Project\n",
      "* ‘news(package=\"network\")’ for changes since last version\n",
      "* ‘citation(\"network\")’ for citation information\n",
      "* ‘https://statnet.org’ for help, support, and other information\n",
      "\n",
      "\n",
      "sna: Tools for Social Network Analysis\n",
      "Version 2.7 created on 2022-05-09.\n",
      "copyright (c) 2005, Carter T. Butts, University of California-Irvine\n",
      " For citation information, type citation(\"sna\").\n",
      " Type help(package=\"sna\") to get started.\n",
      "\n",
      "\n"
     ]
    }
   ],
   "source": [
    "source( statnetFunctionFilePath )"
   ]
  },
  {
   "cell_type": "markdown",
   "id": "69edbf7c-9118-4081-9208-79935357073c",
   "metadata": {},
   "source": [
    "## Setup - ReferenceClasses"
   ]
  },
  {
   "cell_type": "markdown",
   "id": "0fff86f0-3be5-4677-a809-46ab760aaf44",
   "metadata": {},
   "source": [
    "### Setup - ReferenceClass - NetworkInfo"
   ]
  },
  {
   "cell_type": "code",
   "execution_count": 69,
   "id": "95faaeb8-5eaf-45ae-8aad-cf63bc29ec46",
   "metadata": {},
   "outputs": [],
   "source": [
    "rm( NetworkInfo )\n",
    "rm( processBeforeAfterNetworks )"
   ]
  },
  {
   "cell_type": "code",
   "execution_count": 70,
   "id": "dd05131d-9d48-4a1d-8823-831a7a080646",
   "metadata": {},
   "outputs": [],
   "source": [
    "networkInfoClassFilePath <- paste( sna_code_directory, \"/NetworkInfo.r\", sep = \"\" )"
   ]
  },
  {
   "cell_type": "code",
   "execution_count": 71,
   "id": "bab5b1db-43de-4c2d-9174-4c20e0bae3ac",
   "metadata": {
    "ExecuteTime": {
     "end_time": "2019-07-25T02:29:06.527793Z",
     "start_time": "2019-07-25T02:29:06.350Z"
    }
   },
   "outputs": [
    {
     "name": "stderr",
     "output_type": "stream",
     "text": [
      "ReferenceClass NetworkInfo defined @ Mon Jun  6 04:35:24 2022\n",
      "\n",
      "Function processBeforeAfterNetworks defined @ Mon Jun  6 04:35:24 2022\n",
      "\n"
     ]
    }
   ],
   "source": [
    "source( networkInfoClassFilePath )"
   ]
  },
  {
   "cell_type": "markdown",
   "id": "e35dc6e8-451c-44a4-b382-5d1f3e2e4197",
   "metadata": {},
   "source": [
    "## Setup - network data"
   ]
  },
  {
   "cell_type": "markdown",
   "id": "82a8012f-9789-4e8e-9275-ef44c54dea49",
   "metadata": {},
   "source": [
    "### Setup - network data - notes: render and store network data\n",
    "\n",
    "First, need render to render network data and upload it to your server.\n",
    "\n",
    "Directions for creating network data: \n",
    "\n",
    "- network data creation example notebook: [analysis-network_data_output_example.ipynb](../analysis-network_data_output_example.ipynb)\n",
    "\n",
    "    - this shows programmatic data creation using JSON file to capture request parameters.\n",
    "    - includes all parameters and a few examples of different ways you can set parameters.\n",
    "\n",
    "- actual network data creation notebook: [analysis-network_data_output-GRP.ipynb](./analysis-network_data_output-GRP.ipynb)\n",
    "\n",
    "You want a tab-delimited matrix that includes both the network and attributes of nodes as columns, and you want it to include a header row.\n",
    "\n",
    "Once you render your network data files, you should place them on the server.\n",
    "\n",
    "High level data file layout:\n",
    "\n",
    "- tab-delimited.\n",
    "- first row and first column are labels\n",
    "- last 2 columns are traits of nodes (`person_id` and `person_type`)\n",
    "- each row and column after first until the trait columns represents a person found in one of the articles.\n",
    "- The people are in the same order from top to bottom and left to right.\n",
    "- Where the row and column of two people meet, and one of the people is an author, the nunber in the cell where they meet is the number of times the non-author was quoted in an article by the author.  Does not include more basic two-mode co-location ties (appeared in same article, even if not an author and/or not quoted).\n"
   ]
  },
  {
   "cell_type": "markdown",
   "id": "42c0f61c-b7ae-42c5-9a60-6c39b13fa02f",
   "metadata": {},
   "source": [
    "# Actual processing using ReferenceClasses"
   ]
  },
  {
   "cell_type": "markdown",
   "id": "107710f4-70af-4585-bf4e-065570e7f5ad",
   "metadata": {},
   "source": [
    "## NetworkInfo - process single network"
   ]
  },
  {
   "cell_type": "code",
   "execution_count": 31,
   "id": "9b709efd-6eb6-479f-aa4d-0320ed341966",
   "metadata": {},
   "outputs": [
    {
     "name": "stderr",
     "output_type": "stream",
     "text": [
      "Warning message in sna::gtrans(myNetworkStatnet, mode = \"graph\"):\n",
      "“gtrans called with use.adjacency=TRUE, but your data looks too large for that to work well.  Overriding to edgelist method.”\n"
     ]
    }
   ],
   "source": [
    "testNetworkInfo <- NetworkInfo()\n",
    "testNetworkInfo$initFromTabData(\n",
    "    data_directory,\n",
    "    \"grp_6mos_by_month_2005-07-03_pre-20220604-115739.tab\"\n",
    ")\n",
    "testNetworkInfo$processNetwork()"
   ]
  },
  {
   "cell_type": "code",
   "execution_count": 32,
   "id": "c6d32be2-5823-4ff0-8d42-66c6a1a1b769",
   "metadata": {
    "tags": []
   },
   "outputs": [
    {
     "data": {
      "text/html": [
       "1.37457344078995"
      ],
      "text/latex": [
       "1.37457344078995"
      ],
      "text/markdown": [
       "1.37457344078995"
      ],
      "text/plain": [
       "[1] 1.374573"
      ]
     },
     "metadata": {},
     "output_type": "display_data"
    }
   ],
   "source": [
    "testNetworkInfo$myDegreeAverage"
   ]
  },
  {
   "cell_type": "code",
   "execution_count": 33,
   "id": "e8f38c15-8bc8-4bdf-aa62-d9e1c5a4e69d",
   "metadata": {},
   "outputs": [
    {
     "data": {
      "text/html": [
       "60.1761006289308"
      ],
      "text/latex": [
       "60.1761006289308"
      ],
      "text/markdown": [
       "60.1761006289308"
      ],
      "text/plain": [
       "[1] 60.1761"
      ]
     },
     "metadata": {},
     "output_type": "display_data"
    },
    {
     "data": {
      "text/html": [
       "62.6953642384106"
      ],
      "text/latex": [
       "62.6953642384106"
      ],
      "text/markdown": [
       "62.6953642384106"
      ],
      "text/plain": [
       "[1] 62.69536"
      ]
     },
     "metadata": {},
     "output_type": "display_data"
    },
    {
     "data": {
      "text/html": [
       "1.26808681672026"
      ],
      "text/latex": [
       "1.26808681672026"
      ],
      "text/markdown": [
       "1.26808681672026"
      ],
      "text/plain": [
       "[1] 1.268087"
      ]
     },
     "metadata": {},
     "output_type": "display_data"
    },
    {
     "data": {
      "text/html": [
       "1.25590128755365"
      ],
      "text/latex": [
       "1.25590128755365"
      ],
      "text/markdown": [
       "1.25590128755365"
      ],
      "text/plain": [
       "[1] 1.255901"
      ]
     },
     "metadata": {},
     "output_type": "display_data"
    }
   ],
   "source": [
    "testNetworkInfo$myDegreeAverageAuthor2And4\n",
    "testNetworkInfo$myDegreeAverageAuthorOnly2\n",
    "testNetworkInfo$myDegreeAverageSource3And4\n",
    "testNetworkInfo$myDegreeAverageSourceOnly3\n"
   ]
  },
  {
   "cell_type": "code",
   "execution_count": 34,
   "id": "9a5efdd0-3b3f-44d1-9765-708e8cd4bfcb",
   "metadata": {},
   "outputs": [
    {
     "data": {
      "text/html": [
       "159"
      ],
      "text/latex": [
       "159"
      ],
      "text/markdown": [
       "159"
      ],
      "text/plain": [
       "[1] 159"
      ]
     },
     "metadata": {},
     "output_type": "display_data"
    },
    {
     "data": {
      "text/html": [
       "151"
      ],
      "text/latex": [
       "151"
      ],
      "text/markdown": [
       "151"
      ],
      "text/plain": [
       "[1] 151"
      ]
     },
     "metadata": {},
     "output_type": "display_data"
    },
    {
     "data": {
      "text/html": [
       "7464"
      ],
      "text/latex": [
       "7464"
      ],
      "text/markdown": [
       "7464"
      ],
      "text/plain": [
       "[1] 7464"
      ]
     },
     "metadata": {},
     "output_type": "display_data"
    },
    {
     "data": {
      "text/html": [
       "7456"
      ],
      "text/latex": [
       "7456"
      ],
      "text/markdown": [
       "7456"
      ],
      "text/plain": [
       "[1] 7456"
      ]
     },
     "metadata": {},
     "output_type": "display_data"
    }
   ],
   "source": [
    "testNetworkInfo$myAuthorCount2And4\n",
    "testNetworkInfo$myAuthorCountOnly2\n",
    "testNetworkInfo$mySourceCount3And4\n",
    "testNetworkInfo$mySourceCountOnly3\n"
   ]
  },
  {
   "cell_type": "code",
   "execution_count": 35,
   "id": "98b3a6ef-7cd3-46a0-b57b-5dff1245a97b",
   "metadata": {},
   "outputs": [
    {
     "data": {
      "text/html": [
       "60.1761006289308"
      ],
      "text/latex": [
       "60.1761006289308"
      ],
      "text/markdown": [
       "60.1761006289308"
      ],
      "text/plain": [
       "[1] 60.1761"
      ]
     },
     "metadata": {},
     "output_type": "display_data"
    },
    {
     "data": {
      "text/html": [
       "62.6953642384106"
      ],
      "text/latex": [
       "62.6953642384106"
      ],
      "text/markdown": [
       "62.6953642384106"
      ],
      "text/plain": [
       "[1] 62.69536"
      ]
     },
     "metadata": {},
     "output_type": "display_data"
    },
    {
     "data": {
      "text/html": [
       "1.26808681672026"
      ],
      "text/latex": [
       "1.26808681672026"
      ],
      "text/markdown": [
       "1.26808681672026"
      ],
      "text/plain": [
       "[1] 1.268087"
      ]
     },
     "metadata": {},
     "output_type": "display_data"
    },
    {
     "data": {
      "text/html": [
       "1.25590128755365"
      ],
      "text/latex": [
       "1.25590128755365"
      ],
      "text/markdown": [
       "1.25590128755365"
      ],
      "text/plain": [
       "[1] 1.255901"
      ]
     },
     "metadata": {},
     "output_type": "display_data"
    }
   ],
   "source": [
    "testDataFileRow <- pairwiseComparisonDF[ 1, ]\n",
    "testDataFileRow$beforeDegreeAverageAuthor2And4\n",
    "testDataFileRow$beforeDegreeAverageAuthorOnly2\n",
    "testDataFileRow$beforeDegreeAverageSource3And4\n",
    "testDataFileRow$beforeDegreeAverageSourceOnly3\n"
   ]
  },
  {
   "cell_type": "code",
   "execution_count": 36,
   "id": "d38f7147-9f75-4df5-9232-7d62f3416c8c",
   "metadata": {},
   "outputs": [
    {
     "data": {
      "text/html": [
       "159"
      ],
      "text/latex": [
       "159"
      ],
      "text/markdown": [
       "159"
      ],
      "text/plain": [
       "[1] 159"
      ]
     },
     "metadata": {},
     "output_type": "display_data"
    },
    {
     "data": {
      "text/html": [
       "151"
      ],
      "text/latex": [
       "151"
      ],
      "text/markdown": [
       "151"
      ],
      "text/plain": [
       "[1] 151"
      ]
     },
     "metadata": {},
     "output_type": "display_data"
    },
    {
     "data": {
      "text/html": [
       "7464"
      ],
      "text/latex": [
       "7464"
      ],
      "text/markdown": [
       "7464"
      ],
      "text/plain": [
       "[1] 7464"
      ]
     },
     "metadata": {},
     "output_type": "display_data"
    },
    {
     "data": {
      "text/html": [
       "7456"
      ],
      "text/latex": [
       "7456"
      ],
      "text/markdown": [
       "7456"
      ],
      "text/plain": [
       "[1] 7456"
      ]
     },
     "metadata": {},
     "output_type": "display_data"
    }
   ],
   "source": [
    "testNetworkInfo$calcMyAuthorCount( includeBothIN = TRUE )\n",
    "testNetworkInfo$calcMyAuthorCount( includeBothIN = FALSE )\n",
    "testNetworkInfo$calcMySourceCount( includeBothIN = TRUE )\n",
    "testNetworkInfo$calcMySourceCount( includeBothIN = FALSE )"
   ]
  },
  {
   "cell_type": "code",
   "execution_count": 37,
   "id": "511d6859-ee2e-4baa-bacf-7300c7d7f25d",
   "metadata": {},
   "outputs": [
    {
     "data": {
      "text/html": [
       "60.1761006289308"
      ],
      "text/latex": [
       "60.1761006289308"
      ],
      "text/markdown": [
       "60.1761006289308"
      ],
      "text/plain": [
       "[1] 60.1761"
      ]
     },
     "metadata": {},
     "output_type": "display_data"
    },
    {
     "data": {
      "text/html": [
       "62.6953642384106"
      ],
      "text/latex": [
       "62.6953642384106"
      ],
      "text/markdown": [
       "62.6953642384106"
      ],
      "text/plain": [
       "[1] 62.69536"
      ]
     },
     "metadata": {},
     "output_type": "display_data"
    },
    {
     "data": {
      "text/html": [
       "1.26808681672026"
      ],
      "text/latex": [
       "1.26808681672026"
      ],
      "text/markdown": [
       "1.26808681672026"
      ],
      "text/plain": [
       "[1] 1.268087"
      ]
     },
     "metadata": {},
     "output_type": "display_data"
    },
    {
     "data": {
      "text/html": [
       "1.25590128755365"
      ],
      "text/latex": [
       "1.25590128755365"
      ],
      "text/markdown": [
       "1.25590128755365"
      ],
      "text/plain": [
       "[1] 1.255901"
      ]
     },
     "metadata": {},
     "output_type": "display_data"
    }
   ],
   "source": [
    "testNetworkInfo$calcMyAuthorMeanDegree( includeBothIN = TRUE )\n",
    "testNetworkInfo$calcMyAuthorMeanDegree( includeBothIN = FALSE )\n",
    "testNetworkInfo$calcMySourceMeanDegree( includeBothIN = TRUE )\n",
    "testNetworkInfo$calcMySourceMeanDegree( includeBothIN = FALSE )"
   ]
  },
  {
   "cell_type": "markdown",
   "id": "3fb8a26d-381a-47b4-a987-b7779b8c1218",
   "metadata": {},
   "source": [
    "## NetworkInfo - make data.frame of pair-wise comparisons"
   ]
  },
  {
   "cell_type": "markdown",
   "id": "e4a02a27-0a8f-4689-9f7b-a97069f5dde1",
   "metadata": {},
   "source": [
    "### test data"
   ]
  },
  {
   "cell_type": "code",
   "execution_count": 38,
   "id": "ad751f2e-309a-48fe-9251-b6863a309c3e",
   "metadata": {},
   "outputs": [],
   "source": [
    "label <- c(\n",
    "    \"grp_6mos_by_month\",\n",
    "    \"grp_6mos_by_month\",\n",
    "    \"grp_6mos_by_month\",\n",
    "    \"grp_6mos_by_month\"\n",
    ")"
   ]
  },
  {
   "cell_type": "code",
   "execution_count": 39,
   "id": "3ee3a380-ec10-4546-9f88-f465ffb41c94",
   "metadata": {},
   "outputs": [],
   "source": [
    "networkDuration <- c(\n",
    "    \"6mos\",\n",
    "    \"6mos\",\n",
    "    \"6mos\",\n",
    "    \"6mos\"\n",
    ")"
   ]
  },
  {
   "cell_type": "code",
   "execution_count": 40,
   "id": "fe79bce1-160f-43cd-baf5-dd991a70b85e",
   "metadata": {},
   "outputs": [],
   "source": [
    "baseDate <- c(\n",
    "    \"2005-07-03\",\n",
    "    \"2005-08-03\",\n",
    "    \"2005-09-03\",\n",
    "    \"2005-10-04\"\n",
    ")"
   ]
  },
  {
   "cell_type": "code",
   "execution_count": 41,
   "id": "5d8d9d0a-1a82-404c-939c-157fec4bc64d",
   "metadata": {},
   "outputs": [],
   "source": [
    "beforeFile <- c(\n",
    "    \"grp_6mos_by_month_2005-07-03_pre-20220604-115739.tab\",\n",
    "    \"grp_6mos_by_month_2005-08-03_pre-20220604-120117.tab\",\n",
    "    \"grp_6mos_by_month_2005-09-03_pre-20220604-120452.tab\",\n",
    "    \"grp_6mos_by_month_2005-10-04_pre-20220604-120827.tab\"\n",
    ")"
   ]
  },
  {
   "cell_type": "code",
   "execution_count": 42,
   "id": "67419830-e70a-4c53-9c22-4dbc99447484",
   "metadata": {},
   "outputs": [],
   "source": [
    "afterFile <- c(\n",
    "    \"grp_6mos_by_month_2005-07-03_post-20220604-115928.tab\",\n",
    "    \"grp_6mos_by_month_2005-08-03_post-20220604-120305.tab\",\n",
    "    \"grp_6mos_by_month_2005-09-03_post-20220604-120639.tab\",\n",
    "    \"grp_6mos_by_month_2005-10-04_post-20220604-121014.tab\"\n",
    ")"
   ]
  },
  {
   "cell_type": "code",
   "execution_count": 43,
   "id": "89bef2c9-d700-436f-a995-b4d9f912503b",
   "metadata": {},
   "outputs": [],
   "source": [
    "dataFileDF <- data.frame(\n",
    "    baseDate,\n",
    "    networkDuration,\n",
    "    label,\n",
    "    beforeFile,\n",
    "    afterFile\n",
    ")"
   ]
  },
  {
   "cell_type": "code",
   "execution_count": 60,
   "id": "ccc74f08-15e6-47c6-87f6-ef66fab32cd0",
   "metadata": {},
   "outputs": [],
   "source": [
    "label <- c(\n",
    "    \"grp_6mos_by_month\"\n",
    ")"
   ]
  },
  {
   "cell_type": "code",
   "execution_count": 61,
   "id": "ab0a089a-b374-46f5-baea-10f94afb563b",
   "metadata": {},
   "outputs": [],
   "source": [
    "networkDuration <- c(\n",
    "    \"6mos\"\n",
    ")"
   ]
  },
  {
   "cell_type": "code",
   "execution_count": 62,
   "id": "488a6b39-f234-4377-bc96-a968c57f1ace",
   "metadata": {},
   "outputs": [],
   "source": [
    "baseDate <- c(\n",
    "    \"2005-07-03\"\n",
    ")"
   ]
  },
  {
   "cell_type": "code",
   "execution_count": 63,
   "id": "e55308cf-b32e-4bc8-b898-6850fe2b3047",
   "metadata": {},
   "outputs": [],
   "source": [
    "beforeFile <- c(\n",
    "    \"grp_6mos_by_month_2005-07-03_pre-20220604-115739.tab\"\n",
    ")"
   ]
  },
  {
   "cell_type": "code",
   "execution_count": 64,
   "id": "e1568273-2309-443c-bf41-26426464d8c0",
   "metadata": {},
   "outputs": [],
   "source": [
    "afterFile <- c(\n",
    "    \"grp_6mos_by_month_2005-07-03_post-20220604-115928.tab\"\n",
    ")"
   ]
  },
  {
   "cell_type": "code",
   "execution_count": 65,
   "id": "0510106c-b44b-4a12-8fe7-1e54288cc5e2",
   "metadata": {},
   "outputs": [],
   "source": [
    "dataFileDF <- data.frame(\n",
    "    baseDate,\n",
    "    networkDuration,\n",
    "    label,\n",
    "    beforeFile,\n",
    "    afterFile\n",
    ")"
   ]
  },
  {
   "cell_type": "code",
   "execution_count": 72,
   "id": "3cb36a86-29ee-457a-963a-8a7c55209c97",
   "metadata": {},
   "outputs": [
    {
     "data": {
      "text/html": [
       "<table class=\"dataframe\">\n",
       "<caption>A data.frame: 1 × 5</caption>\n",
       "<thead>\n",
       "\t<tr><th scope=col>baseDate</th><th scope=col>networkDuration</th><th scope=col>label</th><th scope=col>beforeFile</th><th scope=col>afterFile</th></tr>\n",
       "\t<tr><th scope=col>&lt;chr&gt;</th><th scope=col>&lt;chr&gt;</th><th scope=col>&lt;chr&gt;</th><th scope=col>&lt;chr&gt;</th><th scope=col>&lt;chr&gt;</th></tr>\n",
       "</thead>\n",
       "<tbody>\n",
       "\t<tr><td>2005-07-03</td><td>6mos</td><td>grp_6mos_by_month</td><td>grp_6mos_by_month_2005-07-03_pre-20220604-115739.tab</td><td>grp_6mos_by_month_2005-07-03_post-20220604-115928.tab</td></tr>\n",
       "</tbody>\n",
       "</table>\n"
      ],
      "text/latex": [
       "A data.frame: 1 × 5\n",
       "\\begin{tabular}{lllll}\n",
       " baseDate & networkDuration & label & beforeFile & afterFile\\\\\n",
       " <chr> & <chr> & <chr> & <chr> & <chr>\\\\\n",
       "\\hline\n",
       "\t 2005-07-03 & 6mos & grp\\_6mos\\_by\\_month & grp\\_6mos\\_by\\_month\\_2005-07-03\\_pre-20220604-115739.tab & grp\\_6mos\\_by\\_month\\_2005-07-03\\_post-20220604-115928.tab\\\\\n",
       "\\end{tabular}\n"
      ],
      "text/markdown": [
       "\n",
       "A data.frame: 1 × 5\n",
       "\n",
       "| baseDate &lt;chr&gt; | networkDuration &lt;chr&gt; | label &lt;chr&gt; | beforeFile &lt;chr&gt; | afterFile &lt;chr&gt; |\n",
       "|---|---|---|---|---|\n",
       "| 2005-07-03 | 6mos | grp_6mos_by_month | grp_6mos_by_month_2005-07-03_pre-20220604-115739.tab | grp_6mos_by_month_2005-07-03_post-20220604-115928.tab |\n",
       "\n"
      ],
      "text/plain": [
       "  baseDate   networkDuration label            \n",
       "1 2005-07-03 6mos            grp_6mos_by_month\n",
       "  beforeFile                                          \n",
       "1 grp_6mos_by_month_2005-07-03_pre-20220604-115739.tab\n",
       "  afterFile                                            \n",
       "1 grp_6mos_by_month_2005-07-03_post-20220604-115928.tab"
      ]
     },
     "metadata": {},
     "output_type": "display_data"
    }
   ],
   "source": [
    "dataFileDF"
   ]
  },
  {
   "cell_type": "markdown",
   "id": "498d15f9-2406-464f-9af6-184e593b48ca",
   "metadata": {},
   "source": [
    "### make data frame of files to process"
   ]
  },
  {
   "cell_type": "code",
   "execution_count": 77,
   "id": "fa79c528-b9da-4a55-b88a-d0bd34a3f423",
   "metadata": {},
   "outputs": [],
   "source": [
    "label <- c(\n",
    "    \"grp_6mos_by_month\",\n",
    "    \"grp_6mos_by_month\",\n",
    "    \"grp_6mos_by_month\",\n",
    "    \"grp_6mos_by_month\",\n",
    "    \"grp_6mos_by_month\",\n",
    "    \"grp_6mos_by_month\",\n",
    "    \"grp_6mos_by_month\",\n",
    "    \"grp_6mos_by_month\",\n",
    "    \"grp_6mos_by_month\",\n",
    "    \"grp_6mos_by_month\",\n",
    "    \"grp_6mos_by_month\",\n",
    "    \"grp_6mos_by_month\",\n",
    "    \"grp_6mos_by_month\",\n",
    "    \"grp_6mos_by_month\",\n",
    "    \"grp_6mos_by_month\",\n",
    "    \"grp_6mos_by_month\",\n",
    "    \"grp_6mos_by_month\",\n",
    "    \"grp_6mos_by_month\",\n",
    "    \"grp_6mos_by_month\",\n",
    "    \"grp_6mos_by_month\",\n",
    "    \"grp_6mos_by_month\",\n",
    "    \"grp_6mos_by_month\",\n",
    "    \"grp_6mos_by_month\",\n",
    "    \"grp_6mos_by_month\",\n",
    "    \"grp_6mos_by_month\",\n",
    "    \"grp_6mos_by_month\",\n",
    "    \"grp_6mos_by_month\",\n",
    "    \"grp_6mos_by_month\",\n",
    "    \"grp_6mos_by_month\",\n",
    "    \"grp_6mos_by_month\",\n",
    "    \"grp_6mos_by_month\",\n",
    "    \"grp_6mos_by_month\",\n",
    "    \"grp_6mos_by_month\",\n",
    "    \"grp_6mos_by_month\",\n",
    "    \"grp_6mos_by_month\",\n",
    "    \"grp_6mos_by_month\",\n",
    "    \"grp_6mos_by_month\",\n",
    "    \"grp_6mos_by_month\",\n",
    "    \"grp_6mos_by_month\",\n",
    "    \"grp_6mos_by_month\",\n",
    "    \"grp_6mos_by_month\",\n",
    "    \"grp_6mos_by_month\",\n",
    "    \"grp_6mos_by_month\",\n",
    "    \"grp_6mos_by_month\",\n",
    "    \"grp_6mos_by_month\",\n",
    "    \"grp_6mos_by_month\",\n",
    "    \"grp_6mos_by_month\",\n",
    "    \"grp_6mos_by_month\",\n",
    "    \"grp_6mos_by_month\",\n",
    "    \"grp_6mos_by_month\",\n",
    "    \"grp_6mos_by_month\",\n",
    "    \"grp_6mos_by_month\",\n",
    "    \"grp_6mos_by_month\",\n",
    "    \"grp_6mos_by_month\",\n",
    "    \"grp_6mos_by_month\",\n",
    "    \"grp_6mos_by_month\",\n",
    "    \"grp_6mos_by_month\",\n",
    "    \"grp_6mos_by_month\"\n",
    ")"
   ]
  },
  {
   "cell_type": "code",
   "execution_count": 78,
   "id": "f76cc54c-1c86-43f9-985f-a51c3a115365",
   "metadata": {},
   "outputs": [],
   "source": [
    "networkDuration <- c(\n",
    "    \"6mos\",\n",
    "    \"6mos\",\n",
    "    \"6mos\",\n",
    "    \"6mos\",\n",
    "    \"6mos\",\n",
    "    \"6mos\",\n",
    "    \"6mos\",\n",
    "    \"6mos\",\n",
    "    \"6mos\",\n",
    "    \"6mos\",\n",
    "    \"6mos\",\n",
    "    \"6mos\",\n",
    "    \"6mos\",\n",
    "    \"6mos\",\n",
    "    \"6mos\",\n",
    "    \"6mos\",\n",
    "    \"6mos\",\n",
    "    \"6mos\",\n",
    "    \"6mos\",\n",
    "    \"6mos\",\n",
    "    \"6mos\",\n",
    "    \"6mos\",\n",
    "    \"6mos\",\n",
    "    \"6mos\",\n",
    "    \"6mos\",\n",
    "    \"6mos\",\n",
    "    \"6mos\",\n",
    "    \"6mos\",\n",
    "    \"6mos\",\n",
    "    \"6mos\",\n",
    "    \"6mos\",\n",
    "    \"6mos\",\n",
    "    \"6mos\",\n",
    "    \"6mos\",\n",
    "    \"6mos\",\n",
    "    \"6mos\",\n",
    "    \"6mos\",\n",
    "    \"6mos\",\n",
    "    \"6mos\",\n",
    "    \"6mos\",\n",
    "    \"6mos\",\n",
    "    \"6mos\",\n",
    "    \"6mos\",\n",
    "    \"6mos\",\n",
    "    \"6mos\",\n",
    "    \"6mos\",\n",
    "    \"6mos\",\n",
    "    \"6mos\",\n",
    "    \"6mos\",\n",
    "    \"6mos\",\n",
    "    \"6mos\",\n",
    "    \"6mos\",\n",
    "    \"6mos\",\n",
    "    \"6mos\",\n",
    "    \"6mos\",\n",
    "    \"6mos\",\n",
    "    \"6mos\",\n",
    "    \"6mos\"\n",
    ")"
   ]
  },
  {
   "cell_type": "code",
   "execution_count": 79,
   "id": "ad0580c6-f137-4d59-8609-819f0177f64e",
   "metadata": {},
   "outputs": [],
   "source": [
    "baseDate <- c(\n",
    "    \"2005-07-03\",\n",
    "    \"2005-08-03\",\n",
    "    \"2005-09-03\",\n",
    "    \"2005-10-04\",\n",
    "    \"2005-11-04\",\n",
    "    \"2005-12-05\",\n",
    "    \"2006-01-05\",\n",
    "    \"2006-02-05\",\n",
    "    \"2006-03-08\",\n",
    "    \"2006-04-08\",\n",
    "    \"2006-05-09\",\n",
    "    \"2006-06-09\",\n",
    "    \"2006-07-10\",\n",
    "    \"2006-08-10\",\n",
    "    \"2006-09-10\",\n",
    "    \"2006-10-11\",\n",
    "    \"2006-11-11\",\n",
    "    \"2006-12-12\",\n",
    "    \"2007-01-12\",\n",
    "    \"2007-02-12\",\n",
    "    \"2007-03-15\",\n",
    "    \"2007-04-15\",\n",
    "    \"2007-05-16\",\n",
    "    \"2007-06-16\",\n",
    "    \"2007-07-17\",\n",
    "    \"2007-08-17\",\n",
    "    \"2007-09-17\",\n",
    "    \"2007-10-18\",\n",
    "    \"2007-11-18\",\n",
    "    \"2007-12-19\",\n",
    "    \"2008-01-19\",\n",
    "    \"2008-02-19\",\n",
    "    \"2008-03-21\",\n",
    "    \"2008-04-21\",\n",
    "    \"2008-05-22\",\n",
    "    \"2008-06-22\",\n",
    "    \"2008-07-23\",\n",
    "    \"2008-08-23\",\n",
    "    \"2008-09-23\",\n",
    "    \"2008-10-24\",\n",
    "    \"2008-11-24\",\n",
    "    \"2008-12-25\",\n",
    "    \"2009-01-25\",\n",
    "    \"2009-02-25\",\n",
    "    \"2009-03-28\",\n",
    "    \"2009-04-28\",\n",
    "    \"2009-05-29\",\n",
    "    \"2009-06-29\",\n",
    "    \"2009-07-30\",\n",
    "    \"2009-08-30\",\n",
    "    \"2009-09-30\",\n",
    "    \"2009-10-31\",\n",
    "    \"2009-12-01\",\n",
    "    \"2010-01-01\",\n",
    "    \"2010-02-01\",\n",
    "    \"2010-03-04\",\n",
    "    \"2010-04-04\",\n",
    "    \"2010-05-05\"\n",
    ")"
   ]
  },
  {
   "cell_type": "code",
   "execution_count": 80,
   "id": "9d551f2e-27b1-4a35-ac9f-67f7d982f817",
   "metadata": {},
   "outputs": [],
   "source": [
    "beforeFile <- c(\n",
    "    \"grp_6mos_by_month_2005-07-03_pre-20220604-115739.tab\",\n",
    "    \"grp_6mos_by_month_2005-08-03_pre-20220604-120117.tab\",\n",
    "    \"grp_6mos_by_month_2005-09-03_pre-20220604-120452.tab\",\n",
    "    \"grp_6mos_by_month_2005-10-04_pre-20220604-120827.tab\",\n",
    "    \"grp_6mos_by_month_2005-11-04_pre-20220604-121212.tab\",\n",
    "    \"grp_6mos_by_month_2005-12-05_pre-20220604-121603.tab\",\n",
    "    \"grp_6mos_by_month_2006-01-05_pre-20220604-121948.tab\",\n",
    "    \"grp_6mos_by_month_2006-02-05_pre-20220604-122317.tab\",\n",
    "    \"grp_6mos_by_month_2006-03-08_pre-20220604-122637.tab\",\n",
    "    \"grp_6mos_by_month_2006-04-08_pre-20220604-122958.tab\",\n",
    "    \"grp_6mos_by_month_2006-05-09_pre-20220604-123316.tab\",\n",
    "    \"grp_6mos_by_month_2006-06-09_pre-20220604-123643.tab\",\n",
    "    \"grp_6mos_by_month_2006-07-10_pre-20220604-123955.tab\",\n",
    "    \"grp_6mos_by_month_2006-08-10_pre-20220604-124308.tab\",\n",
    "    \"grp_6mos_by_month_2006-09-10_pre-20220604-124636.tab\",\n",
    "    \"grp_6mos_by_month_2006-10-11_pre-20220604-124959.tab\",\n",
    "    \"grp_6mos_by_month_2006-11-11_pre-20220604-125318.tab\",\n",
    "    \"grp_6mos_by_month_2006-12-12_pre-20220604-125624.tab\",\n",
    "    \"grp_6mos_by_month_2007-01-12_pre-20220604-125935.tab\",\n",
    "    \"grp_6mos_by_month_2007-02-12_pre-20220604-130252.tab\",\n",
    "    \"grp_6mos_by_month_2007-03-15_pre-20220604-130605.tab\",\n",
    "    \"grp_6mos_by_month_2007-04-15_pre-20220604-130914.tab\",\n",
    "    \"grp_6mos_by_month_2007-05-16_pre-20220604-131210.tab\",\n",
    "    \"grp_6mos_by_month_2007-06-16_pre-20220604-131501.tab\",\n",
    "    \"grp_6mos_by_month_2007-07-17_pre-20220604-131750.tab\",\n",
    "    \"grp_6mos_by_month_2007-08-17_pre-20220604-132033.tab\",\n",
    "    \"grp_6mos_by_month_2007-09-17_pre-20220604-132313.tab\",\n",
    "    \"grp_6mos_by_month_2007-10-18_pre-20220604-132557.tab\",\n",
    "    \"grp_6mos_by_month_2007-11-18_pre-20220604-132843.tab\",\n",
    "    \"grp_6mos_by_month_2007-12-19_pre-20220604-133126.tab\",\n",
    "    \"grp_6mos_by_month_2008-01-19_pre-20220604-133402.tab\",\n",
    "    \"grp_6mos_by_month_2008-02-19_pre-20220604-133627.tab\",\n",
    "    \"grp_6mos_by_month_2008-03-21_pre-20220604-133847.tab\",\n",
    "    \"grp_6mos_by_month_2008-04-21_pre-20220604-134102.tab\",\n",
    "    \"grp_6mos_by_month_2008-05-22_pre-20220604-134315.tab\",\n",
    "    \"grp_6mos_by_month_2008-06-22_pre-20220604-134526.tab\",\n",
    "    \"grp_6mos_by_month_2008-07-23_pre-20220604-134742.tab\",\n",
    "    \"grp_6mos_by_month_2008-08-23_pre-20220604-134954.tab\",\n",
    "    \"grp_6mos_by_month_2008-09-23_pre-20220604-135158.tab\",\n",
    "    \"grp_6mos_by_month_2008-10-24_pre-20220604-135401.tab\",\n",
    "    \"grp_6mos_by_month_2008-11-24_pre-20220604-135605.tab\",\n",
    "    \"grp_6mos_by_month_2008-12-25_pre-20220604-135809.tab\",\n",
    "    \"grp_6mos_by_month_2009-01-25_pre-20220604-140021.tab\",\n",
    "    \"grp_6mos_by_month_2009-02-25_pre-20220604-140219.tab\",\n",
    "    \"grp_6mos_by_month_2009-03-28_pre-20220604-140420.tab\",\n",
    "    \"grp_6mos_by_month_2009-04-28_pre-20220604-140621.tab\",\n",
    "    \"grp_6mos_by_month_2009-05-29_pre-20220604-140826.tab\",\n",
    "    \"grp_6mos_by_month_2009-06-29_pre-20220604-141033.tab\",\n",
    "    \"grp_6mos_by_month_2009-07-30_pre-20220604-141239.tab\",\n",
    "    \"grp_6mos_by_month_2009-08-30_pre-20220604-141447.tab\",\n",
    "    \"grp_6mos_by_month_2009-09-30_pre-20220604-141700.tab\",\n",
    "    \"grp_6mos_by_month_2009-10-31_pre-20220604-141919.tab\",\n",
    "    \"grp_6mos_by_month_2009-12-01_pre-20220604-142137.tab\",\n",
    "    \"grp_6mos_by_month_2010-01-01_pre-20220604-142343.tab\",\n",
    "    \"grp_6mos_by_month_2010-02-01_pre-20220604-142549.tab\",\n",
    "    \"grp_6mos_by_month_2010-03-04_pre-20220604-142755.tab\",\n",
    "    \"grp_6mos_by_month_2010-04-04_pre-20220604-143001.tab\",\n",
    "    \"grp_6mos_by_month_2010-05-05_pre-20220604-143216.tab\"\n",
    ")"
   ]
  },
  {
   "cell_type": "code",
   "execution_count": 81,
   "id": "d81a138c-3750-43fa-af42-d85afd5f965d",
   "metadata": {},
   "outputs": [],
   "source": [
    "afterFile <- c(\n",
    "    \"grp_6mos_by_month_2005-07-03_post-20220604-115928.tab\",\n",
    "    \"grp_6mos_by_month_2005-08-03_post-20220604-120305.tab\",\n",
    "    \"grp_6mos_by_month_2005-09-03_post-20220604-120639.tab\",\n",
    "    \"grp_6mos_by_month_2005-10-04_post-20220604-121014.tab\",\n",
    "    \"grp_6mos_by_month_2005-11-04_post-20220604-121409.tab\",\n",
    "    \"grp_6mos_by_month_2005-12-05_post-20220604-121756.tab\",\n",
    "    \"grp_6mos_by_month_2006-01-05_post-20220604-122133.tab\",\n",
    "    \"grp_6mos_by_month_2006-02-05_post-20220604-122459.tab\",\n",
    "    \"grp_6mos_by_month_2006-03-08_post-20220604-122819.tab\",\n",
    "    \"grp_6mos_by_month_2006-04-08_post-20220604-123139.tab\",\n",
    "    \"grp_6mos_by_month_2006-05-09_post-20220604-123504.tab\",\n",
    "    \"grp_6mos_by_month_2006-06-09_post-20220604-123819.tab\",\n",
    "    \"grp_6mos_by_month_2006-07-10_post-20220604-124132.tab\",\n",
    "    \"grp_6mos_by_month_2006-08-10_post-20220604-124452.tab\",\n",
    "    \"grp_6mos_by_month_2006-09-10_post-20220604-124818.tab\",\n",
    "    \"grp_6mos_by_month_2006-10-11_post-20220604-125140.tab\",\n",
    "    \"grp_6mos_by_month_2006-11-11_post-20220604-125452.tab\",\n",
    "    \"grp_6mos_by_month_2006-12-12_post-20220604-125757.tab\",\n",
    "    \"grp_6mos_by_month_2007-01-12_post-20220604-130114.tab\",\n",
    "    \"grp_6mos_by_month_2007-02-12_post-20220604-130429.tab\",\n",
    "    \"grp_6mos_by_month_2007-03-15_post-20220604-130743.tab\",\n",
    "    \"grp_6mos_by_month_2007-04-15_post-20220604-131043.tab\",\n",
    "    \"grp_6mos_by_month_2007-05-16_post-20220604-131335.tab\",\n",
    "    \"grp_6mos_by_month_2007-06-16_post-20220604-131627.tab\",\n",
    "    \"grp_6mos_by_month_2007-07-17_post-20220604-131913.tab\",\n",
    "    \"grp_6mos_by_month_2007-08-17_post-20220604-132154.tab\",\n",
    "    \"grp_6mos_by_month_2007-09-17_post-20220604-132433.tab\",\n",
    "    \"grp_6mos_by_month_2007-10-18_post-20220604-132722.tab\",\n",
    "    \"grp_6mos_by_month_2007-11-18_post-20220604-133006.tab\",\n",
    "    \"grp_6mos_by_month_2007-12-19_post-20220604-133245.tab\",\n",
    "    \"grp_6mos_by_month_2008-01-19_post-20220604-133516.tab\",\n",
    "    \"grp_6mos_by_month_2008-02-19_post-20220604-133737.tab\",\n",
    "    \"grp_6mos_by_month_2008-03-21_post-20220604-133955.tab\",\n",
    "    \"grp_6mos_by_month_2008-04-21_post-20220604-134209.tab\",\n",
    "    \"grp_6mos_by_month_2008-05-22_post-20220604-134421.tab\",\n",
    "    \"grp_6mos_by_month_2008-06-22_post-20220604-134635.tab\",\n",
    "    \"grp_6mos_by_month_2008-07-23_post-20220604-134850.tab\",\n",
    "    \"grp_6mos_by_month_2008-08-23_post-20220604-135057.tab\",\n",
    "    \"grp_6mos_by_month_2008-09-23_post-20220604-135300.tab\",\n",
    "    \"grp_6mos_by_month_2008-10-24_post-20220604-135504.tab\",\n",
    "    \"grp_6mos_by_month_2008-11-24_post-20220604-135707.tab\",\n",
    "    \"grp_6mos_by_month_2008-12-25_post-20220604-135915.tab\",\n",
    "    \"grp_6mos_by_month_2009-01-25_post-20220604-140120.tab\",\n",
    "    \"grp_6mos_by_month_2009-02-25_post-20220604-140318.tab\",\n",
    "    \"grp_6mos_by_month_2009-03-28_post-20220604-140520.tab\",\n",
    "    \"grp_6mos_by_month_2009-04-28_post-20220604-140722.tab\",\n",
    "    \"grp_6mos_by_month_2009-05-29_post-20220604-140928.tab\",\n",
    "    \"grp_6mos_by_month_2009-06-29_post-20220604-141135.tab\",\n",
    "    \"grp_6mos_by_month_2009-07-30_post-20220604-141342.tab\",\n",
    "    \"grp_6mos_by_month_2009-08-30_post-20220604-141552.tab\",\n",
    "    \"grp_6mos_by_month_2009-09-30_post-20220604-141809.tab\",\n",
    "    \"grp_6mos_by_month_2009-10-31_post-20220604-142029.tab\",\n",
    "    \"grp_6mos_by_month_2009-12-01_post-20220604-142240.tab\",\n",
    "    \"grp_6mos_by_month_2010-01-01_post-20220604-142446.tab\",\n",
    "    \"grp_6mos_by_month_2010-02-01_post-20220604-142653.tab\",\n",
    "    \"grp_6mos_by_month_2010-03-04_post-20220604-142858.tab\",\n",
    "    \"grp_6mos_by_month_2010-04-04_post-20220604-143107.tab\",\n",
    "    \"grp_6mos_by_month_2010-05-05_post-20220604-143320.tab\"\n",
    ")"
   ]
  },
  {
   "cell_type": "code",
   "execution_count": 82,
   "id": "26f17af8-cc2d-476d-97e0-aec3cb797a63",
   "metadata": {},
   "outputs": [],
   "source": [
    "dataFileDF <- data.frame(\n",
    "    baseDate,\n",
    "    networkDuration,\n",
    "    label,\n",
    "    beforeFile,\n",
    "    afterFile\n",
    ")"
   ]
  },
  {
   "cell_type": "markdown",
   "id": "642f3e77-9dd3-45ff-8124-c004cde3f0e1",
   "metadata": {},
   "source": [
    "### Build data.frame of network data"
   ]
  },
  {
   "cell_type": "code",
   "execution_count": 83,
   "id": "871cab21-18c7-4abd-977e-c8f5e2c7cbc7",
   "metadata": {},
   "outputs": [
    {
     "data": {
      "text/html": [
       "58"
      ],
      "text/latex": [
       "58"
      ],
      "text/markdown": [
       "58"
      ],
      "text/plain": [
       "[1] 58"
      ]
     },
     "metadata": {},
     "output_type": "display_data"
    }
   ],
   "source": [
    "nrow( dataFileDF )"
   ]
  },
  {
   "cell_type": "code",
   "execution_count": 84,
   "id": "9ce78983-c1e5-4e9a-b4e5-746f876464f6",
   "metadata": {},
   "outputs": [],
   "source": [
    "pairwiseComparisonDF <- NULL"
   ]
  },
  {
   "cell_type": "code",
   "execution_count": null,
   "id": "41832f54-a9ea-4eac-a0a1-4d21b7766da5",
   "metadata": {},
   "outputs": [
    {
     "name": "stderr",
     "output_type": "stream",
     "text": [
      "====> grp_6mos_by_month - 2005-07-03 ( 6mos ) - before: grp_6mos_by_month_2005-07-03_pre-20220604-115739.tab; after: grp_6mos_by_month_2005-07-03_post-20220604-115928.tab @ 2022-06-06 04:45:21\n",
      "\n",
      "Warning message in sna::gtrans(myNetworkStatnet, mode = \"graph\"):\n",
      "“gtrans called with use.adjacency=TRUE, but your data looks too large for that to work well.  Overriding to edgelist method.”\n",
      "Warning message in sna::gtrans(myNetworkStatnet, mode = \"graph\"):\n",
      "“gtrans called with use.adjacency=TRUE, but your data looks too large for that to work well.  Overriding to edgelist method.”\n",
      "==> Start of  compareMatricesQAP  at  2022-06-06 04:50:21\n",
      "\n",
      "==> End of  compareMatricesQAP  at  2022-06-06 04:51:27\n",
      "\n",
      "====> grp_6mos_by_month - 2005-08-03 ( 6mos ) - before: grp_6mos_by_month_2005-08-03_pre-20220604-120117.tab; after: grp_6mos_by_month_2005-08-03_post-20220604-120305.tab @ 2022-06-06 04:51:27\n",
      "\n",
      "Warning message in sna::gtrans(myNetworkStatnet, mode = \"graph\"):\n",
      "“gtrans called with use.adjacency=TRUE, but your data looks too large for that to work well.  Overriding to edgelist method.”\n",
      "Warning message in sna::gtrans(myNetworkStatnet, mode = \"graph\"):\n",
      "“gtrans called with use.adjacency=TRUE, but your data looks too large for that to work well.  Overriding to edgelist method.”\n",
      "==> Start of  compareMatricesQAP  at  2022-06-06 04:56:27\n",
      "\n",
      "==> End of  compareMatricesQAP  at  2022-06-06 04:57:29\n",
      "\n",
      "====> grp_6mos_by_month - 2005-09-03 ( 6mos ) - before: grp_6mos_by_month_2005-09-03_pre-20220604-120452.tab; after: grp_6mos_by_month_2005-09-03_post-20220604-120639.tab @ 2022-06-06 04:57:29\n",
      "\n",
      "Warning message in sna::gtrans(myNetworkStatnet, mode = \"graph\"):\n",
      "“gtrans called with use.adjacency=TRUE, but your data looks too large for that to work well.  Overriding to edgelist method.”\n",
      "Warning message in sna::gtrans(myNetworkStatnet, mode = \"graph\"):\n",
      "“gtrans called with use.adjacency=TRUE, but your data looks too large for that to work well.  Overriding to edgelist method.”\n",
      "==> Start of  compareMatricesQAP  at  2022-06-06 05:02:58\n",
      "\n",
      "==> End of  compareMatricesQAP  at  2022-06-06 05:03:59\n",
      "\n",
      "====> grp_6mos_by_month - 2005-10-04 ( 6mos ) - before: grp_6mos_by_month_2005-10-04_pre-20220604-120827.tab; after: grp_6mos_by_month_2005-10-04_post-20220604-121014.tab @ 2022-06-06 05:03:59\n",
      "\n"
     ]
    }
   ],
   "source": [
    "# loop over data files\n",
    "for( i in 1 : nrow( dataFileDF ) ) {\n",
    "\n",
    "    # get current row\n",
    "    dataFileRow <- dataFileDF[ i, ]\n",
    "    \n",
    "    # retrieve fields\n",
    "    myBeforeFile <- dataFileRow$beforeFile\n",
    "    myAfterFile <- dataFileRow$afterFile\n",
    "    myBaseDate <- dataFileRow$baseDate\n",
    "    myNetworkDuration <- dataFileRow$networkDuration\n",
    "    myLabel <- dataFileRow$label\n",
    "    \n",
    "    message(\n",
    "        paste(\n",
    "            \"====> \",\n",
    "            myLabel,\n",
    "            \" - \",\n",
    "            myBaseDate,\n",
    "            \" ( \",\n",
    "            myNetworkDuration,\n",
    "            \" ) - before: \",\n",
    "            myBeforeFile,\n",
    "            \"; after: \",\n",
    "            myAfterFile,\n",
    "            \" @ \",\n",
    "            Sys.time(),\n",
    "            sep = \"\"\n",
    "        )\n",
    "    )\n",
    "\n",
    "    # process and compare the before and after networks.\n",
    "    pairwiseComparison <- processBeforeAfterNetworks(\n",
    "        beforeDataDirectoryIN = data_directory,\n",
    "        beforeFileIN = myBeforeFile,\n",
    "        afterDataDirectoryIN = data_directory,\n",
    "        afterFileIN = myAfterFile,\n",
    "        dateIN = myBaseDate,\n",
    "        networkDurationIN = myNetworkDuration,\n",
    "        labelIN = myLabel,\n",
    "        debugFlagIN = FALSE\n",
    "    )\n",
    "\n",
    "    # add them to the output data.frame.\n",
    "    if ( is.null( pairwiseComparisonDF ) == TRUE ){\n",
    "\n",
    "        # make a new data.frame with first row encountered.\n",
    "        pairwiseComparisonDF <- data.frame( pairwiseComparison )\n",
    "    \n",
    "    } else {\n",
    "    \n",
    "        # update data.frame to include latest row.\n",
    "        pairwiseComparisonDF <- rbind( pairwiseComparisonDF, pairwiseComparison )\n",
    "\n",
    "    } #-- END check if output data.frame is NULL --#\n",
    "\n",
    "}"
   ]
  },
  {
   "cell_type": "code",
   "execution_count": null,
   "id": "a72e0e74-cf41-4073-a216-9f6dc331d90d",
   "metadata": {},
   "outputs": [],
   "source": [
    "nrow( pairwiseComparisonDF )"
   ]
  },
  {
   "cell_type": "code",
   "execution_count": null,
   "id": "3c4d9149-a83a-42c8-b4bf-23c0a0c1f505",
   "metadata": {},
   "outputs": [],
   "source": [
    "pairwiseComparisonDF"
   ]
  },
  {
   "cell_type": "code",
   "execution_count": 59,
   "id": "fb8c9f5b-cebe-43a2-8033-ccc16893ef9b",
   "metadata": {},
   "outputs": [],
   "source": [
    "testPairwiseComparisonDF <- pairwiseComparisonDF"
   ]
  },
  {
   "cell_type": "markdown",
   "id": "df404639-8aaa-4721-bb46-4ebd130571dd",
   "metadata": {},
   "source": [
    "## NetworkBeforeAfterDatePair - process pair of networks"
   ]
  },
  {
   "cell_type": "code",
   "execution_count": null,
   "id": "f0b7fc45-07e2-4776-a579-d8449ee73122",
   "metadata": {},
   "outputs": [],
   "source": [
    "# Create pair instance and set basic information\n",
    "testNetworkPair <- NetworkBeforeAfterDatePair()\n",
    "testNetworkPair$myBaseDate <- \"2005-07-03\"\n",
    "testNetworkPair$myLabel <- paste( testNetworkPair$myBaseDate, \"-6mos\", sep = \"\" )\n"
   ]
  },
  {
   "cell_type": "code",
   "execution_count": null,
   "id": "9c640a0c-8ced-4051-bfb1-2be89f35ee88",
   "metadata": {},
   "outputs": [],
   "source": [
    "testNetworkPair$loadBeforeNetwork(\n",
    "    data_directory,\n",
    "    \"grp_6mos_by_month_2005-07-03_pre-20220604-040520.tab\"\n",
    ")"
   ]
  },
  {
   "cell_type": "markdown",
   "id": "34cbc1c8-04e5-4597-8508-7d855c125a8c",
   "metadata": {},
   "source": [
    "- average degree = 1.37457344078995\n",
    "- average author degree (2 and 4) = 60.1761006289308\n",
    "- average author degree (only 2) = 62.6953642384106\n",
    "- average source degree (3 and 4) = 1.26808681672026\n",
    "- average source degree (only 3) = 1.25590128755365\n",
    "- degree SD = 11.2888518966015\n",
    "- degree variance = 127.438177143404\n",
    "- degree max = 321\n",
    "- degree centrality = 0.0232117228168916\n",
    "- betweenness centrality = 0.036634060879916\n",
    "- connectedness = 0.294067754201938\n",
    "- Warning message in sna::gtrans(myNetworkStatnet, mode = \"graph\"):\n",
    "“gtrans called with use.adjacency=TRUE, but your data looks too large for that to work well.  Overriding to edgelist method.”\n",
    "- transitivity = 0.00342872708081513\n",
    "- density = 9.98092826597409e-05"
   ]
  },
  {
   "cell_type": "code",
   "execution_count": null,
   "id": "a612a615-a6fe-4be6-84bb-d4bf5b88bda7",
   "metadata": {},
   "outputs": [],
   "source": [
    "testNetworkPair <- NetworkBeforeAfterDatePair()\n",
    "testNetworkPair$loadAfterNetwork(\n",
    "    data_directory,\n",
    "    \"grp_6mos_by_month_2005-07-03_post-20220604-040716.tab\"\n",
    ")"
   ]
  },
  {
   "cell_type": "markdown",
   "id": "f1abb68a-e426-4cc8-9c94-6775594e3450",
   "metadata": {},
   "source": [
    "- average degree = 1.38836854715748\n",
    "- average author degree (2 and 4) = 58.6121212121212\n",
    "- average author degree (only 2) = 59.171974522293\n",
    "- average source degree (3 and 4) = 1.2935140113143\n",
    "- average source degree (only 3) = 1.24469906492822\n",
    "- degree SD = 11.095706272877\n",
    "- degree variance = 123.114697693963\n",
    "- degree max = 295\n",
    "- degree centrality = 0.0213225583410718\n",
    "- betweenness centrality = 0.0303777406610043\n",
    "- connectedness = 0.303995646265527\n",
    "- Warning message in sna::gtrans(myNetworkStatnet, mode = \"graph\"):\n",
    "“gtrans called with use.adjacency=TRUE, but your data looks too large for that to work well.  Overriding to edgelist method.”\n",
    "- transitivity = 0.00335767914962283\n",
    "- density = 0.000100810960438388"
   ]
  },
  {
   "cell_type": "code",
   "execution_count": null,
   "id": "661440d3-c116-46a4-86e5-94c69f23d996",
   "metadata": {},
   "outputs": [],
   "source": [
    "testNetworkPair$compareMatrices()"
   ]
  },
  {
   "cell_type": "code",
   "execution_count": null,
   "id": "e0d8667b-8faa-430a-9406-eb433eee5e73",
   "metadata": {},
   "outputs": [],
   "source": [
    "testNetwork <- testNetworkPair$myBeforeNetwork\n",
    "testNetwork$myDegreeAverage"
   ]
  },
  {
   "cell_type": "code",
   "execution_count": null,
   "id": "22921819-8be9-4af6-b5f5-4c7a339c0b54",
   "metadata": {},
   "outputs": [],
   "source": [
    "testNetworkPair$myGraphCorrelation"
   ]
  },
  {
   "cell_type": "markdown",
   "id": "1d91d4a8-4bcb-415b-8ef8-f492c4c70267",
   "metadata": {},
   "source": [
    "# graphing data\n",
    "\n",
    "Notes:\n",
    "\n",
    "- https://statisticsglobe.com/plot-all-columns-of-data-frame-in-r\n",
    "- https://ggplot2.tidyverse.org/\n",
    "- https://r-graphics.org/recipe-line-graph-basic-line\n",
    "- https://r4ds.had.co.nz/data-visualisation.html"
   ]
  },
  {
   "cell_type": "code",
   "execution_count": null,
   "id": "8c8b4ef9-5c1b-434c-b210-4e6e5d604408",
   "metadata": {},
   "outputs": [],
   "source": [
    "# simple plot using ggplot2\n",
    "#install.packages(\"ggplot2\")\n",
    "library( ggplot2 )\n",
    "ggplot( pairwiseComparisonDF, aes( baseDate, graphCorrelation ) ) + geom_line()\n",
    "\n",
    "# multiple lines in separate graphs in one plot:\n",
    "network_ggp_df <- data.frame( x = pairwiseComparisonDF$baseDate,                            # Reshape data frame\n",
    "                              y = c(pairwiseComparisonDF$beforeDegreeAverage, pairwiseComparisonDF$graphCorrelation, pairwiseComparisonDF$afterDegreeAverage),\n",
    "                              group = c(rep(\"beforeDegreeAverage\", nrow(pairwiseComparisonDF)),\n",
    "                                        rep(\"graphCorrelation\", nrow(pairwiseComparisonDF)),\n",
    "                                        rep(\"afterDegreeAverage\", nrow(pairwiseComparisonDF))))\n",
    "\n",
    "# draw multiple lines, one graph\n",
    "ggp <- ggplot( network_ggp_df, aes( x, y, col = group ) ) + geom_line()\n",
    "ggp\n",
    "\n",
    "# each line in a separate graph, graphs stacked together\n",
    "ggp + facet_grid(group ~ .) "
   ]
  },
  {
   "cell_type": "markdown",
   "id": "f3b95239-ac3a-4be8-9774-71a4fc1f1b81",
   "metadata": {},
   "source": [
    "# memory management"
   ]
  },
  {
   "cell_type": "code",
   "execution_count": null,
   "id": "1d8a3f4d-6f3f-4f25-9864-7d20123bddc3",
   "metadata": {},
   "outputs": [],
   "source": [
    "sort(sapply(ls(), function(x) format(object.size(get(x)), unit = 'auto')))"
   ]
  },
  {
   "cell_type": "code",
   "execution_count": null,
   "id": "5651ae5f-3d6f-48bc-bc50-03befb29b790",
   "metadata": {},
   "outputs": [],
   "source": [
    "rm( testNetworkInfo )\n",
    "rm( testNetworkPair )\n",
    "gc()"
   ]
  },
  {
   "cell_type": "markdown",
   "id": "94ea3bbf-0533-4414-aa4c-b79b6bd79fa2",
   "metadata": {},
   "source": [
    "# Workspace"
   ]
  },
  {
   "cell_type": "markdown",
   "id": "8ac6264c-daf0-4dbb-8355-c1eec2cf7bc4",
   "metadata": {},
   "source": [
    "## Workspace - load workspace (optional)\n",
    "\n",
    "If you want, you can load this file's workspace, from a previous run:"
   ]
  },
  {
   "cell_type": "code",
   "execution_count": 17,
   "id": "e80992e3-5f74-4c27-b2df-76a5ea5fc121",
   "metadata": {
    "ExecuteTime": {
     "end_time": "2017-12-10T05:01:35.275829Z",
     "start_time": "2017-12-10T05:01:34.708Z"
    }
   },
   "outputs": [],
   "source": [
    "# assumes that you've already set working directory above to the\n",
    "#     working directory.\n",
    "setwd( data_directory )\n",
    "load( workspace_file_name )"
   ]
  },
  {
   "cell_type": "markdown",
   "id": "6df21314-f5cf-4c5d-8884-0c30863a268d",
   "metadata": {
    "tags": []
   },
   "source": [
    "## Workspace - Save workspace image\n",
    "\n",
    "- Back to [Table of Contents](#Table-of-Contents)\n",
    "\n",
    "Save all the information in the current image, in case we need/want it later."
   ]
  },
  {
   "cell_type": "code",
   "execution_count": 50,
   "id": "b5ada18d-582d-49ee-b3ab-35f7aff70bb7",
   "metadata": {
    "ExecuteTime": {
     "end_time": "2019-07-25T22:35:24.020012Z",
     "start_time": "2019-07-25T22:35:22.295Z"
    }
   },
   "outputs": [
    {
     "name": "stderr",
     "output_type": "stream",
     "text": [
      "Output workspace to: R_grp_network_analysis_test.RData\n",
      "\n"
     ]
    }
   ],
   "source": [
    "# help( save.image )\n",
    "message( paste( \"Output workspace to: \", workspace_file_name, sep = \"\" ) )\n",
    "save.image( file = workspace_file_name )"
   ]
  },
  {
   "cell_type": "markdown",
   "id": "f7377d85-317c-411b-93d6-f5dd26c82fd3",
   "metadata": {},
   "source": [
    "# Appendices"
   ]
  },
  {
   "cell_type": "markdown",
   "id": "1c4ceb8b-08a5-46fa-9d34-daf1a1c879d5",
   "metadata": {},
   "source": [
    "## Appendix - Example single network analysis"
   ]
  },
  {
   "cell_type": "markdown",
   "id": "eb9a5ff3-0b87-4933-8541-f31735fb7079",
   "metadata": {},
   "source": [
    "### `test` - loading large network matrix\n",
    "\n",
    "First, we'll just try to load a 5 GB network matrix (all people from entire time, ties from articles in 2005)."
   ]
  },
  {
   "cell_type": "code",
   "execution_count": null,
   "id": "9d653dd0-2188-4764-995b-dce075b31574",
   "metadata": {
    "ExecuteTime": {
     "end_time": "2017-12-08T04:21:23.765124Z",
     "start_time": "2017-12-08T04:21:23.768Z"
    }
   },
   "outputs": [],
   "source": [
    "# initialize variables\n",
    "testDataFolder <- data_directory\n",
    "testDataFile <- \"all_grp_hard_news_2005-20220603-015300.txt\"\n",
    "testDataPath <- paste( testDataFolder, \"/\", testDataFile, sep = \"\" )"
   ]
  },
  {
   "cell_type": "code",
   "execution_count": null,
   "id": "57cc0990-7c7a-4ba3-9d21-57eaedff38d1",
   "metadata": {
    "ExecuteTime": {
     "end_time": "2017-12-08T04:21:34.192082Z",
     "start_time": "2017-12-08T04:21:34.195Z"
    }
   },
   "outputs": [],
   "source": [
    "testDataPath"
   ]
  },
  {
   "cell_type": "markdown",
   "id": "dae58b03-e583-4e11-b846-f963a54579f3",
   "metadata": {},
   "source": [
    "Load the data file into memory"
   ]
  },
  {
   "cell_type": "code",
   "execution_count": null,
   "id": "2a9ea958-be54-463a-9279-146ea13f2621",
   "metadata": {
    "ExecuteTime": {
     "end_time": "2017-12-08T04:21:39.543163Z",
     "start_time": "2017-12-08T04:21:39.041Z"
    }
   },
   "outputs": [],
   "source": [
    "# tab-delimited:\n",
    "testDataDF <- read.delim( testDataPath, header = TRUE, row.names = 1, check.names = FALSE )"
   ]
  },
  {
   "cell_type": "code",
   "execution_count": null,
   "id": "fdd929c7-8d2d-4886-a4e8-73f7ac47e998",
   "metadata": {
    "ExecuteTime": {
     "end_time": "2017-12-08T04:21:41.263112Z",
     "start_time": "2017-12-08T04:21:41.258Z"
    }
   },
   "outputs": [],
   "source": [
    "# get count of rows...\n",
    "testRowCount <- nrow( testDataDF )\n",
    "paste( \"test row count = \", testRowCount, sep = \"\" )\n",
    "\n",
    "# ...and columns\n",
    "testColumnCount <- ncol( testDataDF )\n",
    "paste( \"test column count = \", testColumnCount, sep = \"\" )"
   ]
  },
  {
   "cell_type": "markdown",
   "id": "83c8716b-be6a-4210-a112-7aeae2a59deb",
   "metadata": {},
   "source": [
    "Get just the tie rows and columns for initializing network libraries."
   ]
  },
  {
   "cell_type": "code",
   "execution_count": null,
   "id": "b168ff29-f64b-43a6-9497-09333f207f0a",
   "metadata": {
    "ExecuteTime": {
     "end_time": "2017-12-08T04:21:44.032913Z",
     "start_time": "2017-12-08T04:21:44.037Z"
    }
   },
   "outputs": [],
   "source": [
    "# the below syntax returns only as many columns as there are rows, so\n",
    "#     omitting any trait columns that lie in columns on the right side\n",
    "#     of the file.\n",
    "testNetworkDF <- testDataDF[ , 1 : testRowCount ]\n",
    "#str( testNetworkDF )"
   ]
  },
  {
   "cell_type": "code",
   "execution_count": null,
   "id": "54d55e1b-1c45-4a06-b150-f872f66ae804",
   "metadata": {
    "ExecuteTime": {
     "end_time": "2017-12-08T04:21:45.730944Z",
     "start_time": "2017-12-08T04:21:45.730Z"
    }
   },
   "outputs": [],
   "source": [
    "# convert to a matrix\n",
    "testNetworkMatrix <- as.matrix( testNetworkDF )\n",
    "# str( testNetworkMatrix )"
   ]
  },
  {
   "cell_type": "markdown",
   "id": "52bc9b94-7db0-483e-9cca-7559d7b2b076",
   "metadata": {},
   "source": [
    "### `test` - initialize statnet\n",
    "\n",
    "- Back to [Table of Contents](#Table-of-Contents)\n",
    "\n",
    "First, load the statnet package, then load the automated grp_month data into statnet object and assign attributes to nodes.\n",
    "\n",
    "Based on `context_text/R/sna/statnet/sna-statnet-init.r`."
   ]
  },
  {
   "cell_type": "code",
   "execution_count": null,
   "id": "fbf9763f-2b29-4a50-b2c3-de436b5bc169",
   "metadata": {
    "ExecuteTime": {
     "end_time": "2017-12-08T04:21:51.864666Z",
     "start_time": "2017-12-08T04:21:48.771Z"
    }
   },
   "outputs": [],
   "source": [
    "# make sure you've loaded the statnet library\n",
    "#install.packages( \"statnet\" )\n",
    "library( statnet )"
   ]
  },
  {
   "cell_type": "code",
   "execution_count": null,
   "id": "e6c1c8f5-fbb5-47fc-9572-6e6f7e583066",
   "metadata": {
    "ExecuteTime": {
     "end_time": "2017-12-08T04:21:58.264741Z",
     "start_time": "2017-12-08T04:21:57.687Z"
    }
   },
   "outputs": [],
   "source": [
    "# If you have a data frame of attributes (each attribute is a column, with\n",
    "#     attribute name the column name), you can associate those attributes\n",
    "#     when you create the network.\n",
    "# attribute help: http://www.inside-r.org/packages/cran/network/docs/loading.attributes\n",
    "\n",
    "# load attributes from a file:\n",
    "#tab_attribute_test1 <- read.delim( \"tab-test1-attribute_data.txt\", header = TRUE, row.names = 1, check.names = FALSE )\n",
    "\n",
    "# or create DataFrame by just grabbing the attribute columns\n",
    "testNetworkAttributeDF <- testDataDF[ , ( testColumnCount - 1 ) : testColumnCount ]\n",
    "\n",
    "# convert matrix to statnet network object instance.\n",
    "testNetworkStatnet <- network( testNetworkMatrix, matrix.type = \"adjacency\", directed = FALSE, vertex.attr = testNetworkAttributeDF )\n",
    "\n",
    "# look at information now.\n",
    "testNetworkStatnet\n",
    "\n",
    "# Network attributes:\n",
    "#  vertices = 314\n",
    "#  directed = FALSE\n",
    "#  hyper = FALSE\n",
    "#  loops = FALSE\n",
    "#  multiple = FALSE\n",
    "#  bipartite = FALSE\n",
    "#  total edges= 309\n",
    "#    missing edges= 0\n",
    "#    non-missing edges= 309\n",
    "#\n",
    "# Vertex attribute names:\n",
    "#    person_type vertex.names\n",
    "#\n",
    "# No edge attributes\n"
   ]
  },
  {
   "cell_type": "markdown",
   "id": "03b8642f-c1c3-49e9-8e1c-31f62d21c667",
   "metadata": {},
   "source": [
    "### `test` - Basic metrics\n",
    "\n",
    "- Back to [Table of Contents](#Table-of-Contents)"
   ]
  },
  {
   "cell_type": "code",
   "execution_count": null,
   "id": "7b90fe9e-9527-40d1-b504-47703fc9b420",
   "metadata": {
    "ExecuteTime": {
     "end_time": "2017-12-08T04:22:04.538822Z",
     "start_time": "2017-12-08T04:22:04.517Z"
    }
   },
   "outputs": [],
   "source": [
    "# assuming that our statnet network object is in reference test1_statnet.\n",
    "\n",
    "# Use the degree function in the sna package to create vector of degree values\n",
    "#    for each node.  Make sure to pass the gmode parameter to tell it that the\n",
    "#    graph is not directed (gmode = \"graph\", instead of \"digraph\").\n",
    "# Doc: http://www.inside-r.org/packages/cran/sna/docs/degree\n",
    "#degree_vector <- degree( test1_statnet, gmode = \"graph\" )\n",
    "\n",
    "# If you have other libraries loaded that also implement a degree function, you\n",
    "#    can also call this with package name:\n",
    "testDegreeVector <- sna::degree( testNetworkStatnet, gmode = \"graph\" )\n",
    "\n",
    "# output the vector\n",
    "#testDegreeVector\n",
    "\n",
    "# want more info on the degree function?  You can get to it eventually through\n",
    "#    the following:\n",
    "#help( package = \"sna\" )\n",
    "#??sna::degree\n",
    "\n",
    "# what is the average (mean) degree?\n",
    "testAvgDegree <- mean( testDegreeVector )\n",
    "paste( \"average degree = \", testAvgDegree, sep = \"\" )\n",
    "\n",
    "# subset vector to get only those that are above mean\n",
    "testAboveMeanVector <- testDegreeVector[ testDegreeVector > testAvgDegree ]\n",
    "\n",
    "# Take the degree and associate it with each node as a node attribute.\n",
    "#    (%v% is a shortcut for the get.vertex.attribute command)\n",
    "testNetworkStatnet %v% \"degree\" <- testDegreeVector\n",
    "\n",
    "# also add degree vector to original data frame\n",
    "testDataDF$degree <- testDegreeVector\n"
   ]
  },
  {
   "cell_type": "code",
   "execution_count": null,
   "id": "90d5e4a9-fbc3-4344-9e07-b3373afa0032",
   "metadata": {
    "ExecuteTime": {
     "end_time": "2017-12-08T04:22:06.585819Z",
     "start_time": "2017-12-08T04:22:06.365Z"
    }
   },
   "outputs": [],
   "source": [
    "# average author degree (person types 2 and 4)\n",
    "testAverageAuthorDegree2And4 <- calcAuthorMeanDegree( dataFrameIN = testDataDF, includeBothIN = TRUE )\n",
    "paste( \"average author degree (2 and 4) = \", testAverageAuthorDegree2And4, sep = \"\" )\n",
    "\n",
    "# average author degree (person type 2 only)\n",
    "testAverageAuthorDegreeOnly2 <- calcAuthorMeanDegree( dataFrameIN = testDataDF, includeBothIN = FALSE )\n",
    "paste( \"average author degree (only 2) = \", testAverageAuthorDegreeOnly2, sep = \"\" )\n",
    "\n",
    "# average source degree (person types 3 and 4)\n",
    "testAverageSourceDegree3And4 <- calcSourceMeanDegree( dataFrameIN = testDataDF, includeBothIN = TRUE )\n",
    "paste( \"average source degree (3 and 4) = \", testAverageSourceDegree3And4, sep = \"\" )\n",
    "\n",
    "# average source degree (person type 3 only)\n",
    "testAverageSourceDegreeOnly3 <- calcSourceMeanDegree( dataFrameIN = testDataDF, includeBothIN = FALSE )\n",
    "paste( \"average source degree (only 3) = \", testAverageSourceDegreeOnly3, sep = \"\" )\n"
   ]
  },
  {
   "cell_type": "markdown",
   "id": "c81eb96e-7fd1-43de-baa7-7bf8251c81df",
   "metadata": {},
   "source": [
    "### `test` - More metrics\n",
    "\n",
    "- Back to [Table of Contents](#Table-of-Contents)\n",
    "\n",
    "Now that we have the data in statnet object, run the code in the following for more in-depth information:\n",
    "\n",
    "* `context_text/R/sna/statnet/sna-statnet-network-stats.r`"
   ]
  },
  {
   "cell_type": "code",
   "execution_count": null,
   "id": "7cc6a1b7-4273-4332-a269-d5651b81471b",
   "metadata": {
    "ExecuteTime": {
     "end_time": "2017-12-08T04:22:10.631237Z",
     "start_time": "2017-12-08T04:22:09.004Z"
    }
   },
   "outputs": [],
   "source": [
    "# Links:\n",
    "# - manual (PDF): http://cran.r-project.org/web/packages/sna/sna.pdf\n",
    "# - good notes: http://www.shizukalab.com/toolkits/sna/node-level-calculations\n",
    "\n",
    "# Also, be advised that statnet and igraph don't really play nice together.\n",
    "#    If you'll be using both, best idea is to have a workspace for each.\n",
    "\n",
    "#==============================================================================#\n",
    "# statnet\n",
    "#==============================================================================#\n",
    "\n",
    "# make sure you've loaded the statnet library (includes sna)\n",
    "# install.packages( \"statnet\" )\n",
    "#library( statnet )\n",
    "\n",
    "#==============================================================================#\n",
    "# NODE level\n",
    "#==============================================================================#\n",
    "\n",
    "# what is the standard deviation of the degrees?\n",
    "testDegreeSd <- sd( testDegreeVector )\n",
    "paste( \"degree SD = \", testDegreeSd, sep = \"\" )\n",
    "\n",
    "# what is the variance of the degrees?\n",
    "testDegreeVar <- var( testDegreeVector )\n",
    "paste( \"degree variance = \", testDegreeVar, sep = \"\" )\n",
    "\n",
    "# what is the max value among the degrees?\n",
    "testDegreeMax <- max( testDegreeVector )\n",
    "paste( \"degree max = \", testDegreeMax, sep = \"\" )\n",
    "\n",
    "# calculate and plot degree distributions\n",
    "testDegreeFrequenciesTable <- table( testDegreeVector )\n",
    "paste( \"degree frequencies = \", testDegreeFrequenciesTable, sep = \"\" )\n",
    "testDegreeFrequenciesTable\n",
    "\n",
    "# node-level undirected betweenness\n",
    "testBetweenness <- sna::betweenness( testNetworkStatnet, gmode = \"graph\", cmode = \"undirected\" )\n",
    "\n",
    "#paste( \"betweenness = \", testBetweenness, sep = \"\" )\n",
    "# associate with each node as a node attribute.\n",
    "#    (%v% is a shortcut for the get.vertex.attribute command)\n",
    "testNetworkStatnet %v% \"betweenness\" <- testBetweenness\n",
    "\n",
    "# also add degree vector to original data frame\n",
    "testDataDF$betweenness <- testBetweenness\n",
    "\n",
    "#==============================================================================#\n",
    "# NETWORK level\n",
    "#==============================================================================#\n",
    "\n",
    "# graph-level degree centrality\n",
    "testDegreeCentrality <- sna::centralization( testNetworkStatnet, sna::degree, mode = \"graph\" )\n",
    "paste( \"degree centrality = \", testDegreeCentrality, sep = \"\" )\n",
    "\n",
    "# graph-level betweenness centrality\n",
    "testBetweennessCentrality <- sna::centralization( testNetworkStatnet, sna::betweenness, mode = \"graph\", cmode = \"undirected\" )\n",
    "paste( \"betweenness centrality = \", testBetweennessCentrality, sep = \"\" )\n",
    "\n",
    "# graph-level connectedness\n",
    "testConnectedness <- sna::connectedness( testNetworkStatnet )\n",
    "paste( \"connectedness = \", testConnectedness, sep = \"\" )\n",
    "\n",
    "# graph-level transitivity\n",
    "testTransitivity <- sna::gtrans( testNetworkStatnet, mode = \"graph\" )\n",
    "paste( \"transitivity = \", testTransitivity, sep = \"\" )\n",
    "\n",
    "# graph-level density\n",
    "testDensity <- sna::gden( testNetworkStatnet, mode = \"graph\" )\n",
    "paste( \"density = \", testDensity, sep = \"\" )\n"
   ]
  },
  {
   "cell_type": "markdown",
   "id": "e4b09fe5-f13a-4458-a355-c34cfbc8d356",
   "metadata": {},
   "source": [
    "### `test` - create node attribute DataFrame\n",
    "\n",
    "- Back to [Table of Contents](#Table-of-Contents)\n",
    "\n",
    "If you want to just work with the traits of the nodes/vertexes, you can combine the attribute vectors into a data frame."
   ]
  },
  {
   "cell_type": "code",
   "execution_count": null,
   "id": "9608a077-17e4-4445-863e-50d4fb8e4256",
   "metadata": {
    "ExecuteTime": {
     "end_time": "2017-12-08T04:22:13.361451Z",
     "start_time": "2017-12-08T04:22:13.284Z"
    },
    "scrolled": true
   },
   "outputs": [],
   "source": [
    "#==============================================================================#\n",
    "# output attributes to data frame\n",
    "#==============================================================================#\n",
    "\n",
    "# if you want to just work with the traits of the nodes/vertexes, you can\n",
    "#    combine the attribute vectors into a data frame.\n",
    "\n",
    "# first, output network object to see what attributes you have\n",
    "testNetworkStatnet\n",
    "\n",
    "# then, combine them into a data frame.\n",
    "testNodeAttrDF <- data.frame( id = testNetworkStatnet %v% \"vertex.names\",\n",
    "                                     person_id = testNetworkStatnet %v% \"person_id\",\n",
    "                                     person_type = testNetworkStatnet %v% \"person_type\",\n",
    "                                     degree = testNetworkStatnet %v% \"degree\",\n",
    "                                     betweenness = testNetworkStatnet %v% \"betweenness\" )\n"
   ]
  },
  {
   "cell_type": "markdown",
   "id": "2112c254-27a1-4f90-938c-fc104f9c10fc",
   "metadata": {},
   "source": [
    "## Appendix - QAP network correlation"
   ]
  },
  {
   "cell_type": "markdown",
   "id": "a14fb04a-1e22-4183-9345-0f3c00e4fed2",
   "metadata": {},
   "source": [
    "### Load matrix 1 - before"
   ]
  },
  {
   "cell_type": "code",
   "execution_count": null,
   "id": "9cec41eb-33e9-4b6c-b683-adcfe40249f8",
   "metadata": {
    "ExecuteTime": {
     "end_time": "2017-12-08T04:21:23.765124Z",
     "start_time": "2017-12-08T04:21:23.768Z"
    }
   },
   "outputs": [],
   "source": [
    "# initialize variables\n",
    "beforeDataFolder <- data_directory\n",
    "beforeDataFile <- \"grp_6mos_by_month_2006-06-09_pre-20220604-044842.tab\"\n",
    "beforeDataPath <- paste( beforeDataFolder, \"/\", beforeDataFile, sep = \"\" )"
   ]
  },
  {
   "cell_type": "code",
   "execution_count": null,
   "id": "d631fd4d-ff68-4cfe-81ef-3821b56f24e8",
   "metadata": {
    "ExecuteTime": {
     "end_time": "2017-12-08T04:21:34.192082Z",
     "start_time": "2017-12-08T04:21:34.195Z"
    }
   },
   "outputs": [],
   "source": [
    "beforeDataPath"
   ]
  },
  {
   "cell_type": "markdown",
   "id": "d30a6f73-04dc-45fe-a53c-72c21979972f",
   "metadata": {},
   "source": [
    "Load the data file into memory"
   ]
  },
  {
   "cell_type": "code",
   "execution_count": null,
   "id": "2c9bbd41-b90f-4d46-9cfa-78fcaca712a8",
   "metadata": {
    "ExecuteTime": {
     "end_time": "2017-12-08T04:21:39.543163Z",
     "start_time": "2017-12-08T04:21:39.041Z"
    }
   },
   "outputs": [],
   "source": [
    "# tab-delimited:\n",
    "beforeDataDF <- read.delim( beforeDataPath, header = TRUE, row.names = 1, check.names = FALSE )"
   ]
  },
  {
   "cell_type": "code",
   "execution_count": null,
   "id": "9825946d-4417-4e44-b4b7-7f2e4674bf45",
   "metadata": {
    "ExecuteTime": {
     "end_time": "2017-12-08T04:21:41.263112Z",
     "start_time": "2017-12-08T04:21:41.258Z"
    }
   },
   "outputs": [],
   "source": [
    "# get count of rows...\n",
    "beforeRowCount <- nrow( beforeDataDF )\n",
    "paste( \"before row count = \", beforeRowCount, sep = \"\" )\n",
    "\n",
    "# ...and columns\n",
    "beforeColumnCount <- ncol( beforeDataDF )\n",
    "paste( \"before column count = \", beforeColumnCount, sep = \"\" )"
   ]
  },
  {
   "cell_type": "markdown",
   "id": "ada2e8c7-6236-4b9c-ae79-cb6c809bf4ad",
   "metadata": {},
   "source": [
    "Get just the tie rows and columns for initializing network libraries."
   ]
  },
  {
   "cell_type": "code",
   "execution_count": null,
   "id": "6a4cfcfc-8c09-4a07-82db-dc8ea262a4a2",
   "metadata": {
    "ExecuteTime": {
     "end_time": "2017-12-08T04:21:44.032913Z",
     "start_time": "2017-12-08T04:21:44.037Z"
    }
   },
   "outputs": [],
   "source": [
    "# the below syntax returns only as many columns as there are rows, so\n",
    "#     omitting any trait columns that lie in columns on the right side\n",
    "#     of the file.\n",
    "beforeNetworkDF <- beforeDataDF[ , 1 : beforeRowCount ]\n",
    "#str( beforeNetworkDF )"
   ]
  },
  {
   "cell_type": "code",
   "execution_count": null,
   "id": "e52d8e84-13ad-48d4-b535-59dd8d4808f9",
   "metadata": {
    "ExecuteTime": {
     "end_time": "2017-12-08T04:21:45.730944Z",
     "start_time": "2017-12-08T04:21:45.730Z"
    }
   },
   "outputs": [],
   "source": [
    "# convert to a matrix\n",
    "beforeNetworkMatrix <- as.matrix( beforeNetworkDF )\n",
    "# str( beforeNetworkMatrix )"
   ]
  },
  {
   "cell_type": "markdown",
   "id": "4ed4dc28-d1af-46b4-92e3-29db9617b06b",
   "metadata": {},
   "source": [
    "### Load matrix 2 - after"
   ]
  },
  {
   "cell_type": "code",
   "execution_count": null,
   "id": "b2650686-100f-427a-bc4f-9129db21c3f4",
   "metadata": {
    "ExecuteTime": {
     "end_time": "2017-12-08T04:21:23.765124Z",
     "start_time": "2017-12-08T04:21:23.768Z"
    }
   },
   "outputs": [],
   "source": [
    "# initialize variables\n",
    "afterDataFolder <- data_directory\n",
    "afterDataFile <- \"grp_6mos_by_month_2006-06-09_post-20220604-045115.tab\"\n",
    "afterDataPath <- paste( afterDataFolder, \"/\", afterDataFile, sep = \"\" )"
   ]
  },
  {
   "cell_type": "code",
   "execution_count": null,
   "id": "44ac475e-c63a-4cf3-8243-30817d0d8942",
   "metadata": {
    "ExecuteTime": {
     "end_time": "2017-12-08T04:21:34.192082Z",
     "start_time": "2017-12-08T04:21:34.195Z"
    }
   },
   "outputs": [],
   "source": [
    "afterDataPath"
   ]
  },
  {
   "cell_type": "markdown",
   "id": "16cacfa7-9a1d-4c24-94b9-85f7f78e3c8f",
   "metadata": {},
   "source": [
    "Load the data file into memory"
   ]
  },
  {
   "cell_type": "code",
   "execution_count": null,
   "id": "f49b9e31-401e-4288-94ad-7164f067d004",
   "metadata": {
    "ExecuteTime": {
     "end_time": "2017-12-08T04:21:39.543163Z",
     "start_time": "2017-12-08T04:21:39.041Z"
    }
   },
   "outputs": [],
   "source": [
    "# tab-delimited:\n",
    "afterDataDF <- read.delim( afterDataPath, header = TRUE, row.names = 1, check.names = FALSE )"
   ]
  },
  {
   "cell_type": "code",
   "execution_count": null,
   "id": "2bcc214b-0297-480a-b5bc-d7959c2b9ef5",
   "metadata": {
    "ExecuteTime": {
     "end_time": "2017-12-08T04:21:41.263112Z",
     "start_time": "2017-12-08T04:21:41.258Z"
    }
   },
   "outputs": [],
   "source": [
    "# get count of rows...\n",
    "afterRowCount <- nrow(afterDataDF )\n",
    "paste( \"after row count = \", afterRowCount, sep = \"\" )\n",
    "\n",
    "# ...and columns\n",
    "afterColumnCount <- ncol( afterDataDF )\n",
    "paste( \"after column count = \", afterColumnCount, sep = \"\" )"
   ]
  },
  {
   "cell_type": "markdown",
   "id": "021b7677-c4c8-4636-b3a9-c780a87b59ef",
   "metadata": {},
   "source": [
    "Get just the tie rows and columns for initializing network libraries."
   ]
  },
  {
   "cell_type": "code",
   "execution_count": null,
   "id": "139f89ec-06b5-4d03-8614-d8bac81636f1",
   "metadata": {
    "ExecuteTime": {
     "end_time": "2017-12-08T04:21:44.032913Z",
     "start_time": "2017-12-08T04:21:44.037Z"
    }
   },
   "outputs": [],
   "source": [
    "# the below syntax returns only as many columns as there are rows, so\n",
    "#     omitting any trait columns that lie in columns on the right side\n",
    "#     of the file.\n",
    "afterNetworkDF <- afterDataDF[ , 1 : afterRowCount ]\n",
    "#str( afterNetworkDF )"
   ]
  },
  {
   "cell_type": "code",
   "execution_count": null,
   "id": "d33ca34b-fe7d-4f89-93e8-7bc85bdfff51",
   "metadata": {
    "ExecuteTime": {
     "end_time": "2017-12-08T04:21:45.730944Z",
     "start_time": "2017-12-08T04:21:45.730Z"
    }
   },
   "outputs": [],
   "source": [
    "# convert to a matrix\n",
    "afterNetworkMatrix <- as.matrix( afterNetworkDF )\n",
    "# str( afterNetworkMatrix )"
   ]
  },
  {
   "cell_type": "markdown",
   "id": "bdd7acca-9ea5-4cc3-8e83-f13d195a0716",
   "metadata": {
    "tags": []
   },
   "source": [
    "### run QAP correlation"
   ]
  },
  {
   "cell_type": "code",
   "execution_count": null,
   "id": "3136de3e-c897-4d94-965f-d9e7dd6bf028",
   "metadata": {
    "ExecuteTime": {
     "end_time": "2019-07-25T03:44:07.301263Z",
     "start_time": "2019-07-25T02:30:07.664Z"
    }
   },
   "outputs": [],
   "source": [
    "#outputPrefix <- \"years_before_to_after_layoffs\"\n",
    "outputPrefix <- \"six_month_test\""
   ]
  },
  {
   "cell_type": "code",
   "execution_count": null,
   "id": "ecee5371-c83f-4be9-9935-e7cd6826990c",
   "metadata": {
    "ExecuteTime": {
     "end_time": "2019-07-25T03:52:58.183174Z",
     "start_time": "2019-07-25T02:30:11.153Z"
    }
   },
   "outputs": [],
   "source": [
    "beforeToAfterLayoffOutput <- compareMatricesQAP( beforeNetworkMatrix, afterNetworkMatrix, outputPrefix, doQapIN = FALSE )\n",
    "#beforeToAfterLayoffOutput <- compareMatricesQAP( beforeNetworkMatrix, afterNetworkMatrix, outputPrefix, repsIN = 10 )"
   ]
  },
  {
   "cell_type": "code",
   "execution_count": null,
   "id": "a87d8e44-244f-49f7-b224-13ad3aa64368",
   "metadata": {},
   "outputs": [],
   "source": [
    "# also output plots of distributions of QAP values?\n",
    "displayCompareMatricesQAPOutput( beforeToAfterLayoffOutput, outputPrefix, TRUE )"
   ]
  }
 ],
 "metadata": {
  "kernelspec": {
   "display_name": "R",
   "language": "R",
   "name": "ir"
  },
  "language_info": {
   "codemirror_mode": "r",
   "file_extension": ".r",
   "mimetype": "text/x-r-source",
   "name": "R",
   "pygments_lexer": "r",
   "version": "4.2.0"
  }
 },
 "nbformat": 4,
 "nbformat_minor": 5
}
