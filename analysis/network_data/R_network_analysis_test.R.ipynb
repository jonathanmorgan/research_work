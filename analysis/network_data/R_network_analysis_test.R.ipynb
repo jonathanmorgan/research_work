{
 "cells": [
  {
   "cell_type": "markdown",
   "id": "d57670c1-aa3a-4493-9694-8c6f08164e6f",
   "metadata": {},
   "source": [
    "**R_network_analysis_test.R.ipynb** - play with R and large matrices, see how it goes."
   ]
  },
  {
   "cell_type": "markdown",
   "id": "cffc00b4-1c9c-491c-94ec-bc0af7a59b17",
   "metadata": {},
   "source": [
    "# Notes\n",
    "\n",
    "TODO:\n",
    "\n",
    "- figure out a way to look at how similar node lists are between before and after\n",
    "\n",
    "    - correlation of degree and binary degree vectors between before and after?\n",
    "    - figure out way to spearate authors and sources... Maybe go through by type:\n",
    "    \n",
    "        - for authors, from each vector get IDs of all unknown plus all authors or both, make a set of all IDs that match from each time slice, then make a vector of all those ids' degrees and binary degrees from before and after.\n",
    "        - same for sources.\n",
    "- once I get daily data points, figure out a way to graph all the variables so I can look at them all together - on a single char doesn't work (scales are too different), but something so I can try to understand what is going on at each day over time."
   ]
  },
  {
   "cell_type": "markdown",
   "id": "b9927dd5-50a1-4c3c-827a-bb29df45ed84",
   "metadata": {},
   "source": [
    "# R network analysis files\n",
    "\n",
    "Related files:\n",
    "\n",
    "* network descriptives\n",
    "    * network-level\n",
    "        \n",
    "        * files\n",
    "            \n",
    "            * R scripts:\n",
    "                \n",
    "                * `context_analysis/R/db_connect.r`\n",
    "                * `context_analysis/R/sna/functions-sna.r`\n",
    "                * `context_analysis/R/sna/NetworkInfo.r`\n",
    "                * `context_analysis/R/sna/sna-load_data.r`\n",
    "                * `context_analysis/R/sna/igraph/*`\n",
    "                * `context_analysis/R/sna/statnet/*`\n",
    "        \n",
    "        * statnet/sna\n",
    "            \n",
    "            * `sna::gden()` - graph density\n",
    "            * R scripts:\n",
    "                \n",
    "                * `context_analysis/R/sna/statnet/sna-statnet-init.r`\n",
    "                * `context_analysis/R/sna/statnet/sna-statnet-network-stats.r`\n",
    "                * `context_analysis/R/sna/statnet/sna-qap.r`\n",
    "        \n",
    "        * igraph\n",
    "            \n",
    "            * `igraph::transitivity()` - vector of transitivity scores for each node in a graph, plus network-level transitivity score.\n",
    "                \n",
    "                * Q - interpretation?\n",
    "                \n",
    "            * R scripts:\n",
    "                \n",
    "                * `context_analysis/R/sna/statnet/sna-igraph-init.r`\n",
    "                * `context_analysis/R/sna/statnet/sna-igraph-network-stats.r`\n"
   ]
  },
  {
   "cell_type": "markdown",
   "id": "a99e1b8e-c276-4806-8dfc-9b45f4a1f508",
   "metadata": {},
   "source": [
    "# Setup"
   ]
  },
  {
   "cell_type": "markdown",
   "id": "f14bca47-4d4e-4b12-94d1-b521d2fd2b20",
   "metadata": {},
   "source": [
    "## Setup -  working directories\n",
    "\n",
    "Store important directories and file names in variables:"
   ]
  },
  {
   "cell_type": "code",
   "execution_count": 1,
   "id": "0a78d54c-8651-44d8-9e03-ec09b2ce7f21",
   "metadata": {
    "ExecuteTime": {
     "end_time": "2017-12-10T05:01:24.770670Z",
     "start_time": "2017-12-10T05:01:24.550Z"
    },
    "tags": []
   },
   "outputs": [
    {
     "data": {
      "text/html": [
       "'/home/jonathanmorgan/work/django/research/research/work/phd_work/analysis/network_data'"
      ],
      "text/latex": [
       "'/home/jonathanmorgan/work/django/research/research/work/phd\\_work/analysis/network\\_data'"
      ],
      "text/markdown": [
       "'/home/jonathanmorgan/work/django/research/research/work/phd_work/analysis/network_data'"
      ],
      "text/plain": [
       "[1] \"/home/jonathanmorgan/work/django/research/research/work/phd_work/analysis/network_data\""
      ]
     },
     "metadata": {},
     "output_type": "display_data"
    }
   ],
   "source": [
    "getwd()"
   ]
  },
  {
   "cell_type": "code",
   "execution_count": 2,
   "id": "21466b1c-f488-4a3f-b73a-a6baea65388d",
   "metadata": {
    "ExecuteTime": {
     "end_time": "2017-12-10T05:01:25.522650Z",
     "start_time": "2017-12-10T05:01:25.453Z"
    }
   },
   "outputs": [],
   "source": [
    "# code files (in particular SNA function library, modest though it may be)\n",
    "base_code_directory <- \"/home/jonathanmorgan/work/django/research/research/context_analysis/R\"\n",
    "sna_code_directory <- paste( base_code_directory, \"/sna\", sep = \"\" )\n",
    "code_directory <- sna_code_directory\n",
    "\n",
    "# home directory\n",
    "home_directory <- getwd()\n",
    "home_directory <- \"/home/jonathanmorgan/work/django/research/research/work/phd_work/analysis/network_data\"\n",
    "\n",
    "# data directories\n",
    "#data_directory <- paste( home_directory, \"/data\", sep = \"\" )\n",
    "data_directory <- \"/home/jonathanmorgan/shares/phd_work/network_data/grp_6mos_by_month\"\n",
    "workspace_file_name <- \"R_grp_network_analysis_test.RData\"\n",
    "workspace_file_path <- paste( data_directory, \"/\", workspace_file_name )"
   ]
  },
  {
   "cell_type": "code",
   "execution_count": 3,
   "id": "2d2bf2e8-f953-41ae-b45b-a82335627c50",
   "metadata": {
    "ExecuteTime": {
     "end_time": "2017-12-10T05:01:27.832199Z",
     "start_time": "2017-12-10T05:01:27.795Z"
    }
   },
   "outputs": [
    {
     "data": {
      "text/html": [
       "'/home/jonathanmorgan/shares/phd_work/network_data/grp_6mos_by_month'"
      ],
      "text/latex": [
       "'/home/jonathanmorgan/shares/phd\\_work/network\\_data/grp\\_6mos\\_by\\_month'"
      ],
      "text/markdown": [
       "'/home/jonathanmorgan/shares/phd_work/network_data/grp_6mos_by_month'"
      ],
      "text/plain": [
       "[1] \"/home/jonathanmorgan/shares/phd_work/network_data/grp_6mos_by_month\""
      ]
     },
     "metadata": {},
     "output_type": "display_data"
    }
   ],
   "source": [
    "# set working directory to data directory for now.\n",
    "setwd( data_directory )\n",
    "getwd()"
   ]
  },
  {
   "cell_type": "markdown",
   "id": "4f14425e-1440-47df-ae6c-7551f7105701",
   "metadata": {},
   "source": [
    "## Setup - functions"
   ]
  },
  {
   "cell_type": "markdown",
   "id": "5f6082c8-f6d5-46b8-8510-29c71fccd65b",
   "metadata": {
    "tags": []
   },
   "source": [
    "### Setup - functions - import SNA functions\n",
    "\n",
    "source the file `functions-sna.r`."
   ]
  },
  {
   "cell_type": "code",
   "execution_count": 4,
   "id": "f8510f2a-8bb4-4c2d-a016-c54a83af148f",
   "metadata": {
    "tags": []
   },
   "outputs": [],
   "source": [
    "sna_function_file_path <- paste( sna_code_directory, \"/\", 'functions-sna.r', sep = \"\" )"
   ]
  },
  {
   "cell_type": "code",
   "execution_count": 5,
   "id": "32715e01-51bc-459b-931e-31c75cd90dfd",
   "metadata": {
    "ExecuteTime": {
     "end_time": "2017-12-10T05:01:29.517336Z",
     "start_time": "2017-12-10T05:01:29.493Z"
    }
   },
   "outputs": [],
   "source": [
    "source( sna_function_file_path )"
   ]
  },
  {
   "cell_type": "markdown",
   "id": "3882b953-9d90-41d8-bc29-a5df3a91801e",
   "metadata": {
    "tags": []
   },
   "source": [
    "### Setup - functions - import statnet functions\n",
    "\n",
    "- Back to [Table of Contents](#Table-of-Contents)\n",
    "\n",
    "source the file `statnet/functions-statnet.r`.  This file includes:\n",
    "\n",
    "- `compareMatricesQAP()`, used extensively below."
   ]
  },
  {
   "cell_type": "code",
   "execution_count": 9,
   "id": "8b032483-2414-4a80-826a-337cb6e611b3",
   "metadata": {},
   "outputs": [],
   "source": [
    "#rm( compareMatricesQAP )"
   ]
  },
  {
   "cell_type": "code",
   "execution_count": 6,
   "id": "b8ab2111-75f0-4009-9d72-ee3197173e6f",
   "metadata": {
    "ExecuteTime": {
     "end_time": "2019-07-25T02:29:05.050972Z",
     "start_time": "2019-07-25T02:29:05.011Z"
    }
   },
   "outputs": [],
   "source": [
    "# statnet/sna functions\n",
    "# - /home/jonathanmorgan/work/django/research/context_analysis/R/sna/stanet/functions-statnet.r\n",
    "statnetFunctionFilePath <- paste( sna_code_directory, \"/statnet/\", 'functions-statnet.r', sep = \"\" )"
   ]
  },
  {
   "cell_type": "code",
   "execution_count": 7,
   "id": "2aac68ca-2c63-4049-81d4-90998c660173",
   "metadata": {
    "ExecuteTime": {
     "end_time": "2019-07-25T02:29:06.527793Z",
     "start_time": "2019-07-25T02:29:06.350Z"
    }
   },
   "outputs": [
    {
     "name": "stderr",
     "output_type": "stream",
     "text": [
      "Loading required package: statnet.common\n",
      "\n",
      "\n",
      "Attaching package: ‘statnet.common’\n",
      "\n",
      "\n",
      "The following objects are masked from ‘package:base’:\n",
      "\n",
      "    attr, order\n",
      "\n",
      "\n",
      "Loading required package: network\n",
      "\n",
      "\n",
      "‘network’ 1.17.2 (2022-05-20), part of the Statnet Project\n",
      "* ‘news(package=\"network\")’ for changes since last version\n",
      "* ‘citation(\"network\")’ for citation information\n",
      "* ‘https://statnet.org’ for help, support, and other information\n",
      "\n",
      "\n",
      "sna: Tools for Social Network Analysis\n",
      "Version 2.7 created on 2022-05-09.\n",
      "copyright (c) 2005, Carter T. Butts, University of California-Irvine\n",
      " For citation information, type citation(\"sna\").\n",
      " Type help(package=\"sna\") to get started.\n",
      "\n",
      "\n"
     ]
    }
   ],
   "source": [
    "source( statnetFunctionFilePath )"
   ]
  },
  {
   "cell_type": "markdown",
   "id": "69edbf7c-9118-4081-9208-79935357073c",
   "metadata": {},
   "source": [
    "## Setup - ReferenceClasses"
   ]
  },
  {
   "cell_type": "markdown",
   "id": "0fff86f0-3be5-4677-a809-46ab760aaf44",
   "metadata": {},
   "source": [
    "### Setup - ReferenceClass - NetworkInfo"
   ]
  },
  {
   "cell_type": "code",
   "execution_count": 10,
   "id": "95faaeb8-5eaf-45ae-8aad-cf63bc29ec46",
   "metadata": {},
   "outputs": [
    {
     "name": "stderr",
     "output_type": "stream",
     "text": [
      "Warning message in rm(NetworkInfo):\n",
      "“object 'NetworkInfo' not found”\n",
      "Warning message in rm(processBeforeAfterNetworks):\n",
      "“object 'processBeforeAfterNetworks' not found”\n"
     ]
    }
   ],
   "source": [
    "rm( NetworkInfo )\n",
    "rm( processBeforeAfterNetworks )"
   ]
  },
  {
   "cell_type": "code",
   "execution_count": 8,
   "id": "dd05131d-9d48-4a1d-8823-831a7a080646",
   "metadata": {},
   "outputs": [],
   "source": [
    "networkInfoClassFilePath <- paste( sna_code_directory, \"/NetworkInfo.r\", sep = \"\" )"
   ]
  },
  {
   "cell_type": "code",
   "execution_count": 9,
   "id": "bab5b1db-43de-4c2d-9174-4c20e0bae3ac",
   "metadata": {
    "ExecuteTime": {
     "end_time": "2019-07-25T02:29:06.527793Z",
     "start_time": "2019-07-25T02:29:06.350Z"
    }
   },
   "outputs": [
    {
     "name": "stderr",
     "output_type": "stream",
     "text": [
      "Loading required package: tergm\n",
      "\n",
      "Loading required package: ergm\n",
      "\n",
      "\n",
      "‘ergm’ 4.2.2 (2022-06-01), part of the Statnet Project\n",
      "* ‘news(package=\"ergm\")’ for changes since last version\n",
      "* ‘citation(\"ergm\")’ for citation information\n",
      "* ‘https://statnet.org’ for help, support, and other information\n",
      "\n",
      "\n",
      "‘ergm’ 4 is a major update that introduces some backwards-incompatible\n",
      "changes. Please type ‘news(package=\"ergm\")’ for a list of major\n",
      "changes.\n",
      "\n",
      "\n",
      "\n",
      "Attaching package: ‘ergm’\n",
      "\n",
      "\n",
      "The following object is masked from ‘package:statnet.common’:\n",
      "\n",
      "    snctrl\n",
      "\n",
      "\n",
      "Loading required package: networkDynamic\n",
      "\n",
      "\n",
      "‘networkDynamic’ 0.11.2 (2022-05-04), part of the Statnet Project\n",
      "* ‘news(package=\"networkDynamic\")’ for changes since last version\n",
      "* ‘citation(\"networkDynamic\")’ for citation information\n",
      "* ‘https://statnet.org’ for help, support, and other information\n",
      "\n",
      "\n",
      "Registered S3 method overwritten by 'tergm':\n",
      "  method                   from\n",
      "  simulate_formula.network ergm\n",
      "\n",
      "\n",
      "‘tergm’ 4.0.2 (2021-07-28), part of the Statnet Project\n",
      "* ‘news(package=\"tergm\")’ for changes since last version\n",
      "* ‘citation(\"tergm\")’ for citation information\n",
      "* ‘https://statnet.org’ for help, support, and other information\n",
      "\n",
      "\n",
      "\n",
      "Attaching package: ‘tergm’\n",
      "\n",
      "\n",
      "The following object is masked from ‘package:ergm’:\n",
      "\n",
      "    snctrl\n",
      "\n",
      "\n",
      "The following object is masked from ‘package:statnet.common’:\n",
      "\n",
      "    snctrl\n",
      "\n",
      "\n",
      "Loading required package: ergm.count\n",
      "\n",
      "\n",
      "‘ergm.count’ 4.1.1 (2022-05-24), part of the Statnet Project\n",
      "* ‘news(package=\"ergm.count\")’ for changes since last version\n",
      "* ‘citation(\"ergm.count\")’ for citation information\n",
      "* ‘https://statnet.org’ for help, support, and other information\n",
      "\n",
      "\n",
      "Loading required package: tsna\n",
      "\n",
      "\n",
      "‘statnet’ 2019.6 (2019-06-13), part of the Statnet Project\n",
      "* ‘news(package=\"statnet\")’ for changes since last version\n",
      "* ‘citation(\"statnet\")’ for citation information\n",
      "* ‘https://statnet.org’ for help, support, and other information\n",
      "\n",
      "\n",
      "ReferenceClass NetworkInfo defined @ Tue Jun  7 14:40:49 2022\n",
      "\n",
      "Function processBeforeAfterNetworks defined @ Tue Jun  7 14:40:49 2022\n",
      "\n",
      "Function beforeAfterBinaryNetworks defined @ Tue Jun  7 14:40:49 2022\n",
      "\n"
     ]
    }
   ],
   "source": [
    "source( networkInfoClassFilePath )"
   ]
  },
  {
   "cell_type": "markdown",
   "id": "e35dc6e8-451c-44a4-b382-5d1f3e2e4197",
   "metadata": {},
   "source": [
    "## Setup - network data"
   ]
  },
  {
   "cell_type": "markdown",
   "id": "82a8012f-9789-4e8e-9275-ef44c54dea49",
   "metadata": {},
   "source": [
    "### Setup - network data - notes: render and store network data\n",
    "\n",
    "First, need render to render network data and upload it to your server.\n",
    "\n",
    "Directions for creating network data: \n",
    "\n",
    "- network data creation example notebook: [analysis-network_data_output_example.ipynb](../analysis-network_data_output_example.ipynb)\n",
    "\n",
    "    - this shows programmatic data creation using JSON file to capture request parameters.\n",
    "    - includes all parameters and a few examples of different ways you can set parameters.\n",
    "\n",
    "- actual network data creation notebook: [analysis-network_data_output-GRP.ipynb](./analysis-network_data_output-GRP.ipynb)\n",
    "\n",
    "You want a tab-delimited matrix that includes both the network and attributes of nodes as columns, and you want it to include a header row.\n",
    "\n",
    "Once you render your network data files, you should place them on the server.\n",
    "\n",
    "High level data file layout:\n",
    "\n",
    "- tab-delimited.\n",
    "- first row and first column are labels\n",
    "- last 2 columns are traits of nodes (`person_id` and `person_type`)\n",
    "- each row and column after first until the trait columns represents a person found in one of the articles.\n",
    "- The people are in the same order from top to bottom and left to right.\n",
    "- Where the row and column of two people meet, and one of the people is an author, the nunber in the cell where they meet is the number of times the non-author was quoted in an article by the author.  Does not include more basic two-mode co-location ties (appeared in same article, even if not an author and/or not quoted).\n"
   ]
  },
  {
   "cell_type": "markdown",
   "id": "42c0f61c-b7ae-42c5-9a60-6c39b13fa02f",
   "metadata": {},
   "source": [
    "# Actual processing using ReferenceClasses"
   ]
  },
  {
   "cell_type": "markdown",
   "id": "107710f4-70af-4585-bf4e-065570e7f5ad",
   "metadata": {},
   "source": [
    "## NetworkInfo - process single network"
   ]
  },
  {
   "cell_type": "code",
   "execution_count": 11,
   "id": "9b709efd-6eb6-479f-aa4d-0320ed341966",
   "metadata": {},
   "outputs": [
    {
     "name": "stderr",
     "output_type": "stream",
     "text": [
      "Warning message in sna::gtrans(myNetworkStatnet, mode = \"graph\"):\n",
      "“gtrans called with use.adjacency=TRUE, but your data looks too large for that to work well.  Overriding to edgelist method.”\n"
     ]
    }
   ],
   "source": [
    "testNetworkInfo <- NetworkInfo()\n",
    "testNetworkInfo$initFromTabData(\n",
    "    data_directory,\n",
    "    \"grp_6mos_by_month_2010-05-05_pre-20220604-143216.tab\"\n",
    ")\n",
    "testNetworkInfo$processNetwork()"
   ]
  },
  {
   "cell_type": "code",
   "execution_count": 32,
   "id": "c6d32be2-5823-4ff0-8d42-66c6a1a1b769",
   "metadata": {
    "tags": []
   },
   "outputs": [
    {
     "data": {
      "text/html": [
       "1.37457344078995"
      ],
      "text/latex": [
       "1.37457344078995"
      ],
      "text/markdown": [
       "1.37457344078995"
      ],
      "text/plain": [
       "[1] 1.374573"
      ]
     },
     "metadata": {},
     "output_type": "display_data"
    }
   ],
   "source": [
    "testNetworkInfo$myDegreeAverage"
   ]
  },
  {
   "cell_type": "code",
   "execution_count": 39,
   "id": "478dbea1-e1b6-4d9c-85c3-262949ebf323",
   "metadata": {},
   "outputs": [],
   "source": [
    "testBinMatrix <- testNetworkInfo$getBinaryNetworkMatrix()"
   ]
  },
  {
   "cell_type": "code",
   "execution_count": 41,
   "id": "794608c9-4b1d-4704-b6be-916f1de0b693",
   "metadata": {},
   "outputs": [
    {
     "data": {
      "text/html": [
       "<style>\n",
       ".list-inline {list-style: none; margin:0; padding: 0}\n",
       ".list-inline>li {display: inline-block}\n",
       ".list-inline>li:not(:last-child)::after {content: \"\\00b7\"; padding: 0 .5ex}\n",
       "</style>\n",
       "<ol class=list-inline><li>'matrix'</li><li>'array'</li></ol>\n"
      ],
      "text/latex": [
       "\\begin{enumerate*}\n",
       "\\item 'matrix'\n",
       "\\item 'array'\n",
       "\\end{enumerate*}\n"
      ],
      "text/markdown": [
       "1. 'matrix'\n",
       "2. 'array'\n",
       "\n",
       "\n"
      ],
      "text/plain": [
       "[1] \"matrix\" \"array\" "
      ]
     },
     "metadata": {},
     "output_type": "display_data"
    }
   ],
   "source": [
    "class( testBinMatrix )"
   ]
  },
  {
   "cell_type": "code",
   "execution_count": 17,
   "id": "572f18be-8fd6-4d93-beec-f2a16e7d9796",
   "metadata": {},
   "outputs": [
    {
     "data": {
      "text/html": [
       "1"
      ],
      "text/latex": [
       "1"
      ],
      "text/markdown": [
       "1"
      ],
      "text/plain": [
       "[1] 1"
      ]
     },
     "metadata": {},
     "output_type": "display_data"
    }
   ],
   "source": [
    "max( testBinMatrix )"
   ]
  },
  {
   "cell_type": "code",
   "execution_count": null,
   "id": "40e0e86e-49f9-45a2-a85a-eeb878b72ce5",
   "metadata": {},
   "outputs": [],
   "source": [
    "testBinMatrix"
   ]
  },
  {
   "cell_type": "code",
   "execution_count": 19,
   "id": "df2384fb-dd55-4c22-8113-6f90dd241671",
   "metadata": {},
   "outputs": [],
   "source": [
    "testMatrix <- testNetworkInfo$myNetworkMatrix"
   ]
  },
  {
   "cell_type": "code",
   "execution_count": 42,
   "id": "afb15aa1-749d-4a48-b0f8-964031dda743",
   "metadata": {},
   "outputs": [
    {
     "data": {
      "text/html": [
       "<style>\n",
       ".list-inline {list-style: none; margin:0; padding: 0}\n",
       ".list-inline>li {display: inline-block}\n",
       ".list-inline>li:not(:last-child)::after {content: \"\\00b7\"; padding: 0 .5ex}\n",
       "</style>\n",
       "<ol class=list-inline><li>'matrix'</li><li>'array'</li></ol>\n"
      ],
      "text/latex": [
       "\\begin{enumerate*}\n",
       "\\item 'matrix'\n",
       "\\item 'array'\n",
       "\\end{enumerate*}\n"
      ],
      "text/markdown": [
       "1. 'matrix'\n",
       "2. 'array'\n",
       "\n",
       "\n"
      ],
      "text/plain": [
       "[1] \"matrix\" \"array\" "
      ]
     },
     "metadata": {},
     "output_type": "display_data"
    }
   ],
   "source": [
    "class( testMatrix )"
   ]
  },
  {
   "cell_type": "code",
   "execution_count": 20,
   "id": "399c5b84-3f22-4053-9178-6a426864f483",
   "metadata": {},
   "outputs": [
    {
     "data": {
      "text/html": [
       "57"
      ],
      "text/latex": [
       "57"
      ],
      "text/markdown": [
       "57"
      ],
      "text/plain": [
       "[1] 57"
      ]
     },
     "metadata": {},
     "output_type": "display_data"
    }
   ],
   "source": [
    "max( testMatrix )"
   ]
  },
  {
   "cell_type": "code",
   "execution_count": null,
   "id": "a17c55a6-2714-4690-9b16-8432098a6b28",
   "metadata": {},
   "outputs": [],
   "source": [
    "testMatrix"
   ]
  },
  {
   "cell_type": "code",
   "execution_count": 33,
   "id": "e8f38c15-8bc8-4bdf-aa62-d9e1c5a4e69d",
   "metadata": {},
   "outputs": [
    {
     "data": {
      "text/html": [
       "60.1761006289308"
      ],
      "text/latex": [
       "60.1761006289308"
      ],
      "text/markdown": [
       "60.1761006289308"
      ],
      "text/plain": [
       "[1] 60.1761"
      ]
     },
     "metadata": {},
     "output_type": "display_data"
    },
    {
     "data": {
      "text/html": [
       "62.6953642384106"
      ],
      "text/latex": [
       "62.6953642384106"
      ],
      "text/markdown": [
       "62.6953642384106"
      ],
      "text/plain": [
       "[1] 62.69536"
      ]
     },
     "metadata": {},
     "output_type": "display_data"
    },
    {
     "data": {
      "text/html": [
       "1.26808681672026"
      ],
      "text/latex": [
       "1.26808681672026"
      ],
      "text/markdown": [
       "1.26808681672026"
      ],
      "text/plain": [
       "[1] 1.268087"
      ]
     },
     "metadata": {},
     "output_type": "display_data"
    },
    {
     "data": {
      "text/html": [
       "1.25590128755365"
      ],
      "text/latex": [
       "1.25590128755365"
      ],
      "text/markdown": [
       "1.25590128755365"
      ],
      "text/plain": [
       "[1] 1.255901"
      ]
     },
     "metadata": {},
     "output_type": "display_data"
    }
   ],
   "source": [
    "testNetworkInfo$myDegreeAverageAuthor2And4\n",
    "testNetworkInfo$myDegreeAverageAuthorOnly2\n",
    "testNetworkInfo$myDegreeAverageSource3And4\n",
    "testNetworkInfo$myDegreeAverageSourceOnly3\n"
   ]
  },
  {
   "cell_type": "code",
   "execution_count": 34,
   "id": "9a5efdd0-3b3f-44d1-9765-708e8cd4bfcb",
   "metadata": {},
   "outputs": [
    {
     "data": {
      "text/html": [
       "159"
      ],
      "text/latex": [
       "159"
      ],
      "text/markdown": [
       "159"
      ],
      "text/plain": [
       "[1] 159"
      ]
     },
     "metadata": {},
     "output_type": "display_data"
    },
    {
     "data": {
      "text/html": [
       "151"
      ],
      "text/latex": [
       "151"
      ],
      "text/markdown": [
       "151"
      ],
      "text/plain": [
       "[1] 151"
      ]
     },
     "metadata": {},
     "output_type": "display_data"
    },
    {
     "data": {
      "text/html": [
       "7464"
      ],
      "text/latex": [
       "7464"
      ],
      "text/markdown": [
       "7464"
      ],
      "text/plain": [
       "[1] 7464"
      ]
     },
     "metadata": {},
     "output_type": "display_data"
    },
    {
     "data": {
      "text/html": [
       "7456"
      ],
      "text/latex": [
       "7456"
      ],
      "text/markdown": [
       "7456"
      ],
      "text/plain": [
       "[1] 7456"
      ]
     },
     "metadata": {},
     "output_type": "display_data"
    }
   ],
   "source": [
    "testNetworkInfo$myAuthorCount2And4\n",
    "testNetworkInfo$myAuthorCountOnly2\n",
    "testNetworkInfo$mySourceCount3And4\n",
    "testNetworkInfo$mySourceCountOnly3\n"
   ]
  },
  {
   "cell_type": "code",
   "execution_count": 35,
   "id": "98b3a6ef-7cd3-46a0-b57b-5dff1245a97b",
   "metadata": {},
   "outputs": [
    {
     "data": {
      "text/html": [
       "60.1761006289308"
      ],
      "text/latex": [
       "60.1761006289308"
      ],
      "text/markdown": [
       "60.1761006289308"
      ],
      "text/plain": [
       "[1] 60.1761"
      ]
     },
     "metadata": {},
     "output_type": "display_data"
    },
    {
     "data": {
      "text/html": [
       "62.6953642384106"
      ],
      "text/latex": [
       "62.6953642384106"
      ],
      "text/markdown": [
       "62.6953642384106"
      ],
      "text/plain": [
       "[1] 62.69536"
      ]
     },
     "metadata": {},
     "output_type": "display_data"
    },
    {
     "data": {
      "text/html": [
       "1.26808681672026"
      ],
      "text/latex": [
       "1.26808681672026"
      ],
      "text/markdown": [
       "1.26808681672026"
      ],
      "text/plain": [
       "[1] 1.268087"
      ]
     },
     "metadata": {},
     "output_type": "display_data"
    },
    {
     "data": {
      "text/html": [
       "1.25590128755365"
      ],
      "text/latex": [
       "1.25590128755365"
      ],
      "text/markdown": [
       "1.25590128755365"
      ],
      "text/plain": [
       "[1] 1.255901"
      ]
     },
     "metadata": {},
     "output_type": "display_data"
    }
   ],
   "source": [
    "testDataFileRow <- pairwiseComparisonDF[ 1, ]\n",
    "testDataFileRow$beforeDegreeAverageAuthor2And4\n",
    "testDataFileRow$beforeDegreeAverageAuthorOnly2\n",
    "testDataFileRow$beforeDegreeAverageSource3And4\n",
    "testDataFileRow$beforeDegreeAverageSourceOnly3\n"
   ]
  },
  {
   "cell_type": "code",
   "execution_count": 36,
   "id": "d38f7147-9f75-4df5-9232-7d62f3416c8c",
   "metadata": {},
   "outputs": [
    {
     "data": {
      "text/html": [
       "159"
      ],
      "text/latex": [
       "159"
      ],
      "text/markdown": [
       "159"
      ],
      "text/plain": [
       "[1] 159"
      ]
     },
     "metadata": {},
     "output_type": "display_data"
    },
    {
     "data": {
      "text/html": [
       "151"
      ],
      "text/latex": [
       "151"
      ],
      "text/markdown": [
       "151"
      ],
      "text/plain": [
       "[1] 151"
      ]
     },
     "metadata": {},
     "output_type": "display_data"
    },
    {
     "data": {
      "text/html": [
       "7464"
      ],
      "text/latex": [
       "7464"
      ],
      "text/markdown": [
       "7464"
      ],
      "text/plain": [
       "[1] 7464"
      ]
     },
     "metadata": {},
     "output_type": "display_data"
    },
    {
     "data": {
      "text/html": [
       "7456"
      ],
      "text/latex": [
       "7456"
      ],
      "text/markdown": [
       "7456"
      ],
      "text/plain": [
       "[1] 7456"
      ]
     },
     "metadata": {},
     "output_type": "display_data"
    }
   ],
   "source": [
    "testNetworkInfo$calcMyAuthorCount( includeBothIN = TRUE )\n",
    "testNetworkInfo$calcMyAuthorCount( includeBothIN = FALSE )\n",
    "testNetworkInfo$calcMySourceCount( includeBothIN = TRUE )\n",
    "testNetworkInfo$calcMySourceCount( includeBothIN = FALSE )"
   ]
  },
  {
   "cell_type": "code",
   "execution_count": 37,
   "id": "511d6859-ee2e-4baa-bacf-7300c7d7f25d",
   "metadata": {},
   "outputs": [
    {
     "data": {
      "text/html": [
       "60.1761006289308"
      ],
      "text/latex": [
       "60.1761006289308"
      ],
      "text/markdown": [
       "60.1761006289308"
      ],
      "text/plain": [
       "[1] 60.1761"
      ]
     },
     "metadata": {},
     "output_type": "display_data"
    },
    {
     "data": {
      "text/html": [
       "62.6953642384106"
      ],
      "text/latex": [
       "62.6953642384106"
      ],
      "text/markdown": [
       "62.6953642384106"
      ],
      "text/plain": [
       "[1] 62.69536"
      ]
     },
     "metadata": {},
     "output_type": "display_data"
    },
    {
     "data": {
      "text/html": [
       "1.26808681672026"
      ],
      "text/latex": [
       "1.26808681672026"
      ],
      "text/markdown": [
       "1.26808681672026"
      ],
      "text/plain": [
       "[1] 1.268087"
      ]
     },
     "metadata": {},
     "output_type": "display_data"
    },
    {
     "data": {
      "text/html": [
       "1.25590128755365"
      ],
      "text/latex": [
       "1.25590128755365"
      ],
      "text/markdown": [
       "1.25590128755365"
      ],
      "text/plain": [
       "[1] 1.255901"
      ]
     },
     "metadata": {},
     "output_type": "display_data"
    }
   ],
   "source": [
    "testNetworkInfo$calcMyAuthorMeanDegree( includeBothIN = TRUE )\n",
    "testNetworkInfo$calcMyAuthorMeanDegree( includeBothIN = FALSE )\n",
    "testNetworkInfo$calcMySourceMeanDegree( includeBothIN = TRUE )\n",
    "testNetworkInfo$calcMySourceMeanDegree( includeBothIN = FALSE )"
   ]
  },
  {
   "cell_type": "markdown",
   "id": "ed46d8ae-5eed-43e3-802c-d0b31b3dba91",
   "metadata": {},
   "source": [
    "## NetworkBeforeAfterDatePair - process pair of networks"
   ]
  },
  {
   "cell_type": "code",
   "execution_count": 75,
   "id": "93b96bf8-da98-4d69-89cb-d3d05fe2fa7d",
   "metadata": {},
   "outputs": [],
   "source": [
    "testNetworkInfoPre <- NetworkInfo()\n",
    "testNetworkInfoPre$initFromTabData(\n",
    "    data_directory,\n",
    "    \"grp_6mos_by_month_2010-05-05_pre-20220604-143216.tab\"\n",
    ")\n",
    "#testNetworkInfo$processNetwork()"
   ]
  },
  {
   "cell_type": "code",
   "execution_count": 68,
   "id": "5c4f1aea-bb91-4546-9b3e-18d6ae93222f",
   "metadata": {},
   "outputs": [],
   "source": [
    "testNetworkInfoPost <- NetworkInfo()\n",
    "testNetworkInfoPost$initFromTabData(\n",
    "    data_directory,\n",
    "    \"grp_6mos_by_month_2010-05-05_post-20220604-143320.tab\"\n",
    ")\n",
    "#testNetworkInfo$processNetwork()"
   ]
  },
  {
   "cell_type": "code",
   "execution_count": 85,
   "id": "4157b94a-c6d4-49b1-8421-b17e32f4667f",
   "metadata": {},
   "outputs": [],
   "source": [
    "preMatrix <- testNetworkInfoPre$myNetworkMatrix\n",
    "postMatrix <- testNetworkInfoPost$myNetworkMatrix"
   ]
  },
  {
   "cell_type": "code",
   "execution_count": 84,
   "id": "84d530bd-6fe7-465f-817d-7ab6568af3f0",
   "metadata": {},
   "outputs": [],
   "source": [
    "preMatrix <- ifelse( preMatrix > 0, 1, 0 )\n",
    "postMatrix <- ifelse( postMatrix > 0, 1, 0 )"
   ]
  },
  {
   "cell_type": "code",
   "execution_count": 86,
   "id": "4ee622ac-e4ad-4244-bb34-7d672cac7e6a",
   "metadata": {},
   "outputs": [],
   "source": [
    "preMatrix[ preMatrix > 0 ] <- 1\n",
    "postMatrix[ postMatrix > 0 ] <- 1"
   ]
  },
  {
   "cell_type": "code",
   "execution_count": 92,
   "id": "85b18dfc-25ff-49c8-a819-2daaa7ef7a67",
   "metadata": {},
   "outputs": [],
   "source": [
    "preMatrix <- testNetworkInfoPre$getBinaryNetworkMatrix()\n",
    "postMatrix <- testNetworkInfoPost$getBinaryNetworkMatrix()"
   ]
  },
  {
   "cell_type": "code",
   "execution_count": 91,
   "id": "96aa9918-18c9-42e5-9d42-94618d9f60c2",
   "metadata": {},
   "outputs": [
    {
     "data": {
      "text/html": [
       "'refMethodDef'"
      ],
      "text/latex": [
       "'refMethodDef'"
      ],
      "text/markdown": [
       "'refMethodDef'"
      ],
      "text/plain": [
       "[1] \"refMethodDef\"\n",
       "attr(,\"package\")\n",
       "[1] \"methods\""
      ]
     },
     "metadata": {},
     "output_type": "display_data"
    },
    {
     "ename": "ERROR",
     "evalue": "Error in max(preMatrix): invalid 'type' (closure) of argument\n",
     "output_type": "error",
     "traceback": [
      "Error in max(preMatrix): invalid 'type' (closure) of argument\nTraceback:\n"
     ]
    }
   ],
   "source": [
    "class( preMatrix )\n",
    "max( preMatrix )\n",
    "nrow( preMatrix )\n",
    "ncol( preMatrix )\n",
    "class( postMatrix )\n",
    "max( postMatrix )\n",
    "nrow( postMatrix )\n",
    "ncol( postMatrix )"
   ]
  },
  {
   "cell_type": "code",
   "execution_count": 88,
   "id": "aaf507fe-ea7f-478c-b48c-9878b515119e",
   "metadata": {},
   "outputs": [
    {
     "name": "stderr",
     "output_type": "stream",
     "text": [
      "==> Start of  compareMatricesQAP  at  2022-06-07 04:10:13\n",
      "\n",
      "==> End of  compareMatricesQAP  at  2022-06-07 04:10:38\n",
      "\n"
     ]
    }
   ],
   "source": [
    "comparisonOutput <- compareMatricesQAP(\n",
    "        preMatrix,\n",
    "        postMatrix,\n",
    "        outputPrefixIN = \"grp_6mos_by_month\",\n",
    "        outputPlotsIN = FALSE,\n",
    "        debugFlagIN = FALSE,\n",
    "        repsIN = 10,\n",
    "        doQapIN = FALSE )"
   ]
  },
  {
   "cell_type": "code",
   "execution_count": 89,
   "id": "06920ecb-bc0e-4b5c-9171-4b2eff5cdb07",
   "metadata": {},
   "outputs": [
    {
     "data": {
      "text/html": [
       "<dl>\n",
       "\t<dt>$graphCorrelation</dt>\n",
       "\t\t<dd>0.107347127163413</dd>\n",
       "\t<dt>$graphCovariance</dt>\n",
       "\t\t<dd>1.47193686382608e-05</dd>\n",
       "\t<dt>$graphHammingDist</dt>\n",
       "\t\t<dd>22990</dd>\n",
       "</dl>\n"
      ],
      "text/latex": [
       "\\begin{description}\n",
       "\\item[\\$graphCorrelation] 0.107347127163413\n",
       "\\item[\\$graphCovariance] 1.47193686382608e-05\n",
       "\\item[\\$graphHammingDist] 22990\n",
       "\\end{description}\n"
      ],
      "text/markdown": [
       "$graphCorrelation\n",
       ":   0.107347127163413\n",
       "$graphCovariance\n",
       ":   1.47193686382608e-05\n",
       "$graphHammingDist\n",
       ":   22990\n",
       "\n",
       "\n"
      ],
      "text/plain": [
       "$graphCorrelation\n",
       "[1] 0.1073471\n",
       "\n",
       "$graphCovariance\n",
       "[1] 1.471937e-05\n",
       "\n",
       "$graphHammingDist\n",
       "[1] 22990\n"
      ]
     },
     "metadata": {},
     "output_type": "display_data"
    }
   ],
   "source": [
    "comparisonOutput"
   ]
  },
  {
   "cell_type": "markdown",
   "id": "3fb8a26d-381a-47b4-a987-b7779b8c1218",
   "metadata": {},
   "source": [
    "## NetworkInfo - make data.frame of pair-wise comparisons"
   ]
  },
  {
   "cell_type": "markdown",
   "id": "e4a02a27-0a8f-4689-9f7b-a97069f5dde1",
   "metadata": {},
   "source": [
    "### test data"
   ]
  },
  {
   "cell_type": "code",
   "execution_count": 38,
   "id": "ad751f2e-309a-48fe-9251-b6863a309c3e",
   "metadata": {},
   "outputs": [],
   "source": [
    "label <- c(\n",
    "    \"grp_6mos_by_month\",\n",
    "    \"grp_6mos_by_month\",\n",
    "    \"grp_6mos_by_month\",\n",
    "    \"grp_6mos_by_month\"\n",
    ")"
   ]
  },
  {
   "cell_type": "code",
   "execution_count": 39,
   "id": "3ee3a380-ec10-4546-9f88-f465ffb41c94",
   "metadata": {},
   "outputs": [],
   "source": [
    "networkDuration <- c(\n",
    "    \"6mos\",\n",
    "    \"6mos\",\n",
    "    \"6mos\",\n",
    "    \"6mos\"\n",
    ")"
   ]
  },
  {
   "cell_type": "code",
   "execution_count": 40,
   "id": "fe79bce1-160f-43cd-baf5-dd991a70b85e",
   "metadata": {},
   "outputs": [],
   "source": [
    "baseDate <- c(\n",
    "    \"2005-07-03\",\n",
    "    \"2005-08-03\",\n",
    "    \"2005-09-03\",\n",
    "    \"2005-10-04\"\n",
    ")"
   ]
  },
  {
   "cell_type": "code",
   "execution_count": 41,
   "id": "5d8d9d0a-1a82-404c-939c-157fec4bc64d",
   "metadata": {},
   "outputs": [],
   "source": [
    "beforeFile <- c(\n",
    "    \"grp_6mos_by_month_2005-07-03_pre-20220604-115739.tab\",\n",
    "    \"grp_6mos_by_month_2005-08-03_pre-20220604-120117.tab\",\n",
    "    \"grp_6mos_by_month_2005-09-03_pre-20220604-120452.tab\",\n",
    "    \"grp_6mos_by_month_2005-10-04_pre-20220604-120827.tab\"\n",
    ")"
   ]
  },
  {
   "cell_type": "code",
   "execution_count": 42,
   "id": "67419830-e70a-4c53-9c22-4dbc99447484",
   "metadata": {},
   "outputs": [],
   "source": [
    "afterFile <- c(\n",
    "    \"grp_6mos_by_month_2005-07-03_post-20220604-115928.tab\",\n",
    "    \"grp_6mos_by_month_2005-08-03_post-20220604-120305.tab\",\n",
    "    \"grp_6mos_by_month_2005-09-03_post-20220604-120639.tab\",\n",
    "    \"grp_6mos_by_month_2005-10-04_post-20220604-121014.tab\"\n",
    ")"
   ]
  },
  {
   "cell_type": "code",
   "execution_count": 43,
   "id": "89bef2c9-d700-436f-a995-b4d9f912503b",
   "metadata": {},
   "outputs": [],
   "source": [
    "dataFileDF <- data.frame(\n",
    "    baseDate,\n",
    "    networkDuration,\n",
    "    label,\n",
    "    beforeFile,\n",
    "    afterFile\n",
    ")"
   ]
  },
  {
   "cell_type": "code",
   "execution_count": 60,
   "id": "ccc74f08-15e6-47c6-87f6-ef66fab32cd0",
   "metadata": {},
   "outputs": [],
   "source": [
    "label <- c(\n",
    "    \"grp_6mos_by_month\"\n",
    ")"
   ]
  },
  {
   "cell_type": "code",
   "execution_count": 61,
   "id": "ab0a089a-b374-46f5-baea-10f94afb563b",
   "metadata": {},
   "outputs": [],
   "source": [
    "networkDuration <- c(\n",
    "    \"6mos\"\n",
    ")"
   ]
  },
  {
   "cell_type": "code",
   "execution_count": 62,
   "id": "488a6b39-f234-4377-bc96-a968c57f1ace",
   "metadata": {},
   "outputs": [],
   "source": [
    "baseDate <- c(\n",
    "    \"2005-07-03\"\n",
    ")"
   ]
  },
  {
   "cell_type": "code",
   "execution_count": 63,
   "id": "e55308cf-b32e-4bc8-b898-6850fe2b3047",
   "metadata": {},
   "outputs": [],
   "source": [
    "beforeFile <- c(\n",
    "    \"grp_6mos_by_month_2005-07-03_pre-20220604-115739.tab\"\n",
    ")"
   ]
  },
  {
   "cell_type": "code",
   "execution_count": 64,
   "id": "e1568273-2309-443c-bf41-26426464d8c0",
   "metadata": {},
   "outputs": [],
   "source": [
    "afterFile <- c(\n",
    "    \"grp_6mos_by_month_2005-07-03_post-20220604-115928.tab\"\n",
    ")"
   ]
  },
  {
   "cell_type": "code",
   "execution_count": 65,
   "id": "0510106c-b44b-4a12-8fe7-1e54288cc5e2",
   "metadata": {},
   "outputs": [],
   "source": [
    "dataFileDF <- data.frame(\n",
    "    baseDate,\n",
    "    networkDuration,\n",
    "    label,\n",
    "    beforeFile,\n",
    "    afterFile\n",
    ")"
   ]
  },
  {
   "cell_type": "code",
   "execution_count": 72,
   "id": "3cb36a86-29ee-457a-963a-8a7c55209c97",
   "metadata": {},
   "outputs": [
    {
     "data": {
      "text/html": [
       "<table class=\"dataframe\">\n",
       "<caption>A data.frame: 1 × 5</caption>\n",
       "<thead>\n",
       "\t<tr><th scope=col>baseDate</th><th scope=col>networkDuration</th><th scope=col>label</th><th scope=col>beforeFile</th><th scope=col>afterFile</th></tr>\n",
       "\t<tr><th scope=col>&lt;chr&gt;</th><th scope=col>&lt;chr&gt;</th><th scope=col>&lt;chr&gt;</th><th scope=col>&lt;chr&gt;</th><th scope=col>&lt;chr&gt;</th></tr>\n",
       "</thead>\n",
       "<tbody>\n",
       "\t<tr><td>2005-07-03</td><td>6mos</td><td>grp_6mos_by_month</td><td>grp_6mos_by_month_2005-07-03_pre-20220604-115739.tab</td><td>grp_6mos_by_month_2005-07-03_post-20220604-115928.tab</td></tr>\n",
       "</tbody>\n",
       "</table>\n"
      ],
      "text/latex": [
       "A data.frame: 1 × 5\n",
       "\\begin{tabular}{lllll}\n",
       " baseDate & networkDuration & label & beforeFile & afterFile\\\\\n",
       " <chr> & <chr> & <chr> & <chr> & <chr>\\\\\n",
       "\\hline\n",
       "\t 2005-07-03 & 6mos & grp\\_6mos\\_by\\_month & grp\\_6mos\\_by\\_month\\_2005-07-03\\_pre-20220604-115739.tab & grp\\_6mos\\_by\\_month\\_2005-07-03\\_post-20220604-115928.tab\\\\\n",
       "\\end{tabular}\n"
      ],
      "text/markdown": [
       "\n",
       "A data.frame: 1 × 5\n",
       "\n",
       "| baseDate &lt;chr&gt; | networkDuration &lt;chr&gt; | label &lt;chr&gt; | beforeFile &lt;chr&gt; | afterFile &lt;chr&gt; |\n",
       "|---|---|---|---|---|\n",
       "| 2005-07-03 | 6mos | grp_6mos_by_month | grp_6mos_by_month_2005-07-03_pre-20220604-115739.tab | grp_6mos_by_month_2005-07-03_post-20220604-115928.tab |\n",
       "\n"
      ],
      "text/plain": [
       "  baseDate   networkDuration label            \n",
       "1 2005-07-03 6mos            grp_6mos_by_month\n",
       "  beforeFile                                          \n",
       "1 grp_6mos_by_month_2005-07-03_pre-20220604-115739.tab\n",
       "  afterFile                                            \n",
       "1 grp_6mos_by_month_2005-07-03_post-20220604-115928.tab"
      ]
     },
     "metadata": {},
     "output_type": "display_data"
    }
   ],
   "source": [
    "dataFileDF"
   ]
  },
  {
   "cell_type": "markdown",
   "id": "498d15f9-2406-464f-9af6-184e593b48ca",
   "metadata": {},
   "source": [
    "### REAL DATA - make data frame of files to process"
   ]
  },
  {
   "cell_type": "code",
   "execution_count": 27,
   "id": "fa79c528-b9da-4a55-b88a-d0bd34a3f423",
   "metadata": {},
   "outputs": [],
   "source": [
    "label <- c(\n",
    "    \"grp_6mos_by_month\",\n",
    "    \"grp_6mos_by_month\",\n",
    "    \"grp_6mos_by_month\",\n",
    "    \"grp_6mos_by_month\",\n",
    "    \"grp_6mos_by_month\",\n",
    "    \"grp_6mos_by_month\",\n",
    "    \"grp_6mos_by_month\",\n",
    "    \"grp_6mos_by_month\",\n",
    "    \"grp_6mos_by_month\",\n",
    "    \"grp_6mos_by_month\",\n",
    "    \"grp_6mos_by_month\",\n",
    "    \"grp_6mos_by_month\",\n",
    "    \"grp_6mos_by_month\",\n",
    "    \"grp_6mos_by_month\",\n",
    "    \"grp_6mos_by_month\",\n",
    "    \"grp_6mos_by_month\",\n",
    "    \"grp_6mos_by_month\",\n",
    "    \"grp_6mos_by_month\",\n",
    "    \"grp_6mos_by_month\",\n",
    "    \"grp_6mos_by_month\",\n",
    "    \"grp_6mos_by_month\",\n",
    "    \"grp_6mos_by_month\",\n",
    "    \"grp_6mos_by_month\",\n",
    "    \"grp_6mos_by_month\",\n",
    "    \"grp_6mos_by_month\",\n",
    "    \"grp_6mos_by_month\",\n",
    "    \"grp_6mos_by_month\",\n",
    "    \"grp_6mos_by_month\",\n",
    "    \"grp_6mos_by_month\",\n",
    "    \"grp_6mos_by_month\",\n",
    "    \"grp_6mos_by_month\",\n",
    "    \"grp_6mos_by_month\",\n",
    "    \"grp_6mos_by_month\",\n",
    "    \"grp_6mos_by_month\",\n",
    "    \"grp_6mos_by_month\",\n",
    "    \"grp_6mos_by_month\",\n",
    "    \"grp_6mos_by_month\",\n",
    "    \"grp_6mos_by_month\",\n",
    "    \"grp_6mos_by_month\",\n",
    "    \"grp_6mos_by_month\",\n",
    "    \"grp_6mos_by_month\",\n",
    "    \"grp_6mos_by_month\",\n",
    "    \"grp_6mos_by_month\",\n",
    "    \"grp_6mos_by_month\",\n",
    "    \"grp_6mos_by_month\",\n",
    "    \"grp_6mos_by_month\",\n",
    "    \"grp_6mos_by_month\",\n",
    "    \"grp_6mos_by_month\",\n",
    "    \"grp_6mos_by_month\",\n",
    "    \"grp_6mos_by_month\",\n",
    "    \"grp_6mos_by_month\",\n",
    "    \"grp_6mos_by_month\",\n",
    "    \"grp_6mos_by_month\",\n",
    "    \"grp_6mos_by_month\",\n",
    "    \"grp_6mos_by_month\",\n",
    "    \"grp_6mos_by_month\",\n",
    "    \"grp_6mos_by_month\",\n",
    "    \"grp_6mos_by_month\"\n",
    ")"
   ]
  },
  {
   "cell_type": "code",
   "execution_count": 28,
   "id": "f76cc54c-1c86-43f9-985f-a51c3a115365",
   "metadata": {
    "tags": []
   },
   "outputs": [],
   "source": [
    "networkDuration <- c(\n",
    "    \"6mos\",\n",
    "    \"6mos\",\n",
    "    \"6mos\",\n",
    "    \"6mos\",\n",
    "    \"6mos\",\n",
    "    \"6mos\",\n",
    "    \"6mos\",\n",
    "    \"6mos\",\n",
    "    \"6mos\",\n",
    "    \"6mos\",\n",
    "    \"6mos\",\n",
    "    \"6mos\",\n",
    "    \"6mos\",\n",
    "    \"6mos\",\n",
    "    \"6mos\",\n",
    "    \"6mos\",\n",
    "    \"6mos\",\n",
    "    \"6mos\",\n",
    "    \"6mos\",\n",
    "    \"6mos\",\n",
    "    \"6mos\",\n",
    "    \"6mos\",\n",
    "    \"6mos\",\n",
    "    \"6mos\",\n",
    "    \"6mos\",\n",
    "    \"6mos\",\n",
    "    \"6mos\",\n",
    "    \"6mos\",\n",
    "    \"6mos\",\n",
    "    \"6mos\",\n",
    "    \"6mos\",\n",
    "    \"6mos\",\n",
    "    \"6mos\",\n",
    "    \"6mos\",\n",
    "    \"6mos\",\n",
    "    \"6mos\",\n",
    "    \"6mos\",\n",
    "    \"6mos\",\n",
    "    \"6mos\",\n",
    "    \"6mos\",\n",
    "    \"6mos\",\n",
    "    \"6mos\",\n",
    "    \"6mos\",\n",
    "    \"6mos\",\n",
    "    \"6mos\",\n",
    "    \"6mos\",\n",
    "    \"6mos\",\n",
    "    \"6mos\",\n",
    "    \"6mos\",\n",
    "    \"6mos\",\n",
    "    \"6mos\",\n",
    "    \"6mos\",\n",
    "    \"6mos\",\n",
    "    \"6mos\",\n",
    "    \"6mos\",\n",
    "    \"6mos\",\n",
    "    \"6mos\",\n",
    "    \"6mos\"\n",
    ")"
   ]
  },
  {
   "cell_type": "code",
   "execution_count": 29,
   "id": "ad0580c6-f137-4d59-8609-819f0177f64e",
   "metadata": {},
   "outputs": [],
   "source": [
    "baseDate <- c(\n",
    "    \"2005-07-03\",\n",
    "    \"2005-08-03\",\n",
    "    \"2005-09-03\",\n",
    "    \"2005-10-04\",\n",
    "    \"2005-11-04\",\n",
    "    \"2005-12-05\",\n",
    "    \"2006-01-05\",\n",
    "    \"2006-02-05\",\n",
    "    \"2006-03-08\",\n",
    "    \"2006-04-08\",\n",
    "    \"2006-05-09\",\n",
    "    \"2006-06-09\",\n",
    "    \"2006-07-10\",\n",
    "    \"2006-08-10\",\n",
    "    \"2006-09-10\",\n",
    "    \"2006-10-11\",\n",
    "    \"2006-11-11\",\n",
    "    \"2006-12-12\",\n",
    "    \"2007-01-12\",\n",
    "    \"2007-02-12\",\n",
    "    \"2007-03-15\",\n",
    "    \"2007-04-15\",\n",
    "    \"2007-05-16\",\n",
    "    \"2007-06-16\",\n",
    "    \"2007-07-17\",\n",
    "    \"2007-08-17\",\n",
    "    \"2007-09-17\",\n",
    "    \"2007-10-18\",\n",
    "    \"2007-11-18\",\n",
    "    \"2007-12-19\",\n",
    "    \"2008-01-19\",\n",
    "    \"2008-02-19\",\n",
    "    \"2008-03-21\",\n",
    "    \"2008-04-21\",\n",
    "    \"2008-05-22\",\n",
    "    \"2008-06-22\",\n",
    "    \"2008-07-23\",\n",
    "    \"2008-08-23\",\n",
    "    \"2008-09-23\",\n",
    "    \"2008-10-24\",\n",
    "    \"2008-11-24\",\n",
    "    \"2008-12-25\",\n",
    "    \"2009-01-25\",\n",
    "    \"2009-02-25\",\n",
    "    \"2009-03-28\",\n",
    "    \"2009-04-28\",\n",
    "    \"2009-05-29\",\n",
    "    \"2009-06-29\",\n",
    "    \"2009-07-30\",\n",
    "    \"2009-08-30\",\n",
    "    \"2009-09-30\",\n",
    "    \"2009-10-31\",\n",
    "    \"2009-12-01\",\n",
    "    \"2010-01-01\",\n",
    "    \"2010-02-01\",\n",
    "    \"2010-03-04\",\n",
    "    \"2010-04-04\",\n",
    "    \"2010-05-05\"\n",
    ")"
   ]
  },
  {
   "cell_type": "code",
   "execution_count": 30,
   "id": "9d551f2e-27b1-4a35-ac9f-67f7d982f817",
   "metadata": {},
   "outputs": [],
   "source": [
    "beforeFile <- c(\n",
    "    \"grp_6mos_by_month_2005-07-03_pre-20220604-115739.tab\",\n",
    "    \"grp_6mos_by_month_2005-08-03_pre-20220604-120117.tab\",\n",
    "    \"grp_6mos_by_month_2005-09-03_pre-20220604-120452.tab\",\n",
    "    \"grp_6mos_by_month_2005-10-04_pre-20220604-120827.tab\",\n",
    "    \"grp_6mos_by_month_2005-11-04_pre-20220604-121212.tab\",\n",
    "    \"grp_6mos_by_month_2005-12-05_pre-20220604-121603.tab\",\n",
    "    \"grp_6mos_by_month_2006-01-05_pre-20220604-121948.tab\",\n",
    "    \"grp_6mos_by_month_2006-02-05_pre-20220604-122317.tab\",\n",
    "    \"grp_6mos_by_month_2006-03-08_pre-20220604-122637.tab\",\n",
    "    \"grp_6mos_by_month_2006-04-08_pre-20220604-122958.tab\",\n",
    "    \"grp_6mos_by_month_2006-05-09_pre-20220604-123316.tab\",\n",
    "    \"grp_6mos_by_month_2006-06-09_pre-20220604-123643.tab\",\n",
    "    \"grp_6mos_by_month_2006-07-10_pre-20220604-123955.tab\",\n",
    "    \"grp_6mos_by_month_2006-08-10_pre-20220604-124308.tab\",\n",
    "    \"grp_6mos_by_month_2006-09-10_pre-20220604-124636.tab\",\n",
    "    \"grp_6mos_by_month_2006-10-11_pre-20220604-124959.tab\",\n",
    "    \"grp_6mos_by_month_2006-11-11_pre-20220604-125318.tab\",\n",
    "    \"grp_6mos_by_month_2006-12-12_pre-20220604-125624.tab\",\n",
    "    \"grp_6mos_by_month_2007-01-12_pre-20220604-125935.tab\",\n",
    "    \"grp_6mos_by_month_2007-02-12_pre-20220604-130252.tab\",\n",
    "    \"grp_6mos_by_month_2007-03-15_pre-20220604-130605.tab\",\n",
    "    \"grp_6mos_by_month_2007-04-15_pre-20220604-130914.tab\",\n",
    "    \"grp_6mos_by_month_2007-05-16_pre-20220604-131210.tab\",\n",
    "    \"grp_6mos_by_month_2007-06-16_pre-20220604-131501.tab\",\n",
    "    \"grp_6mos_by_month_2007-07-17_pre-20220604-131750.tab\",\n",
    "    \"grp_6mos_by_month_2007-08-17_pre-20220604-132033.tab\",\n",
    "    \"grp_6mos_by_month_2007-09-17_pre-20220604-132313.tab\",\n",
    "    \"grp_6mos_by_month_2007-10-18_pre-20220604-132557.tab\",\n",
    "    \"grp_6mos_by_month_2007-11-18_pre-20220604-132843.tab\",\n",
    "    \"grp_6mos_by_month_2007-12-19_pre-20220604-133126.tab\",\n",
    "    \"grp_6mos_by_month_2008-01-19_pre-20220604-133402.tab\",\n",
    "    \"grp_6mos_by_month_2008-02-19_pre-20220604-133627.tab\",\n",
    "    \"grp_6mos_by_month_2008-03-21_pre-20220604-133847.tab\",\n",
    "    \"grp_6mos_by_month_2008-04-21_pre-20220604-134102.tab\",\n",
    "    \"grp_6mos_by_month_2008-05-22_pre-20220604-134315.tab\",\n",
    "    \"grp_6mos_by_month_2008-06-22_pre-20220604-134526.tab\",\n",
    "    \"grp_6mos_by_month_2008-07-23_pre-20220604-134742.tab\",\n",
    "    \"grp_6mos_by_month_2008-08-23_pre-20220604-134954.tab\",\n",
    "    \"grp_6mos_by_month_2008-09-23_pre-20220604-135158.tab\",\n",
    "    \"grp_6mos_by_month_2008-10-24_pre-20220604-135401.tab\",\n",
    "    \"grp_6mos_by_month_2008-11-24_pre-20220604-135605.tab\",\n",
    "    \"grp_6mos_by_month_2008-12-25_pre-20220604-135809.tab\",\n",
    "    \"grp_6mos_by_month_2009-01-25_pre-20220604-140021.tab\",\n",
    "    \"grp_6mos_by_month_2009-02-25_pre-20220604-140219.tab\",\n",
    "    \"grp_6mos_by_month_2009-03-28_pre-20220604-140420.tab\",\n",
    "    \"grp_6mos_by_month_2009-04-28_pre-20220604-140621.tab\",\n",
    "    \"grp_6mos_by_month_2009-05-29_pre-20220604-140826.tab\",\n",
    "    \"grp_6mos_by_month_2009-06-29_pre-20220604-141033.tab\",\n",
    "    \"grp_6mos_by_month_2009-07-30_pre-20220604-141239.tab\",\n",
    "    \"grp_6mos_by_month_2009-08-30_pre-20220604-141447.tab\",\n",
    "    \"grp_6mos_by_month_2009-09-30_pre-20220604-141700.tab\",\n",
    "    \"grp_6mos_by_month_2009-10-31_pre-20220604-141919.tab\",\n",
    "    \"grp_6mos_by_month_2009-12-01_pre-20220604-142137.tab\",\n",
    "    \"grp_6mos_by_month_2010-01-01_pre-20220604-142343.tab\",\n",
    "    \"grp_6mos_by_month_2010-02-01_pre-20220604-142549.tab\",\n",
    "    \"grp_6mos_by_month_2010-03-04_pre-20220604-142755.tab\",\n",
    "    \"grp_6mos_by_month_2010-04-04_pre-20220604-143001.tab\",\n",
    "    \"grp_6mos_by_month_2010-05-05_pre-20220604-143216.tab\"\n",
    ")"
   ]
  },
  {
   "cell_type": "code",
   "execution_count": 31,
   "id": "d81a138c-3750-43fa-af42-d85afd5f965d",
   "metadata": {},
   "outputs": [],
   "source": [
    "afterFile <- c(\n",
    "    \"grp_6mos_by_month_2005-07-03_post-20220604-115928.tab\",\n",
    "    \"grp_6mos_by_month_2005-08-03_post-20220604-120305.tab\",\n",
    "    \"grp_6mos_by_month_2005-09-03_post-20220604-120639.tab\",\n",
    "    \"grp_6mos_by_month_2005-10-04_post-20220604-121014.tab\",\n",
    "    \"grp_6mos_by_month_2005-11-04_post-20220604-121409.tab\",\n",
    "    \"grp_6mos_by_month_2005-12-05_post-20220604-121756.tab\",\n",
    "    \"grp_6mos_by_month_2006-01-05_post-20220604-122133.tab\",\n",
    "    \"grp_6mos_by_month_2006-02-05_post-20220604-122459.tab\",\n",
    "    \"grp_6mos_by_month_2006-03-08_post-20220604-122819.tab\",\n",
    "    \"grp_6mos_by_month_2006-04-08_post-20220604-123139.tab\",\n",
    "    \"grp_6mos_by_month_2006-05-09_post-20220604-123504.tab\",\n",
    "    \"grp_6mos_by_month_2006-06-09_post-20220604-123819.tab\",\n",
    "    \"grp_6mos_by_month_2006-07-10_post-20220604-124132.tab\",\n",
    "    \"grp_6mos_by_month_2006-08-10_post-20220604-124452.tab\",\n",
    "    \"grp_6mos_by_month_2006-09-10_post-20220604-124818.tab\",\n",
    "    \"grp_6mos_by_month_2006-10-11_post-20220604-125140.tab\",\n",
    "    \"grp_6mos_by_month_2006-11-11_post-20220604-125452.tab\",\n",
    "    \"grp_6mos_by_month_2006-12-12_post-20220604-125757.tab\",\n",
    "    \"grp_6mos_by_month_2007-01-12_post-20220604-130114.tab\",\n",
    "    \"grp_6mos_by_month_2007-02-12_post-20220604-130429.tab\",\n",
    "    \"grp_6mos_by_month_2007-03-15_post-20220604-130743.tab\",\n",
    "    \"grp_6mos_by_month_2007-04-15_post-20220604-131043.tab\",\n",
    "    \"grp_6mos_by_month_2007-05-16_post-20220604-131335.tab\",\n",
    "    \"grp_6mos_by_month_2007-06-16_post-20220604-131627.tab\",\n",
    "    \"grp_6mos_by_month_2007-07-17_post-20220604-131913.tab\",\n",
    "    \"grp_6mos_by_month_2007-08-17_post-20220604-132154.tab\",\n",
    "    \"grp_6mos_by_month_2007-09-17_post-20220604-132433.tab\",\n",
    "    \"grp_6mos_by_month_2007-10-18_post-20220604-132722.tab\",\n",
    "    \"grp_6mos_by_month_2007-11-18_post-20220604-133006.tab\",\n",
    "    \"grp_6mos_by_month_2007-12-19_post-20220604-133245.tab\",\n",
    "    \"grp_6mos_by_month_2008-01-19_post-20220604-133516.tab\",\n",
    "    \"grp_6mos_by_month_2008-02-19_post-20220604-133737.tab\",\n",
    "    \"grp_6mos_by_month_2008-03-21_post-20220604-133955.tab\",\n",
    "    \"grp_6mos_by_month_2008-04-21_post-20220604-134209.tab\",\n",
    "    \"grp_6mos_by_month_2008-05-22_post-20220604-134421.tab\",\n",
    "    \"grp_6mos_by_month_2008-06-22_post-20220604-134635.tab\",\n",
    "    \"grp_6mos_by_month_2008-07-23_post-20220604-134850.tab\",\n",
    "    \"grp_6mos_by_month_2008-08-23_post-20220604-135057.tab\",\n",
    "    \"grp_6mos_by_month_2008-09-23_post-20220604-135300.tab\",\n",
    "    \"grp_6mos_by_month_2008-10-24_post-20220604-135504.tab\",\n",
    "    \"grp_6mos_by_month_2008-11-24_post-20220604-135707.tab\",\n",
    "    \"grp_6mos_by_month_2008-12-25_post-20220604-135915.tab\",\n",
    "    \"grp_6mos_by_month_2009-01-25_post-20220604-140120.tab\",\n",
    "    \"grp_6mos_by_month_2009-02-25_post-20220604-140318.tab\",\n",
    "    \"grp_6mos_by_month_2009-03-28_post-20220604-140520.tab\",\n",
    "    \"grp_6mos_by_month_2009-04-28_post-20220604-140722.tab\",\n",
    "    \"grp_6mos_by_month_2009-05-29_post-20220604-140928.tab\",\n",
    "    \"grp_6mos_by_month_2009-06-29_post-20220604-141135.tab\",\n",
    "    \"grp_6mos_by_month_2009-07-30_post-20220604-141342.tab\",\n",
    "    \"grp_6mos_by_month_2009-08-30_post-20220604-141552.tab\",\n",
    "    \"grp_6mos_by_month_2009-09-30_post-20220604-141809.tab\",\n",
    "    \"grp_6mos_by_month_2009-10-31_post-20220604-142029.tab\",\n",
    "    \"grp_6mos_by_month_2009-12-01_post-20220604-142240.tab\",\n",
    "    \"grp_6mos_by_month_2010-01-01_post-20220604-142446.tab\",\n",
    "    \"grp_6mos_by_month_2010-02-01_post-20220604-142653.tab\",\n",
    "    \"grp_6mos_by_month_2010-03-04_post-20220604-142858.tab\",\n",
    "    \"grp_6mos_by_month_2010-04-04_post-20220604-143107.tab\",\n",
    "    \"grp_6mos_by_month_2010-05-05_post-20220604-143320.tab\"\n",
    ")"
   ]
  },
  {
   "cell_type": "code",
   "execution_count": 32,
   "id": "26f17af8-cc2d-476d-97e0-aec3cb797a63",
   "metadata": {},
   "outputs": [],
   "source": [
    "dataFileDF <- data.frame(\n",
    "    baseDate,\n",
    "    networkDuration,\n",
    "    label,\n",
    "    beforeFile,\n",
    "    afterFile\n",
    ")"
   ]
  },
  {
   "cell_type": "markdown",
   "id": "642f3e77-9dd3-45ff-8124-c004cde3f0e1",
   "metadata": {},
   "source": [
    "### Build data.frame of network data"
   ]
  },
  {
   "cell_type": "code",
   "execution_count": 18,
   "id": "871cab21-18c7-4abd-977e-c8f5e2c7cbc7",
   "metadata": {},
   "outputs": [
    {
     "data": {
      "text/html": [
       "58"
      ],
      "text/latex": [
       "58"
      ],
      "text/markdown": [
       "58"
      ],
      "text/plain": [
       "[1] 58"
      ]
     },
     "metadata": {},
     "output_type": "display_data"
    }
   ],
   "source": [
    "nrow( dataFileDF )"
   ]
  },
  {
   "cell_type": "code",
   "execution_count": 84,
   "id": "9ce78983-c1e5-4e9a-b4e5-746f876464f6",
   "metadata": {},
   "outputs": [],
   "source": [
    "pairwiseComparisonDF <- NULL"
   ]
  },
  {
   "cell_type": "code",
   "execution_count": 85,
   "id": "41832f54-a9ea-4eac-a0a1-4d21b7766da5",
   "metadata": {
    "scrolled": true,
    "tags": []
   },
   "outputs": [
    {
     "name": "stderr",
     "output_type": "stream",
     "text": [
      "====> grp_6mos_by_month - 2005-07-03 ( 6mos ) - before: grp_6mos_by_month_2005-07-03_pre-20220604-115739.tab; after: grp_6mos_by_month_2005-07-03_post-20220604-115928.tab @ 2022-06-06 04:45:21\n",
      "\n",
      "Warning message in sna::gtrans(myNetworkStatnet, mode = \"graph\"):\n",
      "“gtrans called with use.adjacency=TRUE, but your data looks too large for that to work well.  Overriding to edgelist method.”\n",
      "Warning message in sna::gtrans(myNetworkStatnet, mode = \"graph\"):\n",
      "“gtrans called with use.adjacency=TRUE, but your data looks too large for that to work well.  Overriding to edgelist method.”\n",
      "==> Start of  compareMatricesQAP  at  2022-06-06 04:50:21\n",
      "\n",
      "==> End of  compareMatricesQAP  at  2022-06-06 04:51:27\n",
      "\n",
      "====> grp_6mos_by_month - 2005-08-03 ( 6mos ) - before: grp_6mos_by_month_2005-08-03_pre-20220604-120117.tab; after: grp_6mos_by_month_2005-08-03_post-20220604-120305.tab @ 2022-06-06 04:51:27\n",
      "\n",
      "Warning message in sna::gtrans(myNetworkStatnet, mode = \"graph\"):\n",
      "“gtrans called with use.adjacency=TRUE, but your data looks too large for that to work well.  Overriding to edgelist method.”\n",
      "Warning message in sna::gtrans(myNetworkStatnet, mode = \"graph\"):\n",
      "“gtrans called with use.adjacency=TRUE, but your data looks too large for that to work well.  Overriding to edgelist method.”\n",
      "==> Start of  compareMatricesQAP  at  2022-06-06 04:56:27\n",
      "\n",
      "==> End of  compareMatricesQAP  at  2022-06-06 04:57:29\n",
      "\n",
      "====> grp_6mos_by_month - 2005-09-03 ( 6mos ) - before: grp_6mos_by_month_2005-09-03_pre-20220604-120452.tab; after: grp_6mos_by_month_2005-09-03_post-20220604-120639.tab @ 2022-06-06 04:57:29\n",
      "\n",
      "Warning message in sna::gtrans(myNetworkStatnet, mode = \"graph\"):\n",
      "“gtrans called with use.adjacency=TRUE, but your data looks too large for that to work well.  Overriding to edgelist method.”\n",
      "Warning message in sna::gtrans(myNetworkStatnet, mode = \"graph\"):\n",
      "“gtrans called with use.adjacency=TRUE, but your data looks too large for that to work well.  Overriding to edgelist method.”\n",
      "==> Start of  compareMatricesQAP  at  2022-06-06 05:02:58\n",
      "\n",
      "==> End of  compareMatricesQAP  at  2022-06-06 05:03:59\n",
      "\n",
      "====> grp_6mos_by_month - 2005-10-04 ( 6mos ) - before: grp_6mos_by_month_2005-10-04_pre-20220604-120827.tab; after: grp_6mos_by_month_2005-10-04_post-20220604-121014.tab @ 2022-06-06 05:03:59\n",
      "\n",
      "Warning message in sna::gtrans(myNetworkStatnet, mode = \"graph\"):\n",
      "“gtrans called with use.adjacency=TRUE, but your data looks too large for that to work well.  Overriding to edgelist method.”\n",
      "Warning message in sna::gtrans(myNetworkStatnet, mode = \"graph\"):\n",
      "“gtrans called with use.adjacency=TRUE, but your data looks too large for that to work well.  Overriding to edgelist method.”\n",
      "==> Start of  compareMatricesQAP  at  2022-06-06 05:09:30\n",
      "\n",
      "==> End of  compareMatricesQAP  at  2022-06-06 05:10:27\n",
      "\n",
      "====> grp_6mos_by_month - 2005-11-04 ( 6mos ) - before: grp_6mos_by_month_2005-11-04_pre-20220604-121212.tab; after: grp_6mos_by_month_2005-11-04_post-20220604-121409.tab @ 2022-06-06 05:10:27\n",
      "\n",
      "Warning message in sna::gtrans(myNetworkStatnet, mode = \"graph\"):\n",
      "“gtrans called with use.adjacency=TRUE, but your data looks too large for that to work well.  Overriding to edgelist method.”\n",
      "Warning message in sna::gtrans(myNetworkStatnet, mode = \"graph\"):\n",
      "“gtrans called with use.adjacency=TRUE, but your data looks too large for that to work well.  Overriding to edgelist method.”\n",
      "==> Start of  compareMatricesQAP  at  2022-06-06 05:15:03\n",
      "\n",
      "==> End of  compareMatricesQAP  at  2022-06-06 05:15:54\n",
      "\n",
      "====> grp_6mos_by_month - 2005-12-05 ( 6mos ) - before: grp_6mos_by_month_2005-12-05_pre-20220604-121603.tab; after: grp_6mos_by_month_2005-12-05_post-20220604-121756.tab @ 2022-06-06 05:15:54\n",
      "\n",
      "Warning message in sna::gtrans(myNetworkStatnet, mode = \"graph\"):\n",
      "“gtrans called with use.adjacency=TRUE, but your data looks too large for that to work well.  Overriding to edgelist method.”\n",
      "Warning message in sna::gtrans(myNetworkStatnet, mode = \"graph\"):\n",
      "“gtrans called with use.adjacency=TRUE, but your data looks too large for that to work well.  Overriding to edgelist method.”\n",
      "==> Start of  compareMatricesQAP  at  2022-06-06 05:20:06\n",
      "\n",
      "==> End of  compareMatricesQAP  at  2022-06-06 05:20:57\n",
      "\n",
      "====> grp_6mos_by_month - 2006-01-05 ( 6mos ) - before: grp_6mos_by_month_2006-01-05_pre-20220604-121948.tab; after: grp_6mos_by_month_2006-01-05_post-20220604-122133.tab @ 2022-06-06 05:20:57\n",
      "\n",
      "Warning message in sna::gtrans(myNetworkStatnet, mode = \"graph\"):\n",
      "“gtrans called with use.adjacency=TRUE, but your data looks too large for that to work well.  Overriding to edgelist method.”\n",
      "Warning message in sna::gtrans(myNetworkStatnet, mode = \"graph\"):\n",
      "“gtrans called with use.adjacency=TRUE, but your data looks too large for that to work well.  Overriding to edgelist method.”\n",
      "==> Start of  compareMatricesQAP  at  2022-06-06 05:24:57\n",
      "\n",
      "==> End of  compareMatricesQAP  at  2022-06-06 05:25:47\n",
      "\n",
      "====> grp_6mos_by_month - 2006-02-05 ( 6mos ) - before: grp_6mos_by_month_2006-02-05_pre-20220604-122317.tab; after: grp_6mos_by_month_2006-02-05_post-20220604-122459.tab @ 2022-06-06 05:25:47\n",
      "\n",
      "Warning message in sna::gtrans(myNetworkStatnet, mode = \"graph\"):\n",
      "“gtrans called with use.adjacency=TRUE, but your data looks too large for that to work well.  Overriding to edgelist method.”\n",
      "Warning message in sna::gtrans(myNetworkStatnet, mode = \"graph\"):\n",
      "“gtrans called with use.adjacency=TRUE, but your data looks too large for that to work well.  Overriding to edgelist method.”\n",
      "==> Start of  compareMatricesQAP  at  2022-06-06 05:29:38\n",
      "\n",
      "==> End of  compareMatricesQAP  at  2022-06-06 05:30:29\n",
      "\n",
      "====> grp_6mos_by_month - 2006-03-08 ( 6mos ) - before: grp_6mos_by_month_2006-03-08_pre-20220604-122637.tab; after: grp_6mos_by_month_2006-03-08_post-20220604-122819.tab @ 2022-06-06 05:30:30\n",
      "\n",
      "Warning message in sna::gtrans(myNetworkStatnet, mode = \"graph\"):\n",
      "“gtrans called with use.adjacency=TRUE, but your data looks too large for that to work well.  Overriding to edgelist method.”\n",
      "Warning message in sna::gtrans(myNetworkStatnet, mode = \"graph\"):\n",
      "“gtrans called with use.adjacency=TRUE, but your data looks too large for that to work well.  Overriding to edgelist method.”\n",
      "==> Start of  compareMatricesQAP  at  2022-06-06 05:35:01\n",
      "\n",
      "==> End of  compareMatricesQAP  at  2022-06-06 05:35:51\n",
      "\n",
      "====> grp_6mos_by_month - 2006-04-08 ( 6mos ) - before: grp_6mos_by_month_2006-04-08_pre-20220604-122958.tab; after: grp_6mos_by_month_2006-04-08_post-20220604-123139.tab @ 2022-06-06 05:35:51\n",
      "\n",
      "Warning message in sna::gtrans(myNetworkStatnet, mode = \"graph\"):\n",
      "“gtrans called with use.adjacency=TRUE, but your data looks too large for that to work well.  Overriding to edgelist method.”\n",
      "Warning message in sna::gtrans(myNetworkStatnet, mode = \"graph\"):\n",
      "“gtrans called with use.adjacency=TRUE, but your data looks too large for that to work well.  Overriding to edgelist method.”\n",
      "==> Start of  compareMatricesQAP  at  2022-06-06 05:40:14\n",
      "\n",
      "==> End of  compareMatricesQAP  at  2022-06-06 05:41:01\n",
      "\n",
      "====> grp_6mos_by_month - 2006-05-09 ( 6mos ) - before: grp_6mos_by_month_2006-05-09_pre-20220604-123316.tab; after: grp_6mos_by_month_2006-05-09_post-20220604-123504.tab @ 2022-06-06 05:41:02\n",
      "\n",
      "Warning message in sna::gtrans(myNetworkStatnet, mode = \"graph\"):\n",
      "“gtrans called with use.adjacency=TRUE, but your data looks too large for that to work well.  Overriding to edgelist method.”\n",
      "Warning message in sna::gtrans(myNetworkStatnet, mode = \"graph\"):\n",
      "“gtrans called with use.adjacency=TRUE, but your data looks too large for that to work well.  Overriding to edgelist method.”\n",
      "==> Start of  compareMatricesQAP  at  2022-06-06 05:44:29\n",
      "\n",
      "==> End of  compareMatricesQAP  at  2022-06-06 05:45:16\n",
      "\n",
      "====> grp_6mos_by_month - 2006-06-09 ( 6mos ) - before: grp_6mos_by_month_2006-06-09_pre-20220604-123643.tab; after: grp_6mos_by_month_2006-06-09_post-20220604-123819.tab @ 2022-06-06 05:45:17\n",
      "\n",
      "Warning message in sna::gtrans(myNetworkStatnet, mode = \"graph\"):\n",
      "“gtrans called with use.adjacency=TRUE, but your data looks too large for that to work well.  Overriding to edgelist method.”\n",
      "Warning message in sna::gtrans(myNetworkStatnet, mode = \"graph\"):\n",
      "“gtrans called with use.adjacency=TRUE, but your data looks too large for that to work well.  Overriding to edgelist method.”\n",
      "==> Start of  compareMatricesQAP  at  2022-06-06 05:49:25\n",
      "\n",
      "==> End of  compareMatricesQAP  at  2022-06-06 05:50:14\n",
      "\n",
      "====> grp_6mos_by_month - 2006-07-10 ( 6mos ) - before: grp_6mos_by_month_2006-07-10_pre-20220604-123955.tab; after: grp_6mos_by_month_2006-07-10_post-20220604-124132.tab @ 2022-06-06 05:50:14\n",
      "\n",
      "Warning message in sna::gtrans(myNetworkStatnet, mode = \"graph\"):\n",
      "“gtrans called with use.adjacency=TRUE, but your data looks too large for that to work well.  Overriding to edgelist method.”\n",
      "Warning message in sna::gtrans(myNetworkStatnet, mode = \"graph\"):\n",
      "“gtrans called with use.adjacency=TRUE, but your data looks too large for that to work well.  Overriding to edgelist method.”\n",
      "==> Start of  compareMatricesQAP  at  2022-06-06 05:53:50\n",
      "\n",
      "==> End of  compareMatricesQAP  at  2022-06-06 05:54:37\n",
      "\n",
      "====> grp_6mos_by_month - 2006-08-10 ( 6mos ) - before: grp_6mos_by_month_2006-08-10_pre-20220604-124308.tab; after: grp_6mos_by_month_2006-08-10_post-20220604-124452.tab @ 2022-06-06 05:54:37\n",
      "\n",
      "Warning message in sna::gtrans(myNetworkStatnet, mode = \"graph\"):\n",
      "“gtrans called with use.adjacency=TRUE, but your data looks too large for that to work well.  Overriding to edgelist method.”\n",
      "Warning message in sna::gtrans(myNetworkStatnet, mode = \"graph\"):\n",
      "“gtrans called with use.adjacency=TRUE, but your data looks too large for that to work well.  Overriding to edgelist method.”\n",
      "==> Start of  compareMatricesQAP  at  2022-06-06 05:57:57\n",
      "\n",
      "==> End of  compareMatricesQAP  at  2022-06-06 05:58:43\n",
      "\n",
      "====> grp_6mos_by_month - 2006-09-10 ( 6mos ) - before: grp_6mos_by_month_2006-09-10_pre-20220604-124636.tab; after: grp_6mos_by_month_2006-09-10_post-20220604-124818.tab @ 2022-06-06 05:58:43\n",
      "\n",
      "Warning message in sna::gtrans(myNetworkStatnet, mode = \"graph\"):\n",
      "“gtrans called with use.adjacency=TRUE, but your data looks too large for that to work well.  Overriding to edgelist method.”\n",
      "Warning message in sna::gtrans(myNetworkStatnet, mode = \"graph\"):\n",
      "“gtrans called with use.adjacency=TRUE, but your data looks too large for that to work well.  Overriding to edgelist method.”\n",
      "==> Start of  compareMatricesQAP  at  2022-06-06 06:02:20\n",
      "\n",
      "==> End of  compareMatricesQAP  at  2022-06-06 06:03:05\n",
      "\n",
      "====> grp_6mos_by_month - 2006-10-11 ( 6mos ) - before: grp_6mos_by_month_2006-10-11_pre-20220604-124959.tab; after: grp_6mos_by_month_2006-10-11_post-20220604-125140.tab @ 2022-06-06 06:03:06\n",
      "\n",
      "Warning message in sna::gtrans(myNetworkStatnet, mode = \"graph\"):\n",
      "“gtrans called with use.adjacency=TRUE, but your data looks too large for that to work well.  Overriding to edgelist method.”\n",
      "Warning message in sna::gtrans(myNetworkStatnet, mode = \"graph\"):\n",
      "“gtrans called with use.adjacency=TRUE, but your data looks too large for that to work well.  Overriding to edgelist method.”\n",
      "==> Start of  compareMatricesQAP  at  2022-06-06 06:06:27\n",
      "\n",
      "==> End of  compareMatricesQAP  at  2022-06-06 06:07:12\n",
      "\n",
      "====> grp_6mos_by_month - 2006-11-11 ( 6mos ) - before: grp_6mos_by_month_2006-11-11_pre-20220604-125318.tab; after: grp_6mos_by_month_2006-11-11_post-20220604-125452.tab @ 2022-06-06 06:07:12\n",
      "\n",
      "Warning message in sna::gtrans(myNetworkStatnet, mode = \"graph\"):\n",
      "“gtrans called with use.adjacency=TRUE, but your data looks too large for that to work well.  Overriding to edgelist method.”\n",
      "Warning message in sna::gtrans(myNetworkStatnet, mode = \"graph\"):\n",
      "“gtrans called with use.adjacency=TRUE, but your data looks too large for that to work well.  Overriding to edgelist method.”\n",
      "==> Start of  compareMatricesQAP  at  2022-06-06 06:10:28\n",
      "\n",
      "==> End of  compareMatricesQAP  at  2022-06-06 06:11:15\n",
      "\n",
      "====> grp_6mos_by_month - 2006-12-12 ( 6mos ) - before: grp_6mos_by_month_2006-12-12_pre-20220604-125624.tab; after: grp_6mos_by_month_2006-12-12_post-20220604-125757.tab @ 2022-06-06 06:11:15\n",
      "\n",
      "Warning message in sna::gtrans(myNetworkStatnet, mode = \"graph\"):\n",
      "“gtrans called with use.adjacency=TRUE, but your data looks too large for that to work well.  Overriding to edgelist method.”\n",
      "Warning message in sna::gtrans(myNetworkStatnet, mode = \"graph\"):\n",
      "“gtrans called with use.adjacency=TRUE, but your data looks too large for that to work well.  Overriding to edgelist method.”\n",
      "==> Start of  compareMatricesQAP  at  2022-06-06 06:14:52\n",
      "\n",
      "==> End of  compareMatricesQAP  at  2022-06-06 06:15:38\n",
      "\n",
      "====> grp_6mos_by_month - 2007-01-12 ( 6mos ) - before: grp_6mos_by_month_2007-01-12_pre-20220604-125935.tab; after: grp_6mos_by_month_2007-01-12_post-20220604-130114.tab @ 2022-06-06 06:15:38\n",
      "\n",
      "Warning message in sna::gtrans(myNetworkStatnet, mode = \"graph\"):\n",
      "“gtrans called with use.adjacency=TRUE, but your data looks too large for that to work well.  Overriding to edgelist method.”\n",
      "Warning message in sna::gtrans(myNetworkStatnet, mode = \"graph\"):\n",
      "“gtrans called with use.adjacency=TRUE, but your data looks too large for that to work well.  Overriding to edgelist method.”\n",
      "==> Start of  compareMatricesQAP  at  2022-06-06 06:19:46\n",
      "\n",
      "==> End of  compareMatricesQAP  at  2022-06-06 06:20:32\n",
      "\n",
      "====> grp_6mos_by_month - 2007-02-12 ( 6mos ) - before: grp_6mos_by_month_2007-02-12_pre-20220604-130252.tab; after: grp_6mos_by_month_2007-02-12_post-20220604-130429.tab @ 2022-06-06 06:20:33\n",
      "\n",
      "Warning message in sna::gtrans(myNetworkStatnet, mode = \"graph\"):\n",
      "“gtrans called with use.adjacency=TRUE, but your data looks too large for that to work well.  Overriding to edgelist method.”\n",
      "Warning message in sna::gtrans(myNetworkStatnet, mode = \"graph\"):\n",
      "“gtrans called with use.adjacency=TRUE, but your data looks too large for that to work well.  Overriding to edgelist method.”\n",
      "==> Start of  compareMatricesQAP  at  2022-06-06 06:24:22\n",
      "\n",
      "==> End of  compareMatricesQAP  at  2022-06-06 06:25:06\n",
      "\n",
      "====> grp_6mos_by_month - 2007-03-15 ( 6mos ) - before: grp_6mos_by_month_2007-03-15_pre-20220604-130605.tab; after: grp_6mos_by_month_2007-03-15_post-20220604-130743.tab @ 2022-06-06 06:25:06\n",
      "\n",
      "Warning message in sna::gtrans(myNetworkStatnet, mode = \"graph\"):\n",
      "“gtrans called with use.adjacency=TRUE, but your data looks too large for that to work well.  Overriding to edgelist method.”\n",
      "Warning message in sna::gtrans(myNetworkStatnet, mode = \"graph\"):\n",
      "“gtrans called with use.adjacency=TRUE, but your data looks too large for that to work well.  Overriding to edgelist method.”\n",
      "==> Start of  compareMatricesQAP  at  2022-06-06 06:28:32\n",
      "\n",
      "==> End of  compareMatricesQAP  at  2022-06-06 06:29:18\n",
      "\n",
      "====> grp_6mos_by_month - 2007-04-15 ( 6mos ) - before: grp_6mos_by_month_2007-04-15_pre-20220604-130914.tab; after: grp_6mos_by_month_2007-04-15_post-20220604-131043.tab @ 2022-06-06 06:29:18\n",
      "\n",
      "Warning message in sna::gtrans(myNetworkStatnet, mode = \"graph\"):\n",
      "“gtrans called with use.adjacency=TRUE, but your data looks too large for that to work well.  Overriding to edgelist method.”\n",
      "Warning message in sna::gtrans(myNetworkStatnet, mode = \"graph\"):\n",
      "“gtrans called with use.adjacency=TRUE, but your data looks too large for that to work well.  Overriding to edgelist method.”\n",
      "==> Start of  compareMatricesQAP  at  2022-06-06 06:32:58\n",
      "\n",
      "==> End of  compareMatricesQAP  at  2022-06-06 06:33:39\n",
      "\n",
      "====> grp_6mos_by_month - 2007-05-16 ( 6mos ) - before: grp_6mos_by_month_2007-05-16_pre-20220604-131210.tab; after: grp_6mos_by_month_2007-05-16_post-20220604-131335.tab @ 2022-06-06 06:33:40\n",
      "\n",
      "Warning message in sna::gtrans(myNetworkStatnet, mode = \"graph\"):\n",
      "“gtrans called with use.adjacency=TRUE, but your data looks too large for that to work well.  Overriding to edgelist method.”\n",
      "Warning message in sna::gtrans(myNetworkStatnet, mode = \"graph\"):\n",
      "“gtrans called with use.adjacency=TRUE, but your data looks too large for that to work well.  Overriding to edgelist method.”\n",
      "==> Start of  compareMatricesQAP  at  2022-06-06 06:37:17\n",
      "\n",
      "==> End of  compareMatricesQAP  at  2022-06-06 06:37:57\n",
      "\n",
      "====> grp_6mos_by_month - 2007-06-16 ( 6mos ) - before: grp_6mos_by_month_2007-06-16_pre-20220604-131501.tab; after: grp_6mos_by_month_2007-06-16_post-20220604-131627.tab @ 2022-06-06 06:37:57\n",
      "\n",
      "Warning message in sna::gtrans(myNetworkStatnet, mode = \"graph\"):\n",
      "“gtrans called with use.adjacency=TRUE, but your data looks too large for that to work well.  Overriding to edgelist method.”\n",
      "Warning message in sna::gtrans(myNetworkStatnet, mode = \"graph\"):\n",
      "“gtrans called with use.adjacency=TRUE, but your data looks too large for that to work well.  Overriding to edgelist method.”\n",
      "==> Start of  compareMatricesQAP  at  2022-06-06 06:41:35\n",
      "\n",
      "==> End of  compareMatricesQAP  at  2022-06-06 06:42:16\n",
      "\n",
      "====> grp_6mos_by_month - 2007-07-17 ( 6mos ) - before: grp_6mos_by_month_2007-07-17_pre-20220604-131750.tab; after: grp_6mos_by_month_2007-07-17_post-20220604-131913.tab @ 2022-06-06 06:42:16\n",
      "\n",
      "Warning message in sna::gtrans(myNetworkStatnet, mode = \"graph\"):\n",
      "“gtrans called with use.adjacency=TRUE, but your data looks too large for that to work well.  Overriding to edgelist method.”\n",
      "Warning message in sna::gtrans(myNetworkStatnet, mode = \"graph\"):\n",
      "“gtrans called with use.adjacency=TRUE, but your data looks too large for that to work well.  Overriding to edgelist method.”\n",
      "==> Start of  compareMatricesQAP  at  2022-06-06 06:45:12\n",
      "\n",
      "==> End of  compareMatricesQAP  at  2022-06-06 06:45:53\n",
      "\n",
      "====> grp_6mos_by_month - 2007-08-17 ( 6mos ) - before: grp_6mos_by_month_2007-08-17_pre-20220604-132033.tab; after: grp_6mos_by_month_2007-08-17_post-20220604-132154.tab @ 2022-06-06 06:45:53\n",
      "\n",
      "Warning message in sna::gtrans(myNetworkStatnet, mode = \"graph\"):\n",
      "“gtrans called with use.adjacency=TRUE, but your data looks too large for that to work well.  Overriding to edgelist method.”\n",
      "Warning message in sna::gtrans(myNetworkStatnet, mode = \"graph\"):\n",
      "“gtrans called with use.adjacency=TRUE, but your data looks too large for that to work well.  Overriding to edgelist method.”\n",
      "==> Start of  compareMatricesQAP  at  2022-06-06 06:49:31\n",
      "\n",
      "==> End of  compareMatricesQAP  at  2022-06-06 06:50:09\n",
      "\n",
      "====> grp_6mos_by_month - 2007-09-17 ( 6mos ) - before: grp_6mos_by_month_2007-09-17_pre-20220604-132313.tab; after: grp_6mos_by_month_2007-09-17_post-20220604-132433.tab @ 2022-06-06 06:50:09\n",
      "\n",
      "Warning message in sna::gtrans(myNetworkStatnet, mode = \"graph\"):\n",
      "“gtrans called with use.adjacency=TRUE, but your data looks too large for that to work well.  Overriding to edgelist method.”\n",
      "Warning message in sna::gtrans(myNetworkStatnet, mode = \"graph\"):\n",
      "“gtrans called with use.adjacency=TRUE, but your data looks too large for that to work well.  Overriding to edgelist method.”\n",
      "==> Start of  compareMatricesQAP  at  2022-06-06 06:53:25\n",
      "\n",
      "==> End of  compareMatricesQAP  at  2022-06-06 06:54:03\n",
      "\n",
      "====> grp_6mos_by_month - 2007-10-18 ( 6mos ) - before: grp_6mos_by_month_2007-10-18_pre-20220604-132557.tab; after: grp_6mos_by_month_2007-10-18_post-20220604-132722.tab @ 2022-06-06 06:54:03\n",
      "\n",
      "Warning message in sna::gtrans(myNetworkStatnet, mode = \"graph\"):\n",
      "“gtrans called with use.adjacency=TRUE, but your data looks too large for that to work well.  Overriding to edgelist method.”\n",
      "Warning message in sna::gtrans(myNetworkStatnet, mode = \"graph\"):\n",
      "“gtrans called with use.adjacency=TRUE, but your data looks too large for that to work well.  Overriding to edgelist method.”\n",
      "==> Start of  compareMatricesQAP  at  2022-06-06 06:57:06\n",
      "\n",
      "==> End of  compareMatricesQAP  at  2022-06-06 06:57:42\n",
      "\n",
      "====> grp_6mos_by_month - 2007-11-18 ( 6mos ) - before: grp_6mos_by_month_2007-11-18_pre-20220604-132843.tab; after: grp_6mos_by_month_2007-11-18_post-20220604-133006.tab @ 2022-06-06 06:57:42\n",
      "\n",
      "Warning message in sna::gtrans(myNetworkStatnet, mode = \"graph\"):\n",
      "“gtrans called with use.adjacency=TRUE, but your data looks too large for that to work well.  Overriding to edgelist method.”\n",
      "Warning message in sna::gtrans(myNetworkStatnet, mode = \"graph\"):\n",
      "“gtrans called with use.adjacency=TRUE, but your data looks too large for that to work well.  Overriding to edgelist method.”\n",
      "==> Start of  compareMatricesQAP  at  2022-06-06 07:00:52\n",
      "\n",
      "==> End of  compareMatricesQAP  at  2022-06-06 07:01:27\n",
      "\n",
      "====> grp_6mos_by_month - 2007-12-19 ( 6mos ) - before: grp_6mos_by_month_2007-12-19_pre-20220604-133126.tab; after: grp_6mos_by_month_2007-12-19_post-20220604-133245.tab @ 2022-06-06 07:01:27\n",
      "\n",
      "Warning message in sna::gtrans(myNetworkStatnet, mode = \"graph\"):\n",
      "“gtrans called with use.adjacency=TRUE, but your data looks too large for that to work well.  Overriding to edgelist method.”\n",
      "Warning message in sna::gtrans(myNetworkStatnet, mode = \"graph\"):\n",
      "“gtrans called with use.adjacency=TRUE, but your data looks too large for that to work well.  Overriding to edgelist method.”\n",
      "==> Start of  compareMatricesQAP  at  2022-06-06 07:04:37\n",
      "\n",
      "==> End of  compareMatricesQAP  at  2022-06-06 07:05:11\n",
      "\n",
      "====> grp_6mos_by_month - 2008-01-19 ( 6mos ) - before: grp_6mos_by_month_2008-01-19_pre-20220604-133402.tab; after: grp_6mos_by_month_2008-01-19_post-20220604-133516.tab @ 2022-06-06 07:05:11\n",
      "\n",
      "Warning message in sna::gtrans(myNetworkStatnet, mode = \"graph\"):\n",
      "“gtrans called with use.adjacency=TRUE, but your data looks too large for that to work well.  Overriding to edgelist method.”\n",
      "Warning message in sna::gtrans(myNetworkStatnet, mode = \"graph\"):\n",
      "“gtrans called with use.adjacency=TRUE, but your data looks too large for that to work well.  Overriding to edgelist method.”\n",
      "==> Start of  compareMatricesQAP  at  2022-06-06 07:08:11\n",
      "\n",
      "==> End of  compareMatricesQAP  at  2022-06-06 07:08:45\n",
      "\n",
      "====> grp_6mos_by_month - 2008-02-19 ( 6mos ) - before: grp_6mos_by_month_2008-02-19_pre-20220604-133627.tab; after: grp_6mos_by_month_2008-02-19_post-20220604-133737.tab @ 2022-06-06 07:08:45\n",
      "\n",
      "Warning message in sna::gtrans(myNetworkStatnet, mode = \"graph\"):\n",
      "“gtrans called with use.adjacency=TRUE, but your data looks too large for that to work well.  Overriding to edgelist method.”\n",
      "Warning message in sna::gtrans(myNetworkStatnet, mode = \"graph\"):\n",
      "“gtrans called with use.adjacency=TRUE, but your data looks too large for that to work well.  Overriding to edgelist method.”\n",
      "==> Start of  compareMatricesQAP  at  2022-06-06 07:11:09\n",
      "\n",
      "==> End of  compareMatricesQAP  at  2022-06-06 07:11:42\n",
      "\n",
      "====> grp_6mos_by_month - 2008-03-21 ( 6mos ) - before: grp_6mos_by_month_2008-03-21_pre-20220604-133847.tab; after: grp_6mos_by_month_2008-03-21_post-20220604-133955.tab @ 2022-06-06 07:11:42\n",
      "\n",
      "Warning message in sna::gtrans(myNetworkStatnet, mode = \"graph\"):\n",
      "“gtrans called with use.adjacency=TRUE, but your data looks too large for that to work well.  Overriding to edgelist method.”\n",
      "Warning message in sna::gtrans(myNetworkStatnet, mode = \"graph\"):\n",
      "“gtrans called with use.adjacency=TRUE, but your data looks too large for that to work well.  Overriding to edgelist method.”\n",
      "==> Start of  compareMatricesQAP  at  2022-06-06 07:14:12\n",
      "\n",
      "==> End of  compareMatricesQAP  at  2022-06-06 07:14:44\n",
      "\n",
      "====> grp_6mos_by_month - 2008-04-21 ( 6mos ) - before: grp_6mos_by_month_2008-04-21_pre-20220604-134102.tab; after: grp_6mos_by_month_2008-04-21_post-20220604-134209.tab @ 2022-06-06 07:14:44\n",
      "\n",
      "Warning message in sna::gtrans(myNetworkStatnet, mode = \"graph\"):\n",
      "“gtrans called with use.adjacency=TRUE, but your data looks too large for that to work well.  Overriding to edgelist method.”\n",
      "Warning message in sna::gtrans(myNetworkStatnet, mode = \"graph\"):\n",
      "“gtrans called with use.adjacency=TRUE, but your data looks too large for that to work well.  Overriding to edgelist method.”\n",
      "==> Start of  compareMatricesQAP  at  2022-06-06 07:17:37\n",
      "\n",
      "==> End of  compareMatricesQAP  at  2022-06-06 07:18:08\n",
      "\n",
      "====> grp_6mos_by_month - 2008-05-22 ( 6mos ) - before: grp_6mos_by_month_2008-05-22_pre-20220604-134315.tab; after: grp_6mos_by_month_2008-05-22_post-20220604-134421.tab @ 2022-06-06 07:18:08\n",
      "\n",
      "Warning message in sna::gtrans(myNetworkStatnet, mode = \"graph\"):\n",
      "“gtrans called with use.adjacency=TRUE, but your data looks too large for that to work well.  Overriding to edgelist method.”\n",
      "Warning message in sna::gtrans(myNetworkStatnet, mode = \"graph\"):\n",
      "“gtrans called with use.adjacency=TRUE, but your data looks too large for that to work well.  Overriding to edgelist method.”\n",
      "==> Start of  compareMatricesQAP  at  2022-06-06 07:20:53\n",
      "\n",
      "==> End of  compareMatricesQAP  at  2022-06-06 07:21:24\n",
      "\n",
      "====> grp_6mos_by_month - 2008-06-22 ( 6mos ) - before: grp_6mos_by_month_2008-06-22_pre-20220604-134526.tab; after: grp_6mos_by_month_2008-06-22_post-20220604-134635.tab @ 2022-06-06 07:21:24\n",
      "\n",
      "Warning message in sna::gtrans(myNetworkStatnet, mode = \"graph\"):\n",
      "“gtrans called with use.adjacency=TRUE, but your data looks too large for that to work well.  Overriding to edgelist method.”\n",
      "Warning message in sna::gtrans(myNetworkStatnet, mode = \"graph\"):\n",
      "“gtrans called with use.adjacency=TRUE, but your data looks too large for that to work well.  Overriding to edgelist method.”\n",
      "==> Start of  compareMatricesQAP  at  2022-06-06 07:23:59\n",
      "\n",
      "==> End of  compareMatricesQAP  at  2022-06-06 07:24:28\n",
      "\n",
      "====> grp_6mos_by_month - 2008-07-23 ( 6mos ) - before: grp_6mos_by_month_2008-07-23_pre-20220604-134742.tab; after: grp_6mos_by_month_2008-07-23_post-20220604-134850.tab @ 2022-06-06 07:24:28\n",
      "\n",
      "Warning message in sna::gtrans(myNetworkStatnet, mode = \"graph\"):\n",
      "“gtrans called with use.adjacency=TRUE, but your data looks too large for that to work well.  Overriding to edgelist method.”\n",
      "Warning message in sna::gtrans(myNetworkStatnet, mode = \"graph\"):\n",
      "“gtrans called with use.adjacency=TRUE, but your data looks too large for that to work well.  Overriding to edgelist method.”\n",
      "==> Start of  compareMatricesQAP  at  2022-06-06 07:26:33\n",
      "\n",
      "==> End of  compareMatricesQAP  at  2022-06-06 07:27:02\n",
      "\n",
      "====> grp_6mos_by_month - 2008-08-23 ( 6mos ) - before: grp_6mos_by_month_2008-08-23_pre-20220604-134954.tab; after: grp_6mos_by_month_2008-08-23_post-20220604-135057.tab @ 2022-06-06 07:27:02\n",
      "\n",
      "Warning message in sna::gtrans(myNetworkStatnet, mode = \"graph\"):\n",
      "“gtrans called with use.adjacency=TRUE, but your data looks too large for that to work well.  Overriding to edgelist method.”\n",
      "Warning message in sna::gtrans(myNetworkStatnet, mode = \"graph\"):\n",
      "“gtrans called with use.adjacency=TRUE, but your data looks too large for that to work well.  Overriding to edgelist method.”\n",
      "==> Start of  compareMatricesQAP  at  2022-06-06 07:29:08\n",
      "\n",
      "==> End of  compareMatricesQAP  at  2022-06-06 07:29:36\n",
      "\n",
      "====> grp_6mos_by_month - 2008-09-23 ( 6mos ) - before: grp_6mos_by_month_2008-09-23_pre-20220604-135158.tab; after: grp_6mos_by_month_2008-09-23_post-20220604-135300.tab @ 2022-06-06 07:29:36\n",
      "\n",
      "Warning message in sna::gtrans(myNetworkStatnet, mode = \"graph\"):\n",
      "“gtrans called with use.adjacency=TRUE, but your data looks too large for that to work well.  Overriding to edgelist method.”\n",
      "Warning message in sna::gtrans(myNetworkStatnet, mode = \"graph\"):\n",
      "“gtrans called with use.adjacency=TRUE, but your data looks too large for that to work well.  Overriding to edgelist method.”\n",
      "==> Start of  compareMatricesQAP  at  2022-06-06 07:31:48\n",
      "\n",
      "==> End of  compareMatricesQAP  at  2022-06-06 07:32:16\n",
      "\n",
      "====> grp_6mos_by_month - 2008-10-24 ( 6mos ) - before: grp_6mos_by_month_2008-10-24_pre-20220604-135401.tab; after: grp_6mos_by_month_2008-10-24_post-20220604-135504.tab @ 2022-06-06 07:32:16\n",
      "\n",
      "Warning message in sna::gtrans(myNetworkStatnet, mode = \"graph\"):\n",
      "“gtrans called with use.adjacency=TRUE, but your data looks too large for that to work well.  Overriding to edgelist method.”\n",
      "Warning message in sna::gtrans(myNetworkStatnet, mode = \"graph\"):\n",
      "“gtrans called with use.adjacency=TRUE, but your data looks too large for that to work well.  Overriding to edgelist method.”\n",
      "==> Start of  compareMatricesQAP  at  2022-06-06 07:34:44\n",
      "\n",
      "==> End of  compareMatricesQAP  at  2022-06-06 07:35:13\n",
      "\n",
      "====> grp_6mos_by_month - 2008-11-24 ( 6mos ) - before: grp_6mos_by_month_2008-11-24_pre-20220604-135605.tab; after: grp_6mos_by_month_2008-11-24_post-20220604-135707.tab @ 2022-06-06 07:35:13\n",
      "\n",
      "Warning message in sna::gtrans(myNetworkStatnet, mode = \"graph\"):\n",
      "“gtrans called with use.adjacency=TRUE, but your data looks too large for that to work well.  Overriding to edgelist method.”\n",
      "Warning message in sna::gtrans(myNetworkStatnet, mode = \"graph\"):\n",
      "“gtrans called with use.adjacency=TRUE, but your data looks too large for that to work well.  Overriding to edgelist method.”\n",
      "==> Start of  compareMatricesQAP  at  2022-06-06 07:37:42\n",
      "\n",
      "==> End of  compareMatricesQAP  at  2022-06-06 07:38:10\n",
      "\n",
      "====> grp_6mos_by_month - 2008-12-25 ( 6mos ) - before: grp_6mos_by_month_2008-12-25_pre-20220604-135809.tab; after: grp_6mos_by_month_2008-12-25_post-20220604-135915.tab @ 2022-06-06 07:38:10\n",
      "\n",
      "Warning message in sna::gtrans(myNetworkStatnet, mode = \"graph\"):\n",
      "“gtrans called with use.adjacency=TRUE, but your data looks too large for that to work well.  Overriding to edgelist method.”\n",
      "Warning message in sna::gtrans(myNetworkStatnet, mode = \"graph\"):\n",
      "“gtrans called with use.adjacency=TRUE, but your data looks too large for that to work well.  Overriding to edgelist method.”\n",
      "==> Start of  compareMatricesQAP  at  2022-06-06 07:40:34\n",
      "\n",
      "==> End of  compareMatricesQAP  at  2022-06-06 07:41:01\n",
      "\n",
      "====> grp_6mos_by_month - 2009-01-25 ( 6mos ) - before: grp_6mos_by_month_2009-01-25_pre-20220604-140021.tab; after: grp_6mos_by_month_2009-01-25_post-20220604-140120.tab @ 2022-06-06 07:41:01\n",
      "\n",
      "Warning message in sna::gtrans(myNetworkStatnet, mode = \"graph\"):\n",
      "“gtrans called with use.adjacency=TRUE, but your data looks too large for that to work well.  Overriding to edgelist method.”\n",
      "Warning message in sna::gtrans(myNetworkStatnet, mode = \"graph\"):\n",
      "“gtrans called with use.adjacency=TRUE, but your data looks too large for that to work well.  Overriding to edgelist method.”\n",
      "==> Start of  compareMatricesQAP  at  2022-06-06 07:42:57\n",
      "\n",
      "==> End of  compareMatricesQAP  at  2022-06-06 07:43:24\n",
      "\n",
      "====> grp_6mos_by_month - 2009-02-25 ( 6mos ) - before: grp_6mos_by_month_2009-02-25_pre-20220604-140219.tab; after: grp_6mos_by_month_2009-02-25_post-20220604-140318.tab @ 2022-06-06 07:43:24\n",
      "\n",
      "Warning message in sna::gtrans(myNetworkStatnet, mode = \"graph\"):\n",
      "“gtrans called with use.adjacency=TRUE, but your data looks too large for that to work well.  Overriding to edgelist method.”\n",
      "Warning message in sna::gtrans(myNetworkStatnet, mode = \"graph\"):\n",
      "“gtrans called with use.adjacency=TRUE, but your data looks too large for that to work well.  Overriding to edgelist method.”\n",
      "==> Start of  compareMatricesQAP  at  2022-06-06 07:45:27\n",
      "\n",
      "==> End of  compareMatricesQAP  at  2022-06-06 07:45:54\n",
      "\n",
      "====> grp_6mos_by_month - 2009-03-28 ( 6mos ) - before: grp_6mos_by_month_2009-03-28_pre-20220604-140420.tab; after: grp_6mos_by_month_2009-03-28_post-20220604-140520.tab @ 2022-06-06 07:45:54\n",
      "\n",
      "Warning message in sna::gtrans(myNetworkStatnet, mode = \"graph\"):\n",
      "“gtrans called with use.adjacency=TRUE, but your data looks too large for that to work well.  Overriding to edgelist method.”\n",
      "Warning message in sna::gtrans(myNetworkStatnet, mode = \"graph\"):\n",
      "“gtrans called with use.adjacency=TRUE, but your data looks too large for that to work well.  Overriding to edgelist method.”\n",
      "==> Start of  compareMatricesQAP  at  2022-06-06 07:48:14\n",
      "\n",
      "==> End of  compareMatricesQAP  at  2022-06-06 07:48:40\n",
      "\n",
      "====> grp_6mos_by_month - 2009-04-28 ( 6mos ) - before: grp_6mos_by_month_2009-04-28_pre-20220604-140621.tab; after: grp_6mos_by_month_2009-04-28_post-20220604-140722.tab @ 2022-06-06 07:48:40\n",
      "\n",
      "Warning message in sna::gtrans(myNetworkStatnet, mode = \"graph\"):\n",
      "“gtrans called with use.adjacency=TRUE, but your data looks too large for that to work well.  Overriding to edgelist method.”\n",
      "Warning message in sna::gtrans(myNetworkStatnet, mode = \"graph\"):\n",
      "“gtrans called with use.adjacency=TRUE, but your data looks too large for that to work well.  Overriding to edgelist method.”\n",
      "==> Start of  compareMatricesQAP  at  2022-06-06 07:51:07\n",
      "\n",
      "==> End of  compareMatricesQAP  at  2022-06-06 07:51:35\n",
      "\n",
      "====> grp_6mos_by_month - 2009-05-29 ( 6mos ) - before: grp_6mos_by_month_2009-05-29_pre-20220604-140826.tab; after: grp_6mos_by_month_2009-05-29_post-20220604-140928.tab @ 2022-06-06 07:51:35\n",
      "\n",
      "Warning message in sna::gtrans(myNetworkStatnet, mode = \"graph\"):\n",
      "“gtrans called with use.adjacency=TRUE, but your data looks too large for that to work well.  Overriding to edgelist method.”\n",
      "Warning message in sna::gtrans(myNetworkStatnet, mode = \"graph\"):\n",
      "“gtrans called with use.adjacency=TRUE, but your data looks too large for that to work well.  Overriding to edgelist method.”\n",
      "==> Start of  compareMatricesQAP  at  2022-06-06 07:53:57\n",
      "\n",
      "==> End of  compareMatricesQAP  at  2022-06-06 07:54:25\n",
      "\n",
      "====> grp_6mos_by_month - 2009-06-29 ( 6mos ) - before: grp_6mos_by_month_2009-06-29_pre-20220604-141033.tab; after: grp_6mos_by_month_2009-06-29_post-20220604-141135.tab @ 2022-06-06 07:54:25\n",
      "\n",
      "Warning message in sna::gtrans(myNetworkStatnet, mode = \"graph\"):\n",
      "“gtrans called with use.adjacency=TRUE, but your data looks too large for that to work well.  Overriding to edgelist method.”\n",
      "Warning message in sna::gtrans(myNetworkStatnet, mode = \"graph\"):\n",
      "“gtrans called with use.adjacency=TRUE, but your data looks too large for that to work well.  Overriding to edgelist method.”\n",
      "==> Start of  compareMatricesQAP  at  2022-06-06 07:56:33\n",
      "\n",
      "==> End of  compareMatricesQAP  at  2022-06-06 07:57:01\n",
      "\n",
      "====> grp_6mos_by_month - 2009-07-30 ( 6mos ) - before: grp_6mos_by_month_2009-07-30_pre-20220604-141239.tab; after: grp_6mos_by_month_2009-07-30_post-20220604-141342.tab @ 2022-06-06 07:57:01\n",
      "\n",
      "Warning message in sna::gtrans(myNetworkStatnet, mode = \"graph\"):\n",
      "“gtrans called with use.adjacency=TRUE, but your data looks too large for that to work well.  Overriding to edgelist method.”\n",
      "Warning message in sna::gtrans(myNetworkStatnet, mode = \"graph\"):\n",
      "“gtrans called with use.adjacency=TRUE, but your data looks too large for that to work well.  Overriding to edgelist method.”\n",
      "==> Start of  compareMatricesQAP  at  2022-06-06 07:59:19\n",
      "\n",
      "==> End of  compareMatricesQAP  at  2022-06-06 07:59:48\n",
      "\n",
      "====> grp_6mos_by_month - 2009-08-30 ( 6mos ) - before: grp_6mos_by_month_2009-08-30_pre-20220604-141447.tab; after: grp_6mos_by_month_2009-08-30_post-20220604-141552.tab @ 2022-06-06 07:59:48\n",
      "\n",
      "Warning message in sna::gtrans(myNetworkStatnet, mode = \"graph\"):\n",
      "“gtrans called with use.adjacency=TRUE, but your data looks too large for that to work well.  Overriding to edgelist method.”\n",
      "Warning message in sna::gtrans(myNetworkStatnet, mode = \"graph\"):\n",
      "“gtrans called with use.adjacency=TRUE, but your data looks too large for that to work well.  Overriding to edgelist method.”\n",
      "==> Start of  compareMatricesQAP  at  2022-06-06 08:02:17\n",
      "\n",
      "==> End of  compareMatricesQAP  at  2022-06-06 08:02:46\n",
      "\n",
      "====> grp_6mos_by_month - 2009-09-30 ( 6mos ) - before: grp_6mos_by_month_2009-09-30_pre-20220604-141700.tab; after: grp_6mos_by_month_2009-09-30_post-20220604-141809.tab @ 2022-06-06 08:02:46\n",
      "\n",
      "Warning message in sna::gtrans(myNetworkStatnet, mode = \"graph\"):\n",
      "“gtrans called with use.adjacency=TRUE, but your data looks too large for that to work well.  Overriding to edgelist method.”\n",
      "Warning message in sna::gtrans(myNetworkStatnet, mode = \"graph\"):\n",
      "“gtrans called with use.adjacency=TRUE, but your data looks too large for that to work well.  Overriding to edgelist method.”\n",
      "==> Start of  compareMatricesQAP  at  2022-06-06 08:05:13\n",
      "\n",
      "==> End of  compareMatricesQAP  at  2022-06-06 08:05:41\n",
      "\n",
      "====> grp_6mos_by_month - 2009-10-31 ( 6mos ) - before: grp_6mos_by_month_2009-10-31_pre-20220604-141919.tab; after: grp_6mos_by_month_2009-10-31_post-20220604-142029.tab @ 2022-06-06 08:05:41\n",
      "\n",
      "Warning message in sna::gtrans(myNetworkStatnet, mode = \"graph\"):\n",
      "“gtrans called with use.adjacency=TRUE, but your data looks too large for that to work well.  Overriding to edgelist method.”\n",
      "Warning message in sna::gtrans(myNetworkStatnet, mode = \"graph\"):\n",
      "“gtrans called with use.adjacency=TRUE, but your data looks too large for that to work well.  Overriding to edgelist method.”\n",
      "==> Start of  compareMatricesQAP  at  2022-06-06 08:08:06\n",
      "\n",
      "==> End of  compareMatricesQAP  at  2022-06-06 08:08:34\n",
      "\n",
      "====> grp_6mos_by_month - 2009-12-01 ( 6mos ) - before: grp_6mos_by_month_2009-12-01_pre-20220604-142137.tab; after: grp_6mos_by_month_2009-12-01_post-20220604-142240.tab @ 2022-06-06 08:08:34\n",
      "\n",
      "Warning message in sna::gtrans(myNetworkStatnet, mode = \"graph\"):\n",
      "“gtrans called with use.adjacency=TRUE, but your data looks too large for that to work well.  Overriding to edgelist method.”\n",
      "Warning message in sna::gtrans(myNetworkStatnet, mode = \"graph\"):\n",
      "“gtrans called with use.adjacency=TRUE, but your data looks too large for that to work well.  Overriding to edgelist method.”\n",
      "==> Start of  compareMatricesQAP  at  2022-06-06 08:10:25\n",
      "\n",
      "==> End of  compareMatricesQAP  at  2022-06-06 08:10:52\n",
      "\n",
      "====> grp_6mos_by_month - 2010-01-01 ( 6mos ) - before: grp_6mos_by_month_2010-01-01_pre-20220604-142343.tab; after: grp_6mos_by_month_2010-01-01_post-20220604-142446.tab @ 2022-06-06 08:10:52\n",
      "\n",
      "Warning message in sna::gtrans(myNetworkStatnet, mode = \"graph\"):\n",
      "“gtrans called with use.adjacency=TRUE, but your data looks too large for that to work well.  Overriding to edgelist method.”\n",
      "Warning message in sna::gtrans(myNetworkStatnet, mode = \"graph\"):\n",
      "“gtrans called with use.adjacency=TRUE, but your data looks too large for that to work well.  Overriding to edgelist method.”\n",
      "==> Start of  compareMatricesQAP  at  2022-06-06 08:12:49\n",
      "\n",
      "==> End of  compareMatricesQAP  at  2022-06-06 08:13:16\n",
      "\n",
      "====> grp_6mos_by_month - 2010-02-01 ( 6mos ) - before: grp_6mos_by_month_2010-02-01_pre-20220604-142549.tab; after: grp_6mos_by_month_2010-02-01_post-20220604-142653.tab @ 2022-06-06 08:13:17\n",
      "\n",
      "Warning message in sna::gtrans(myNetworkStatnet, mode = \"graph\"):\n",
      "“gtrans called with use.adjacency=TRUE, but your data looks too large for that to work well.  Overriding to edgelist method.”\n",
      "Warning message in sna::gtrans(myNetworkStatnet, mode = \"graph\"):\n",
      "“gtrans called with use.adjacency=TRUE, but your data looks too large for that to work well.  Overriding to edgelist method.”\n",
      "==> Start of  compareMatricesQAP  at  2022-06-06 08:15:38\n",
      "\n",
      "==> End of  compareMatricesQAP  at  2022-06-06 08:16:05\n",
      "\n",
      "====> grp_6mos_by_month - 2010-03-04 ( 6mos ) - before: grp_6mos_by_month_2010-03-04_pre-20220604-142755.tab; after: grp_6mos_by_month_2010-03-04_post-20220604-142858.tab @ 2022-06-06 08:16:05\n",
      "\n",
      "Warning message in sna::gtrans(myNetworkStatnet, mode = \"graph\"):\n",
      "“gtrans called with use.adjacency=TRUE, but your data looks too large for that to work well.  Overriding to edgelist method.”\n",
      "Warning message in sna::gtrans(myNetworkStatnet, mode = \"graph\"):\n",
      "“gtrans called with use.adjacency=TRUE, but your data looks too large for that to work well.  Overriding to edgelist method.”\n",
      "==> Start of  compareMatricesQAP  at  2022-06-06 08:18:16\n",
      "\n",
      "==> End of  compareMatricesQAP  at  2022-06-06 08:18:43\n",
      "\n",
      "====> grp_6mos_by_month - 2010-04-04 ( 6mos ) - before: grp_6mos_by_month_2010-04-04_pre-20220604-143001.tab; after: grp_6mos_by_month_2010-04-04_post-20220604-143107.tab @ 2022-06-06 08:18:43\n",
      "\n",
      "Warning message in sna::gtrans(myNetworkStatnet, mode = \"graph\"):\n",
      "“gtrans called with use.adjacency=TRUE, but your data looks too large for that to work well.  Overriding to edgelist method.”\n",
      "Warning message in sna::gtrans(myNetworkStatnet, mode = \"graph\"):\n",
      "“gtrans called with use.adjacency=TRUE, but your data looks too large for that to work well.  Overriding to edgelist method.”\n",
      "==> Start of  compareMatricesQAP  at  2022-06-06 08:20:53\n",
      "\n",
      "==> End of  compareMatricesQAP  at  2022-06-06 08:21:20\n",
      "\n",
      "====> grp_6mos_by_month - 2010-05-05 ( 6mos ) - before: grp_6mos_by_month_2010-05-05_pre-20220604-143216.tab; after: grp_6mos_by_month_2010-05-05_post-20220604-143320.tab @ 2022-06-06 08:21:20\n",
      "\n",
      "Warning message in sna::gtrans(myNetworkStatnet, mode = \"graph\"):\n",
      "“gtrans called with use.adjacency=TRUE, but your data looks too large for that to work well.  Overriding to edgelist method.”\n",
      "Warning message in sna::gtrans(myNetworkStatnet, mode = \"graph\"):\n",
      "“gtrans called with use.adjacency=TRUE, but your data looks too large for that to work well.  Overriding to edgelist method.”\n",
      "==> Start of  compareMatricesQAP  at  2022-06-06 08:23:25\n",
      "\n",
      "==> End of  compareMatricesQAP  at  2022-06-06 08:23:50\n",
      "\n"
     ]
    }
   ],
   "source": [
    "# loop over data files\n",
    "for( i in 1 : nrow( dataFileDF ) ) {\n",
    "\n",
    "    # get current row\n",
    "    dataFileRow <- dataFileDF[ i, ]\n",
    "    \n",
    "    # retrieve fields\n",
    "    myBeforeFile <- dataFileRow$beforeFile\n",
    "    myAfterFile <- dataFileRow$afterFile\n",
    "    myBaseDate <- dataFileRow$baseDate\n",
    "    myNetworkDuration <- dataFileRow$networkDuration\n",
    "    myLabel <- dataFileRow$label\n",
    "    \n",
    "    message(\n",
    "        paste(\n",
    "            \"====> \",\n",
    "            myLabel,\n",
    "            \" - \",\n",
    "            myBaseDate,\n",
    "            \" ( \",\n",
    "            myNetworkDuration,\n",
    "            \" ) - before: \",\n",
    "            myBeforeFile,\n",
    "            \"; after: \",\n",
    "            myAfterFile,\n",
    "            \" @ \",\n",
    "            Sys.time(),\n",
    "            sep = \"\"\n",
    "        )\n",
    "    )\n",
    "\n",
    "    # process and compare the before and after networks.\n",
    "    pairwiseComparison <- processBeforeAfterNetworks(\n",
    "        beforeDataDirectoryIN = data_directory,\n",
    "        beforeFileIN = myBeforeFile,\n",
    "        afterDataDirectoryIN = data_directory,\n",
    "        afterFileIN = myAfterFile,\n",
    "        dateIN = myBaseDate,\n",
    "        networkDurationIN = myNetworkDuration,\n",
    "        labelIN = myLabel,\n",
    "        debugFlagIN = FALSE\n",
    "    )\n",
    "\n",
    "    # add them to the output data.frame.\n",
    "    if ( is.null( pairwiseComparisonDF ) == TRUE ){\n",
    "\n",
    "        # make a new data.frame with first row encountered.\n",
    "        pairwiseComparisonDF <- data.frame( pairwiseComparison )\n",
    "    \n",
    "    } else {\n",
    "    \n",
    "        # update data.frame to include latest row.\n",
    "        pairwiseComparisonDF <- rbind( pairwiseComparisonDF, pairwiseComparison )\n",
    "\n",
    "    } #-- END check if output data.frame is NULL --#\n",
    "\n",
    "}"
   ]
  },
  {
   "cell_type": "code",
   "execution_count": 19,
   "id": "a72e0e74-cf41-4073-a216-9f6dc331d90d",
   "metadata": {
    "tags": []
   },
   "outputs": [
    {
     "data": {
      "text/html": [
       "58"
      ],
      "text/latex": [
       "58"
      ],
      "text/markdown": [
       "58"
      ],
      "text/plain": [
       "[1] 58"
      ]
     },
     "metadata": {},
     "output_type": "display_data"
    }
   ],
   "source": [
    "nrow( pairwiseComparisonDF )"
   ]
  },
  {
   "cell_type": "code",
   "execution_count": 15,
   "id": "3c4d9149-a83a-42c8-b4bf-23c0a0c1f505",
   "metadata": {
    "scrolled": true,
    "tags": []
   },
   "outputs": [
    {
     "data": {
      "text/html": [
       "<table class=\"dataframe\">\n",
       "<caption>A data.frame: 58 × 51</caption>\n",
       "<thead>\n",
       "\t<tr><th scope=col>baseDate</th><th scope=col>networkDuration</th><th scope=col>label</th><th scope=col>beforeAuthorCount2And4</th><th scope=col>beforeAuthorCountOnly2</th><th scope=col>beforeBetweennessCentrality</th><th scope=col>beforeConnectedness</th><th scope=col>beforeColumnCount</th><th scope=col>beforeDataFileName</th><th scope=col>beforeDataPath</th><th scope=col>⋯</th><th scope=col>afterRowCount</th><th scope=col>afterSourceCount3And4</th><th scope=col>afterSourceCountOnly3</th><th scope=col>afterTransitivity</th><th scope=col>graphCorrelation</th><th scope=col>graphCovariance</th><th scope=col>graphHammingDistance</th><th scope=col>binGraphCorrelation</th><th scope=col>binGraphCovariance</th><th scope=col>binGraphHammingDistance</th></tr>\n",
       "\t<tr><th scope=col>&lt;date&gt;</th><th scope=col>&lt;chr&gt;</th><th scope=col>&lt;chr&gt;</th><th scope=col>&lt;int&gt;</th><th scope=col>&lt;int&gt;</th><th scope=col>&lt;dbl&gt;</th><th scope=col>&lt;dbl&gt;</th><th scope=col>&lt;int&gt;</th><th scope=col>&lt;chr&gt;</th><th scope=col>&lt;chr&gt;</th><th scope=col>⋯</th><th scope=col>&lt;int&gt;</th><th scope=col>&lt;int&gt;</th><th scope=col>&lt;int&gt;</th><th scope=col>&lt;dbl&gt;</th><th scope=col>&lt;dbl&gt;</th><th scope=col>&lt;dbl&gt;</th><th scope=col>&lt;int&gt;</th><th scope=col>&lt;dbl&gt;</th><th scope=col>&lt;dbl&gt;</th><th scope=col>&lt;dbl&gt;</th></tr>\n",
       "</thead>\n",
       "<tbody>\n",
       "\t<tr><td>2005-07-03</td><td>6mos</td><td>grp_6mos_by_month</td><td>159</td><td>151</td><td>0.03663406</td><td>0.2940678</td><td>13775</td><td>grp_6mos_by_month_2005-07-03_pre-20220604-115739.tab</td><td>/home/jonathanmorgan/shares/phd_work/network_data/grp_6mos_by_month/grp_6mos_by_month_2005-07-03_pre-20220604-115739.tab</td><td>⋯</td><td>13773</td><td>7601</td><td>7593</td><td>0.003357679</td><td>0.4569920</td><td>1.899087e-04</td><td>45358</td><td>0.11059698</td><td>1.109275e-05</td><td>33842</td></tr>\n",
       "\t<tr><td>2005-08-03</td><td>6mos</td><td>grp_6mos_by_month</td><td>160</td><td>152</td><td>0.03495803</td><td>0.3091478</td><td>13827</td><td>grp_6mos_by_month_2005-08-03_pre-20220604-120117.tab</td><td>/home/jonathanmorgan/shares/phd_work/network_data/grp_6mos_by_month/grp_6mos_by_month_2005-08-03_pre-20220604-120117.tab</td><td>⋯</td><td>13825</td><td>7461</td><td>7451</td><td>0.003507436</td><td>0.4503089</td><td>1.908685e-04</td><td>45772</td><td>0.11349380</td><td>1.135477e-05</td><td>33904</td></tr>\n",
       "\t<tr><td>2005-09-03</td><td>6mos</td><td>grp_6mos_by_month</td><td>158</td><td>146</td><td>0.03780139</td><td>0.3277417</td><td>13878</td><td>grp_6mos_by_month_2005-09-03_pre-20220604-120452.tab</td><td>/home/jonathanmorgan/shares/phd_work/network_data/grp_6mos_by_month/grp_6mos_by_month_2005-09-03_pre-20220604-120452.tab</td><td>⋯</td><td>13876</td><td>7288</td><td>7281</td><td>0.003824530</td><td>0.4207205</td><td>1.788617e-04</td><td>46714</td><td>0.10745234</td><td>1.068976e-05</td><td>34214</td></tr>\n",
       "\t<tr><td>2005-10-04</td><td>6mos</td><td>grp_6mos_by_month</td><td>158</td><td>148</td><td>0.03969569</td><td>0.3325601</td><td>13713</td><td>grp_6mos_by_month_2005-10-04_pre-20220604-120827.tab</td><td>/home/jonathanmorgan/shares/phd_work/network_data/grp_6mos_by_month/grp_6mos_by_month_2005-10-04_pre-20220604-120827.tab</td><td>⋯</td><td>13711</td><td>7126</td><td>7118</td><td>0.003878929</td><td>0.4142370</td><td>1.762767e-04</td><td>46238</td><td>0.11130250</td><td>1.124644e-05</td><td>33802</td></tr>\n",
       "\t<tr><td>2005-11-04</td><td>6mos</td><td>grp_6mos_by_month</td><td>161</td><td>149</td><td>0.03528556</td><td>0.3409169</td><td>13501</td><td>grp_6mos_by_month_2005-11-04_pre-20220604-121212.tab</td><td>/home/jonathanmorgan/shares/phd_work/network_data/grp_6mos_by_month/grp_6mos_by_month_2005-11-04_pre-20220604-121212.tab</td><td>⋯</td><td>13499</td><td>6967</td><td>6960</td><td>0.003454774</td><td>0.4170922</td><td>1.805838e-04</td><td>45900</td><td>0.10786637</td><td>1.106464e-05</td><td>33416</td></tr>\n",
       "\t<tr><td>2005-12-05</td><td>6mos</td><td>grp_6mos_by_month</td><td>166</td><td>155</td><td>0.03338141</td><td>0.3385650</td><td>13438</td><td>grp_6mos_by_month_2005-12-05_pre-20220604-121603.tab</td><td>/home/jonathanmorgan/shares/phd_work/network_data/grp_6mos_by_month/grp_6mos_by_month_2005-12-05_pre-20220604-121603.tab</td><td>⋯</td><td>13436</td><td>6899</td><td>6892</td><td>0.003483997</td><td>0.4107850</td><td>1.741603e-04</td><td>45370</td><td>0.10847303</td><td>1.114655e-05</td><td>33142</td></tr>\n",
       "\t<tr><td>2006-01-05</td><td>6mos</td><td>grp_6mos_by_month</td><td>166</td><td>158</td><td>0.03253381</td><td>0.3256306</td><td>13222</td><td>grp_6mos_by_month_2006-01-05_pre-20220604-121948.tab</td><td>/home/jonathanmorgan/shares/phd_work/network_data/grp_6mos_by_month/grp_6mos_by_month_2006-01-05_pre-20220604-121948.tab</td><td>⋯</td><td>13220</td><td>6919</td><td>6911</td><td>0.003653799</td><td>0.4245886</td><td>1.861005e-04</td><td>45090</td><td>0.10936852</td><td>1.143365e-05</td><td>32574</td></tr>\n",
       "\t<tr><td>2006-02-05</td><td>6mos</td><td>grp_6mos_by_month</td><td>169</td><td>159</td><td>0.04372529</td><td>0.3202009</td><td>13095</td><td>grp_6mos_by_month_2006-02-05_pre-20220604-122317.tab</td><td>/home/jonathanmorgan/shares/phd_work/network_data/grp_6mos_by_month/grp_6mos_by_month_2006-02-05_pre-20220604-122317.tab</td><td>⋯</td><td>13093</td><td>6893</td><td>6887</td><td>0.003951183</td><td>0.4016676</td><td>1.752257e-04</td><td>44780</td><td>0.10815866</td><td>1.139989e-05</td><td>32250</td></tr>\n",
       "\t<tr><td>2006-03-08</td><td>6mos</td><td>grp_6mos_by_month</td><td>166</td><td>160</td><td>0.05020973</td><td>0.3193609</td><td>12891</td><td>grp_6mos_by_month_2006-03-08_pre-20220604-122637.tab</td><td>/home/jonathanmorgan/shares/phd_work/network_data/grp_6mos_by_month/grp_6mos_by_month_2006-03-08_pre-20220604-122637.tab</td><td>⋯</td><td>12889</td><td>6764</td><td>6758</td><td>0.003888655</td><td>0.3701014</td><td>1.646830e-04</td><td>44578</td><td>0.10492004</td><td>1.114975e-05</td><td>31640</td></tr>\n",
       "\t<tr><td>2006-04-08</td><td>6mos</td><td>grp_6mos_by_month</td><td>160</td><td>152</td><td>0.03908107</td><td>0.3049751</td><td>12842</td><td>grp_6mos_by_month_2006-04-08_pre-20220604-122958.tab</td><td>/home/jonathanmorgan/shares/phd_work/network_data/grp_6mos_by_month/grp_6mos_by_month_2006-04-08_pre-20220604-122958.tab</td><td>⋯</td><td>12840</td><td>6878</td><td>6874</td><td>0.003655398</td><td>0.3436342</td><td>1.487270e-04</td><td>44710</td><td>0.09902329</td><td>1.053143e-05</td><td>31606</td></tr>\n",
       "\t<tr><td>2006-05-09</td><td>6mos</td><td>grp_6mos_by_month</td><td>162</td><td>155</td><td>0.03462691</td><td>0.2963780</td><td>12812</td><td>grp_6mos_by_month_2006-05-09_pre-20220604-123316.tab</td><td>/home/jonathanmorgan/shares/phd_work/network_data/grp_6mos_by_month/grp_6mos_by_month_2006-05-09_pre-20220604-123316.tab</td><td>⋯</td><td>12810</td><td>6931</td><td>6928</td><td>0.004084478</td><td>0.3254412</td><td>1.427083e-04</td><td>44804</td><td>0.09817331</td><td>1.044678e-05</td><td>31494</td></tr>\n",
       "\t<tr><td>2006-06-09</td><td>6mos</td><td>grp_6mos_by_month</td><td>160</td><td>153</td><td>0.04242751</td><td>0.2958635</td><td>12711</td><td>grp_6mos_by_month_2006-06-09_pre-20220604-123643.tab</td><td>/home/jonathanmorgan/shares/phd_work/network_data/grp_6mos_by_month/grp_6mos_by_month_2006-06-09_pre-20220604-123643.tab</td><td>⋯</td><td>12709</td><td>6915</td><td>6911</td><td>0.004145107</td><td>0.3380814</td><td>1.467811e-04</td><td>44488</td><td>0.09920263</td><td>1.068769e-05</td><td>31348</td></tr>\n",
       "\t<tr><td>2006-07-10</td><td>6mos</td><td>grp_6mos_by_month</td><td>165</td><td>157</td><td>0.03583794</td><td>0.2966170</td><td>12682</td><td>grp_6mos_by_month_2006-07-10_pre-20220604-123955.tab</td><td>/home/jonathanmorgan/shares/phd_work/network_data/grp_6mos_by_month/grp_6mos_by_month_2006-07-10_pre-20220604-123955.tab</td><td>⋯</td><td>12680</td><td>6853</td><td>6848</td><td>0.004292772</td><td>0.3309831</td><td>1.416562e-04</td><td>44730</td><td>0.09409485</td><td>1.016437e-05</td><td>31466</td></tr>\n",
       "\t<tr><td>2006-08-10</td><td>6mos</td><td>grp_6mos_by_month</td><td>157</td><td>151</td><td>0.03375570</td><td>0.2932263</td><td>12648</td><td>grp_6mos_by_month_2006-08-10_pre-20220604-124308.tab</td><td>/home/jonathanmorgan/shares/phd_work/network_data/grp_6mos_by_month/grp_6mos_by_month_2006-08-10_pre-20220604-124308.tab</td><td>⋯</td><td>12646</td><td>6852</td><td>6843</td><td>0.003942385</td><td>0.3348347</td><td>1.374916e-04</td><td>44018</td><td>0.09530084</td><td>1.028173e-05</td><td>31216</td></tr>\n",
       "\t<tr><td>2006-09-10</td><td>6mos</td><td>grp_6mos_by_month</td><td>162</td><td>156</td><td>0.03785162</td><td>0.2902436</td><td>12531</td><td>grp_6mos_by_month_2006-09-10_pre-20220604-124636.tab</td><td>/home/jonathanmorgan/shares/phd_work/network_data/grp_6mos_by_month/grp_6mos_by_month_2006-09-10_pre-20220604-124636.tab</td><td>⋯</td><td>12529</td><td>6795</td><td>6783</td><td>0.004221112</td><td>0.3283877</td><td>1.319044e-04</td><td>43312</td><td>0.09435592</td><td>1.024538e-05</td><td>30872</td></tr>\n",
       "\t<tr><td>2006-10-11</td><td>6mos</td><td>grp_6mos_by_month</td><td>165</td><td>161</td><td>0.03756511</td><td>0.3034711</td><td>12518</td><td>grp_6mos_by_month_2006-10-11_pre-20220604-124959.tab</td><td>/home/jonathanmorgan/shares/phd_work/network_data/grp_6mos_by_month/grp_6mos_by_month_2006-10-11_pre-20220604-124959.tab</td><td>⋯</td><td>12516</td><td>6668</td><td>6656</td><td>0.004353011</td><td>0.3357301</td><td>1.345153e-04</td><td>43310</td><td>0.09301812</td><td>1.008797e-05</td><td>30816</td></tr>\n",
       "\t<tr><td>2006-11-11</td><td>6mos</td><td>grp_6mos_by_month</td><td>157</td><td>154</td><td>0.03014250</td><td>0.3040228</td><td>12581</td><td>grp_6mos_by_month_2006-11-11_pre-20220604-125318.tab</td><td>/home/jonathanmorgan/shares/phd_work/network_data/grp_6mos_by_month/grp_6mos_by_month_2006-11-11_pre-20220604-125318.tab</td><td>⋯</td><td>12579</td><td>6686</td><td>6673</td><td>0.004293225</td><td>0.3198402</td><td>1.280773e-04</td><td>43722</td><td>0.08629197</td><td>9.317201e-06</td><td>31222</td></tr>\n",
       "\t<tr><td>2006-12-12</td><td>6mos</td><td>grp_6mos_by_month</td><td>158</td><td>154</td><td>0.03377546</td><td>0.2974433</td><td>12624</td><td>grp_6mos_by_month_2006-12-12_pre-20220604-125624.tab</td><td>/home/jonathanmorgan/shares/phd_work/network_data/grp_6mos_by_month/grp_6mos_by_month_2006-12-12_pre-20220604-125624.tab</td><td>⋯</td><td>12622</td><td>6793</td><td>6783</td><td>0.003555865</td><td>0.3310035</td><td>1.240054e-04</td><td>42936</td><td>0.08840180</td><td>9.479889e-06</td><td>31148</td></tr>\n",
       "\t<tr><td>2007-01-12</td><td>6mos</td><td>grp_6mos_by_month</td><td>152</td><td>147</td><td>0.03460294</td><td>0.2930608</td><td>12670</td><td>grp_6mos_by_month_2007-01-12_pre-20220604-125935.tab</td><td>/home/jonathanmorgan/shares/phd_work/network_data/grp_6mos_by_month/grp_6mos_by_month_2007-01-12_pre-20220604-125935.tab</td><td>⋯</td><td>12668</td><td>6851</td><td>6837</td><td>0.003222667</td><td>0.3361268</td><td>1.226958e-04</td><td>42560</td><td>0.08642300</td><td>9.211799e-06</td><td>31254</td></tr>\n",
       "\t<tr><td>2007-02-12</td><td>6mos</td><td>grp_6mos_by_month</td><td>151</td><td>142</td><td>0.02938787</td><td>0.2974352</td><td>12527</td><td>grp_6mos_by_month_2007-02-12_pre-20220604-130252.tab</td><td>/home/jonathanmorgan/shares/phd_work/network_data/grp_6mos_by_month/grp_6mos_by_month_2007-02-12_pre-20220604-130252.tab</td><td>⋯</td><td>12525</td><td>6741</td><td>6730</td><td>0.003375865</td><td>0.3461457</td><td>1.283189e-04</td><td>41788</td><td>0.08663734</td><td>9.359556e-06</td><td>30960</td></tr>\n",
       "\t<tr><td>2007-03-15</td><td>6mos</td><td>grp_6mos_by_month</td><td>139</td><td>127</td><td>0.02837983</td><td>0.2876625</td><td>12682</td><td>grp_6mos_by_month_2007-03-15_pre-20220604-130605.tab</td><td>/home/jonathanmorgan/shares/phd_work/network_data/grp_6mos_by_month/grp_6mos_by_month_2007-03-15_pre-20220604-130605.tab</td><td>⋯</td><td>12680</td><td>6938</td><td>6929</td><td>0.003200182</td><td>0.3457508</td><td>1.244299e-04</td><td>42044</td><td>0.08486774</td><td>9.032661e-06</td><td>31318</td></tr>\n",
       "\t<tr><td>2007-04-15</td><td>6mos</td><td>grp_6mos_by_month</td><td>133</td><td>121</td><td>0.02703639</td><td>0.2892404</td><td>12402</td><td>grp_6mos_by_month_2007-04-15_pre-20220604-130914.tab</td><td>/home/jonathanmorgan/shares/phd_work/network_data/grp_6mos_by_month/grp_6mos_by_month_2007-04-15_pre-20220604-130914.tab</td><td>⋯</td><td>12400</td><td>6737</td><td>6729</td><td>0.003116848</td><td>0.3715273</td><td>1.337040e-04</td><td>40374</td><td>0.08683507</td><td>9.445224e-06</td><td>30544</td></tr>\n",
       "\t<tr><td>2007-05-16</td><td>6mos</td><td>grp_6mos_by_month</td><td>135</td><td>122</td><td>0.03231720</td><td>0.3010119</td><td>12250</td><td>grp_6mos_by_month_2007-05-16_pre-20220604-131210.tab</td><td>/home/jonathanmorgan/shares/phd_work/network_data/grp_6mos_by_month/grp_6mos_by_month_2007-05-16_pre-20220604-131210.tab</td><td>⋯</td><td>12248</td><td>6546</td><td>6538</td><td>0.003254004</td><td>0.3820299</td><td>1.369772e-04</td><td>39210</td><td>0.08855043</td><td>9.707897e-06</td><td>29986</td></tr>\n",
       "\t<tr><td>2007-06-16</td><td>6mos</td><td>grp_6mos_by_month</td><td>138</td><td>128</td><td>0.03451116</td><td>0.3082614</td><td>12215</td><td>grp_6mos_by_month_2007-06-16_pre-20220604-131501.tab</td><td>/home/jonathanmorgan/shares/phd_work/network_data/grp_6mos_by_month/grp_6mos_by_month_2007-06-16_pre-20220604-131501.tab</td><td>⋯</td><td>12213</td><td>6409</td><td>6400</td><td>0.003471728</td><td>0.3835978</td><td>1.298393e-04</td><td>38242</td><td>0.08749842</td><td>9.589371e-06</td><td>29846</td></tr>\n",
       "\t<tr><td>2007-07-17</td><td>6mos</td><td>grp_6mos_by_month</td><td>149</td><td>136</td><td>0.03788274</td><td>0.3193988</td><td>12064</td><td>grp_6mos_by_month_2007-07-17_pre-20220604-131750.tab</td><td>/home/jonathanmorgan/shares/phd_work/network_data/grp_6mos_by_month/grp_6mos_by_month_2007-07-17_pre-20220604-131750.tab</td><td>⋯</td><td>12062</td><td>6199</td><td>6195</td><td>0.003489948</td><td>0.3839633</td><td>1.243954e-04</td><td>36954</td><td>0.08982345</td><td>9.927308e-06</td><td>29304</td></tr>\n",
       "\t<tr><td>2007-08-17</td><td>6mos</td><td>grp_6mos_by_month</td><td>157</td><td>146</td><td>0.04028974</td><td>0.3254143</td><td>11880</td><td>grp_6mos_by_month_2007-08-17_pre-20220604-132033.tab</td><td>/home/jonathanmorgan/shares/phd_work/network_data/grp_6mos_by_month/grp_6mos_by_month_2007-08-17_pre-20220604-132033.tab</td><td>⋯</td><td>11878</td><td>6069</td><td>6065</td><td>0.003670053</td><td>0.3815980</td><td>1.247641e-04</td><td>35952</td><td>0.08743222</td><td>9.811964e-06</td><td>28940</td></tr>\n",
       "\t<tr><td>2007-09-17</td><td>6mos</td><td>grp_6mos_by_month</td><td>163</td><td>154</td><td>0.04296732</td><td>0.3425605</td><td>11825</td><td>grp_6mos_by_month_2007-09-17_pre-20220604-132313.tab</td><td>/home/jonathanmorgan/shares/phd_work/network_data/grp_6mos_by_month/grp_6mos_by_month_2007-09-17_pre-20220604-132313.tab</td><td>⋯</td><td>11823</td><td>5844</td><td>5841</td><td>0.003600441</td><td>0.3766045</td><td>1.174147e-04</td><td>35132</td><td>0.08495357</td><td>9.531557e-06</td><td>28802</td></tr>\n",
       "\t<tr><td>2007-10-18</td><td>6mos</td><td>grp_6mos_by_month</td><td>159</td><td>151</td><td>0.04485291</td><td>0.3319759</td><td>11651</td><td>grp_6mos_by_month_2007-10-18_pre-20220604-132557.tab</td><td>/home/jonathanmorgan/shares/phd_work/network_data/grp_6mos_by_month/grp_6mos_by_month_2007-10-18_pre-20220604-132557.tab</td><td>⋯</td><td>11649</td><td>5895</td><td>5891</td><td>0.003633643</td><td>0.3499878</td><td>1.044554e-04</td><td>34174</td><td>0.08827104</td><td>1.006897e-05</td><td>28280</td></tr>\n",
       "\t<tr><td>2007-11-18</td><td>6mos</td><td>grp_6mos_by_month</td><td>159</td><td>150</td><td>0.04076899</td><td>0.3213686</td><td>11526</td><td>grp_6mos_by_month_2007-11-18_pre-20220604-132843.tab</td><td>/home/jonathanmorgan/shares/phd_work/network_data/grp_6mos_by_month/grp_6mos_by_month_2007-11-18_pre-20220604-132843.tab</td><td>⋯</td><td>11524</td><td>5909</td><td>5906</td><td>0.003496365</td><td>0.3426789</td><td>9.828495e-05</td><td>33388</td><td>0.08545579</td><td>9.821787e-06</td><td>27956</td></tr>\n",
       "\t<tr><td>2007-12-19</td><td>6mos</td><td>grp_6mos_by_month</td><td>147</td><td>141</td><td>0.03431558</td><td>0.3178911</td><td>11337</td><td>grp_6mos_by_month_2007-12-19_pre-20220604-133126.tab</td><td>/home/jonathanmorgan/shares/phd_work/network_data/grp_6mos_by_month/grp_6mos_by_month_2007-12-19_pre-20220604-133126.tab</td><td>⋯</td><td>11335</td><td>5822</td><td>5820</td><td>0.003460084</td><td>0.3455961</td><td>1.011698e-04</td><td>32612</td><td>0.08742421</td><td>1.022987e-05</td><td>27472</td></tr>\n",
       "\t<tr><td>2008-01-19</td><td>6mos</td><td>grp_6mos_by_month</td><td>137</td><td>133</td><td>0.03868236</td><td>0.3142193</td><td>11212</td><td>grp_6mos_by_month_2008-01-19_pre-20220604-133402.tab</td><td>/home/jonathanmorgan/shares/phd_work/network_data/grp_6mos_by_month/grp_6mos_by_month_2008-01-19_pre-20220604-133402.tab</td><td>⋯</td><td>11210</td><td>5875</td><td>5872</td><td>0.003467064</td><td>0.3453995</td><td>9.885484e-05</td><td>31980</td><td>0.08766421</td><td>1.039556e-05</td><td>27202</td></tr>\n",
       "\t<tr><td>2008-02-19</td><td>6mos</td><td>grp_6mos_by_month</td><td>130</td><td>126</td><td>0.03712728</td><td>0.3055511</td><td>11028</td><td>grp_6mos_by_month_2008-02-19_pre-20220604-133627.tab</td><td>/home/jonathanmorgan/shares/phd_work/network_data/grp_6mos_by_month/grp_6mos_by_month_2008-02-19_pre-20220604-133627.tab</td><td>⋯</td><td>11026</td><td>5857</td><td>5854</td><td>0.002733831</td><td>0.3604197</td><td>9.973111e-05</td><td>30792</td><td>0.09125905</td><td>1.094302e-05</td><td>26504</td></tr>\n",
       "\t<tr><td>2008-03-21</td><td>6mos</td><td>grp_6mos_by_month</td><td>122</td><td>119</td><td>0.03252030</td><td>0.2897268</td><td>10883</td><td>grp_6mos_by_month_2008-03-21_pre-20220604-133847.tab</td><td>/home/jonathanmorgan/shares/phd_work/network_data/grp_6mos_by_month/grp_6mos_by_month_2008-03-21_pre-20220604-133847.tab</td><td>⋯</td><td>10881</td><td>5963</td><td>5960</td><td>0.002628423</td><td>0.3521973</td><td>9.441673e-05</td><td>29864</td><td>0.09514357</td><td>1.155762e-05</td><td>26026</td></tr>\n",
       "\t<tr><td>2008-04-21</td><td>6mos</td><td>grp_6mos_by_month</td><td>116</td><td>112</td><td>0.03324426</td><td>0.2965259</td><td>10842</td><td>grp_6mos_by_month_2008-04-21_pre-20220604-134102.tab</td><td>/home/jonathanmorgan/shares/phd_work/network_data/grp_6mos_by_month/grp_6mos_by_month_2008-04-21_pre-20220604-134102.tab</td><td>⋯</td><td>10840</td><td>5863</td><td>5859</td><td>0.002849210</td><td>0.3632621</td><td>9.513242e-05</td><td>29578</td><td>0.09580613</td><td>1.169625e-05</td><td>25942</td></tr>\n",
       "\t<tr><td>2008-05-22</td><td>6mos</td><td>grp_6mos_by_month</td><td>113</td><td>110</td><td>0.03611354</td><td>0.3056995</td><td>10707</td><td>grp_6mos_by_month_2008-05-22_pre-20220604-134315.tab</td><td>/home/jonathanmorgan/shares/phd_work/network_data/grp_6mos_by_month/grp_6mos_by_month_2008-05-22_pre-20220604-134315.tab</td><td>⋯</td><td>10705</td><td>5745</td><td>5742</td><td>0.003043922</td><td>0.3638734</td><td>9.700592e-05</td><td>29100</td><td>0.10072590</td><td>1.246436e-05</td><td>25508</td></tr>\n",
       "\t<tr><td>2008-06-22</td><td>6mos</td><td>grp_6mos_by_month</td><td>115</td><td>113</td><td>0.03490838</td><td>0.3076343</td><td>10493</td><td>grp_6mos_by_month_2008-06-22_pre-20220604-134526.tab</td><td>/home/jonathanmorgan/shares/phd_work/network_data/grp_6mos_by_month/grp_6mos_by_month_2008-06-22_pre-20220604-134526.tab</td><td>⋯</td><td>10491</td><td>5558</td><td>5554</td><td>0.003100064</td><td>0.3438544</td><td>9.368001e-05</td><td>28856</td><td>0.09471662</td><td>1.196036e-05</td><td>25172</td></tr>\n",
       "\t<tr><td>2008-07-23</td><td>6mos</td><td>grp_6mos_by_month</td><td>109</td><td>107</td><td>0.03791295</td><td>0.3219051</td><td>10346</td><td>grp_6mos_by_month_2008-07-23_pre-20220604-134742.tab</td><td>/home/jonathanmorgan/shares/phd_work/network_data/grp_6mos_by_month/grp_6mos_by_month_2008-07-23_pre-20220604-134742.tab</td><td>⋯</td><td>10344</td><td>5311</td><td>5308</td><td>0.003247644</td><td>0.3348568</td><td>9.238001e-05</td><td>28478</td><td>0.09518377</td><td>1.219057e-05</td><td>24836</td></tr>\n",
       "\t<tr><td>2008-08-23</td><td>6mos</td><td>grp_6mos_by_month</td><td>110</td><td>107</td><td>0.03595952</td><td>0.3243036</td><td>10334</td><td>grp_6mos_by_month_2008-08-23_pre-20220604-134954.tab</td><td>/home/jonathanmorgan/shares/phd_work/network_data/grp_6mos_by_month/grp_6mos_by_month_2008-08-23_pre-20220604-134954.tab</td><td>⋯</td><td>10332</td><td>5277</td><td>5274</td><td>0.003607291</td><td>0.3184068</td><td>8.405107e-05</td><td>28246</td><td>0.09264637</td><td>1.178820e-05</td><td>24674</td></tr>\n",
       "\t<tr><td>2008-09-23</td><td>6mos</td><td>grp_6mos_by_month</td><td>113</td><td>109</td><td>0.03628329</td><td>0.3269527</td><td>10259</td><td>grp_6mos_by_month_2008-09-23_pre-20220604-135158.tab</td><td>/home/jonathanmorgan/shares/phd_work/network_data/grp_6mos_by_month/grp_6mos_by_month_2008-09-23_pre-20220604-135158.tab</td><td>⋯</td><td>10257</td><td>5158</td><td>5152</td><td>0.003852482</td><td>0.3207748</td><td>8.511363e-05</td><td>28070</td><td>0.09352190</td><td>1.201818e-05</td><td>24538</td></tr>\n",
       "\t<tr><td>2008-10-24</td><td>6mos</td><td>grp_6mos_by_month</td><td>109</td><td>105</td><td>0.03473278</td><td>0.3217005</td><td>10212</td><td>grp_6mos_by_month_2008-10-24_pre-20220604-135401.tab</td><td>/home/jonathanmorgan/shares/phd_work/network_data/grp_6mos_by_month/grp_6mos_by_month_2008-10-24_pre-20220604-135401.tab</td><td>⋯</td><td>10210</td><td>5176</td><td>5171</td><td>0.003678256</td><td>0.3497207</td><td>9.386189e-05</td><td>27774</td><td>0.09665621</td><td>1.251275e-05</td><td>24412</td></tr>\n",
       "\t<tr><td>2008-11-24</td><td>6mos</td><td>grp_6mos_by_month</td><td>108</td><td>105</td><td>0.03692661</td><td>0.3155697</td><td>10177</td><td>grp_6mos_by_month_2008-11-24_pre-20220604-135605.tab</td><td>/home/jonathanmorgan/shares/phd_work/network_data/grp_6mos_by_month/grp_6mos_by_month_2008-11-24_pre-20220604-135605.tab</td><td>⋯</td><td>10175</td><td>5276</td><td>5272</td><td>0.004088878</td><td>0.3524095</td><td>9.429603e-05</td><td>27780</td><td>0.09638022</td><td>1.261804e-05</td><td>24502</td></tr>\n",
       "\t<tr><td>2008-12-25</td><td>6mos</td><td>grp_6mos_by_month</td><td>107</td><td>104</td><td>0.03108438</td><td>0.2963570</td><td>10081</td><td>grp_6mos_by_month_2008-12-25_pre-20220604-135809.tab</td><td>/home/jonathanmorgan/shares/phd_work/network_data/grp_6mos_by_month/grp_6mos_by_month_2008-12-25_pre-20220604-135809.tab</td><td>⋯</td><td>10079</td><td>5398</td><td>5394</td><td>0.004215317</td><td>0.3385938</td><td>9.212338e-05</td><td>27842</td><td>0.09296583</td><td>1.234746e-05</td><td>24474</td></tr>\n",
       "\t<tr><td>2009-01-25</td><td>6mos</td><td>grp_6mos_by_month</td><td>108</td><td>105</td><td>0.03261287</td><td>0.2810441</td><td>10035</td><td>grp_6mos_by_month_2009-01-25_pre-20220604-140021.tab</td><td>/home/jonathanmorgan/shares/phd_work/network_data/grp_6mos_by_month/grp_6mos_by_month_2009-01-25_pre-20220604-140021.tab</td><td>⋯</td><td>10033</td><td>5542</td><td>5537</td><td>0.003976346</td><td>0.3206439</td><td>8.814150e-05</td><td>27754</td><td>0.09625627</td><td>1.285832e-05</td><td>24316</td></tr>\n",
       "\t<tr><td>2009-02-25</td><td>6mos</td><td>grp_6mos_by_month</td><td>102</td><td> 99</td><td>0.03150079</td><td>0.2784491</td><td>10019</td><td>grp_6mos_by_month_2009-02-25_pre-20220604-140219.tab</td><td>/home/jonathanmorgan/shares/phd_work/network_data/grp_6mos_by_month/grp_6mos_by_month_2009-02-25_pre-20220604-140219.tab</td><td>⋯</td><td>10017</td><td>5660</td><td>5655</td><td>0.003817856</td><td>0.3120153</td><td>8.756557e-05</td><td>28050</td><td>0.09696011</td><td>1.307855e-05</td><td>24466</td></tr>\n",
       "\t<tr><td>2009-03-28</td><td>6mos</td><td>grp_6mos_by_month</td><td> 98</td><td> 92</td><td>0.03004068</td><td>0.2706631</td><td> 9991</td><td>grp_6mos_by_month_2009-03-28_pre-20220604-140420.tab</td><td>/home/jonathanmorgan/shares/phd_work/network_data/grp_6mos_by_month/grp_6mos_by_month_2009-03-28_pre-20220604-140420.tab</td><td>⋯</td><td> 9989</td><td>5690</td><td>5687</td><td>0.003572850</td><td>0.3004435</td><td>8.370705e-05</td><td>28054</td><td>0.09784626</td><td>1.327215e-05</td><td>24446</td></tr>\n",
       "\t<tr><td>2009-04-28</td><td>6mos</td><td>grp_6mos_by_month</td><td> 97</td><td> 92</td><td>0.03168159</td><td>0.2705843</td><td>10077</td><td>grp_6mos_by_month_2009-04-28_pre-20220604-140621.tab</td><td>/home/jonathanmorgan/shares/phd_work/network_data/grp_6mos_by_month/grp_6mos_by_month_2009-04-28_pre-20220604-140621.tab</td><td>⋯</td><td>10075</td><td>5766</td><td>5761</td><td>0.003386661</td><td>0.2941084</td><td>8.133818e-05</td><td>28396</td><td>0.09700182</td><td>1.302687e-05</td><td>24662</td></tr>\n",
       "\t<tr><td>2009-05-29</td><td>6mos</td><td>grp_6mos_by_month</td><td>103</td><td> 99</td><td>0.03245617</td><td>0.2767840</td><td>10127</td><td>grp_6mos_by_month_2009-05-29_pre-20220604-140826.tab</td><td>/home/jonathanmorgan/shares/phd_work/network_data/grp_6mos_by_month/grp_6mos_by_month_2009-05-29_pre-20220604-140826.tab</td><td>⋯</td><td>10125</td><td>5725</td><td>5720</td><td>0.003059595</td><td>0.2862323</td><td>8.141452e-05</td><td>28754</td><td>0.09424958</td><td>1.260582e-05</td><td>24852</td></tr>\n",
       "\t<tr><td>2009-06-29</td><td>6mos</td><td>grp_6mos_by_month</td><td> 99</td><td> 95</td><td>0.03268725</td><td>0.2911130</td><td>10199</td><td>grp_6mos_by_month_2009-06-29_pre-20220604-141033.tab</td><td>/home/jonathanmorgan/shares/phd_work/network_data/grp_6mos_by_month/grp_6mos_by_month_2009-06-29_pre-20220604-141033.tab</td><td>⋯</td><td>10197</td><td>5615</td><td>5609</td><td>0.002752571</td><td>0.2812563</td><td>8.132667e-05</td><td>29200</td><td>0.08923869</td><td>1.177461e-05</td><td>24988</td></tr>\n",
       "\t<tr><td>2009-07-30</td><td>6mos</td><td>grp_6mos_by_month</td><td> 98</td><td> 93</td><td>0.03471899</td><td>0.2998842</td><td>10204</td><td>grp_6mos_by_month_2009-07-30_pre-20220604-141239.tab</td><td>/home/jonathanmorgan/shares/phd_work/network_data/grp_6mos_by_month/grp_6mos_by_month_2009-07-30_pre-20220604-141239.tab</td><td>⋯</td><td>10202</td><td>5549</td><td>5544</td><td>0.002976724</td><td>0.2929895</td><td>8.678132e-05</td><td>29256</td><td>0.09444272</td><td>1.247407e-05</td><td>24896</td></tr>\n",
       "\t<tr><td>2009-08-30</td><td>6mos</td><td>grp_6mos_by_month</td><td> 95</td><td> 90</td><td>0.03639794</td><td>0.3115635</td><td>10260</td><td>grp_6mos_by_month_2009-08-30_pre-20220604-141447.tab</td><td>/home/jonathanmorgan/shares/phd_work/network_data/grp_6mos_by_month/grp_6mos_by_month_2009-08-30_pre-20220604-141447.tab</td><td>⋯</td><td>10258</td><td>5494</td><td>5489</td><td>0.002599281</td><td>0.3249312</td><td>9.482730e-05</td><td>29124</td><td>0.09884831</td><td>1.298453e-05</td><td>24920</td></tr>\n",
       "\t<tr><td>2009-09-30</td><td>6mos</td><td>grp_6mos_by_month</td><td> 97</td><td> 94</td><td>0.03843484</td><td>0.3173385</td><td>10184</td><td>grp_6mos_by_month_2009-09-30_pre-20220604-141700.tab</td><td>/home/jonathanmorgan/shares/phd_work/network_data/grp_6mos_by_month/grp_6mos_by_month_2009-09-30_pre-20220604-141700.tab</td><td>⋯</td><td>10182</td><td>5380</td><td>5376</td><td>0.002906687</td><td>0.3239084</td><td>9.593941e-05</td><td>28990</td><td>0.09961737</td><td>1.317911e-05</td><td>24714</td></tr>\n",
       "\t<tr><td>2009-10-31</td><td>6mos</td><td>grp_6mos_by_month</td><td> 96</td><td> 91</td><td>0.03872557</td><td>0.3233700</td><td>10173</td><td>grp_6mos_by_month_2009-10-31_pre-20220604-141919.tab</td><td>/home/jonathanmorgan/shares/phd_work/network_data/grp_6mos_by_month/grp_6mos_by_month_2009-10-31_pre-20220604-141919.tab</td><td>⋯</td><td>10171</td><td>5351</td><td>5348</td><td>0.002609997</td><td>0.3376222</td><td>9.833191e-05</td><td>28730</td><td>0.10550592</td><td>1.398101e-05</td><td>24556</td></tr>\n",
       "\t<tr><td>2009-12-01</td><td>6mos</td><td>grp_6mos_by_month</td><td> 94</td><td> 89</td><td>0.03779928</td><td>0.3206978</td><td>10127</td><td>grp_6mos_by_month_2009-12-01_pre-20220604-142137.tab</td><td>/home/jonathanmorgan/shares/phd_work/network_data/grp_6mos_by_month/grp_6mos_by_month_2009-12-01_pre-20220604-142137.tab</td><td>⋯</td><td>10125</td><td>5352</td><td>5349</td><td>0.002996733</td><td>0.3571215</td><td>1.086511e-04</td><td>28516</td><td>0.10835966</td><td>1.440107e-05</td><td>24310</td></tr>\n",
       "\t<tr><td>2010-01-01</td><td>6mos</td><td>grp_6mos_by_month</td><td> 92</td><td> 87</td><td>0.04391818</td><td>0.3127497</td><td>10051</td><td>grp_6mos_by_month_2010-01-01_pre-20220604-142343.tab</td><td>/home/jonathanmorgan/shares/phd_work/network_data/grp_6mos_by_month/grp_6mos_by_month_2010-01-01_pre-20220604-142343.tab</td><td>⋯</td><td>10049</td><td>5378</td><td>5375</td><td>0.002671762</td><td>0.3737479</td><td>1.189169e-04</td><td>28328</td><td>0.10538321</td><td>1.402573e-05</td><td>24050</td></tr>\n",
       "\t<tr><td>2010-02-01</td><td>6mos</td><td>grp_6mos_by_month</td><td> 98</td><td> 94</td><td>0.04065022</td><td>0.3098951</td><td>10011</td><td>grp_6mos_by_month_2010-02-01_pre-20220604-142549.tab</td><td>/home/jonathanmorgan/shares/phd_work/network_data/grp_6mos_by_month/grp_6mos_by_month_2010-02-01_pre-20220604-142549.tab</td><td>⋯</td><td>10009</td><td>5361</td><td>5358</td><td>0.002417876</td><td>0.3598890</td><td>1.143986e-04</td><td>28310</td><td>0.10702934</td><td>1.429780e-05</td><td>23904</td></tr>\n",
       "\t<tr><td>2010-03-04</td><td>6mos</td><td>grp_6mos_by_month</td><td> 99</td><td> 94</td><td>0.04238069</td><td>0.3079493</td><td> 9911</td><td>grp_6mos_by_month_2010-03-04_pre-20220604-142755.tab</td><td>/home/jonathanmorgan/shares/phd_work/network_data/grp_6mos_by_month/grp_6mos_by_month_2010-03-04_pre-20220604-142755.tab</td><td>⋯</td><td> 9909</td><td>5352</td><td>5349</td><td>0.002646572</td><td>0.3682139</td><td>1.198156e-04</td><td>27930</td><td>0.11096742</td><td>1.495458e-05</td><td>23530</td></tr>\n",
       "\t<tr><td>2010-04-04</td><td>6mos</td><td>grp_6mos_by_month</td><td> 97</td><td> 93</td><td>0.04516083</td><td>0.3024456</td><td> 9808</td><td>grp_6mos_by_month_2010-04-04_pre-20220604-143001.tab</td><td>/home/jonathanmorgan/shares/phd_work/network_data/grp_6mos_by_month/grp_6mos_by_month_2010-04-04_pre-20220604-143001.tab</td><td>⋯</td><td> 9806</td><td>5350</td><td>5345</td><td>0.002918558</td><td>0.3592659</td><td>1.188096e-04</td><td>27856</td><td>0.10877313</td><td>1.483353e-05</td><td>23372</td></tr>\n",
       "\t<tr><td>2010-05-05</td><td>6mos</td><td>grp_6mos_by_month</td><td> 94</td><td> 91</td><td>0.04318593</td><td>0.3104677</td><td> 9693</td><td>grp_6mos_by_month_2010-05-05_pre-20220604-143216.tab</td><td>/home/jonathanmorgan/shares/phd_work/network_data/grp_6mos_by_month/grp_6mos_by_month_2010-05-05_pre-20220604-143216.tab</td><td>⋯</td><td> 9691</td><td>5243</td><td>5238</td><td>0.002744892</td><td>0.3561614</td><td>1.169824e-04</td><td>27322</td><td>0.10734713</td><td>1.471937e-05</td><td>22990</td></tr>\n",
       "</tbody>\n",
       "</table>\n"
      ],
      "text/latex": [
       "A data.frame: 58 × 51\n",
       "\\begin{tabular}{lllllllllllllllllllll}\n",
       " baseDate & networkDuration & label & beforeAuthorCount2And4 & beforeAuthorCountOnly2 & beforeBetweennessCentrality & beforeConnectedness & beforeColumnCount & beforeDataFileName & beforeDataPath & ⋯ & afterRowCount & afterSourceCount3And4 & afterSourceCountOnly3 & afterTransitivity & graphCorrelation & graphCovariance & graphHammingDistance & binGraphCorrelation & binGraphCovariance & binGraphHammingDistance\\\\\n",
       " <date> & <chr> & <chr> & <int> & <int> & <dbl> & <dbl> & <int> & <chr> & <chr> & ⋯ & <int> & <int> & <int> & <dbl> & <dbl> & <dbl> & <int> & <dbl> & <dbl> & <dbl>\\\\\n",
       "\\hline\n",
       "\t 2005-07-03 & 6mos & grp\\_6mos\\_by\\_month & 159 & 151 & 0.03663406 & 0.2940678 & 13775 & grp\\_6mos\\_by\\_month\\_2005-07-03\\_pre-20220604-115739.tab & /home/jonathanmorgan/shares/phd\\_work/network\\_data/grp\\_6mos\\_by\\_month/grp\\_6mos\\_by\\_month\\_2005-07-03\\_pre-20220604-115739.tab & ⋯ & 13773 & 7601 & 7593 & 0.003357679 & 0.4569920 & 1.899087e-04 & 45358 & 0.11059698 & 1.109275e-05 & 33842\\\\\n",
       "\t 2005-08-03 & 6mos & grp\\_6mos\\_by\\_month & 160 & 152 & 0.03495803 & 0.3091478 & 13827 & grp\\_6mos\\_by\\_month\\_2005-08-03\\_pre-20220604-120117.tab & /home/jonathanmorgan/shares/phd\\_work/network\\_data/grp\\_6mos\\_by\\_month/grp\\_6mos\\_by\\_month\\_2005-08-03\\_pre-20220604-120117.tab & ⋯ & 13825 & 7461 & 7451 & 0.003507436 & 0.4503089 & 1.908685e-04 & 45772 & 0.11349380 & 1.135477e-05 & 33904\\\\\n",
       "\t 2005-09-03 & 6mos & grp\\_6mos\\_by\\_month & 158 & 146 & 0.03780139 & 0.3277417 & 13878 & grp\\_6mos\\_by\\_month\\_2005-09-03\\_pre-20220604-120452.tab & /home/jonathanmorgan/shares/phd\\_work/network\\_data/grp\\_6mos\\_by\\_month/grp\\_6mos\\_by\\_month\\_2005-09-03\\_pre-20220604-120452.tab & ⋯ & 13876 & 7288 & 7281 & 0.003824530 & 0.4207205 & 1.788617e-04 & 46714 & 0.10745234 & 1.068976e-05 & 34214\\\\\n",
       "\t 2005-10-04 & 6mos & grp\\_6mos\\_by\\_month & 158 & 148 & 0.03969569 & 0.3325601 & 13713 & grp\\_6mos\\_by\\_month\\_2005-10-04\\_pre-20220604-120827.tab & /home/jonathanmorgan/shares/phd\\_work/network\\_data/grp\\_6mos\\_by\\_month/grp\\_6mos\\_by\\_month\\_2005-10-04\\_pre-20220604-120827.tab & ⋯ & 13711 & 7126 & 7118 & 0.003878929 & 0.4142370 & 1.762767e-04 & 46238 & 0.11130250 & 1.124644e-05 & 33802\\\\\n",
       "\t 2005-11-04 & 6mos & grp\\_6mos\\_by\\_month & 161 & 149 & 0.03528556 & 0.3409169 & 13501 & grp\\_6mos\\_by\\_month\\_2005-11-04\\_pre-20220604-121212.tab & /home/jonathanmorgan/shares/phd\\_work/network\\_data/grp\\_6mos\\_by\\_month/grp\\_6mos\\_by\\_month\\_2005-11-04\\_pre-20220604-121212.tab & ⋯ & 13499 & 6967 & 6960 & 0.003454774 & 0.4170922 & 1.805838e-04 & 45900 & 0.10786637 & 1.106464e-05 & 33416\\\\\n",
       "\t 2005-12-05 & 6mos & grp\\_6mos\\_by\\_month & 166 & 155 & 0.03338141 & 0.3385650 & 13438 & grp\\_6mos\\_by\\_month\\_2005-12-05\\_pre-20220604-121603.tab & /home/jonathanmorgan/shares/phd\\_work/network\\_data/grp\\_6mos\\_by\\_month/grp\\_6mos\\_by\\_month\\_2005-12-05\\_pre-20220604-121603.tab & ⋯ & 13436 & 6899 & 6892 & 0.003483997 & 0.4107850 & 1.741603e-04 & 45370 & 0.10847303 & 1.114655e-05 & 33142\\\\\n",
       "\t 2006-01-05 & 6mos & grp\\_6mos\\_by\\_month & 166 & 158 & 0.03253381 & 0.3256306 & 13222 & grp\\_6mos\\_by\\_month\\_2006-01-05\\_pre-20220604-121948.tab & /home/jonathanmorgan/shares/phd\\_work/network\\_data/grp\\_6mos\\_by\\_month/grp\\_6mos\\_by\\_month\\_2006-01-05\\_pre-20220604-121948.tab & ⋯ & 13220 & 6919 & 6911 & 0.003653799 & 0.4245886 & 1.861005e-04 & 45090 & 0.10936852 & 1.143365e-05 & 32574\\\\\n",
       "\t 2006-02-05 & 6mos & grp\\_6mos\\_by\\_month & 169 & 159 & 0.04372529 & 0.3202009 & 13095 & grp\\_6mos\\_by\\_month\\_2006-02-05\\_pre-20220604-122317.tab & /home/jonathanmorgan/shares/phd\\_work/network\\_data/grp\\_6mos\\_by\\_month/grp\\_6mos\\_by\\_month\\_2006-02-05\\_pre-20220604-122317.tab & ⋯ & 13093 & 6893 & 6887 & 0.003951183 & 0.4016676 & 1.752257e-04 & 44780 & 0.10815866 & 1.139989e-05 & 32250\\\\\n",
       "\t 2006-03-08 & 6mos & grp\\_6mos\\_by\\_month & 166 & 160 & 0.05020973 & 0.3193609 & 12891 & grp\\_6mos\\_by\\_month\\_2006-03-08\\_pre-20220604-122637.tab & /home/jonathanmorgan/shares/phd\\_work/network\\_data/grp\\_6mos\\_by\\_month/grp\\_6mos\\_by\\_month\\_2006-03-08\\_pre-20220604-122637.tab & ⋯ & 12889 & 6764 & 6758 & 0.003888655 & 0.3701014 & 1.646830e-04 & 44578 & 0.10492004 & 1.114975e-05 & 31640\\\\\n",
       "\t 2006-04-08 & 6mos & grp\\_6mos\\_by\\_month & 160 & 152 & 0.03908107 & 0.3049751 & 12842 & grp\\_6mos\\_by\\_month\\_2006-04-08\\_pre-20220604-122958.tab & /home/jonathanmorgan/shares/phd\\_work/network\\_data/grp\\_6mos\\_by\\_month/grp\\_6mos\\_by\\_month\\_2006-04-08\\_pre-20220604-122958.tab & ⋯ & 12840 & 6878 & 6874 & 0.003655398 & 0.3436342 & 1.487270e-04 & 44710 & 0.09902329 & 1.053143e-05 & 31606\\\\\n",
       "\t 2006-05-09 & 6mos & grp\\_6mos\\_by\\_month & 162 & 155 & 0.03462691 & 0.2963780 & 12812 & grp\\_6mos\\_by\\_month\\_2006-05-09\\_pre-20220604-123316.tab & /home/jonathanmorgan/shares/phd\\_work/network\\_data/grp\\_6mos\\_by\\_month/grp\\_6mos\\_by\\_month\\_2006-05-09\\_pre-20220604-123316.tab & ⋯ & 12810 & 6931 & 6928 & 0.004084478 & 0.3254412 & 1.427083e-04 & 44804 & 0.09817331 & 1.044678e-05 & 31494\\\\\n",
       "\t 2006-06-09 & 6mos & grp\\_6mos\\_by\\_month & 160 & 153 & 0.04242751 & 0.2958635 & 12711 & grp\\_6mos\\_by\\_month\\_2006-06-09\\_pre-20220604-123643.tab & /home/jonathanmorgan/shares/phd\\_work/network\\_data/grp\\_6mos\\_by\\_month/grp\\_6mos\\_by\\_month\\_2006-06-09\\_pre-20220604-123643.tab & ⋯ & 12709 & 6915 & 6911 & 0.004145107 & 0.3380814 & 1.467811e-04 & 44488 & 0.09920263 & 1.068769e-05 & 31348\\\\\n",
       "\t 2006-07-10 & 6mos & grp\\_6mos\\_by\\_month & 165 & 157 & 0.03583794 & 0.2966170 & 12682 & grp\\_6mos\\_by\\_month\\_2006-07-10\\_pre-20220604-123955.tab & /home/jonathanmorgan/shares/phd\\_work/network\\_data/grp\\_6mos\\_by\\_month/grp\\_6mos\\_by\\_month\\_2006-07-10\\_pre-20220604-123955.tab & ⋯ & 12680 & 6853 & 6848 & 0.004292772 & 0.3309831 & 1.416562e-04 & 44730 & 0.09409485 & 1.016437e-05 & 31466\\\\\n",
       "\t 2006-08-10 & 6mos & grp\\_6mos\\_by\\_month & 157 & 151 & 0.03375570 & 0.2932263 & 12648 & grp\\_6mos\\_by\\_month\\_2006-08-10\\_pre-20220604-124308.tab & /home/jonathanmorgan/shares/phd\\_work/network\\_data/grp\\_6mos\\_by\\_month/grp\\_6mos\\_by\\_month\\_2006-08-10\\_pre-20220604-124308.tab & ⋯ & 12646 & 6852 & 6843 & 0.003942385 & 0.3348347 & 1.374916e-04 & 44018 & 0.09530084 & 1.028173e-05 & 31216\\\\\n",
       "\t 2006-09-10 & 6mos & grp\\_6mos\\_by\\_month & 162 & 156 & 0.03785162 & 0.2902436 & 12531 & grp\\_6mos\\_by\\_month\\_2006-09-10\\_pre-20220604-124636.tab & /home/jonathanmorgan/shares/phd\\_work/network\\_data/grp\\_6mos\\_by\\_month/grp\\_6mos\\_by\\_month\\_2006-09-10\\_pre-20220604-124636.tab & ⋯ & 12529 & 6795 & 6783 & 0.004221112 & 0.3283877 & 1.319044e-04 & 43312 & 0.09435592 & 1.024538e-05 & 30872\\\\\n",
       "\t 2006-10-11 & 6mos & grp\\_6mos\\_by\\_month & 165 & 161 & 0.03756511 & 0.3034711 & 12518 & grp\\_6mos\\_by\\_month\\_2006-10-11\\_pre-20220604-124959.tab & /home/jonathanmorgan/shares/phd\\_work/network\\_data/grp\\_6mos\\_by\\_month/grp\\_6mos\\_by\\_month\\_2006-10-11\\_pre-20220604-124959.tab & ⋯ & 12516 & 6668 & 6656 & 0.004353011 & 0.3357301 & 1.345153e-04 & 43310 & 0.09301812 & 1.008797e-05 & 30816\\\\\n",
       "\t 2006-11-11 & 6mos & grp\\_6mos\\_by\\_month & 157 & 154 & 0.03014250 & 0.3040228 & 12581 & grp\\_6mos\\_by\\_month\\_2006-11-11\\_pre-20220604-125318.tab & /home/jonathanmorgan/shares/phd\\_work/network\\_data/grp\\_6mos\\_by\\_month/grp\\_6mos\\_by\\_month\\_2006-11-11\\_pre-20220604-125318.tab & ⋯ & 12579 & 6686 & 6673 & 0.004293225 & 0.3198402 & 1.280773e-04 & 43722 & 0.08629197 & 9.317201e-06 & 31222\\\\\n",
       "\t 2006-12-12 & 6mos & grp\\_6mos\\_by\\_month & 158 & 154 & 0.03377546 & 0.2974433 & 12624 & grp\\_6mos\\_by\\_month\\_2006-12-12\\_pre-20220604-125624.tab & /home/jonathanmorgan/shares/phd\\_work/network\\_data/grp\\_6mos\\_by\\_month/grp\\_6mos\\_by\\_month\\_2006-12-12\\_pre-20220604-125624.tab & ⋯ & 12622 & 6793 & 6783 & 0.003555865 & 0.3310035 & 1.240054e-04 & 42936 & 0.08840180 & 9.479889e-06 & 31148\\\\\n",
       "\t 2007-01-12 & 6mos & grp\\_6mos\\_by\\_month & 152 & 147 & 0.03460294 & 0.2930608 & 12670 & grp\\_6mos\\_by\\_month\\_2007-01-12\\_pre-20220604-125935.tab & /home/jonathanmorgan/shares/phd\\_work/network\\_data/grp\\_6mos\\_by\\_month/grp\\_6mos\\_by\\_month\\_2007-01-12\\_pre-20220604-125935.tab & ⋯ & 12668 & 6851 & 6837 & 0.003222667 & 0.3361268 & 1.226958e-04 & 42560 & 0.08642300 & 9.211799e-06 & 31254\\\\\n",
       "\t 2007-02-12 & 6mos & grp\\_6mos\\_by\\_month & 151 & 142 & 0.02938787 & 0.2974352 & 12527 & grp\\_6mos\\_by\\_month\\_2007-02-12\\_pre-20220604-130252.tab & /home/jonathanmorgan/shares/phd\\_work/network\\_data/grp\\_6mos\\_by\\_month/grp\\_6mos\\_by\\_month\\_2007-02-12\\_pre-20220604-130252.tab & ⋯ & 12525 & 6741 & 6730 & 0.003375865 & 0.3461457 & 1.283189e-04 & 41788 & 0.08663734 & 9.359556e-06 & 30960\\\\\n",
       "\t 2007-03-15 & 6mos & grp\\_6mos\\_by\\_month & 139 & 127 & 0.02837983 & 0.2876625 & 12682 & grp\\_6mos\\_by\\_month\\_2007-03-15\\_pre-20220604-130605.tab & /home/jonathanmorgan/shares/phd\\_work/network\\_data/grp\\_6mos\\_by\\_month/grp\\_6mos\\_by\\_month\\_2007-03-15\\_pre-20220604-130605.tab & ⋯ & 12680 & 6938 & 6929 & 0.003200182 & 0.3457508 & 1.244299e-04 & 42044 & 0.08486774 & 9.032661e-06 & 31318\\\\\n",
       "\t 2007-04-15 & 6mos & grp\\_6mos\\_by\\_month & 133 & 121 & 0.02703639 & 0.2892404 & 12402 & grp\\_6mos\\_by\\_month\\_2007-04-15\\_pre-20220604-130914.tab & /home/jonathanmorgan/shares/phd\\_work/network\\_data/grp\\_6mos\\_by\\_month/grp\\_6mos\\_by\\_month\\_2007-04-15\\_pre-20220604-130914.tab & ⋯ & 12400 & 6737 & 6729 & 0.003116848 & 0.3715273 & 1.337040e-04 & 40374 & 0.08683507 & 9.445224e-06 & 30544\\\\\n",
       "\t 2007-05-16 & 6mos & grp\\_6mos\\_by\\_month & 135 & 122 & 0.03231720 & 0.3010119 & 12250 & grp\\_6mos\\_by\\_month\\_2007-05-16\\_pre-20220604-131210.tab & /home/jonathanmorgan/shares/phd\\_work/network\\_data/grp\\_6mos\\_by\\_month/grp\\_6mos\\_by\\_month\\_2007-05-16\\_pre-20220604-131210.tab & ⋯ & 12248 & 6546 & 6538 & 0.003254004 & 0.3820299 & 1.369772e-04 & 39210 & 0.08855043 & 9.707897e-06 & 29986\\\\\n",
       "\t 2007-06-16 & 6mos & grp\\_6mos\\_by\\_month & 138 & 128 & 0.03451116 & 0.3082614 & 12215 & grp\\_6mos\\_by\\_month\\_2007-06-16\\_pre-20220604-131501.tab & /home/jonathanmorgan/shares/phd\\_work/network\\_data/grp\\_6mos\\_by\\_month/grp\\_6mos\\_by\\_month\\_2007-06-16\\_pre-20220604-131501.tab & ⋯ & 12213 & 6409 & 6400 & 0.003471728 & 0.3835978 & 1.298393e-04 & 38242 & 0.08749842 & 9.589371e-06 & 29846\\\\\n",
       "\t 2007-07-17 & 6mos & grp\\_6mos\\_by\\_month & 149 & 136 & 0.03788274 & 0.3193988 & 12064 & grp\\_6mos\\_by\\_month\\_2007-07-17\\_pre-20220604-131750.tab & /home/jonathanmorgan/shares/phd\\_work/network\\_data/grp\\_6mos\\_by\\_month/grp\\_6mos\\_by\\_month\\_2007-07-17\\_pre-20220604-131750.tab & ⋯ & 12062 & 6199 & 6195 & 0.003489948 & 0.3839633 & 1.243954e-04 & 36954 & 0.08982345 & 9.927308e-06 & 29304\\\\\n",
       "\t 2007-08-17 & 6mos & grp\\_6mos\\_by\\_month & 157 & 146 & 0.04028974 & 0.3254143 & 11880 & grp\\_6mos\\_by\\_month\\_2007-08-17\\_pre-20220604-132033.tab & /home/jonathanmorgan/shares/phd\\_work/network\\_data/grp\\_6mos\\_by\\_month/grp\\_6mos\\_by\\_month\\_2007-08-17\\_pre-20220604-132033.tab & ⋯ & 11878 & 6069 & 6065 & 0.003670053 & 0.3815980 & 1.247641e-04 & 35952 & 0.08743222 & 9.811964e-06 & 28940\\\\\n",
       "\t 2007-09-17 & 6mos & grp\\_6mos\\_by\\_month & 163 & 154 & 0.04296732 & 0.3425605 & 11825 & grp\\_6mos\\_by\\_month\\_2007-09-17\\_pre-20220604-132313.tab & /home/jonathanmorgan/shares/phd\\_work/network\\_data/grp\\_6mos\\_by\\_month/grp\\_6mos\\_by\\_month\\_2007-09-17\\_pre-20220604-132313.tab & ⋯ & 11823 & 5844 & 5841 & 0.003600441 & 0.3766045 & 1.174147e-04 & 35132 & 0.08495357 & 9.531557e-06 & 28802\\\\\n",
       "\t 2007-10-18 & 6mos & grp\\_6mos\\_by\\_month & 159 & 151 & 0.04485291 & 0.3319759 & 11651 & grp\\_6mos\\_by\\_month\\_2007-10-18\\_pre-20220604-132557.tab & /home/jonathanmorgan/shares/phd\\_work/network\\_data/grp\\_6mos\\_by\\_month/grp\\_6mos\\_by\\_month\\_2007-10-18\\_pre-20220604-132557.tab & ⋯ & 11649 & 5895 & 5891 & 0.003633643 & 0.3499878 & 1.044554e-04 & 34174 & 0.08827104 & 1.006897e-05 & 28280\\\\\n",
       "\t 2007-11-18 & 6mos & grp\\_6mos\\_by\\_month & 159 & 150 & 0.04076899 & 0.3213686 & 11526 & grp\\_6mos\\_by\\_month\\_2007-11-18\\_pre-20220604-132843.tab & /home/jonathanmorgan/shares/phd\\_work/network\\_data/grp\\_6mos\\_by\\_month/grp\\_6mos\\_by\\_month\\_2007-11-18\\_pre-20220604-132843.tab & ⋯ & 11524 & 5909 & 5906 & 0.003496365 & 0.3426789 & 9.828495e-05 & 33388 & 0.08545579 & 9.821787e-06 & 27956\\\\\n",
       "\t 2007-12-19 & 6mos & grp\\_6mos\\_by\\_month & 147 & 141 & 0.03431558 & 0.3178911 & 11337 & grp\\_6mos\\_by\\_month\\_2007-12-19\\_pre-20220604-133126.tab & /home/jonathanmorgan/shares/phd\\_work/network\\_data/grp\\_6mos\\_by\\_month/grp\\_6mos\\_by\\_month\\_2007-12-19\\_pre-20220604-133126.tab & ⋯ & 11335 & 5822 & 5820 & 0.003460084 & 0.3455961 & 1.011698e-04 & 32612 & 0.08742421 & 1.022987e-05 & 27472\\\\\n",
       "\t 2008-01-19 & 6mos & grp\\_6mos\\_by\\_month & 137 & 133 & 0.03868236 & 0.3142193 & 11212 & grp\\_6mos\\_by\\_month\\_2008-01-19\\_pre-20220604-133402.tab & /home/jonathanmorgan/shares/phd\\_work/network\\_data/grp\\_6mos\\_by\\_month/grp\\_6mos\\_by\\_month\\_2008-01-19\\_pre-20220604-133402.tab & ⋯ & 11210 & 5875 & 5872 & 0.003467064 & 0.3453995 & 9.885484e-05 & 31980 & 0.08766421 & 1.039556e-05 & 27202\\\\\n",
       "\t 2008-02-19 & 6mos & grp\\_6mos\\_by\\_month & 130 & 126 & 0.03712728 & 0.3055511 & 11028 & grp\\_6mos\\_by\\_month\\_2008-02-19\\_pre-20220604-133627.tab & /home/jonathanmorgan/shares/phd\\_work/network\\_data/grp\\_6mos\\_by\\_month/grp\\_6mos\\_by\\_month\\_2008-02-19\\_pre-20220604-133627.tab & ⋯ & 11026 & 5857 & 5854 & 0.002733831 & 0.3604197 & 9.973111e-05 & 30792 & 0.09125905 & 1.094302e-05 & 26504\\\\\n",
       "\t 2008-03-21 & 6mos & grp\\_6mos\\_by\\_month & 122 & 119 & 0.03252030 & 0.2897268 & 10883 & grp\\_6mos\\_by\\_month\\_2008-03-21\\_pre-20220604-133847.tab & /home/jonathanmorgan/shares/phd\\_work/network\\_data/grp\\_6mos\\_by\\_month/grp\\_6mos\\_by\\_month\\_2008-03-21\\_pre-20220604-133847.tab & ⋯ & 10881 & 5963 & 5960 & 0.002628423 & 0.3521973 & 9.441673e-05 & 29864 & 0.09514357 & 1.155762e-05 & 26026\\\\\n",
       "\t 2008-04-21 & 6mos & grp\\_6mos\\_by\\_month & 116 & 112 & 0.03324426 & 0.2965259 & 10842 & grp\\_6mos\\_by\\_month\\_2008-04-21\\_pre-20220604-134102.tab & /home/jonathanmorgan/shares/phd\\_work/network\\_data/grp\\_6mos\\_by\\_month/grp\\_6mos\\_by\\_month\\_2008-04-21\\_pre-20220604-134102.tab & ⋯ & 10840 & 5863 & 5859 & 0.002849210 & 0.3632621 & 9.513242e-05 & 29578 & 0.09580613 & 1.169625e-05 & 25942\\\\\n",
       "\t 2008-05-22 & 6mos & grp\\_6mos\\_by\\_month & 113 & 110 & 0.03611354 & 0.3056995 & 10707 & grp\\_6mos\\_by\\_month\\_2008-05-22\\_pre-20220604-134315.tab & /home/jonathanmorgan/shares/phd\\_work/network\\_data/grp\\_6mos\\_by\\_month/grp\\_6mos\\_by\\_month\\_2008-05-22\\_pre-20220604-134315.tab & ⋯ & 10705 & 5745 & 5742 & 0.003043922 & 0.3638734 & 9.700592e-05 & 29100 & 0.10072590 & 1.246436e-05 & 25508\\\\\n",
       "\t 2008-06-22 & 6mos & grp\\_6mos\\_by\\_month & 115 & 113 & 0.03490838 & 0.3076343 & 10493 & grp\\_6mos\\_by\\_month\\_2008-06-22\\_pre-20220604-134526.tab & /home/jonathanmorgan/shares/phd\\_work/network\\_data/grp\\_6mos\\_by\\_month/grp\\_6mos\\_by\\_month\\_2008-06-22\\_pre-20220604-134526.tab & ⋯ & 10491 & 5558 & 5554 & 0.003100064 & 0.3438544 & 9.368001e-05 & 28856 & 0.09471662 & 1.196036e-05 & 25172\\\\\n",
       "\t 2008-07-23 & 6mos & grp\\_6mos\\_by\\_month & 109 & 107 & 0.03791295 & 0.3219051 & 10346 & grp\\_6mos\\_by\\_month\\_2008-07-23\\_pre-20220604-134742.tab & /home/jonathanmorgan/shares/phd\\_work/network\\_data/grp\\_6mos\\_by\\_month/grp\\_6mos\\_by\\_month\\_2008-07-23\\_pre-20220604-134742.tab & ⋯ & 10344 & 5311 & 5308 & 0.003247644 & 0.3348568 & 9.238001e-05 & 28478 & 0.09518377 & 1.219057e-05 & 24836\\\\\n",
       "\t 2008-08-23 & 6mos & grp\\_6mos\\_by\\_month & 110 & 107 & 0.03595952 & 0.3243036 & 10334 & grp\\_6mos\\_by\\_month\\_2008-08-23\\_pre-20220604-134954.tab & /home/jonathanmorgan/shares/phd\\_work/network\\_data/grp\\_6mos\\_by\\_month/grp\\_6mos\\_by\\_month\\_2008-08-23\\_pre-20220604-134954.tab & ⋯ & 10332 & 5277 & 5274 & 0.003607291 & 0.3184068 & 8.405107e-05 & 28246 & 0.09264637 & 1.178820e-05 & 24674\\\\\n",
       "\t 2008-09-23 & 6mos & grp\\_6mos\\_by\\_month & 113 & 109 & 0.03628329 & 0.3269527 & 10259 & grp\\_6mos\\_by\\_month\\_2008-09-23\\_pre-20220604-135158.tab & /home/jonathanmorgan/shares/phd\\_work/network\\_data/grp\\_6mos\\_by\\_month/grp\\_6mos\\_by\\_month\\_2008-09-23\\_pre-20220604-135158.tab & ⋯ & 10257 & 5158 & 5152 & 0.003852482 & 0.3207748 & 8.511363e-05 & 28070 & 0.09352190 & 1.201818e-05 & 24538\\\\\n",
       "\t 2008-10-24 & 6mos & grp\\_6mos\\_by\\_month & 109 & 105 & 0.03473278 & 0.3217005 & 10212 & grp\\_6mos\\_by\\_month\\_2008-10-24\\_pre-20220604-135401.tab & /home/jonathanmorgan/shares/phd\\_work/network\\_data/grp\\_6mos\\_by\\_month/grp\\_6mos\\_by\\_month\\_2008-10-24\\_pre-20220604-135401.tab & ⋯ & 10210 & 5176 & 5171 & 0.003678256 & 0.3497207 & 9.386189e-05 & 27774 & 0.09665621 & 1.251275e-05 & 24412\\\\\n",
       "\t 2008-11-24 & 6mos & grp\\_6mos\\_by\\_month & 108 & 105 & 0.03692661 & 0.3155697 & 10177 & grp\\_6mos\\_by\\_month\\_2008-11-24\\_pre-20220604-135605.tab & /home/jonathanmorgan/shares/phd\\_work/network\\_data/grp\\_6mos\\_by\\_month/grp\\_6mos\\_by\\_month\\_2008-11-24\\_pre-20220604-135605.tab & ⋯ & 10175 & 5276 & 5272 & 0.004088878 & 0.3524095 & 9.429603e-05 & 27780 & 0.09638022 & 1.261804e-05 & 24502\\\\\n",
       "\t 2008-12-25 & 6mos & grp\\_6mos\\_by\\_month & 107 & 104 & 0.03108438 & 0.2963570 & 10081 & grp\\_6mos\\_by\\_month\\_2008-12-25\\_pre-20220604-135809.tab & /home/jonathanmorgan/shares/phd\\_work/network\\_data/grp\\_6mos\\_by\\_month/grp\\_6mos\\_by\\_month\\_2008-12-25\\_pre-20220604-135809.tab & ⋯ & 10079 & 5398 & 5394 & 0.004215317 & 0.3385938 & 9.212338e-05 & 27842 & 0.09296583 & 1.234746e-05 & 24474\\\\\n",
       "\t 2009-01-25 & 6mos & grp\\_6mos\\_by\\_month & 108 & 105 & 0.03261287 & 0.2810441 & 10035 & grp\\_6mos\\_by\\_month\\_2009-01-25\\_pre-20220604-140021.tab & /home/jonathanmorgan/shares/phd\\_work/network\\_data/grp\\_6mos\\_by\\_month/grp\\_6mos\\_by\\_month\\_2009-01-25\\_pre-20220604-140021.tab & ⋯ & 10033 & 5542 & 5537 & 0.003976346 & 0.3206439 & 8.814150e-05 & 27754 & 0.09625627 & 1.285832e-05 & 24316\\\\\n",
       "\t 2009-02-25 & 6mos & grp\\_6mos\\_by\\_month & 102 &  99 & 0.03150079 & 0.2784491 & 10019 & grp\\_6mos\\_by\\_month\\_2009-02-25\\_pre-20220604-140219.tab & /home/jonathanmorgan/shares/phd\\_work/network\\_data/grp\\_6mos\\_by\\_month/grp\\_6mos\\_by\\_month\\_2009-02-25\\_pre-20220604-140219.tab & ⋯ & 10017 & 5660 & 5655 & 0.003817856 & 0.3120153 & 8.756557e-05 & 28050 & 0.09696011 & 1.307855e-05 & 24466\\\\\n",
       "\t 2009-03-28 & 6mos & grp\\_6mos\\_by\\_month &  98 &  92 & 0.03004068 & 0.2706631 &  9991 & grp\\_6mos\\_by\\_month\\_2009-03-28\\_pre-20220604-140420.tab & /home/jonathanmorgan/shares/phd\\_work/network\\_data/grp\\_6mos\\_by\\_month/grp\\_6mos\\_by\\_month\\_2009-03-28\\_pre-20220604-140420.tab & ⋯ &  9989 & 5690 & 5687 & 0.003572850 & 0.3004435 & 8.370705e-05 & 28054 & 0.09784626 & 1.327215e-05 & 24446\\\\\n",
       "\t 2009-04-28 & 6mos & grp\\_6mos\\_by\\_month &  97 &  92 & 0.03168159 & 0.2705843 & 10077 & grp\\_6mos\\_by\\_month\\_2009-04-28\\_pre-20220604-140621.tab & /home/jonathanmorgan/shares/phd\\_work/network\\_data/grp\\_6mos\\_by\\_month/grp\\_6mos\\_by\\_month\\_2009-04-28\\_pre-20220604-140621.tab & ⋯ & 10075 & 5766 & 5761 & 0.003386661 & 0.2941084 & 8.133818e-05 & 28396 & 0.09700182 & 1.302687e-05 & 24662\\\\\n",
       "\t 2009-05-29 & 6mos & grp\\_6mos\\_by\\_month & 103 &  99 & 0.03245617 & 0.2767840 & 10127 & grp\\_6mos\\_by\\_month\\_2009-05-29\\_pre-20220604-140826.tab & /home/jonathanmorgan/shares/phd\\_work/network\\_data/grp\\_6mos\\_by\\_month/grp\\_6mos\\_by\\_month\\_2009-05-29\\_pre-20220604-140826.tab & ⋯ & 10125 & 5725 & 5720 & 0.003059595 & 0.2862323 & 8.141452e-05 & 28754 & 0.09424958 & 1.260582e-05 & 24852\\\\\n",
       "\t 2009-06-29 & 6mos & grp\\_6mos\\_by\\_month &  99 &  95 & 0.03268725 & 0.2911130 & 10199 & grp\\_6mos\\_by\\_month\\_2009-06-29\\_pre-20220604-141033.tab & /home/jonathanmorgan/shares/phd\\_work/network\\_data/grp\\_6mos\\_by\\_month/grp\\_6mos\\_by\\_month\\_2009-06-29\\_pre-20220604-141033.tab & ⋯ & 10197 & 5615 & 5609 & 0.002752571 & 0.2812563 & 8.132667e-05 & 29200 & 0.08923869 & 1.177461e-05 & 24988\\\\\n",
       "\t 2009-07-30 & 6mos & grp\\_6mos\\_by\\_month &  98 &  93 & 0.03471899 & 0.2998842 & 10204 & grp\\_6mos\\_by\\_month\\_2009-07-30\\_pre-20220604-141239.tab & /home/jonathanmorgan/shares/phd\\_work/network\\_data/grp\\_6mos\\_by\\_month/grp\\_6mos\\_by\\_month\\_2009-07-30\\_pre-20220604-141239.tab & ⋯ & 10202 & 5549 & 5544 & 0.002976724 & 0.2929895 & 8.678132e-05 & 29256 & 0.09444272 & 1.247407e-05 & 24896\\\\\n",
       "\t 2009-08-30 & 6mos & grp\\_6mos\\_by\\_month &  95 &  90 & 0.03639794 & 0.3115635 & 10260 & grp\\_6mos\\_by\\_month\\_2009-08-30\\_pre-20220604-141447.tab & /home/jonathanmorgan/shares/phd\\_work/network\\_data/grp\\_6mos\\_by\\_month/grp\\_6mos\\_by\\_month\\_2009-08-30\\_pre-20220604-141447.tab & ⋯ & 10258 & 5494 & 5489 & 0.002599281 & 0.3249312 & 9.482730e-05 & 29124 & 0.09884831 & 1.298453e-05 & 24920\\\\\n",
       "\t 2009-09-30 & 6mos & grp\\_6mos\\_by\\_month &  97 &  94 & 0.03843484 & 0.3173385 & 10184 & grp\\_6mos\\_by\\_month\\_2009-09-30\\_pre-20220604-141700.tab & /home/jonathanmorgan/shares/phd\\_work/network\\_data/grp\\_6mos\\_by\\_month/grp\\_6mos\\_by\\_month\\_2009-09-30\\_pre-20220604-141700.tab & ⋯ & 10182 & 5380 & 5376 & 0.002906687 & 0.3239084 & 9.593941e-05 & 28990 & 0.09961737 & 1.317911e-05 & 24714\\\\\n",
       "\t 2009-10-31 & 6mos & grp\\_6mos\\_by\\_month &  96 &  91 & 0.03872557 & 0.3233700 & 10173 & grp\\_6mos\\_by\\_month\\_2009-10-31\\_pre-20220604-141919.tab & /home/jonathanmorgan/shares/phd\\_work/network\\_data/grp\\_6mos\\_by\\_month/grp\\_6mos\\_by\\_month\\_2009-10-31\\_pre-20220604-141919.tab & ⋯ & 10171 & 5351 & 5348 & 0.002609997 & 0.3376222 & 9.833191e-05 & 28730 & 0.10550592 & 1.398101e-05 & 24556\\\\\n",
       "\t 2009-12-01 & 6mos & grp\\_6mos\\_by\\_month &  94 &  89 & 0.03779928 & 0.3206978 & 10127 & grp\\_6mos\\_by\\_month\\_2009-12-01\\_pre-20220604-142137.tab & /home/jonathanmorgan/shares/phd\\_work/network\\_data/grp\\_6mos\\_by\\_month/grp\\_6mos\\_by\\_month\\_2009-12-01\\_pre-20220604-142137.tab & ⋯ & 10125 & 5352 & 5349 & 0.002996733 & 0.3571215 & 1.086511e-04 & 28516 & 0.10835966 & 1.440107e-05 & 24310\\\\\n",
       "\t 2010-01-01 & 6mos & grp\\_6mos\\_by\\_month &  92 &  87 & 0.04391818 & 0.3127497 & 10051 & grp\\_6mos\\_by\\_month\\_2010-01-01\\_pre-20220604-142343.tab & /home/jonathanmorgan/shares/phd\\_work/network\\_data/grp\\_6mos\\_by\\_month/grp\\_6mos\\_by\\_month\\_2010-01-01\\_pre-20220604-142343.tab & ⋯ & 10049 & 5378 & 5375 & 0.002671762 & 0.3737479 & 1.189169e-04 & 28328 & 0.10538321 & 1.402573e-05 & 24050\\\\\n",
       "\t 2010-02-01 & 6mos & grp\\_6mos\\_by\\_month &  98 &  94 & 0.04065022 & 0.3098951 & 10011 & grp\\_6mos\\_by\\_month\\_2010-02-01\\_pre-20220604-142549.tab & /home/jonathanmorgan/shares/phd\\_work/network\\_data/grp\\_6mos\\_by\\_month/grp\\_6mos\\_by\\_month\\_2010-02-01\\_pre-20220604-142549.tab & ⋯ & 10009 & 5361 & 5358 & 0.002417876 & 0.3598890 & 1.143986e-04 & 28310 & 0.10702934 & 1.429780e-05 & 23904\\\\\n",
       "\t 2010-03-04 & 6mos & grp\\_6mos\\_by\\_month &  99 &  94 & 0.04238069 & 0.3079493 &  9911 & grp\\_6mos\\_by\\_month\\_2010-03-04\\_pre-20220604-142755.tab & /home/jonathanmorgan/shares/phd\\_work/network\\_data/grp\\_6mos\\_by\\_month/grp\\_6mos\\_by\\_month\\_2010-03-04\\_pre-20220604-142755.tab & ⋯ &  9909 & 5352 & 5349 & 0.002646572 & 0.3682139 & 1.198156e-04 & 27930 & 0.11096742 & 1.495458e-05 & 23530\\\\\n",
       "\t 2010-04-04 & 6mos & grp\\_6mos\\_by\\_month &  97 &  93 & 0.04516083 & 0.3024456 &  9808 & grp\\_6mos\\_by\\_month\\_2010-04-04\\_pre-20220604-143001.tab & /home/jonathanmorgan/shares/phd\\_work/network\\_data/grp\\_6mos\\_by\\_month/grp\\_6mos\\_by\\_month\\_2010-04-04\\_pre-20220604-143001.tab & ⋯ &  9806 & 5350 & 5345 & 0.002918558 & 0.3592659 & 1.188096e-04 & 27856 & 0.10877313 & 1.483353e-05 & 23372\\\\\n",
       "\t 2010-05-05 & 6mos & grp\\_6mos\\_by\\_month &  94 &  91 & 0.04318593 & 0.3104677 &  9693 & grp\\_6mos\\_by\\_month\\_2010-05-05\\_pre-20220604-143216.tab & /home/jonathanmorgan/shares/phd\\_work/network\\_data/grp\\_6mos\\_by\\_month/grp\\_6mos\\_by\\_month\\_2010-05-05\\_pre-20220604-143216.tab & ⋯ &  9691 & 5243 & 5238 & 0.002744892 & 0.3561614 & 1.169824e-04 & 27322 & 0.10734713 & 1.471937e-05 & 22990\\\\\n",
       "\\end{tabular}\n"
      ],
      "text/markdown": [
       "\n",
       "A data.frame: 58 × 51\n",
       "\n",
       "| baseDate &lt;date&gt; | networkDuration &lt;chr&gt; | label &lt;chr&gt; | beforeAuthorCount2And4 &lt;int&gt; | beforeAuthorCountOnly2 &lt;int&gt; | beforeBetweennessCentrality &lt;dbl&gt; | beforeConnectedness &lt;dbl&gt; | beforeColumnCount &lt;int&gt; | beforeDataFileName &lt;chr&gt; | beforeDataPath &lt;chr&gt; | ⋯ ⋯ | afterRowCount &lt;int&gt; | afterSourceCount3And4 &lt;int&gt; | afterSourceCountOnly3 &lt;int&gt; | afterTransitivity &lt;dbl&gt; | graphCorrelation &lt;dbl&gt; | graphCovariance &lt;dbl&gt; | graphHammingDistance &lt;int&gt; | binGraphCorrelation &lt;dbl&gt; | binGraphCovariance &lt;dbl&gt; | binGraphHammingDistance &lt;dbl&gt; |\n",
       "|---|---|---|---|---|---|---|---|---|---|---|---|---|---|---|---|---|---|---|---|---|\n",
       "| 2005-07-03 | 6mos | grp_6mos_by_month | 159 | 151 | 0.03663406 | 0.2940678 | 13775 | grp_6mos_by_month_2005-07-03_pre-20220604-115739.tab | /home/jonathanmorgan/shares/phd_work/network_data/grp_6mos_by_month/grp_6mos_by_month_2005-07-03_pre-20220604-115739.tab | ⋯ | 13773 | 7601 | 7593 | 0.003357679 | 0.4569920 | 1.899087e-04 | 45358 | 0.11059698 | 1.109275e-05 | 33842 |\n",
       "| 2005-08-03 | 6mos | grp_6mos_by_month | 160 | 152 | 0.03495803 | 0.3091478 | 13827 | grp_6mos_by_month_2005-08-03_pre-20220604-120117.tab | /home/jonathanmorgan/shares/phd_work/network_data/grp_6mos_by_month/grp_6mos_by_month_2005-08-03_pre-20220604-120117.tab | ⋯ | 13825 | 7461 | 7451 | 0.003507436 | 0.4503089 | 1.908685e-04 | 45772 | 0.11349380 | 1.135477e-05 | 33904 |\n",
       "| 2005-09-03 | 6mos | grp_6mos_by_month | 158 | 146 | 0.03780139 | 0.3277417 | 13878 | grp_6mos_by_month_2005-09-03_pre-20220604-120452.tab | /home/jonathanmorgan/shares/phd_work/network_data/grp_6mos_by_month/grp_6mos_by_month_2005-09-03_pre-20220604-120452.tab | ⋯ | 13876 | 7288 | 7281 | 0.003824530 | 0.4207205 | 1.788617e-04 | 46714 | 0.10745234 | 1.068976e-05 | 34214 |\n",
       "| 2005-10-04 | 6mos | grp_6mos_by_month | 158 | 148 | 0.03969569 | 0.3325601 | 13713 | grp_6mos_by_month_2005-10-04_pre-20220604-120827.tab | /home/jonathanmorgan/shares/phd_work/network_data/grp_6mos_by_month/grp_6mos_by_month_2005-10-04_pre-20220604-120827.tab | ⋯ | 13711 | 7126 | 7118 | 0.003878929 | 0.4142370 | 1.762767e-04 | 46238 | 0.11130250 | 1.124644e-05 | 33802 |\n",
       "| 2005-11-04 | 6mos | grp_6mos_by_month | 161 | 149 | 0.03528556 | 0.3409169 | 13501 | grp_6mos_by_month_2005-11-04_pre-20220604-121212.tab | /home/jonathanmorgan/shares/phd_work/network_data/grp_6mos_by_month/grp_6mos_by_month_2005-11-04_pre-20220604-121212.tab | ⋯ | 13499 | 6967 | 6960 | 0.003454774 | 0.4170922 | 1.805838e-04 | 45900 | 0.10786637 | 1.106464e-05 | 33416 |\n",
       "| 2005-12-05 | 6mos | grp_6mos_by_month | 166 | 155 | 0.03338141 | 0.3385650 | 13438 | grp_6mos_by_month_2005-12-05_pre-20220604-121603.tab | /home/jonathanmorgan/shares/phd_work/network_data/grp_6mos_by_month/grp_6mos_by_month_2005-12-05_pre-20220604-121603.tab | ⋯ | 13436 | 6899 | 6892 | 0.003483997 | 0.4107850 | 1.741603e-04 | 45370 | 0.10847303 | 1.114655e-05 | 33142 |\n",
       "| 2006-01-05 | 6mos | grp_6mos_by_month | 166 | 158 | 0.03253381 | 0.3256306 | 13222 | grp_6mos_by_month_2006-01-05_pre-20220604-121948.tab | /home/jonathanmorgan/shares/phd_work/network_data/grp_6mos_by_month/grp_6mos_by_month_2006-01-05_pre-20220604-121948.tab | ⋯ | 13220 | 6919 | 6911 | 0.003653799 | 0.4245886 | 1.861005e-04 | 45090 | 0.10936852 | 1.143365e-05 | 32574 |\n",
       "| 2006-02-05 | 6mos | grp_6mos_by_month | 169 | 159 | 0.04372529 | 0.3202009 | 13095 | grp_6mos_by_month_2006-02-05_pre-20220604-122317.tab | /home/jonathanmorgan/shares/phd_work/network_data/grp_6mos_by_month/grp_6mos_by_month_2006-02-05_pre-20220604-122317.tab | ⋯ | 13093 | 6893 | 6887 | 0.003951183 | 0.4016676 | 1.752257e-04 | 44780 | 0.10815866 | 1.139989e-05 | 32250 |\n",
       "| 2006-03-08 | 6mos | grp_6mos_by_month | 166 | 160 | 0.05020973 | 0.3193609 | 12891 | grp_6mos_by_month_2006-03-08_pre-20220604-122637.tab | /home/jonathanmorgan/shares/phd_work/network_data/grp_6mos_by_month/grp_6mos_by_month_2006-03-08_pre-20220604-122637.tab | ⋯ | 12889 | 6764 | 6758 | 0.003888655 | 0.3701014 | 1.646830e-04 | 44578 | 0.10492004 | 1.114975e-05 | 31640 |\n",
       "| 2006-04-08 | 6mos | grp_6mos_by_month | 160 | 152 | 0.03908107 | 0.3049751 | 12842 | grp_6mos_by_month_2006-04-08_pre-20220604-122958.tab | /home/jonathanmorgan/shares/phd_work/network_data/grp_6mos_by_month/grp_6mos_by_month_2006-04-08_pre-20220604-122958.tab | ⋯ | 12840 | 6878 | 6874 | 0.003655398 | 0.3436342 | 1.487270e-04 | 44710 | 0.09902329 | 1.053143e-05 | 31606 |\n",
       "| 2006-05-09 | 6mos | grp_6mos_by_month | 162 | 155 | 0.03462691 | 0.2963780 | 12812 | grp_6mos_by_month_2006-05-09_pre-20220604-123316.tab | /home/jonathanmorgan/shares/phd_work/network_data/grp_6mos_by_month/grp_6mos_by_month_2006-05-09_pre-20220604-123316.tab | ⋯ | 12810 | 6931 | 6928 | 0.004084478 | 0.3254412 | 1.427083e-04 | 44804 | 0.09817331 | 1.044678e-05 | 31494 |\n",
       "| 2006-06-09 | 6mos | grp_6mos_by_month | 160 | 153 | 0.04242751 | 0.2958635 | 12711 | grp_6mos_by_month_2006-06-09_pre-20220604-123643.tab | /home/jonathanmorgan/shares/phd_work/network_data/grp_6mos_by_month/grp_6mos_by_month_2006-06-09_pre-20220604-123643.tab | ⋯ | 12709 | 6915 | 6911 | 0.004145107 | 0.3380814 | 1.467811e-04 | 44488 | 0.09920263 | 1.068769e-05 | 31348 |\n",
       "| 2006-07-10 | 6mos | grp_6mos_by_month | 165 | 157 | 0.03583794 | 0.2966170 | 12682 | grp_6mos_by_month_2006-07-10_pre-20220604-123955.tab | /home/jonathanmorgan/shares/phd_work/network_data/grp_6mos_by_month/grp_6mos_by_month_2006-07-10_pre-20220604-123955.tab | ⋯ | 12680 | 6853 | 6848 | 0.004292772 | 0.3309831 | 1.416562e-04 | 44730 | 0.09409485 | 1.016437e-05 | 31466 |\n",
       "| 2006-08-10 | 6mos | grp_6mos_by_month | 157 | 151 | 0.03375570 | 0.2932263 | 12648 | grp_6mos_by_month_2006-08-10_pre-20220604-124308.tab | /home/jonathanmorgan/shares/phd_work/network_data/grp_6mos_by_month/grp_6mos_by_month_2006-08-10_pre-20220604-124308.tab | ⋯ | 12646 | 6852 | 6843 | 0.003942385 | 0.3348347 | 1.374916e-04 | 44018 | 0.09530084 | 1.028173e-05 | 31216 |\n",
       "| 2006-09-10 | 6mos | grp_6mos_by_month | 162 | 156 | 0.03785162 | 0.2902436 | 12531 | grp_6mos_by_month_2006-09-10_pre-20220604-124636.tab | /home/jonathanmorgan/shares/phd_work/network_data/grp_6mos_by_month/grp_6mos_by_month_2006-09-10_pre-20220604-124636.tab | ⋯ | 12529 | 6795 | 6783 | 0.004221112 | 0.3283877 | 1.319044e-04 | 43312 | 0.09435592 | 1.024538e-05 | 30872 |\n",
       "| 2006-10-11 | 6mos | grp_6mos_by_month | 165 | 161 | 0.03756511 | 0.3034711 | 12518 | grp_6mos_by_month_2006-10-11_pre-20220604-124959.tab | /home/jonathanmorgan/shares/phd_work/network_data/grp_6mos_by_month/grp_6mos_by_month_2006-10-11_pre-20220604-124959.tab | ⋯ | 12516 | 6668 | 6656 | 0.004353011 | 0.3357301 | 1.345153e-04 | 43310 | 0.09301812 | 1.008797e-05 | 30816 |\n",
       "| 2006-11-11 | 6mos | grp_6mos_by_month | 157 | 154 | 0.03014250 | 0.3040228 | 12581 | grp_6mos_by_month_2006-11-11_pre-20220604-125318.tab | /home/jonathanmorgan/shares/phd_work/network_data/grp_6mos_by_month/grp_6mos_by_month_2006-11-11_pre-20220604-125318.tab | ⋯ | 12579 | 6686 | 6673 | 0.004293225 | 0.3198402 | 1.280773e-04 | 43722 | 0.08629197 | 9.317201e-06 | 31222 |\n",
       "| 2006-12-12 | 6mos | grp_6mos_by_month | 158 | 154 | 0.03377546 | 0.2974433 | 12624 | grp_6mos_by_month_2006-12-12_pre-20220604-125624.tab | /home/jonathanmorgan/shares/phd_work/network_data/grp_6mos_by_month/grp_6mos_by_month_2006-12-12_pre-20220604-125624.tab | ⋯ | 12622 | 6793 | 6783 | 0.003555865 | 0.3310035 | 1.240054e-04 | 42936 | 0.08840180 | 9.479889e-06 | 31148 |\n",
       "| 2007-01-12 | 6mos | grp_6mos_by_month | 152 | 147 | 0.03460294 | 0.2930608 | 12670 | grp_6mos_by_month_2007-01-12_pre-20220604-125935.tab | /home/jonathanmorgan/shares/phd_work/network_data/grp_6mos_by_month/grp_6mos_by_month_2007-01-12_pre-20220604-125935.tab | ⋯ | 12668 | 6851 | 6837 | 0.003222667 | 0.3361268 | 1.226958e-04 | 42560 | 0.08642300 | 9.211799e-06 | 31254 |\n",
       "| 2007-02-12 | 6mos | grp_6mos_by_month | 151 | 142 | 0.02938787 | 0.2974352 | 12527 | grp_6mos_by_month_2007-02-12_pre-20220604-130252.tab | /home/jonathanmorgan/shares/phd_work/network_data/grp_6mos_by_month/grp_6mos_by_month_2007-02-12_pre-20220604-130252.tab | ⋯ | 12525 | 6741 | 6730 | 0.003375865 | 0.3461457 | 1.283189e-04 | 41788 | 0.08663734 | 9.359556e-06 | 30960 |\n",
       "| 2007-03-15 | 6mos | grp_6mos_by_month | 139 | 127 | 0.02837983 | 0.2876625 | 12682 | grp_6mos_by_month_2007-03-15_pre-20220604-130605.tab | /home/jonathanmorgan/shares/phd_work/network_data/grp_6mos_by_month/grp_6mos_by_month_2007-03-15_pre-20220604-130605.tab | ⋯ | 12680 | 6938 | 6929 | 0.003200182 | 0.3457508 | 1.244299e-04 | 42044 | 0.08486774 | 9.032661e-06 | 31318 |\n",
       "| 2007-04-15 | 6mos | grp_6mos_by_month | 133 | 121 | 0.02703639 | 0.2892404 | 12402 | grp_6mos_by_month_2007-04-15_pre-20220604-130914.tab | /home/jonathanmorgan/shares/phd_work/network_data/grp_6mos_by_month/grp_6mos_by_month_2007-04-15_pre-20220604-130914.tab | ⋯ | 12400 | 6737 | 6729 | 0.003116848 | 0.3715273 | 1.337040e-04 | 40374 | 0.08683507 | 9.445224e-06 | 30544 |\n",
       "| 2007-05-16 | 6mos | grp_6mos_by_month | 135 | 122 | 0.03231720 | 0.3010119 | 12250 | grp_6mos_by_month_2007-05-16_pre-20220604-131210.tab | /home/jonathanmorgan/shares/phd_work/network_data/grp_6mos_by_month/grp_6mos_by_month_2007-05-16_pre-20220604-131210.tab | ⋯ | 12248 | 6546 | 6538 | 0.003254004 | 0.3820299 | 1.369772e-04 | 39210 | 0.08855043 | 9.707897e-06 | 29986 |\n",
       "| 2007-06-16 | 6mos | grp_6mos_by_month | 138 | 128 | 0.03451116 | 0.3082614 | 12215 | grp_6mos_by_month_2007-06-16_pre-20220604-131501.tab | /home/jonathanmorgan/shares/phd_work/network_data/grp_6mos_by_month/grp_6mos_by_month_2007-06-16_pre-20220604-131501.tab | ⋯ | 12213 | 6409 | 6400 | 0.003471728 | 0.3835978 | 1.298393e-04 | 38242 | 0.08749842 | 9.589371e-06 | 29846 |\n",
       "| 2007-07-17 | 6mos | grp_6mos_by_month | 149 | 136 | 0.03788274 | 0.3193988 | 12064 | grp_6mos_by_month_2007-07-17_pre-20220604-131750.tab | /home/jonathanmorgan/shares/phd_work/network_data/grp_6mos_by_month/grp_6mos_by_month_2007-07-17_pre-20220604-131750.tab | ⋯ | 12062 | 6199 | 6195 | 0.003489948 | 0.3839633 | 1.243954e-04 | 36954 | 0.08982345 | 9.927308e-06 | 29304 |\n",
       "| 2007-08-17 | 6mos | grp_6mos_by_month | 157 | 146 | 0.04028974 | 0.3254143 | 11880 | grp_6mos_by_month_2007-08-17_pre-20220604-132033.tab | /home/jonathanmorgan/shares/phd_work/network_data/grp_6mos_by_month/grp_6mos_by_month_2007-08-17_pre-20220604-132033.tab | ⋯ | 11878 | 6069 | 6065 | 0.003670053 | 0.3815980 | 1.247641e-04 | 35952 | 0.08743222 | 9.811964e-06 | 28940 |\n",
       "| 2007-09-17 | 6mos | grp_6mos_by_month | 163 | 154 | 0.04296732 | 0.3425605 | 11825 | grp_6mos_by_month_2007-09-17_pre-20220604-132313.tab | /home/jonathanmorgan/shares/phd_work/network_data/grp_6mos_by_month/grp_6mos_by_month_2007-09-17_pre-20220604-132313.tab | ⋯ | 11823 | 5844 | 5841 | 0.003600441 | 0.3766045 | 1.174147e-04 | 35132 | 0.08495357 | 9.531557e-06 | 28802 |\n",
       "| 2007-10-18 | 6mos | grp_6mos_by_month | 159 | 151 | 0.04485291 | 0.3319759 | 11651 | grp_6mos_by_month_2007-10-18_pre-20220604-132557.tab | /home/jonathanmorgan/shares/phd_work/network_data/grp_6mos_by_month/grp_6mos_by_month_2007-10-18_pre-20220604-132557.tab | ⋯ | 11649 | 5895 | 5891 | 0.003633643 | 0.3499878 | 1.044554e-04 | 34174 | 0.08827104 | 1.006897e-05 | 28280 |\n",
       "| 2007-11-18 | 6mos | grp_6mos_by_month | 159 | 150 | 0.04076899 | 0.3213686 | 11526 | grp_6mos_by_month_2007-11-18_pre-20220604-132843.tab | /home/jonathanmorgan/shares/phd_work/network_data/grp_6mos_by_month/grp_6mos_by_month_2007-11-18_pre-20220604-132843.tab | ⋯ | 11524 | 5909 | 5906 | 0.003496365 | 0.3426789 | 9.828495e-05 | 33388 | 0.08545579 | 9.821787e-06 | 27956 |\n",
       "| 2007-12-19 | 6mos | grp_6mos_by_month | 147 | 141 | 0.03431558 | 0.3178911 | 11337 | grp_6mos_by_month_2007-12-19_pre-20220604-133126.tab | /home/jonathanmorgan/shares/phd_work/network_data/grp_6mos_by_month/grp_6mos_by_month_2007-12-19_pre-20220604-133126.tab | ⋯ | 11335 | 5822 | 5820 | 0.003460084 | 0.3455961 | 1.011698e-04 | 32612 | 0.08742421 | 1.022987e-05 | 27472 |\n",
       "| 2008-01-19 | 6mos | grp_6mos_by_month | 137 | 133 | 0.03868236 | 0.3142193 | 11212 | grp_6mos_by_month_2008-01-19_pre-20220604-133402.tab | /home/jonathanmorgan/shares/phd_work/network_data/grp_6mos_by_month/grp_6mos_by_month_2008-01-19_pre-20220604-133402.tab | ⋯ | 11210 | 5875 | 5872 | 0.003467064 | 0.3453995 | 9.885484e-05 | 31980 | 0.08766421 | 1.039556e-05 | 27202 |\n",
       "| 2008-02-19 | 6mos | grp_6mos_by_month | 130 | 126 | 0.03712728 | 0.3055511 | 11028 | grp_6mos_by_month_2008-02-19_pre-20220604-133627.tab | /home/jonathanmorgan/shares/phd_work/network_data/grp_6mos_by_month/grp_6mos_by_month_2008-02-19_pre-20220604-133627.tab | ⋯ | 11026 | 5857 | 5854 | 0.002733831 | 0.3604197 | 9.973111e-05 | 30792 | 0.09125905 | 1.094302e-05 | 26504 |\n",
       "| 2008-03-21 | 6mos | grp_6mos_by_month | 122 | 119 | 0.03252030 | 0.2897268 | 10883 | grp_6mos_by_month_2008-03-21_pre-20220604-133847.tab | /home/jonathanmorgan/shares/phd_work/network_data/grp_6mos_by_month/grp_6mos_by_month_2008-03-21_pre-20220604-133847.tab | ⋯ | 10881 | 5963 | 5960 | 0.002628423 | 0.3521973 | 9.441673e-05 | 29864 | 0.09514357 | 1.155762e-05 | 26026 |\n",
       "| 2008-04-21 | 6mos | grp_6mos_by_month | 116 | 112 | 0.03324426 | 0.2965259 | 10842 | grp_6mos_by_month_2008-04-21_pre-20220604-134102.tab | /home/jonathanmorgan/shares/phd_work/network_data/grp_6mos_by_month/grp_6mos_by_month_2008-04-21_pre-20220604-134102.tab | ⋯ | 10840 | 5863 | 5859 | 0.002849210 | 0.3632621 | 9.513242e-05 | 29578 | 0.09580613 | 1.169625e-05 | 25942 |\n",
       "| 2008-05-22 | 6mos | grp_6mos_by_month | 113 | 110 | 0.03611354 | 0.3056995 | 10707 | grp_6mos_by_month_2008-05-22_pre-20220604-134315.tab | /home/jonathanmorgan/shares/phd_work/network_data/grp_6mos_by_month/grp_6mos_by_month_2008-05-22_pre-20220604-134315.tab | ⋯ | 10705 | 5745 | 5742 | 0.003043922 | 0.3638734 | 9.700592e-05 | 29100 | 0.10072590 | 1.246436e-05 | 25508 |\n",
       "| 2008-06-22 | 6mos | grp_6mos_by_month | 115 | 113 | 0.03490838 | 0.3076343 | 10493 | grp_6mos_by_month_2008-06-22_pre-20220604-134526.tab | /home/jonathanmorgan/shares/phd_work/network_data/grp_6mos_by_month/grp_6mos_by_month_2008-06-22_pre-20220604-134526.tab | ⋯ | 10491 | 5558 | 5554 | 0.003100064 | 0.3438544 | 9.368001e-05 | 28856 | 0.09471662 | 1.196036e-05 | 25172 |\n",
       "| 2008-07-23 | 6mos | grp_6mos_by_month | 109 | 107 | 0.03791295 | 0.3219051 | 10346 | grp_6mos_by_month_2008-07-23_pre-20220604-134742.tab | /home/jonathanmorgan/shares/phd_work/network_data/grp_6mos_by_month/grp_6mos_by_month_2008-07-23_pre-20220604-134742.tab | ⋯ | 10344 | 5311 | 5308 | 0.003247644 | 0.3348568 | 9.238001e-05 | 28478 | 0.09518377 | 1.219057e-05 | 24836 |\n",
       "| 2008-08-23 | 6mos | grp_6mos_by_month | 110 | 107 | 0.03595952 | 0.3243036 | 10334 | grp_6mos_by_month_2008-08-23_pre-20220604-134954.tab | /home/jonathanmorgan/shares/phd_work/network_data/grp_6mos_by_month/grp_6mos_by_month_2008-08-23_pre-20220604-134954.tab | ⋯ | 10332 | 5277 | 5274 | 0.003607291 | 0.3184068 | 8.405107e-05 | 28246 | 0.09264637 | 1.178820e-05 | 24674 |\n",
       "| 2008-09-23 | 6mos | grp_6mos_by_month | 113 | 109 | 0.03628329 | 0.3269527 | 10259 | grp_6mos_by_month_2008-09-23_pre-20220604-135158.tab | /home/jonathanmorgan/shares/phd_work/network_data/grp_6mos_by_month/grp_6mos_by_month_2008-09-23_pre-20220604-135158.tab | ⋯ | 10257 | 5158 | 5152 | 0.003852482 | 0.3207748 | 8.511363e-05 | 28070 | 0.09352190 | 1.201818e-05 | 24538 |\n",
       "| 2008-10-24 | 6mos | grp_6mos_by_month | 109 | 105 | 0.03473278 | 0.3217005 | 10212 | grp_6mos_by_month_2008-10-24_pre-20220604-135401.tab | /home/jonathanmorgan/shares/phd_work/network_data/grp_6mos_by_month/grp_6mos_by_month_2008-10-24_pre-20220604-135401.tab | ⋯ | 10210 | 5176 | 5171 | 0.003678256 | 0.3497207 | 9.386189e-05 | 27774 | 0.09665621 | 1.251275e-05 | 24412 |\n",
       "| 2008-11-24 | 6mos | grp_6mos_by_month | 108 | 105 | 0.03692661 | 0.3155697 | 10177 | grp_6mos_by_month_2008-11-24_pre-20220604-135605.tab | /home/jonathanmorgan/shares/phd_work/network_data/grp_6mos_by_month/grp_6mos_by_month_2008-11-24_pre-20220604-135605.tab | ⋯ | 10175 | 5276 | 5272 | 0.004088878 | 0.3524095 | 9.429603e-05 | 27780 | 0.09638022 | 1.261804e-05 | 24502 |\n",
       "| 2008-12-25 | 6mos | grp_6mos_by_month | 107 | 104 | 0.03108438 | 0.2963570 | 10081 | grp_6mos_by_month_2008-12-25_pre-20220604-135809.tab | /home/jonathanmorgan/shares/phd_work/network_data/grp_6mos_by_month/grp_6mos_by_month_2008-12-25_pre-20220604-135809.tab | ⋯ | 10079 | 5398 | 5394 | 0.004215317 | 0.3385938 | 9.212338e-05 | 27842 | 0.09296583 | 1.234746e-05 | 24474 |\n",
       "| 2009-01-25 | 6mos | grp_6mos_by_month | 108 | 105 | 0.03261287 | 0.2810441 | 10035 | grp_6mos_by_month_2009-01-25_pre-20220604-140021.tab | /home/jonathanmorgan/shares/phd_work/network_data/grp_6mos_by_month/grp_6mos_by_month_2009-01-25_pre-20220604-140021.tab | ⋯ | 10033 | 5542 | 5537 | 0.003976346 | 0.3206439 | 8.814150e-05 | 27754 | 0.09625627 | 1.285832e-05 | 24316 |\n",
       "| 2009-02-25 | 6mos | grp_6mos_by_month | 102 |  99 | 0.03150079 | 0.2784491 | 10019 | grp_6mos_by_month_2009-02-25_pre-20220604-140219.tab | /home/jonathanmorgan/shares/phd_work/network_data/grp_6mos_by_month/grp_6mos_by_month_2009-02-25_pre-20220604-140219.tab | ⋯ | 10017 | 5660 | 5655 | 0.003817856 | 0.3120153 | 8.756557e-05 | 28050 | 0.09696011 | 1.307855e-05 | 24466 |\n",
       "| 2009-03-28 | 6mos | grp_6mos_by_month |  98 |  92 | 0.03004068 | 0.2706631 |  9991 | grp_6mos_by_month_2009-03-28_pre-20220604-140420.tab | /home/jonathanmorgan/shares/phd_work/network_data/grp_6mos_by_month/grp_6mos_by_month_2009-03-28_pre-20220604-140420.tab | ⋯ |  9989 | 5690 | 5687 | 0.003572850 | 0.3004435 | 8.370705e-05 | 28054 | 0.09784626 | 1.327215e-05 | 24446 |\n",
       "| 2009-04-28 | 6mos | grp_6mos_by_month |  97 |  92 | 0.03168159 | 0.2705843 | 10077 | grp_6mos_by_month_2009-04-28_pre-20220604-140621.tab | /home/jonathanmorgan/shares/phd_work/network_data/grp_6mos_by_month/grp_6mos_by_month_2009-04-28_pre-20220604-140621.tab | ⋯ | 10075 | 5766 | 5761 | 0.003386661 | 0.2941084 | 8.133818e-05 | 28396 | 0.09700182 | 1.302687e-05 | 24662 |\n",
       "| 2009-05-29 | 6mos | grp_6mos_by_month | 103 |  99 | 0.03245617 | 0.2767840 | 10127 | grp_6mos_by_month_2009-05-29_pre-20220604-140826.tab | /home/jonathanmorgan/shares/phd_work/network_data/grp_6mos_by_month/grp_6mos_by_month_2009-05-29_pre-20220604-140826.tab | ⋯ | 10125 | 5725 | 5720 | 0.003059595 | 0.2862323 | 8.141452e-05 | 28754 | 0.09424958 | 1.260582e-05 | 24852 |\n",
       "| 2009-06-29 | 6mos | grp_6mos_by_month |  99 |  95 | 0.03268725 | 0.2911130 | 10199 | grp_6mos_by_month_2009-06-29_pre-20220604-141033.tab | /home/jonathanmorgan/shares/phd_work/network_data/grp_6mos_by_month/grp_6mos_by_month_2009-06-29_pre-20220604-141033.tab | ⋯ | 10197 | 5615 | 5609 | 0.002752571 | 0.2812563 | 8.132667e-05 | 29200 | 0.08923869 | 1.177461e-05 | 24988 |\n",
       "| 2009-07-30 | 6mos | grp_6mos_by_month |  98 |  93 | 0.03471899 | 0.2998842 | 10204 | grp_6mos_by_month_2009-07-30_pre-20220604-141239.tab | /home/jonathanmorgan/shares/phd_work/network_data/grp_6mos_by_month/grp_6mos_by_month_2009-07-30_pre-20220604-141239.tab | ⋯ | 10202 | 5549 | 5544 | 0.002976724 | 0.2929895 | 8.678132e-05 | 29256 | 0.09444272 | 1.247407e-05 | 24896 |\n",
       "| 2009-08-30 | 6mos | grp_6mos_by_month |  95 |  90 | 0.03639794 | 0.3115635 | 10260 | grp_6mos_by_month_2009-08-30_pre-20220604-141447.tab | /home/jonathanmorgan/shares/phd_work/network_data/grp_6mos_by_month/grp_6mos_by_month_2009-08-30_pre-20220604-141447.tab | ⋯ | 10258 | 5494 | 5489 | 0.002599281 | 0.3249312 | 9.482730e-05 | 29124 | 0.09884831 | 1.298453e-05 | 24920 |\n",
       "| 2009-09-30 | 6mos | grp_6mos_by_month |  97 |  94 | 0.03843484 | 0.3173385 | 10184 | grp_6mos_by_month_2009-09-30_pre-20220604-141700.tab | /home/jonathanmorgan/shares/phd_work/network_data/grp_6mos_by_month/grp_6mos_by_month_2009-09-30_pre-20220604-141700.tab | ⋯ | 10182 | 5380 | 5376 | 0.002906687 | 0.3239084 | 9.593941e-05 | 28990 | 0.09961737 | 1.317911e-05 | 24714 |\n",
       "| 2009-10-31 | 6mos | grp_6mos_by_month |  96 |  91 | 0.03872557 | 0.3233700 | 10173 | grp_6mos_by_month_2009-10-31_pre-20220604-141919.tab | /home/jonathanmorgan/shares/phd_work/network_data/grp_6mos_by_month/grp_6mos_by_month_2009-10-31_pre-20220604-141919.tab | ⋯ | 10171 | 5351 | 5348 | 0.002609997 | 0.3376222 | 9.833191e-05 | 28730 | 0.10550592 | 1.398101e-05 | 24556 |\n",
       "| 2009-12-01 | 6mos | grp_6mos_by_month |  94 |  89 | 0.03779928 | 0.3206978 | 10127 | grp_6mos_by_month_2009-12-01_pre-20220604-142137.tab | /home/jonathanmorgan/shares/phd_work/network_data/grp_6mos_by_month/grp_6mos_by_month_2009-12-01_pre-20220604-142137.tab | ⋯ | 10125 | 5352 | 5349 | 0.002996733 | 0.3571215 | 1.086511e-04 | 28516 | 0.10835966 | 1.440107e-05 | 24310 |\n",
       "| 2010-01-01 | 6mos | grp_6mos_by_month |  92 |  87 | 0.04391818 | 0.3127497 | 10051 | grp_6mos_by_month_2010-01-01_pre-20220604-142343.tab | /home/jonathanmorgan/shares/phd_work/network_data/grp_6mos_by_month/grp_6mos_by_month_2010-01-01_pre-20220604-142343.tab | ⋯ | 10049 | 5378 | 5375 | 0.002671762 | 0.3737479 | 1.189169e-04 | 28328 | 0.10538321 | 1.402573e-05 | 24050 |\n",
       "| 2010-02-01 | 6mos | grp_6mos_by_month |  98 |  94 | 0.04065022 | 0.3098951 | 10011 | grp_6mos_by_month_2010-02-01_pre-20220604-142549.tab | /home/jonathanmorgan/shares/phd_work/network_data/grp_6mos_by_month/grp_6mos_by_month_2010-02-01_pre-20220604-142549.tab | ⋯ | 10009 | 5361 | 5358 | 0.002417876 | 0.3598890 | 1.143986e-04 | 28310 | 0.10702934 | 1.429780e-05 | 23904 |\n",
       "| 2010-03-04 | 6mos | grp_6mos_by_month |  99 |  94 | 0.04238069 | 0.3079493 |  9911 | grp_6mos_by_month_2010-03-04_pre-20220604-142755.tab | /home/jonathanmorgan/shares/phd_work/network_data/grp_6mos_by_month/grp_6mos_by_month_2010-03-04_pre-20220604-142755.tab | ⋯ |  9909 | 5352 | 5349 | 0.002646572 | 0.3682139 | 1.198156e-04 | 27930 | 0.11096742 | 1.495458e-05 | 23530 |\n",
       "| 2010-04-04 | 6mos | grp_6mos_by_month |  97 |  93 | 0.04516083 | 0.3024456 |  9808 | grp_6mos_by_month_2010-04-04_pre-20220604-143001.tab | /home/jonathanmorgan/shares/phd_work/network_data/grp_6mos_by_month/grp_6mos_by_month_2010-04-04_pre-20220604-143001.tab | ⋯ |  9806 | 5350 | 5345 | 0.002918558 | 0.3592659 | 1.188096e-04 | 27856 | 0.10877313 | 1.483353e-05 | 23372 |\n",
       "| 2010-05-05 | 6mos | grp_6mos_by_month |  94 |  91 | 0.04318593 | 0.3104677 |  9693 | grp_6mos_by_month_2010-05-05_pre-20220604-143216.tab | /home/jonathanmorgan/shares/phd_work/network_data/grp_6mos_by_month/grp_6mos_by_month_2010-05-05_pre-20220604-143216.tab | ⋯ |  9691 | 5243 | 5238 | 0.002744892 | 0.3561614 | 1.169824e-04 | 27322 | 0.10734713 | 1.471937e-05 | 22990 |\n",
       "\n"
      ],
      "text/plain": [
       "   baseDate   networkDuration label             beforeAuthorCount2And4\n",
       "1  2005-07-03 6mos            grp_6mos_by_month 159                   \n",
       "2  2005-08-03 6mos            grp_6mos_by_month 160                   \n",
       "3  2005-09-03 6mos            grp_6mos_by_month 158                   \n",
       "4  2005-10-04 6mos            grp_6mos_by_month 158                   \n",
       "5  2005-11-04 6mos            grp_6mos_by_month 161                   \n",
       "6  2005-12-05 6mos            grp_6mos_by_month 166                   \n",
       "7  2006-01-05 6mos            grp_6mos_by_month 166                   \n",
       "8  2006-02-05 6mos            grp_6mos_by_month 169                   \n",
       "9  2006-03-08 6mos            grp_6mos_by_month 166                   \n",
       "10 2006-04-08 6mos            grp_6mos_by_month 160                   \n",
       "11 2006-05-09 6mos            grp_6mos_by_month 162                   \n",
       "12 2006-06-09 6mos            grp_6mos_by_month 160                   \n",
       "13 2006-07-10 6mos            grp_6mos_by_month 165                   \n",
       "14 2006-08-10 6mos            grp_6mos_by_month 157                   \n",
       "15 2006-09-10 6mos            grp_6mos_by_month 162                   \n",
       "16 2006-10-11 6mos            grp_6mos_by_month 165                   \n",
       "17 2006-11-11 6mos            grp_6mos_by_month 157                   \n",
       "18 2006-12-12 6mos            grp_6mos_by_month 158                   \n",
       "19 2007-01-12 6mos            grp_6mos_by_month 152                   \n",
       "20 2007-02-12 6mos            grp_6mos_by_month 151                   \n",
       "21 2007-03-15 6mos            grp_6mos_by_month 139                   \n",
       "22 2007-04-15 6mos            grp_6mos_by_month 133                   \n",
       "23 2007-05-16 6mos            grp_6mos_by_month 135                   \n",
       "24 2007-06-16 6mos            grp_6mos_by_month 138                   \n",
       "25 2007-07-17 6mos            grp_6mos_by_month 149                   \n",
       "26 2007-08-17 6mos            grp_6mos_by_month 157                   \n",
       "27 2007-09-17 6mos            grp_6mos_by_month 163                   \n",
       "28 2007-10-18 6mos            grp_6mos_by_month 159                   \n",
       "29 2007-11-18 6mos            grp_6mos_by_month 159                   \n",
       "30 2007-12-19 6mos            grp_6mos_by_month 147                   \n",
       "31 2008-01-19 6mos            grp_6mos_by_month 137                   \n",
       "32 2008-02-19 6mos            grp_6mos_by_month 130                   \n",
       "33 2008-03-21 6mos            grp_6mos_by_month 122                   \n",
       "34 2008-04-21 6mos            grp_6mos_by_month 116                   \n",
       "35 2008-05-22 6mos            grp_6mos_by_month 113                   \n",
       "36 2008-06-22 6mos            grp_6mos_by_month 115                   \n",
       "37 2008-07-23 6mos            grp_6mos_by_month 109                   \n",
       "38 2008-08-23 6mos            grp_6mos_by_month 110                   \n",
       "39 2008-09-23 6mos            grp_6mos_by_month 113                   \n",
       "40 2008-10-24 6mos            grp_6mos_by_month 109                   \n",
       "41 2008-11-24 6mos            grp_6mos_by_month 108                   \n",
       "42 2008-12-25 6mos            grp_6mos_by_month 107                   \n",
       "43 2009-01-25 6mos            grp_6mos_by_month 108                   \n",
       "44 2009-02-25 6mos            grp_6mos_by_month 102                   \n",
       "45 2009-03-28 6mos            grp_6mos_by_month  98                   \n",
       "46 2009-04-28 6mos            grp_6mos_by_month  97                   \n",
       "47 2009-05-29 6mos            grp_6mos_by_month 103                   \n",
       "48 2009-06-29 6mos            grp_6mos_by_month  99                   \n",
       "49 2009-07-30 6mos            grp_6mos_by_month  98                   \n",
       "50 2009-08-30 6mos            grp_6mos_by_month  95                   \n",
       "51 2009-09-30 6mos            grp_6mos_by_month  97                   \n",
       "52 2009-10-31 6mos            grp_6mos_by_month  96                   \n",
       "53 2009-12-01 6mos            grp_6mos_by_month  94                   \n",
       "54 2010-01-01 6mos            grp_6mos_by_month  92                   \n",
       "55 2010-02-01 6mos            grp_6mos_by_month  98                   \n",
       "56 2010-03-04 6mos            grp_6mos_by_month  99                   \n",
       "57 2010-04-04 6mos            grp_6mos_by_month  97                   \n",
       "58 2010-05-05 6mos            grp_6mos_by_month  94                   \n",
       "   beforeAuthorCountOnly2 beforeBetweennessCentrality beforeConnectedness\n",
       "1  151                    0.03663406                  0.2940678          \n",
       "2  152                    0.03495803                  0.3091478          \n",
       "3  146                    0.03780139                  0.3277417          \n",
       "4  148                    0.03969569                  0.3325601          \n",
       "5  149                    0.03528556                  0.3409169          \n",
       "6  155                    0.03338141                  0.3385650          \n",
       "7  158                    0.03253381                  0.3256306          \n",
       "8  159                    0.04372529                  0.3202009          \n",
       "9  160                    0.05020973                  0.3193609          \n",
       "10 152                    0.03908107                  0.3049751          \n",
       "11 155                    0.03462691                  0.2963780          \n",
       "12 153                    0.04242751                  0.2958635          \n",
       "13 157                    0.03583794                  0.2966170          \n",
       "14 151                    0.03375570                  0.2932263          \n",
       "15 156                    0.03785162                  0.2902436          \n",
       "16 161                    0.03756511                  0.3034711          \n",
       "17 154                    0.03014250                  0.3040228          \n",
       "18 154                    0.03377546                  0.2974433          \n",
       "19 147                    0.03460294                  0.2930608          \n",
       "20 142                    0.02938787                  0.2974352          \n",
       "21 127                    0.02837983                  0.2876625          \n",
       "22 121                    0.02703639                  0.2892404          \n",
       "23 122                    0.03231720                  0.3010119          \n",
       "24 128                    0.03451116                  0.3082614          \n",
       "25 136                    0.03788274                  0.3193988          \n",
       "26 146                    0.04028974                  0.3254143          \n",
       "27 154                    0.04296732                  0.3425605          \n",
       "28 151                    0.04485291                  0.3319759          \n",
       "29 150                    0.04076899                  0.3213686          \n",
       "30 141                    0.03431558                  0.3178911          \n",
       "31 133                    0.03868236                  0.3142193          \n",
       "32 126                    0.03712728                  0.3055511          \n",
       "33 119                    0.03252030                  0.2897268          \n",
       "34 112                    0.03324426                  0.2965259          \n",
       "35 110                    0.03611354                  0.3056995          \n",
       "36 113                    0.03490838                  0.3076343          \n",
       "37 107                    0.03791295                  0.3219051          \n",
       "38 107                    0.03595952                  0.3243036          \n",
       "39 109                    0.03628329                  0.3269527          \n",
       "40 105                    0.03473278                  0.3217005          \n",
       "41 105                    0.03692661                  0.3155697          \n",
       "42 104                    0.03108438                  0.2963570          \n",
       "43 105                    0.03261287                  0.2810441          \n",
       "44  99                    0.03150079                  0.2784491          \n",
       "45  92                    0.03004068                  0.2706631          \n",
       "46  92                    0.03168159                  0.2705843          \n",
       "47  99                    0.03245617                  0.2767840          \n",
       "48  95                    0.03268725                  0.2911130          \n",
       "49  93                    0.03471899                  0.2998842          \n",
       "50  90                    0.03639794                  0.3115635          \n",
       "51  94                    0.03843484                  0.3173385          \n",
       "52  91                    0.03872557                  0.3233700          \n",
       "53  89                    0.03779928                  0.3206978          \n",
       "54  87                    0.04391818                  0.3127497          \n",
       "55  94                    0.04065022                  0.3098951          \n",
       "56  94                    0.04238069                  0.3079493          \n",
       "57  93                    0.04516083                  0.3024456          \n",
       "58  91                    0.04318593                  0.3104677          \n",
       "   beforeColumnCount beforeDataFileName                                  \n",
       "1  13775             grp_6mos_by_month_2005-07-03_pre-20220604-115739.tab\n",
       "2  13827             grp_6mos_by_month_2005-08-03_pre-20220604-120117.tab\n",
       "3  13878             grp_6mos_by_month_2005-09-03_pre-20220604-120452.tab\n",
       "4  13713             grp_6mos_by_month_2005-10-04_pre-20220604-120827.tab\n",
       "5  13501             grp_6mos_by_month_2005-11-04_pre-20220604-121212.tab\n",
       "6  13438             grp_6mos_by_month_2005-12-05_pre-20220604-121603.tab\n",
       "7  13222             grp_6mos_by_month_2006-01-05_pre-20220604-121948.tab\n",
       "8  13095             grp_6mos_by_month_2006-02-05_pre-20220604-122317.tab\n",
       "9  12891             grp_6mos_by_month_2006-03-08_pre-20220604-122637.tab\n",
       "10 12842             grp_6mos_by_month_2006-04-08_pre-20220604-122958.tab\n",
       "11 12812             grp_6mos_by_month_2006-05-09_pre-20220604-123316.tab\n",
       "12 12711             grp_6mos_by_month_2006-06-09_pre-20220604-123643.tab\n",
       "13 12682             grp_6mos_by_month_2006-07-10_pre-20220604-123955.tab\n",
       "14 12648             grp_6mos_by_month_2006-08-10_pre-20220604-124308.tab\n",
       "15 12531             grp_6mos_by_month_2006-09-10_pre-20220604-124636.tab\n",
       "16 12518             grp_6mos_by_month_2006-10-11_pre-20220604-124959.tab\n",
       "17 12581             grp_6mos_by_month_2006-11-11_pre-20220604-125318.tab\n",
       "18 12624             grp_6mos_by_month_2006-12-12_pre-20220604-125624.tab\n",
       "19 12670             grp_6mos_by_month_2007-01-12_pre-20220604-125935.tab\n",
       "20 12527             grp_6mos_by_month_2007-02-12_pre-20220604-130252.tab\n",
       "21 12682             grp_6mos_by_month_2007-03-15_pre-20220604-130605.tab\n",
       "22 12402             grp_6mos_by_month_2007-04-15_pre-20220604-130914.tab\n",
       "23 12250             grp_6mos_by_month_2007-05-16_pre-20220604-131210.tab\n",
       "24 12215             grp_6mos_by_month_2007-06-16_pre-20220604-131501.tab\n",
       "25 12064             grp_6mos_by_month_2007-07-17_pre-20220604-131750.tab\n",
       "26 11880             grp_6mos_by_month_2007-08-17_pre-20220604-132033.tab\n",
       "27 11825             grp_6mos_by_month_2007-09-17_pre-20220604-132313.tab\n",
       "28 11651             grp_6mos_by_month_2007-10-18_pre-20220604-132557.tab\n",
       "29 11526             grp_6mos_by_month_2007-11-18_pre-20220604-132843.tab\n",
       "30 11337             grp_6mos_by_month_2007-12-19_pre-20220604-133126.tab\n",
       "31 11212             grp_6mos_by_month_2008-01-19_pre-20220604-133402.tab\n",
       "32 11028             grp_6mos_by_month_2008-02-19_pre-20220604-133627.tab\n",
       "33 10883             grp_6mos_by_month_2008-03-21_pre-20220604-133847.tab\n",
       "34 10842             grp_6mos_by_month_2008-04-21_pre-20220604-134102.tab\n",
       "35 10707             grp_6mos_by_month_2008-05-22_pre-20220604-134315.tab\n",
       "36 10493             grp_6mos_by_month_2008-06-22_pre-20220604-134526.tab\n",
       "37 10346             grp_6mos_by_month_2008-07-23_pre-20220604-134742.tab\n",
       "38 10334             grp_6mos_by_month_2008-08-23_pre-20220604-134954.tab\n",
       "39 10259             grp_6mos_by_month_2008-09-23_pre-20220604-135158.tab\n",
       "40 10212             grp_6mos_by_month_2008-10-24_pre-20220604-135401.tab\n",
       "41 10177             grp_6mos_by_month_2008-11-24_pre-20220604-135605.tab\n",
       "42 10081             grp_6mos_by_month_2008-12-25_pre-20220604-135809.tab\n",
       "43 10035             grp_6mos_by_month_2009-01-25_pre-20220604-140021.tab\n",
       "44 10019             grp_6mos_by_month_2009-02-25_pre-20220604-140219.tab\n",
       "45  9991             grp_6mos_by_month_2009-03-28_pre-20220604-140420.tab\n",
       "46 10077             grp_6mos_by_month_2009-04-28_pre-20220604-140621.tab\n",
       "47 10127             grp_6mos_by_month_2009-05-29_pre-20220604-140826.tab\n",
       "48 10199             grp_6mos_by_month_2009-06-29_pre-20220604-141033.tab\n",
       "49 10204             grp_6mos_by_month_2009-07-30_pre-20220604-141239.tab\n",
       "50 10260             grp_6mos_by_month_2009-08-30_pre-20220604-141447.tab\n",
       "51 10184             grp_6mos_by_month_2009-09-30_pre-20220604-141700.tab\n",
       "52 10173             grp_6mos_by_month_2009-10-31_pre-20220604-141919.tab\n",
       "53 10127             grp_6mos_by_month_2009-12-01_pre-20220604-142137.tab\n",
       "54 10051             grp_6mos_by_month_2010-01-01_pre-20220604-142343.tab\n",
       "55 10011             grp_6mos_by_month_2010-02-01_pre-20220604-142549.tab\n",
       "56  9911             grp_6mos_by_month_2010-03-04_pre-20220604-142755.tab\n",
       "57  9808             grp_6mos_by_month_2010-04-04_pre-20220604-143001.tab\n",
       "58  9693             grp_6mos_by_month_2010-05-05_pre-20220604-143216.tab\n",
       "   beforeDataPath                                                                                                          \n",
       "1  /home/jonathanmorgan/shares/phd_work/network_data/grp_6mos_by_month/grp_6mos_by_month_2005-07-03_pre-20220604-115739.tab\n",
       "2  /home/jonathanmorgan/shares/phd_work/network_data/grp_6mos_by_month/grp_6mos_by_month_2005-08-03_pre-20220604-120117.tab\n",
       "3  /home/jonathanmorgan/shares/phd_work/network_data/grp_6mos_by_month/grp_6mos_by_month_2005-09-03_pre-20220604-120452.tab\n",
       "4  /home/jonathanmorgan/shares/phd_work/network_data/grp_6mos_by_month/grp_6mos_by_month_2005-10-04_pre-20220604-120827.tab\n",
       "5  /home/jonathanmorgan/shares/phd_work/network_data/grp_6mos_by_month/grp_6mos_by_month_2005-11-04_pre-20220604-121212.tab\n",
       "6  /home/jonathanmorgan/shares/phd_work/network_data/grp_6mos_by_month/grp_6mos_by_month_2005-12-05_pre-20220604-121603.tab\n",
       "7  /home/jonathanmorgan/shares/phd_work/network_data/grp_6mos_by_month/grp_6mos_by_month_2006-01-05_pre-20220604-121948.tab\n",
       "8  /home/jonathanmorgan/shares/phd_work/network_data/grp_6mos_by_month/grp_6mos_by_month_2006-02-05_pre-20220604-122317.tab\n",
       "9  /home/jonathanmorgan/shares/phd_work/network_data/grp_6mos_by_month/grp_6mos_by_month_2006-03-08_pre-20220604-122637.tab\n",
       "10 /home/jonathanmorgan/shares/phd_work/network_data/grp_6mos_by_month/grp_6mos_by_month_2006-04-08_pre-20220604-122958.tab\n",
       "11 /home/jonathanmorgan/shares/phd_work/network_data/grp_6mos_by_month/grp_6mos_by_month_2006-05-09_pre-20220604-123316.tab\n",
       "12 /home/jonathanmorgan/shares/phd_work/network_data/grp_6mos_by_month/grp_6mos_by_month_2006-06-09_pre-20220604-123643.tab\n",
       "13 /home/jonathanmorgan/shares/phd_work/network_data/grp_6mos_by_month/grp_6mos_by_month_2006-07-10_pre-20220604-123955.tab\n",
       "14 /home/jonathanmorgan/shares/phd_work/network_data/grp_6mos_by_month/grp_6mos_by_month_2006-08-10_pre-20220604-124308.tab\n",
       "15 /home/jonathanmorgan/shares/phd_work/network_data/grp_6mos_by_month/grp_6mos_by_month_2006-09-10_pre-20220604-124636.tab\n",
       "16 /home/jonathanmorgan/shares/phd_work/network_data/grp_6mos_by_month/grp_6mos_by_month_2006-10-11_pre-20220604-124959.tab\n",
       "17 /home/jonathanmorgan/shares/phd_work/network_data/grp_6mos_by_month/grp_6mos_by_month_2006-11-11_pre-20220604-125318.tab\n",
       "18 /home/jonathanmorgan/shares/phd_work/network_data/grp_6mos_by_month/grp_6mos_by_month_2006-12-12_pre-20220604-125624.tab\n",
       "19 /home/jonathanmorgan/shares/phd_work/network_data/grp_6mos_by_month/grp_6mos_by_month_2007-01-12_pre-20220604-125935.tab\n",
       "20 /home/jonathanmorgan/shares/phd_work/network_data/grp_6mos_by_month/grp_6mos_by_month_2007-02-12_pre-20220604-130252.tab\n",
       "21 /home/jonathanmorgan/shares/phd_work/network_data/grp_6mos_by_month/grp_6mos_by_month_2007-03-15_pre-20220604-130605.tab\n",
       "22 /home/jonathanmorgan/shares/phd_work/network_data/grp_6mos_by_month/grp_6mos_by_month_2007-04-15_pre-20220604-130914.tab\n",
       "23 /home/jonathanmorgan/shares/phd_work/network_data/grp_6mos_by_month/grp_6mos_by_month_2007-05-16_pre-20220604-131210.tab\n",
       "24 /home/jonathanmorgan/shares/phd_work/network_data/grp_6mos_by_month/grp_6mos_by_month_2007-06-16_pre-20220604-131501.tab\n",
       "25 /home/jonathanmorgan/shares/phd_work/network_data/grp_6mos_by_month/grp_6mos_by_month_2007-07-17_pre-20220604-131750.tab\n",
       "26 /home/jonathanmorgan/shares/phd_work/network_data/grp_6mos_by_month/grp_6mos_by_month_2007-08-17_pre-20220604-132033.tab\n",
       "27 /home/jonathanmorgan/shares/phd_work/network_data/grp_6mos_by_month/grp_6mos_by_month_2007-09-17_pre-20220604-132313.tab\n",
       "28 /home/jonathanmorgan/shares/phd_work/network_data/grp_6mos_by_month/grp_6mos_by_month_2007-10-18_pre-20220604-132557.tab\n",
       "29 /home/jonathanmorgan/shares/phd_work/network_data/grp_6mos_by_month/grp_6mos_by_month_2007-11-18_pre-20220604-132843.tab\n",
       "30 /home/jonathanmorgan/shares/phd_work/network_data/grp_6mos_by_month/grp_6mos_by_month_2007-12-19_pre-20220604-133126.tab\n",
       "31 /home/jonathanmorgan/shares/phd_work/network_data/grp_6mos_by_month/grp_6mos_by_month_2008-01-19_pre-20220604-133402.tab\n",
       "32 /home/jonathanmorgan/shares/phd_work/network_data/grp_6mos_by_month/grp_6mos_by_month_2008-02-19_pre-20220604-133627.tab\n",
       "33 /home/jonathanmorgan/shares/phd_work/network_data/grp_6mos_by_month/grp_6mos_by_month_2008-03-21_pre-20220604-133847.tab\n",
       "34 /home/jonathanmorgan/shares/phd_work/network_data/grp_6mos_by_month/grp_6mos_by_month_2008-04-21_pre-20220604-134102.tab\n",
       "35 /home/jonathanmorgan/shares/phd_work/network_data/grp_6mos_by_month/grp_6mos_by_month_2008-05-22_pre-20220604-134315.tab\n",
       "36 /home/jonathanmorgan/shares/phd_work/network_data/grp_6mos_by_month/grp_6mos_by_month_2008-06-22_pre-20220604-134526.tab\n",
       "37 /home/jonathanmorgan/shares/phd_work/network_data/grp_6mos_by_month/grp_6mos_by_month_2008-07-23_pre-20220604-134742.tab\n",
       "38 /home/jonathanmorgan/shares/phd_work/network_data/grp_6mos_by_month/grp_6mos_by_month_2008-08-23_pre-20220604-134954.tab\n",
       "39 /home/jonathanmorgan/shares/phd_work/network_data/grp_6mos_by_month/grp_6mos_by_month_2008-09-23_pre-20220604-135158.tab\n",
       "40 /home/jonathanmorgan/shares/phd_work/network_data/grp_6mos_by_month/grp_6mos_by_month_2008-10-24_pre-20220604-135401.tab\n",
       "41 /home/jonathanmorgan/shares/phd_work/network_data/grp_6mos_by_month/grp_6mos_by_month_2008-11-24_pre-20220604-135605.tab\n",
       "42 /home/jonathanmorgan/shares/phd_work/network_data/grp_6mos_by_month/grp_6mos_by_month_2008-12-25_pre-20220604-135809.tab\n",
       "43 /home/jonathanmorgan/shares/phd_work/network_data/grp_6mos_by_month/grp_6mos_by_month_2009-01-25_pre-20220604-140021.tab\n",
       "44 /home/jonathanmorgan/shares/phd_work/network_data/grp_6mos_by_month/grp_6mos_by_month_2009-02-25_pre-20220604-140219.tab\n",
       "45 /home/jonathanmorgan/shares/phd_work/network_data/grp_6mos_by_month/grp_6mos_by_month_2009-03-28_pre-20220604-140420.tab\n",
       "46 /home/jonathanmorgan/shares/phd_work/network_data/grp_6mos_by_month/grp_6mos_by_month_2009-04-28_pre-20220604-140621.tab\n",
       "47 /home/jonathanmorgan/shares/phd_work/network_data/grp_6mos_by_month/grp_6mos_by_month_2009-05-29_pre-20220604-140826.tab\n",
       "48 /home/jonathanmorgan/shares/phd_work/network_data/grp_6mos_by_month/grp_6mos_by_month_2009-06-29_pre-20220604-141033.tab\n",
       "49 /home/jonathanmorgan/shares/phd_work/network_data/grp_6mos_by_month/grp_6mos_by_month_2009-07-30_pre-20220604-141239.tab\n",
       "50 /home/jonathanmorgan/shares/phd_work/network_data/grp_6mos_by_month/grp_6mos_by_month_2009-08-30_pre-20220604-141447.tab\n",
       "51 /home/jonathanmorgan/shares/phd_work/network_data/grp_6mos_by_month/grp_6mos_by_month_2009-09-30_pre-20220604-141700.tab\n",
       "52 /home/jonathanmorgan/shares/phd_work/network_data/grp_6mos_by_month/grp_6mos_by_month_2009-10-31_pre-20220604-141919.tab\n",
       "53 /home/jonathanmorgan/shares/phd_work/network_data/grp_6mos_by_month/grp_6mos_by_month_2009-12-01_pre-20220604-142137.tab\n",
       "54 /home/jonathanmorgan/shares/phd_work/network_data/grp_6mos_by_month/grp_6mos_by_month_2010-01-01_pre-20220604-142343.tab\n",
       "55 /home/jonathanmorgan/shares/phd_work/network_data/grp_6mos_by_month/grp_6mos_by_month_2010-02-01_pre-20220604-142549.tab\n",
       "56 /home/jonathanmorgan/shares/phd_work/network_data/grp_6mos_by_month/grp_6mos_by_month_2010-03-04_pre-20220604-142755.tab\n",
       "57 /home/jonathanmorgan/shares/phd_work/network_data/grp_6mos_by_month/grp_6mos_by_month_2010-04-04_pre-20220604-143001.tab\n",
       "58 /home/jonathanmorgan/shares/phd_work/network_data/grp_6mos_by_month/grp_6mos_by_month_2010-05-05_pre-20220604-143216.tab\n",
       "   ⋯ afterRowCount afterSourceCount3And4 afterSourceCountOnly3\n",
       "1  ⋯ 13773         7601                  7593                 \n",
       "2  ⋯ 13825         7461                  7451                 \n",
       "3  ⋯ 13876         7288                  7281                 \n",
       "4  ⋯ 13711         7126                  7118                 \n",
       "5  ⋯ 13499         6967                  6960                 \n",
       "6  ⋯ 13436         6899                  6892                 \n",
       "7  ⋯ 13220         6919                  6911                 \n",
       "8  ⋯ 13093         6893                  6887                 \n",
       "9  ⋯ 12889         6764                  6758                 \n",
       "10 ⋯ 12840         6878                  6874                 \n",
       "11 ⋯ 12810         6931                  6928                 \n",
       "12 ⋯ 12709         6915                  6911                 \n",
       "13 ⋯ 12680         6853                  6848                 \n",
       "14 ⋯ 12646         6852                  6843                 \n",
       "15 ⋯ 12529         6795                  6783                 \n",
       "16 ⋯ 12516         6668                  6656                 \n",
       "17 ⋯ 12579         6686                  6673                 \n",
       "18 ⋯ 12622         6793                  6783                 \n",
       "19 ⋯ 12668         6851                  6837                 \n",
       "20 ⋯ 12525         6741                  6730                 \n",
       "21 ⋯ 12680         6938                  6929                 \n",
       "22 ⋯ 12400         6737                  6729                 \n",
       "23 ⋯ 12248         6546                  6538                 \n",
       "24 ⋯ 12213         6409                  6400                 \n",
       "25 ⋯ 12062         6199                  6195                 \n",
       "26 ⋯ 11878         6069                  6065                 \n",
       "27 ⋯ 11823         5844                  5841                 \n",
       "28 ⋯ 11649         5895                  5891                 \n",
       "29 ⋯ 11524         5909                  5906                 \n",
       "30 ⋯ 11335         5822                  5820                 \n",
       "31 ⋯ 11210         5875                  5872                 \n",
       "32 ⋯ 11026         5857                  5854                 \n",
       "33 ⋯ 10881         5963                  5960                 \n",
       "34 ⋯ 10840         5863                  5859                 \n",
       "35 ⋯ 10705         5745                  5742                 \n",
       "36 ⋯ 10491         5558                  5554                 \n",
       "37 ⋯ 10344         5311                  5308                 \n",
       "38 ⋯ 10332         5277                  5274                 \n",
       "39 ⋯ 10257         5158                  5152                 \n",
       "40 ⋯ 10210         5176                  5171                 \n",
       "41 ⋯ 10175         5276                  5272                 \n",
       "42 ⋯ 10079         5398                  5394                 \n",
       "43 ⋯ 10033         5542                  5537                 \n",
       "44 ⋯ 10017         5660                  5655                 \n",
       "45 ⋯  9989         5690                  5687                 \n",
       "46 ⋯ 10075         5766                  5761                 \n",
       "47 ⋯ 10125         5725                  5720                 \n",
       "48 ⋯ 10197         5615                  5609                 \n",
       "49 ⋯ 10202         5549                  5544                 \n",
       "50 ⋯ 10258         5494                  5489                 \n",
       "51 ⋯ 10182         5380                  5376                 \n",
       "52 ⋯ 10171         5351                  5348                 \n",
       "53 ⋯ 10125         5352                  5349                 \n",
       "54 ⋯ 10049         5378                  5375                 \n",
       "55 ⋯ 10009         5361                  5358                 \n",
       "56 ⋯  9909         5352                  5349                 \n",
       "57 ⋯  9806         5350                  5345                 \n",
       "58 ⋯  9691         5243                  5238                 \n",
       "   afterTransitivity graphCorrelation graphCovariance graphHammingDistance\n",
       "1  0.003357679       0.4569920        1.899087e-04    45358               \n",
       "2  0.003507436       0.4503089        1.908685e-04    45772               \n",
       "3  0.003824530       0.4207205        1.788617e-04    46714               \n",
       "4  0.003878929       0.4142370        1.762767e-04    46238               \n",
       "5  0.003454774       0.4170922        1.805838e-04    45900               \n",
       "6  0.003483997       0.4107850        1.741603e-04    45370               \n",
       "7  0.003653799       0.4245886        1.861005e-04    45090               \n",
       "8  0.003951183       0.4016676        1.752257e-04    44780               \n",
       "9  0.003888655       0.3701014        1.646830e-04    44578               \n",
       "10 0.003655398       0.3436342        1.487270e-04    44710               \n",
       "11 0.004084478       0.3254412        1.427083e-04    44804               \n",
       "12 0.004145107       0.3380814        1.467811e-04    44488               \n",
       "13 0.004292772       0.3309831        1.416562e-04    44730               \n",
       "14 0.003942385       0.3348347        1.374916e-04    44018               \n",
       "15 0.004221112       0.3283877        1.319044e-04    43312               \n",
       "16 0.004353011       0.3357301        1.345153e-04    43310               \n",
       "17 0.004293225       0.3198402        1.280773e-04    43722               \n",
       "18 0.003555865       0.3310035        1.240054e-04    42936               \n",
       "19 0.003222667       0.3361268        1.226958e-04    42560               \n",
       "20 0.003375865       0.3461457        1.283189e-04    41788               \n",
       "21 0.003200182       0.3457508        1.244299e-04    42044               \n",
       "22 0.003116848       0.3715273        1.337040e-04    40374               \n",
       "23 0.003254004       0.3820299        1.369772e-04    39210               \n",
       "24 0.003471728       0.3835978        1.298393e-04    38242               \n",
       "25 0.003489948       0.3839633        1.243954e-04    36954               \n",
       "26 0.003670053       0.3815980        1.247641e-04    35952               \n",
       "27 0.003600441       0.3766045        1.174147e-04    35132               \n",
       "28 0.003633643       0.3499878        1.044554e-04    34174               \n",
       "29 0.003496365       0.3426789        9.828495e-05    33388               \n",
       "30 0.003460084       0.3455961        1.011698e-04    32612               \n",
       "31 0.003467064       0.3453995        9.885484e-05    31980               \n",
       "32 0.002733831       0.3604197        9.973111e-05    30792               \n",
       "33 0.002628423       0.3521973        9.441673e-05    29864               \n",
       "34 0.002849210       0.3632621        9.513242e-05    29578               \n",
       "35 0.003043922       0.3638734        9.700592e-05    29100               \n",
       "36 0.003100064       0.3438544        9.368001e-05    28856               \n",
       "37 0.003247644       0.3348568        9.238001e-05    28478               \n",
       "38 0.003607291       0.3184068        8.405107e-05    28246               \n",
       "39 0.003852482       0.3207748        8.511363e-05    28070               \n",
       "40 0.003678256       0.3497207        9.386189e-05    27774               \n",
       "41 0.004088878       0.3524095        9.429603e-05    27780               \n",
       "42 0.004215317       0.3385938        9.212338e-05    27842               \n",
       "43 0.003976346       0.3206439        8.814150e-05    27754               \n",
       "44 0.003817856       0.3120153        8.756557e-05    28050               \n",
       "45 0.003572850       0.3004435        8.370705e-05    28054               \n",
       "46 0.003386661       0.2941084        8.133818e-05    28396               \n",
       "47 0.003059595       0.2862323        8.141452e-05    28754               \n",
       "48 0.002752571       0.2812563        8.132667e-05    29200               \n",
       "49 0.002976724       0.2929895        8.678132e-05    29256               \n",
       "50 0.002599281       0.3249312        9.482730e-05    29124               \n",
       "51 0.002906687       0.3239084        9.593941e-05    28990               \n",
       "52 0.002609997       0.3376222        9.833191e-05    28730               \n",
       "53 0.002996733       0.3571215        1.086511e-04    28516               \n",
       "54 0.002671762       0.3737479        1.189169e-04    28328               \n",
       "55 0.002417876       0.3598890        1.143986e-04    28310               \n",
       "56 0.002646572       0.3682139        1.198156e-04    27930               \n",
       "57 0.002918558       0.3592659        1.188096e-04    27856               \n",
       "58 0.002744892       0.3561614        1.169824e-04    27322               \n",
       "   binGraphCorrelation binGraphCovariance binGraphHammingDistance\n",
       "1  0.11059698          1.109275e-05       33842                  \n",
       "2  0.11349380          1.135477e-05       33904                  \n",
       "3  0.10745234          1.068976e-05       34214                  \n",
       "4  0.11130250          1.124644e-05       33802                  \n",
       "5  0.10786637          1.106464e-05       33416                  \n",
       "6  0.10847303          1.114655e-05       33142                  \n",
       "7  0.10936852          1.143365e-05       32574                  \n",
       "8  0.10815866          1.139989e-05       32250                  \n",
       "9  0.10492004          1.114975e-05       31640                  \n",
       "10 0.09902329          1.053143e-05       31606                  \n",
       "11 0.09817331          1.044678e-05       31494                  \n",
       "12 0.09920263          1.068769e-05       31348                  \n",
       "13 0.09409485          1.016437e-05       31466                  \n",
       "14 0.09530084          1.028173e-05       31216                  \n",
       "15 0.09435592          1.024538e-05       30872                  \n",
       "16 0.09301812          1.008797e-05       30816                  \n",
       "17 0.08629197          9.317201e-06       31222                  \n",
       "18 0.08840180          9.479889e-06       31148                  \n",
       "19 0.08642300          9.211799e-06       31254                  \n",
       "20 0.08663734          9.359556e-06       30960                  \n",
       "21 0.08486774          9.032661e-06       31318                  \n",
       "22 0.08683507          9.445224e-06       30544                  \n",
       "23 0.08855043          9.707897e-06       29986                  \n",
       "24 0.08749842          9.589371e-06       29846                  \n",
       "25 0.08982345          9.927308e-06       29304                  \n",
       "26 0.08743222          9.811964e-06       28940                  \n",
       "27 0.08495357          9.531557e-06       28802                  \n",
       "28 0.08827104          1.006897e-05       28280                  \n",
       "29 0.08545579          9.821787e-06       27956                  \n",
       "30 0.08742421          1.022987e-05       27472                  \n",
       "31 0.08766421          1.039556e-05       27202                  \n",
       "32 0.09125905          1.094302e-05       26504                  \n",
       "33 0.09514357          1.155762e-05       26026                  \n",
       "34 0.09580613          1.169625e-05       25942                  \n",
       "35 0.10072590          1.246436e-05       25508                  \n",
       "36 0.09471662          1.196036e-05       25172                  \n",
       "37 0.09518377          1.219057e-05       24836                  \n",
       "38 0.09264637          1.178820e-05       24674                  \n",
       "39 0.09352190          1.201818e-05       24538                  \n",
       "40 0.09665621          1.251275e-05       24412                  \n",
       "41 0.09638022          1.261804e-05       24502                  \n",
       "42 0.09296583          1.234746e-05       24474                  \n",
       "43 0.09625627          1.285832e-05       24316                  \n",
       "44 0.09696011          1.307855e-05       24466                  \n",
       "45 0.09784626          1.327215e-05       24446                  \n",
       "46 0.09700182          1.302687e-05       24662                  \n",
       "47 0.09424958          1.260582e-05       24852                  \n",
       "48 0.08923869          1.177461e-05       24988                  \n",
       "49 0.09444272          1.247407e-05       24896                  \n",
       "50 0.09884831          1.298453e-05       24920                  \n",
       "51 0.09961737          1.317911e-05       24714                  \n",
       "52 0.10550592          1.398101e-05       24556                  \n",
       "53 0.10835966          1.440107e-05       24310                  \n",
       "54 0.10538321          1.402573e-05       24050                  \n",
       "55 0.10702934          1.429780e-05       23904                  \n",
       "56 0.11096742          1.495458e-05       23530                  \n",
       "57 0.10877313          1.483353e-05       23372                  \n",
       "58 0.10734713          1.471937e-05       22990                  "
      ]
     },
     "metadata": {},
     "output_type": "display_data"
    }
   ],
   "source": [
    "pairwiseComparisonDF"
   ]
  },
  {
   "cell_type": "code",
   "execution_count": 59,
   "id": "fb8c9f5b-cebe-43a2-8033-ccc16893ef9b",
   "metadata": {},
   "outputs": [],
   "source": [
    "testPairwiseComparisonDF <- pairwiseComparisonDF"
   ]
  },
  {
   "cell_type": "markdown",
   "id": "1d4067ba-7b4a-4dcf-8e21-5df1cefe2dab",
   "metadata": {},
   "source": [
    "### Create extra binGraph* columns that I forgot "
   ]
  },
  {
   "cell_type": "code",
   "execution_count": 97,
   "id": "0888f161-3842-4ad4-aed8-d3e5effa5469",
   "metadata": {
    "tags": []
   },
   "outputs": [],
   "source": [
    "binaryComparisonDF <- NULL"
   ]
  },
  {
   "cell_type": "code",
   "execution_count": 98,
   "id": "4541980a-4c72-4c62-a2f0-9a69130fa3d6",
   "metadata": {
    "scrolled": true,
    "tags": []
   },
   "outputs": [
    {
     "name": "stderr",
     "output_type": "stream",
     "text": [
      "====> grp_6mos_by_month - 2005-07-03 ( 6mos ) - before: grp_6mos_by_month_2005-07-03_pre-20220604-115739.tab; after: grp_6mos_by_month_2005-07-03_post-20220604-115928.tab @ 2022-06-07 04:17:29\n",
      "\n",
      "==> Start of  compareMatricesQAP  at  2022-06-07 04:19:38\n",
      "\n",
      "==> End of  compareMatricesQAP  at  2022-06-07 04:21:40\n",
      "\n",
      "====> grp_6mos_by_month - 2005-08-03 ( 6mos ) - before: grp_6mos_by_month_2005-08-03_pre-20220604-120117.tab; after: grp_6mos_by_month_2005-08-03_post-20220604-120305.tab @ 2022-06-07 04:21:40\n",
      "\n",
      "==> Start of  compareMatricesQAP  at  2022-06-07 04:23:56\n",
      "\n",
      "==> End of  compareMatricesQAP  at  2022-06-07 04:25:04\n",
      "\n",
      "====> grp_6mos_by_month - 2005-09-03 ( 6mos ) - before: grp_6mos_by_month_2005-09-03_pre-20220604-120452.tab; after: grp_6mos_by_month_2005-09-03_post-20220604-120639.tab @ 2022-06-07 04:25:04\n",
      "\n",
      "==> Start of  compareMatricesQAP  at  2022-06-07 04:27:17\n",
      "\n",
      "==> End of  compareMatricesQAP  at  2022-06-07 04:28:34\n",
      "\n",
      "====> grp_6mos_by_month - 2005-10-04 ( 6mos ) - before: grp_6mos_by_month_2005-10-04_pre-20220604-120827.tab; after: grp_6mos_by_month_2005-10-04_post-20220604-121014.tab @ 2022-06-07 04:28:35\n",
      "\n",
      "==> Start of  compareMatricesQAP  at  2022-06-07 04:30:45\n",
      "\n",
      "==> End of  compareMatricesQAP  at  2022-06-07 04:31:55\n",
      "\n",
      "====> grp_6mos_by_month - 2005-11-04 ( 6mos ) - before: grp_6mos_by_month_2005-11-04_pre-20220604-121212.tab; after: grp_6mos_by_month_2005-11-04_post-20220604-121409.tab @ 2022-06-07 04:31:55\n",
      "\n",
      "==> Start of  compareMatricesQAP  at  2022-06-07 04:33:57\n",
      "\n",
      "==> End of  compareMatricesQAP  at  2022-06-07 04:35:04\n",
      "\n",
      "====> grp_6mos_by_month - 2005-12-05 ( 6mos ) - before: grp_6mos_by_month_2005-12-05_pre-20220604-121603.tab; after: grp_6mos_by_month_2005-12-05_post-20220604-121756.tab @ 2022-06-07 04:35:05\n",
      "\n",
      "==> Start of  compareMatricesQAP  at  2022-06-07 04:37:00\n",
      "\n",
      "==> End of  compareMatricesQAP  at  2022-06-07 04:38:02\n",
      "\n",
      "====> grp_6mos_by_month - 2006-01-05 ( 6mos ) - before: grp_6mos_by_month_2006-01-05_pre-20220604-121948.tab; after: grp_6mos_by_month_2006-01-05_post-20220604-122133.tab @ 2022-06-07 04:38:03\n",
      "\n",
      "==> Start of  compareMatricesQAP  at  2022-06-07 04:40:11\n",
      "\n",
      "==> End of  compareMatricesQAP  at  2022-06-07 04:41:11\n",
      "\n",
      "====> grp_6mos_by_month - 2006-02-05 ( 6mos ) - before: grp_6mos_by_month_2006-02-05_pre-20220604-122317.tab; after: grp_6mos_by_month_2006-02-05_post-20220604-122459.tab @ 2022-06-07 04:41:11\n",
      "\n",
      "==> Start of  compareMatricesQAP  at  2022-06-07 04:43:22\n",
      "\n",
      "==> End of  compareMatricesQAP  at  2022-06-07 04:44:21\n",
      "\n",
      "====> grp_6mos_by_month - 2006-03-08 ( 6mos ) - before: grp_6mos_by_month_2006-03-08_pre-20220604-122637.tab; after: grp_6mos_by_month_2006-03-08_post-20220604-122819.tab @ 2022-06-07 04:44:22\n",
      "\n",
      "==> Start of  compareMatricesQAP  at  2022-06-07 04:46:24\n",
      "\n",
      "==> End of  compareMatricesQAP  at  2022-06-07 04:47:19\n",
      "\n",
      "====> grp_6mos_by_month - 2006-04-08 ( 6mos ) - before: grp_6mos_by_month_2006-04-08_pre-20220604-122958.tab; after: grp_6mos_by_month_2006-04-08_post-20220604-123139.tab @ 2022-06-07 04:47:19\n",
      "\n",
      "==> Start of  compareMatricesQAP  at  2022-06-07 04:49:01\n",
      "\n",
      "==> End of  compareMatricesQAP  at  2022-06-07 04:49:56\n",
      "\n",
      "====> grp_6mos_by_month - 2006-05-09 ( 6mos ) - before: grp_6mos_by_month_2006-05-09_pre-20220604-123316.tab; after: grp_6mos_by_month_2006-05-09_post-20220604-123504.tab @ 2022-06-07 04:49:56\n",
      "\n",
      "==> Start of  compareMatricesQAP  at  2022-06-07 04:51:39\n",
      "\n",
      "==> End of  compareMatricesQAP  at  2022-06-07 04:52:34\n",
      "\n",
      "====> grp_6mos_by_month - 2006-06-09 ( 6mos ) - before: grp_6mos_by_month_2006-06-09_pre-20220604-123643.tab; after: grp_6mos_by_month_2006-06-09_post-20220604-123819.tab @ 2022-06-07 04:52:35\n",
      "\n",
      "==> Start of  compareMatricesQAP  at  2022-06-07 04:54:18\n",
      "\n",
      "==> End of  compareMatricesQAP  at  2022-06-07 04:55:12\n",
      "\n",
      "====> grp_6mos_by_month - 2006-07-10 ( 6mos ) - before: grp_6mos_by_month_2006-07-10_pre-20220604-123955.tab; after: grp_6mos_by_month_2006-07-10_post-20220604-124132.tab @ 2022-06-07 04:55:12\n",
      "\n",
      "==> Start of  compareMatricesQAP  at  2022-06-07 04:56:52\n",
      "\n",
      "==> End of  compareMatricesQAP  at  2022-06-07 04:57:46\n",
      "\n",
      "====> grp_6mos_by_month - 2006-08-10 ( 6mos ) - before: grp_6mos_by_month_2006-08-10_pre-20220604-124308.tab; after: grp_6mos_by_month_2006-08-10_post-20220604-124452.tab @ 2022-06-07 04:57:47\n",
      "\n",
      "==> Start of  compareMatricesQAP  at  2022-06-07 04:59:40\n",
      "\n",
      "==> End of  compareMatricesQAP  at  2022-06-07 05:00:33\n",
      "\n",
      "====> grp_6mos_by_month - 2006-09-10 ( 6mos ) - before: grp_6mos_by_month_2006-09-10_pre-20220604-124636.tab; after: grp_6mos_by_month_2006-09-10_post-20220604-124818.tab @ 2022-06-07 05:00:34\n",
      "\n",
      "==> Start of  compareMatricesQAP  at  2022-06-07 05:02:22\n",
      "\n",
      "==> End of  compareMatricesQAP  at  2022-06-07 05:03:11\n",
      "\n",
      "====> grp_6mos_by_month - 2006-10-11 ( 6mos ) - before: grp_6mos_by_month_2006-10-11_pre-20220604-124959.tab; after: grp_6mos_by_month_2006-10-11_post-20220604-125140.tab @ 2022-06-07 05:03:12\n",
      "\n",
      "==> Start of  compareMatricesQAP  at  2022-06-07 05:04:49\n",
      "\n",
      "==> End of  compareMatricesQAP  at  2022-06-07 05:05:40\n",
      "\n",
      "====> grp_6mos_by_month - 2006-11-11 ( 6mos ) - before: grp_6mos_by_month_2006-11-11_pre-20220604-125318.tab; after: grp_6mos_by_month_2006-11-11_post-20220604-125452.tab @ 2022-06-07 05:05:41\n",
      "\n",
      "==> Start of  compareMatricesQAP  at  2022-06-07 05:07:23\n",
      "\n",
      "==> End of  compareMatricesQAP  at  2022-06-07 05:08:19\n",
      "\n",
      "====> grp_6mos_by_month - 2006-12-12 ( 6mos ) - before: grp_6mos_by_month_2006-12-12_pre-20220604-125624.tab; after: grp_6mos_by_month_2006-12-12_post-20220604-125757.tab @ 2022-06-07 05:08:19\n",
      "\n",
      "==> Start of  compareMatricesQAP  at  2022-06-07 05:09:59\n",
      "\n",
      "==> End of  compareMatricesQAP  at  2022-06-07 05:10:53\n",
      "\n",
      "====> grp_6mos_by_month - 2007-01-12 ( 6mos ) - before: grp_6mos_by_month_2007-01-12_pre-20220604-125935.tab; after: grp_6mos_by_month_2007-01-12_post-20220604-130114.tab @ 2022-06-07 05:10:53\n",
      "\n",
      "==> Start of  compareMatricesQAP  at  2022-06-07 05:12:38\n",
      "\n",
      "==> End of  compareMatricesQAP  at  2022-06-07 05:13:33\n",
      "\n",
      "====> grp_6mos_by_month - 2007-02-12 ( 6mos ) - before: grp_6mos_by_month_2007-02-12_pre-20220604-130252.tab; after: grp_6mos_by_month_2007-02-12_post-20220604-130429.tab @ 2022-06-07 05:13:34\n",
      "\n",
      "==> Start of  compareMatricesQAP  at  2022-06-07 05:15:30\n",
      "\n",
      "==> End of  compareMatricesQAP  at  2022-06-07 05:16:23\n",
      "\n",
      "====> grp_6mos_by_month - 2007-03-15 ( 6mos ) - before: grp_6mos_by_month_2007-03-15_pre-20220604-130605.tab; after: grp_6mos_by_month_2007-03-15_post-20220604-130743.tab @ 2022-06-07 05:16:23\n",
      "\n",
      "==> Start of  compareMatricesQAP  at  2022-06-07 05:18:28\n",
      "\n",
      "==> End of  compareMatricesQAP  at  2022-06-07 05:19:24\n",
      "\n",
      "====> grp_6mos_by_month - 2007-04-15 ( 6mos ) - before: grp_6mos_by_month_2007-04-15_pre-20220604-130914.tab; after: grp_6mos_by_month_2007-04-15_post-20220604-131043.tab @ 2022-06-07 05:19:24\n",
      "\n",
      "==> Start of  compareMatricesQAP  at  2022-06-07 05:21:10\n",
      "\n",
      "==> End of  compareMatricesQAP  at  2022-06-07 05:22:02\n",
      "\n",
      "====> grp_6mos_by_month - 2007-05-16 ( 6mos ) - before: grp_6mos_by_month_2007-05-16_pre-20220604-131210.tab; after: grp_6mos_by_month_2007-05-16_post-20220604-131335.tab @ 2022-06-07 05:22:03\n",
      "\n",
      "==> Start of  compareMatricesQAP  at  2022-06-07 05:23:47\n",
      "\n",
      "==> End of  compareMatricesQAP  at  2022-06-07 05:24:35\n",
      "\n",
      "====> grp_6mos_by_month - 2007-06-16 ( 6mos ) - before: grp_6mos_by_month_2007-06-16_pre-20220604-131501.tab; after: grp_6mos_by_month_2007-06-16_post-20220604-131627.tab @ 2022-06-07 05:24:35\n",
      "\n",
      "==> Start of  compareMatricesQAP  at  2022-06-07 05:26:04\n",
      "\n",
      "==> End of  compareMatricesQAP  at  2022-06-07 05:26:50\n",
      "\n",
      "====> grp_6mos_by_month - 2007-07-17 ( 6mos ) - before: grp_6mos_by_month_2007-07-17_pre-20220604-131750.tab; after: grp_6mos_by_month_2007-07-17_post-20220604-131913.tab @ 2022-06-07 05:26:51\n",
      "\n",
      "==> Start of  compareMatricesQAP  at  2022-06-07 05:28:25\n",
      "\n",
      "==> End of  compareMatricesQAP  at  2022-06-07 05:29:13\n",
      "\n",
      "====> grp_6mos_by_month - 2007-08-17 ( 6mos ) - before: grp_6mos_by_month_2007-08-17_pre-20220604-132033.tab; after: grp_6mos_by_month_2007-08-17_post-20220604-132154.tab @ 2022-06-07 05:29:13\n",
      "\n",
      "==> Start of  compareMatricesQAP  at  2022-06-07 05:30:49\n",
      "\n",
      "==> End of  compareMatricesQAP  at  2022-06-07 05:31:34\n",
      "\n",
      "====> grp_6mos_by_month - 2007-09-17 ( 6mos ) - before: grp_6mos_by_month_2007-09-17_pre-20220604-132313.tab; after: grp_6mos_by_month_2007-09-17_post-20220604-132433.tab @ 2022-06-07 05:31:35\n",
      "\n",
      "==> Start of  compareMatricesQAP  at  2022-06-07 05:33:12\n",
      "\n",
      "==> End of  compareMatricesQAP  at  2022-06-07 05:33:54\n",
      "\n",
      "====> grp_6mos_by_month - 2007-10-18 ( 6mos ) - before: grp_6mos_by_month_2007-10-18_pre-20220604-132557.tab; after: grp_6mos_by_month_2007-10-18_post-20220604-132722.tab @ 2022-06-07 05:33:55\n",
      "\n",
      "==> Start of  compareMatricesQAP  at  2022-06-07 05:35:25\n",
      "\n",
      "==> End of  compareMatricesQAP  at  2022-06-07 05:36:09\n",
      "\n",
      "====> grp_6mos_by_month - 2007-11-18 ( 6mos ) - before: grp_6mos_by_month_2007-11-18_pre-20220604-132843.tab; after: grp_6mos_by_month_2007-11-18_post-20220604-133006.tab @ 2022-06-07 05:36:09\n",
      "\n",
      "==> Start of  compareMatricesQAP  at  2022-06-07 05:37:38\n",
      "\n",
      "==> End of  compareMatricesQAP  at  2022-06-07 05:38:21\n",
      "\n",
      "====> grp_6mos_by_month - 2007-12-19 ( 6mos ) - before: grp_6mos_by_month_2007-12-19_pre-20220604-133126.tab; after: grp_6mos_by_month_2007-12-19_post-20220604-133245.tab @ 2022-06-07 05:38:22\n",
      "\n",
      "==> Start of  compareMatricesQAP  at  2022-06-07 05:39:36\n",
      "\n",
      "==> End of  compareMatricesQAP  at  2022-06-07 05:40:18\n",
      "\n",
      "====> grp_6mos_by_month - 2008-01-19 ( 6mos ) - before: grp_6mos_by_month_2008-01-19_pre-20220604-133402.tab; after: grp_6mos_by_month_2008-01-19_post-20220604-133516.tab @ 2022-06-07 05:40:18\n",
      "\n",
      "==> Start of  compareMatricesQAP  at  2022-06-07 05:41:33\n",
      "\n",
      "==> End of  compareMatricesQAP  at  2022-06-07 05:42:14\n",
      "\n",
      "====> grp_6mos_by_month - 2008-02-19 ( 6mos ) - before: grp_6mos_by_month_2008-02-19_pre-20220604-133627.tab; after: grp_6mos_by_month_2008-02-19_post-20220604-133737.tab @ 2022-06-07 05:42:14\n",
      "\n",
      "==> Start of  compareMatricesQAP  at  2022-06-07 05:43:26\n",
      "\n",
      "==> End of  compareMatricesQAP  at  2022-06-07 05:44:04\n",
      "\n",
      "====> grp_6mos_by_month - 2008-03-21 ( 6mos ) - before: grp_6mos_by_month_2008-03-21_pre-20220604-133847.tab; after: grp_6mos_by_month_2008-03-21_post-20220604-133955.tab @ 2022-06-07 05:44:05\n",
      "\n",
      "==> Start of  compareMatricesQAP  at  2022-06-07 05:45:15\n",
      "\n",
      "==> End of  compareMatricesQAP  at  2022-06-07 05:45:52\n",
      "\n",
      "====> grp_6mos_by_month - 2008-04-21 ( 6mos ) - before: grp_6mos_by_month_2008-04-21_pre-20220604-134102.tab; after: grp_6mos_by_month_2008-04-21_post-20220604-134209.tab @ 2022-06-07 05:45:52\n",
      "\n",
      "==> Start of  compareMatricesQAP  at  2022-06-07 05:47:07\n",
      "\n",
      "==> End of  compareMatricesQAP  at  2022-06-07 05:47:43\n",
      "\n",
      "====> grp_6mos_by_month - 2008-05-22 ( 6mos ) - before: grp_6mos_by_month_2008-05-22_pre-20220604-134315.tab; after: grp_6mos_by_month_2008-05-22_post-20220604-134421.tab @ 2022-06-07 05:47:44\n",
      "\n",
      "==> Start of  compareMatricesQAP  at  2022-06-07 05:48:59\n",
      "\n",
      "==> End of  compareMatricesQAP  at  2022-06-07 05:49:35\n",
      "\n",
      "====> grp_6mos_by_month - 2008-06-22 ( 6mos ) - before: grp_6mos_by_month_2008-06-22_pre-20220604-134526.tab; after: grp_6mos_by_month_2008-06-22_post-20220604-134635.tab @ 2022-06-07 05:49:35\n",
      "\n",
      "==> Start of  compareMatricesQAP  at  2022-06-07 05:50:46\n",
      "\n",
      "==> End of  compareMatricesQAP  at  2022-06-07 05:51:21\n",
      "\n",
      "====> grp_6mos_by_month - 2008-07-23 ( 6mos ) - before: grp_6mos_by_month_2008-07-23_pre-20220604-134742.tab; after: grp_6mos_by_month_2008-07-23_post-20220604-134850.tab @ 2022-06-07 05:51:21\n",
      "\n",
      "==> Start of  compareMatricesQAP  at  2022-06-07 05:52:31\n",
      "\n",
      "==> End of  compareMatricesQAP  at  2022-06-07 05:53:06\n",
      "\n",
      "====> grp_6mos_by_month - 2008-08-23 ( 6mos ) - before: grp_6mos_by_month_2008-08-23_pre-20220604-134954.tab; after: grp_6mos_by_month_2008-08-23_post-20220604-135057.tab @ 2022-06-07 05:53:06\n",
      "\n",
      "==> Start of  compareMatricesQAP  at  2022-06-07 05:54:15\n",
      "\n",
      "==> End of  compareMatricesQAP  at  2022-06-07 05:54:49\n",
      "\n",
      "====> grp_6mos_by_month - 2008-09-23 ( 6mos ) - before: grp_6mos_by_month_2008-09-23_pre-20220604-135158.tab; after: grp_6mos_by_month_2008-09-23_post-20220604-135300.tab @ 2022-06-07 05:54:50\n",
      "\n",
      "==> Start of  compareMatricesQAP  at  2022-06-07 05:55:57\n",
      "\n",
      "==> End of  compareMatricesQAP  at  2022-06-07 05:56:30\n",
      "\n",
      "====> grp_6mos_by_month - 2008-10-24 ( 6mos ) - before: grp_6mos_by_month_2008-10-24_pre-20220604-135401.tab; after: grp_6mos_by_month_2008-10-24_post-20220604-135504.tab @ 2022-06-07 05:56:30\n",
      "\n",
      "==> Start of  compareMatricesQAP  at  2022-06-07 05:57:31\n",
      "\n",
      "==> End of  compareMatricesQAP  at  2022-06-07 05:58:03\n",
      "\n",
      "====> grp_6mos_by_month - 2008-11-24 ( 6mos ) - before: grp_6mos_by_month_2008-11-24_pre-20220604-135605.tab; after: grp_6mos_by_month_2008-11-24_post-20220604-135707.tab @ 2022-06-07 05:58:03\n",
      "\n",
      "==> Start of  compareMatricesQAP  at  2022-06-07 05:59:09\n",
      "\n",
      "==> End of  compareMatricesQAP  at  2022-06-07 05:59:42\n",
      "\n",
      "====> grp_6mos_by_month - 2008-12-25 ( 6mos ) - before: grp_6mos_by_month_2008-12-25_pre-20220604-135809.tab; after: grp_6mos_by_month_2008-12-25_post-20220604-135915.tab @ 2022-06-07 05:59:43\n",
      "\n",
      "==> Start of  compareMatricesQAP  at  2022-06-07 06:00:47\n",
      "\n",
      "==> End of  compareMatricesQAP  at  2022-06-07 06:01:21\n",
      "\n",
      "====> grp_6mos_by_month - 2009-01-25 ( 6mos ) - before: grp_6mos_by_month_2009-01-25_pre-20220604-140021.tab; after: grp_6mos_by_month_2009-01-25_post-20220604-140120.tab @ 2022-06-07 06:01:22\n",
      "\n",
      "==> Start of  compareMatricesQAP  at  2022-06-07 06:02:26\n",
      "\n",
      "==> End of  compareMatricesQAP  at  2022-06-07 06:02:59\n",
      "\n",
      "====> grp_6mos_by_month - 2009-02-25 ( 6mos ) - before: grp_6mos_by_month_2009-02-25_pre-20220604-140219.tab; after: grp_6mos_by_month_2009-02-25_post-20220604-140318.tab @ 2022-06-07 06:02:59\n",
      "\n",
      "==> Start of  compareMatricesQAP  at  2022-06-07 06:04:04\n",
      "\n",
      "==> End of  compareMatricesQAP  at  2022-06-07 06:04:38\n",
      "\n",
      "====> grp_6mos_by_month - 2009-03-28 ( 6mos ) - before: grp_6mos_by_month_2009-03-28_pre-20220604-140420.tab; after: grp_6mos_by_month_2009-03-28_post-20220604-140520.tab @ 2022-06-07 06:04:38\n",
      "\n",
      "==> Start of  compareMatricesQAP  at  2022-06-07 06:05:41\n",
      "\n",
      "==> End of  compareMatricesQAP  at  2022-06-07 06:06:14\n",
      "\n",
      "====> grp_6mos_by_month - 2009-04-28 ( 6mos ) - before: grp_6mos_by_month_2009-04-28_pre-20220604-140621.tab; after: grp_6mos_by_month_2009-04-28_post-20220604-140722.tab @ 2022-06-07 06:06:15\n",
      "\n",
      "==> Start of  compareMatricesQAP  at  2022-06-07 06:07:20\n",
      "\n",
      "==> End of  compareMatricesQAP  at  2022-06-07 06:07:55\n",
      "\n",
      "====> grp_6mos_by_month - 2009-05-29 ( 6mos ) - before: grp_6mos_by_month_2009-05-29_pre-20220604-140826.tab; after: grp_6mos_by_month_2009-05-29_post-20220604-140928.tab @ 2022-06-07 06:07:55\n",
      "\n",
      "==> Start of  compareMatricesQAP  at  2022-06-07 06:08:56\n",
      "\n",
      "==> End of  compareMatricesQAP  at  2022-06-07 06:09:31\n",
      "\n",
      "====> grp_6mos_by_month - 2009-06-29 ( 6mos ) - before: grp_6mos_by_month_2009-06-29_pre-20220604-141033.tab; after: grp_6mos_by_month_2009-06-29_post-20220604-141135.tab @ 2022-06-07 06:09:31\n",
      "\n",
      "==> Start of  compareMatricesQAP  at  2022-06-07 06:10:33\n",
      "\n",
      "==> End of  compareMatricesQAP  at  2022-06-07 06:11:08\n",
      "\n",
      "====> grp_6mos_by_month - 2009-07-30 ( 6mos ) - before: grp_6mos_by_month_2009-07-30_pre-20220604-141239.tab; after: grp_6mos_by_month_2009-07-30_post-20220604-141342.tab @ 2022-06-07 06:11:08\n",
      "\n",
      "==> Start of  compareMatricesQAP  at  2022-06-07 06:12:09\n",
      "\n",
      "==> End of  compareMatricesQAP  at  2022-06-07 06:12:44\n",
      "\n",
      "====> grp_6mos_by_month - 2009-08-30 ( 6mos ) - before: grp_6mos_by_month_2009-08-30_pre-20220604-141447.tab; after: grp_6mos_by_month_2009-08-30_post-20220604-141552.tab @ 2022-06-07 06:12:45\n",
      "\n",
      "==> Start of  compareMatricesQAP  at  2022-06-07 06:13:47\n",
      "\n",
      "==> End of  compareMatricesQAP  at  2022-06-07 06:14:22\n",
      "\n",
      "====> grp_6mos_by_month - 2009-09-30 ( 6mos ) - before: grp_6mos_by_month_2009-09-30_pre-20220604-141700.tab; after: grp_6mos_by_month_2009-09-30_post-20220604-141809.tab @ 2022-06-07 06:14:22\n",
      "\n",
      "==> Start of  compareMatricesQAP  at  2022-06-07 06:15:28\n",
      "\n",
      "==> End of  compareMatricesQAP  at  2022-06-07 06:16:03\n",
      "\n",
      "====> grp_6mos_by_month - 2009-10-31 ( 6mos ) - before: grp_6mos_by_month_2009-10-31_pre-20220604-141919.tab; after: grp_6mos_by_month_2009-10-31_post-20220604-142029.tab @ 2022-06-07 06:16:04\n",
      "\n",
      "==> Start of  compareMatricesQAP  at  2022-06-07 06:17:10\n",
      "\n",
      "==> End of  compareMatricesQAP  at  2022-06-07 06:17:45\n",
      "\n",
      "====> grp_6mos_by_month - 2009-12-01 ( 6mos ) - before: grp_6mos_by_month_2009-12-01_pre-20220604-142137.tab; after: grp_6mos_by_month_2009-12-01_post-20220604-142240.tab @ 2022-06-07 06:17:46\n",
      "\n",
      "==> Start of  compareMatricesQAP  at  2022-06-07 06:18:51\n",
      "\n",
      "==> End of  compareMatricesQAP  at  2022-06-07 06:19:26\n",
      "\n",
      "====> grp_6mos_by_month - 2010-01-01 ( 6mos ) - before: grp_6mos_by_month_2010-01-01_pre-20220604-142343.tab; after: grp_6mos_by_month_2010-01-01_post-20220604-142446.tab @ 2022-06-07 06:19:27\n",
      "\n",
      "==> Start of  compareMatricesQAP  at  2022-06-07 06:20:31\n",
      "\n",
      "==> End of  compareMatricesQAP  at  2022-06-07 06:21:05\n",
      "\n",
      "====> grp_6mos_by_month - 2010-02-01 ( 6mos ) - before: grp_6mos_by_month_2010-02-01_pre-20220604-142549.tab; after: grp_6mos_by_month_2010-02-01_post-20220604-142653.tab @ 2022-06-07 06:21:06\n",
      "\n",
      "==> Start of  compareMatricesQAP  at  2022-06-07 06:22:09\n",
      "\n",
      "==> End of  compareMatricesQAP  at  2022-06-07 06:22:42\n",
      "\n",
      "====> grp_6mos_by_month - 2010-03-04 ( 6mos ) - before: grp_6mos_by_month_2010-03-04_pre-20220604-142755.tab; after: grp_6mos_by_month_2010-03-04_post-20220604-142858.tab @ 2022-06-07 06:22:42\n",
      "\n",
      "==> Start of  compareMatricesQAP  at  2022-06-07 06:23:43\n",
      "\n",
      "==> End of  compareMatricesQAP  at  2022-06-07 06:24:14\n",
      "\n",
      "====> grp_6mos_by_month - 2010-04-04 ( 6mos ) - before: grp_6mos_by_month_2010-04-04_pre-20220604-143001.tab; after: grp_6mos_by_month_2010-04-04_post-20220604-143107.tab @ 2022-06-07 06:24:15\n",
      "\n",
      "==> Start of  compareMatricesQAP  at  2022-06-07 06:25:09\n",
      "\n",
      "==> End of  compareMatricesQAP  at  2022-06-07 06:25:39\n",
      "\n",
      "====> grp_6mos_by_month - 2010-05-05 ( 6mos ) - before: grp_6mos_by_month_2010-05-05_pre-20220604-143216.tab; after: grp_6mos_by_month_2010-05-05_post-20220604-143320.tab @ 2022-06-07 06:25:40\n",
      "\n",
      "==> Start of  compareMatricesQAP  at  2022-06-07 06:26:32\n",
      "\n",
      "==> End of  compareMatricesQAP  at  2022-06-07 06:27:01\n",
      "\n"
     ]
    }
   ],
   "source": [
    "# loop over data files\n",
    "for( i in 1 : nrow( dataFileDF ) ) {\n",
    "\n",
    "    # get current row\n",
    "    dataFileRow <- dataFileDF[ i, ]\n",
    "    \n",
    "    # retrieve fields\n",
    "    myBeforeFile <- dataFileRow$beforeFile\n",
    "    myAfterFile <- dataFileRow$afterFile\n",
    "    myBaseDate <- dataFileRow$baseDate\n",
    "    myNetworkDuration <- dataFileRow$networkDuration\n",
    "    myLabel <- dataFileRow$label\n",
    "    \n",
    "    message(\n",
    "        paste(\n",
    "            \"====> \",\n",
    "            myLabel,\n",
    "            \" - \",\n",
    "            myBaseDate,\n",
    "            \" ( \",\n",
    "            myNetworkDuration,\n",
    "            \" ) - before: \",\n",
    "            myBeforeFile,\n",
    "            \"; after: \",\n",
    "            myAfterFile,\n",
    "            \" @ \",\n",
    "            Sys.time(),\n",
    "            sep = \"\"\n",
    "        )\n",
    "    )\n",
    "\n",
    "    # process and compare the before and after networks.\n",
    "    binaryComparison <- beforeAfterBinaryNetworks(\n",
    "        beforeDataDirectoryIN = data_directory,\n",
    "        beforeFileIN = myBeforeFile,\n",
    "        afterDataDirectoryIN = data_directory,\n",
    "        afterFileIN = myAfterFile,\n",
    "        dateIN = myBaseDate,\n",
    "        networkDurationIN = myNetworkDuration,\n",
    "        labelIN = myLabel,\n",
    "        debugFlagIN = FALSE\n",
    "    )\n",
    "\n",
    "    # add them to the output data.frame.\n",
    "    if ( is.null( binaryComparisonDF ) == TRUE ){\n",
    "\n",
    "        # make a new data.frame with first row encountered.\n",
    "        binaryComparisonDF <- data.frame( binaryComparison )\n",
    "    \n",
    "    } else {\n",
    "    \n",
    "        # update data.frame to include latest row.\n",
    "        binaryComparisonDF <- rbind( binaryComparisonDF, binaryComparison )\n",
    "\n",
    "    } #-- END check if output data.frame is NULL --#\n",
    "\n",
    "}"
   ]
  },
  {
   "cell_type": "code",
   "execution_count": 11,
   "id": "9cccb4b8-a945-4f0d-acbb-87c269d9dc80",
   "metadata": {
    "tags": []
   },
   "outputs": [
    {
     "data": {
      "text/html": [
       "58"
      ],
      "text/latex": [
       "58"
      ],
      "text/markdown": [
       "58"
      ],
      "text/plain": [
       "[1] 58"
      ]
     },
     "metadata": {},
     "output_type": "display_data"
    }
   ],
   "source": [
    "nrow( binaryComparisonDF )"
   ]
  },
  {
   "cell_type": "code",
   "execution_count": 12,
   "id": "2882ffac-00ec-4590-8b27-1c733c7cd3fa",
   "metadata": {
    "scrolled": true,
    "tags": []
   },
   "outputs": [
    {
     "data": {
      "text/html": [
       "<table class=\"dataframe\">\n",
       "<caption>A data.frame: 58 × 14</caption>\n",
       "<thead>\n",
       "\t<tr><th scope=col>baseDate</th><th scope=col>networkDuration</th><th scope=col>label</th><th scope=col>beforeColumnCount</th><th scope=col>beforeDataFileName</th><th scope=col>beforeDataPath</th><th scope=col>beforeRowCount</th><th scope=col>afterColumnCount</th><th scope=col>afterDataFileName</th><th scope=col>afterDataPath</th><th scope=col>afterRowCount</th><th scope=col>binGraphCorrelation</th><th scope=col>binGraphCovariance</th><th scope=col>binGraphHammingDistance</th></tr>\n",
       "\t<tr><th scope=col>&lt;date&gt;</th><th scope=col>&lt;chr&gt;</th><th scope=col>&lt;chr&gt;</th><th scope=col>&lt;int&gt;</th><th scope=col>&lt;chr&gt;</th><th scope=col>&lt;chr&gt;</th><th scope=col>&lt;int&gt;</th><th scope=col>&lt;int&gt;</th><th scope=col>&lt;chr&gt;</th><th scope=col>&lt;chr&gt;</th><th scope=col>&lt;int&gt;</th><th scope=col>&lt;dbl&gt;</th><th scope=col>&lt;dbl&gt;</th><th scope=col>&lt;dbl&gt;</th></tr>\n",
       "</thead>\n",
       "<tbody>\n",
       "\t<tr><td>2005-07-03</td><td>6mos</td><td>grp_6mos_by_month</td><td>13775</td><td>grp_6mos_by_month_2005-07-03_pre-20220604-115739.tab</td><td>/home/jonathanmorgan/shares/phd_work/network_data/grp_6mos_by_month/grp_6mos_by_month_2005-07-03_pre-20220604-115739.tab</td><td>13773</td><td>13775</td><td>grp_6mos_by_month_2005-07-03_post-20220604-115928.tab</td><td>/home/jonathanmorgan/shares/phd_work/network_data/grp_6mos_by_month/grp_6mos_by_month_2005-07-03_post-20220604-115928.tab</td><td>13773</td><td>0.11059698</td><td>1.109275e-05</td><td>33842</td></tr>\n",
       "\t<tr><td>2005-08-03</td><td>6mos</td><td>grp_6mos_by_month</td><td>13827</td><td>grp_6mos_by_month_2005-08-03_pre-20220604-120117.tab</td><td>/home/jonathanmorgan/shares/phd_work/network_data/grp_6mos_by_month/grp_6mos_by_month_2005-08-03_pre-20220604-120117.tab</td><td>13825</td><td>13827</td><td>grp_6mos_by_month_2005-08-03_post-20220604-120305.tab</td><td>/home/jonathanmorgan/shares/phd_work/network_data/grp_6mos_by_month/grp_6mos_by_month_2005-08-03_post-20220604-120305.tab</td><td>13825</td><td>0.11349380</td><td>1.135477e-05</td><td>33904</td></tr>\n",
       "\t<tr><td>2005-09-03</td><td>6mos</td><td>grp_6mos_by_month</td><td>13878</td><td>grp_6mos_by_month_2005-09-03_pre-20220604-120452.tab</td><td>/home/jonathanmorgan/shares/phd_work/network_data/grp_6mos_by_month/grp_6mos_by_month_2005-09-03_pre-20220604-120452.tab</td><td>13876</td><td>13878</td><td>grp_6mos_by_month_2005-09-03_post-20220604-120639.tab</td><td>/home/jonathanmorgan/shares/phd_work/network_data/grp_6mos_by_month/grp_6mos_by_month_2005-09-03_post-20220604-120639.tab</td><td>13876</td><td>0.10745234</td><td>1.068976e-05</td><td>34214</td></tr>\n",
       "\t<tr><td>2005-10-04</td><td>6mos</td><td>grp_6mos_by_month</td><td>13713</td><td>grp_6mos_by_month_2005-10-04_pre-20220604-120827.tab</td><td>/home/jonathanmorgan/shares/phd_work/network_data/grp_6mos_by_month/grp_6mos_by_month_2005-10-04_pre-20220604-120827.tab</td><td>13711</td><td>13713</td><td>grp_6mos_by_month_2005-10-04_post-20220604-121014.tab</td><td>/home/jonathanmorgan/shares/phd_work/network_data/grp_6mos_by_month/grp_6mos_by_month_2005-10-04_post-20220604-121014.tab</td><td>13711</td><td>0.11130250</td><td>1.124644e-05</td><td>33802</td></tr>\n",
       "\t<tr><td>2005-11-04</td><td>6mos</td><td>grp_6mos_by_month</td><td>13501</td><td>grp_6mos_by_month_2005-11-04_pre-20220604-121212.tab</td><td>/home/jonathanmorgan/shares/phd_work/network_data/grp_6mos_by_month/grp_6mos_by_month_2005-11-04_pre-20220604-121212.tab</td><td>13499</td><td>13501</td><td>grp_6mos_by_month_2005-11-04_post-20220604-121409.tab</td><td>/home/jonathanmorgan/shares/phd_work/network_data/grp_6mos_by_month/grp_6mos_by_month_2005-11-04_post-20220604-121409.tab</td><td>13499</td><td>0.10786637</td><td>1.106464e-05</td><td>33416</td></tr>\n",
       "\t<tr><td>2005-12-05</td><td>6mos</td><td>grp_6mos_by_month</td><td>13438</td><td>grp_6mos_by_month_2005-12-05_pre-20220604-121603.tab</td><td>/home/jonathanmorgan/shares/phd_work/network_data/grp_6mos_by_month/grp_6mos_by_month_2005-12-05_pre-20220604-121603.tab</td><td>13436</td><td>13438</td><td>grp_6mos_by_month_2005-12-05_post-20220604-121756.tab</td><td>/home/jonathanmorgan/shares/phd_work/network_data/grp_6mos_by_month/grp_6mos_by_month_2005-12-05_post-20220604-121756.tab</td><td>13436</td><td>0.10847303</td><td>1.114655e-05</td><td>33142</td></tr>\n",
       "\t<tr><td>2006-01-05</td><td>6mos</td><td>grp_6mos_by_month</td><td>13222</td><td>grp_6mos_by_month_2006-01-05_pre-20220604-121948.tab</td><td>/home/jonathanmorgan/shares/phd_work/network_data/grp_6mos_by_month/grp_6mos_by_month_2006-01-05_pre-20220604-121948.tab</td><td>13220</td><td>13222</td><td>grp_6mos_by_month_2006-01-05_post-20220604-122133.tab</td><td>/home/jonathanmorgan/shares/phd_work/network_data/grp_6mos_by_month/grp_6mos_by_month_2006-01-05_post-20220604-122133.tab</td><td>13220</td><td>0.10936852</td><td>1.143365e-05</td><td>32574</td></tr>\n",
       "\t<tr><td>2006-02-05</td><td>6mos</td><td>grp_6mos_by_month</td><td>13095</td><td>grp_6mos_by_month_2006-02-05_pre-20220604-122317.tab</td><td>/home/jonathanmorgan/shares/phd_work/network_data/grp_6mos_by_month/grp_6mos_by_month_2006-02-05_pre-20220604-122317.tab</td><td>13093</td><td>13095</td><td>grp_6mos_by_month_2006-02-05_post-20220604-122459.tab</td><td>/home/jonathanmorgan/shares/phd_work/network_data/grp_6mos_by_month/grp_6mos_by_month_2006-02-05_post-20220604-122459.tab</td><td>13093</td><td>0.10815866</td><td>1.139989e-05</td><td>32250</td></tr>\n",
       "\t<tr><td>2006-03-08</td><td>6mos</td><td>grp_6mos_by_month</td><td>12891</td><td>grp_6mos_by_month_2006-03-08_pre-20220604-122637.tab</td><td>/home/jonathanmorgan/shares/phd_work/network_data/grp_6mos_by_month/grp_6mos_by_month_2006-03-08_pre-20220604-122637.tab</td><td>12889</td><td>12891</td><td>grp_6mos_by_month_2006-03-08_post-20220604-122819.tab</td><td>/home/jonathanmorgan/shares/phd_work/network_data/grp_6mos_by_month/grp_6mos_by_month_2006-03-08_post-20220604-122819.tab</td><td>12889</td><td>0.10492004</td><td>1.114975e-05</td><td>31640</td></tr>\n",
       "\t<tr><td>2006-04-08</td><td>6mos</td><td>grp_6mos_by_month</td><td>12842</td><td>grp_6mos_by_month_2006-04-08_pre-20220604-122958.tab</td><td>/home/jonathanmorgan/shares/phd_work/network_data/grp_6mos_by_month/grp_6mos_by_month_2006-04-08_pre-20220604-122958.tab</td><td>12840</td><td>12842</td><td>grp_6mos_by_month_2006-04-08_post-20220604-123139.tab</td><td>/home/jonathanmorgan/shares/phd_work/network_data/grp_6mos_by_month/grp_6mos_by_month_2006-04-08_post-20220604-123139.tab</td><td>12840</td><td>0.09902329</td><td>1.053143e-05</td><td>31606</td></tr>\n",
       "\t<tr><td>2006-05-09</td><td>6mos</td><td>grp_6mos_by_month</td><td>12812</td><td>grp_6mos_by_month_2006-05-09_pre-20220604-123316.tab</td><td>/home/jonathanmorgan/shares/phd_work/network_data/grp_6mos_by_month/grp_6mos_by_month_2006-05-09_pre-20220604-123316.tab</td><td>12810</td><td>12812</td><td>grp_6mos_by_month_2006-05-09_post-20220604-123504.tab</td><td>/home/jonathanmorgan/shares/phd_work/network_data/grp_6mos_by_month/grp_6mos_by_month_2006-05-09_post-20220604-123504.tab</td><td>12810</td><td>0.09817331</td><td>1.044678e-05</td><td>31494</td></tr>\n",
       "\t<tr><td>2006-06-09</td><td>6mos</td><td>grp_6mos_by_month</td><td>12711</td><td>grp_6mos_by_month_2006-06-09_pre-20220604-123643.tab</td><td>/home/jonathanmorgan/shares/phd_work/network_data/grp_6mos_by_month/grp_6mos_by_month_2006-06-09_pre-20220604-123643.tab</td><td>12709</td><td>12711</td><td>grp_6mos_by_month_2006-06-09_post-20220604-123819.tab</td><td>/home/jonathanmorgan/shares/phd_work/network_data/grp_6mos_by_month/grp_6mos_by_month_2006-06-09_post-20220604-123819.tab</td><td>12709</td><td>0.09920263</td><td>1.068769e-05</td><td>31348</td></tr>\n",
       "\t<tr><td>2006-07-10</td><td>6mos</td><td>grp_6mos_by_month</td><td>12682</td><td>grp_6mos_by_month_2006-07-10_pre-20220604-123955.tab</td><td>/home/jonathanmorgan/shares/phd_work/network_data/grp_6mos_by_month/grp_6mos_by_month_2006-07-10_pre-20220604-123955.tab</td><td>12680</td><td>12682</td><td>grp_6mos_by_month_2006-07-10_post-20220604-124132.tab</td><td>/home/jonathanmorgan/shares/phd_work/network_data/grp_6mos_by_month/grp_6mos_by_month_2006-07-10_post-20220604-124132.tab</td><td>12680</td><td>0.09409485</td><td>1.016437e-05</td><td>31466</td></tr>\n",
       "\t<tr><td>2006-08-10</td><td>6mos</td><td>grp_6mos_by_month</td><td>12648</td><td>grp_6mos_by_month_2006-08-10_pre-20220604-124308.tab</td><td>/home/jonathanmorgan/shares/phd_work/network_data/grp_6mos_by_month/grp_6mos_by_month_2006-08-10_pre-20220604-124308.tab</td><td>12646</td><td>12648</td><td>grp_6mos_by_month_2006-08-10_post-20220604-124452.tab</td><td>/home/jonathanmorgan/shares/phd_work/network_data/grp_6mos_by_month/grp_6mos_by_month_2006-08-10_post-20220604-124452.tab</td><td>12646</td><td>0.09530084</td><td>1.028173e-05</td><td>31216</td></tr>\n",
       "\t<tr><td>2006-09-10</td><td>6mos</td><td>grp_6mos_by_month</td><td>12531</td><td>grp_6mos_by_month_2006-09-10_pre-20220604-124636.tab</td><td>/home/jonathanmorgan/shares/phd_work/network_data/grp_6mos_by_month/grp_6mos_by_month_2006-09-10_pre-20220604-124636.tab</td><td>12529</td><td>12531</td><td>grp_6mos_by_month_2006-09-10_post-20220604-124818.tab</td><td>/home/jonathanmorgan/shares/phd_work/network_data/grp_6mos_by_month/grp_6mos_by_month_2006-09-10_post-20220604-124818.tab</td><td>12529</td><td>0.09435592</td><td>1.024538e-05</td><td>30872</td></tr>\n",
       "\t<tr><td>2006-10-11</td><td>6mos</td><td>grp_6mos_by_month</td><td>12518</td><td>grp_6mos_by_month_2006-10-11_pre-20220604-124959.tab</td><td>/home/jonathanmorgan/shares/phd_work/network_data/grp_6mos_by_month/grp_6mos_by_month_2006-10-11_pre-20220604-124959.tab</td><td>12516</td><td>12518</td><td>grp_6mos_by_month_2006-10-11_post-20220604-125140.tab</td><td>/home/jonathanmorgan/shares/phd_work/network_data/grp_6mos_by_month/grp_6mos_by_month_2006-10-11_post-20220604-125140.tab</td><td>12516</td><td>0.09301812</td><td>1.008797e-05</td><td>30816</td></tr>\n",
       "\t<tr><td>2006-11-11</td><td>6mos</td><td>grp_6mos_by_month</td><td>12581</td><td>grp_6mos_by_month_2006-11-11_pre-20220604-125318.tab</td><td>/home/jonathanmorgan/shares/phd_work/network_data/grp_6mos_by_month/grp_6mos_by_month_2006-11-11_pre-20220604-125318.tab</td><td>12579</td><td>12581</td><td>grp_6mos_by_month_2006-11-11_post-20220604-125452.tab</td><td>/home/jonathanmorgan/shares/phd_work/network_data/grp_6mos_by_month/grp_6mos_by_month_2006-11-11_post-20220604-125452.tab</td><td>12579</td><td>0.08629197</td><td>9.317201e-06</td><td>31222</td></tr>\n",
       "\t<tr><td>2006-12-12</td><td>6mos</td><td>grp_6mos_by_month</td><td>12624</td><td>grp_6mos_by_month_2006-12-12_pre-20220604-125624.tab</td><td>/home/jonathanmorgan/shares/phd_work/network_data/grp_6mos_by_month/grp_6mos_by_month_2006-12-12_pre-20220604-125624.tab</td><td>12622</td><td>12624</td><td>grp_6mos_by_month_2006-12-12_post-20220604-125757.tab</td><td>/home/jonathanmorgan/shares/phd_work/network_data/grp_6mos_by_month/grp_6mos_by_month_2006-12-12_post-20220604-125757.tab</td><td>12622</td><td>0.08840180</td><td>9.479889e-06</td><td>31148</td></tr>\n",
       "\t<tr><td>2007-01-12</td><td>6mos</td><td>grp_6mos_by_month</td><td>12670</td><td>grp_6mos_by_month_2007-01-12_pre-20220604-125935.tab</td><td>/home/jonathanmorgan/shares/phd_work/network_data/grp_6mos_by_month/grp_6mos_by_month_2007-01-12_pre-20220604-125935.tab</td><td>12668</td><td>12670</td><td>grp_6mos_by_month_2007-01-12_post-20220604-130114.tab</td><td>/home/jonathanmorgan/shares/phd_work/network_data/grp_6mos_by_month/grp_6mos_by_month_2007-01-12_post-20220604-130114.tab</td><td>12668</td><td>0.08642300</td><td>9.211799e-06</td><td>31254</td></tr>\n",
       "\t<tr><td>2007-02-12</td><td>6mos</td><td>grp_6mos_by_month</td><td>12527</td><td>grp_6mos_by_month_2007-02-12_pre-20220604-130252.tab</td><td>/home/jonathanmorgan/shares/phd_work/network_data/grp_6mos_by_month/grp_6mos_by_month_2007-02-12_pre-20220604-130252.tab</td><td>12525</td><td>12527</td><td>grp_6mos_by_month_2007-02-12_post-20220604-130429.tab</td><td>/home/jonathanmorgan/shares/phd_work/network_data/grp_6mos_by_month/grp_6mos_by_month_2007-02-12_post-20220604-130429.tab</td><td>12525</td><td>0.08663734</td><td>9.359556e-06</td><td>30960</td></tr>\n",
       "\t<tr><td>2007-03-15</td><td>6mos</td><td>grp_6mos_by_month</td><td>12682</td><td>grp_6mos_by_month_2007-03-15_pre-20220604-130605.tab</td><td>/home/jonathanmorgan/shares/phd_work/network_data/grp_6mos_by_month/grp_6mos_by_month_2007-03-15_pre-20220604-130605.tab</td><td>12680</td><td>12682</td><td>grp_6mos_by_month_2007-03-15_post-20220604-130743.tab</td><td>/home/jonathanmorgan/shares/phd_work/network_data/grp_6mos_by_month/grp_6mos_by_month_2007-03-15_post-20220604-130743.tab</td><td>12680</td><td>0.08486774</td><td>9.032661e-06</td><td>31318</td></tr>\n",
       "\t<tr><td>2007-04-15</td><td>6mos</td><td>grp_6mos_by_month</td><td>12402</td><td>grp_6mos_by_month_2007-04-15_pre-20220604-130914.tab</td><td>/home/jonathanmorgan/shares/phd_work/network_data/grp_6mos_by_month/grp_6mos_by_month_2007-04-15_pre-20220604-130914.tab</td><td>12400</td><td>12402</td><td>grp_6mos_by_month_2007-04-15_post-20220604-131043.tab</td><td>/home/jonathanmorgan/shares/phd_work/network_data/grp_6mos_by_month/grp_6mos_by_month_2007-04-15_post-20220604-131043.tab</td><td>12400</td><td>0.08683507</td><td>9.445224e-06</td><td>30544</td></tr>\n",
       "\t<tr><td>2007-05-16</td><td>6mos</td><td>grp_6mos_by_month</td><td>12250</td><td>grp_6mos_by_month_2007-05-16_pre-20220604-131210.tab</td><td>/home/jonathanmorgan/shares/phd_work/network_data/grp_6mos_by_month/grp_6mos_by_month_2007-05-16_pre-20220604-131210.tab</td><td>12248</td><td>12250</td><td>grp_6mos_by_month_2007-05-16_post-20220604-131335.tab</td><td>/home/jonathanmorgan/shares/phd_work/network_data/grp_6mos_by_month/grp_6mos_by_month_2007-05-16_post-20220604-131335.tab</td><td>12248</td><td>0.08855043</td><td>9.707897e-06</td><td>29986</td></tr>\n",
       "\t<tr><td>2007-06-16</td><td>6mos</td><td>grp_6mos_by_month</td><td>12215</td><td>grp_6mos_by_month_2007-06-16_pre-20220604-131501.tab</td><td>/home/jonathanmorgan/shares/phd_work/network_data/grp_6mos_by_month/grp_6mos_by_month_2007-06-16_pre-20220604-131501.tab</td><td>12213</td><td>12215</td><td>grp_6mos_by_month_2007-06-16_post-20220604-131627.tab</td><td>/home/jonathanmorgan/shares/phd_work/network_data/grp_6mos_by_month/grp_6mos_by_month_2007-06-16_post-20220604-131627.tab</td><td>12213</td><td>0.08749842</td><td>9.589371e-06</td><td>29846</td></tr>\n",
       "\t<tr><td>2007-07-17</td><td>6mos</td><td>grp_6mos_by_month</td><td>12064</td><td>grp_6mos_by_month_2007-07-17_pre-20220604-131750.tab</td><td>/home/jonathanmorgan/shares/phd_work/network_data/grp_6mos_by_month/grp_6mos_by_month_2007-07-17_pre-20220604-131750.tab</td><td>12062</td><td>12064</td><td>grp_6mos_by_month_2007-07-17_post-20220604-131913.tab</td><td>/home/jonathanmorgan/shares/phd_work/network_data/grp_6mos_by_month/grp_6mos_by_month_2007-07-17_post-20220604-131913.tab</td><td>12062</td><td>0.08982345</td><td>9.927308e-06</td><td>29304</td></tr>\n",
       "\t<tr><td>2007-08-17</td><td>6mos</td><td>grp_6mos_by_month</td><td>11880</td><td>grp_6mos_by_month_2007-08-17_pre-20220604-132033.tab</td><td>/home/jonathanmorgan/shares/phd_work/network_data/grp_6mos_by_month/grp_6mos_by_month_2007-08-17_pre-20220604-132033.tab</td><td>11878</td><td>11880</td><td>grp_6mos_by_month_2007-08-17_post-20220604-132154.tab</td><td>/home/jonathanmorgan/shares/phd_work/network_data/grp_6mos_by_month/grp_6mos_by_month_2007-08-17_post-20220604-132154.tab</td><td>11878</td><td>0.08743222</td><td>9.811964e-06</td><td>28940</td></tr>\n",
       "\t<tr><td>2007-09-17</td><td>6mos</td><td>grp_6mos_by_month</td><td>11825</td><td>grp_6mos_by_month_2007-09-17_pre-20220604-132313.tab</td><td>/home/jonathanmorgan/shares/phd_work/network_data/grp_6mos_by_month/grp_6mos_by_month_2007-09-17_pre-20220604-132313.tab</td><td>11823</td><td>11825</td><td>grp_6mos_by_month_2007-09-17_post-20220604-132433.tab</td><td>/home/jonathanmorgan/shares/phd_work/network_data/grp_6mos_by_month/grp_6mos_by_month_2007-09-17_post-20220604-132433.tab</td><td>11823</td><td>0.08495357</td><td>9.531557e-06</td><td>28802</td></tr>\n",
       "\t<tr><td>2007-10-18</td><td>6mos</td><td>grp_6mos_by_month</td><td>11651</td><td>grp_6mos_by_month_2007-10-18_pre-20220604-132557.tab</td><td>/home/jonathanmorgan/shares/phd_work/network_data/grp_6mos_by_month/grp_6mos_by_month_2007-10-18_pre-20220604-132557.tab</td><td>11649</td><td>11651</td><td>grp_6mos_by_month_2007-10-18_post-20220604-132722.tab</td><td>/home/jonathanmorgan/shares/phd_work/network_data/grp_6mos_by_month/grp_6mos_by_month_2007-10-18_post-20220604-132722.tab</td><td>11649</td><td>0.08827104</td><td>1.006897e-05</td><td>28280</td></tr>\n",
       "\t<tr><td>2007-11-18</td><td>6mos</td><td>grp_6mos_by_month</td><td>11526</td><td>grp_6mos_by_month_2007-11-18_pre-20220604-132843.tab</td><td>/home/jonathanmorgan/shares/phd_work/network_data/grp_6mos_by_month/grp_6mos_by_month_2007-11-18_pre-20220604-132843.tab</td><td>11524</td><td>11526</td><td>grp_6mos_by_month_2007-11-18_post-20220604-133006.tab</td><td>/home/jonathanmorgan/shares/phd_work/network_data/grp_6mos_by_month/grp_6mos_by_month_2007-11-18_post-20220604-133006.tab</td><td>11524</td><td>0.08545579</td><td>9.821787e-06</td><td>27956</td></tr>\n",
       "\t<tr><td>2007-12-19</td><td>6mos</td><td>grp_6mos_by_month</td><td>11337</td><td>grp_6mos_by_month_2007-12-19_pre-20220604-133126.tab</td><td>/home/jonathanmorgan/shares/phd_work/network_data/grp_6mos_by_month/grp_6mos_by_month_2007-12-19_pre-20220604-133126.tab</td><td>11335</td><td>11337</td><td>grp_6mos_by_month_2007-12-19_post-20220604-133245.tab</td><td>/home/jonathanmorgan/shares/phd_work/network_data/grp_6mos_by_month/grp_6mos_by_month_2007-12-19_post-20220604-133245.tab</td><td>11335</td><td>0.08742421</td><td>1.022987e-05</td><td>27472</td></tr>\n",
       "\t<tr><td>2008-01-19</td><td>6mos</td><td>grp_6mos_by_month</td><td>11212</td><td>grp_6mos_by_month_2008-01-19_pre-20220604-133402.tab</td><td>/home/jonathanmorgan/shares/phd_work/network_data/grp_6mos_by_month/grp_6mos_by_month_2008-01-19_pre-20220604-133402.tab</td><td>11210</td><td>11212</td><td>grp_6mos_by_month_2008-01-19_post-20220604-133516.tab</td><td>/home/jonathanmorgan/shares/phd_work/network_data/grp_6mos_by_month/grp_6mos_by_month_2008-01-19_post-20220604-133516.tab</td><td>11210</td><td>0.08766421</td><td>1.039556e-05</td><td>27202</td></tr>\n",
       "\t<tr><td>2008-02-19</td><td>6mos</td><td>grp_6mos_by_month</td><td>11028</td><td>grp_6mos_by_month_2008-02-19_pre-20220604-133627.tab</td><td>/home/jonathanmorgan/shares/phd_work/network_data/grp_6mos_by_month/grp_6mos_by_month_2008-02-19_pre-20220604-133627.tab</td><td>11026</td><td>11028</td><td>grp_6mos_by_month_2008-02-19_post-20220604-133737.tab</td><td>/home/jonathanmorgan/shares/phd_work/network_data/grp_6mos_by_month/grp_6mos_by_month_2008-02-19_post-20220604-133737.tab</td><td>11026</td><td>0.09125905</td><td>1.094302e-05</td><td>26504</td></tr>\n",
       "\t<tr><td>2008-03-21</td><td>6mos</td><td>grp_6mos_by_month</td><td>10883</td><td>grp_6mos_by_month_2008-03-21_pre-20220604-133847.tab</td><td>/home/jonathanmorgan/shares/phd_work/network_data/grp_6mos_by_month/grp_6mos_by_month_2008-03-21_pre-20220604-133847.tab</td><td>10881</td><td>10883</td><td>grp_6mos_by_month_2008-03-21_post-20220604-133955.tab</td><td>/home/jonathanmorgan/shares/phd_work/network_data/grp_6mos_by_month/grp_6mos_by_month_2008-03-21_post-20220604-133955.tab</td><td>10881</td><td>0.09514357</td><td>1.155762e-05</td><td>26026</td></tr>\n",
       "\t<tr><td>2008-04-21</td><td>6mos</td><td>grp_6mos_by_month</td><td>10842</td><td>grp_6mos_by_month_2008-04-21_pre-20220604-134102.tab</td><td>/home/jonathanmorgan/shares/phd_work/network_data/grp_6mos_by_month/grp_6mos_by_month_2008-04-21_pre-20220604-134102.tab</td><td>10840</td><td>10842</td><td>grp_6mos_by_month_2008-04-21_post-20220604-134209.tab</td><td>/home/jonathanmorgan/shares/phd_work/network_data/grp_6mos_by_month/grp_6mos_by_month_2008-04-21_post-20220604-134209.tab</td><td>10840</td><td>0.09580613</td><td>1.169625e-05</td><td>25942</td></tr>\n",
       "\t<tr><td>2008-05-22</td><td>6mos</td><td>grp_6mos_by_month</td><td>10707</td><td>grp_6mos_by_month_2008-05-22_pre-20220604-134315.tab</td><td>/home/jonathanmorgan/shares/phd_work/network_data/grp_6mos_by_month/grp_6mos_by_month_2008-05-22_pre-20220604-134315.tab</td><td>10705</td><td>10707</td><td>grp_6mos_by_month_2008-05-22_post-20220604-134421.tab</td><td>/home/jonathanmorgan/shares/phd_work/network_data/grp_6mos_by_month/grp_6mos_by_month_2008-05-22_post-20220604-134421.tab</td><td>10705</td><td>0.10072590</td><td>1.246436e-05</td><td>25508</td></tr>\n",
       "\t<tr><td>2008-06-22</td><td>6mos</td><td>grp_6mos_by_month</td><td>10493</td><td>grp_6mos_by_month_2008-06-22_pre-20220604-134526.tab</td><td>/home/jonathanmorgan/shares/phd_work/network_data/grp_6mos_by_month/grp_6mos_by_month_2008-06-22_pre-20220604-134526.tab</td><td>10491</td><td>10493</td><td>grp_6mos_by_month_2008-06-22_post-20220604-134635.tab</td><td>/home/jonathanmorgan/shares/phd_work/network_data/grp_6mos_by_month/grp_6mos_by_month_2008-06-22_post-20220604-134635.tab</td><td>10491</td><td>0.09471662</td><td>1.196036e-05</td><td>25172</td></tr>\n",
       "\t<tr><td>2008-07-23</td><td>6mos</td><td>grp_6mos_by_month</td><td>10346</td><td>grp_6mos_by_month_2008-07-23_pre-20220604-134742.tab</td><td>/home/jonathanmorgan/shares/phd_work/network_data/grp_6mos_by_month/grp_6mos_by_month_2008-07-23_pre-20220604-134742.tab</td><td>10344</td><td>10346</td><td>grp_6mos_by_month_2008-07-23_post-20220604-134850.tab</td><td>/home/jonathanmorgan/shares/phd_work/network_data/grp_6mos_by_month/grp_6mos_by_month_2008-07-23_post-20220604-134850.tab</td><td>10344</td><td>0.09518377</td><td>1.219057e-05</td><td>24836</td></tr>\n",
       "\t<tr><td>2008-08-23</td><td>6mos</td><td>grp_6mos_by_month</td><td>10334</td><td>grp_6mos_by_month_2008-08-23_pre-20220604-134954.tab</td><td>/home/jonathanmorgan/shares/phd_work/network_data/grp_6mos_by_month/grp_6mos_by_month_2008-08-23_pre-20220604-134954.tab</td><td>10332</td><td>10334</td><td>grp_6mos_by_month_2008-08-23_post-20220604-135057.tab</td><td>/home/jonathanmorgan/shares/phd_work/network_data/grp_6mos_by_month/grp_6mos_by_month_2008-08-23_post-20220604-135057.tab</td><td>10332</td><td>0.09264637</td><td>1.178820e-05</td><td>24674</td></tr>\n",
       "\t<tr><td>2008-09-23</td><td>6mos</td><td>grp_6mos_by_month</td><td>10259</td><td>grp_6mos_by_month_2008-09-23_pre-20220604-135158.tab</td><td>/home/jonathanmorgan/shares/phd_work/network_data/grp_6mos_by_month/grp_6mos_by_month_2008-09-23_pre-20220604-135158.tab</td><td>10257</td><td>10259</td><td>grp_6mos_by_month_2008-09-23_post-20220604-135300.tab</td><td>/home/jonathanmorgan/shares/phd_work/network_data/grp_6mos_by_month/grp_6mos_by_month_2008-09-23_post-20220604-135300.tab</td><td>10257</td><td>0.09352190</td><td>1.201818e-05</td><td>24538</td></tr>\n",
       "\t<tr><td>2008-10-24</td><td>6mos</td><td>grp_6mos_by_month</td><td>10212</td><td>grp_6mos_by_month_2008-10-24_pre-20220604-135401.tab</td><td>/home/jonathanmorgan/shares/phd_work/network_data/grp_6mos_by_month/grp_6mos_by_month_2008-10-24_pre-20220604-135401.tab</td><td>10210</td><td>10212</td><td>grp_6mos_by_month_2008-10-24_post-20220604-135504.tab</td><td>/home/jonathanmorgan/shares/phd_work/network_data/grp_6mos_by_month/grp_6mos_by_month_2008-10-24_post-20220604-135504.tab</td><td>10210</td><td>0.09665621</td><td>1.251275e-05</td><td>24412</td></tr>\n",
       "\t<tr><td>2008-11-24</td><td>6mos</td><td>grp_6mos_by_month</td><td>10177</td><td>grp_6mos_by_month_2008-11-24_pre-20220604-135605.tab</td><td>/home/jonathanmorgan/shares/phd_work/network_data/grp_6mos_by_month/grp_6mos_by_month_2008-11-24_pre-20220604-135605.tab</td><td>10175</td><td>10177</td><td>grp_6mos_by_month_2008-11-24_post-20220604-135707.tab</td><td>/home/jonathanmorgan/shares/phd_work/network_data/grp_6mos_by_month/grp_6mos_by_month_2008-11-24_post-20220604-135707.tab</td><td>10175</td><td>0.09638022</td><td>1.261804e-05</td><td>24502</td></tr>\n",
       "\t<tr><td>2008-12-25</td><td>6mos</td><td>grp_6mos_by_month</td><td>10081</td><td>grp_6mos_by_month_2008-12-25_pre-20220604-135809.tab</td><td>/home/jonathanmorgan/shares/phd_work/network_data/grp_6mos_by_month/grp_6mos_by_month_2008-12-25_pre-20220604-135809.tab</td><td>10079</td><td>10081</td><td>grp_6mos_by_month_2008-12-25_post-20220604-135915.tab</td><td>/home/jonathanmorgan/shares/phd_work/network_data/grp_6mos_by_month/grp_6mos_by_month_2008-12-25_post-20220604-135915.tab</td><td>10079</td><td>0.09296583</td><td>1.234746e-05</td><td>24474</td></tr>\n",
       "\t<tr><td>2009-01-25</td><td>6mos</td><td>grp_6mos_by_month</td><td>10035</td><td>grp_6mos_by_month_2009-01-25_pre-20220604-140021.tab</td><td>/home/jonathanmorgan/shares/phd_work/network_data/grp_6mos_by_month/grp_6mos_by_month_2009-01-25_pre-20220604-140021.tab</td><td>10033</td><td>10035</td><td>grp_6mos_by_month_2009-01-25_post-20220604-140120.tab</td><td>/home/jonathanmorgan/shares/phd_work/network_data/grp_6mos_by_month/grp_6mos_by_month_2009-01-25_post-20220604-140120.tab</td><td>10033</td><td>0.09625627</td><td>1.285832e-05</td><td>24316</td></tr>\n",
       "\t<tr><td>2009-02-25</td><td>6mos</td><td>grp_6mos_by_month</td><td>10019</td><td>grp_6mos_by_month_2009-02-25_pre-20220604-140219.tab</td><td>/home/jonathanmorgan/shares/phd_work/network_data/grp_6mos_by_month/grp_6mos_by_month_2009-02-25_pre-20220604-140219.tab</td><td>10017</td><td>10019</td><td>grp_6mos_by_month_2009-02-25_post-20220604-140318.tab</td><td>/home/jonathanmorgan/shares/phd_work/network_data/grp_6mos_by_month/grp_6mos_by_month_2009-02-25_post-20220604-140318.tab</td><td>10017</td><td>0.09696011</td><td>1.307855e-05</td><td>24466</td></tr>\n",
       "\t<tr><td>2009-03-28</td><td>6mos</td><td>grp_6mos_by_month</td><td> 9991</td><td>grp_6mos_by_month_2009-03-28_pre-20220604-140420.tab</td><td>/home/jonathanmorgan/shares/phd_work/network_data/grp_6mos_by_month/grp_6mos_by_month_2009-03-28_pre-20220604-140420.tab</td><td> 9989</td><td> 9991</td><td>grp_6mos_by_month_2009-03-28_post-20220604-140520.tab</td><td>/home/jonathanmorgan/shares/phd_work/network_data/grp_6mos_by_month/grp_6mos_by_month_2009-03-28_post-20220604-140520.tab</td><td> 9989</td><td>0.09784626</td><td>1.327215e-05</td><td>24446</td></tr>\n",
       "\t<tr><td>2009-04-28</td><td>6mos</td><td>grp_6mos_by_month</td><td>10077</td><td>grp_6mos_by_month_2009-04-28_pre-20220604-140621.tab</td><td>/home/jonathanmorgan/shares/phd_work/network_data/grp_6mos_by_month/grp_6mos_by_month_2009-04-28_pre-20220604-140621.tab</td><td>10075</td><td>10077</td><td>grp_6mos_by_month_2009-04-28_post-20220604-140722.tab</td><td>/home/jonathanmorgan/shares/phd_work/network_data/grp_6mos_by_month/grp_6mos_by_month_2009-04-28_post-20220604-140722.tab</td><td>10075</td><td>0.09700182</td><td>1.302687e-05</td><td>24662</td></tr>\n",
       "\t<tr><td>2009-05-29</td><td>6mos</td><td>grp_6mos_by_month</td><td>10127</td><td>grp_6mos_by_month_2009-05-29_pre-20220604-140826.tab</td><td>/home/jonathanmorgan/shares/phd_work/network_data/grp_6mos_by_month/grp_6mos_by_month_2009-05-29_pre-20220604-140826.tab</td><td>10125</td><td>10127</td><td>grp_6mos_by_month_2009-05-29_post-20220604-140928.tab</td><td>/home/jonathanmorgan/shares/phd_work/network_data/grp_6mos_by_month/grp_6mos_by_month_2009-05-29_post-20220604-140928.tab</td><td>10125</td><td>0.09424958</td><td>1.260582e-05</td><td>24852</td></tr>\n",
       "\t<tr><td>2009-06-29</td><td>6mos</td><td>grp_6mos_by_month</td><td>10199</td><td>grp_6mos_by_month_2009-06-29_pre-20220604-141033.tab</td><td>/home/jonathanmorgan/shares/phd_work/network_data/grp_6mos_by_month/grp_6mos_by_month_2009-06-29_pre-20220604-141033.tab</td><td>10197</td><td>10199</td><td>grp_6mos_by_month_2009-06-29_post-20220604-141135.tab</td><td>/home/jonathanmorgan/shares/phd_work/network_data/grp_6mos_by_month/grp_6mos_by_month_2009-06-29_post-20220604-141135.tab</td><td>10197</td><td>0.08923869</td><td>1.177461e-05</td><td>24988</td></tr>\n",
       "\t<tr><td>2009-07-30</td><td>6mos</td><td>grp_6mos_by_month</td><td>10204</td><td>grp_6mos_by_month_2009-07-30_pre-20220604-141239.tab</td><td>/home/jonathanmorgan/shares/phd_work/network_data/grp_6mos_by_month/grp_6mos_by_month_2009-07-30_pre-20220604-141239.tab</td><td>10202</td><td>10204</td><td>grp_6mos_by_month_2009-07-30_post-20220604-141342.tab</td><td>/home/jonathanmorgan/shares/phd_work/network_data/grp_6mos_by_month/grp_6mos_by_month_2009-07-30_post-20220604-141342.tab</td><td>10202</td><td>0.09444272</td><td>1.247407e-05</td><td>24896</td></tr>\n",
       "\t<tr><td>2009-08-30</td><td>6mos</td><td>grp_6mos_by_month</td><td>10260</td><td>grp_6mos_by_month_2009-08-30_pre-20220604-141447.tab</td><td>/home/jonathanmorgan/shares/phd_work/network_data/grp_6mos_by_month/grp_6mos_by_month_2009-08-30_pre-20220604-141447.tab</td><td>10258</td><td>10260</td><td>grp_6mos_by_month_2009-08-30_post-20220604-141552.tab</td><td>/home/jonathanmorgan/shares/phd_work/network_data/grp_6mos_by_month/grp_6mos_by_month_2009-08-30_post-20220604-141552.tab</td><td>10258</td><td>0.09884831</td><td>1.298453e-05</td><td>24920</td></tr>\n",
       "\t<tr><td>2009-09-30</td><td>6mos</td><td>grp_6mos_by_month</td><td>10184</td><td>grp_6mos_by_month_2009-09-30_pre-20220604-141700.tab</td><td>/home/jonathanmorgan/shares/phd_work/network_data/grp_6mos_by_month/grp_6mos_by_month_2009-09-30_pre-20220604-141700.tab</td><td>10182</td><td>10184</td><td>grp_6mos_by_month_2009-09-30_post-20220604-141809.tab</td><td>/home/jonathanmorgan/shares/phd_work/network_data/grp_6mos_by_month/grp_6mos_by_month_2009-09-30_post-20220604-141809.tab</td><td>10182</td><td>0.09961737</td><td>1.317911e-05</td><td>24714</td></tr>\n",
       "\t<tr><td>2009-10-31</td><td>6mos</td><td>grp_6mos_by_month</td><td>10173</td><td>grp_6mos_by_month_2009-10-31_pre-20220604-141919.tab</td><td>/home/jonathanmorgan/shares/phd_work/network_data/grp_6mos_by_month/grp_6mos_by_month_2009-10-31_pre-20220604-141919.tab</td><td>10171</td><td>10173</td><td>grp_6mos_by_month_2009-10-31_post-20220604-142029.tab</td><td>/home/jonathanmorgan/shares/phd_work/network_data/grp_6mos_by_month/grp_6mos_by_month_2009-10-31_post-20220604-142029.tab</td><td>10171</td><td>0.10550592</td><td>1.398101e-05</td><td>24556</td></tr>\n",
       "\t<tr><td>2009-12-01</td><td>6mos</td><td>grp_6mos_by_month</td><td>10127</td><td>grp_6mos_by_month_2009-12-01_pre-20220604-142137.tab</td><td>/home/jonathanmorgan/shares/phd_work/network_data/grp_6mos_by_month/grp_6mos_by_month_2009-12-01_pre-20220604-142137.tab</td><td>10125</td><td>10127</td><td>grp_6mos_by_month_2009-12-01_post-20220604-142240.tab</td><td>/home/jonathanmorgan/shares/phd_work/network_data/grp_6mos_by_month/grp_6mos_by_month_2009-12-01_post-20220604-142240.tab</td><td>10125</td><td>0.10835966</td><td>1.440107e-05</td><td>24310</td></tr>\n",
       "\t<tr><td>2010-01-01</td><td>6mos</td><td>grp_6mos_by_month</td><td>10051</td><td>grp_6mos_by_month_2010-01-01_pre-20220604-142343.tab</td><td>/home/jonathanmorgan/shares/phd_work/network_data/grp_6mos_by_month/grp_6mos_by_month_2010-01-01_pre-20220604-142343.tab</td><td>10049</td><td>10051</td><td>grp_6mos_by_month_2010-01-01_post-20220604-142446.tab</td><td>/home/jonathanmorgan/shares/phd_work/network_data/grp_6mos_by_month/grp_6mos_by_month_2010-01-01_post-20220604-142446.tab</td><td>10049</td><td>0.10538321</td><td>1.402573e-05</td><td>24050</td></tr>\n",
       "\t<tr><td>2010-02-01</td><td>6mos</td><td>grp_6mos_by_month</td><td>10011</td><td>grp_6mos_by_month_2010-02-01_pre-20220604-142549.tab</td><td>/home/jonathanmorgan/shares/phd_work/network_data/grp_6mos_by_month/grp_6mos_by_month_2010-02-01_pre-20220604-142549.tab</td><td>10009</td><td>10011</td><td>grp_6mos_by_month_2010-02-01_post-20220604-142653.tab</td><td>/home/jonathanmorgan/shares/phd_work/network_data/grp_6mos_by_month/grp_6mos_by_month_2010-02-01_post-20220604-142653.tab</td><td>10009</td><td>0.10702934</td><td>1.429780e-05</td><td>23904</td></tr>\n",
       "\t<tr><td>2010-03-04</td><td>6mos</td><td>grp_6mos_by_month</td><td> 9911</td><td>grp_6mos_by_month_2010-03-04_pre-20220604-142755.tab</td><td>/home/jonathanmorgan/shares/phd_work/network_data/grp_6mos_by_month/grp_6mos_by_month_2010-03-04_pre-20220604-142755.tab</td><td> 9909</td><td> 9911</td><td>grp_6mos_by_month_2010-03-04_post-20220604-142858.tab</td><td>/home/jonathanmorgan/shares/phd_work/network_data/grp_6mos_by_month/grp_6mos_by_month_2010-03-04_post-20220604-142858.tab</td><td> 9909</td><td>0.11096742</td><td>1.495458e-05</td><td>23530</td></tr>\n",
       "\t<tr><td>2010-04-04</td><td>6mos</td><td>grp_6mos_by_month</td><td> 9808</td><td>grp_6mos_by_month_2010-04-04_pre-20220604-143001.tab</td><td>/home/jonathanmorgan/shares/phd_work/network_data/grp_6mos_by_month/grp_6mos_by_month_2010-04-04_pre-20220604-143001.tab</td><td> 9806</td><td> 9808</td><td>grp_6mos_by_month_2010-04-04_post-20220604-143107.tab</td><td>/home/jonathanmorgan/shares/phd_work/network_data/grp_6mos_by_month/grp_6mos_by_month_2010-04-04_post-20220604-143107.tab</td><td> 9806</td><td>0.10877313</td><td>1.483353e-05</td><td>23372</td></tr>\n",
       "\t<tr><td>2010-05-05</td><td>6mos</td><td>grp_6mos_by_month</td><td> 9693</td><td>grp_6mos_by_month_2010-05-05_pre-20220604-143216.tab</td><td>/home/jonathanmorgan/shares/phd_work/network_data/grp_6mos_by_month/grp_6mos_by_month_2010-05-05_pre-20220604-143216.tab</td><td> 9691</td><td> 9693</td><td>grp_6mos_by_month_2010-05-05_post-20220604-143320.tab</td><td>/home/jonathanmorgan/shares/phd_work/network_data/grp_6mos_by_month/grp_6mos_by_month_2010-05-05_post-20220604-143320.tab</td><td> 9691</td><td>0.10734713</td><td>1.471937e-05</td><td>22990</td></tr>\n",
       "</tbody>\n",
       "</table>\n"
      ],
      "text/latex": [
       "A data.frame: 58 × 14\n",
       "\\begin{tabular}{llllllllllllll}\n",
       " baseDate & networkDuration & label & beforeColumnCount & beforeDataFileName & beforeDataPath & beforeRowCount & afterColumnCount & afterDataFileName & afterDataPath & afterRowCount & binGraphCorrelation & binGraphCovariance & binGraphHammingDistance\\\\\n",
       " <date> & <chr> & <chr> & <int> & <chr> & <chr> & <int> & <int> & <chr> & <chr> & <int> & <dbl> & <dbl> & <dbl>\\\\\n",
       "\\hline\n",
       "\t 2005-07-03 & 6mos & grp\\_6mos\\_by\\_month & 13775 & grp\\_6mos\\_by\\_month\\_2005-07-03\\_pre-20220604-115739.tab & /home/jonathanmorgan/shares/phd\\_work/network\\_data/grp\\_6mos\\_by\\_month/grp\\_6mos\\_by\\_month\\_2005-07-03\\_pre-20220604-115739.tab & 13773 & 13775 & grp\\_6mos\\_by\\_month\\_2005-07-03\\_post-20220604-115928.tab & /home/jonathanmorgan/shares/phd\\_work/network\\_data/grp\\_6mos\\_by\\_month/grp\\_6mos\\_by\\_month\\_2005-07-03\\_post-20220604-115928.tab & 13773 & 0.11059698 & 1.109275e-05 & 33842\\\\\n",
       "\t 2005-08-03 & 6mos & grp\\_6mos\\_by\\_month & 13827 & grp\\_6mos\\_by\\_month\\_2005-08-03\\_pre-20220604-120117.tab & /home/jonathanmorgan/shares/phd\\_work/network\\_data/grp\\_6mos\\_by\\_month/grp\\_6mos\\_by\\_month\\_2005-08-03\\_pre-20220604-120117.tab & 13825 & 13827 & grp\\_6mos\\_by\\_month\\_2005-08-03\\_post-20220604-120305.tab & /home/jonathanmorgan/shares/phd\\_work/network\\_data/grp\\_6mos\\_by\\_month/grp\\_6mos\\_by\\_month\\_2005-08-03\\_post-20220604-120305.tab & 13825 & 0.11349380 & 1.135477e-05 & 33904\\\\\n",
       "\t 2005-09-03 & 6mos & grp\\_6mos\\_by\\_month & 13878 & grp\\_6mos\\_by\\_month\\_2005-09-03\\_pre-20220604-120452.tab & /home/jonathanmorgan/shares/phd\\_work/network\\_data/grp\\_6mos\\_by\\_month/grp\\_6mos\\_by\\_month\\_2005-09-03\\_pre-20220604-120452.tab & 13876 & 13878 & grp\\_6mos\\_by\\_month\\_2005-09-03\\_post-20220604-120639.tab & /home/jonathanmorgan/shares/phd\\_work/network\\_data/grp\\_6mos\\_by\\_month/grp\\_6mos\\_by\\_month\\_2005-09-03\\_post-20220604-120639.tab & 13876 & 0.10745234 & 1.068976e-05 & 34214\\\\\n",
       "\t 2005-10-04 & 6mos & grp\\_6mos\\_by\\_month & 13713 & grp\\_6mos\\_by\\_month\\_2005-10-04\\_pre-20220604-120827.tab & /home/jonathanmorgan/shares/phd\\_work/network\\_data/grp\\_6mos\\_by\\_month/grp\\_6mos\\_by\\_month\\_2005-10-04\\_pre-20220604-120827.tab & 13711 & 13713 & grp\\_6mos\\_by\\_month\\_2005-10-04\\_post-20220604-121014.tab & /home/jonathanmorgan/shares/phd\\_work/network\\_data/grp\\_6mos\\_by\\_month/grp\\_6mos\\_by\\_month\\_2005-10-04\\_post-20220604-121014.tab & 13711 & 0.11130250 & 1.124644e-05 & 33802\\\\\n",
       "\t 2005-11-04 & 6mos & grp\\_6mos\\_by\\_month & 13501 & grp\\_6mos\\_by\\_month\\_2005-11-04\\_pre-20220604-121212.tab & /home/jonathanmorgan/shares/phd\\_work/network\\_data/grp\\_6mos\\_by\\_month/grp\\_6mos\\_by\\_month\\_2005-11-04\\_pre-20220604-121212.tab & 13499 & 13501 & grp\\_6mos\\_by\\_month\\_2005-11-04\\_post-20220604-121409.tab & /home/jonathanmorgan/shares/phd\\_work/network\\_data/grp\\_6mos\\_by\\_month/grp\\_6mos\\_by\\_month\\_2005-11-04\\_post-20220604-121409.tab & 13499 & 0.10786637 & 1.106464e-05 & 33416\\\\\n",
       "\t 2005-12-05 & 6mos & grp\\_6mos\\_by\\_month & 13438 & grp\\_6mos\\_by\\_month\\_2005-12-05\\_pre-20220604-121603.tab & /home/jonathanmorgan/shares/phd\\_work/network\\_data/grp\\_6mos\\_by\\_month/grp\\_6mos\\_by\\_month\\_2005-12-05\\_pre-20220604-121603.tab & 13436 & 13438 & grp\\_6mos\\_by\\_month\\_2005-12-05\\_post-20220604-121756.tab & /home/jonathanmorgan/shares/phd\\_work/network\\_data/grp\\_6mos\\_by\\_month/grp\\_6mos\\_by\\_month\\_2005-12-05\\_post-20220604-121756.tab & 13436 & 0.10847303 & 1.114655e-05 & 33142\\\\\n",
       "\t 2006-01-05 & 6mos & grp\\_6mos\\_by\\_month & 13222 & grp\\_6mos\\_by\\_month\\_2006-01-05\\_pre-20220604-121948.tab & /home/jonathanmorgan/shares/phd\\_work/network\\_data/grp\\_6mos\\_by\\_month/grp\\_6mos\\_by\\_month\\_2006-01-05\\_pre-20220604-121948.tab & 13220 & 13222 & grp\\_6mos\\_by\\_month\\_2006-01-05\\_post-20220604-122133.tab & /home/jonathanmorgan/shares/phd\\_work/network\\_data/grp\\_6mos\\_by\\_month/grp\\_6mos\\_by\\_month\\_2006-01-05\\_post-20220604-122133.tab & 13220 & 0.10936852 & 1.143365e-05 & 32574\\\\\n",
       "\t 2006-02-05 & 6mos & grp\\_6mos\\_by\\_month & 13095 & grp\\_6mos\\_by\\_month\\_2006-02-05\\_pre-20220604-122317.tab & /home/jonathanmorgan/shares/phd\\_work/network\\_data/grp\\_6mos\\_by\\_month/grp\\_6mos\\_by\\_month\\_2006-02-05\\_pre-20220604-122317.tab & 13093 & 13095 & grp\\_6mos\\_by\\_month\\_2006-02-05\\_post-20220604-122459.tab & /home/jonathanmorgan/shares/phd\\_work/network\\_data/grp\\_6mos\\_by\\_month/grp\\_6mos\\_by\\_month\\_2006-02-05\\_post-20220604-122459.tab & 13093 & 0.10815866 & 1.139989e-05 & 32250\\\\\n",
       "\t 2006-03-08 & 6mos & grp\\_6mos\\_by\\_month & 12891 & grp\\_6mos\\_by\\_month\\_2006-03-08\\_pre-20220604-122637.tab & /home/jonathanmorgan/shares/phd\\_work/network\\_data/grp\\_6mos\\_by\\_month/grp\\_6mos\\_by\\_month\\_2006-03-08\\_pre-20220604-122637.tab & 12889 & 12891 & grp\\_6mos\\_by\\_month\\_2006-03-08\\_post-20220604-122819.tab & /home/jonathanmorgan/shares/phd\\_work/network\\_data/grp\\_6mos\\_by\\_month/grp\\_6mos\\_by\\_month\\_2006-03-08\\_post-20220604-122819.tab & 12889 & 0.10492004 & 1.114975e-05 & 31640\\\\\n",
       "\t 2006-04-08 & 6mos & grp\\_6mos\\_by\\_month & 12842 & grp\\_6mos\\_by\\_month\\_2006-04-08\\_pre-20220604-122958.tab & /home/jonathanmorgan/shares/phd\\_work/network\\_data/grp\\_6mos\\_by\\_month/grp\\_6mos\\_by\\_month\\_2006-04-08\\_pre-20220604-122958.tab & 12840 & 12842 & grp\\_6mos\\_by\\_month\\_2006-04-08\\_post-20220604-123139.tab & /home/jonathanmorgan/shares/phd\\_work/network\\_data/grp\\_6mos\\_by\\_month/grp\\_6mos\\_by\\_month\\_2006-04-08\\_post-20220604-123139.tab & 12840 & 0.09902329 & 1.053143e-05 & 31606\\\\\n",
       "\t 2006-05-09 & 6mos & grp\\_6mos\\_by\\_month & 12812 & grp\\_6mos\\_by\\_month\\_2006-05-09\\_pre-20220604-123316.tab & /home/jonathanmorgan/shares/phd\\_work/network\\_data/grp\\_6mos\\_by\\_month/grp\\_6mos\\_by\\_month\\_2006-05-09\\_pre-20220604-123316.tab & 12810 & 12812 & grp\\_6mos\\_by\\_month\\_2006-05-09\\_post-20220604-123504.tab & /home/jonathanmorgan/shares/phd\\_work/network\\_data/grp\\_6mos\\_by\\_month/grp\\_6mos\\_by\\_month\\_2006-05-09\\_post-20220604-123504.tab & 12810 & 0.09817331 & 1.044678e-05 & 31494\\\\\n",
       "\t 2006-06-09 & 6mos & grp\\_6mos\\_by\\_month & 12711 & grp\\_6mos\\_by\\_month\\_2006-06-09\\_pre-20220604-123643.tab & /home/jonathanmorgan/shares/phd\\_work/network\\_data/grp\\_6mos\\_by\\_month/grp\\_6mos\\_by\\_month\\_2006-06-09\\_pre-20220604-123643.tab & 12709 & 12711 & grp\\_6mos\\_by\\_month\\_2006-06-09\\_post-20220604-123819.tab & /home/jonathanmorgan/shares/phd\\_work/network\\_data/grp\\_6mos\\_by\\_month/grp\\_6mos\\_by\\_month\\_2006-06-09\\_post-20220604-123819.tab & 12709 & 0.09920263 & 1.068769e-05 & 31348\\\\\n",
       "\t 2006-07-10 & 6mos & grp\\_6mos\\_by\\_month & 12682 & grp\\_6mos\\_by\\_month\\_2006-07-10\\_pre-20220604-123955.tab & /home/jonathanmorgan/shares/phd\\_work/network\\_data/grp\\_6mos\\_by\\_month/grp\\_6mos\\_by\\_month\\_2006-07-10\\_pre-20220604-123955.tab & 12680 & 12682 & grp\\_6mos\\_by\\_month\\_2006-07-10\\_post-20220604-124132.tab & /home/jonathanmorgan/shares/phd\\_work/network\\_data/grp\\_6mos\\_by\\_month/grp\\_6mos\\_by\\_month\\_2006-07-10\\_post-20220604-124132.tab & 12680 & 0.09409485 & 1.016437e-05 & 31466\\\\\n",
       "\t 2006-08-10 & 6mos & grp\\_6mos\\_by\\_month & 12648 & grp\\_6mos\\_by\\_month\\_2006-08-10\\_pre-20220604-124308.tab & /home/jonathanmorgan/shares/phd\\_work/network\\_data/grp\\_6mos\\_by\\_month/grp\\_6mos\\_by\\_month\\_2006-08-10\\_pre-20220604-124308.tab & 12646 & 12648 & grp\\_6mos\\_by\\_month\\_2006-08-10\\_post-20220604-124452.tab & /home/jonathanmorgan/shares/phd\\_work/network\\_data/grp\\_6mos\\_by\\_month/grp\\_6mos\\_by\\_month\\_2006-08-10\\_post-20220604-124452.tab & 12646 & 0.09530084 & 1.028173e-05 & 31216\\\\\n",
       "\t 2006-09-10 & 6mos & grp\\_6mos\\_by\\_month & 12531 & grp\\_6mos\\_by\\_month\\_2006-09-10\\_pre-20220604-124636.tab & /home/jonathanmorgan/shares/phd\\_work/network\\_data/grp\\_6mos\\_by\\_month/grp\\_6mos\\_by\\_month\\_2006-09-10\\_pre-20220604-124636.tab & 12529 & 12531 & grp\\_6mos\\_by\\_month\\_2006-09-10\\_post-20220604-124818.tab & /home/jonathanmorgan/shares/phd\\_work/network\\_data/grp\\_6mos\\_by\\_month/grp\\_6mos\\_by\\_month\\_2006-09-10\\_post-20220604-124818.tab & 12529 & 0.09435592 & 1.024538e-05 & 30872\\\\\n",
       "\t 2006-10-11 & 6mos & grp\\_6mos\\_by\\_month & 12518 & grp\\_6mos\\_by\\_month\\_2006-10-11\\_pre-20220604-124959.tab & /home/jonathanmorgan/shares/phd\\_work/network\\_data/grp\\_6mos\\_by\\_month/grp\\_6mos\\_by\\_month\\_2006-10-11\\_pre-20220604-124959.tab & 12516 & 12518 & grp\\_6mos\\_by\\_month\\_2006-10-11\\_post-20220604-125140.tab & /home/jonathanmorgan/shares/phd\\_work/network\\_data/grp\\_6mos\\_by\\_month/grp\\_6mos\\_by\\_month\\_2006-10-11\\_post-20220604-125140.tab & 12516 & 0.09301812 & 1.008797e-05 & 30816\\\\\n",
       "\t 2006-11-11 & 6mos & grp\\_6mos\\_by\\_month & 12581 & grp\\_6mos\\_by\\_month\\_2006-11-11\\_pre-20220604-125318.tab & /home/jonathanmorgan/shares/phd\\_work/network\\_data/grp\\_6mos\\_by\\_month/grp\\_6mos\\_by\\_month\\_2006-11-11\\_pre-20220604-125318.tab & 12579 & 12581 & grp\\_6mos\\_by\\_month\\_2006-11-11\\_post-20220604-125452.tab & /home/jonathanmorgan/shares/phd\\_work/network\\_data/grp\\_6mos\\_by\\_month/grp\\_6mos\\_by\\_month\\_2006-11-11\\_post-20220604-125452.tab & 12579 & 0.08629197 & 9.317201e-06 & 31222\\\\\n",
       "\t 2006-12-12 & 6mos & grp\\_6mos\\_by\\_month & 12624 & grp\\_6mos\\_by\\_month\\_2006-12-12\\_pre-20220604-125624.tab & /home/jonathanmorgan/shares/phd\\_work/network\\_data/grp\\_6mos\\_by\\_month/grp\\_6mos\\_by\\_month\\_2006-12-12\\_pre-20220604-125624.tab & 12622 & 12624 & grp\\_6mos\\_by\\_month\\_2006-12-12\\_post-20220604-125757.tab & /home/jonathanmorgan/shares/phd\\_work/network\\_data/grp\\_6mos\\_by\\_month/grp\\_6mos\\_by\\_month\\_2006-12-12\\_post-20220604-125757.tab & 12622 & 0.08840180 & 9.479889e-06 & 31148\\\\\n",
       "\t 2007-01-12 & 6mos & grp\\_6mos\\_by\\_month & 12670 & grp\\_6mos\\_by\\_month\\_2007-01-12\\_pre-20220604-125935.tab & /home/jonathanmorgan/shares/phd\\_work/network\\_data/grp\\_6mos\\_by\\_month/grp\\_6mos\\_by\\_month\\_2007-01-12\\_pre-20220604-125935.tab & 12668 & 12670 & grp\\_6mos\\_by\\_month\\_2007-01-12\\_post-20220604-130114.tab & /home/jonathanmorgan/shares/phd\\_work/network\\_data/grp\\_6mos\\_by\\_month/grp\\_6mos\\_by\\_month\\_2007-01-12\\_post-20220604-130114.tab & 12668 & 0.08642300 & 9.211799e-06 & 31254\\\\\n",
       "\t 2007-02-12 & 6mos & grp\\_6mos\\_by\\_month & 12527 & grp\\_6mos\\_by\\_month\\_2007-02-12\\_pre-20220604-130252.tab & /home/jonathanmorgan/shares/phd\\_work/network\\_data/grp\\_6mos\\_by\\_month/grp\\_6mos\\_by\\_month\\_2007-02-12\\_pre-20220604-130252.tab & 12525 & 12527 & grp\\_6mos\\_by\\_month\\_2007-02-12\\_post-20220604-130429.tab & /home/jonathanmorgan/shares/phd\\_work/network\\_data/grp\\_6mos\\_by\\_month/grp\\_6mos\\_by\\_month\\_2007-02-12\\_post-20220604-130429.tab & 12525 & 0.08663734 & 9.359556e-06 & 30960\\\\\n",
       "\t 2007-03-15 & 6mos & grp\\_6mos\\_by\\_month & 12682 & grp\\_6mos\\_by\\_month\\_2007-03-15\\_pre-20220604-130605.tab & /home/jonathanmorgan/shares/phd\\_work/network\\_data/grp\\_6mos\\_by\\_month/grp\\_6mos\\_by\\_month\\_2007-03-15\\_pre-20220604-130605.tab & 12680 & 12682 & grp\\_6mos\\_by\\_month\\_2007-03-15\\_post-20220604-130743.tab & /home/jonathanmorgan/shares/phd\\_work/network\\_data/grp\\_6mos\\_by\\_month/grp\\_6mos\\_by\\_month\\_2007-03-15\\_post-20220604-130743.tab & 12680 & 0.08486774 & 9.032661e-06 & 31318\\\\\n",
       "\t 2007-04-15 & 6mos & grp\\_6mos\\_by\\_month & 12402 & grp\\_6mos\\_by\\_month\\_2007-04-15\\_pre-20220604-130914.tab & /home/jonathanmorgan/shares/phd\\_work/network\\_data/grp\\_6mos\\_by\\_month/grp\\_6mos\\_by\\_month\\_2007-04-15\\_pre-20220604-130914.tab & 12400 & 12402 & grp\\_6mos\\_by\\_month\\_2007-04-15\\_post-20220604-131043.tab & /home/jonathanmorgan/shares/phd\\_work/network\\_data/grp\\_6mos\\_by\\_month/grp\\_6mos\\_by\\_month\\_2007-04-15\\_post-20220604-131043.tab & 12400 & 0.08683507 & 9.445224e-06 & 30544\\\\\n",
       "\t 2007-05-16 & 6mos & grp\\_6mos\\_by\\_month & 12250 & grp\\_6mos\\_by\\_month\\_2007-05-16\\_pre-20220604-131210.tab & /home/jonathanmorgan/shares/phd\\_work/network\\_data/grp\\_6mos\\_by\\_month/grp\\_6mos\\_by\\_month\\_2007-05-16\\_pre-20220604-131210.tab & 12248 & 12250 & grp\\_6mos\\_by\\_month\\_2007-05-16\\_post-20220604-131335.tab & /home/jonathanmorgan/shares/phd\\_work/network\\_data/grp\\_6mos\\_by\\_month/grp\\_6mos\\_by\\_month\\_2007-05-16\\_post-20220604-131335.tab & 12248 & 0.08855043 & 9.707897e-06 & 29986\\\\\n",
       "\t 2007-06-16 & 6mos & grp\\_6mos\\_by\\_month & 12215 & grp\\_6mos\\_by\\_month\\_2007-06-16\\_pre-20220604-131501.tab & /home/jonathanmorgan/shares/phd\\_work/network\\_data/grp\\_6mos\\_by\\_month/grp\\_6mos\\_by\\_month\\_2007-06-16\\_pre-20220604-131501.tab & 12213 & 12215 & grp\\_6mos\\_by\\_month\\_2007-06-16\\_post-20220604-131627.tab & /home/jonathanmorgan/shares/phd\\_work/network\\_data/grp\\_6mos\\_by\\_month/grp\\_6mos\\_by\\_month\\_2007-06-16\\_post-20220604-131627.tab & 12213 & 0.08749842 & 9.589371e-06 & 29846\\\\\n",
       "\t 2007-07-17 & 6mos & grp\\_6mos\\_by\\_month & 12064 & grp\\_6mos\\_by\\_month\\_2007-07-17\\_pre-20220604-131750.tab & /home/jonathanmorgan/shares/phd\\_work/network\\_data/grp\\_6mos\\_by\\_month/grp\\_6mos\\_by\\_month\\_2007-07-17\\_pre-20220604-131750.tab & 12062 & 12064 & grp\\_6mos\\_by\\_month\\_2007-07-17\\_post-20220604-131913.tab & /home/jonathanmorgan/shares/phd\\_work/network\\_data/grp\\_6mos\\_by\\_month/grp\\_6mos\\_by\\_month\\_2007-07-17\\_post-20220604-131913.tab & 12062 & 0.08982345 & 9.927308e-06 & 29304\\\\\n",
       "\t 2007-08-17 & 6mos & grp\\_6mos\\_by\\_month & 11880 & grp\\_6mos\\_by\\_month\\_2007-08-17\\_pre-20220604-132033.tab & /home/jonathanmorgan/shares/phd\\_work/network\\_data/grp\\_6mos\\_by\\_month/grp\\_6mos\\_by\\_month\\_2007-08-17\\_pre-20220604-132033.tab & 11878 & 11880 & grp\\_6mos\\_by\\_month\\_2007-08-17\\_post-20220604-132154.tab & /home/jonathanmorgan/shares/phd\\_work/network\\_data/grp\\_6mos\\_by\\_month/grp\\_6mos\\_by\\_month\\_2007-08-17\\_post-20220604-132154.tab & 11878 & 0.08743222 & 9.811964e-06 & 28940\\\\\n",
       "\t 2007-09-17 & 6mos & grp\\_6mos\\_by\\_month & 11825 & grp\\_6mos\\_by\\_month\\_2007-09-17\\_pre-20220604-132313.tab & /home/jonathanmorgan/shares/phd\\_work/network\\_data/grp\\_6mos\\_by\\_month/grp\\_6mos\\_by\\_month\\_2007-09-17\\_pre-20220604-132313.tab & 11823 & 11825 & grp\\_6mos\\_by\\_month\\_2007-09-17\\_post-20220604-132433.tab & /home/jonathanmorgan/shares/phd\\_work/network\\_data/grp\\_6mos\\_by\\_month/grp\\_6mos\\_by\\_month\\_2007-09-17\\_post-20220604-132433.tab & 11823 & 0.08495357 & 9.531557e-06 & 28802\\\\\n",
       "\t 2007-10-18 & 6mos & grp\\_6mos\\_by\\_month & 11651 & grp\\_6mos\\_by\\_month\\_2007-10-18\\_pre-20220604-132557.tab & /home/jonathanmorgan/shares/phd\\_work/network\\_data/grp\\_6mos\\_by\\_month/grp\\_6mos\\_by\\_month\\_2007-10-18\\_pre-20220604-132557.tab & 11649 & 11651 & grp\\_6mos\\_by\\_month\\_2007-10-18\\_post-20220604-132722.tab & /home/jonathanmorgan/shares/phd\\_work/network\\_data/grp\\_6mos\\_by\\_month/grp\\_6mos\\_by\\_month\\_2007-10-18\\_post-20220604-132722.tab & 11649 & 0.08827104 & 1.006897e-05 & 28280\\\\\n",
       "\t 2007-11-18 & 6mos & grp\\_6mos\\_by\\_month & 11526 & grp\\_6mos\\_by\\_month\\_2007-11-18\\_pre-20220604-132843.tab & /home/jonathanmorgan/shares/phd\\_work/network\\_data/grp\\_6mos\\_by\\_month/grp\\_6mos\\_by\\_month\\_2007-11-18\\_pre-20220604-132843.tab & 11524 & 11526 & grp\\_6mos\\_by\\_month\\_2007-11-18\\_post-20220604-133006.tab & /home/jonathanmorgan/shares/phd\\_work/network\\_data/grp\\_6mos\\_by\\_month/grp\\_6mos\\_by\\_month\\_2007-11-18\\_post-20220604-133006.tab & 11524 & 0.08545579 & 9.821787e-06 & 27956\\\\\n",
       "\t 2007-12-19 & 6mos & grp\\_6mos\\_by\\_month & 11337 & grp\\_6mos\\_by\\_month\\_2007-12-19\\_pre-20220604-133126.tab & /home/jonathanmorgan/shares/phd\\_work/network\\_data/grp\\_6mos\\_by\\_month/grp\\_6mos\\_by\\_month\\_2007-12-19\\_pre-20220604-133126.tab & 11335 & 11337 & grp\\_6mos\\_by\\_month\\_2007-12-19\\_post-20220604-133245.tab & /home/jonathanmorgan/shares/phd\\_work/network\\_data/grp\\_6mos\\_by\\_month/grp\\_6mos\\_by\\_month\\_2007-12-19\\_post-20220604-133245.tab & 11335 & 0.08742421 & 1.022987e-05 & 27472\\\\\n",
       "\t 2008-01-19 & 6mos & grp\\_6mos\\_by\\_month & 11212 & grp\\_6mos\\_by\\_month\\_2008-01-19\\_pre-20220604-133402.tab & /home/jonathanmorgan/shares/phd\\_work/network\\_data/grp\\_6mos\\_by\\_month/grp\\_6mos\\_by\\_month\\_2008-01-19\\_pre-20220604-133402.tab & 11210 & 11212 & grp\\_6mos\\_by\\_month\\_2008-01-19\\_post-20220604-133516.tab & /home/jonathanmorgan/shares/phd\\_work/network\\_data/grp\\_6mos\\_by\\_month/grp\\_6mos\\_by\\_month\\_2008-01-19\\_post-20220604-133516.tab & 11210 & 0.08766421 & 1.039556e-05 & 27202\\\\\n",
       "\t 2008-02-19 & 6mos & grp\\_6mos\\_by\\_month & 11028 & grp\\_6mos\\_by\\_month\\_2008-02-19\\_pre-20220604-133627.tab & /home/jonathanmorgan/shares/phd\\_work/network\\_data/grp\\_6mos\\_by\\_month/grp\\_6mos\\_by\\_month\\_2008-02-19\\_pre-20220604-133627.tab & 11026 & 11028 & grp\\_6mos\\_by\\_month\\_2008-02-19\\_post-20220604-133737.tab & /home/jonathanmorgan/shares/phd\\_work/network\\_data/grp\\_6mos\\_by\\_month/grp\\_6mos\\_by\\_month\\_2008-02-19\\_post-20220604-133737.tab & 11026 & 0.09125905 & 1.094302e-05 & 26504\\\\\n",
       "\t 2008-03-21 & 6mos & grp\\_6mos\\_by\\_month & 10883 & grp\\_6mos\\_by\\_month\\_2008-03-21\\_pre-20220604-133847.tab & /home/jonathanmorgan/shares/phd\\_work/network\\_data/grp\\_6mos\\_by\\_month/grp\\_6mos\\_by\\_month\\_2008-03-21\\_pre-20220604-133847.tab & 10881 & 10883 & grp\\_6mos\\_by\\_month\\_2008-03-21\\_post-20220604-133955.tab & /home/jonathanmorgan/shares/phd\\_work/network\\_data/grp\\_6mos\\_by\\_month/grp\\_6mos\\_by\\_month\\_2008-03-21\\_post-20220604-133955.tab & 10881 & 0.09514357 & 1.155762e-05 & 26026\\\\\n",
       "\t 2008-04-21 & 6mos & grp\\_6mos\\_by\\_month & 10842 & grp\\_6mos\\_by\\_month\\_2008-04-21\\_pre-20220604-134102.tab & /home/jonathanmorgan/shares/phd\\_work/network\\_data/grp\\_6mos\\_by\\_month/grp\\_6mos\\_by\\_month\\_2008-04-21\\_pre-20220604-134102.tab & 10840 & 10842 & grp\\_6mos\\_by\\_month\\_2008-04-21\\_post-20220604-134209.tab & /home/jonathanmorgan/shares/phd\\_work/network\\_data/grp\\_6mos\\_by\\_month/grp\\_6mos\\_by\\_month\\_2008-04-21\\_post-20220604-134209.tab & 10840 & 0.09580613 & 1.169625e-05 & 25942\\\\\n",
       "\t 2008-05-22 & 6mos & grp\\_6mos\\_by\\_month & 10707 & grp\\_6mos\\_by\\_month\\_2008-05-22\\_pre-20220604-134315.tab & /home/jonathanmorgan/shares/phd\\_work/network\\_data/grp\\_6mos\\_by\\_month/grp\\_6mos\\_by\\_month\\_2008-05-22\\_pre-20220604-134315.tab & 10705 & 10707 & grp\\_6mos\\_by\\_month\\_2008-05-22\\_post-20220604-134421.tab & /home/jonathanmorgan/shares/phd\\_work/network\\_data/grp\\_6mos\\_by\\_month/grp\\_6mos\\_by\\_month\\_2008-05-22\\_post-20220604-134421.tab & 10705 & 0.10072590 & 1.246436e-05 & 25508\\\\\n",
       "\t 2008-06-22 & 6mos & grp\\_6mos\\_by\\_month & 10493 & grp\\_6mos\\_by\\_month\\_2008-06-22\\_pre-20220604-134526.tab & /home/jonathanmorgan/shares/phd\\_work/network\\_data/grp\\_6mos\\_by\\_month/grp\\_6mos\\_by\\_month\\_2008-06-22\\_pre-20220604-134526.tab & 10491 & 10493 & grp\\_6mos\\_by\\_month\\_2008-06-22\\_post-20220604-134635.tab & /home/jonathanmorgan/shares/phd\\_work/network\\_data/grp\\_6mos\\_by\\_month/grp\\_6mos\\_by\\_month\\_2008-06-22\\_post-20220604-134635.tab & 10491 & 0.09471662 & 1.196036e-05 & 25172\\\\\n",
       "\t 2008-07-23 & 6mos & grp\\_6mos\\_by\\_month & 10346 & grp\\_6mos\\_by\\_month\\_2008-07-23\\_pre-20220604-134742.tab & /home/jonathanmorgan/shares/phd\\_work/network\\_data/grp\\_6mos\\_by\\_month/grp\\_6mos\\_by\\_month\\_2008-07-23\\_pre-20220604-134742.tab & 10344 & 10346 & grp\\_6mos\\_by\\_month\\_2008-07-23\\_post-20220604-134850.tab & /home/jonathanmorgan/shares/phd\\_work/network\\_data/grp\\_6mos\\_by\\_month/grp\\_6mos\\_by\\_month\\_2008-07-23\\_post-20220604-134850.tab & 10344 & 0.09518377 & 1.219057e-05 & 24836\\\\\n",
       "\t 2008-08-23 & 6mos & grp\\_6mos\\_by\\_month & 10334 & grp\\_6mos\\_by\\_month\\_2008-08-23\\_pre-20220604-134954.tab & /home/jonathanmorgan/shares/phd\\_work/network\\_data/grp\\_6mos\\_by\\_month/grp\\_6mos\\_by\\_month\\_2008-08-23\\_pre-20220604-134954.tab & 10332 & 10334 & grp\\_6mos\\_by\\_month\\_2008-08-23\\_post-20220604-135057.tab & /home/jonathanmorgan/shares/phd\\_work/network\\_data/grp\\_6mos\\_by\\_month/grp\\_6mos\\_by\\_month\\_2008-08-23\\_post-20220604-135057.tab & 10332 & 0.09264637 & 1.178820e-05 & 24674\\\\\n",
       "\t 2008-09-23 & 6mos & grp\\_6mos\\_by\\_month & 10259 & grp\\_6mos\\_by\\_month\\_2008-09-23\\_pre-20220604-135158.tab & /home/jonathanmorgan/shares/phd\\_work/network\\_data/grp\\_6mos\\_by\\_month/grp\\_6mos\\_by\\_month\\_2008-09-23\\_pre-20220604-135158.tab & 10257 & 10259 & grp\\_6mos\\_by\\_month\\_2008-09-23\\_post-20220604-135300.tab & /home/jonathanmorgan/shares/phd\\_work/network\\_data/grp\\_6mos\\_by\\_month/grp\\_6mos\\_by\\_month\\_2008-09-23\\_post-20220604-135300.tab & 10257 & 0.09352190 & 1.201818e-05 & 24538\\\\\n",
       "\t 2008-10-24 & 6mos & grp\\_6mos\\_by\\_month & 10212 & grp\\_6mos\\_by\\_month\\_2008-10-24\\_pre-20220604-135401.tab & /home/jonathanmorgan/shares/phd\\_work/network\\_data/grp\\_6mos\\_by\\_month/grp\\_6mos\\_by\\_month\\_2008-10-24\\_pre-20220604-135401.tab & 10210 & 10212 & grp\\_6mos\\_by\\_month\\_2008-10-24\\_post-20220604-135504.tab & /home/jonathanmorgan/shares/phd\\_work/network\\_data/grp\\_6mos\\_by\\_month/grp\\_6mos\\_by\\_month\\_2008-10-24\\_post-20220604-135504.tab & 10210 & 0.09665621 & 1.251275e-05 & 24412\\\\\n",
       "\t 2008-11-24 & 6mos & grp\\_6mos\\_by\\_month & 10177 & grp\\_6mos\\_by\\_month\\_2008-11-24\\_pre-20220604-135605.tab & /home/jonathanmorgan/shares/phd\\_work/network\\_data/grp\\_6mos\\_by\\_month/grp\\_6mos\\_by\\_month\\_2008-11-24\\_pre-20220604-135605.tab & 10175 & 10177 & grp\\_6mos\\_by\\_month\\_2008-11-24\\_post-20220604-135707.tab & /home/jonathanmorgan/shares/phd\\_work/network\\_data/grp\\_6mos\\_by\\_month/grp\\_6mos\\_by\\_month\\_2008-11-24\\_post-20220604-135707.tab & 10175 & 0.09638022 & 1.261804e-05 & 24502\\\\\n",
       "\t 2008-12-25 & 6mos & grp\\_6mos\\_by\\_month & 10081 & grp\\_6mos\\_by\\_month\\_2008-12-25\\_pre-20220604-135809.tab & /home/jonathanmorgan/shares/phd\\_work/network\\_data/grp\\_6mos\\_by\\_month/grp\\_6mos\\_by\\_month\\_2008-12-25\\_pre-20220604-135809.tab & 10079 & 10081 & grp\\_6mos\\_by\\_month\\_2008-12-25\\_post-20220604-135915.tab & /home/jonathanmorgan/shares/phd\\_work/network\\_data/grp\\_6mos\\_by\\_month/grp\\_6mos\\_by\\_month\\_2008-12-25\\_post-20220604-135915.tab & 10079 & 0.09296583 & 1.234746e-05 & 24474\\\\\n",
       "\t 2009-01-25 & 6mos & grp\\_6mos\\_by\\_month & 10035 & grp\\_6mos\\_by\\_month\\_2009-01-25\\_pre-20220604-140021.tab & /home/jonathanmorgan/shares/phd\\_work/network\\_data/grp\\_6mos\\_by\\_month/grp\\_6mos\\_by\\_month\\_2009-01-25\\_pre-20220604-140021.tab & 10033 & 10035 & grp\\_6mos\\_by\\_month\\_2009-01-25\\_post-20220604-140120.tab & /home/jonathanmorgan/shares/phd\\_work/network\\_data/grp\\_6mos\\_by\\_month/grp\\_6mos\\_by\\_month\\_2009-01-25\\_post-20220604-140120.tab & 10033 & 0.09625627 & 1.285832e-05 & 24316\\\\\n",
       "\t 2009-02-25 & 6mos & grp\\_6mos\\_by\\_month & 10019 & grp\\_6mos\\_by\\_month\\_2009-02-25\\_pre-20220604-140219.tab & /home/jonathanmorgan/shares/phd\\_work/network\\_data/grp\\_6mos\\_by\\_month/grp\\_6mos\\_by\\_month\\_2009-02-25\\_pre-20220604-140219.tab & 10017 & 10019 & grp\\_6mos\\_by\\_month\\_2009-02-25\\_post-20220604-140318.tab & /home/jonathanmorgan/shares/phd\\_work/network\\_data/grp\\_6mos\\_by\\_month/grp\\_6mos\\_by\\_month\\_2009-02-25\\_post-20220604-140318.tab & 10017 & 0.09696011 & 1.307855e-05 & 24466\\\\\n",
       "\t 2009-03-28 & 6mos & grp\\_6mos\\_by\\_month &  9991 & grp\\_6mos\\_by\\_month\\_2009-03-28\\_pre-20220604-140420.tab & /home/jonathanmorgan/shares/phd\\_work/network\\_data/grp\\_6mos\\_by\\_month/grp\\_6mos\\_by\\_month\\_2009-03-28\\_pre-20220604-140420.tab &  9989 &  9991 & grp\\_6mos\\_by\\_month\\_2009-03-28\\_post-20220604-140520.tab & /home/jonathanmorgan/shares/phd\\_work/network\\_data/grp\\_6mos\\_by\\_month/grp\\_6mos\\_by\\_month\\_2009-03-28\\_post-20220604-140520.tab &  9989 & 0.09784626 & 1.327215e-05 & 24446\\\\\n",
       "\t 2009-04-28 & 6mos & grp\\_6mos\\_by\\_month & 10077 & grp\\_6mos\\_by\\_month\\_2009-04-28\\_pre-20220604-140621.tab & /home/jonathanmorgan/shares/phd\\_work/network\\_data/grp\\_6mos\\_by\\_month/grp\\_6mos\\_by\\_month\\_2009-04-28\\_pre-20220604-140621.tab & 10075 & 10077 & grp\\_6mos\\_by\\_month\\_2009-04-28\\_post-20220604-140722.tab & /home/jonathanmorgan/shares/phd\\_work/network\\_data/grp\\_6mos\\_by\\_month/grp\\_6mos\\_by\\_month\\_2009-04-28\\_post-20220604-140722.tab & 10075 & 0.09700182 & 1.302687e-05 & 24662\\\\\n",
       "\t 2009-05-29 & 6mos & grp\\_6mos\\_by\\_month & 10127 & grp\\_6mos\\_by\\_month\\_2009-05-29\\_pre-20220604-140826.tab & /home/jonathanmorgan/shares/phd\\_work/network\\_data/grp\\_6mos\\_by\\_month/grp\\_6mos\\_by\\_month\\_2009-05-29\\_pre-20220604-140826.tab & 10125 & 10127 & grp\\_6mos\\_by\\_month\\_2009-05-29\\_post-20220604-140928.tab & /home/jonathanmorgan/shares/phd\\_work/network\\_data/grp\\_6mos\\_by\\_month/grp\\_6mos\\_by\\_month\\_2009-05-29\\_post-20220604-140928.tab & 10125 & 0.09424958 & 1.260582e-05 & 24852\\\\\n",
       "\t 2009-06-29 & 6mos & grp\\_6mos\\_by\\_month & 10199 & grp\\_6mos\\_by\\_month\\_2009-06-29\\_pre-20220604-141033.tab & /home/jonathanmorgan/shares/phd\\_work/network\\_data/grp\\_6mos\\_by\\_month/grp\\_6mos\\_by\\_month\\_2009-06-29\\_pre-20220604-141033.tab & 10197 & 10199 & grp\\_6mos\\_by\\_month\\_2009-06-29\\_post-20220604-141135.tab & /home/jonathanmorgan/shares/phd\\_work/network\\_data/grp\\_6mos\\_by\\_month/grp\\_6mos\\_by\\_month\\_2009-06-29\\_post-20220604-141135.tab & 10197 & 0.08923869 & 1.177461e-05 & 24988\\\\\n",
       "\t 2009-07-30 & 6mos & grp\\_6mos\\_by\\_month & 10204 & grp\\_6mos\\_by\\_month\\_2009-07-30\\_pre-20220604-141239.tab & /home/jonathanmorgan/shares/phd\\_work/network\\_data/grp\\_6mos\\_by\\_month/grp\\_6mos\\_by\\_month\\_2009-07-30\\_pre-20220604-141239.tab & 10202 & 10204 & grp\\_6mos\\_by\\_month\\_2009-07-30\\_post-20220604-141342.tab & /home/jonathanmorgan/shares/phd\\_work/network\\_data/grp\\_6mos\\_by\\_month/grp\\_6mos\\_by\\_month\\_2009-07-30\\_post-20220604-141342.tab & 10202 & 0.09444272 & 1.247407e-05 & 24896\\\\\n",
       "\t 2009-08-30 & 6mos & grp\\_6mos\\_by\\_month & 10260 & grp\\_6mos\\_by\\_month\\_2009-08-30\\_pre-20220604-141447.tab & /home/jonathanmorgan/shares/phd\\_work/network\\_data/grp\\_6mos\\_by\\_month/grp\\_6mos\\_by\\_month\\_2009-08-30\\_pre-20220604-141447.tab & 10258 & 10260 & grp\\_6mos\\_by\\_month\\_2009-08-30\\_post-20220604-141552.tab & /home/jonathanmorgan/shares/phd\\_work/network\\_data/grp\\_6mos\\_by\\_month/grp\\_6mos\\_by\\_month\\_2009-08-30\\_post-20220604-141552.tab & 10258 & 0.09884831 & 1.298453e-05 & 24920\\\\\n",
       "\t 2009-09-30 & 6mos & grp\\_6mos\\_by\\_month & 10184 & grp\\_6mos\\_by\\_month\\_2009-09-30\\_pre-20220604-141700.tab & /home/jonathanmorgan/shares/phd\\_work/network\\_data/grp\\_6mos\\_by\\_month/grp\\_6mos\\_by\\_month\\_2009-09-30\\_pre-20220604-141700.tab & 10182 & 10184 & grp\\_6mos\\_by\\_month\\_2009-09-30\\_post-20220604-141809.tab & /home/jonathanmorgan/shares/phd\\_work/network\\_data/grp\\_6mos\\_by\\_month/grp\\_6mos\\_by\\_month\\_2009-09-30\\_post-20220604-141809.tab & 10182 & 0.09961737 & 1.317911e-05 & 24714\\\\\n",
       "\t 2009-10-31 & 6mos & grp\\_6mos\\_by\\_month & 10173 & grp\\_6mos\\_by\\_month\\_2009-10-31\\_pre-20220604-141919.tab & /home/jonathanmorgan/shares/phd\\_work/network\\_data/grp\\_6mos\\_by\\_month/grp\\_6mos\\_by\\_month\\_2009-10-31\\_pre-20220604-141919.tab & 10171 & 10173 & grp\\_6mos\\_by\\_month\\_2009-10-31\\_post-20220604-142029.tab & /home/jonathanmorgan/shares/phd\\_work/network\\_data/grp\\_6mos\\_by\\_month/grp\\_6mos\\_by\\_month\\_2009-10-31\\_post-20220604-142029.tab & 10171 & 0.10550592 & 1.398101e-05 & 24556\\\\\n",
       "\t 2009-12-01 & 6mos & grp\\_6mos\\_by\\_month & 10127 & grp\\_6mos\\_by\\_month\\_2009-12-01\\_pre-20220604-142137.tab & /home/jonathanmorgan/shares/phd\\_work/network\\_data/grp\\_6mos\\_by\\_month/grp\\_6mos\\_by\\_month\\_2009-12-01\\_pre-20220604-142137.tab & 10125 & 10127 & grp\\_6mos\\_by\\_month\\_2009-12-01\\_post-20220604-142240.tab & /home/jonathanmorgan/shares/phd\\_work/network\\_data/grp\\_6mos\\_by\\_month/grp\\_6mos\\_by\\_month\\_2009-12-01\\_post-20220604-142240.tab & 10125 & 0.10835966 & 1.440107e-05 & 24310\\\\\n",
       "\t 2010-01-01 & 6mos & grp\\_6mos\\_by\\_month & 10051 & grp\\_6mos\\_by\\_month\\_2010-01-01\\_pre-20220604-142343.tab & /home/jonathanmorgan/shares/phd\\_work/network\\_data/grp\\_6mos\\_by\\_month/grp\\_6mos\\_by\\_month\\_2010-01-01\\_pre-20220604-142343.tab & 10049 & 10051 & grp\\_6mos\\_by\\_month\\_2010-01-01\\_post-20220604-142446.tab & /home/jonathanmorgan/shares/phd\\_work/network\\_data/grp\\_6mos\\_by\\_month/grp\\_6mos\\_by\\_month\\_2010-01-01\\_post-20220604-142446.tab & 10049 & 0.10538321 & 1.402573e-05 & 24050\\\\\n",
       "\t 2010-02-01 & 6mos & grp\\_6mos\\_by\\_month & 10011 & grp\\_6mos\\_by\\_month\\_2010-02-01\\_pre-20220604-142549.tab & /home/jonathanmorgan/shares/phd\\_work/network\\_data/grp\\_6mos\\_by\\_month/grp\\_6mos\\_by\\_month\\_2010-02-01\\_pre-20220604-142549.tab & 10009 & 10011 & grp\\_6mos\\_by\\_month\\_2010-02-01\\_post-20220604-142653.tab & /home/jonathanmorgan/shares/phd\\_work/network\\_data/grp\\_6mos\\_by\\_month/grp\\_6mos\\_by\\_month\\_2010-02-01\\_post-20220604-142653.tab & 10009 & 0.10702934 & 1.429780e-05 & 23904\\\\\n",
       "\t 2010-03-04 & 6mos & grp\\_6mos\\_by\\_month &  9911 & grp\\_6mos\\_by\\_month\\_2010-03-04\\_pre-20220604-142755.tab & /home/jonathanmorgan/shares/phd\\_work/network\\_data/grp\\_6mos\\_by\\_month/grp\\_6mos\\_by\\_month\\_2010-03-04\\_pre-20220604-142755.tab &  9909 &  9911 & grp\\_6mos\\_by\\_month\\_2010-03-04\\_post-20220604-142858.tab & /home/jonathanmorgan/shares/phd\\_work/network\\_data/grp\\_6mos\\_by\\_month/grp\\_6mos\\_by\\_month\\_2010-03-04\\_post-20220604-142858.tab &  9909 & 0.11096742 & 1.495458e-05 & 23530\\\\\n",
       "\t 2010-04-04 & 6mos & grp\\_6mos\\_by\\_month &  9808 & grp\\_6mos\\_by\\_month\\_2010-04-04\\_pre-20220604-143001.tab & /home/jonathanmorgan/shares/phd\\_work/network\\_data/grp\\_6mos\\_by\\_month/grp\\_6mos\\_by\\_month\\_2010-04-04\\_pre-20220604-143001.tab &  9806 &  9808 & grp\\_6mos\\_by\\_month\\_2010-04-04\\_post-20220604-143107.tab & /home/jonathanmorgan/shares/phd\\_work/network\\_data/grp\\_6mos\\_by\\_month/grp\\_6mos\\_by\\_month\\_2010-04-04\\_post-20220604-143107.tab &  9806 & 0.10877313 & 1.483353e-05 & 23372\\\\\n",
       "\t 2010-05-05 & 6mos & grp\\_6mos\\_by\\_month &  9693 & grp\\_6mos\\_by\\_month\\_2010-05-05\\_pre-20220604-143216.tab & /home/jonathanmorgan/shares/phd\\_work/network\\_data/grp\\_6mos\\_by\\_month/grp\\_6mos\\_by\\_month\\_2010-05-05\\_pre-20220604-143216.tab &  9691 &  9693 & grp\\_6mos\\_by\\_month\\_2010-05-05\\_post-20220604-143320.tab & /home/jonathanmorgan/shares/phd\\_work/network\\_data/grp\\_6mos\\_by\\_month/grp\\_6mos\\_by\\_month\\_2010-05-05\\_post-20220604-143320.tab &  9691 & 0.10734713 & 1.471937e-05 & 22990\\\\\n",
       "\\end{tabular}\n"
      ],
      "text/markdown": [
       "\n",
       "A data.frame: 58 × 14\n",
       "\n",
       "| baseDate &lt;date&gt; | networkDuration &lt;chr&gt; | label &lt;chr&gt; | beforeColumnCount &lt;int&gt; | beforeDataFileName &lt;chr&gt; | beforeDataPath &lt;chr&gt; | beforeRowCount &lt;int&gt; | afterColumnCount &lt;int&gt; | afterDataFileName &lt;chr&gt; | afterDataPath &lt;chr&gt; | afterRowCount &lt;int&gt; | binGraphCorrelation &lt;dbl&gt; | binGraphCovariance &lt;dbl&gt; | binGraphHammingDistance &lt;dbl&gt; |\n",
       "|---|---|---|---|---|---|---|---|---|---|---|---|---|---|\n",
       "| 2005-07-03 | 6mos | grp_6mos_by_month | 13775 | grp_6mos_by_month_2005-07-03_pre-20220604-115739.tab | /home/jonathanmorgan/shares/phd_work/network_data/grp_6mos_by_month/grp_6mos_by_month_2005-07-03_pre-20220604-115739.tab | 13773 | 13775 | grp_6mos_by_month_2005-07-03_post-20220604-115928.tab | /home/jonathanmorgan/shares/phd_work/network_data/grp_6mos_by_month/grp_6mos_by_month_2005-07-03_post-20220604-115928.tab | 13773 | 0.11059698 | 1.109275e-05 | 33842 |\n",
       "| 2005-08-03 | 6mos | grp_6mos_by_month | 13827 | grp_6mos_by_month_2005-08-03_pre-20220604-120117.tab | /home/jonathanmorgan/shares/phd_work/network_data/grp_6mos_by_month/grp_6mos_by_month_2005-08-03_pre-20220604-120117.tab | 13825 | 13827 | grp_6mos_by_month_2005-08-03_post-20220604-120305.tab | /home/jonathanmorgan/shares/phd_work/network_data/grp_6mos_by_month/grp_6mos_by_month_2005-08-03_post-20220604-120305.tab | 13825 | 0.11349380 | 1.135477e-05 | 33904 |\n",
       "| 2005-09-03 | 6mos | grp_6mos_by_month | 13878 | grp_6mos_by_month_2005-09-03_pre-20220604-120452.tab | /home/jonathanmorgan/shares/phd_work/network_data/grp_6mos_by_month/grp_6mos_by_month_2005-09-03_pre-20220604-120452.tab | 13876 | 13878 | grp_6mos_by_month_2005-09-03_post-20220604-120639.tab | /home/jonathanmorgan/shares/phd_work/network_data/grp_6mos_by_month/grp_6mos_by_month_2005-09-03_post-20220604-120639.tab | 13876 | 0.10745234 | 1.068976e-05 | 34214 |\n",
       "| 2005-10-04 | 6mos | grp_6mos_by_month | 13713 | grp_6mos_by_month_2005-10-04_pre-20220604-120827.tab | /home/jonathanmorgan/shares/phd_work/network_data/grp_6mos_by_month/grp_6mos_by_month_2005-10-04_pre-20220604-120827.tab | 13711 | 13713 | grp_6mos_by_month_2005-10-04_post-20220604-121014.tab | /home/jonathanmorgan/shares/phd_work/network_data/grp_6mos_by_month/grp_6mos_by_month_2005-10-04_post-20220604-121014.tab | 13711 | 0.11130250 | 1.124644e-05 | 33802 |\n",
       "| 2005-11-04 | 6mos | grp_6mos_by_month | 13501 | grp_6mos_by_month_2005-11-04_pre-20220604-121212.tab | /home/jonathanmorgan/shares/phd_work/network_data/grp_6mos_by_month/grp_6mos_by_month_2005-11-04_pre-20220604-121212.tab | 13499 | 13501 | grp_6mos_by_month_2005-11-04_post-20220604-121409.tab | /home/jonathanmorgan/shares/phd_work/network_data/grp_6mos_by_month/grp_6mos_by_month_2005-11-04_post-20220604-121409.tab | 13499 | 0.10786637 | 1.106464e-05 | 33416 |\n",
       "| 2005-12-05 | 6mos | grp_6mos_by_month | 13438 | grp_6mos_by_month_2005-12-05_pre-20220604-121603.tab | /home/jonathanmorgan/shares/phd_work/network_data/grp_6mos_by_month/grp_6mos_by_month_2005-12-05_pre-20220604-121603.tab | 13436 | 13438 | grp_6mos_by_month_2005-12-05_post-20220604-121756.tab | /home/jonathanmorgan/shares/phd_work/network_data/grp_6mos_by_month/grp_6mos_by_month_2005-12-05_post-20220604-121756.tab | 13436 | 0.10847303 | 1.114655e-05 | 33142 |\n",
       "| 2006-01-05 | 6mos | grp_6mos_by_month | 13222 | grp_6mos_by_month_2006-01-05_pre-20220604-121948.tab | /home/jonathanmorgan/shares/phd_work/network_data/grp_6mos_by_month/grp_6mos_by_month_2006-01-05_pre-20220604-121948.tab | 13220 | 13222 | grp_6mos_by_month_2006-01-05_post-20220604-122133.tab | /home/jonathanmorgan/shares/phd_work/network_data/grp_6mos_by_month/grp_6mos_by_month_2006-01-05_post-20220604-122133.tab | 13220 | 0.10936852 | 1.143365e-05 | 32574 |\n",
       "| 2006-02-05 | 6mos | grp_6mos_by_month | 13095 | grp_6mos_by_month_2006-02-05_pre-20220604-122317.tab | /home/jonathanmorgan/shares/phd_work/network_data/grp_6mos_by_month/grp_6mos_by_month_2006-02-05_pre-20220604-122317.tab | 13093 | 13095 | grp_6mos_by_month_2006-02-05_post-20220604-122459.tab | /home/jonathanmorgan/shares/phd_work/network_data/grp_6mos_by_month/grp_6mos_by_month_2006-02-05_post-20220604-122459.tab | 13093 | 0.10815866 | 1.139989e-05 | 32250 |\n",
       "| 2006-03-08 | 6mos | grp_6mos_by_month | 12891 | grp_6mos_by_month_2006-03-08_pre-20220604-122637.tab | /home/jonathanmorgan/shares/phd_work/network_data/grp_6mos_by_month/grp_6mos_by_month_2006-03-08_pre-20220604-122637.tab | 12889 | 12891 | grp_6mos_by_month_2006-03-08_post-20220604-122819.tab | /home/jonathanmorgan/shares/phd_work/network_data/grp_6mos_by_month/grp_6mos_by_month_2006-03-08_post-20220604-122819.tab | 12889 | 0.10492004 | 1.114975e-05 | 31640 |\n",
       "| 2006-04-08 | 6mos | grp_6mos_by_month | 12842 | grp_6mos_by_month_2006-04-08_pre-20220604-122958.tab | /home/jonathanmorgan/shares/phd_work/network_data/grp_6mos_by_month/grp_6mos_by_month_2006-04-08_pre-20220604-122958.tab | 12840 | 12842 | grp_6mos_by_month_2006-04-08_post-20220604-123139.tab | /home/jonathanmorgan/shares/phd_work/network_data/grp_6mos_by_month/grp_6mos_by_month_2006-04-08_post-20220604-123139.tab | 12840 | 0.09902329 | 1.053143e-05 | 31606 |\n",
       "| 2006-05-09 | 6mos | grp_6mos_by_month | 12812 | grp_6mos_by_month_2006-05-09_pre-20220604-123316.tab | /home/jonathanmorgan/shares/phd_work/network_data/grp_6mos_by_month/grp_6mos_by_month_2006-05-09_pre-20220604-123316.tab | 12810 | 12812 | grp_6mos_by_month_2006-05-09_post-20220604-123504.tab | /home/jonathanmorgan/shares/phd_work/network_data/grp_6mos_by_month/grp_6mos_by_month_2006-05-09_post-20220604-123504.tab | 12810 | 0.09817331 | 1.044678e-05 | 31494 |\n",
       "| 2006-06-09 | 6mos | grp_6mos_by_month | 12711 | grp_6mos_by_month_2006-06-09_pre-20220604-123643.tab | /home/jonathanmorgan/shares/phd_work/network_data/grp_6mos_by_month/grp_6mos_by_month_2006-06-09_pre-20220604-123643.tab | 12709 | 12711 | grp_6mos_by_month_2006-06-09_post-20220604-123819.tab | /home/jonathanmorgan/shares/phd_work/network_data/grp_6mos_by_month/grp_6mos_by_month_2006-06-09_post-20220604-123819.tab | 12709 | 0.09920263 | 1.068769e-05 | 31348 |\n",
       "| 2006-07-10 | 6mos | grp_6mos_by_month | 12682 | grp_6mos_by_month_2006-07-10_pre-20220604-123955.tab | /home/jonathanmorgan/shares/phd_work/network_data/grp_6mos_by_month/grp_6mos_by_month_2006-07-10_pre-20220604-123955.tab | 12680 | 12682 | grp_6mos_by_month_2006-07-10_post-20220604-124132.tab | /home/jonathanmorgan/shares/phd_work/network_data/grp_6mos_by_month/grp_6mos_by_month_2006-07-10_post-20220604-124132.tab | 12680 | 0.09409485 | 1.016437e-05 | 31466 |\n",
       "| 2006-08-10 | 6mos | grp_6mos_by_month | 12648 | grp_6mos_by_month_2006-08-10_pre-20220604-124308.tab | /home/jonathanmorgan/shares/phd_work/network_data/grp_6mos_by_month/grp_6mos_by_month_2006-08-10_pre-20220604-124308.tab | 12646 | 12648 | grp_6mos_by_month_2006-08-10_post-20220604-124452.tab | /home/jonathanmorgan/shares/phd_work/network_data/grp_6mos_by_month/grp_6mos_by_month_2006-08-10_post-20220604-124452.tab | 12646 | 0.09530084 | 1.028173e-05 | 31216 |\n",
       "| 2006-09-10 | 6mos | grp_6mos_by_month | 12531 | grp_6mos_by_month_2006-09-10_pre-20220604-124636.tab | /home/jonathanmorgan/shares/phd_work/network_data/grp_6mos_by_month/grp_6mos_by_month_2006-09-10_pre-20220604-124636.tab | 12529 | 12531 | grp_6mos_by_month_2006-09-10_post-20220604-124818.tab | /home/jonathanmorgan/shares/phd_work/network_data/grp_6mos_by_month/grp_6mos_by_month_2006-09-10_post-20220604-124818.tab | 12529 | 0.09435592 | 1.024538e-05 | 30872 |\n",
       "| 2006-10-11 | 6mos | grp_6mos_by_month | 12518 | grp_6mos_by_month_2006-10-11_pre-20220604-124959.tab | /home/jonathanmorgan/shares/phd_work/network_data/grp_6mos_by_month/grp_6mos_by_month_2006-10-11_pre-20220604-124959.tab | 12516 | 12518 | grp_6mos_by_month_2006-10-11_post-20220604-125140.tab | /home/jonathanmorgan/shares/phd_work/network_data/grp_6mos_by_month/grp_6mos_by_month_2006-10-11_post-20220604-125140.tab | 12516 | 0.09301812 | 1.008797e-05 | 30816 |\n",
       "| 2006-11-11 | 6mos | grp_6mos_by_month | 12581 | grp_6mos_by_month_2006-11-11_pre-20220604-125318.tab | /home/jonathanmorgan/shares/phd_work/network_data/grp_6mos_by_month/grp_6mos_by_month_2006-11-11_pre-20220604-125318.tab | 12579 | 12581 | grp_6mos_by_month_2006-11-11_post-20220604-125452.tab | /home/jonathanmorgan/shares/phd_work/network_data/grp_6mos_by_month/grp_6mos_by_month_2006-11-11_post-20220604-125452.tab | 12579 | 0.08629197 | 9.317201e-06 | 31222 |\n",
       "| 2006-12-12 | 6mos | grp_6mos_by_month | 12624 | grp_6mos_by_month_2006-12-12_pre-20220604-125624.tab | /home/jonathanmorgan/shares/phd_work/network_data/grp_6mos_by_month/grp_6mos_by_month_2006-12-12_pre-20220604-125624.tab | 12622 | 12624 | grp_6mos_by_month_2006-12-12_post-20220604-125757.tab | /home/jonathanmorgan/shares/phd_work/network_data/grp_6mos_by_month/grp_6mos_by_month_2006-12-12_post-20220604-125757.tab | 12622 | 0.08840180 | 9.479889e-06 | 31148 |\n",
       "| 2007-01-12 | 6mos | grp_6mos_by_month | 12670 | grp_6mos_by_month_2007-01-12_pre-20220604-125935.tab | /home/jonathanmorgan/shares/phd_work/network_data/grp_6mos_by_month/grp_6mos_by_month_2007-01-12_pre-20220604-125935.tab | 12668 | 12670 | grp_6mos_by_month_2007-01-12_post-20220604-130114.tab | /home/jonathanmorgan/shares/phd_work/network_data/grp_6mos_by_month/grp_6mos_by_month_2007-01-12_post-20220604-130114.tab | 12668 | 0.08642300 | 9.211799e-06 | 31254 |\n",
       "| 2007-02-12 | 6mos | grp_6mos_by_month | 12527 | grp_6mos_by_month_2007-02-12_pre-20220604-130252.tab | /home/jonathanmorgan/shares/phd_work/network_data/grp_6mos_by_month/grp_6mos_by_month_2007-02-12_pre-20220604-130252.tab | 12525 | 12527 | grp_6mos_by_month_2007-02-12_post-20220604-130429.tab | /home/jonathanmorgan/shares/phd_work/network_data/grp_6mos_by_month/grp_6mos_by_month_2007-02-12_post-20220604-130429.tab | 12525 | 0.08663734 | 9.359556e-06 | 30960 |\n",
       "| 2007-03-15 | 6mos | grp_6mos_by_month | 12682 | grp_6mos_by_month_2007-03-15_pre-20220604-130605.tab | /home/jonathanmorgan/shares/phd_work/network_data/grp_6mos_by_month/grp_6mos_by_month_2007-03-15_pre-20220604-130605.tab | 12680 | 12682 | grp_6mos_by_month_2007-03-15_post-20220604-130743.tab | /home/jonathanmorgan/shares/phd_work/network_data/grp_6mos_by_month/grp_6mos_by_month_2007-03-15_post-20220604-130743.tab | 12680 | 0.08486774 | 9.032661e-06 | 31318 |\n",
       "| 2007-04-15 | 6mos | grp_6mos_by_month | 12402 | grp_6mos_by_month_2007-04-15_pre-20220604-130914.tab | /home/jonathanmorgan/shares/phd_work/network_data/grp_6mos_by_month/grp_6mos_by_month_2007-04-15_pre-20220604-130914.tab | 12400 | 12402 | grp_6mos_by_month_2007-04-15_post-20220604-131043.tab | /home/jonathanmorgan/shares/phd_work/network_data/grp_6mos_by_month/grp_6mos_by_month_2007-04-15_post-20220604-131043.tab | 12400 | 0.08683507 | 9.445224e-06 | 30544 |\n",
       "| 2007-05-16 | 6mos | grp_6mos_by_month | 12250 | grp_6mos_by_month_2007-05-16_pre-20220604-131210.tab | /home/jonathanmorgan/shares/phd_work/network_data/grp_6mos_by_month/grp_6mos_by_month_2007-05-16_pre-20220604-131210.tab | 12248 | 12250 | grp_6mos_by_month_2007-05-16_post-20220604-131335.tab | /home/jonathanmorgan/shares/phd_work/network_data/grp_6mos_by_month/grp_6mos_by_month_2007-05-16_post-20220604-131335.tab | 12248 | 0.08855043 | 9.707897e-06 | 29986 |\n",
       "| 2007-06-16 | 6mos | grp_6mos_by_month | 12215 | grp_6mos_by_month_2007-06-16_pre-20220604-131501.tab | /home/jonathanmorgan/shares/phd_work/network_data/grp_6mos_by_month/grp_6mos_by_month_2007-06-16_pre-20220604-131501.tab | 12213 | 12215 | grp_6mos_by_month_2007-06-16_post-20220604-131627.tab | /home/jonathanmorgan/shares/phd_work/network_data/grp_6mos_by_month/grp_6mos_by_month_2007-06-16_post-20220604-131627.tab | 12213 | 0.08749842 | 9.589371e-06 | 29846 |\n",
       "| 2007-07-17 | 6mos | grp_6mos_by_month | 12064 | grp_6mos_by_month_2007-07-17_pre-20220604-131750.tab | /home/jonathanmorgan/shares/phd_work/network_data/grp_6mos_by_month/grp_6mos_by_month_2007-07-17_pre-20220604-131750.tab | 12062 | 12064 | grp_6mos_by_month_2007-07-17_post-20220604-131913.tab | /home/jonathanmorgan/shares/phd_work/network_data/grp_6mos_by_month/grp_6mos_by_month_2007-07-17_post-20220604-131913.tab | 12062 | 0.08982345 | 9.927308e-06 | 29304 |\n",
       "| 2007-08-17 | 6mos | grp_6mos_by_month | 11880 | grp_6mos_by_month_2007-08-17_pre-20220604-132033.tab | /home/jonathanmorgan/shares/phd_work/network_data/grp_6mos_by_month/grp_6mos_by_month_2007-08-17_pre-20220604-132033.tab | 11878 | 11880 | grp_6mos_by_month_2007-08-17_post-20220604-132154.tab | /home/jonathanmorgan/shares/phd_work/network_data/grp_6mos_by_month/grp_6mos_by_month_2007-08-17_post-20220604-132154.tab | 11878 | 0.08743222 | 9.811964e-06 | 28940 |\n",
       "| 2007-09-17 | 6mos | grp_6mos_by_month | 11825 | grp_6mos_by_month_2007-09-17_pre-20220604-132313.tab | /home/jonathanmorgan/shares/phd_work/network_data/grp_6mos_by_month/grp_6mos_by_month_2007-09-17_pre-20220604-132313.tab | 11823 | 11825 | grp_6mos_by_month_2007-09-17_post-20220604-132433.tab | /home/jonathanmorgan/shares/phd_work/network_data/grp_6mos_by_month/grp_6mos_by_month_2007-09-17_post-20220604-132433.tab | 11823 | 0.08495357 | 9.531557e-06 | 28802 |\n",
       "| 2007-10-18 | 6mos | grp_6mos_by_month | 11651 | grp_6mos_by_month_2007-10-18_pre-20220604-132557.tab | /home/jonathanmorgan/shares/phd_work/network_data/grp_6mos_by_month/grp_6mos_by_month_2007-10-18_pre-20220604-132557.tab | 11649 | 11651 | grp_6mos_by_month_2007-10-18_post-20220604-132722.tab | /home/jonathanmorgan/shares/phd_work/network_data/grp_6mos_by_month/grp_6mos_by_month_2007-10-18_post-20220604-132722.tab | 11649 | 0.08827104 | 1.006897e-05 | 28280 |\n",
       "| 2007-11-18 | 6mos | grp_6mos_by_month | 11526 | grp_6mos_by_month_2007-11-18_pre-20220604-132843.tab | /home/jonathanmorgan/shares/phd_work/network_data/grp_6mos_by_month/grp_6mos_by_month_2007-11-18_pre-20220604-132843.tab | 11524 | 11526 | grp_6mos_by_month_2007-11-18_post-20220604-133006.tab | /home/jonathanmorgan/shares/phd_work/network_data/grp_6mos_by_month/grp_6mos_by_month_2007-11-18_post-20220604-133006.tab | 11524 | 0.08545579 | 9.821787e-06 | 27956 |\n",
       "| 2007-12-19 | 6mos | grp_6mos_by_month | 11337 | grp_6mos_by_month_2007-12-19_pre-20220604-133126.tab | /home/jonathanmorgan/shares/phd_work/network_data/grp_6mos_by_month/grp_6mos_by_month_2007-12-19_pre-20220604-133126.tab | 11335 | 11337 | grp_6mos_by_month_2007-12-19_post-20220604-133245.tab | /home/jonathanmorgan/shares/phd_work/network_data/grp_6mos_by_month/grp_6mos_by_month_2007-12-19_post-20220604-133245.tab | 11335 | 0.08742421 | 1.022987e-05 | 27472 |\n",
       "| 2008-01-19 | 6mos | grp_6mos_by_month | 11212 | grp_6mos_by_month_2008-01-19_pre-20220604-133402.tab | /home/jonathanmorgan/shares/phd_work/network_data/grp_6mos_by_month/grp_6mos_by_month_2008-01-19_pre-20220604-133402.tab | 11210 | 11212 | grp_6mos_by_month_2008-01-19_post-20220604-133516.tab | /home/jonathanmorgan/shares/phd_work/network_data/grp_6mos_by_month/grp_6mos_by_month_2008-01-19_post-20220604-133516.tab | 11210 | 0.08766421 | 1.039556e-05 | 27202 |\n",
       "| 2008-02-19 | 6mos | grp_6mos_by_month | 11028 | grp_6mos_by_month_2008-02-19_pre-20220604-133627.tab | /home/jonathanmorgan/shares/phd_work/network_data/grp_6mos_by_month/grp_6mos_by_month_2008-02-19_pre-20220604-133627.tab | 11026 | 11028 | grp_6mos_by_month_2008-02-19_post-20220604-133737.tab | /home/jonathanmorgan/shares/phd_work/network_data/grp_6mos_by_month/grp_6mos_by_month_2008-02-19_post-20220604-133737.tab | 11026 | 0.09125905 | 1.094302e-05 | 26504 |\n",
       "| 2008-03-21 | 6mos | grp_6mos_by_month | 10883 | grp_6mos_by_month_2008-03-21_pre-20220604-133847.tab | /home/jonathanmorgan/shares/phd_work/network_data/grp_6mos_by_month/grp_6mos_by_month_2008-03-21_pre-20220604-133847.tab | 10881 | 10883 | grp_6mos_by_month_2008-03-21_post-20220604-133955.tab | /home/jonathanmorgan/shares/phd_work/network_data/grp_6mos_by_month/grp_6mos_by_month_2008-03-21_post-20220604-133955.tab | 10881 | 0.09514357 | 1.155762e-05 | 26026 |\n",
       "| 2008-04-21 | 6mos | grp_6mos_by_month | 10842 | grp_6mos_by_month_2008-04-21_pre-20220604-134102.tab | /home/jonathanmorgan/shares/phd_work/network_data/grp_6mos_by_month/grp_6mos_by_month_2008-04-21_pre-20220604-134102.tab | 10840 | 10842 | grp_6mos_by_month_2008-04-21_post-20220604-134209.tab | /home/jonathanmorgan/shares/phd_work/network_data/grp_6mos_by_month/grp_6mos_by_month_2008-04-21_post-20220604-134209.tab | 10840 | 0.09580613 | 1.169625e-05 | 25942 |\n",
       "| 2008-05-22 | 6mos | grp_6mos_by_month | 10707 | grp_6mos_by_month_2008-05-22_pre-20220604-134315.tab | /home/jonathanmorgan/shares/phd_work/network_data/grp_6mos_by_month/grp_6mos_by_month_2008-05-22_pre-20220604-134315.tab | 10705 | 10707 | grp_6mos_by_month_2008-05-22_post-20220604-134421.tab | /home/jonathanmorgan/shares/phd_work/network_data/grp_6mos_by_month/grp_6mos_by_month_2008-05-22_post-20220604-134421.tab | 10705 | 0.10072590 | 1.246436e-05 | 25508 |\n",
       "| 2008-06-22 | 6mos | grp_6mos_by_month | 10493 | grp_6mos_by_month_2008-06-22_pre-20220604-134526.tab | /home/jonathanmorgan/shares/phd_work/network_data/grp_6mos_by_month/grp_6mos_by_month_2008-06-22_pre-20220604-134526.tab | 10491 | 10493 | grp_6mos_by_month_2008-06-22_post-20220604-134635.tab | /home/jonathanmorgan/shares/phd_work/network_data/grp_6mos_by_month/grp_6mos_by_month_2008-06-22_post-20220604-134635.tab | 10491 | 0.09471662 | 1.196036e-05 | 25172 |\n",
       "| 2008-07-23 | 6mos | grp_6mos_by_month | 10346 | grp_6mos_by_month_2008-07-23_pre-20220604-134742.tab | /home/jonathanmorgan/shares/phd_work/network_data/grp_6mos_by_month/grp_6mos_by_month_2008-07-23_pre-20220604-134742.tab | 10344 | 10346 | grp_6mos_by_month_2008-07-23_post-20220604-134850.tab | /home/jonathanmorgan/shares/phd_work/network_data/grp_6mos_by_month/grp_6mos_by_month_2008-07-23_post-20220604-134850.tab | 10344 | 0.09518377 | 1.219057e-05 | 24836 |\n",
       "| 2008-08-23 | 6mos | grp_6mos_by_month | 10334 | grp_6mos_by_month_2008-08-23_pre-20220604-134954.tab | /home/jonathanmorgan/shares/phd_work/network_data/grp_6mos_by_month/grp_6mos_by_month_2008-08-23_pre-20220604-134954.tab | 10332 | 10334 | grp_6mos_by_month_2008-08-23_post-20220604-135057.tab | /home/jonathanmorgan/shares/phd_work/network_data/grp_6mos_by_month/grp_6mos_by_month_2008-08-23_post-20220604-135057.tab | 10332 | 0.09264637 | 1.178820e-05 | 24674 |\n",
       "| 2008-09-23 | 6mos | grp_6mos_by_month | 10259 | grp_6mos_by_month_2008-09-23_pre-20220604-135158.tab | /home/jonathanmorgan/shares/phd_work/network_data/grp_6mos_by_month/grp_6mos_by_month_2008-09-23_pre-20220604-135158.tab | 10257 | 10259 | grp_6mos_by_month_2008-09-23_post-20220604-135300.tab | /home/jonathanmorgan/shares/phd_work/network_data/grp_6mos_by_month/grp_6mos_by_month_2008-09-23_post-20220604-135300.tab | 10257 | 0.09352190 | 1.201818e-05 | 24538 |\n",
       "| 2008-10-24 | 6mos | grp_6mos_by_month | 10212 | grp_6mos_by_month_2008-10-24_pre-20220604-135401.tab | /home/jonathanmorgan/shares/phd_work/network_data/grp_6mos_by_month/grp_6mos_by_month_2008-10-24_pre-20220604-135401.tab | 10210 | 10212 | grp_6mos_by_month_2008-10-24_post-20220604-135504.tab | /home/jonathanmorgan/shares/phd_work/network_data/grp_6mos_by_month/grp_6mos_by_month_2008-10-24_post-20220604-135504.tab | 10210 | 0.09665621 | 1.251275e-05 | 24412 |\n",
       "| 2008-11-24 | 6mos | grp_6mos_by_month | 10177 | grp_6mos_by_month_2008-11-24_pre-20220604-135605.tab | /home/jonathanmorgan/shares/phd_work/network_data/grp_6mos_by_month/grp_6mos_by_month_2008-11-24_pre-20220604-135605.tab | 10175 | 10177 | grp_6mos_by_month_2008-11-24_post-20220604-135707.tab | /home/jonathanmorgan/shares/phd_work/network_data/grp_6mos_by_month/grp_6mos_by_month_2008-11-24_post-20220604-135707.tab | 10175 | 0.09638022 | 1.261804e-05 | 24502 |\n",
       "| 2008-12-25 | 6mos | grp_6mos_by_month | 10081 | grp_6mos_by_month_2008-12-25_pre-20220604-135809.tab | /home/jonathanmorgan/shares/phd_work/network_data/grp_6mos_by_month/grp_6mos_by_month_2008-12-25_pre-20220604-135809.tab | 10079 | 10081 | grp_6mos_by_month_2008-12-25_post-20220604-135915.tab | /home/jonathanmorgan/shares/phd_work/network_data/grp_6mos_by_month/grp_6mos_by_month_2008-12-25_post-20220604-135915.tab | 10079 | 0.09296583 | 1.234746e-05 | 24474 |\n",
       "| 2009-01-25 | 6mos | grp_6mos_by_month | 10035 | grp_6mos_by_month_2009-01-25_pre-20220604-140021.tab | /home/jonathanmorgan/shares/phd_work/network_data/grp_6mos_by_month/grp_6mos_by_month_2009-01-25_pre-20220604-140021.tab | 10033 | 10035 | grp_6mos_by_month_2009-01-25_post-20220604-140120.tab | /home/jonathanmorgan/shares/phd_work/network_data/grp_6mos_by_month/grp_6mos_by_month_2009-01-25_post-20220604-140120.tab | 10033 | 0.09625627 | 1.285832e-05 | 24316 |\n",
       "| 2009-02-25 | 6mos | grp_6mos_by_month | 10019 | grp_6mos_by_month_2009-02-25_pre-20220604-140219.tab | /home/jonathanmorgan/shares/phd_work/network_data/grp_6mos_by_month/grp_6mos_by_month_2009-02-25_pre-20220604-140219.tab | 10017 | 10019 | grp_6mos_by_month_2009-02-25_post-20220604-140318.tab | /home/jonathanmorgan/shares/phd_work/network_data/grp_6mos_by_month/grp_6mos_by_month_2009-02-25_post-20220604-140318.tab | 10017 | 0.09696011 | 1.307855e-05 | 24466 |\n",
       "| 2009-03-28 | 6mos | grp_6mos_by_month |  9991 | grp_6mos_by_month_2009-03-28_pre-20220604-140420.tab | /home/jonathanmorgan/shares/phd_work/network_data/grp_6mos_by_month/grp_6mos_by_month_2009-03-28_pre-20220604-140420.tab |  9989 |  9991 | grp_6mos_by_month_2009-03-28_post-20220604-140520.tab | /home/jonathanmorgan/shares/phd_work/network_data/grp_6mos_by_month/grp_6mos_by_month_2009-03-28_post-20220604-140520.tab |  9989 | 0.09784626 | 1.327215e-05 | 24446 |\n",
       "| 2009-04-28 | 6mos | grp_6mos_by_month | 10077 | grp_6mos_by_month_2009-04-28_pre-20220604-140621.tab | /home/jonathanmorgan/shares/phd_work/network_data/grp_6mos_by_month/grp_6mos_by_month_2009-04-28_pre-20220604-140621.tab | 10075 | 10077 | grp_6mos_by_month_2009-04-28_post-20220604-140722.tab | /home/jonathanmorgan/shares/phd_work/network_data/grp_6mos_by_month/grp_6mos_by_month_2009-04-28_post-20220604-140722.tab | 10075 | 0.09700182 | 1.302687e-05 | 24662 |\n",
       "| 2009-05-29 | 6mos | grp_6mos_by_month | 10127 | grp_6mos_by_month_2009-05-29_pre-20220604-140826.tab | /home/jonathanmorgan/shares/phd_work/network_data/grp_6mos_by_month/grp_6mos_by_month_2009-05-29_pre-20220604-140826.tab | 10125 | 10127 | grp_6mos_by_month_2009-05-29_post-20220604-140928.tab | /home/jonathanmorgan/shares/phd_work/network_data/grp_6mos_by_month/grp_6mos_by_month_2009-05-29_post-20220604-140928.tab | 10125 | 0.09424958 | 1.260582e-05 | 24852 |\n",
       "| 2009-06-29 | 6mos | grp_6mos_by_month | 10199 | grp_6mos_by_month_2009-06-29_pre-20220604-141033.tab | /home/jonathanmorgan/shares/phd_work/network_data/grp_6mos_by_month/grp_6mos_by_month_2009-06-29_pre-20220604-141033.tab | 10197 | 10199 | grp_6mos_by_month_2009-06-29_post-20220604-141135.tab | /home/jonathanmorgan/shares/phd_work/network_data/grp_6mos_by_month/grp_6mos_by_month_2009-06-29_post-20220604-141135.tab | 10197 | 0.08923869 | 1.177461e-05 | 24988 |\n",
       "| 2009-07-30 | 6mos | grp_6mos_by_month | 10204 | grp_6mos_by_month_2009-07-30_pre-20220604-141239.tab | /home/jonathanmorgan/shares/phd_work/network_data/grp_6mos_by_month/grp_6mos_by_month_2009-07-30_pre-20220604-141239.tab | 10202 | 10204 | grp_6mos_by_month_2009-07-30_post-20220604-141342.tab | /home/jonathanmorgan/shares/phd_work/network_data/grp_6mos_by_month/grp_6mos_by_month_2009-07-30_post-20220604-141342.tab | 10202 | 0.09444272 | 1.247407e-05 | 24896 |\n",
       "| 2009-08-30 | 6mos | grp_6mos_by_month | 10260 | grp_6mos_by_month_2009-08-30_pre-20220604-141447.tab | /home/jonathanmorgan/shares/phd_work/network_data/grp_6mos_by_month/grp_6mos_by_month_2009-08-30_pre-20220604-141447.tab | 10258 | 10260 | grp_6mos_by_month_2009-08-30_post-20220604-141552.tab | /home/jonathanmorgan/shares/phd_work/network_data/grp_6mos_by_month/grp_6mos_by_month_2009-08-30_post-20220604-141552.tab | 10258 | 0.09884831 | 1.298453e-05 | 24920 |\n",
       "| 2009-09-30 | 6mos | grp_6mos_by_month | 10184 | grp_6mos_by_month_2009-09-30_pre-20220604-141700.tab | /home/jonathanmorgan/shares/phd_work/network_data/grp_6mos_by_month/grp_6mos_by_month_2009-09-30_pre-20220604-141700.tab | 10182 | 10184 | grp_6mos_by_month_2009-09-30_post-20220604-141809.tab | /home/jonathanmorgan/shares/phd_work/network_data/grp_6mos_by_month/grp_6mos_by_month_2009-09-30_post-20220604-141809.tab | 10182 | 0.09961737 | 1.317911e-05 | 24714 |\n",
       "| 2009-10-31 | 6mos | grp_6mos_by_month | 10173 | grp_6mos_by_month_2009-10-31_pre-20220604-141919.tab | /home/jonathanmorgan/shares/phd_work/network_data/grp_6mos_by_month/grp_6mos_by_month_2009-10-31_pre-20220604-141919.tab | 10171 | 10173 | grp_6mos_by_month_2009-10-31_post-20220604-142029.tab | /home/jonathanmorgan/shares/phd_work/network_data/grp_6mos_by_month/grp_6mos_by_month_2009-10-31_post-20220604-142029.tab | 10171 | 0.10550592 | 1.398101e-05 | 24556 |\n",
       "| 2009-12-01 | 6mos | grp_6mos_by_month | 10127 | grp_6mos_by_month_2009-12-01_pre-20220604-142137.tab | /home/jonathanmorgan/shares/phd_work/network_data/grp_6mos_by_month/grp_6mos_by_month_2009-12-01_pre-20220604-142137.tab | 10125 | 10127 | grp_6mos_by_month_2009-12-01_post-20220604-142240.tab | /home/jonathanmorgan/shares/phd_work/network_data/grp_6mos_by_month/grp_6mos_by_month_2009-12-01_post-20220604-142240.tab | 10125 | 0.10835966 | 1.440107e-05 | 24310 |\n",
       "| 2010-01-01 | 6mos | grp_6mos_by_month | 10051 | grp_6mos_by_month_2010-01-01_pre-20220604-142343.tab | /home/jonathanmorgan/shares/phd_work/network_data/grp_6mos_by_month/grp_6mos_by_month_2010-01-01_pre-20220604-142343.tab | 10049 | 10051 | grp_6mos_by_month_2010-01-01_post-20220604-142446.tab | /home/jonathanmorgan/shares/phd_work/network_data/grp_6mos_by_month/grp_6mos_by_month_2010-01-01_post-20220604-142446.tab | 10049 | 0.10538321 | 1.402573e-05 | 24050 |\n",
       "| 2010-02-01 | 6mos | grp_6mos_by_month | 10011 | grp_6mos_by_month_2010-02-01_pre-20220604-142549.tab | /home/jonathanmorgan/shares/phd_work/network_data/grp_6mos_by_month/grp_6mos_by_month_2010-02-01_pre-20220604-142549.tab | 10009 | 10011 | grp_6mos_by_month_2010-02-01_post-20220604-142653.tab | /home/jonathanmorgan/shares/phd_work/network_data/grp_6mos_by_month/grp_6mos_by_month_2010-02-01_post-20220604-142653.tab | 10009 | 0.10702934 | 1.429780e-05 | 23904 |\n",
       "| 2010-03-04 | 6mos | grp_6mos_by_month |  9911 | grp_6mos_by_month_2010-03-04_pre-20220604-142755.tab | /home/jonathanmorgan/shares/phd_work/network_data/grp_6mos_by_month/grp_6mos_by_month_2010-03-04_pre-20220604-142755.tab |  9909 |  9911 | grp_6mos_by_month_2010-03-04_post-20220604-142858.tab | /home/jonathanmorgan/shares/phd_work/network_data/grp_6mos_by_month/grp_6mos_by_month_2010-03-04_post-20220604-142858.tab |  9909 | 0.11096742 | 1.495458e-05 | 23530 |\n",
       "| 2010-04-04 | 6mos | grp_6mos_by_month |  9808 | grp_6mos_by_month_2010-04-04_pre-20220604-143001.tab | /home/jonathanmorgan/shares/phd_work/network_data/grp_6mos_by_month/grp_6mos_by_month_2010-04-04_pre-20220604-143001.tab |  9806 |  9808 | grp_6mos_by_month_2010-04-04_post-20220604-143107.tab | /home/jonathanmorgan/shares/phd_work/network_data/grp_6mos_by_month/grp_6mos_by_month_2010-04-04_post-20220604-143107.tab |  9806 | 0.10877313 | 1.483353e-05 | 23372 |\n",
       "| 2010-05-05 | 6mos | grp_6mos_by_month |  9693 | grp_6mos_by_month_2010-05-05_pre-20220604-143216.tab | /home/jonathanmorgan/shares/phd_work/network_data/grp_6mos_by_month/grp_6mos_by_month_2010-05-05_pre-20220604-143216.tab |  9691 |  9693 | grp_6mos_by_month_2010-05-05_post-20220604-143320.tab | /home/jonathanmorgan/shares/phd_work/network_data/grp_6mos_by_month/grp_6mos_by_month_2010-05-05_post-20220604-143320.tab |  9691 | 0.10734713 | 1.471937e-05 | 22990 |\n",
       "\n"
      ],
      "text/plain": [
       "   baseDate   networkDuration label             beforeColumnCount\n",
       "1  2005-07-03 6mos            grp_6mos_by_month 13775            \n",
       "2  2005-08-03 6mos            grp_6mos_by_month 13827            \n",
       "3  2005-09-03 6mos            grp_6mos_by_month 13878            \n",
       "4  2005-10-04 6mos            grp_6mos_by_month 13713            \n",
       "5  2005-11-04 6mos            grp_6mos_by_month 13501            \n",
       "6  2005-12-05 6mos            grp_6mos_by_month 13438            \n",
       "7  2006-01-05 6mos            grp_6mos_by_month 13222            \n",
       "8  2006-02-05 6mos            grp_6mos_by_month 13095            \n",
       "9  2006-03-08 6mos            grp_6mos_by_month 12891            \n",
       "10 2006-04-08 6mos            grp_6mos_by_month 12842            \n",
       "11 2006-05-09 6mos            grp_6mos_by_month 12812            \n",
       "12 2006-06-09 6mos            grp_6mos_by_month 12711            \n",
       "13 2006-07-10 6mos            grp_6mos_by_month 12682            \n",
       "14 2006-08-10 6mos            grp_6mos_by_month 12648            \n",
       "15 2006-09-10 6mos            grp_6mos_by_month 12531            \n",
       "16 2006-10-11 6mos            grp_6mos_by_month 12518            \n",
       "17 2006-11-11 6mos            grp_6mos_by_month 12581            \n",
       "18 2006-12-12 6mos            grp_6mos_by_month 12624            \n",
       "19 2007-01-12 6mos            grp_6mos_by_month 12670            \n",
       "20 2007-02-12 6mos            grp_6mos_by_month 12527            \n",
       "21 2007-03-15 6mos            grp_6mos_by_month 12682            \n",
       "22 2007-04-15 6mos            grp_6mos_by_month 12402            \n",
       "23 2007-05-16 6mos            grp_6mos_by_month 12250            \n",
       "24 2007-06-16 6mos            grp_6mos_by_month 12215            \n",
       "25 2007-07-17 6mos            grp_6mos_by_month 12064            \n",
       "26 2007-08-17 6mos            grp_6mos_by_month 11880            \n",
       "27 2007-09-17 6mos            grp_6mos_by_month 11825            \n",
       "28 2007-10-18 6mos            grp_6mos_by_month 11651            \n",
       "29 2007-11-18 6mos            grp_6mos_by_month 11526            \n",
       "30 2007-12-19 6mos            grp_6mos_by_month 11337            \n",
       "31 2008-01-19 6mos            grp_6mos_by_month 11212            \n",
       "32 2008-02-19 6mos            grp_6mos_by_month 11028            \n",
       "33 2008-03-21 6mos            grp_6mos_by_month 10883            \n",
       "34 2008-04-21 6mos            grp_6mos_by_month 10842            \n",
       "35 2008-05-22 6mos            grp_6mos_by_month 10707            \n",
       "36 2008-06-22 6mos            grp_6mos_by_month 10493            \n",
       "37 2008-07-23 6mos            grp_6mos_by_month 10346            \n",
       "38 2008-08-23 6mos            grp_6mos_by_month 10334            \n",
       "39 2008-09-23 6mos            grp_6mos_by_month 10259            \n",
       "40 2008-10-24 6mos            grp_6mos_by_month 10212            \n",
       "41 2008-11-24 6mos            grp_6mos_by_month 10177            \n",
       "42 2008-12-25 6mos            grp_6mos_by_month 10081            \n",
       "43 2009-01-25 6mos            grp_6mos_by_month 10035            \n",
       "44 2009-02-25 6mos            grp_6mos_by_month 10019            \n",
       "45 2009-03-28 6mos            grp_6mos_by_month  9991            \n",
       "46 2009-04-28 6mos            grp_6mos_by_month 10077            \n",
       "47 2009-05-29 6mos            grp_6mos_by_month 10127            \n",
       "48 2009-06-29 6mos            grp_6mos_by_month 10199            \n",
       "49 2009-07-30 6mos            grp_6mos_by_month 10204            \n",
       "50 2009-08-30 6mos            grp_6mos_by_month 10260            \n",
       "51 2009-09-30 6mos            grp_6mos_by_month 10184            \n",
       "52 2009-10-31 6mos            grp_6mos_by_month 10173            \n",
       "53 2009-12-01 6mos            grp_6mos_by_month 10127            \n",
       "54 2010-01-01 6mos            grp_6mos_by_month 10051            \n",
       "55 2010-02-01 6mos            grp_6mos_by_month 10011            \n",
       "56 2010-03-04 6mos            grp_6mos_by_month  9911            \n",
       "57 2010-04-04 6mos            grp_6mos_by_month  9808            \n",
       "58 2010-05-05 6mos            grp_6mos_by_month  9693            \n",
       "   beforeDataFileName                                  \n",
       "1  grp_6mos_by_month_2005-07-03_pre-20220604-115739.tab\n",
       "2  grp_6mos_by_month_2005-08-03_pre-20220604-120117.tab\n",
       "3  grp_6mos_by_month_2005-09-03_pre-20220604-120452.tab\n",
       "4  grp_6mos_by_month_2005-10-04_pre-20220604-120827.tab\n",
       "5  grp_6mos_by_month_2005-11-04_pre-20220604-121212.tab\n",
       "6  grp_6mos_by_month_2005-12-05_pre-20220604-121603.tab\n",
       "7  grp_6mos_by_month_2006-01-05_pre-20220604-121948.tab\n",
       "8  grp_6mos_by_month_2006-02-05_pre-20220604-122317.tab\n",
       "9  grp_6mos_by_month_2006-03-08_pre-20220604-122637.tab\n",
       "10 grp_6mos_by_month_2006-04-08_pre-20220604-122958.tab\n",
       "11 grp_6mos_by_month_2006-05-09_pre-20220604-123316.tab\n",
       "12 grp_6mos_by_month_2006-06-09_pre-20220604-123643.tab\n",
       "13 grp_6mos_by_month_2006-07-10_pre-20220604-123955.tab\n",
       "14 grp_6mos_by_month_2006-08-10_pre-20220604-124308.tab\n",
       "15 grp_6mos_by_month_2006-09-10_pre-20220604-124636.tab\n",
       "16 grp_6mos_by_month_2006-10-11_pre-20220604-124959.tab\n",
       "17 grp_6mos_by_month_2006-11-11_pre-20220604-125318.tab\n",
       "18 grp_6mos_by_month_2006-12-12_pre-20220604-125624.tab\n",
       "19 grp_6mos_by_month_2007-01-12_pre-20220604-125935.tab\n",
       "20 grp_6mos_by_month_2007-02-12_pre-20220604-130252.tab\n",
       "21 grp_6mos_by_month_2007-03-15_pre-20220604-130605.tab\n",
       "22 grp_6mos_by_month_2007-04-15_pre-20220604-130914.tab\n",
       "23 grp_6mos_by_month_2007-05-16_pre-20220604-131210.tab\n",
       "24 grp_6mos_by_month_2007-06-16_pre-20220604-131501.tab\n",
       "25 grp_6mos_by_month_2007-07-17_pre-20220604-131750.tab\n",
       "26 grp_6mos_by_month_2007-08-17_pre-20220604-132033.tab\n",
       "27 grp_6mos_by_month_2007-09-17_pre-20220604-132313.tab\n",
       "28 grp_6mos_by_month_2007-10-18_pre-20220604-132557.tab\n",
       "29 grp_6mos_by_month_2007-11-18_pre-20220604-132843.tab\n",
       "30 grp_6mos_by_month_2007-12-19_pre-20220604-133126.tab\n",
       "31 grp_6mos_by_month_2008-01-19_pre-20220604-133402.tab\n",
       "32 grp_6mos_by_month_2008-02-19_pre-20220604-133627.tab\n",
       "33 grp_6mos_by_month_2008-03-21_pre-20220604-133847.tab\n",
       "34 grp_6mos_by_month_2008-04-21_pre-20220604-134102.tab\n",
       "35 grp_6mos_by_month_2008-05-22_pre-20220604-134315.tab\n",
       "36 grp_6mos_by_month_2008-06-22_pre-20220604-134526.tab\n",
       "37 grp_6mos_by_month_2008-07-23_pre-20220604-134742.tab\n",
       "38 grp_6mos_by_month_2008-08-23_pre-20220604-134954.tab\n",
       "39 grp_6mos_by_month_2008-09-23_pre-20220604-135158.tab\n",
       "40 grp_6mos_by_month_2008-10-24_pre-20220604-135401.tab\n",
       "41 grp_6mos_by_month_2008-11-24_pre-20220604-135605.tab\n",
       "42 grp_6mos_by_month_2008-12-25_pre-20220604-135809.tab\n",
       "43 grp_6mos_by_month_2009-01-25_pre-20220604-140021.tab\n",
       "44 grp_6mos_by_month_2009-02-25_pre-20220604-140219.tab\n",
       "45 grp_6mos_by_month_2009-03-28_pre-20220604-140420.tab\n",
       "46 grp_6mos_by_month_2009-04-28_pre-20220604-140621.tab\n",
       "47 grp_6mos_by_month_2009-05-29_pre-20220604-140826.tab\n",
       "48 grp_6mos_by_month_2009-06-29_pre-20220604-141033.tab\n",
       "49 grp_6mos_by_month_2009-07-30_pre-20220604-141239.tab\n",
       "50 grp_6mos_by_month_2009-08-30_pre-20220604-141447.tab\n",
       "51 grp_6mos_by_month_2009-09-30_pre-20220604-141700.tab\n",
       "52 grp_6mos_by_month_2009-10-31_pre-20220604-141919.tab\n",
       "53 grp_6mos_by_month_2009-12-01_pre-20220604-142137.tab\n",
       "54 grp_6mos_by_month_2010-01-01_pre-20220604-142343.tab\n",
       "55 grp_6mos_by_month_2010-02-01_pre-20220604-142549.tab\n",
       "56 grp_6mos_by_month_2010-03-04_pre-20220604-142755.tab\n",
       "57 grp_6mos_by_month_2010-04-04_pre-20220604-143001.tab\n",
       "58 grp_6mos_by_month_2010-05-05_pre-20220604-143216.tab\n",
       "   beforeDataPath                                                                                                          \n",
       "1  /home/jonathanmorgan/shares/phd_work/network_data/grp_6mos_by_month/grp_6mos_by_month_2005-07-03_pre-20220604-115739.tab\n",
       "2  /home/jonathanmorgan/shares/phd_work/network_data/grp_6mos_by_month/grp_6mos_by_month_2005-08-03_pre-20220604-120117.tab\n",
       "3  /home/jonathanmorgan/shares/phd_work/network_data/grp_6mos_by_month/grp_6mos_by_month_2005-09-03_pre-20220604-120452.tab\n",
       "4  /home/jonathanmorgan/shares/phd_work/network_data/grp_6mos_by_month/grp_6mos_by_month_2005-10-04_pre-20220604-120827.tab\n",
       "5  /home/jonathanmorgan/shares/phd_work/network_data/grp_6mos_by_month/grp_6mos_by_month_2005-11-04_pre-20220604-121212.tab\n",
       "6  /home/jonathanmorgan/shares/phd_work/network_data/grp_6mos_by_month/grp_6mos_by_month_2005-12-05_pre-20220604-121603.tab\n",
       "7  /home/jonathanmorgan/shares/phd_work/network_data/grp_6mos_by_month/grp_6mos_by_month_2006-01-05_pre-20220604-121948.tab\n",
       "8  /home/jonathanmorgan/shares/phd_work/network_data/grp_6mos_by_month/grp_6mos_by_month_2006-02-05_pre-20220604-122317.tab\n",
       "9  /home/jonathanmorgan/shares/phd_work/network_data/grp_6mos_by_month/grp_6mos_by_month_2006-03-08_pre-20220604-122637.tab\n",
       "10 /home/jonathanmorgan/shares/phd_work/network_data/grp_6mos_by_month/grp_6mos_by_month_2006-04-08_pre-20220604-122958.tab\n",
       "11 /home/jonathanmorgan/shares/phd_work/network_data/grp_6mos_by_month/grp_6mos_by_month_2006-05-09_pre-20220604-123316.tab\n",
       "12 /home/jonathanmorgan/shares/phd_work/network_data/grp_6mos_by_month/grp_6mos_by_month_2006-06-09_pre-20220604-123643.tab\n",
       "13 /home/jonathanmorgan/shares/phd_work/network_data/grp_6mos_by_month/grp_6mos_by_month_2006-07-10_pre-20220604-123955.tab\n",
       "14 /home/jonathanmorgan/shares/phd_work/network_data/grp_6mos_by_month/grp_6mos_by_month_2006-08-10_pre-20220604-124308.tab\n",
       "15 /home/jonathanmorgan/shares/phd_work/network_data/grp_6mos_by_month/grp_6mos_by_month_2006-09-10_pre-20220604-124636.tab\n",
       "16 /home/jonathanmorgan/shares/phd_work/network_data/grp_6mos_by_month/grp_6mos_by_month_2006-10-11_pre-20220604-124959.tab\n",
       "17 /home/jonathanmorgan/shares/phd_work/network_data/grp_6mos_by_month/grp_6mos_by_month_2006-11-11_pre-20220604-125318.tab\n",
       "18 /home/jonathanmorgan/shares/phd_work/network_data/grp_6mos_by_month/grp_6mos_by_month_2006-12-12_pre-20220604-125624.tab\n",
       "19 /home/jonathanmorgan/shares/phd_work/network_data/grp_6mos_by_month/grp_6mos_by_month_2007-01-12_pre-20220604-125935.tab\n",
       "20 /home/jonathanmorgan/shares/phd_work/network_data/grp_6mos_by_month/grp_6mos_by_month_2007-02-12_pre-20220604-130252.tab\n",
       "21 /home/jonathanmorgan/shares/phd_work/network_data/grp_6mos_by_month/grp_6mos_by_month_2007-03-15_pre-20220604-130605.tab\n",
       "22 /home/jonathanmorgan/shares/phd_work/network_data/grp_6mos_by_month/grp_6mos_by_month_2007-04-15_pre-20220604-130914.tab\n",
       "23 /home/jonathanmorgan/shares/phd_work/network_data/grp_6mos_by_month/grp_6mos_by_month_2007-05-16_pre-20220604-131210.tab\n",
       "24 /home/jonathanmorgan/shares/phd_work/network_data/grp_6mos_by_month/grp_6mos_by_month_2007-06-16_pre-20220604-131501.tab\n",
       "25 /home/jonathanmorgan/shares/phd_work/network_data/grp_6mos_by_month/grp_6mos_by_month_2007-07-17_pre-20220604-131750.tab\n",
       "26 /home/jonathanmorgan/shares/phd_work/network_data/grp_6mos_by_month/grp_6mos_by_month_2007-08-17_pre-20220604-132033.tab\n",
       "27 /home/jonathanmorgan/shares/phd_work/network_data/grp_6mos_by_month/grp_6mos_by_month_2007-09-17_pre-20220604-132313.tab\n",
       "28 /home/jonathanmorgan/shares/phd_work/network_data/grp_6mos_by_month/grp_6mos_by_month_2007-10-18_pre-20220604-132557.tab\n",
       "29 /home/jonathanmorgan/shares/phd_work/network_data/grp_6mos_by_month/grp_6mos_by_month_2007-11-18_pre-20220604-132843.tab\n",
       "30 /home/jonathanmorgan/shares/phd_work/network_data/grp_6mos_by_month/grp_6mos_by_month_2007-12-19_pre-20220604-133126.tab\n",
       "31 /home/jonathanmorgan/shares/phd_work/network_data/grp_6mos_by_month/grp_6mos_by_month_2008-01-19_pre-20220604-133402.tab\n",
       "32 /home/jonathanmorgan/shares/phd_work/network_data/grp_6mos_by_month/grp_6mos_by_month_2008-02-19_pre-20220604-133627.tab\n",
       "33 /home/jonathanmorgan/shares/phd_work/network_data/grp_6mos_by_month/grp_6mos_by_month_2008-03-21_pre-20220604-133847.tab\n",
       "34 /home/jonathanmorgan/shares/phd_work/network_data/grp_6mos_by_month/grp_6mos_by_month_2008-04-21_pre-20220604-134102.tab\n",
       "35 /home/jonathanmorgan/shares/phd_work/network_data/grp_6mos_by_month/grp_6mos_by_month_2008-05-22_pre-20220604-134315.tab\n",
       "36 /home/jonathanmorgan/shares/phd_work/network_data/grp_6mos_by_month/grp_6mos_by_month_2008-06-22_pre-20220604-134526.tab\n",
       "37 /home/jonathanmorgan/shares/phd_work/network_data/grp_6mos_by_month/grp_6mos_by_month_2008-07-23_pre-20220604-134742.tab\n",
       "38 /home/jonathanmorgan/shares/phd_work/network_data/grp_6mos_by_month/grp_6mos_by_month_2008-08-23_pre-20220604-134954.tab\n",
       "39 /home/jonathanmorgan/shares/phd_work/network_data/grp_6mos_by_month/grp_6mos_by_month_2008-09-23_pre-20220604-135158.tab\n",
       "40 /home/jonathanmorgan/shares/phd_work/network_data/grp_6mos_by_month/grp_6mos_by_month_2008-10-24_pre-20220604-135401.tab\n",
       "41 /home/jonathanmorgan/shares/phd_work/network_data/grp_6mos_by_month/grp_6mos_by_month_2008-11-24_pre-20220604-135605.tab\n",
       "42 /home/jonathanmorgan/shares/phd_work/network_data/grp_6mos_by_month/grp_6mos_by_month_2008-12-25_pre-20220604-135809.tab\n",
       "43 /home/jonathanmorgan/shares/phd_work/network_data/grp_6mos_by_month/grp_6mos_by_month_2009-01-25_pre-20220604-140021.tab\n",
       "44 /home/jonathanmorgan/shares/phd_work/network_data/grp_6mos_by_month/grp_6mos_by_month_2009-02-25_pre-20220604-140219.tab\n",
       "45 /home/jonathanmorgan/shares/phd_work/network_data/grp_6mos_by_month/grp_6mos_by_month_2009-03-28_pre-20220604-140420.tab\n",
       "46 /home/jonathanmorgan/shares/phd_work/network_data/grp_6mos_by_month/grp_6mos_by_month_2009-04-28_pre-20220604-140621.tab\n",
       "47 /home/jonathanmorgan/shares/phd_work/network_data/grp_6mos_by_month/grp_6mos_by_month_2009-05-29_pre-20220604-140826.tab\n",
       "48 /home/jonathanmorgan/shares/phd_work/network_data/grp_6mos_by_month/grp_6mos_by_month_2009-06-29_pre-20220604-141033.tab\n",
       "49 /home/jonathanmorgan/shares/phd_work/network_data/grp_6mos_by_month/grp_6mos_by_month_2009-07-30_pre-20220604-141239.tab\n",
       "50 /home/jonathanmorgan/shares/phd_work/network_data/grp_6mos_by_month/grp_6mos_by_month_2009-08-30_pre-20220604-141447.tab\n",
       "51 /home/jonathanmorgan/shares/phd_work/network_data/grp_6mos_by_month/grp_6mos_by_month_2009-09-30_pre-20220604-141700.tab\n",
       "52 /home/jonathanmorgan/shares/phd_work/network_data/grp_6mos_by_month/grp_6mos_by_month_2009-10-31_pre-20220604-141919.tab\n",
       "53 /home/jonathanmorgan/shares/phd_work/network_data/grp_6mos_by_month/grp_6mos_by_month_2009-12-01_pre-20220604-142137.tab\n",
       "54 /home/jonathanmorgan/shares/phd_work/network_data/grp_6mos_by_month/grp_6mos_by_month_2010-01-01_pre-20220604-142343.tab\n",
       "55 /home/jonathanmorgan/shares/phd_work/network_data/grp_6mos_by_month/grp_6mos_by_month_2010-02-01_pre-20220604-142549.tab\n",
       "56 /home/jonathanmorgan/shares/phd_work/network_data/grp_6mos_by_month/grp_6mos_by_month_2010-03-04_pre-20220604-142755.tab\n",
       "57 /home/jonathanmorgan/shares/phd_work/network_data/grp_6mos_by_month/grp_6mos_by_month_2010-04-04_pre-20220604-143001.tab\n",
       "58 /home/jonathanmorgan/shares/phd_work/network_data/grp_6mos_by_month/grp_6mos_by_month_2010-05-05_pre-20220604-143216.tab\n",
       "   beforeRowCount afterColumnCount\n",
       "1  13773          13775           \n",
       "2  13825          13827           \n",
       "3  13876          13878           \n",
       "4  13711          13713           \n",
       "5  13499          13501           \n",
       "6  13436          13438           \n",
       "7  13220          13222           \n",
       "8  13093          13095           \n",
       "9  12889          12891           \n",
       "10 12840          12842           \n",
       "11 12810          12812           \n",
       "12 12709          12711           \n",
       "13 12680          12682           \n",
       "14 12646          12648           \n",
       "15 12529          12531           \n",
       "16 12516          12518           \n",
       "17 12579          12581           \n",
       "18 12622          12624           \n",
       "19 12668          12670           \n",
       "20 12525          12527           \n",
       "21 12680          12682           \n",
       "22 12400          12402           \n",
       "23 12248          12250           \n",
       "24 12213          12215           \n",
       "25 12062          12064           \n",
       "26 11878          11880           \n",
       "27 11823          11825           \n",
       "28 11649          11651           \n",
       "29 11524          11526           \n",
       "30 11335          11337           \n",
       "31 11210          11212           \n",
       "32 11026          11028           \n",
       "33 10881          10883           \n",
       "34 10840          10842           \n",
       "35 10705          10707           \n",
       "36 10491          10493           \n",
       "37 10344          10346           \n",
       "38 10332          10334           \n",
       "39 10257          10259           \n",
       "40 10210          10212           \n",
       "41 10175          10177           \n",
       "42 10079          10081           \n",
       "43 10033          10035           \n",
       "44 10017          10019           \n",
       "45  9989           9991           \n",
       "46 10075          10077           \n",
       "47 10125          10127           \n",
       "48 10197          10199           \n",
       "49 10202          10204           \n",
       "50 10258          10260           \n",
       "51 10182          10184           \n",
       "52 10171          10173           \n",
       "53 10125          10127           \n",
       "54 10049          10051           \n",
       "55 10009          10011           \n",
       "56  9909           9911           \n",
       "57  9806           9808           \n",
       "58  9691           9693           \n",
       "   afterDataFileName                                    \n",
       "1  grp_6mos_by_month_2005-07-03_post-20220604-115928.tab\n",
       "2  grp_6mos_by_month_2005-08-03_post-20220604-120305.tab\n",
       "3  grp_6mos_by_month_2005-09-03_post-20220604-120639.tab\n",
       "4  grp_6mos_by_month_2005-10-04_post-20220604-121014.tab\n",
       "5  grp_6mos_by_month_2005-11-04_post-20220604-121409.tab\n",
       "6  grp_6mos_by_month_2005-12-05_post-20220604-121756.tab\n",
       "7  grp_6mos_by_month_2006-01-05_post-20220604-122133.tab\n",
       "8  grp_6mos_by_month_2006-02-05_post-20220604-122459.tab\n",
       "9  grp_6mos_by_month_2006-03-08_post-20220604-122819.tab\n",
       "10 grp_6mos_by_month_2006-04-08_post-20220604-123139.tab\n",
       "11 grp_6mos_by_month_2006-05-09_post-20220604-123504.tab\n",
       "12 grp_6mos_by_month_2006-06-09_post-20220604-123819.tab\n",
       "13 grp_6mos_by_month_2006-07-10_post-20220604-124132.tab\n",
       "14 grp_6mos_by_month_2006-08-10_post-20220604-124452.tab\n",
       "15 grp_6mos_by_month_2006-09-10_post-20220604-124818.tab\n",
       "16 grp_6mos_by_month_2006-10-11_post-20220604-125140.tab\n",
       "17 grp_6mos_by_month_2006-11-11_post-20220604-125452.tab\n",
       "18 grp_6mos_by_month_2006-12-12_post-20220604-125757.tab\n",
       "19 grp_6mos_by_month_2007-01-12_post-20220604-130114.tab\n",
       "20 grp_6mos_by_month_2007-02-12_post-20220604-130429.tab\n",
       "21 grp_6mos_by_month_2007-03-15_post-20220604-130743.tab\n",
       "22 grp_6mos_by_month_2007-04-15_post-20220604-131043.tab\n",
       "23 grp_6mos_by_month_2007-05-16_post-20220604-131335.tab\n",
       "24 grp_6mos_by_month_2007-06-16_post-20220604-131627.tab\n",
       "25 grp_6mos_by_month_2007-07-17_post-20220604-131913.tab\n",
       "26 grp_6mos_by_month_2007-08-17_post-20220604-132154.tab\n",
       "27 grp_6mos_by_month_2007-09-17_post-20220604-132433.tab\n",
       "28 grp_6mos_by_month_2007-10-18_post-20220604-132722.tab\n",
       "29 grp_6mos_by_month_2007-11-18_post-20220604-133006.tab\n",
       "30 grp_6mos_by_month_2007-12-19_post-20220604-133245.tab\n",
       "31 grp_6mos_by_month_2008-01-19_post-20220604-133516.tab\n",
       "32 grp_6mos_by_month_2008-02-19_post-20220604-133737.tab\n",
       "33 grp_6mos_by_month_2008-03-21_post-20220604-133955.tab\n",
       "34 grp_6mos_by_month_2008-04-21_post-20220604-134209.tab\n",
       "35 grp_6mos_by_month_2008-05-22_post-20220604-134421.tab\n",
       "36 grp_6mos_by_month_2008-06-22_post-20220604-134635.tab\n",
       "37 grp_6mos_by_month_2008-07-23_post-20220604-134850.tab\n",
       "38 grp_6mos_by_month_2008-08-23_post-20220604-135057.tab\n",
       "39 grp_6mos_by_month_2008-09-23_post-20220604-135300.tab\n",
       "40 grp_6mos_by_month_2008-10-24_post-20220604-135504.tab\n",
       "41 grp_6mos_by_month_2008-11-24_post-20220604-135707.tab\n",
       "42 grp_6mos_by_month_2008-12-25_post-20220604-135915.tab\n",
       "43 grp_6mos_by_month_2009-01-25_post-20220604-140120.tab\n",
       "44 grp_6mos_by_month_2009-02-25_post-20220604-140318.tab\n",
       "45 grp_6mos_by_month_2009-03-28_post-20220604-140520.tab\n",
       "46 grp_6mos_by_month_2009-04-28_post-20220604-140722.tab\n",
       "47 grp_6mos_by_month_2009-05-29_post-20220604-140928.tab\n",
       "48 grp_6mos_by_month_2009-06-29_post-20220604-141135.tab\n",
       "49 grp_6mos_by_month_2009-07-30_post-20220604-141342.tab\n",
       "50 grp_6mos_by_month_2009-08-30_post-20220604-141552.tab\n",
       "51 grp_6mos_by_month_2009-09-30_post-20220604-141809.tab\n",
       "52 grp_6mos_by_month_2009-10-31_post-20220604-142029.tab\n",
       "53 grp_6mos_by_month_2009-12-01_post-20220604-142240.tab\n",
       "54 grp_6mos_by_month_2010-01-01_post-20220604-142446.tab\n",
       "55 grp_6mos_by_month_2010-02-01_post-20220604-142653.tab\n",
       "56 grp_6mos_by_month_2010-03-04_post-20220604-142858.tab\n",
       "57 grp_6mos_by_month_2010-04-04_post-20220604-143107.tab\n",
       "58 grp_6mos_by_month_2010-05-05_post-20220604-143320.tab\n",
       "   afterDataPath                                                                                                            \n",
       "1  /home/jonathanmorgan/shares/phd_work/network_data/grp_6mos_by_month/grp_6mos_by_month_2005-07-03_post-20220604-115928.tab\n",
       "2  /home/jonathanmorgan/shares/phd_work/network_data/grp_6mos_by_month/grp_6mos_by_month_2005-08-03_post-20220604-120305.tab\n",
       "3  /home/jonathanmorgan/shares/phd_work/network_data/grp_6mos_by_month/grp_6mos_by_month_2005-09-03_post-20220604-120639.tab\n",
       "4  /home/jonathanmorgan/shares/phd_work/network_data/grp_6mos_by_month/grp_6mos_by_month_2005-10-04_post-20220604-121014.tab\n",
       "5  /home/jonathanmorgan/shares/phd_work/network_data/grp_6mos_by_month/grp_6mos_by_month_2005-11-04_post-20220604-121409.tab\n",
       "6  /home/jonathanmorgan/shares/phd_work/network_data/grp_6mos_by_month/grp_6mos_by_month_2005-12-05_post-20220604-121756.tab\n",
       "7  /home/jonathanmorgan/shares/phd_work/network_data/grp_6mos_by_month/grp_6mos_by_month_2006-01-05_post-20220604-122133.tab\n",
       "8  /home/jonathanmorgan/shares/phd_work/network_data/grp_6mos_by_month/grp_6mos_by_month_2006-02-05_post-20220604-122459.tab\n",
       "9  /home/jonathanmorgan/shares/phd_work/network_data/grp_6mos_by_month/grp_6mos_by_month_2006-03-08_post-20220604-122819.tab\n",
       "10 /home/jonathanmorgan/shares/phd_work/network_data/grp_6mos_by_month/grp_6mos_by_month_2006-04-08_post-20220604-123139.tab\n",
       "11 /home/jonathanmorgan/shares/phd_work/network_data/grp_6mos_by_month/grp_6mos_by_month_2006-05-09_post-20220604-123504.tab\n",
       "12 /home/jonathanmorgan/shares/phd_work/network_data/grp_6mos_by_month/grp_6mos_by_month_2006-06-09_post-20220604-123819.tab\n",
       "13 /home/jonathanmorgan/shares/phd_work/network_data/grp_6mos_by_month/grp_6mos_by_month_2006-07-10_post-20220604-124132.tab\n",
       "14 /home/jonathanmorgan/shares/phd_work/network_data/grp_6mos_by_month/grp_6mos_by_month_2006-08-10_post-20220604-124452.tab\n",
       "15 /home/jonathanmorgan/shares/phd_work/network_data/grp_6mos_by_month/grp_6mos_by_month_2006-09-10_post-20220604-124818.tab\n",
       "16 /home/jonathanmorgan/shares/phd_work/network_data/grp_6mos_by_month/grp_6mos_by_month_2006-10-11_post-20220604-125140.tab\n",
       "17 /home/jonathanmorgan/shares/phd_work/network_data/grp_6mos_by_month/grp_6mos_by_month_2006-11-11_post-20220604-125452.tab\n",
       "18 /home/jonathanmorgan/shares/phd_work/network_data/grp_6mos_by_month/grp_6mos_by_month_2006-12-12_post-20220604-125757.tab\n",
       "19 /home/jonathanmorgan/shares/phd_work/network_data/grp_6mos_by_month/grp_6mos_by_month_2007-01-12_post-20220604-130114.tab\n",
       "20 /home/jonathanmorgan/shares/phd_work/network_data/grp_6mos_by_month/grp_6mos_by_month_2007-02-12_post-20220604-130429.tab\n",
       "21 /home/jonathanmorgan/shares/phd_work/network_data/grp_6mos_by_month/grp_6mos_by_month_2007-03-15_post-20220604-130743.tab\n",
       "22 /home/jonathanmorgan/shares/phd_work/network_data/grp_6mos_by_month/grp_6mos_by_month_2007-04-15_post-20220604-131043.tab\n",
       "23 /home/jonathanmorgan/shares/phd_work/network_data/grp_6mos_by_month/grp_6mos_by_month_2007-05-16_post-20220604-131335.tab\n",
       "24 /home/jonathanmorgan/shares/phd_work/network_data/grp_6mos_by_month/grp_6mos_by_month_2007-06-16_post-20220604-131627.tab\n",
       "25 /home/jonathanmorgan/shares/phd_work/network_data/grp_6mos_by_month/grp_6mos_by_month_2007-07-17_post-20220604-131913.tab\n",
       "26 /home/jonathanmorgan/shares/phd_work/network_data/grp_6mos_by_month/grp_6mos_by_month_2007-08-17_post-20220604-132154.tab\n",
       "27 /home/jonathanmorgan/shares/phd_work/network_data/grp_6mos_by_month/grp_6mos_by_month_2007-09-17_post-20220604-132433.tab\n",
       "28 /home/jonathanmorgan/shares/phd_work/network_data/grp_6mos_by_month/grp_6mos_by_month_2007-10-18_post-20220604-132722.tab\n",
       "29 /home/jonathanmorgan/shares/phd_work/network_data/grp_6mos_by_month/grp_6mos_by_month_2007-11-18_post-20220604-133006.tab\n",
       "30 /home/jonathanmorgan/shares/phd_work/network_data/grp_6mos_by_month/grp_6mos_by_month_2007-12-19_post-20220604-133245.tab\n",
       "31 /home/jonathanmorgan/shares/phd_work/network_data/grp_6mos_by_month/grp_6mos_by_month_2008-01-19_post-20220604-133516.tab\n",
       "32 /home/jonathanmorgan/shares/phd_work/network_data/grp_6mos_by_month/grp_6mos_by_month_2008-02-19_post-20220604-133737.tab\n",
       "33 /home/jonathanmorgan/shares/phd_work/network_data/grp_6mos_by_month/grp_6mos_by_month_2008-03-21_post-20220604-133955.tab\n",
       "34 /home/jonathanmorgan/shares/phd_work/network_data/grp_6mos_by_month/grp_6mos_by_month_2008-04-21_post-20220604-134209.tab\n",
       "35 /home/jonathanmorgan/shares/phd_work/network_data/grp_6mos_by_month/grp_6mos_by_month_2008-05-22_post-20220604-134421.tab\n",
       "36 /home/jonathanmorgan/shares/phd_work/network_data/grp_6mos_by_month/grp_6mos_by_month_2008-06-22_post-20220604-134635.tab\n",
       "37 /home/jonathanmorgan/shares/phd_work/network_data/grp_6mos_by_month/grp_6mos_by_month_2008-07-23_post-20220604-134850.tab\n",
       "38 /home/jonathanmorgan/shares/phd_work/network_data/grp_6mos_by_month/grp_6mos_by_month_2008-08-23_post-20220604-135057.tab\n",
       "39 /home/jonathanmorgan/shares/phd_work/network_data/grp_6mos_by_month/grp_6mos_by_month_2008-09-23_post-20220604-135300.tab\n",
       "40 /home/jonathanmorgan/shares/phd_work/network_data/grp_6mos_by_month/grp_6mos_by_month_2008-10-24_post-20220604-135504.tab\n",
       "41 /home/jonathanmorgan/shares/phd_work/network_data/grp_6mos_by_month/grp_6mos_by_month_2008-11-24_post-20220604-135707.tab\n",
       "42 /home/jonathanmorgan/shares/phd_work/network_data/grp_6mos_by_month/grp_6mos_by_month_2008-12-25_post-20220604-135915.tab\n",
       "43 /home/jonathanmorgan/shares/phd_work/network_data/grp_6mos_by_month/grp_6mos_by_month_2009-01-25_post-20220604-140120.tab\n",
       "44 /home/jonathanmorgan/shares/phd_work/network_data/grp_6mos_by_month/grp_6mos_by_month_2009-02-25_post-20220604-140318.tab\n",
       "45 /home/jonathanmorgan/shares/phd_work/network_data/grp_6mos_by_month/grp_6mos_by_month_2009-03-28_post-20220604-140520.tab\n",
       "46 /home/jonathanmorgan/shares/phd_work/network_data/grp_6mos_by_month/grp_6mos_by_month_2009-04-28_post-20220604-140722.tab\n",
       "47 /home/jonathanmorgan/shares/phd_work/network_data/grp_6mos_by_month/grp_6mos_by_month_2009-05-29_post-20220604-140928.tab\n",
       "48 /home/jonathanmorgan/shares/phd_work/network_data/grp_6mos_by_month/grp_6mos_by_month_2009-06-29_post-20220604-141135.tab\n",
       "49 /home/jonathanmorgan/shares/phd_work/network_data/grp_6mos_by_month/grp_6mos_by_month_2009-07-30_post-20220604-141342.tab\n",
       "50 /home/jonathanmorgan/shares/phd_work/network_data/grp_6mos_by_month/grp_6mos_by_month_2009-08-30_post-20220604-141552.tab\n",
       "51 /home/jonathanmorgan/shares/phd_work/network_data/grp_6mos_by_month/grp_6mos_by_month_2009-09-30_post-20220604-141809.tab\n",
       "52 /home/jonathanmorgan/shares/phd_work/network_data/grp_6mos_by_month/grp_6mos_by_month_2009-10-31_post-20220604-142029.tab\n",
       "53 /home/jonathanmorgan/shares/phd_work/network_data/grp_6mos_by_month/grp_6mos_by_month_2009-12-01_post-20220604-142240.tab\n",
       "54 /home/jonathanmorgan/shares/phd_work/network_data/grp_6mos_by_month/grp_6mos_by_month_2010-01-01_post-20220604-142446.tab\n",
       "55 /home/jonathanmorgan/shares/phd_work/network_data/grp_6mos_by_month/grp_6mos_by_month_2010-02-01_post-20220604-142653.tab\n",
       "56 /home/jonathanmorgan/shares/phd_work/network_data/grp_6mos_by_month/grp_6mos_by_month_2010-03-04_post-20220604-142858.tab\n",
       "57 /home/jonathanmorgan/shares/phd_work/network_data/grp_6mos_by_month/grp_6mos_by_month_2010-04-04_post-20220604-143107.tab\n",
       "58 /home/jonathanmorgan/shares/phd_work/network_data/grp_6mos_by_month/grp_6mos_by_month_2010-05-05_post-20220604-143320.tab\n",
       "   afterRowCount binGraphCorrelation binGraphCovariance binGraphHammingDistance\n",
       "1  13773         0.11059698          1.109275e-05       33842                  \n",
       "2  13825         0.11349380          1.135477e-05       33904                  \n",
       "3  13876         0.10745234          1.068976e-05       34214                  \n",
       "4  13711         0.11130250          1.124644e-05       33802                  \n",
       "5  13499         0.10786637          1.106464e-05       33416                  \n",
       "6  13436         0.10847303          1.114655e-05       33142                  \n",
       "7  13220         0.10936852          1.143365e-05       32574                  \n",
       "8  13093         0.10815866          1.139989e-05       32250                  \n",
       "9  12889         0.10492004          1.114975e-05       31640                  \n",
       "10 12840         0.09902329          1.053143e-05       31606                  \n",
       "11 12810         0.09817331          1.044678e-05       31494                  \n",
       "12 12709         0.09920263          1.068769e-05       31348                  \n",
       "13 12680         0.09409485          1.016437e-05       31466                  \n",
       "14 12646         0.09530084          1.028173e-05       31216                  \n",
       "15 12529         0.09435592          1.024538e-05       30872                  \n",
       "16 12516         0.09301812          1.008797e-05       30816                  \n",
       "17 12579         0.08629197          9.317201e-06       31222                  \n",
       "18 12622         0.08840180          9.479889e-06       31148                  \n",
       "19 12668         0.08642300          9.211799e-06       31254                  \n",
       "20 12525         0.08663734          9.359556e-06       30960                  \n",
       "21 12680         0.08486774          9.032661e-06       31318                  \n",
       "22 12400         0.08683507          9.445224e-06       30544                  \n",
       "23 12248         0.08855043          9.707897e-06       29986                  \n",
       "24 12213         0.08749842          9.589371e-06       29846                  \n",
       "25 12062         0.08982345          9.927308e-06       29304                  \n",
       "26 11878         0.08743222          9.811964e-06       28940                  \n",
       "27 11823         0.08495357          9.531557e-06       28802                  \n",
       "28 11649         0.08827104          1.006897e-05       28280                  \n",
       "29 11524         0.08545579          9.821787e-06       27956                  \n",
       "30 11335         0.08742421          1.022987e-05       27472                  \n",
       "31 11210         0.08766421          1.039556e-05       27202                  \n",
       "32 11026         0.09125905          1.094302e-05       26504                  \n",
       "33 10881         0.09514357          1.155762e-05       26026                  \n",
       "34 10840         0.09580613          1.169625e-05       25942                  \n",
       "35 10705         0.10072590          1.246436e-05       25508                  \n",
       "36 10491         0.09471662          1.196036e-05       25172                  \n",
       "37 10344         0.09518377          1.219057e-05       24836                  \n",
       "38 10332         0.09264637          1.178820e-05       24674                  \n",
       "39 10257         0.09352190          1.201818e-05       24538                  \n",
       "40 10210         0.09665621          1.251275e-05       24412                  \n",
       "41 10175         0.09638022          1.261804e-05       24502                  \n",
       "42 10079         0.09296583          1.234746e-05       24474                  \n",
       "43 10033         0.09625627          1.285832e-05       24316                  \n",
       "44 10017         0.09696011          1.307855e-05       24466                  \n",
       "45  9989         0.09784626          1.327215e-05       24446                  \n",
       "46 10075         0.09700182          1.302687e-05       24662                  \n",
       "47 10125         0.09424958          1.260582e-05       24852                  \n",
       "48 10197         0.08923869          1.177461e-05       24988                  \n",
       "49 10202         0.09444272          1.247407e-05       24896                  \n",
       "50 10258         0.09884831          1.298453e-05       24920                  \n",
       "51 10182         0.09961737          1.317911e-05       24714                  \n",
       "52 10171         0.10550592          1.398101e-05       24556                  \n",
       "53 10125         0.10835966          1.440107e-05       24310                  \n",
       "54 10049         0.10538321          1.402573e-05       24050                  \n",
       "55 10009         0.10702934          1.429780e-05       23904                  \n",
       "56  9909         0.11096742          1.495458e-05       23530                  \n",
       "57  9806         0.10877313          1.483353e-05       23372                  \n",
       "58  9691         0.10734713          1.471937e-05       22990                  "
      ]
     },
     "metadata": {},
     "output_type": "display_data"
    }
   ],
   "source": [
    "binaryComparisonDF"
   ]
  },
  {
   "cell_type": "code",
   "execution_count": 13,
   "id": "8107b7c8-a5e7-40ef-b106-85fda3aa9a37",
   "metadata": {},
   "outputs": [],
   "source": [
    "testBinaryComparisonDF <- binaryComparisonDF"
   ]
  },
  {
   "cell_type": "code",
   "execution_count": 14,
   "id": "2ad42333-9a58-46ee-90fc-a522152a19a8",
   "metadata": {},
   "outputs": [],
   "source": [
    "# add the \"binGraph*\" columns to the pairwiseComparisonDF using cbind\n",
    "binGraphCorrelation <- binaryComparisonDF$binGraphCorrelation\n",
    "binGraphCovariance <- binaryComparisonDF$binGraphCovariance\n",
    "binGraphHammingDistance <- binaryComparisonDF$binGraphHammingDistance\n",
    "\n",
    "pairwiseComparisonDF <- cbind(\n",
    "    pairwiseComparisonDF,\n",
    "    binGraphCorrelation,\n",
    "    binGraphCovariance,\n",
    "    binGraphHammingDistance\n",
    ")"
   ]
  },
  {
   "cell_type": "code",
   "execution_count": 16,
   "id": "b892297a-1471-443f-a617-fab8bbaf0e53",
   "metadata": {},
   "outputs": [
    {
     "data": {
      "text/html": [
       "0.500787922158161"
      ],
      "text/latex": [
       "0.500787922158161"
      ],
      "text/markdown": [
       "0.500787922158161"
      ],
      "text/plain": [
       "[1] 0.5007879"
      ]
     },
     "metadata": {},
     "output_type": "display_data"
    }
   ],
   "source": [
    "# correlate between correlation coefficients\n",
    "cor( pairwiseComparisonDF$graphCorrelation, pairwiseComparisonDF$binGraphCorrelation )"
   ]
  },
  {
   "cell_type": "markdown",
   "id": "1d91d4a8-4bcb-415b-8ef8-f492c4c70267",
   "metadata": {},
   "source": [
    "# graphing data\n",
    "\n",
    "Notes:\n",
    "\n",
    "- https://statisticsglobe.com/plot-all-columns-of-data-frame-in-r\n",
    "- https://ggplot2.tidyverse.org/\n",
    "- https://r-graphics.org/recipe-line-graph-basic-line\n",
    "- https://r4ds.had.co.nz/data-visualisation.html"
   ]
  },
  {
   "cell_type": "markdown",
   "id": "6ef4babb-a294-4f7e-945b-fcec391ce81a",
   "metadata": {},
   "source": [
    "## graphCorrelation"
   ]
  },
  {
   "cell_type": "code",
   "execution_count": 90,
   "id": "e4f8104b-bfe4-44fc-b8fe-16a10e849571",
   "metadata": {},
   "outputs": [
    {
     "name": "stderr",
     "output_type": "stream",
     "text": [
      "Installing package into ‘/usr/local/lib/R/site-library’\n",
      "(as ‘lib’ is unspecified)\n",
      "\n",
      "Warning message in install.packages(\"ggplot2\"):\n",
      "“'lib = \"/usr/local/lib/R/site-library\"' is not writable”\n"
     ]
    },
    {
     "ename": "ERROR",
     "evalue": "Error in install.packages(\"ggplot2\"): unable to install packages\n",
     "output_type": "error",
     "traceback": [
      "Error in install.packages(\"ggplot2\"): unable to install packages\nTraceback:\n",
      "1. install.packages(\"ggplot2\")",
      "2. stop(\"unable to install packages\")"
     ]
    }
   ],
   "source": [
    "# should do this as root, so it is installed system-wide.\n",
    "#install.packages(\"ggplot2\")"
   ]
  },
  {
   "cell_type": "code",
   "execution_count": 91,
   "id": "c8a694f2-ad96-4047-b9ee-0a31e8d9a82b",
   "metadata": {},
   "outputs": [],
   "source": [
    "library( ggplot2 )"
   ]
  },
  {
   "cell_type": "code",
   "execution_count": 93,
   "id": "2ee9bd35-2aa4-4792-a3a1-85def3f1cd93",
   "metadata": {},
   "outputs": [
    {
     "data": {
      "image/png": "[encoded data removed]",
      "text/plain": [
       "plot without title"
      ]
     },
     "metadata": {
      "image/png": {
       "height": 420,
       "width": 420
      }
     },
     "output_type": "display_data"
    }
   ],
   "source": [
    "# simple plot using ggplot2\n",
    "#install.packages(\"ggplot2\")\n",
    "\n",
    "ggplot( pairwiseComparisonDF, aes( baseDate, graphCorrelation ) ) + geom_line()"
   ]
  },
  {
   "cell_type": "code",
   "execution_count": 94,
   "id": "8c8b4ef9-5c1b-434c-b210-4e6e5d604408",
   "metadata": {},
   "outputs": [
    {
     "data": {
      "image/png": "[encoded data removed]",
      "text/plain": [
       "plot without title"
      ]
     },
     "metadata": {
      "image/png": {
       "height": 420,
       "width": 420
      }
     },
     "output_type": "display_data"
    },
    {
     "data": {
      "image/png": "[encoded data removed]",
      "text/plain": [
       "plot without title"
      ]
     },
     "metadata": {
      "image/png": {
       "height": 420,
       "width": 420
      }
     },
     "output_type": "display_data"
    }
   ],
   "source": [
    "# multiple lines in separate graphs in one plot:\n",
    "network_ggp_df <- data.frame( x = pairwiseComparisonDF$baseDate,                            # Reshape data frame\n",
    "                              y = c(pairwiseComparisonDF$beforeDegreeAverage, pairwiseComparisonDF$graphCorrelation, pairwiseComparisonDF$afterDegreeAverage),\n",
    "                              group = c(rep(\"beforeDegreeAverage\", nrow(pairwiseComparisonDF)),\n",
    "                                        rep(\"graphCorrelation\", nrow(pairwiseComparisonDF)),\n",
    "                                        rep(\"afterDegreeAverage\", nrow(pairwiseComparisonDF))))\n",
    "\n",
    "# draw multiple lines, one graph\n",
    "ggp <- ggplot( network_ggp_df, aes( x, y, col = group ) ) + geom_line()\n",
    "ggp\n",
    "\n",
    "# each line in a separate graph, graphs stacked together\n",
    "ggp + facet_grid(group ~ .) "
   ]
  },
  {
   "cell_type": "markdown",
   "id": "60b46888-41e5-4aaa-bf99-e3f1ab258f3b",
   "metadata": {},
   "source": [
    "## binGraphCorrelation"
   ]
  },
  {
   "cell_type": "code",
   "execution_count": 90,
   "id": "eddb0708-874e-4d3c-baa3-c599b46c9703",
   "metadata": {},
   "outputs": [
    {
     "name": "stderr",
     "output_type": "stream",
     "text": [
      "Installing package into ‘/usr/local/lib/R/site-library’\n",
      "(as ‘lib’ is unspecified)\n",
      "\n",
      "Warning message in install.packages(\"ggplot2\"):\n",
      "“'lib = \"/usr/local/lib/R/site-library\"' is not writable”\n"
     ]
    },
    {
     "ename": "ERROR",
     "evalue": "Error in install.packages(\"ggplot2\"): unable to install packages\n",
     "output_type": "error",
     "traceback": [
      "Error in install.packages(\"ggplot2\"): unable to install packages\nTraceback:\n",
      "1. install.packages(\"ggplot2\")",
      "2. stop(\"unable to install packages\")"
     ]
    }
   ],
   "source": [
    "# should do this as root, so it is installed system-wide.\n",
    "#install.packages(\"ggplot2\")"
   ]
  },
  {
   "cell_type": "code",
   "execution_count": 100,
   "id": "515568a9-e724-43df-8391-a1f3185bbece",
   "metadata": {},
   "outputs": [],
   "source": [
    "library( ggplot2 )"
   ]
  },
  {
   "cell_type": "code",
   "execution_count": 102,
   "id": "6a55ede3-03a5-437f-86d0-7248b5af0b9c",
   "metadata": {},
   "outputs": [
    {
     "data": {
      "image/png": "[encoded data removed]",
      "text/plain": [
       "plot without title"
      ]
     },
     "metadata": {
      "image/png": {
       "height": 420,
       "width": 420
      }
     },
     "output_type": "display_data"
    }
   ],
   "source": [
    "# simple plot using ggplot2\n",
    "#install.packages(\"ggplot2\")\n",
    "\n",
    "ggplot( binaryComparisonDF, aes( baseDate, binGraphCorrelation ) ) + geom_line()"
   ]
  },
  {
   "cell_type": "markdown",
   "id": "f3b95239-ac3a-4be8-9774-71a4fc1f1b81",
   "metadata": {},
   "source": [
    "# memory management"
   ]
  },
  {
   "cell_type": "code",
   "execution_count": null,
   "id": "1d8a3f4d-6f3f-4f25-9864-7d20123bddc3",
   "metadata": {},
   "outputs": [],
   "source": [
    "sort(sapply(ls(), function(x) format(object.size(get(x)), unit = 'auto')))"
   ]
  },
  {
   "cell_type": "code",
   "execution_count": null,
   "id": "5651ae5f-3d6f-48bc-bc50-03befb29b790",
   "metadata": {},
   "outputs": [],
   "source": [
    "rm( testNetworkInfo )\n",
    "rm( testNetworkPair )\n",
    "gc()"
   ]
  },
  {
   "cell_type": "markdown",
   "id": "94ea3bbf-0533-4414-aa4c-b79b6bd79fa2",
   "metadata": {},
   "source": [
    "# Workspace"
   ]
  },
  {
   "cell_type": "markdown",
   "id": "8ac6264c-daf0-4dbb-8355-c1eec2cf7bc4",
   "metadata": {},
   "source": [
    "## Workspace - load workspace (optional)\n",
    "\n",
    "If you want, you can load this file's workspace, from a previous run:"
   ]
  },
  {
   "cell_type": "code",
   "execution_count": 10,
   "id": "e80992e3-5f74-4c27-b2df-76a5ea5fc121",
   "metadata": {
    "ExecuteTime": {
     "end_time": "2017-12-10T05:01:35.275829Z",
     "start_time": "2017-12-10T05:01:34.708Z"
    }
   },
   "outputs": [],
   "source": [
    "# assumes that you've already set working directory above to the\n",
    "#     working directory.\n",
    "setwd( data_directory )\n",
    "load( workspace_file_name )"
   ]
  },
  {
   "cell_type": "markdown",
   "id": "6df21314-f5cf-4c5d-8884-0c30863a268d",
   "metadata": {
    "tags": []
   },
   "source": [
    "## Workspace - Save workspace image\n",
    "\n",
    "- Back to [Table of Contents](#Table-of-Contents)\n",
    "\n",
    "Save all the information in the current image, in case we need/want it later."
   ]
  },
  {
   "cell_type": "code",
   "execution_count": 17,
   "id": "b5ada18d-582d-49ee-b3ab-35f7aff70bb7",
   "metadata": {
    "ExecuteTime": {
     "end_time": "2019-07-25T22:35:24.020012Z",
     "start_time": "2019-07-25T22:35:22.295Z"
    }
   },
   "outputs": [
    {
     "name": "stderr",
     "output_type": "stream",
     "text": [
      "Output workspace to: R_grp_network_analysis_test.RData\n",
      "\n"
     ]
    }
   ],
   "source": [
    "# help( save.image )\n",
    "message( paste( \"Output workspace to: \", workspace_file_name, sep = \"\" ) )\n",
    "save.image( file = workspace_file_name )"
   ]
  },
  {
   "cell_type": "markdown",
   "id": "f7377d85-317c-411b-93d6-f5dd26c82fd3",
   "metadata": {},
   "source": [
    "# Appendices"
   ]
  },
  {
   "cell_type": "markdown",
   "id": "1c4ceb8b-08a5-46fa-9d34-daf1a1c879d5",
   "metadata": {},
   "source": [
    "## Appendix - Example single network analysis"
   ]
  },
  {
   "cell_type": "markdown",
   "id": "eb9a5ff3-0b87-4933-8541-f31735fb7079",
   "metadata": {},
   "source": [
    "### `test` - loading large network matrix\n",
    "\n",
    "First, we'll just try to load a 5 GB network matrix (all people from entire time, ties from articles in 2005)."
   ]
  },
  {
   "cell_type": "code",
   "execution_count": null,
   "id": "9d653dd0-2188-4764-995b-dce075b31574",
   "metadata": {
    "ExecuteTime": {
     "end_time": "2017-12-08T04:21:23.765124Z",
     "start_time": "2017-12-08T04:21:23.768Z"
    }
   },
   "outputs": [],
   "source": [
    "# initialize variables\n",
    "testDataFolder <- data_directory\n",
    "testDataFile <- \"all_grp_hard_news_2005-20220603-015300.txt\"\n",
    "testDataPath <- paste( testDataFolder, \"/\", testDataFile, sep = \"\" )"
   ]
  },
  {
   "cell_type": "code",
   "execution_count": null,
   "id": "57cc0990-7c7a-4ba3-9d21-57eaedff38d1",
   "metadata": {
    "ExecuteTime": {
     "end_time": "2017-12-08T04:21:34.192082Z",
     "start_time": "2017-12-08T04:21:34.195Z"
    }
   },
   "outputs": [],
   "source": [
    "testDataPath"
   ]
  },
  {
   "cell_type": "markdown",
   "id": "dae58b03-e583-4e11-b846-f963a54579f3",
   "metadata": {},
   "source": [
    "Load the data file into memory"
   ]
  },
  {
   "cell_type": "code",
   "execution_count": null,
   "id": "2a9ea958-be54-463a-9279-146ea13f2621",
   "metadata": {
    "ExecuteTime": {
     "end_time": "2017-12-08T04:21:39.543163Z",
     "start_time": "2017-12-08T04:21:39.041Z"
    }
   },
   "outputs": [],
   "source": [
    "# tab-delimited:\n",
    "testDataDF <- read.delim( testDataPath, header = TRUE, row.names = 1, check.names = FALSE )"
   ]
  },
  {
   "cell_type": "code",
   "execution_count": null,
   "id": "fdd929c7-8d2d-4886-a4e8-73f7ac47e998",
   "metadata": {
    "ExecuteTime": {
     "end_time": "2017-12-08T04:21:41.263112Z",
     "start_time": "2017-12-08T04:21:41.258Z"
    }
   },
   "outputs": [],
   "source": [
    "# get count of rows...\n",
    "testRowCount <- nrow( testDataDF )\n",
    "paste( \"test row count = \", testRowCount, sep = \"\" )\n",
    "\n",
    "# ...and columns\n",
    "testColumnCount <- ncol( testDataDF )\n",
    "paste( \"test column count = \", testColumnCount, sep = \"\" )"
   ]
  },
  {
   "cell_type": "markdown",
   "id": "83c8716b-be6a-4210-a112-7aeae2a59deb",
   "metadata": {},
   "source": [
    "Get just the tie rows and columns for initializing network libraries."
   ]
  },
  {
   "cell_type": "code",
   "execution_count": null,
   "id": "b168ff29-f64b-43a6-9497-09333f207f0a",
   "metadata": {
    "ExecuteTime": {
     "end_time": "2017-12-08T04:21:44.032913Z",
     "start_time": "2017-12-08T04:21:44.037Z"
    }
   },
   "outputs": [],
   "source": [
    "# the below syntax returns only as many columns as there are rows, so\n",
    "#     omitting any trait columns that lie in columns on the right side\n",
    "#     of the file.\n",
    "testNetworkDF <- testDataDF[ , 1 : testRowCount ]\n",
    "#str( testNetworkDF )"
   ]
  },
  {
   "cell_type": "code",
   "execution_count": null,
   "id": "54d55e1b-1c45-4a06-b150-f872f66ae804",
   "metadata": {
    "ExecuteTime": {
     "end_time": "2017-12-08T04:21:45.730944Z",
     "start_time": "2017-12-08T04:21:45.730Z"
    }
   },
   "outputs": [],
   "source": [
    "# convert to a matrix\n",
    "testNetworkMatrix <- as.matrix( testNetworkDF )\n",
    "# str( testNetworkMatrix )"
   ]
  },
  {
   "cell_type": "markdown",
   "id": "52bc9b94-7db0-483e-9cca-7559d7b2b076",
   "metadata": {},
   "source": [
    "### `test` - initialize statnet\n",
    "\n",
    "- Back to [Table of Contents](#Table-of-Contents)\n",
    "\n",
    "First, load the statnet package, then load the automated grp_month data into statnet object and assign attributes to nodes.\n",
    "\n",
    "Based on `context_text/R/sna/statnet/sna-statnet-init.r`."
   ]
  },
  {
   "cell_type": "code",
   "execution_count": null,
   "id": "fbf9763f-2b29-4a50-b2c3-de436b5bc169",
   "metadata": {
    "ExecuteTime": {
     "end_time": "2017-12-08T04:21:51.864666Z",
     "start_time": "2017-12-08T04:21:48.771Z"
    }
   },
   "outputs": [],
   "source": [
    "# make sure you've loaded the statnet library\n",
    "#install.packages( \"statnet\" )\n",
    "library( statnet )"
   ]
  },
  {
   "cell_type": "code",
   "execution_count": null,
   "id": "e6c1c8f5-fbb5-47fc-9572-6e6f7e583066",
   "metadata": {
    "ExecuteTime": {
     "end_time": "2017-12-08T04:21:58.264741Z",
     "start_time": "2017-12-08T04:21:57.687Z"
    }
   },
   "outputs": [],
   "source": [
    "# If you have a data frame of attributes (each attribute is a column, with\n",
    "#     attribute name the column name), you can associate those attributes\n",
    "#     when you create the network.\n",
    "# attribute help: http://www.inside-r.org/packages/cran/network/docs/loading.attributes\n",
    "\n",
    "# load attributes from a file:\n",
    "#tab_attribute_test1 <- read.delim( \"tab-test1-attribute_data.txt\", header = TRUE, row.names = 1, check.names = FALSE )\n",
    "\n",
    "# or create DataFrame by just grabbing the attribute columns\n",
    "testNetworkAttributeDF <- testDataDF[ , ( testColumnCount - 1 ) : testColumnCount ]\n",
    "\n",
    "# convert matrix to statnet network object instance.\n",
    "testNetworkStatnet <- network( testNetworkMatrix, matrix.type = \"adjacency\", directed = FALSE, vertex.attr = testNetworkAttributeDF )\n",
    "\n",
    "# look at information now.\n",
    "testNetworkStatnet\n",
    "\n",
    "# Network attributes:\n",
    "#  vertices = 314\n",
    "#  directed = FALSE\n",
    "#  hyper = FALSE\n",
    "#  loops = FALSE\n",
    "#  multiple = FALSE\n",
    "#  bipartite = FALSE\n",
    "#  total edges= 309\n",
    "#    missing edges= 0\n",
    "#    non-missing edges= 309\n",
    "#\n",
    "# Vertex attribute names:\n",
    "#    person_type vertex.names\n",
    "#\n",
    "# No edge attributes\n"
   ]
  },
  {
   "cell_type": "markdown",
   "id": "03b8642f-c1c3-49e9-8e1c-31f62d21c667",
   "metadata": {},
   "source": [
    "### `test` - Basic metrics\n",
    "\n",
    "- Back to [Table of Contents](#Table-of-Contents)"
   ]
  },
  {
   "cell_type": "code",
   "execution_count": null,
   "id": "7b90fe9e-9527-40d1-b504-47703fc9b420",
   "metadata": {
    "ExecuteTime": {
     "end_time": "2017-12-08T04:22:04.538822Z",
     "start_time": "2017-12-08T04:22:04.517Z"
    }
   },
   "outputs": [],
   "source": [
    "# assuming that our statnet network object is in reference test1_statnet.\n",
    "\n",
    "# Use the degree function in the sna package to create vector of degree values\n",
    "#    for each node.  Make sure to pass the gmode parameter to tell it that the\n",
    "#    graph is not directed (gmode = \"graph\", instead of \"digraph\").\n",
    "# Doc: http://www.inside-r.org/packages/cran/sna/docs/degree\n",
    "#degree_vector <- degree( test1_statnet, gmode = \"graph\" )\n",
    "\n",
    "# If you have other libraries loaded that also implement a degree function, you\n",
    "#    can also call this with package name:\n",
    "testDegreeVector <- sna::degree( testNetworkStatnet, gmode = \"graph\" )\n",
    "\n",
    "# output the vector\n",
    "#testDegreeVector\n",
    "\n",
    "# want more info on the degree function?  You can get to it eventually through\n",
    "#    the following:\n",
    "#help( package = \"sna\" )\n",
    "#??sna::degree\n",
    "\n",
    "# what is the average (mean) degree?\n",
    "testAvgDegree <- mean( testDegreeVector )\n",
    "paste( \"average degree = \", testAvgDegree, sep = \"\" )\n",
    "\n",
    "# subset vector to get only those that are above mean\n",
    "testAboveMeanVector <- testDegreeVector[ testDegreeVector > testAvgDegree ]\n",
    "\n",
    "# Take the degree and associate it with each node as a node attribute.\n",
    "#    (%v% is a shortcut for the get.vertex.attribute command)\n",
    "testNetworkStatnet %v% \"degree\" <- testDegreeVector\n",
    "\n",
    "# also add degree vector to original data frame\n",
    "testDataDF$degree <- testDegreeVector\n"
   ]
  },
  {
   "cell_type": "code",
   "execution_count": null,
   "id": "90d5e4a9-fbc3-4344-9e07-b3373afa0032",
   "metadata": {
    "ExecuteTime": {
     "end_time": "2017-12-08T04:22:06.585819Z",
     "start_time": "2017-12-08T04:22:06.365Z"
    }
   },
   "outputs": [],
   "source": [
    "# average author degree (person types 2 and 4)\n",
    "testAverageAuthorDegree2And4 <- calcAuthorMeanDegree( dataFrameIN = testDataDF, includeBothIN = TRUE )\n",
    "paste( \"average author degree (2 and 4) = \", testAverageAuthorDegree2And4, sep = \"\" )\n",
    "\n",
    "# average author degree (person type 2 only)\n",
    "testAverageAuthorDegreeOnly2 <- calcAuthorMeanDegree( dataFrameIN = testDataDF, includeBothIN = FALSE )\n",
    "paste( \"average author degree (only 2) = \", testAverageAuthorDegreeOnly2, sep = \"\" )\n",
    "\n",
    "# average source degree (person types 3 and 4)\n",
    "testAverageSourceDegree3And4 <- calcSourceMeanDegree( dataFrameIN = testDataDF, includeBothIN = TRUE )\n",
    "paste( \"average source degree (3 and 4) = \", testAverageSourceDegree3And4, sep = \"\" )\n",
    "\n",
    "# average source degree (person type 3 only)\n",
    "testAverageSourceDegreeOnly3 <- calcSourceMeanDegree( dataFrameIN = testDataDF, includeBothIN = FALSE )\n",
    "paste( \"average source degree (only 3) = \", testAverageSourceDegreeOnly3, sep = \"\" )\n"
   ]
  },
  {
   "cell_type": "markdown",
   "id": "c81eb96e-7fd1-43de-baa7-7bf8251c81df",
   "metadata": {},
   "source": [
    "### `test` - More metrics\n",
    "\n",
    "- Back to [Table of Contents](#Table-of-Contents)\n",
    "\n",
    "Now that we have the data in statnet object, run the code in the following for more in-depth information:\n",
    "\n",
    "* `context_text/R/sna/statnet/sna-statnet-network-stats.r`"
   ]
  },
  {
   "cell_type": "code",
   "execution_count": null,
   "id": "7cc6a1b7-4273-4332-a269-d5651b81471b",
   "metadata": {
    "ExecuteTime": {
     "end_time": "2017-12-08T04:22:10.631237Z",
     "start_time": "2017-12-08T04:22:09.004Z"
    }
   },
   "outputs": [],
   "source": [
    "# Links:\n",
    "# - manual (PDF): http://cran.r-project.org/web/packages/sna/sna.pdf\n",
    "# - good notes: http://www.shizukalab.com/toolkits/sna/node-level-calculations\n",
    "\n",
    "# Also, be advised that statnet and igraph don't really play nice together.\n",
    "#    If you'll be using both, best idea is to have a workspace for each.\n",
    "\n",
    "#==============================================================================#\n",
    "# statnet\n",
    "#==============================================================================#\n",
    "\n",
    "# make sure you've loaded the statnet library (includes sna)\n",
    "# install.packages( \"statnet\" )\n",
    "#library( statnet )\n",
    "\n",
    "#==============================================================================#\n",
    "# NODE level\n",
    "#==============================================================================#\n",
    "\n",
    "# what is the standard deviation of the degrees?\n",
    "testDegreeSd <- sd( testDegreeVector )\n",
    "paste( \"degree SD = \", testDegreeSd, sep = \"\" )\n",
    "\n",
    "# what is the variance of the degrees?\n",
    "testDegreeVar <- var( testDegreeVector )\n",
    "paste( \"degree variance = \", testDegreeVar, sep = \"\" )\n",
    "\n",
    "# what is the max value among the degrees?\n",
    "testDegreeMax <- max( testDegreeVector )\n",
    "paste( \"degree max = \", testDegreeMax, sep = \"\" )\n",
    "\n",
    "# calculate and plot degree distributions\n",
    "testDegreeFrequenciesTable <- table( testDegreeVector )\n",
    "paste( \"degree frequencies = \", testDegreeFrequenciesTable, sep = \"\" )\n",
    "testDegreeFrequenciesTable\n",
    "\n",
    "# node-level undirected betweenness\n",
    "testBetweenness <- sna::betweenness( testNetworkStatnet, gmode = \"graph\", cmode = \"undirected\" )\n",
    "\n",
    "#paste( \"betweenness = \", testBetweenness, sep = \"\" )\n",
    "# associate with each node as a node attribute.\n",
    "#    (%v% is a shortcut for the get.vertex.attribute command)\n",
    "testNetworkStatnet %v% \"betweenness\" <- testBetweenness\n",
    "\n",
    "# also add degree vector to original data frame\n",
    "testDataDF$betweenness <- testBetweenness\n",
    "\n",
    "#==============================================================================#\n",
    "# NETWORK level\n",
    "#==============================================================================#\n",
    "\n",
    "# graph-level degree centrality\n",
    "testDegreeCentrality <- sna::centralization( testNetworkStatnet, sna::degree, mode = \"graph\" )\n",
    "paste( \"degree centrality = \", testDegreeCentrality, sep = \"\" )\n",
    "\n",
    "# graph-level betweenness centrality\n",
    "testBetweennessCentrality <- sna::centralization( testNetworkStatnet, sna::betweenness, mode = \"graph\", cmode = \"undirected\" )\n",
    "paste( \"betweenness centrality = \", testBetweennessCentrality, sep = \"\" )\n",
    "\n",
    "# graph-level connectedness\n",
    "testConnectedness <- sna::connectedness( testNetworkStatnet )\n",
    "paste( \"connectedness = \", testConnectedness, sep = \"\" )\n",
    "\n",
    "# graph-level transitivity\n",
    "testTransitivity <- sna::gtrans( testNetworkStatnet, mode = \"graph\" )\n",
    "paste( \"transitivity = \", testTransitivity, sep = \"\" )\n",
    "\n",
    "# graph-level density\n",
    "testDensity <- sna::gden( testNetworkStatnet, mode = \"graph\" )\n",
    "paste( \"density = \", testDensity, sep = \"\" )\n"
   ]
  },
  {
   "cell_type": "markdown",
   "id": "e4b09fe5-f13a-4458-a355-c34cfbc8d356",
   "metadata": {},
   "source": [
    "### `test` - create node attribute DataFrame\n",
    "\n",
    "- Back to [Table of Contents](#Table-of-Contents)\n",
    "\n",
    "If you want to just work with the traits of the nodes/vertexes, you can combine the attribute vectors into a data frame."
   ]
  },
  {
   "cell_type": "code",
   "execution_count": null,
   "id": "9608a077-17e4-4445-863e-50d4fb8e4256",
   "metadata": {
    "ExecuteTime": {
     "end_time": "2017-12-08T04:22:13.361451Z",
     "start_time": "2017-12-08T04:22:13.284Z"
    },
    "scrolled": true
   },
   "outputs": [],
   "source": [
    "#==============================================================================#\n",
    "# output attributes to data frame\n",
    "#==============================================================================#\n",
    "\n",
    "# if you want to just work with the traits of the nodes/vertexes, you can\n",
    "#    combine the attribute vectors into a data frame.\n",
    "\n",
    "# first, output network object to see what attributes you have\n",
    "testNetworkStatnet\n",
    "\n",
    "# then, combine them into a data frame.\n",
    "testNodeAttrDF <- data.frame( id = testNetworkStatnet %v% \"vertex.names\",\n",
    "                                     person_id = testNetworkStatnet %v% \"person_id\",\n",
    "                                     person_type = testNetworkStatnet %v% \"person_type\",\n",
    "                                     degree = testNetworkStatnet %v% \"degree\",\n",
    "                                     betweenness = testNetworkStatnet %v% \"betweenness\" )\n"
   ]
  },
  {
   "cell_type": "markdown",
   "id": "2112c254-27a1-4f90-938c-fc104f9c10fc",
   "metadata": {},
   "source": [
    "## Appendix - QAP network correlation"
   ]
  },
  {
   "cell_type": "markdown",
   "id": "a14fb04a-1e22-4183-9345-0f3c00e4fed2",
   "metadata": {},
   "source": [
    "### Load matrix 1 - before"
   ]
  },
  {
   "cell_type": "code",
   "execution_count": null,
   "id": "9cec41eb-33e9-4b6c-b683-adcfe40249f8",
   "metadata": {
    "ExecuteTime": {
     "end_time": "2017-12-08T04:21:23.765124Z",
     "start_time": "2017-12-08T04:21:23.768Z"
    }
   },
   "outputs": [],
   "source": [
    "# initialize variables\n",
    "beforeDataFolder <- data_directory\n",
    "beforeDataFile <- \"grp_6mos_by_month_2006-06-09_pre-20220604-044842.tab\"\n",
    "beforeDataPath <- paste( beforeDataFolder, \"/\", beforeDataFile, sep = \"\" )"
   ]
  },
  {
   "cell_type": "code",
   "execution_count": null,
   "id": "d631fd4d-ff68-4cfe-81ef-3821b56f24e8",
   "metadata": {
    "ExecuteTime": {
     "end_time": "2017-12-08T04:21:34.192082Z",
     "start_time": "2017-12-08T04:21:34.195Z"
    }
   },
   "outputs": [],
   "source": [
    "beforeDataPath"
   ]
  },
  {
   "cell_type": "markdown",
   "id": "d30a6f73-04dc-45fe-a53c-72c21979972f",
   "metadata": {},
   "source": [
    "Load the data file into memory"
   ]
  },
  {
   "cell_type": "code",
   "execution_count": null,
   "id": "2c9bbd41-b90f-4d46-9cfa-78fcaca712a8",
   "metadata": {
    "ExecuteTime": {
     "end_time": "2017-12-08T04:21:39.543163Z",
     "start_time": "2017-12-08T04:21:39.041Z"
    }
   },
   "outputs": [],
   "source": [
    "# tab-delimited:\n",
    "beforeDataDF <- read.delim( beforeDataPath, header = TRUE, row.names = 1, check.names = FALSE )"
   ]
  },
  {
   "cell_type": "code",
   "execution_count": null,
   "id": "9825946d-4417-4e44-b4b7-7f2e4674bf45",
   "metadata": {
    "ExecuteTime": {
     "end_time": "2017-12-08T04:21:41.263112Z",
     "start_time": "2017-12-08T04:21:41.258Z"
    }
   },
   "outputs": [],
   "source": [
    "# get count of rows...\n",
    "beforeRowCount <- nrow( beforeDataDF )\n",
    "paste( \"before row count = \", beforeRowCount, sep = \"\" )\n",
    "\n",
    "# ...and columns\n",
    "beforeColumnCount <- ncol( beforeDataDF )\n",
    "paste( \"before column count = \", beforeColumnCount, sep = \"\" )"
   ]
  },
  {
   "cell_type": "markdown",
   "id": "ada2e8c7-6236-4b9c-ae79-cb6c809bf4ad",
   "metadata": {},
   "source": [
    "Get just the tie rows and columns for initializing network libraries."
   ]
  },
  {
   "cell_type": "code",
   "execution_count": null,
   "id": "6a4cfcfc-8c09-4a07-82db-dc8ea262a4a2",
   "metadata": {
    "ExecuteTime": {
     "end_time": "2017-12-08T04:21:44.032913Z",
     "start_time": "2017-12-08T04:21:44.037Z"
    }
   },
   "outputs": [],
   "source": [
    "# the below syntax returns only as many columns as there are rows, so\n",
    "#     omitting any trait columns that lie in columns on the right side\n",
    "#     of the file.\n",
    "beforeNetworkDF <- beforeDataDF[ , 1 : beforeRowCount ]\n",
    "#str( beforeNetworkDF )"
   ]
  },
  {
   "cell_type": "code",
   "execution_count": null,
   "id": "e52d8e84-13ad-48d4-b535-59dd8d4808f9",
   "metadata": {
    "ExecuteTime": {
     "end_time": "2017-12-08T04:21:45.730944Z",
     "start_time": "2017-12-08T04:21:45.730Z"
    }
   },
   "outputs": [],
   "source": [
    "# convert to a matrix\n",
    "beforeNetworkMatrix <- as.matrix( beforeNetworkDF )\n",
    "# str( beforeNetworkMatrix )"
   ]
  },
  {
   "cell_type": "markdown",
   "id": "4ed4dc28-d1af-46b4-92e3-29db9617b06b",
   "metadata": {},
   "source": [
    "### Load matrix 2 - after"
   ]
  },
  {
   "cell_type": "code",
   "execution_count": null,
   "id": "b2650686-100f-427a-bc4f-9129db21c3f4",
   "metadata": {
    "ExecuteTime": {
     "end_time": "2017-12-08T04:21:23.765124Z",
     "start_time": "2017-12-08T04:21:23.768Z"
    }
   },
   "outputs": [],
   "source": [
    "# initialize variables\n",
    "afterDataFolder <- data_directory\n",
    "afterDataFile <- \"grp_6mos_by_month_2006-06-09_post-20220604-045115.tab\"\n",
    "afterDataPath <- paste( afterDataFolder, \"/\", afterDataFile, sep = \"\" )"
   ]
  },
  {
   "cell_type": "code",
   "execution_count": null,
   "id": "44ac475e-c63a-4cf3-8243-30817d0d8942",
   "metadata": {
    "ExecuteTime": {
     "end_time": "2017-12-08T04:21:34.192082Z",
     "start_time": "2017-12-08T04:21:34.195Z"
    }
   },
   "outputs": [],
   "source": [
    "afterDataPath"
   ]
  },
  {
   "cell_type": "markdown",
   "id": "16cacfa7-9a1d-4c24-94b9-85f7f78e3c8f",
   "metadata": {},
   "source": [
    "Load the data file into memory"
   ]
  },
  {
   "cell_type": "code",
   "execution_count": null,
   "id": "f49b9e31-401e-4288-94ad-7164f067d004",
   "metadata": {
    "ExecuteTime": {
     "end_time": "2017-12-08T04:21:39.543163Z",
     "start_time": "2017-12-08T04:21:39.041Z"
    }
   },
   "outputs": [],
   "source": [
    "# tab-delimited:\n",
    "afterDataDF <- read.delim( afterDataPath, header = TRUE, row.names = 1, check.names = FALSE )"
   ]
  },
  {
   "cell_type": "code",
   "execution_count": null,
   "id": "2bcc214b-0297-480a-b5bc-d7959c2b9ef5",
   "metadata": {
    "ExecuteTime": {
     "end_time": "2017-12-08T04:21:41.263112Z",
     "start_time": "2017-12-08T04:21:41.258Z"
    }
   },
   "outputs": [],
   "source": [
    "# get count of rows...\n",
    "afterRowCount <- nrow(afterDataDF )\n",
    "paste( \"after row count = \", afterRowCount, sep = \"\" )\n",
    "\n",
    "# ...and columns\n",
    "afterColumnCount <- ncol( afterDataDF )\n",
    "paste( \"after column count = \", afterColumnCount, sep = \"\" )"
   ]
  },
  {
   "cell_type": "markdown",
   "id": "021b7677-c4c8-4636-b3a9-c780a87b59ef",
   "metadata": {},
   "source": [
    "Get just the tie rows and columns for initializing network libraries."
   ]
  },
  {
   "cell_type": "code",
   "execution_count": null,
   "id": "139f89ec-06b5-4d03-8614-d8bac81636f1",
   "metadata": {
    "ExecuteTime": {
     "end_time": "2017-12-08T04:21:44.032913Z",
     "start_time": "2017-12-08T04:21:44.037Z"
    }
   },
   "outputs": [],
   "source": [
    "# the below syntax returns only as many columns as there are rows, so\n",
    "#     omitting any trait columns that lie in columns on the right side\n",
    "#     of the file.\n",
    "afterNetworkDF <- afterDataDF[ , 1 : afterRowCount ]\n",
    "#str( afterNetworkDF )"
   ]
  },
  {
   "cell_type": "code",
   "execution_count": null,
   "id": "d33ca34b-fe7d-4f89-93e8-7bc85bdfff51",
   "metadata": {
    "ExecuteTime": {
     "end_time": "2017-12-08T04:21:45.730944Z",
     "start_time": "2017-12-08T04:21:45.730Z"
    }
   },
   "outputs": [],
   "source": [
    "# convert to a matrix\n",
    "afterNetworkMatrix <- as.matrix( afterNetworkDF )\n",
    "# str( afterNetworkMatrix )"
   ]
  },
  {
   "cell_type": "markdown",
   "id": "bdd7acca-9ea5-4cc3-8e83-f13d195a0716",
   "metadata": {
    "tags": []
   },
   "source": [
    "### run QAP correlation"
   ]
  },
  {
   "cell_type": "code",
   "execution_count": null,
   "id": "3136de3e-c897-4d94-965f-d9e7dd6bf028",
   "metadata": {
    "ExecuteTime": {
     "end_time": "2019-07-25T03:44:07.301263Z",
     "start_time": "2019-07-25T02:30:07.664Z"
    }
   },
   "outputs": [],
   "source": [
    "#outputPrefix <- \"years_before_to_after_layoffs\"\n",
    "outputPrefix <- \"six_month_test\""
   ]
  },
  {
   "cell_type": "code",
   "execution_count": null,
   "id": "ecee5371-c83f-4be9-9935-e7cd6826990c",
   "metadata": {
    "ExecuteTime": {
     "end_time": "2019-07-25T03:52:58.183174Z",
     "start_time": "2019-07-25T02:30:11.153Z"
    }
   },
   "outputs": [],
   "source": [
    "beforeToAfterLayoffOutput <- compareMatricesQAP( beforeNetworkMatrix, afterNetworkMatrix, outputPrefix, doQapIN = FALSE )\n",
    "#beforeToAfterLayoffOutput <- compareMatricesQAP( beforeNetworkMatrix, afterNetworkMatrix, outputPrefix, repsIN = 10 )"
   ]
  },
  {
   "cell_type": "code",
   "execution_count": null,
   "id": "a87d8e44-244f-49f7-b224-13ad3aa64368",
   "metadata": {},
   "outputs": [],
   "source": [
    "# also output plots of distributions of QAP values?\n",
    "displayCompareMatricesQAPOutput( beforeToAfterLayoffOutput, outputPrefix, TRUE )"
   ]
  }
 ],
 "metadata": {
  "kernelspec": {
   "display_name": "R",
   "language": "R",
   "name": "ir"
  },
  "language_info": {
   "codemirror_mode": "r",
   "file_extension": ".r",
   "mimetype": "text/x-r-source",
   "name": "R",
   "pygments_lexer": "r",
   "version": "4.2.0"
  },
  "toc-autonumbering": true
 },
 "nbformat": 4,
 "nbformat_minor": 5
}
