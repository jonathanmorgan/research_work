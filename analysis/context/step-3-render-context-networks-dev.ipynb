{
 "cells": [
  {
   "cell_type": "markdown",
   "metadata": {
    "toc": true
   },
   "source": [
    "<h1>Table of Contents<span class=\"tocSkip\"></span></h1>\n",
    "<div class=\"toc\"><ul class=\"toc-item\"><li><span><a href=\"#notes-and-questions\" data-toc-modified-id=\"notes-and-questions-1\"><span class=\"toc-item-num\">1&nbsp;&nbsp;</span>notes and questions</a></span></li><li><span><a href=\"#Setup\" data-toc-modified-id=\"Setup-2\"><span class=\"toc-item-num\">2&nbsp;&nbsp;</span>Setup</a></span><ul class=\"toc-item\"><li><span><a href=\"#Setup---Debug\" data-toc-modified-id=\"Setup---Debug-2.1\"><span class=\"toc-item-num\">2.1&nbsp;&nbsp;</span>Setup - Debug</a></span></li><li><span><a href=\"#Setup---Imports\" data-toc-modified-id=\"Setup---Imports-2.2\"><span class=\"toc-item-num\">2.2&nbsp;&nbsp;</span>Setup - Imports</a></span></li><li><span><a href=\"#Setup---working-folder-paths\" data-toc-modified-id=\"Setup---working-folder-paths-2.3\"><span class=\"toc-item-num\">2.3&nbsp;&nbsp;</span>Setup - working folder paths</a></span></li><li><span><a href=\"#Setup---logging\" data-toc-modified-id=\"Setup---logging-2.4\"><span class=\"toc-item-num\">2.4&nbsp;&nbsp;</span>Setup - logging</a></span></li><li><span><a href=\"#Setup---virtualenv-jupyter-kernel\" data-toc-modified-id=\"Setup---virtualenv-jupyter-kernel-2.5\"><span class=\"toc-item-num\">2.5&nbsp;&nbsp;</span>Setup - virtualenv jupyter kernel</a></span></li><li><span><a href=\"#Setup---Initialize-Django\" data-toc-modified-id=\"Setup---Initialize-Django-2.6\"><span class=\"toc-item-num\">2.6&nbsp;&nbsp;</span>Setup - Initialize Django</a></span></li><li><span><a href=\"#Setup---Initialize-LoggingHelper\" data-toc-modified-id=\"Setup---Initialize-LoggingHelper-2.7\"><span class=\"toc-item-num\">2.7&nbsp;&nbsp;</span>Setup - Initialize LoggingHelper</a></span></li></ul></li><li><span><a href=\"#Render-network-data\" data-toc-modified-id=\"Render-network-data-3\"><span class=\"toc-item-num\">3&nbsp;&nbsp;</span>Render network data</a></span><ul class=\"toc-item\"><li><span><a href=\"#Specify-filter-criteria\" data-toc-modified-id=\"Specify-filter-criteria-3.1\"><span class=\"toc-item-num\">3.1&nbsp;&nbsp;</span>Specify filter criteria</a></span><ul class=\"toc-item\"><li><span><a href=\"#Old-filter-criteria\" data-toc-modified-id=\"Old-filter-criteria-3.1.1\"><span class=\"toc-item-num\">3.1.1&nbsp;&nbsp;</span>Old filter criteria</a></span></li><li><span><a href=\"#JSON-files-of-filter-criteria-for-just-automated-coding\" data-toc-modified-id=\"JSON-files-of-filter-criteria-for-just-automated-coding-3.1.2\"><span class=\"toc-item-num\">3.1.2&nbsp;&nbsp;</span>JSON files of filter criteria for just automated coding</a></span></li></ul></li><li><span><a href=\"#Context-network-output\" data-toc-modified-id=\"Context-network-output-3.2\"><span class=\"toc-item-num\">3.2&nbsp;&nbsp;</span>Context network output</a></span></li></ul></li><li><span><a href=\"#Network-output\" data-toc-modified-id=\"Network-output-4\"><span class=\"toc-item-num\">4&nbsp;&nbsp;</span>Network output</a></span><ul class=\"toc-item\"><li><span><a href=\"#Network-output---sourcenet-logic\" data-toc-modified-id=\"Network-output---sourcenet-logic-4.1\"><span class=\"toc-item-num\">4.1&nbsp;&nbsp;</span>Network output - sourcenet logic</a></span><ul class=\"toc-item\"><li><span><a href=\"#Network-output---sourcenet-logic---NetworkOutput\" data-toc-modified-id=\"Network-output---sourcenet-logic---NetworkOutput-4.1.1\"><span class=\"toc-item-num\">4.1.1&nbsp;&nbsp;</span>Network output - sourcenet logic - NetworkOutput</a></span></li><li><span><a href=\"#Network-output---sourcenet-logic---NetworkDataOutput\" data-toc-modified-id=\"Network-output---sourcenet-logic---NetworkDataOutput-4.1.2\"><span class=\"toc-item-num\">4.1.2&nbsp;&nbsp;</span>Network output - sourcenet logic - NetworkDataOutput</a></span></li></ul></li><li><span><a href=\"#Network-output---context-logic\" data-toc-modified-id=\"Network-output---context-logic-4.2\"><span class=\"toc-item-num\">4.2&nbsp;&nbsp;</span>Network output - context logic</a></span><ul class=\"toc-item\"><li><span><a href=\"#Network-output---context-logic---NetworkOutput\" data-toc-modified-id=\"Network-output---context-logic---NetworkOutput-4.2.1\"><span class=\"toc-item-num\">4.2.1&nbsp;&nbsp;</span>Network output - context logic - NetworkOutput</a></span></li><li><span><a href=\"#Network-output---context-logic---NetworkDataOutput\" data-toc-modified-id=\"Network-output---context-logic---NetworkDataOutput-4.2.2\"><span class=\"toc-item-num\">4.2.2&nbsp;&nbsp;</span>Network output - context logic - NetworkDataOutput</a></span></li></ul></li><li><span><a href=\"#Context-network-output-test-code\" data-toc-modified-id=\"Context-network-output-test-code-4.3\"><span class=\"toc-item-num\">4.3&nbsp;&nbsp;</span>Context network output test code</a></span></li><li><span><a href=\"#Building-Unit-Tests\" data-toc-modified-id=\"Building-Unit-Tests-4.4\"><span class=\"toc-item-num\">4.4&nbsp;&nbsp;</span>Building Unit Tests</a></span><ul class=\"toc-item\"><li><span><a href=\"#unit-test---relation-type-role-value-lists\" data-toc-modified-id=\"unit-test---relation-type-role-value-lists-4.4.1\"><span class=\"toc-item-num\">4.4.1&nbsp;&nbsp;</span>unit test - relation type role value lists</a></span><ul class=\"toc-item\"><li><span><a href=\"#unit-test---relation-type-role-value-lists---BASIC\" data-toc-modified-id=\"unit-test---relation-type-role-value-lists---BASIC-4.4.1.1\"><span class=\"toc-item-num\">4.4.1.1&nbsp;&nbsp;</span>unit test - relation type role value lists - BASIC</a></span></li><li><span><a href=\"#unit-test---relation-type-role-value-lists---ENTITY_SELECTION\" data-toc-modified-id=\"unit-test---relation-type-role-value-lists---ENTITY_SELECTION-4.4.1.2\"><span class=\"toc-item-num\">4.4.1.2&nbsp;&nbsp;</span>unit test - relation type role value lists - ENTITY_SELECTION</a></span></li></ul></li></ul></li></ul></li><li><span><a href=\"#TODO-and-DONE\" data-toc-modified-id=\"TODO-and-DONE-5\"><span class=\"toc-item-num\">5&nbsp;&nbsp;</span>TODO and DONE</a></span><ul class=\"toc-item\"><li><span><a href=\"#DONE---TODO---Network-data-creation\" data-toc-modified-id=\"DONE---TODO---Network-data-creation-5.1\"><span class=\"toc-item-num\">5.1&nbsp;&nbsp;</span>DONE - TODO - Network data creation</a></span><ul class=\"toc-item\"><li><span><a href=\"#DONE---TODO---Network-data-creation---framework\" data-toc-modified-id=\"DONE---TODO---Network-data-creation---framework-5.1.1\"><span class=\"toc-item-num\">5.1.1&nbsp;&nbsp;</span>DONE - TODO - Network data creation - framework</a></span></li><li><span><a href=\"#DONE---TODO---Network-data-creation---testing\" data-toc-modified-id=\"DONE---TODO---Network-data-creation---testing-5.1.2\"><span class=\"toc-item-num\">5.1.2&nbsp;&nbsp;</span>DONE - TODO - Network data creation - testing</a></span></li></ul></li><li><span><a href=\"#DONE---TODO---general\" data-toc-modified-id=\"DONE---TODO---general-5.2\"><span class=\"toc-item-num\">5.2&nbsp;&nbsp;</span>DONE - TODO - general</a></span></li></ul></li></ul></div>"
   ]
  },
  {
   "cell_type": "markdown",
   "metadata": {},
   "source": [
    "# notes and questions\n",
    "\n",
    "- Back to [Table of Contents](#Table-of-Contents)\n",
    "\n",
    "Notes:\n",
    "\n",
    "- probably will need a class that is an Article_Data container - reference to Article_Data, and then all the logic to process the entities and relations contained within.\n",
    "\n",
    "Questions:\n",
    "\n",
    "- Do we want an Identifier Type separate from Entity and Relation identifiers?  I think we do, so we can specify the entity type(s) a given identifier should be used on.\n",
    "\n",
    "    - Created abstract one, and created a concrete entity identifier type.  Will create one for relation identifiers if needed."
   ]
  },
  {
   "cell_type": "markdown",
   "metadata": {},
   "source": [
    "# Setup\n",
    "\n",
    "- Back to [Table of Contents](#Table-of-Contents)"
   ]
  },
  {
   "cell_type": "code",
   "execution_count": 1,
   "metadata": {
    "ExecuteTime": {
     "end_time": "2020-05-07T22:29:14.984964Z",
     "start_time": "2020-05-07T22:29:14.981024Z"
    }
   },
   "outputs": [],
   "source": [
    "me = \"render-context-networks-dev\""
   ]
  },
  {
   "cell_type": "markdown",
   "metadata": {},
   "source": [
    "## Setup - Debug\n",
    "\n",
    "- Back to [Table of Contents](#Table-of-Contents)"
   ]
  },
  {
   "cell_type": "code",
   "execution_count": 2,
   "metadata": {
    "ExecuteTime": {
     "end_time": "2020-05-07T22:29:17.290240Z",
     "start_time": "2020-05-07T22:29:17.284569Z"
    }
   },
   "outputs": [],
   "source": [
    "debug_flag = False"
   ]
  },
  {
   "cell_type": "markdown",
   "metadata": {},
   "source": [
    "## Setup - Imports\n",
    "\n",
    "- Back to [Table of Contents](#Table-of-Contents)"
   ]
  },
  {
   "cell_type": "code",
   "execution_count": 3,
   "metadata": {
    "ExecuteTime": {
     "end_time": "2020-05-07T22:29:18.530990Z",
     "start_time": "2020-05-07T22:29:18.351993Z"
    }
   },
   "outputs": [],
   "source": [
    "import datetime\n",
    "from django.db.models import Avg, Max, Min, Q\n",
    "from django.utils.text import slugify\n",
    "import json\n",
    "import logging\n",
    "import six"
   ]
  },
  {
   "cell_type": "markdown",
   "metadata": {},
   "source": [
    "## Setup - working folder paths\n",
    "\n",
    "- Back to [Table of Contents](#Table-of-Contents)"
   ]
  },
  {
   "cell_type": "code",
   "execution_count": 4,
   "metadata": {
    "ExecuteTime": {
     "end_time": "2020-05-07T22:29:21.615303Z",
     "start_time": "2020-05-07T22:29:21.603727Z"
    }
   },
   "outputs": [
    {
     "data": {
      "text/plain": [
       "'/home/jonathanmorgan/work/django/research/work/phd_work/analysis'"
      ]
     },
     "execution_count": 4,
     "metadata": {},
     "output_type": "execute_result"
    }
   ],
   "source": [
    "%pwd"
   ]
  },
  {
   "cell_type": "code",
   "execution_count": 5,
   "metadata": {
    "ExecuteTime": {
     "end_time": "2020-05-07T22:29:22.314740Z",
     "start_time": "2020-05-07T22:29:22.310657Z"
    }
   },
   "outputs": [],
   "source": [
    "# current working folder\n",
    "current_working_folder = \"/home/jonathanmorgan/work/django/research/work/phd_work/analysis\"\n",
    "current_datetime = datetime.datetime.now()\n",
    "current_date_string = current_datetime.strftime( \"%Y-%m-%d-%H-%M-%S\" )"
   ]
  },
  {
   "cell_type": "markdown",
   "metadata": {},
   "source": [
    "## Setup - logging\n",
    "\n",
    "- Back to [Table of Contents](#Table-of-Contents)\n",
    "\n",
    "configure logging for this notebook's kernel (If you do not run this cell, you'll get the django application's logging configuration."
   ]
  },
  {
   "cell_type": "code",
   "execution_count": 6,
   "metadata": {
    "ExecuteTime": {
     "end_time": "2020-05-07T22:29:24.141086Z",
     "start_time": "2020-05-07T22:29:24.133225Z"
    }
   },
   "outputs": [
    {
     "name": "stdout",
     "output_type": "stream",
     "text": [
      "Logging initialized, to /home/jonathanmorgan/work/django/research/work/phd_work/analysis/logs/render-context-networks-dev-2020-05-07-22-29-22.log.txt\n"
     ]
    }
   ],
   "source": [
    "logging_file_name = \"{}/logs/{}-{}.log.txt\".format( current_working_folder, me, current_date_string )\n",
    "logging.basicConfig(\n",
    "    level = logging.DEBUG,\n",
    "    format = '%(asctime)s - %(levelname)s - %(name)s - %(message)s',\n",
    "    filename = logging_file_name,\n",
    "    filemode = 'w' # set to 'a' if you want to append, rather than overwrite each time.\n",
    ")\n",
    "print( \"Logging initialized, to {}\".format( logging_file_name ) )"
   ]
  },
  {
   "cell_type": "markdown",
   "metadata": {},
   "source": [
    "## Setup - virtualenv jupyter kernel\n",
    "\n",
    "- Back to [Table of Contents](#Table-of-Contents)\n",
    "\n",
    "If you are using a virtualenv, make sure that you:\n",
    "\n",
    "- have installed your virtualenv as a kernel.\n",
    "- choose the kernel for your virtualenv as the kernel for your notebook (Kernel --> Change kernel).\n",
    "\n",
    "Since I use a virtualenv, need to get that activated somehow inside this notebook.  One option is to run `../dev/wsgi.py` in this notebook, to configure the python environment manually as if you had activated the `sourcenet` virtualenv.  To do this, you'd make a code cell that contains:\n",
    "\n",
    "    %run ../dev/wsgi.py\n",
    "    \n",
    "This is sketchy, however, because of the changes it makes to your Python environment within the context of whatever your current kernel is.  I'd worry about collisions with the actual Python 3 kernel.  Better, one can install their virtualenv as a separate kernel.  Steps:\n",
    "\n",
    "- activate your virtualenv:\n",
    "\n",
    "        workon research\n",
    "\n",
    "- in your virtualenv, install the package `ipykernel`.\n",
    "\n",
    "        pip install ipykernel\n",
    "\n",
    "- use the ipykernel python program to install the current environment as a kernel:\n",
    "\n",
    "        python -m ipykernel install --user --name <env_name> --display-name \"<display_name>\"\n",
    "        \n",
    "    `sourcenet` example:\n",
    "    \n",
    "        python -m ipykernel install --user --name sourcenet --display-name \"research (Python 3)\"\n",
    "        \n",
    "More details: [http://ipython.readthedocs.io/en/stable/install/kernel_install.html](http://ipython.readthedocs.io/en/stable/install/kernel_install.html)"
   ]
  },
  {
   "cell_type": "markdown",
   "metadata": {},
   "source": [
    "## Setup - Initialize Django\n",
    "\n",
    "- Back to [Table of Contents](#Table-of-Contents)\n",
    "\n",
    "First, initialize my dev django project, so I can run code in this notebook that references my django models and can talk to the database using my project's settings."
   ]
  },
  {
   "cell_type": "code",
   "execution_count": 7,
   "metadata": {
    "ExecuteTime": {
     "end_time": "2020-05-07T22:29:26.593151Z",
     "start_time": "2020-05-07T22:29:26.585837Z"
    }
   },
   "outputs": [],
   "source": [
    "# init django\n",
    "django_init_folder = \"/home/jonathanmorgan/work/django/research/work/phd_work\"\n",
    "django_init_path = \"django_init.py\"\n",
    "if( ( django_init_folder is not None ) and ( django_init_folder != \"\" ) ):\n",
    "    \n",
    "    # add folder to front of path.\n",
    "    django_init_path = \"{}/{}\".format( django_init_folder, django_init_path )\n",
    "    \n",
    "#-- END check to see if django_init folder. --#"
   ]
  },
  {
   "cell_type": "code",
   "execution_count": 8,
   "metadata": {
    "ExecuteTime": {
     "end_time": "2020-05-07T22:29:29.055732Z",
     "start_time": "2020-05-07T22:29:27.373727Z"
    }
   },
   "outputs": [
    {
     "name": "stdout",
     "output_type": "stream",
     "text": [
      "django initialized at 2020-05-07 22:29:29.053293\n"
     ]
    }
   ],
   "source": [
    "%run $django_init_path"
   ]
  },
  {
   "cell_type": "code",
   "execution_count": 9,
   "metadata": {
    "ExecuteTime": {
     "end_time": "2020-05-07T22:29:29.124396Z",
     "start_time": "2020-05-07T22:29:29.058769Z"
    }
   },
   "outputs": [],
   "source": [
    "# context imports\n",
    "from context.export.network.filter_spec import FilterSpec\n",
    "from context.export.network.network_data_request import NetworkDataRequest\n",
    "from context.export.network.network_output import NetworkOutput\n",
    "from context.models import Entity\n",
    "from context.models import Entity_Identifier_Type\n",
    "from context.models import Entity_Identifier\n",
    "from context.models import Entity_Relation\n",
    "from context.models import Entity_Relation_Type\n",
    "from context.models import Entity_Type\n",
    "from context.shared.context_base import ContextBase\n",
    "from context.tests.export.network.test_helper import TestHelper\n",
    "from context.tests.export.network.test_NetworkDataOutput_class import NetworkDataOutputTest"
   ]
  },
  {
   "cell_type": "markdown",
   "metadata": {},
   "source": [
    "## Setup - Initialize LoggingHelper\n",
    "\n",
    "- Back to [Table of Contents](#Table-of-Contents)\n",
    "\n",
    "Create a LoggingHelper instance to use to log debug and also print at the same time.\n",
    "\n",
    "Preconditions: Must be run after Django is initialized, since `python_utilities` is in the django path."
   ]
  },
  {
   "cell_type": "code",
   "execution_count": 10,
   "metadata": {
    "ExecuteTime": {
     "end_time": "2020-05-07T22:29:31.405027Z",
     "start_time": "2020-05-07T22:29:31.401165Z"
    }
   },
   "outputs": [],
   "source": [
    "# python_utilities\n",
    "from python_utilities.logging.logging_helper import LoggingHelper\n",
    "\n",
    "# init\n",
    "my_logging_helper = LoggingHelper()\n",
    "my_logging_helper.set_logger_name( me )\n",
    "log_message = None"
   ]
  },
  {
   "cell_type": "markdown",
   "metadata": {},
   "source": [
    "# Render network data\n",
    "\n",
    "- Back to [Table of Contents](#Table-of-Contents)\n",
    "\n",
    "Now, we need to render out our network data from context, so we can then test it out and make sure we are getting the same answers we got from the old way."
   ]
  },
  {
   "cell_type": "markdown",
   "metadata": {},
   "source": [
    "## Specify filter criteria\n",
    "\n",
    "- Back to [Table of Contents](#Table-of-Contents)\n",
    "\n",
    "First step is to translate the filter criteria for nodes and ties from the existing admin for the querying context."
   ]
  },
  {
   "cell_type": "markdown",
   "metadata": {},
   "source": [
    "### Old filter criteria\n",
    "\n",
    "- Back to [Table of Contents](#Table-of-Contents)\n",
    "\n",
    "Configuration of [Network Builder](https://research.local/research/context/text/output/network), from [methods-network_analysis-create_network_data.ipynb](../methods/network_analysis/methods-network_analysis-create_network_data.ipynb):\n",
    "\n",
    "* Configuration to generate network files for prelim:\n",
    "\n",
    "    * Config of \"Select Articles\" - **fields in bold** need to be changed from default values:\n",
    "\n",
    "        * **`Start date (YYYY-MM-DD):`** 2009-12-01\n",
    "        * **`End date (YYYY-MM-DD):`** 2009-12-31\n",
    "        * `Fancy date range:` - Empty.\n",
    "        * **`Publications:`** \"Grand Rapids Press, The\"\n",
    "        * `Coders:` None selected.\n",
    "        * **`Coder IDs to include, in order of highest to lowest priority:`**\n",
    "\n",
    "            * for human sample: 13,8,9,10\n",
    "            * for automated: 2\n",
    "\n",
    "        * **if automated**: `Article_Data coder_type Filter Type` and `coder_type 'Value In' List (comma-delimited):`\n",
    "        \n",
    "            * only for coder \"automated\" (2), for now.\n",
    "            * use the coder_type filter fields to filter automatically coded Article_Data on coder type if you have tried different automated coder types:\n",
    "           \n",
    "                * **`Article_Data coder_type Filter Type:`** - `Just automated`\n",
    "                * **`coder_type 'Value In' List (comma-delimited):`** - Enter the coder types you want included.  Examples:\n",
    "                \n",
    "                    * OpenCalais v2: \"OpenCalais_REST_API_v2\"\n",
    "        \n",
    "        * `Topics`: None selected.\n",
    "        * **`Article Tag List (comma-delimited):`** - \"grp_month\"\n",
    "        * `Unique Identifier List (comma-delimited):` - Empty.\n",
    "        * **`Allow duplicate articles:`** - \"No\"\n",
    "    \n",
    "    * Configure \"Network Settings\" - **fields in bold** need to be changed from default values:\n",
    "        \n",
    "        * `relations - Include source contact types` - All selected.\n",
    "        * `relations - Include source capacities:` - None selected.\n",
    "        * `relations - Exclude source capacities:` - None selected.\n",
    "        * **`Download as File?`** - \"Yes\"\n",
    "        * `Include render details?` - \"No\"\n",
    "        * **`Data Format:`** - \"Tab-Delimited Matrix\"\n",
    "        * **`Data Output Type:`** - \"Network + Attribute Columns\"\n",
    "        * `Network Label:` - Empty.\n",
    "        * **`Include Headers:`** - \"Yes\"\n",
    "    \n",
    "    * Config of \"Select People\" - **fields in bold** need to be changed from default values:\n",
    "        \n",
    "        * _NOTE: This will be the same for all networks you want to compare (different weeks within a month, compared to the whole month, for instance). For each, get people from articles that are filtered to include all people used by either human or automated, and all the days covered by any of the networks you want to compare.  This means you'll have the same dimensions of network (same set of nodes/people) regardless of the particular network you are generating, allowing the matrices that result to be compared._\n",
    "        * **`Person Query Type:`** - \"Custom, defined below\"\n",
    "        * **`People from (YYYY-MM-DD):`** - 2009-12-01\n",
    "        * **`People to (YYYY-MM-DD):`** - 2009-12-31\n",
    "        * `Fancy person date range:` - Empty.\n",
    "        * **`Person publications:`** - \"Grand Rapids Press, The\"\n",
    "        * **`Person coders:`** - \"automated\", \"minnesota1\", \"minnesota2\", \"minnesota3\", \"ground_truth\"\n",
    "        * `Coder IDs to include, in order of highest to lowest priority:` - Empty.\n",
    "        * **`Article_Data coder_type Filter Type` and `coder_type 'Value In' List (comma-delimited):`**\n",
    "            \n",
    "            * _NOTE: not just for automated - since this includes all coders, automated and human, you need to always specify the coder type filter if you need it for automated network._\n",
    "            * use the coder_type filter fields to filter automatically coded Article_Data on coder type if you have tried different automated coder types:\n",
    "            \n",
    "                * **`Article_Data coder_type Filter Type:`** - `Just automated`\n",
    "                * **`coder_type 'Value In' List (comma-delimited):`** - Enter the coder types you want included.  Examples:\n",
    "                \n",
    "                    * OpenCalais v2: \"OpenCalais_REST_API_v2\"\n",
    "        \n",
    "        * `Person Topics`: None\n",
    "        * **`Article Tag List (comma-delimited):`** - \"grp_month\"\n",
    "        * `Unique Identifier List (comma-delimited):` - Empty.\n",
    "        * **`Person allow duplicate articles:`** - \"Yes\""
   ]
  },
  {
   "cell_type": "markdown",
   "metadata": {},
   "source": [
    "### JSON files of filter criteria for just automated coding\n",
    "\n",
    "- Back to [Table of Contents](#Table-of-Contents)\n",
    "\n",
    "Below is a JSON file that is just the automated coding for the month from 2009-12-01 through 2009-12-31, articles in the Grand Rapids Press.  Just about all of the complexity of the original screens is possible here, as long as you loaded the entities and ties and all of the needed traits, including some way of adding tags..."
   ]
  },
  {
   "cell_type": "markdown",
   "metadata": {},
   "source": [
    "    {\n",
    "        \"output_specification\": {\n",
    "            \"output_type\": \"file\",\n",
    "            \"output_file_path\": \"./NetworkDataRequest_test_output.txt\",\n",
    "            \"output_format\": \"TSV_matrix\",\n",
    "            \"output_structure\": \"both_trait_columns\",\n",
    "            \"output_include_column_headers\": true\n",
    "        },\n",
    "        \"relation_selection\": {\n",
    "            \"relation_type_slug_filter_combine_type\": \"AND\",\n",
    "            \"relation_type_slug_filters\": [\n",
    "                {\n",
    "                    \"comparison_type\": \"includes\",\n",
    "                    \"value_list\": [ \"mentioned\", \"qouted\", \"shared_byline\" ]\n",
    "                }\n",
    "            ],\n",
    "            \"relation_trait_filter_combine_type\": \"AND\",\n",
    "            \"relation_trait_filters\": [\n",
    "                {\n",
    "                    \"name\": \"pub_date\",\n",
    "                    \"data_type\": \"date\",\n",
    "                    \"comparison_type\": \"in_range\",\n",
    "                    \"value_from\": \"2009-12-01\",\n",
    "                    \"value_to\": \"2009-12-31\"\n",
    "                },\n",
    "                {\n",
    "                    \"name\": \"sourcenet-coder-User-username\",\n",
    "                    \"data_type\": \"string\",\n",
    "                    \"comparison_type\": \"includes\",\n",
    "                    \"value_list\": [ \"automated\" ]\n",
    "                },\n",
    "                {\n",
    "                    \"name\": \"coder_type\",\n",
    "                    \"data_type\": \"string\",\n",
    "                    \"comparison_type\": \"includes\",\n",
    "                    \"value_list\": [ \"OpenCalais_REST_API_v2\" ]\n",
    "                }\n",
    "            ],\n",
    "            \"entity_type_slug_filter_combine_type\": \"AND\",\n",
    "            \"entity_type_slug_filters\": [\n",
    "                {\n",
    "                    \"comparison_type\": \"includes\",\n",
    "                    \"value_list\": [ \"person\" ],\n",
    "                    \"relation_roles_list\": [ \"FROM\" ]\n",
    "                },\n",
    "                {\n",
    "                    \"comparison_type\": \"includes\",\n",
    "                    \"value_list\": [ \"person\" ],\n",
    "                    \"relation_roles_list\": [ \"TO\" ]\n",
    "                },\n",
    "                {\n",
    "                    \"comparison_type\": \"includes\",\n",
    "                    \"value_list\": [ \"article\" ],\n",
    "                    \"relation_roles_list\": [ \"THROUGH\" ]\n",
    "                }            \n",
    "            ],\n",
    "            \"entity_trait_filter_combine_type\": \"AND\",\n",
    "            \"entity_trait_filters\": [\n",
    "                {\n",
    "                    \"name\": \"sourcenet-Newspaper-ID\",\n",
    "                    \"data_type\": \"int\",\n",
    "                    \"comparison_type\": \"includes\",\n",
    "                    \"value_list\": [ 1 ],\n",
    "                    \"relation_roles_list\": [ \"THROUGH\" ]\n",
    "                }\n",
    "            ]\n",
    "        }\n",
    "    }"
   ]
  },
  {
   "cell_type": "markdown",
   "metadata": {},
   "source": [
    "## Context network output\n",
    "\n",
    "- Back to [Table of Contents](#Table-of-Contents)\n",
    "\n",
    "Steps:\n",
    "\n",
    "- make sure `settings.py` is referring to the full database (`research`, not the testing database `research_temp`)\n",
    "- run all the initialization code above in section 2.\n",
    "- load a request into a NetworkDataRequest instance (example below uses the unit test TestHelper class to load the basic configuration, which is the same as the above, for 12/1/2009 through 12/31/2009, automated coder, Grand Rapids Press only).\n",
    "\n",
    "    - using TestHelper: `data_request = TestHelper.load_basic()`\n",
    "    - from file path:\n",
    "    \n",
    "            data_request = NetworkDataRequest()\n",
    "            path_to_file = \"./request.json\"\n",
    "            data_request.load_network_data_request_json_file( path_to_file )\n",
    "\n",
    "- update details of the request post-load.  Examples:\n",
    "\n",
    "    - call \"`data_request.set_output_file_path( path )`\" to change where the file will be output.\n",
    "    - call \"`data_request.set_output_format( format )`\" to change the output format.  Values:\n",
    "    \n",
    "        - \"simple_matrix\" ( `NetworkDataRequest.PROP_VALUE_OUTPUT_FORMAT_SIMPLE_MATRIX` ) - format for UCINet where contents of tie file and attribute files are all concatenated into one text file.\n",
    "        - \"CSV_matrix\" ( `NetworkDataRequest.PROP_VALUE_OUTPUT_FORMAT_CSV_MATRIX` )\n",
    "        - \"TSV_matrix\" ( `NetworkDataRequest.PROP_VALUE_OUTPUT_FORMAT_TSV_MATRIX` )\n",
    "    \n",
    "    - call \"`data_request.set_output_type( type )`\" to change the output type. \n",
    "\n",
    "- make an instance of NetworkOutput: `network_output = NetworkOutput()`.\n",
    "- initialize it by calling \"`network_output.set_network_data_request( data_request )`\", passing in the request you loaded.\n",
    "- call \"`network_output.render_network_data()`\".  The method returns the contents of the file it created, and outputs to file as directed inside the request."
   ]
  },
  {
   "cell_type": "code",
   "execution_count": 14,
   "metadata": {
    "ExecuteTime": {
     "end_time": "2020-02-04T21:37:10.868220Z",
     "start_time": "2020-02-04T21:37:10.862547Z"
    }
   },
   "outputs": [
    {
     "data": {
      "text/plain": [
       "<python_utilities.status.status_container.StatusContainer at 0x7fcc6f2cd908>"
      ]
     },
     "execution_count": 14,
     "metadata": {},
     "output_type": "execute_result"
    }
   ],
   "source": [
    "# load basic NetworkDataRequest\n",
    "#data_request = TestHelper.load_basic()\n",
    "\n",
    "# or, load from file path\n",
    "data_request = NetworkDataRequest()\n",
    "path_to_file = \"./grp_month_from_context.json\"\n",
    "data_request.load_network_data_request_json_file( path_to_file )"
   ]
  },
  {
   "cell_type": "code",
   "execution_count": 12,
   "metadata": {
    "ExecuteTime": {
     "end_time": "2020-02-04T18:22:34.220982Z",
     "start_time": "2020-02-04T18:22:34.214460Z"
    }
   },
   "outputs": [
    {
     "data": {
      "text/plain": [
       "'/home/jonathanmorgan/work/django/research/work/phd_work/analysis/automated_grp_month.tsv'"
      ]
     },
     "execution_count": 12,
     "metadata": {},
     "output_type": "execute_result"
    }
   ],
   "source": [
    "# configure output\n",
    "#overridden_output_path = \"{}/automated_grp_month.tsv\".format( current_working_folder )\n",
    "#data_request.set_output_file_path( overridden_output_path )"
   ]
  },
  {
   "cell_type": "code",
   "execution_count": 15,
   "metadata": {
    "ExecuteTime": {
     "end_time": "2020-02-04T21:37:13.790286Z",
     "start_time": "2020-02-04T21:37:13.777425Z"
    }
   },
   "outputs": [
    {
     "data": {
      "text/plain": [
       "<context.export.network.network_data_request.NetworkDataRequest at 0x7fcc6f7d81d0>"
      ]
     },
     "execution_count": 15,
     "metadata": {},
     "output_type": "execute_result"
    }
   ],
   "source": [
    "# make and initialize instance of NetworkOutput\n",
    "network_output = NetworkOutput()\n",
    "network_output.set_network_data_request( data_request )"
   ]
  },
  {
   "cell_type": "code",
   "execution_count": 16,
   "metadata": {
    "ExecuteTime": {
     "end_time": "2020-02-04T21:39:17.903108Z",
     "start_time": "2020-02-04T21:37:14.737459Z"
    }
   },
   "outputs": [
    {
     "name": "stdout",
     "output_type": "stream",
     "text": [
      "In context.export.network.network_output.NetworkOutput.render_network_data(): Calling NetworkDataRequest.process_entities() @ 2020-02-04 21:37:14.739044\n",
      "In get_selection_filters(): use_entity_selection_IN is True\n",
      "In get_selection_filters(): \"entity_selection\" filtering was requested, but not specified in the request.  Defaulting to \"relation_selection\".\n",
      "In context.export.network.network_output.NetworkOutput.render_network_data(): After calling NetworkDataRequest.process_entities(), calling NetworkDataRequest.filter_relation_query_set() @ 2020-02-04 21:37:45.084237\n",
      "In get_selection_filters(): use_entity_selection_IN is False\n",
      "In context.export.network.network_output.NetworkOutput.render_network_data(): After calling NetworkDataRequest.filter_relation_query_set(), initializing NetworkDataOutput instance @ 2020-02-04 21:37:45.090883\n",
      "In context.export.network.network_output.NetworkOutput.render_network_data(): After initializing NetworkDataOutput instance, calling NetworkDataOutput.render() @ 2020-02-04 21:37:45.091193\n",
      "In context.export.network.ndo_tab_delimited_matrix.NDO_TabDelimitedMatrix.render(): Starting loop over relations to create ties @ 2020-02-04 21:37:45.658421\n",
      "----> In context.export.network.ndo_tab_delimited_matrix.NDO_TabDelimitedMatrix.render(): Processed 100 of 1311 relations @ 2020-02-04 21:37:46.548948\n",
      "----> In context.export.network.ndo_tab_delimited_matrix.NDO_TabDelimitedMatrix.render(): Processed 200 of 1311 relations @ 2020-02-04 21:37:46.917056\n",
      "----> In context.export.network.ndo_tab_delimited_matrix.NDO_TabDelimitedMatrix.render(): Processed 300 of 1311 relations @ 2020-02-04 21:37:47.404619\n",
      "----> In context.export.network.ndo_tab_delimited_matrix.NDO_TabDelimitedMatrix.render(): Processed 400 of 1311 relations @ 2020-02-04 21:37:48.065762\n",
      "----> In context.export.network.ndo_tab_delimited_matrix.NDO_TabDelimitedMatrix.render(): Processed 500 of 1311 relations @ 2020-02-04 21:37:48.956263\n",
      "----> In context.export.network.ndo_tab_delimited_matrix.NDO_TabDelimitedMatrix.render(): Processed 600 of 1311 relations @ 2020-02-04 21:37:50.061245\n",
      "----> In context.export.network.ndo_tab_delimited_matrix.NDO_TabDelimitedMatrix.render(): Processed 700 of 1311 relations @ 2020-02-04 21:37:51.432327\n",
      "----> In context.export.network.ndo_tab_delimited_matrix.NDO_TabDelimitedMatrix.render(): Processed 800 of 1311 relations @ 2020-02-04 21:37:53.085812\n",
      "----> In context.export.network.ndo_tab_delimited_matrix.NDO_TabDelimitedMatrix.render(): Processed 900 of 1311 relations @ 2020-02-04 21:37:55.070394\n",
      "----> In context.export.network.ndo_tab_delimited_matrix.NDO_TabDelimitedMatrix.render(): Processed 1000 of 1311 relations @ 2020-02-04 21:38:00.995072\n",
      "----> In context.export.network.ndo_tab_delimited_matrix.NDO_TabDelimitedMatrix.render(): Processed 1100 of 1311 relations @ 2020-02-04 21:38:11.896740\n",
      "----> In context.export.network.ndo_tab_delimited_matrix.NDO_TabDelimitedMatrix.render(): Processed 1200 of 1311 relations @ 2020-02-04 21:38:24.656246\n",
      "----> In context.export.network.ndo_tab_delimited_matrix.NDO_TabDelimitedMatrix.render(): Processed 1300 of 1311 relations @ 2020-02-04 21:38:40.311361\n",
      "In context.export.network.ndo_tab_delimited_matrix.NDO_TabDelimitedMatrix.render(): Ties created, generating master entity list @ 2020-02-04 21:38:42.206772\n",
      "In generate_master_entity_list: len( entity_dict ) = 1088; entity_dict: {274: None, 687: None, 132: None, 12279: None, 12558: None, 12559: None, 1683: None, 4857: None, 238: None, 876: None, 721: None, 437: None, 1384: None, 16: None, 1969: None, 4422: None, 3821: None, 5653: None, 12439: None, 4575: None, 69: None, 12593: None, 12594: None, 221: None, 240: None, 12597: None, 12600: None, 6548: None, 5527: None, 10804: None, 12607: None, 1179: None, 218: None, 440: None, 12619: None, 12621: None, 275: None, 12623: None, 593: None, 62: None, 12625: None, 12627: None, 12628: None, 104: None, 12643: None, 667: None, 975: None, 384: None, 974: None, 12555: None, 424: None, 12660: None, 12661: None, 177: None, 12663: None, 12664: None, 12665: None, 12666: None, 12680: None, 9603: None, 1898: None, 7972: None, 12492: None, 2330: None, 12493: None, 866: None, 12714: None, 12715: None, 12717: None, 3350: None, 12722: None, 10091: None, 12747: None, 972: None, 12748: None, 12750: None, 5246: None, 5813: None, 2522: None, 12758: None, 12760: None, 380: None, 12781: None, 12783: None, 316: None, 12792: None, 12793: None, 11185: None, 11593: None, 2870: None, 12854: None, 12859: None, 1185: None, 12880: None, 12881: None, 12884: None, 12885: None, 2611: None, 12887: None, 12889: None, 2482: None, 9511: None, 2275: None, 211: None, 12914: None, 497: None, 12916: None, 554: None, 12917: None, 12919: None, 12920: None, 12921: None, 1647: None, 6824: None, 12932: None, 12934: None, 12935: None, 12936: None, 5562: None, 12937: None, 12938: None, 1549: None, 12968: None, 12982: None, 12983: None, 204: None, 12985: None, 12986: None, 1871: None, 49: None, 12999: None, 13000: None, 13001: None, 56: None, 13003: None, 431: None, 13016: None, 13017: None, 13018: None, 13019: None, 64: None, 13043: None, 13047: None, 2209: None, 195: None, 1197: None, 1329: None, 22: None, 13058: None, 13061: None, 469: None, 11165: None, 2834: None, 5591: None, 13070: None, 13072: None, 13090: None, 2015: None, 13092: None, 2016: None, 13093: None, 565: None, 13109: None, 11117: None, 4753: None, 105: None, 7: None, 13129: None, 13130: None, 2281: None, 13134: None, 13135: None, 117: None, 13151: None, 4187: None, 13153: None, 13154: None, 13159: None, 13162: None, 1668: None, 11719: None, 13210: None, 13213: None, 8733: None, 4097: None, 401: None, 13217: None, 13218: None, 13221: None, 171: None, 3057: None, 13248: None, 100: None, 1822: None, 1823: None, 13264: None, 13267: None, 13268: None, 1101: None, 10724: None, 9814: None, 13293: None, 13294: None, 13296: None, 13298: None, 13299: None, 12052: None, 13300: None, 13316: None, 13317: None, 13320: None, 13321: None, 13322: None, 13323: None, 11921: None, 13337: None, 3822: None, 13336: None, 5266: None, 5645: None, 184: None, 9007: None, 13362: None, 13371: None, 13372: None, 13373: None, 8634: None, 13374: None, 13376: None, 13377: None, 13394: None, 146: None, 8102: None, 13399: None, 13417: None, 13418: None, 8345: None, 13354: None, 9012: None, 414: None, 1272: None, 13436: None, 2678: None, 2675: None, 13439: None, 13458: None, 13463: None, 13464: None, 13468: None, 13469: None, 13470: None, 13472: None, 13473: None, 13484: None, 3382: None, 3483: None, 13489: None, 13490: None, 13491: None, 529: None, 7543: None, 13510: None, 13512: None, 13515: None, 2282: None, 13531: None, 13533: None, 13534: None, 13536: None, 3909: None, 13562: None, 13563: None, 13564: None, 13565: None, 13566: None, 5451: None, 2434: None, 13586: None, 13610: None, 13613: None, 13614: None, 13624: None, 9599: None, 13625: None, 13626: None, 13628: None, 6543: None, 2484: None, 9127: None, 13641: None, 13642: None, 8990: None, 9632: None, 13643: None, 10940: None, 13644: None, 8882: None, 13648: None, 13649: None, 13650: None, 13651: None, 688: None, 13652: None, 13653: None, 1564: None, 13660: None, 13661: None, 13664: None, 13667: None, 13669: None, 13670: None, 953: None, 13672: None, 13678: None, 13679: None, 13680: None, 12456: None, 9865: None, 6283: None, 13683: None, 12022: None, 13688: None, 13699: None, 13700: None, 13703: None, 13707: None, 13708: None, 13722: None, 1851: None, 13723: None, 13724: None, 13725: None, 9812: None, 11777: None, 13738: None, 13740: None, 13741: None, 13742: None, 13743: None, 13746: None, 13748: None, 1221: None, 971: None, 2767: None, 6871: None, 13768: None, 13771: None, 13773: None, 13774: None, 13775: None, 13634: None, 13785: None, 703: None, 704: None, 1046: None, 1396: None, 5499: None, 13795: None, 13797: None, 13798: None, 13800: None, 13802: None, 13803: None, 1593: None, 13806: None, 13809: None, 13811: None, 13812: None, 13813: None, 13814: None, 13815: None, 880: None, 13817: None, 2940: None, 12679: None, 2694: None, 13829: None, 13830: None, 13832: None, 13833: None, 13834: None, 6968: None, 13836: None, 13845: None, 8205: None, 13848: None, 13849: None, 13851: None, 13852: None, 13853: None, 5141: None, 13856: None, 13858: None, 13859: None, 13140: None, 13870: None, 13871: None, 13874: None, 13875: None, 13876: None, 13877: None, 13881: None, 1670: None, 13617: None, 13620: None, 13904: None, 3727: None, 13906: None, 12332: None, 13715: None, 13932: None, 13933: None, 13937: None, 13940: None, 13941: None, 1996: None, 13954: None, 13958: None, 13959: None, 13960: None, 13961: None, 1787: None, 13077: None, 13973: None, 13974: None, 13975: None, 13976: None, 13978: None, 13994: None, 13998: None, 11216: None, 13999: None, 14002: None, 3073: None, 14004: None, 14005: None, 14006: None, 14007: None, 14020: None, 14022: None, 14023: None, 14024: None, 1504: None, 1208: None, 14031: None, 14032: None, 14033: None, 1361: None, 14053: None, 14055: None, 518: None, 14065: None, 14066: None, 14067: None, 1729: None, 1730: None, 14088: None, 14091: None, 14093: None, 14101: None, 14102: None, 4400: None, 14116: None, 14118: None, 14119: None, 14120: None, 5638: None, 14121: None, 444: None, 14135: None, 14137: None, 3098: None, 1128: None, 14057: None, 14146: None, 14148: None, 328: None, 14163: None, 14164: None, 14166: None, 14173: None, 432: None, 500: None, 506: None, 1299: None, 14178: None, 14180: None, 4462: None, 4463: None, 14186: None, 14187: None, 14188: None, 14189: None, 14193: None, 14195: None, 14200: None, 14202: None, 14203: None, 5220: None, 241: None, 14207: None, 14209: None, 14214: None, 14215: None, 13020: None, 9018: None, 3316: None, 7922: None, 14220: None, 7924: None, 20: None, 14222: None, 12551: None, 12552: None, 12556: None, 367: None, 10141: None, 4959: None, 12565: None, 6624: None, 216: None, 225: None, 223: None, 9517: None, 12572: None, 1169: None, 1348: None, 12574: None, 5222: None, 12576: None, 3595: None, 12577: None, 1680: None, 12584: None, 12587: None, 12588: None, 6895: None, 2497: None, 235: None, 534: None, 5044: None, 830: None, 9626: None, 434: None, 12610: None, 12611: None, 12613: None, 12614: None, 47: None, 12615: None, 12281: None, 1076: None, 8104: None, 12632: None, 12633: None, 12634: None, 12636: None, 12637: None, 12638: None, 12640: None, 11280: None, 12641: None, 4957: None, 12646: None, 12647: None, 5989: None, 387: None, 12652: None, 12653: None, 8283: None, 375: None, 12655: None, 12656: None, 12657: None, 12658: None, 12668: None, 8956: None, 814: None, 12671: None, 12672: None, 12673: None, 12674: None, 9458: None, 4648: None, 1383: None, 12685: None, 12686: None, 12688: None, 12689: None, 12692: None, 7577: None, 12698: None, 4427: None, 12702: None, 12703: None, 12704: None, 12705: None, 12707: None, 12708: None, 2753: None, 12729: None, 12731: None, 12734: None, 12735: None, 12738: None, 12739: None, 12740: None, 12742: None, 298: None, 12744: None, 12745: None, 12751: None, 4195: None, 12752: None, 12753: None, 900: None, 12756: None, 2524: None, 12761: None, 12762: None, 12764: None, 9008: None, 12767: None, 12769: None, 12771: None, 12773: None, 12775: None, 1470: None, 1407: None, 3784: None, 12796: None, 11246: None, 12802: None, 153: None, 12804: None, 12806: None, 12808: None, 12809: None, 2048: None, 8746: None, 12817: None, 12818: None, 12819: None, 12820: None, 12821: None, 12863: None, 8066: None, 8067: None, 438: None, 12867: None, 12876: None, 12894: None, 2607: None, 12897: None, 12899: None, 6933: None, 12901: None, 12909: None, 7642: None, 12912: None, 12913: None, 12333: None, 10924: None, 879: None, 12928: None, 12929: None, 12147: None, 10411: None, 12940: None, 12941: None, 12942: None, 12943: None, 12184: None, 4086: None, 10366: None, 12951: None, 11294: None, 12954: None, 12955: None, 12957: None, 12959: None, 12960: None, 12961: None, 12964: None, 12965: None, 12970: None, 12971: None, 12972: None, 12973: None, 12976: None, 12978: None, 12979: None, 12988: None, 5146: None, 2830: None, 12991: None, 12996: None, 11363: None, 13005: None, 13006: None, 13007: None, 13009: None, 13010: None, 13011: None, 13012: None, 13022: None, 13023: None, 220: None, 13026: None, 11043: None, 3488: None, 3162: None, 13033: None, 13036: None, 13038: None, 3572: None, 13039: None, 7119: None, 9601: None, 7478: None, 13051: None, 13052: None, 13053: None, 13054: None, 13055: None, 12294: None, 13063: None, 12292: None, 3688: None, 3063: None, 9473: None, 13066: None, 5168: None, 165: None, 3381: None, 6863: None, 7542: None, 5422: None, 13080: None, 6964: None, 2863: None, 13084: None, 13086: None, 13087: None, 1581: None, 7436: None, 9162: None, 200: None, 5397: None, 4604: None, 13103: None, 13105: None, 13106: None, 13112: None, 292: None, 13114: None, 2055: None, 13120: None, 13122: None, 13123: None, 13126: None, 8325: None, 11046: None, 9790: None, 13138: None, 13139: None, 13142: None, 13146: None, 13164: None, 13165: None, 13166: None, 9870: None, 13169: None, 13170: None, 1474: None, 1300: None, 12726: None, 13173: None, 13175: None, 13176: None, 13178: None, 601: None, 13179: None, 13181: None, 13182: None, 13183: None, 13185: None, 9791: None, 13201: None, 13204: None, 7677: None, 13206: None, 1441: None, 6900: None, 7040: None, 13228: None, 13230: None, 245: None, 242: None, 13232: None, 13233: None, 13234: None, 13236: None, 13237: None, 13238: None, 13240: None, 13241: None, 13242: None, 13243: None, 10759: None, 13252: None, 13254: None, 13256: None, 13257: None, 13259: None, 13261: None, 13262: None, 13274: None, 13275: None, 13279: None, 13280: None, 13281: None, 13284: None, 13285: None, 13286: None, 13288: None, 13289: None, 2038: None, 13306: None, 13308: None, 8133: None, 13310: None, 13312: None, 13313: None, 13326: None, 13328: None, 13329: None, 13330: None, 13332: None, 13333: None, 13340: None, 13341: None, 13342: None, 13343: None, 13346: None, 13347: None, 13350: None, 2571: None, 1896: None, 13353: None, 10843: None, 2752: None, 13368: None, 1899: None, 13379: None, 3942: None, 13382: None, 13384: None, 262: None, 544: None, 13386: None, 13387: None, 13390: None, 13391: None, 13392: None, 2984: None, 13404: None, 13407: None, 13409: None, 13411: None, 13415: None, 13422: None, 10013: None, 1385: None, 5265: None, 13430: None, 13431: None, 13432: None, 13442: None, 13444: None, 13446: None, 13448: None, 8149: None, 422: None, 3318: None, 13453: None, 13454: None, 13455: None, 2651: None, 2380: None, 2379: None, 7667: None, 13477: None, 13478: None, 2143: None, 13480: None, 1283: None, 5565: None, 13493: None, 13494: None, 13495: None, 5095: None, 9959: None, 13: None, 697: None, 6577: None, 13502: None, 13503: None, 3773: None, 13521: None, 13522: None, 13523: None, 13529: None, 13538: None, 13539: None, 13540: None, 13541: None, 13542: None, 13545: None, 5088: None, 148: None, 13552: None, 13554: None, 13555: None, 13556: None, 493: None, 11697: None, 13559: None, 1126: None, 3747: None, 13569: None, 13570: None, 13572: None, 13573: None, 13574: None, 2903: None, 13621: None, 676: None, 13630: None, 5515: None, 13633: None, 13635: None, 396: None, 5059: None, 5619: None, 5197: None, 13674: None, 5226: None, 13675: None, 13676: None, 1533: None, 13711: None, 13716: None, 13718: None, 13719: None, 13729: None, 13733: None, 10905: None, 2210: None, 13750: None, 13752: None, 13755: None, 13759: None, 13760: None, 13777: None, 13778: None, 13780: None, 13782: None, 13783: None, 1134: None, 13789: None, 13793: None, 3433: None, 3432: None, 13822: None, 13823: None, 13824: None, 13826: None, 13838: None, 8442: None, 9131: None, 13840: None, 13841: None, 10100: None, 8727: None, 8135: None, 2266: None, 13879: None, 8846: None, 13887: None, 13890: None, 12181: None, 12182: None, 13892: None, 13896: None, 13897: None, 13898: None, 13899: None, 13900: None, 13902: None, 13911: None, 13912: None, 13913: None, 13916: None, 618: None, 13919: None, 13920: None, 13921: None, 13922: None, 13924: None, 13929: None, 13943: None, 1050: None, 13946: None, 13947: None, 13949: None, 6322: None, 13951: None, 13963: None, 13967: None, 13970: None, 13971: None, 13980: None, 13981: None, 2814: None, 13984: None, 13986: None, 13987: None, 13988: None, 13989: None, 13990: None, 8708: None, 14009: None, 14011: None, 14012: None, 14043: None, 14046: None, 14047: None, 14048: None, 14049: None, 14050: None, 8508: None, 14061: None, 14062: None, 6716: None, 6717: None, 14063: None, 14070: None, 14073: None, 14083: None, 14084: None, 5215: None, 552: None, 1432: None, 9506: None, 202: None, 14104: None, 14105: None, 14107: None, 14108: None, 14110: None, 14111: None, 14112: None, 14113: None, 14123: None, 14125: None, 14126: None, 9465: None, 14130: None, 14131: None, 5761: None, 11042: None, 1062: None, 8729: None, 14150: None, 14154: None, 14157: None, 14158: None, 14159: None, 14160: None, 2686: None, 4532: None, 2687: None, 14168: None, 14169: None, 6401: None, 2684: None, 134: None}\n",
      "In generate_master_entity_list(): master entity ID list length: 1088 ( list: [7, 13, 16, 20, 22, 47, 49, 56, 62, 64, 69, 100, 104, 105, 117, 132, 134, 146, 148, 153, 165, 171, 177, 184, 195, 200, 202, 204, 211, 216, 218, 220, 221, 223, 225, 235, 238, 240, 241, 242, 245, 262, 274, 275, 292, 298, 316, 328, 367, 375, 380, 384, 387, 396, 401, 414, 422, 424, 431, 432, 434, 437, 438, 440, 444, 469, 493, 497, 500, 506, 518, 529, 534, 544, 552, 554, 565, 593, 601, 618, 667, 676, 687, 688, 697, 703, 704, 721, 814, 830, 866, 876, 879, 880, 900, 953, 971, 972, 974, 975, 1046, 1050, 1062, 1076, 1101, 1126, 1128, 1134, 1169, 1179, 1185, 1197, 1208, 1221, 1272, 1283, 1299, 1300, 1329, 1348, 1361, 1383, 1384, 1385, 1396, 1407, 1432, 1441, 1470, 1474, 1504, 1533, 1549, 1564, 1581, 1593, 1647, 1668, 1670, 1680, 1683, 1729, 1730, 1787, 1822, 1823, 1851, 1871, 1896, 1898, 1899, 1969, 1996, 2015, 2016, 2038, 2048, 2055, 2143, 2209, 2210, 2266, 2275, 2281, 2282, 2330, 2379, 2380, 2434, 2482, 2484, 2497, 2522, 2524, 2571, 2607, 2611, 2651, 2675, 2678, 2684, 2686, 2687, 2694, 2752, 2753, 2767, 2814, 2830, 2834, 2863, 2870, 2903, 2940, 2984, 3057, 3063, 3073, 3098, 3162, 3316, 3318, 3350, 3381, 3382, 3432, 3433, 3483, 3488, 3572, 3595, 3688, 3727, 3747, 3773, 3784, 3821, 3822, 3909, 3942, 4086, 4097, 4187, 4195, 4400, 4422, 4427, 4462, 4463, 4532, 4575, 4604, 4648, 4753, 4857, 4957, 4959, 5044, 5059, 5088, 5095, 5141, 5146, 5168, 5197, 5215, 5220, 5222, 5226, 5246, 5265, 5266, 5397, 5422, 5451, 5499, 5515, 5527, 5562, 5565, 5591, 5619, 5638, 5645, 5653, 5761, 5813, 5989, 6283, 6322, 6401, 6543, 6548, 6577, 6624, 6716, 6717, 6824, 6863, 6871, 6895, 6900, 6933, 6964, 6968, 7040, 7119, 7436, 7478, 7542, 7543, 7577, 7642, 7667, 7677, 7922, 7924, 7972, 8066, 8067, 8102, 8104, 8133, 8135, 8149, 8205, 8283, 8325, 8345, 8442, 8508, 8634, 8708, 8727, 8729, 8733, 8746, 8846, 8882, 8956, 8990, 9007, 9008, 9012, 9018, 9127, 9131, 9162, 9458, 9465, 9473, 9506, 9511, 9517, 9599, 9601, 9603, 9626, 9632, 9790, 9791, 9812, 9814, 9865, 9870, 9959, 10013, 10091, 10100, 10141, 10366, 10411, 10724, 10759, 10804, 10843, 10905, 10924, 10940, 11042, 11043, 11046, 11117, 11165, 11185, 11216, 11246, 11280, 11294, 11363, 11593, 11697, 11719, 11777, 11921, 12022, 12052, 12147, 12181, 12182, 12184, 12279, 12281, 12292, 12294, 12332, 12333, 12439, 12456, 12492, 12493, 12551, 12552, 12555, 12556, 12558, 12559, 12565, 12572, 12574, 12576, 12577, 12584, 12587, 12588, 12593, 12594, 12597, 12600, 12607, 12610, 12611, 12613, 12614, 12615, 12619, 12621, 12623, 12625, 12627, 12628, 12632, 12633, 12634, 12636, 12637, 12638, 12640, 12641, 12643, 12646, 12647, 12652, 12653, 12655, 12656, 12657, 12658, 12660, 12661, 12663, 12664, 12665, 12666, 12668, 12671, 12672, 12673, 12674, 12679, 12680, 12685, 12686, 12688, 12689, 12692, 12698, 12702, 12703, 12704, 12705, 12707, 12708, 12714, 12715, 12717, 12722, 12726, 12729, 12731, 12734, 12735, 12738, 12739, 12740, 12742, 12744, 12745, 12747, 12748, 12750, 12751, 12752, 12753, 12756, 12758, 12760, 12761, 12762, 12764, 12767, 12769, 12771, 12773, 12775, 12781, 12783, 12792, 12793, 12796, 12802, 12804, 12806, 12808, 12809, 12817, 12818, 12819, 12820, 12821, 12854, 12859, 12863, 12867, 12876, 12880, 12881, 12884, 12885, 12887, 12889, 12894, 12897, 12899, 12901, 12909, 12912, 12913, 12914, 12916, 12917, 12919, 12920, 12921, 12928, 12929, 12932, 12934, 12935, 12936, 12937, 12938, 12940, 12941, 12942, 12943, 12951, 12954, 12955, 12957, 12959, 12960, 12961, 12964, 12965, 12968, 12970, 12971, 12972, 12973, 12976, 12978, 12979, 12982, 12983, 12985, 12986, 12988, 12991, 12996, 12999, 13000, 13001, 13003, 13005, 13006, 13007, 13009, 13010, 13011, 13012, 13016, 13017, 13018, 13019, 13020, 13022, 13023, 13026, 13033, 13036, 13038, 13039, 13043, 13047, 13051, 13052, 13053, 13054, 13055, 13058, 13061, 13063, 13066, 13070, 13072, 13077, 13080, 13084, 13086, 13087, 13090, 13092, 13093, 13103, 13105, 13106, 13109, 13112, 13114, 13120, 13122, 13123, 13126, 13129, 13130, 13134, 13135, 13138, 13139, 13140, 13142, 13146, 13151, 13153, 13154, 13159, 13162, 13164, 13165, 13166, 13169, 13170, 13173, 13175, 13176, 13178, 13179, 13181, 13182, 13183, 13185, 13201, 13204, 13206, 13210, 13213, 13217, 13218, 13221, 13228, 13230, 13232, 13233, 13234, 13236, 13237, 13238, 13240, 13241, 13242, 13243, 13248, 13252, 13254, 13256, 13257, 13259, 13261, 13262, 13264, 13267, 13268, 13274, 13275, 13279, 13280, 13281, 13284, 13285, 13286, 13288, 13289, 13293, 13294, 13296, 13298, 13299, 13300, 13306, 13308, 13310, 13312, 13313, 13316, 13317, 13320, 13321, 13322, 13323, 13326, 13328, 13329, 13330, 13332, 13333, 13336, 13337, 13340, 13341, 13342, 13343, 13346, 13347, 13350, 13353, 13354, 13362, 13368, 13371, 13372, 13373, 13374, 13376, 13377, 13379, 13382, 13384, 13386, 13387, 13390, 13391, 13392, 13394, 13399, 13404, 13407, 13409, 13411, 13415, 13417, 13418, 13422, 13430, 13431, 13432, 13436, 13439, 13442, 13444, 13446, 13448, 13453, 13454, 13455, 13458, 13463, 13464, 13468, 13469, 13470, 13472, 13473, 13477, 13478, 13480, 13484, 13489, 13490, 13491, 13493, 13494, 13495, 13502, 13503, 13510, 13512, 13515, 13521, 13522, 13523, 13529, 13531, 13533, 13534, 13536, 13538, 13539, 13540, 13541, 13542, 13545, 13552, 13554, 13555, 13556, 13559, 13562, 13563, 13564, 13565, 13566, 13569, 13570, 13572, 13573, 13574, 13586, 13610, 13613, 13614, 13617, 13620, 13621, 13624, 13625, 13626, 13628, 13630, 13633, 13634, 13635, 13641, 13642, 13643, 13644, 13648, 13649, 13650, 13651, 13652, 13653, 13660, 13661, 13664, 13667, 13669, 13670, 13672, 13674, 13675, 13676, 13678, 13679, 13680, 13683, 13688, 13699, 13700, 13703, 13707, 13708, 13711, 13715, 13716, 13718, 13719, 13722, 13723, 13724, 13725, 13729, 13733, 13738, 13740, 13741, 13742, 13743, 13746, 13748, 13750, 13752, 13755, 13759, 13760, 13768, 13771, 13773, 13774, 13775, 13777, 13778, 13780, 13782, 13783, 13785, 13789, 13793, 13795, 13797, 13798, 13800, 13802, 13803, 13806, 13809, 13811, 13812, 13813, 13814, 13815, 13817, 13822, 13823, 13824, 13826, 13829, 13830, 13832, 13833, 13834, 13836, 13838, 13840, 13841, 13845, 13848, 13849, 13851, 13852, 13853, 13856, 13858, 13859, 13870, 13871, 13874, 13875, 13876, 13877, 13879, 13881, 13887, 13890, 13892, 13896, 13897, 13898, 13899, 13900, 13902, 13904, 13906, 13911, 13912, 13913, 13916, 13919, 13920, 13921, 13922, 13924, 13929, 13932, 13933, 13937, 13940, 13941, 13943, 13946, 13947, 13949, 13951, 13954, 13958, 13959, 13960, 13961, 13963, 13967, 13970, 13971, 13973, 13974, 13975, 13976, 13978, 13980, 13981, 13984, 13986, 13987, 13988, 13989, 13990, 13994, 13998, 13999, 14002, 14004, 14005, 14006, 14007, 14009, 14011, 14012, 14020, 14022, 14023, 14024, 14031, 14032, 14033, 14043, 14046, 14047, 14048, 14049, 14050, 14053, 14055, 14057, 14061, 14062, 14063, 14065, 14066, 14067, 14070, 14073, 14083, 14084, 14088, 14091, 14093, 14101, 14102, 14104, 14105, 14107, 14108, 14110, 14111, 14112, 14113, 14116, 14118, 14119, 14120, 14121, 14123, 14125, 14126, 14130, 14131, 14135, 14137, 14146, 14148, 14150, 14154, 14157, 14158, 14159, 14160, 14163, 14164, 14166, 14168, 14169, 14173, 14178, 14180, 14186, 14187, 14188, 14189, 14193, 14195, 14200, 14202, 14203, 14207, 14209, 14214, 14215, 14220, 14222] )\n",
      "In context.export.network.ndo_tab_delimited_matrix.NDO_TabDelimitedMatrix.render(): Master entity list created, rendering network data @ 2020-02-04 21:38:42.275018\n"
     ]
    },
    {
     "name": "stdout",
     "output_type": "stream",
     "text": [
      "In context.export.network.network_output.NetworkOutput.render_network_data(): After calling NetworkDataOutput.render(), doing output @ 2020-02-04 21:39:17.897726\n",
      "In context.export.network.network_output.NetworkOutput.render_network_data(): Finished @ 2020-02-04 21:39:17.900605\n"
     ]
    }
   ],
   "source": [
    "# call render, see what happens.\n",
    "network_data = network_output.render_network_data()"
   ]
  },
  {
   "cell_type": "code",
   "execution_count": 14,
   "metadata": {
    "ExecuteTime": {
     "end_time": "2020-01-23T23:53:02.592409Z",
     "start_time": "2020-01-23T23:53:02.586804Z"
    },
    "scrolled": true
   },
   "outputs": [
    {
     "name": "stdout",
     "output_type": "stream",
     "text": [
      "{35: {'quoted': {'FROM': 1, 'TO': 0, 'THROUGH': 0}, 'mentioned': {'FROM': 1, 'TO': 0, 'THROUGH': 0}}, 36: {'quoted': {'FROM': 0, 'TO': 1, 'THROUGH': 0}, 'mentioned': {'FROM': 0, 'TO': 1, 'THROUGH': 0}}, 18: {'quoted': {'FROM': 6, 'TO': 0, 'THROUGH': 0}, 'mentioned': {'FROM': 7, 'TO': 0, 'THROUGH': 0}}, 24: {'quoted': {'FROM': 0, 'TO': 1, 'THROUGH': 0}, 'mentioned': {'FROM': 0, 'TO': 1, 'THROUGH': 0}}, 23: {'quoted': {'FROM': 0, 'TO': 1, 'THROUGH': 0}, 'mentioned': {'FROM': 0, 'TO': 1, 'THROUGH': 0}}, 22: {'quoted': {'FROM': 0, 'TO': 1, 'THROUGH': 0}, 'mentioned': {'FROM': 0, 'TO': 1, 'THROUGH': 0}}, 21: {'quoted': {'FROM': 0, 'TO': 1, 'THROUGH': 0}, 'mentioned': {'FROM': 0, 'TO': 1, 'THROUGH': 0}}, 20: {'quoted': {'FROM': 0, 'TO': 1, 'THROUGH': 0}, 'mentioned': {'FROM': 0, 'TO': 1, 'THROUGH': 0}}, 19: {'quoted': {'FROM': 0, 'TO': 1, 'THROUGH': 0}, 'mentioned': {'FROM': 0, 'TO': 1, 'THROUGH': 0}}, 25: {'mentioned': {'FROM': 0, 'TO': 1, 'THROUGH': 0}}, 8: {'shared_byline': {'FROM': 1, 'TO': 1, 'THROUGH': 0}, 'quoted': {'FROM': 4, 'TO': 0, 'THROUGH': 0}, 'mentioned': {'FROM': 7, 'TO': 0, 'THROUGH': 0}}, 9: {'shared_byline': {'FROM': 1, 'TO': 1, 'THROUGH': 0}, 'quoted': {'FROM': 9, 'TO': 0, 'THROUGH': 0}, 'mentioned': {'FROM': 24, 'TO': 0, 'THROUGH': 0}}, 16: {'quoted': {'FROM': 0, 'TO': 2, 'THROUGH': 0}, 'mentioned': {'FROM': 0, 'TO': 2, 'THROUGH': 0}}, 13: {'quoted': {'FROM': 0, 'TO': 2, 'THROUGH': 0}, 'mentioned': {'FROM': 0, 'TO': 2, 'THROUGH': 0}}, 12: {'quoted': {'FROM': 0, 'TO': 2, 'THROUGH': 0}, 'mentioned': {'FROM': 0, 'TO': 2, 'THROUGH': 0}}, 11: {'quoted': {'FROM': 0, 'TO': 2, 'THROUGH': 0}, 'mentioned': {'FROM': 0, 'TO': 2, 'THROUGH': 0}}, 15: {'mentioned': {'FROM': 0, 'TO': 2, 'THROUGH': 0}}, 14: {'mentioned': {'FROM': 0, 'TO': 2, 'THROUGH': 0}}, 10: {'mentioned': {'FROM': 0, 'TO': 2, 'THROUGH': 0}}, 80: {'quoted': {'FROM': 3, 'TO': 0, 'THROUGH': 0}, 'mentioned': {'FROM': 3, 'TO': 0, 'THROUGH': 0}}, 83: {'quoted': {'FROM': 0, 'TO': 1, 'THROUGH': 0}, 'mentioned': {'FROM': 0, 'TO': 1, 'THROUGH': 0}}, 82: {'quoted': {'FROM': 0, 'TO': 1, 'THROUGH': 0}, 'mentioned': {'FROM': 0, 'TO': 1, 'THROUGH': 0}}, 81: {'quoted': {'FROM': 0, 'TO': 1, 'THROUGH': 0}, 'mentioned': {'FROM': 0, 'TO': 1, 'THROUGH': 0}}, 69: {'quoted': {'FROM': 3, 'TO': 0, 'THROUGH': 0}, 'mentioned': {'FROM': 3, 'TO': 0, 'THROUGH': 0}}, 72: {'quoted': {'FROM': 0, 'TO': 1, 'THROUGH': 0}, 'mentioned': {'FROM': 0, 'TO': 1, 'THROUGH': 0}}, 71: {'quoted': {'FROM': 0, 'TO': 1, 'THROUGH': 0}, 'mentioned': {'FROM': 0, 'TO': 1, 'THROUGH': 0}}, 70: {'quoted': {'FROM': 0, 'TO': 1, 'THROUGH': 0}, 'mentioned': {'FROM': 0, 'TO': 1, 'THROUGH': 0}}, 46: {'quoted': {'FROM': 0, 'TO': 1, 'THROUGH': 0}, 'mentioned': {'FROM': 0, 'TO': 1, 'THROUGH': 0}}, 44: {'quoted': {'FROM': 0, 'TO': 1, 'THROUGH': 0}, 'mentioned': {'FROM': 0, 'TO': 1, 'THROUGH': 0}}, 40: {'quoted': {'FROM': 0, 'TO': 1, 'THROUGH': 0}, 'mentioned': {'FROM': 0, 'TO': 1, 'THROUGH': 0}}, 47: {'mentioned': {'FROM': 0, 'TO': 1, 'THROUGH': 0}}, 45: {'mentioned': {'FROM': 0, 'TO': 1, 'THROUGH': 0}}, 43: {'mentioned': {'FROM': 0, 'TO': 1, 'THROUGH': 0}}, 42: {'mentioned': {'FROM': 0, 'TO': 1, 'THROUGH': 0}}, 41: {'mentioned': {'FROM': 0, 'TO': 1, 'THROUGH': 0}}, 39: {'mentioned': {'FROM': 0, 'TO': 1, 'THROUGH': 0}}, 38: {'mentioned': {'FROM': 0, 'TO': 1, 'THROUGH': 0}}, 32: {'quoted': {'FROM': 0, 'TO': 1, 'THROUGH': 0}, 'mentioned': {'FROM': 0, 'TO': 1, 'THROUGH': 0}}, 28: {'quoted': {'FROM': 0, 'TO': 1, 'THROUGH': 0}, 'mentioned': {'FROM': 0, 'TO': 1, 'THROUGH': 0}}, 33: {'mentioned': {'FROM': 0, 'TO': 1, 'THROUGH': 0}}, 31: {'mentioned': {'FROM': 0, 'TO': 1, 'THROUGH': 0}}, 30: {'mentioned': {'FROM': 0, 'TO': 1, 'THROUGH': 0}}, 29: {'mentioned': {'FROM': 0, 'TO': 1, 'THROUGH': 0}}, 27: {'mentioned': {'FROM': 0, 'TO': 1, 'THROUGH': 0}}, 85: {'quoted': {'FROM': 2, 'TO': 0, 'THROUGH': 0}, 'mentioned': {'FROM': 5, 'TO': 0, 'THROUGH': 0}}, 89: {'quoted': {'FROM': 0, 'TO': 1, 'THROUGH': 0}, 'mentioned': {'FROM': 0, 'TO': 1, 'THROUGH': 0}}, 87: {'quoted': {'FROM': 0, 'TO': 1, 'THROUGH': 0}, 'mentioned': {'FROM': 0, 'TO': 1, 'THROUGH': 0}}, 90: {'mentioned': {'FROM': 0, 'TO': 1, 'THROUGH': 0}}, 88: {'mentioned': {'FROM': 0, 'TO': 1, 'THROUGH': 0}}, 86: {'mentioned': {'FROM': 0, 'TO': 1, 'THROUGH': 0}}, 74: {'quoted': {'FROM': 4, 'TO': 0, 'THROUGH': 0}, 'mentioned': {'FROM': 4, 'TO': 0, 'THROUGH': 0}}, 78: {'quoted': {'FROM': 0, 'TO': 1, 'THROUGH': 0}, 'mentioned': {'FROM': 0, 'TO': 1, 'THROUGH': 0}}, 77: {'quoted': {'FROM': 0, 'TO': 1, 'THROUGH': 0}, 'mentioned': {'FROM': 0, 'TO': 1, 'THROUGH': 0}}, 76: {'quoted': {'FROM': 0, 'TO': 1, 'THROUGH': 0}, 'mentioned': {'FROM': 0, 'TO': 1, 'THROUGH': 0}}, 75: {'quoted': {'FROM': 0, 'TO': 1, 'THROUGH': 0}, 'mentioned': {'FROM': 0, 'TO': 1, 'THROUGH': 0}}, 63: {'quoted': {'FROM': 4, 'TO': 0, 'THROUGH': 0}, 'mentioned': {'FROM': 4, 'TO': 0, 'THROUGH': 0}}, 67: {'quoted': {'FROM': 0, 'TO': 1, 'THROUGH': 0}, 'mentioned': {'FROM': 0, 'TO': 1, 'THROUGH': 0}}, 66: {'quoted': {'FROM': 0, 'TO': 1, 'THROUGH': 0}, 'mentioned': {'FROM': 0, 'TO': 1, 'THROUGH': 0}}, 65: {'quoted': {'FROM': 0, 'TO': 1, 'THROUGH': 0}, 'mentioned': {'FROM': 0, 'TO': 1, 'THROUGH': 0}}, 64: {'quoted': {'FROM': 0, 'TO': 1, 'THROUGH': 0}, 'mentioned': {'FROM': 0, 'TO': 1, 'THROUGH': 0}}, 49: {'quoted': {'FROM': 3, 'TO': 0, 'THROUGH': 0}, 'mentioned': {'FROM': 4, 'TO': 0, 'THROUGH': 0}}, 53: {'quoted': {'FROM': 0, 'TO': 1, 'THROUGH': 0}, 'mentioned': {'FROM': 0, 'TO': 1, 'THROUGH': 0}}, 52: {'quoted': {'FROM': 0, 'TO': 1, 'THROUGH': 0}, 'mentioned': {'FROM': 0, 'TO': 1, 'THROUGH': 0}}, 51: {'quoted': {'FROM': 0, 'TO': 1, 'THROUGH': 0}, 'mentioned': {'FROM': 0, 'TO': 1, 'THROUGH': 0}}, 50: {'mentioned': {'FROM': 0, 'TO': 1, 'THROUGH': 0}}, 55: {'quoted': {'FROM': 3, 'TO': 0, 'THROUGH': 0}, 'mentioned': {'FROM': 6, 'TO': 0, 'THROUGH': 0}}, 61: {'quoted': {'FROM': 0, 'TO': 1, 'THROUGH': 0}, 'mentioned': {'FROM': 0, 'TO': 1, 'THROUGH': 0}}, 59: {'quoted': {'FROM': 0, 'TO': 1, 'THROUGH': 0}, 'mentioned': {'FROM': 0, 'TO': 1, 'THROUGH': 0}}, 58: {'quoted': {'FROM': 0, 'TO': 1, 'THROUGH': 0}, 'mentioned': {'FROM': 0, 'TO': 1, 'THROUGH': 0}}, 60: {'mentioned': {'FROM': 0, 'TO': 1, 'THROUGH': 0}}, 57: {'mentioned': {'FROM': 0, 'TO': 1, 'THROUGH': 0}}, 56: {'mentioned': {'FROM': 0, 'TO': 1, 'THROUGH': 0}}}\n",
      "\n",
      "\n",
      "Entity_Relation_Type slug list: ['mentioned', 'quoted', 'shared_byline']\n",
      "\n",
      "\n",
      "Entity_Relation_Type slug to instance map: {'quoted': <Entity_Relation_Type: 1 - quoted - quoted>, 'mentioned': <Entity_Relation_Type: 2 - mentioned - mentioned>, 'shared_byline': <Entity_Relation_Type: 3 - shared_byline - Shared Byline>}\n"
     ]
    }
   ],
   "source": [
    "ndo_instance = network_output.m_NDO_instance\n",
    "test1 = ndo_instance.get_entity_relation_type_summary_dict()\n",
    "print( test1 )\n",
    "\n",
    "test2 = ndo_instance.m_relation_type_slug_list\n",
    "print( \"\\n\\nEntity_Relation_Type slug list: {}\".format( test2 ) )\n",
    "\n",
    "test3 = ndo_instance.m_relation_type_slug_to_instance_map\n",
    "print( \"\\n\\nEntity_Relation_Type slug to instance map: {}\".format( test3 ) )"
   ]
  },
  {
   "cell_type": "markdown",
   "metadata": {},
   "source": [
    "# Network output\n",
    "\n",
    "- Back to [Table of Contents](#Table-of-Contents)\n",
    "\n",
    "Convert code from using Article_Data to derive ties to just loop over Entity_Relation instances."
   ]
  },
  {
   "cell_type": "markdown",
   "metadata": {},
   "source": [
    "## Network output - sourcenet logic\n",
    "\n",
    "- Back to [Table of Contents](#Table-of-Contents)\n"
   ]
  },
  {
   "cell_type": "markdown",
   "metadata": {},
   "source": [
    "### Network output - sourcenet logic - NetworkOutput\n",
    "\n",
    "- Back to [Table of Contents](#Table-of-Contents)\n",
    "\n",
    "Pseudocode:\n",
    "\n",
    "- NetworkOutput.render_network_data( query_set_IN )\n",
    "\n",
    "    - accepts Article_Data QuerySet.\n",
    "    - create person dictionary - self.create_person_dict()\n",
    "    \n",
    "        - retrieve Article_Data QuerySet to traverse to pull in all authors and subjects - self.create_person_query_set()\n",
    "        \n",
    "            - if ALL, return all Article_Data\n",
    "            - if type of articles, retrieve just those specified as being used for ties - self.create_person_query_set()\n",
    "            - if type of custom, retrieve Article_Data to match custom person lookup parameters - self.create_query_set( NetworkOutput.PARAM_PERSON_PREFIX )\n",
    "            \n",
    "        - for each Article_Data:\n",
    "        \n",
    "            - retrieve author and source QuerySets.\n",
    "            - for each, call self.add_people_to_dict() on the QuerySet.\n",
    "            \n",
    "                - for each person, retrieve person instance and ID, add to dictionary, storing instance as value if store_person_IN == True.\n",
    "                \n",
    "        - return dictionary into \"person_dictionary\".\n",
    "    \n",
    "    - get NetworkDataOutput (NDO) instance - self.get_NDO_instance()\n",
    "    - initialize NDO\n",
    "    \n",
    "        - NDO.set_query_set( query_set_IN )\n",
    "        - NDO.set_person_dictionary( person_dictionary )\n",
    "        - initialize from parameters: NDO.initialize_from_params()\n",
    "        \n",
    "    - render - NDO.render()\n",
    "    "
   ]
  },
  {
   "cell_type": "markdown",
   "metadata": {},
   "source": [
    "### Network output - sourcenet logic - NetworkDataOutput\n",
    "\n",
    "- Back to [Table of Contents](#Table-of-Contents)\n",
    "\n",
    "Pseudocode:\n",
    "\n",
    "- NetworkDataOutput.render()\n",
    "\n",
    "    - get query_set and person_dictionary.\n",
    "    - create ties\n",
    "\n",
    "        - loop over query_set:\n",
    "        \n",
    "            - check if authors.  If none, move on.\n",
    "            - if authors:\n",
    "            \n",
    "                - retrieve author and sources QuerySets from Article_Data\n",
    "                - process author relations (shared byline and qouted): `self.process_author_relations( author_qs, source_qs )`\n",
    "                \n",
    "                    - makes list of author IDs in Article_Data by building dictionary that maps author person ID to author Person instance, then getting `.keys()`.\n",
    "                    - loops over authors:\n",
    "                    \n",
    "                        - for each, pop from dictionary, make relation to all authors remaining in the dictionary (bi-directional, so just need to make relations to people past the current in the list): `self.add_reciprocal_relation()`\n",
    "                        \n",
    "                            - adds bidirectional ties between authors in nested connection map (calls `self.add_directed_relation( person_1_id_IN, person_2_id_IN )`, then `self.add_directed_relation( person_2_id_IN, person_1_id_IN )`).\n",
    "                            \n",
    "                                - `self.add_directed_relation()`: updates `self.relation_map`, map of FROM IDs to dictionary of TO IDs, where each TO maps to a count of the ties between the two.  **_Solely ID-based, so methods to add relations can stay as-is!  Yay!_**\n",
    "                        \n",
    "                        - set person's type to \"author\": `self.update_person_type( current_person_id, NetworkDataOutput.PERSON_TYPE_AUTHOR )`\n",
    "                        \n",
    "                            - accepts person ID and type.\n",
    "                            - looks for person ID in `self.person_type_dict`.\n",
    "                            \n",
    "                                - If not present, adds current type.\n",
    "                                - If present but not same as what is passed in, sets to BOTH.\n",
    "                        \n",
    "                        - add relations to sources: `self.process_source_relations( current_person_id, source_qs_IN )`\n",
    "                        \n",
    "                            - accepts author ID and source QuerySet.\n",
    "                            - if author ID and source QuerySet has something in it, proceeds.\n",
    "                            - checks if source is connected: `self.is_source_connected( current_source )`\n",
    "                            \n",
    "                                - calls `Article_Subject.is_connected( self.inclusion_params )`\n",
    "                            \n",
    "                            - if connected, retrieves person ID for source, if source has ID adds reciprocal relation between author and source: `self.add_reciprocal_relation()`.\n",
    "                            \n",
    "                - update the types of the sources (from source_qs): `self.update_source_person_types( source_qs )`\n",
    "                \n",
    "                    - for each source, calls `self.update_person_type( current_person_id, NetworkDataOutput.PERSON_TYPE_SOURCE )`\n",
    "                \n",
    "        - build master person list: `self.generate_master_person_list()`\n",
    "        \n",
    "            - combines the person dictionary with dictionary that maps person to source type based on Article_Data processed for ties.\n",
    "            \n",
    "        - actually render the network data: `self.render_network_data()`\n",
    "        \n",
    "            - based on output parameters, implemented in NDO child classes."
   ]
  },
  {
   "cell_type": "markdown",
   "metadata": {},
   "source": [
    "## Network output - context logic\n",
    "\n",
    "- Back to [Table of Contents](#Table-of-Contents)\n"
   ]
  },
  {
   "cell_type": "markdown",
   "metadata": {},
   "source": [
    "### Network output - context logic - NetworkOutput\n",
    "\n",
    "- Back to [Table of Contents](#Table-of-Contents)\n",
    "\n",
    "Pseudocode:\n",
    "\n",
    "- NetworkOutput.render_network_data( relation_qs_IN, network_data_request_IN )\n",
    "\n",
    "    - accepts optional Entity_Relation QuerySet and optional request.\n",
    "    - create entity dictionary - self.create_entity_dict()\n",
    "    \n",
    "        - retrieve Entity_Relation QuerySet to traverse to pull in all relations - network_data_request.filter_relation_query_set( use_entity_selection_IN = True )\n",
    "        - call self.add_entities_to_dict() to add entities from the relation QuerySet.\n",
    "        \n",
    "            - loops over relations, retrieves FROM, TO, and optionally THROUGH entities, calls self.add_entity_to_dict() on each entity to be added.\n",
    "            \n",
    "                - for each entity, retrieve Entity instance and ID, add to dictionary, storing instance as value if store_entity_IN == True.\n",
    "                \n",
    "        - return dictionary into \"entity_dictionary\".\n",
    "    \n",
    "    - get NetworkDataOutput (NDO) instance - self.get_NDO_instance()\n",
    "    - initialize NDO\n",
    "    \n",
    "        - NDO.set_query_set( query_set_IN )\n",
    "        - NDO.set_entity_dictionary( entity_dictionary )\n",
    "        - initialize from request: NDO.initialize_from_request( network_data_request )\n",
    "        \n",
    "    - render - NDO.render()\n",
    "    "
   ]
  },
  {
   "cell_type": "markdown",
   "metadata": {},
   "source": [
    "### Network output - context logic - NetworkDataOutput\n",
    "\n",
    "- Back to [Table of Contents](#Table-of-Contents)\n",
    "\n",
    "Pseudocode:\n",
    "\n",
    "- NetworkDataOutput.render()\n",
    "\n",
    "    - get Entity_Relation query_set and entity_dictionary.\n",
    "    - create ties\n",
    "\n",
    "        - loop over query_set:\n",
    "        \n",
    "            - // retrieve FROM and TO entities.\n",
    "            - // pull out their IDs.\n",
    "            - // add relation - check if directed:\n",
    "            \n",
    "                - directed:\n",
    "                \n",
    "                    - `self.add_directed_relation( from_id, to_id )`\n",
    "                    \n",
    "                - not directed:\n",
    "                \n",
    "                    - `self.add_reciprocal_relation( from_id, to_id )`\n",
    "            \n",
    "            - // update roles of entities...\n",
    "            \n",
    "                - one thought is to make a map of relation types for each person that maps to a dictionary of FROM, TO, and THROUGH, each mapped to counts of the times the person was in each role.\n",
    "                - replaces:\n",
    "\n",
    "                    - calls to: `self.update_person_type( current_person_id, NetworkDataOutput.PERSON_TYPE_SOURCE )` with `update_entity_relations_details( self, entity_id_IN, relation_type_slug_IN, relation_role_IN ):`\n",
    "                    - references to `self.person_type_dict` with something more nuanced (no longer can depend on a single type).\n",
    "                \n",
    "        - // build master entity list: `self.generate_master_entity_list()`\n",
    "        \n",
    "            - combines the person dictionary with dictionary that maps person to source type based on Article_Data processed for ties.\n",
    "            - should be able to use it as is with some variable name changes.\n",
    "            - // also, change name to \"m_master_entity_list\", and make a getter(), and then always retrieve using get().\n",
    "            \n",
    "        - actually render the network data: `self.render_network_data()`\n",
    "        \n",
    "            - based on output parameters, implemented in NDO child classes."
   ]
  },
  {
   "cell_type": "markdown",
   "metadata": {},
   "source": [
    "## Context network output test code\n",
    "\n",
    "- Back to [Table of Contents](#Table-of-Contents)\n",
    "\n",
    "Try loading the basic file and using it to render network data..."
   ]
  },
  {
   "cell_type": "code",
   "execution_count": 15,
   "metadata": {
    "ExecuteTime": {
     "end_time": "2020-01-24T01:33:30.103506Z",
     "start_time": "2020-01-24T01:33:30.100700Z"
    }
   },
   "outputs": [],
   "source": [
    "# load basic NetworkDataRequest\n",
    "data_request_basic = TestHelper.load_basic()"
   ]
  },
  {
   "cell_type": "code",
   "execution_count": 16,
   "metadata": {
    "ExecuteTime": {
     "end_time": "2020-01-24T01:33:31.217558Z",
     "start_time": "2020-01-24T01:33:31.211392Z"
    }
   },
   "outputs": [
    {
     "data": {
      "text/plain": [
       "<context.export.network.network_data_request.NetworkDataRequest at 0x7f05157513c8>"
      ]
     },
     "execution_count": 16,
     "metadata": {},
     "output_type": "execute_result"
    }
   ],
   "source": [
    "# make and initialize instance of NetworkOutput\n",
    "network_output = NetworkOutput()\n",
    "network_output.set_network_data_request( data_request_basic )"
   ]
  },
  {
   "cell_type": "code",
   "execution_count": 17,
   "metadata": {
    "ExecuteTime": {
     "end_time": "2020-01-24T01:33:35.303512Z",
     "start_time": "2020-01-24T01:33:32.309446Z"
    }
   },
   "outputs": [
    {
     "name": "stdout",
     "output_type": "stream",
     "text": [
      "In get_selection_filters(): use_entity_selection_IN is True\n",
      "In get_selection_filters(): \"entity_selection\" filtering was requested, but not specified in the request.  Defaulting to \"relation_selection\".\n",
      "In get_selection_filters(): use_entity_selection_IN is False\n",
      "In generate_master_entity_list: len( entity_dict ) = 72; entity_dict: {35: None, 36: None, 18: None, 24: None, 23: None, 22: None, 21: None, 20: None, 19: None, 25: None, 8: None, 9: None, 16: None, 13: None, 12: None, 11: None, 15: None, 14: None, 10: None, 80: None, 83: None, 82: None, 81: None, 69: None, 72: None, 71: None, 70: None, 46: None, 44: None, 40: None, 47: None, 45: None, 43: None, 42: None, 41: None, 39: None, 38: None, 32: None, 28: None, 33: None, 31: None, 30: None, 29: None, 27: None, 85: None, 89: None, 87: None, 90: None, 88: None, 86: None, 74: None, 78: None, 77: None, 76: None, 75: None, 63: None, 67: None, 66: None, 65: None, 64: None, 49: None, 53: None, 52: None, 51: None, 50: None, 55: None, 61: None, 59: None, 58: None, 60: None, 57: None, 56: None}\n",
      "In generate_master_entity_list(): master entity ID list length: 72 ( list: [8, 9, 10, 11, 12, 13, 14, 15, 16, 18, 19, 20, 21, 22, 23, 24, 25, 27, 28, 29, 30, 31, 32, 33, 35, 36, 38, 39, 40, 41, 42, 43, 44, 45, 46, 47, 49, 50, 51, 52, 53, 55, 56, 57, 58, 59, 60, 61, 63, 64, 65, 66, 67, 69, 70, 71, 72, 74, 75, 76, 77, 78, 80, 81, 82, 83, 85, 86, 87, 88, 89, 90] )\n"
     ]
    }
   ],
   "source": [
    "# call render, see what happens.\n",
    "network_data = network_output.render_network_data()"
   ]
  },
  {
   "cell_type": "code",
   "execution_count": 14,
   "metadata": {
    "ExecuteTime": {
     "end_time": "2020-01-23T23:53:02.592409Z",
     "start_time": "2020-01-23T23:53:02.586804Z"
    },
    "scrolled": true
   },
   "outputs": [
    {
     "name": "stdout",
     "output_type": "stream",
     "text": [
      "{35: {'quoted': {'FROM': 1, 'TO': 0, 'THROUGH': 0}, 'mentioned': {'FROM': 1, 'TO': 0, 'THROUGH': 0}}, 36: {'quoted': {'FROM': 0, 'TO': 1, 'THROUGH': 0}, 'mentioned': {'FROM': 0, 'TO': 1, 'THROUGH': 0}}, 18: {'quoted': {'FROM': 6, 'TO': 0, 'THROUGH': 0}, 'mentioned': {'FROM': 7, 'TO': 0, 'THROUGH': 0}}, 24: {'quoted': {'FROM': 0, 'TO': 1, 'THROUGH': 0}, 'mentioned': {'FROM': 0, 'TO': 1, 'THROUGH': 0}}, 23: {'quoted': {'FROM': 0, 'TO': 1, 'THROUGH': 0}, 'mentioned': {'FROM': 0, 'TO': 1, 'THROUGH': 0}}, 22: {'quoted': {'FROM': 0, 'TO': 1, 'THROUGH': 0}, 'mentioned': {'FROM': 0, 'TO': 1, 'THROUGH': 0}}, 21: {'quoted': {'FROM': 0, 'TO': 1, 'THROUGH': 0}, 'mentioned': {'FROM': 0, 'TO': 1, 'THROUGH': 0}}, 20: {'quoted': {'FROM': 0, 'TO': 1, 'THROUGH': 0}, 'mentioned': {'FROM': 0, 'TO': 1, 'THROUGH': 0}}, 19: {'quoted': {'FROM': 0, 'TO': 1, 'THROUGH': 0}, 'mentioned': {'FROM': 0, 'TO': 1, 'THROUGH': 0}}, 25: {'mentioned': {'FROM': 0, 'TO': 1, 'THROUGH': 0}}, 8: {'shared_byline': {'FROM': 1, 'TO': 1, 'THROUGH': 0}, 'quoted': {'FROM': 4, 'TO': 0, 'THROUGH': 0}, 'mentioned': {'FROM': 7, 'TO': 0, 'THROUGH': 0}}, 9: {'shared_byline': {'FROM': 1, 'TO': 1, 'THROUGH': 0}, 'quoted': {'FROM': 9, 'TO': 0, 'THROUGH': 0}, 'mentioned': {'FROM': 24, 'TO': 0, 'THROUGH': 0}}, 16: {'quoted': {'FROM': 0, 'TO': 2, 'THROUGH': 0}, 'mentioned': {'FROM': 0, 'TO': 2, 'THROUGH': 0}}, 13: {'quoted': {'FROM': 0, 'TO': 2, 'THROUGH': 0}, 'mentioned': {'FROM': 0, 'TO': 2, 'THROUGH': 0}}, 12: {'quoted': {'FROM': 0, 'TO': 2, 'THROUGH': 0}, 'mentioned': {'FROM': 0, 'TO': 2, 'THROUGH': 0}}, 11: {'quoted': {'FROM': 0, 'TO': 2, 'THROUGH': 0}, 'mentioned': {'FROM': 0, 'TO': 2, 'THROUGH': 0}}, 15: {'mentioned': {'FROM': 0, 'TO': 2, 'THROUGH': 0}}, 14: {'mentioned': {'FROM': 0, 'TO': 2, 'THROUGH': 0}}, 10: {'mentioned': {'FROM': 0, 'TO': 2, 'THROUGH': 0}}, 80: {'quoted': {'FROM': 3, 'TO': 0, 'THROUGH': 0}, 'mentioned': {'FROM': 3, 'TO': 0, 'THROUGH': 0}}, 83: {'quoted': {'FROM': 0, 'TO': 1, 'THROUGH': 0}, 'mentioned': {'FROM': 0, 'TO': 1, 'THROUGH': 0}}, 82: {'quoted': {'FROM': 0, 'TO': 1, 'THROUGH': 0}, 'mentioned': {'FROM': 0, 'TO': 1, 'THROUGH': 0}}, 81: {'quoted': {'FROM': 0, 'TO': 1, 'THROUGH': 0}, 'mentioned': {'FROM': 0, 'TO': 1, 'THROUGH': 0}}, 69: {'quoted': {'FROM': 3, 'TO': 0, 'THROUGH': 0}, 'mentioned': {'FROM': 3, 'TO': 0, 'THROUGH': 0}}, 72: {'quoted': {'FROM': 0, 'TO': 1, 'THROUGH': 0}, 'mentioned': {'FROM': 0, 'TO': 1, 'THROUGH': 0}}, 71: {'quoted': {'FROM': 0, 'TO': 1, 'THROUGH': 0}, 'mentioned': {'FROM': 0, 'TO': 1, 'THROUGH': 0}}, 70: {'quoted': {'FROM': 0, 'TO': 1, 'THROUGH': 0}, 'mentioned': {'FROM': 0, 'TO': 1, 'THROUGH': 0}}, 46: {'quoted': {'FROM': 0, 'TO': 1, 'THROUGH': 0}, 'mentioned': {'FROM': 0, 'TO': 1, 'THROUGH': 0}}, 44: {'quoted': {'FROM': 0, 'TO': 1, 'THROUGH': 0}, 'mentioned': {'FROM': 0, 'TO': 1, 'THROUGH': 0}}, 40: {'quoted': {'FROM': 0, 'TO': 1, 'THROUGH': 0}, 'mentioned': {'FROM': 0, 'TO': 1, 'THROUGH': 0}}, 47: {'mentioned': {'FROM': 0, 'TO': 1, 'THROUGH': 0}}, 45: {'mentioned': {'FROM': 0, 'TO': 1, 'THROUGH': 0}}, 43: {'mentioned': {'FROM': 0, 'TO': 1, 'THROUGH': 0}}, 42: {'mentioned': {'FROM': 0, 'TO': 1, 'THROUGH': 0}}, 41: {'mentioned': {'FROM': 0, 'TO': 1, 'THROUGH': 0}}, 39: {'mentioned': {'FROM': 0, 'TO': 1, 'THROUGH': 0}}, 38: {'mentioned': {'FROM': 0, 'TO': 1, 'THROUGH': 0}}, 32: {'quoted': {'FROM': 0, 'TO': 1, 'THROUGH': 0}, 'mentioned': {'FROM': 0, 'TO': 1, 'THROUGH': 0}}, 28: {'quoted': {'FROM': 0, 'TO': 1, 'THROUGH': 0}, 'mentioned': {'FROM': 0, 'TO': 1, 'THROUGH': 0}}, 33: {'mentioned': {'FROM': 0, 'TO': 1, 'THROUGH': 0}}, 31: {'mentioned': {'FROM': 0, 'TO': 1, 'THROUGH': 0}}, 30: {'mentioned': {'FROM': 0, 'TO': 1, 'THROUGH': 0}}, 29: {'mentioned': {'FROM': 0, 'TO': 1, 'THROUGH': 0}}, 27: {'mentioned': {'FROM': 0, 'TO': 1, 'THROUGH': 0}}, 85: {'quoted': {'FROM': 2, 'TO': 0, 'THROUGH': 0}, 'mentioned': {'FROM': 5, 'TO': 0, 'THROUGH': 0}}, 89: {'quoted': {'FROM': 0, 'TO': 1, 'THROUGH': 0}, 'mentioned': {'FROM': 0, 'TO': 1, 'THROUGH': 0}}, 87: {'quoted': {'FROM': 0, 'TO': 1, 'THROUGH': 0}, 'mentioned': {'FROM': 0, 'TO': 1, 'THROUGH': 0}}, 90: {'mentioned': {'FROM': 0, 'TO': 1, 'THROUGH': 0}}, 88: {'mentioned': {'FROM': 0, 'TO': 1, 'THROUGH': 0}}, 86: {'mentioned': {'FROM': 0, 'TO': 1, 'THROUGH': 0}}, 74: {'quoted': {'FROM': 4, 'TO': 0, 'THROUGH': 0}, 'mentioned': {'FROM': 4, 'TO': 0, 'THROUGH': 0}}, 78: {'quoted': {'FROM': 0, 'TO': 1, 'THROUGH': 0}, 'mentioned': {'FROM': 0, 'TO': 1, 'THROUGH': 0}}, 77: {'quoted': {'FROM': 0, 'TO': 1, 'THROUGH': 0}, 'mentioned': {'FROM': 0, 'TO': 1, 'THROUGH': 0}}, 76: {'quoted': {'FROM': 0, 'TO': 1, 'THROUGH': 0}, 'mentioned': {'FROM': 0, 'TO': 1, 'THROUGH': 0}}, 75: {'quoted': {'FROM': 0, 'TO': 1, 'THROUGH': 0}, 'mentioned': {'FROM': 0, 'TO': 1, 'THROUGH': 0}}, 63: {'quoted': {'FROM': 4, 'TO': 0, 'THROUGH': 0}, 'mentioned': {'FROM': 4, 'TO': 0, 'THROUGH': 0}}, 67: {'quoted': {'FROM': 0, 'TO': 1, 'THROUGH': 0}, 'mentioned': {'FROM': 0, 'TO': 1, 'THROUGH': 0}}, 66: {'quoted': {'FROM': 0, 'TO': 1, 'THROUGH': 0}, 'mentioned': {'FROM': 0, 'TO': 1, 'THROUGH': 0}}, 65: {'quoted': {'FROM': 0, 'TO': 1, 'THROUGH': 0}, 'mentioned': {'FROM': 0, 'TO': 1, 'THROUGH': 0}}, 64: {'quoted': {'FROM': 0, 'TO': 1, 'THROUGH': 0}, 'mentioned': {'FROM': 0, 'TO': 1, 'THROUGH': 0}}, 49: {'quoted': {'FROM': 3, 'TO': 0, 'THROUGH': 0}, 'mentioned': {'FROM': 4, 'TO': 0, 'THROUGH': 0}}, 53: {'quoted': {'FROM': 0, 'TO': 1, 'THROUGH': 0}, 'mentioned': {'FROM': 0, 'TO': 1, 'THROUGH': 0}}, 52: {'quoted': {'FROM': 0, 'TO': 1, 'THROUGH': 0}, 'mentioned': {'FROM': 0, 'TO': 1, 'THROUGH': 0}}, 51: {'quoted': {'FROM': 0, 'TO': 1, 'THROUGH': 0}, 'mentioned': {'FROM': 0, 'TO': 1, 'THROUGH': 0}}, 50: {'mentioned': {'FROM': 0, 'TO': 1, 'THROUGH': 0}}, 55: {'quoted': {'FROM': 3, 'TO': 0, 'THROUGH': 0}, 'mentioned': {'FROM': 6, 'TO': 0, 'THROUGH': 0}}, 61: {'quoted': {'FROM': 0, 'TO': 1, 'THROUGH': 0}, 'mentioned': {'FROM': 0, 'TO': 1, 'THROUGH': 0}}, 59: {'quoted': {'FROM': 0, 'TO': 1, 'THROUGH': 0}, 'mentioned': {'FROM': 0, 'TO': 1, 'THROUGH': 0}}, 58: {'quoted': {'FROM': 0, 'TO': 1, 'THROUGH': 0}, 'mentioned': {'FROM': 0, 'TO': 1, 'THROUGH': 0}}, 60: {'mentioned': {'FROM': 0, 'TO': 1, 'THROUGH': 0}}, 57: {'mentioned': {'FROM': 0, 'TO': 1, 'THROUGH': 0}}, 56: {'mentioned': {'FROM': 0, 'TO': 1, 'THROUGH': 0}}}\n",
      "\n",
      "\n",
      "Entity_Relation_Type slug list: ['mentioned', 'quoted', 'shared_byline']\n",
      "\n",
      "\n",
      "Entity_Relation_Type slug to instance map: {'quoted': <Entity_Relation_Type: 1 - quoted - quoted>, 'mentioned': <Entity_Relation_Type: 2 - mentioned - mentioned>, 'shared_byline': <Entity_Relation_Type: 3 - shared_byline - Shared Byline>}\n"
     ]
    }
   ],
   "source": [
    "ndo_instance = network_output.m_NDO_instance\n",
    "test1 = ndo_instance.get_entity_relation_type_summary_dict()\n",
    "print( test1 )\n",
    "\n",
    "test2 = ndo_instance.m_relation_type_slug_list\n",
    "print( \"\\n\\nEntity_Relation_Type slug list: {}\".format( test2 ) )\n",
    "\n",
    "test3 = ndo_instance.m_relation_type_slug_to_instance_map\n",
    "print( \"\\n\\nEntity_Relation_Type slug to instance map: {}\".format( test3 ) )"
   ]
  },
  {
   "cell_type": "markdown",
   "metadata": {},
   "source": [
    "## Building Unit Tests\n",
    "\n",
    "- Back to [Table of Contents](#Table-of-Contents)\n",
    "\n",
    "Code to test out and find answers for unit tests."
   ]
  },
  {
   "cell_type": "code",
   "execution_count": 17,
   "metadata": {
    "ExecuteTime": {
     "end_time": "2020-01-10T04:26:14.149755Z",
     "start_time": "2020-01-10T04:26:14.139809Z"
    }
   },
   "outputs": [
    {
     "name": "stdout",
     "output_type": "stream",
     "text": [
      "relation count: 5\n"
     ]
    }
   ],
   "source": [
    "# randomly pick 5 or so relations that have THROUGH.\n",
    "relation_qs = Entity_Relation.objects.all()\n",
    "relation_qs = relation_qs.exclude( relation_through__isnull = True )\n",
    "relation_qs = relation_qs.order_by('?')[:5]\n",
    "relation_count = len( relation_qs )\n",
    "print( \"relation count: {}\".format( relation_count ) )"
   ]
  },
  {
   "cell_type": "code",
   "execution_count": 21,
   "metadata": {
    "ExecuteTime": {
     "end_time": "2020-01-11T04:53:13.204518Z",
     "start_time": "2020-01-11T04:53:13.193571Z"
    }
   },
   "outputs": [
    {
     "name": "stdout",
     "output_type": "stream",
     "text": [
      "relation count: 5\n",
      "Relation ID: 2638\n",
      "Relation ID: 3086\n",
      "Relation ID: 2271\n",
      "Relation ID: 2595\n",
      "Relation ID: 2288\n"
     ]
    }
   ],
   "source": [
    "# randomly pick 5 or so relations that have THROUGH.\n",
    "relation_qs = Entity_Relation.objects.all()\n",
    "relation_qs = relation_qs.exclude( pk__in = [ 1101, 1245, 2264, 2687, 2973 ] )\n",
    "relation_qs = relation_qs.filter( relation_from__in = [ 80, 128, 147, 151, 246, 248, 271, 279, 288, 291 ] )\n",
    "relation_qs = relation_qs.order_by('?')[:5]\n",
    "relation_count = len( relation_qs )\n",
    "print( \"relation count: {}\".format( relation_count ) )\n",
    "\n",
    "# loop\n",
    "for relation in relation_qs:\n",
    "    \n",
    "    print( \"Relation ID: {}\".format( relation.id ) )\n",
    "    \n",
    "#-- END loop over relations --#"
   ]
  },
  {
   "cell_type": "code",
   "execution_count": 23,
   "metadata": {
    "ExecuteTime": {
     "end_time": "2020-01-11T04:56:24.701300Z",
     "start_time": "2020-01-11T04:56:24.689428Z"
    }
   },
   "outputs": [
    {
     "name": "stdout",
     "output_type": "stream",
     "text": [
      "relation count: 5\n",
      "Relation ID: 1101\n",
      "Relation ID: 1245\n",
      "Relation ID: 2264\n",
      "Relation ID: 2271\n",
      "Relation ID: 2288\n",
      "Relation ID: 2595\n",
      "Relation ID: 2638\n",
      "Relation ID: 2687\n",
      "Relation ID: 2973\n",
      "Relation ID: 3086\n"
     ]
    }
   ],
   "source": [
    "relation_id_list = [ 1101, 1245, 2264, 2271, 2288, 2595, 2638, 2687, 2973, 3086 ]\n",
    "#relation_id_list = TestHelper.TEST_RELATION_IDS_WITH_THROUGH\n",
    "relation_qs = Entity_Relation.objects.all()\n",
    "relation_qs = relation_qs.filter( pk__in = relation_id_list )\n",
    "\n",
    "print( \"relation count: {}\".format( relation_count ) )\n",
    "\n",
    "# loop\n",
    "for relation in relation_qs:\n",
    "    \n",
    "    print( \"Relation ID: {}\".format( relation.id ) )\n",
    "    \n",
    "#-- END loop over relations --#"
   ]
  },
  {
   "cell_type": "code",
   "execution_count": 25,
   "metadata": {
    "ExecuteTime": {
     "end_time": "2020-01-11T05:14:31.196514Z",
     "start_time": "2020-01-11T05:14:31.169099Z"
    }
   },
   "outputs": [
    {
     "name": "stdout",
     "output_type": "stream",
     "text": [
      "\n",
      "- after relation #1 - 1101 - FROM: 80 - context_text-Person-591 - TO: 128 - context_text-Person-1044 - THROUGH: 125 - context_text-Article-28846 - DIRECTED?: False - ( type: 2 - mentioned ):\n",
      "----> Relation ID List ( 1 ): [1101]\n",
      "----> from_to_entity_id_list ( 2 ): [80, 128]\n",
      "----> all_entity_id_list ( 3 ): [80, 125, 128]\n",
      "\n",
      "- after relation #2 - 1245 - FROM: 147 - context_text-Person-56 - TO: 151 - context_text-Person-170 - THROUGH: 146 - context_text-Article-91000 - DIRECTED?: False - ( type: 2 - mentioned ):\n",
      "----> Relation ID List ( 2 ): [1101, 1245]\n",
      "----> from_to_entity_id_list ( 4 ): [80, 128, 147, 151]\n",
      "----> all_entity_id_list ( 6 ): [80, 125, 128, 146, 147, 151]\n",
      "\n",
      "- after relation #3 - 2264 - FROM: 246 - context_text-Person-1016 - TO: 248 - context_text-Person-905 - THROUGH: 244 - context_text-Article-94125 - DIRECTED?: False - ( type: 9 - same_article_subjects ):\n",
      "----> Relation ID List ( 3 ): [1101, 1245, 2264]\n",
      "----> from_to_entity_id_list ( 6 ): [80, 128, 147, 151, 246, 248]\n",
      "----> all_entity_id_list ( 9 ): [80, 125, 128, 146, 147, 151, 244, 246, 248]\n",
      "\n",
      "- after relation #4 - 2271 - FROM: 246 - context_text-Person-1016 - TO: 253 - context_text-Person-438 - THROUGH: 244 - context_text-Article-94125 - DIRECTED?: False - ( type: 9 - same_article_subjects ):\n",
      "----> Relation ID List ( 4 ): [1101, 1245, 2264, 2271]\n",
      "----> from_to_entity_id_list ( 7 ): [80, 128, 147, 151, 246, 248, 253]\n",
      "----> all_entity_id_list ( 10 ): [80, 125, 128, 146, 147, 151, 244, 246, 248, 253]\n",
      "\n",
      "- after relation #5 - 2288 - FROM: 248 - context_text-Person-905 - TO: 245 - context_text-Person-1014 - THROUGH: 244 - context_text-Article-94125 - DIRECTED?: False - ( type: 9 - same_article_subjects ):\n",
      "----> Relation ID List ( 5 ): [1101, 1245, 2264, 2271, 2288]\n",
      "----> from_to_entity_id_list ( 8 ): [80, 128, 147, 151, 245, 246, 248, 253]\n",
      "----> all_entity_id_list ( 11 ): [80, 125, 128, 146, 147, 151, 244, 245, 246, 248, 253]\n",
      "\n",
      "- after relation #6 - 2595 - FROM: 147 - context_text-Person-56 - TO: 284 - context_text-Person-254 - THROUGH: 270 - context_text-Article-94311 - DIRECTED?: False - ( type: 1 - quoted ):\n",
      "----> Relation ID List ( 6 ): [1101, 1245, 2264, 2271, 2288, 2595]\n",
      "----> from_to_entity_id_list ( 9 ): [80, 128, 147, 151, 245, 246, 248, 253, 284]\n",
      "----> all_entity_id_list ( 13 ): [80, 125, 128, 146, 147, 151, 244, 245, 246, 248, 253, 270, 284]\n",
      "\n",
      "- after relation #7 - 2638 - FROM: 279 - context_text-Person-755 - TO: 277 - context_text-Person-251 - THROUGH: 270 - context_text-Article-94311 - DIRECTED?: False - ( type: 8 - same_article_sources ):\n",
      "----> Relation ID List ( 7 ): [1101, 1245, 2264, 2271, 2288, 2595, 2638]\n",
      "----> from_to_entity_id_list ( 11 ): [80, 128, 147, 151, 245, 246, 248, 253, 277, 279, 284]\n",
      "----> all_entity_id_list ( 15 ): [80, 125, 128, 146, 147, 151, 244, 245, 246, 248, 253, 270, 277, 279, 284]\n",
      "\n",
      "- after relation #8 - 2687 - FROM: 271 - context_text-Person-1026 - TO: 279 - context_text-Person-755 - THROUGH: 270 - context_text-Article-94311 - DIRECTED?: False - ( type: 9 - same_article_subjects ):\n",
      "----> Relation ID List ( 8 ): [1101, 1245, 2264, 2271, 2288, 2595, 2638, 2687]\n",
      "----> from_to_entity_id_list ( 12 ): [80, 128, 147, 151, 245, 246, 248, 253, 271, 277, 279, 284]\n",
      "----> all_entity_id_list ( 16 ): [80, 125, 128, 146, 147, 151, 244, 245, 246, 248, 253, 270, 271, 277, 279, 284]\n",
      "\n",
      "- after relation #9 - 2973 - FROM: 291 - context_text-Person-148 - TO: 288 - context_text-Person-1034 - THROUGH: 286 - context_text-Article-94326 - DIRECTED?: False - ( type: 9 - same_article_subjects ):\n",
      "----> Relation ID List ( 9 ): [1101, 1245, 2264, 2271, 2288, 2595, 2638, 2687, 2973]\n",
      "----> from_to_entity_id_list ( 14 ): [80, 128, 147, 151, 245, 246, 248, 253, 271, 277, 279, 284, 288, 291]\n",
      "----> all_entity_id_list ( 19 ): [80, 125, 128, 146, 147, 151, 244, 245, 246, 248, 253, 270, 271, 277, 279, 284, 286, 288, 291]\n",
      "\n",
      "- after relation #10 - 3086 - FROM: 147 - context_text-Person-56 - TO: 308 - context_text-Person-1041 - THROUGH: 307 - context_text-Article-94430 - DIRECTED?: False - ( type: 2 - mentioned ):\n",
      "----> Relation ID List ( 10 ): [1101, 1245, 2264, 2271, 2288, 2595, 2638, 2687, 2973, 3086]\n",
      "----> from_to_entity_id_list ( 15 ): [80, 128, 147, 151, 245, 246, 248, 253, 271, 277, 279, 284, 288, 291, 308]\n",
      "----> all_entity_id_list ( 21 ): [80, 125, 128, 146, 147, 151, 244, 245, 246, 248, 253, 270, 271, 277, 279, 284, 286, 288, 291, 307, 308]\n",
      "Relation ID List ( 10 ): [1101, 1245, 2264, 2271, 2288, 2595, 2638, 2687, 2973, 3086]\n",
      "from_to_entity_id_list ( 15 ): [80, 128, 147, 151, 245, 246, 248, 253, 271, 277, 279, 284, 288, 291, 308]\n",
      "all_entity_id_list ( 21 ): [80, 125, 128, 146, 147, 151, 244, 245, 246, 248, 253, 270, 271, 277, 279, 284, 286, 288, 291, 307, 308]\n"
     ]
    }
   ],
   "source": [
    "# declare variables\n",
    "relation_id_list = None\n",
    "relation = None\n",
    "relation_id = None\n",
    "relation_from = None\n",
    "relation_from_id = None\n",
    "relation_to = None\n",
    "relation_to_id = None\n",
    "relation_through = None\n",
    "relation_through_id = None\n",
    "from_to_entity_id_list = None\n",
    "all_entity_id_list = None\n",
    "relation_counter = None\n",
    "\n",
    "# init\n",
    "relation_id_list = []\n",
    "from_to_entity_id_list = []\n",
    "all_entity_id_list = []\n",
    "\n",
    "# loop\n",
    "relation_counter = 0\n",
    "for relation in relation_qs:\n",
    "    \n",
    "    # increment counter\n",
    "    relation_counter += 1\n",
    "    \n",
    "    # get relation ID\n",
    "    relation_id = relation.id\n",
    "    \n",
    "    # add it to list?\n",
    "    if ( relation_id not in relation_id_list ):\n",
    "    \n",
    "        # not already in list.  Add it.\n",
    "        relation_id_list.append( relation_id )\n",
    "        relation_id_list.sort()\n",
    "    \n",
    "    #-- END check to see if ID already in list. --#\n",
    "    \n",
    "    # get entities\n",
    "    relation_from = relation.relation_from\n",
    "    relation_to = relation.relation_to\n",
    "    relation_through = relation.relation_through\n",
    "    \n",
    "    # get IDs, check for each in entity ID lists\n",
    "    relation_from_id = relation_from.id\n",
    "\n",
    "    if ( relation_from_id not in from_to_entity_id_list ):\n",
    "        \n",
    "        # append it and sort.\n",
    "        from_to_entity_id_list.append( relation_from_id )\n",
    "        from_to_entity_id_list.sort()\n",
    "        \n",
    "    #-- END check to see if FROM in FROM-TO list --#\n",
    "    \n",
    "    if ( relation_from_id not in all_entity_id_list ):\n",
    "        \n",
    "        # append it and sort.\n",
    "        all_entity_id_list.append( relation_from_id )\n",
    "        all_entity_id_list.sort()\n",
    "        \n",
    "    #-- END check to see if FROM in FROM-TO list --#\n",
    "    \n",
    "    relation_to_id = relation_to.id\n",
    "\n",
    "    if ( relation_to_id not in from_to_entity_id_list ):\n",
    "        \n",
    "        # append it and sort.\n",
    "        from_to_entity_id_list.append( relation_to_id )\n",
    "        from_to_entity_id_list.sort()\n",
    "        \n",
    "    #-- END check to see if FROM in FROM-TO list --#\n",
    "    \n",
    "    if ( relation_to_id not in all_entity_id_list ):\n",
    "        \n",
    "        # append it and sort.\n",
    "        all_entity_id_list.append( relation_to_id )\n",
    "        all_entity_id_list.sort()\n",
    "        \n",
    "    #-- END check to see if FROM in FROM-TO list --#\n",
    "    \n",
    "    relation_through_id = relation_through.id\n",
    "    \n",
    "    if ( relation_through_id not in all_entity_id_list ):\n",
    "        \n",
    "        # append it and sort.\n",
    "        all_entity_id_list.append( relation_through_id )\n",
    "        all_entity_id_list.sort()\n",
    "        \n",
    "    #-- END check to see if FROM in FROM-TO list --#\n",
    "    \n",
    "    print( \"\\n- after relation #{} - {}:\".format( relation_counter, relation ) )\n",
    "    print( \"----> Relation ID List ( {} ): {}\".format( len( relation_id_list ), relation_id_list ) )\n",
    "    print( \"----> from_to_entity_id_list ( {} ): {}\".format( len( from_to_entity_id_list ), from_to_entity_id_list ) )\n",
    "    print( \"----> all_entity_id_list ( {} ): {}\".format( len( all_entity_id_list ), all_entity_id_list ) )\n",
    "\n",
    "#-- END loop over Relations --#\n",
    "\n",
    "print( \"Relation ID List ( {} ): {}\".format( len( relation_id_list ), relation_id_list ) )\n",
    "print( \"from_to_entity_id_list ( {} ): {}\".format( len( from_to_entity_id_list ), from_to_entity_id_list ) )\n",
    "print( \"all_entity_id_list ( {} ): {}\".format( len( all_entity_id_list ), all_entity_id_list ) )"
   ]
  },
  {
   "cell_type": "markdown",
   "metadata": {},
   "source": [
    "### unit test - relation type role value lists\n",
    "\n",
    "- Back to [Table of Contents](#Table-of-Contents)"
   ]
  },
  {
   "cell_type": "markdown",
   "metadata": {},
   "source": [
    "#### unit test - relation type role value lists - BASIC\n",
    "\n",
    "- Back to [Table of Contents](#Table-of-Contents)"
   ]
  },
  {
   "cell_type": "code",
   "execution_count": 12,
   "metadata": {
    "ExecuteTime": {
     "end_time": "2020-01-18T04:25:07.429611Z",
     "start_time": "2020-01-18T04:25:06.749918Z"
    }
   },
   "outputs": [
    {
     "name": "stdout",
     "output_type": "stream",
     "text": [
      "In get_selection_filters(): use_entity_selection_IN is True\n",
      "In get_selection_filters(): \"entity_selection\" filtering was requested, but not specified in the request.  Defaulting to \"relation_selection\".\n",
      "In get_selection_filters(): use_entity_selection_IN is False\n",
      "In generate_master_entity_list: len( entity_dict ) = 72; entity_dict: {35: None, 36: None, 18: None, 24: None, 23: None, 22: None, 21: None, 20: None, 19: None, 25: None, 8: None, 9: None, 16: None, 13: None, 12: None, 11: None, 15: None, 14: None, 10: None, 80: None, 83: None, 82: None, 81: None, 69: None, 72: None, 71: None, 70: None, 46: None, 44: None, 40: None, 47: None, 45: None, 43: None, 42: None, 41: None, 39: None, 38: None, 32: None, 28: None, 33: None, 31: None, 30: None, 29: None, 27: None, 85: None, 89: None, 87: None, 90: None, 88: None, 86: None, 74: None, 78: None, 77: None, 76: None, 75: None, 63: None, 67: None, 66: None, 65: None, 64: None, 49: None, 53: None, 52: None, 51: None, 50: None, 55: None, 61: None, 59: None, 58: None, 60: None, 57: None, 56: None}\n",
      "In generate_master_entity_list(): master entity ID list length: 72 ( list: [8, 9, 10, 11, 12, 13, 14, 15, 16, 18, 19, 20, 21, 22, 23, 24, 25, 27, 28, 29, 30, 31, 32, 33, 35, 36, 38, 39, 40, 41, 42, 43, 44, 45, 46, 47, 49, 50, 51, 52, 53, 55, 56, 57, 58, 59, 60, 61, 63, 64, 65, 66, 67, 69, 70, 71, 72, 74, 75, 76, 77, 78, 80, 81, 82, 83, 85, 86, 87, 88, 89, 90] )\n"
     ]
    }
   ],
   "source": [
    "# make test instance.\n",
    "test_instance = NetworkDataOutputTest()\n",
    "\n",
    "# set up basic\n",
    "basic_instance = test_instance.set_up_basic_test_instance()\n",
    "\n",
    "# render\n",
    "basic_instance.render()\n",
    "\n",
    "# get relation QuerySet\n",
    "relation_qs = basic_instance.get_query_set()\n",
    "\n",
    "# get master ID list\n",
    "entity_id_list = basic_instance.get_master_entity_list()"
   ]
  },
  {
   "cell_type": "code",
   "execution_count": 16,
   "metadata": {
    "ExecuteTime": {
     "end_time": "2020-01-18T04:31:50.250958Z",
     "start_time": "2020-01-18T04:31:50.232868Z"
    }
   },
   "outputs": [
    {
     "name": "stdout",
     "output_type": "stream",
     "text": [
      "18 - context_text-Person-30\n",
      "match count: 0\n",
      "match count: 0\n"
     ]
    }
   ],
   "source": [
    "test_entity = Entity.objects.get( id = 18 )\n",
    "print( test_entity )\n",
    "\n",
    "test_qs = relation_qs.filter( relation_through = test_entity )\n",
    "print( \"match count: {}\".format( test_qs.count() ) )\n",
    "\n",
    "test_qs = relation_qs.filter( relation_through_id = 18 )\n",
    "print( \"match count: {}\".format( test_qs.count() ) )"
   ]
  },
  {
   "cell_type": "code",
   "execution_count": 21,
   "metadata": {
    "ExecuteTime": {
     "end_time": "2020-01-18T04:42:09.566349Z",
     "start_time": "2020-01-18T04:42:05.485153Z"
    },
    "scrolled": false
   },
   "outputs": [
    {
     "name": "stdout",
     "output_type": "stream",
     "text": [
      "----> type: 2 - mentioned - mentioned; role: FROM; list: [7, 24, 0, 0, 0, 0, 0, 0, 0, 7, 0, 0, 0, 0, 0, 0, 0, 0, 0, 0, 0, 0, 0, 0, 1, 0, 0, 0, 0, 0, 0, 0, 0, 0, 0, 0, 4, 0, 0, 0, 0, 6, 0, 0, 0, 0, 0, 0, 4, 0, 0, 0, 0, 3, 0, 0, 0, 4, 0, 0, 0, 0, 3, 0, 0, 0, 5, 0, 0, 0, 0, 0]\n",
      "----> type: 2 - mentioned - mentioned; role: TO; list: [0, 0, 2, 2, 2, 2, 2, 2, 2, 0, 1, 1, 1, 1, 1, 1, 1, 1, 1, 1, 1, 1, 1, 1, 0, 1, 1, 1, 1, 1, 1, 1, 1, 1, 1, 1, 0, 1, 1, 1, 1, 0, 1, 1, 1, 1, 1, 1, 0, 1, 1, 1, 1, 0, 1, 1, 1, 0, 1, 1, 1, 1, 0, 1, 1, 1, 0, 1, 1, 1, 1, 1]\n",
      "----> type: 2 - mentioned - mentioned; role: THROUGH; list: [0, 0, 0, 0, 0, 0, 0, 0, 0, 0, 0, 0, 0, 0, 0, 0, 0, 0, 0, 0, 0, 0, 0, 0, 0, 0, 0, 0, 0, 0, 0, 0, 0, 0, 0, 0, 0, 0, 0, 0, 0, 0, 0, 0, 0, 0, 0, 0, 0, 0, 0, 0, 0, 0, 0, 0, 0, 0, 0, 0, 0, 0, 0, 0, 0, 0, 0, 0, 0, 0, 0, 0]\n",
      "----> type: 1 - quoted - quoted; role: FROM; list: [4, 9, 0, 0, 0, 0, 0, 0, 0, 6, 0, 0, 0, 0, 0, 0, 0, 0, 0, 0, 0, 0, 0, 0, 1, 0, 0, 0, 0, 0, 0, 0, 0, 0, 0, 0, 3, 0, 0, 0, 0, 3, 0, 0, 0, 0, 0, 0, 4, 0, 0, 0, 0, 3, 0, 0, 0, 4, 0, 0, 0, 0, 3, 0, 0, 0, 2, 0, 0, 0, 0, 0]\n",
      "----> type: 1 - quoted - quoted; role: TO; list: [0, 0, 0, 2, 2, 2, 0, 0, 2, 0, 1, 1, 1, 1, 1, 1, 0, 0, 1, 0, 0, 0, 1, 0, 0, 1, 0, 0, 1, 0, 0, 0, 1, 0, 1, 0, 0, 0, 1, 1, 1, 0, 0, 0, 1, 1, 0, 1, 0, 1, 1, 1, 1, 0, 1, 1, 1, 0, 1, 1, 1, 1, 0, 1, 1, 1, 0, 0, 1, 0, 1, 0]\n",
      "----> type: 1 - quoted - quoted; role: THROUGH; list: [0, 0, 0, 0, 0, 0, 0, 0, 0, 0, 0, 0, 0, 0, 0, 0, 0, 0, 0, 0, 0, 0, 0, 0, 0, 0, 0, 0, 0, 0, 0, 0, 0, 0, 0, 0, 0, 0, 0, 0, 0, 0, 0, 0, 0, 0, 0, 0, 0, 0, 0, 0, 0, 0, 0, 0, 0, 0, 0, 0, 0, 0, 0, 0, 0, 0, 0, 0, 0, 0, 0, 0]\n",
      "----> type: 3 - shared_byline - Shared Byline; role: FROM; list: [1, 1, 0, 0, 0, 0, 0, 0, 0, 0, 0, 0, 0, 0, 0, 0, 0, 0, 0, 0, 0, 0, 0, 0, 0, 0, 0, 0, 0, 0, 0, 0, 0, 0, 0, 0, 0, 0, 0, 0, 0, 0, 0, 0, 0, 0, 0, 0, 0, 0, 0, 0, 0, 0, 0, 0, 0, 0, 0, 0, 0, 0, 0, 0, 0, 0, 0, 0, 0, 0, 0, 0]\n",
      "----> type: 3 - shared_byline - Shared Byline; role: TO; list: [1, 1, 0, 0, 0, 0, 0, 0, 0, 0, 0, 0, 0, 0, 0, 0, 0, 0, 0, 0, 0, 0, 0, 0, 0, 0, 0, 0, 0, 0, 0, 0, 0, 0, 0, 0, 0, 0, 0, 0, 0, 0, 0, 0, 0, 0, 0, 0, 0, 0, 0, 0, 0, 0, 0, 0, 0, 0, 0, 0, 0, 0, 0, 0, 0, 0, 0, 0, 0, 0, 0, 0]\n",
      "----> type: 3 - shared_byline - Shared Byline; role: THROUGH; list: [0, 0, 0, 0, 0, 0, 0, 0, 0, 0, 0, 0, 0, 0, 0, 0, 0, 0, 0, 0, 0, 0, 0, 0, 0, 0, 0, 0, 0, 0, 0, 0, 0, 0, 0, 0, 0, 0, 0, 0, 0, 0, 0, 0, 0, 0, 0, 0, 0, 0, 0, 0, 0, 0, 0, 0, 0, 0, 0, 0, 0, 0, 0, 0, 0, 0, 0, 0, 0, 0, 0, 0]\n"
     ]
    }
   ],
   "source": [
    "mentioned_type = Entity_Relation_Type.objects.get( slug = \"mentioned\" )\n",
    "quoted_type = Entity_Relation_Type.objects.get( slug = \"quoted\" )\n",
    "shared_byline_type = Entity_Relation_Type.objects.get( slug = \"shared_byline\" )\n",
    "type_list = [ mentioned_type, quoted_type, shared_byline_type ]\n",
    "role_list = [ ContextBase.RELATION_ROLES_FROM, ContextBase.RELATION_ROLES_TO, ContextBase.RELATION_ROLES_THROUGH ]\n",
    "\n",
    "# declare variables\n",
    "current_type_slug = None\n",
    "type_to_roles_map = {}\n",
    "role_to_list_map = {}\n",
    "\n",
    "# loop over types\n",
    "for current_type in type_list:\n",
    "    \n",
    "    # add to type_to_roles_map\n",
    "    current_type_slug = current_type.slug\n",
    "    role_to_list_map = {}\n",
    "    type_to_roles_map[ current_type_slug ] = role_to_list_map\n",
    "    \n",
    "    # loop over roles\n",
    "    for current_role in role_list:\n",
    "        \n",
    "        # init list\n",
    "        type_role_list = []\n",
    "        \n",
    "        # loop over IDs.\n",
    "        for entity_id in entity_id_list:\n",
    "            \n",
    "            # do lookup in relations.  relation type...\n",
    "            test_qs = relation_qs.filter( relation_type = current_type )\n",
    "\n",
    "            # and entity in requested role...\n",
    "            if ( current_role == ContextBase.RELATION_ROLES_FROM ):\n",
    "                test_qs = test_qs.filter( relation_from_id = entity_id )\n",
    "            elif ( current_role == ContextBase.RELATION_ROLES_TO ):\n",
    "                test_qs = test_qs.filter( relation_to_id = entity_id )\n",
    "            elif ( current_role == ContextBase.RELATION_ROLES_THROUGH ):\n",
    "                test_qs = test_qs.filter( relation_through_id = entity_id )\n",
    "            #-- END check to see which role we are filtering on. --#\n",
    "            \n",
    "            # get count of matches for this entity, requested type and role\n",
    "            entity_count = test_qs.count()\n",
    "            \n",
    "            # add count to list.\n",
    "            type_role_list.append( entity_count )\n",
    "            \n",
    "        #-- END loop over entities. --#\n",
    "        \n",
    "        # output the list.\n",
    "        print( \"----> type: {}; role: {}; list: {}\".format( current_type, current_role, type_role_list ) )\n",
    "        \n",
    "        # add it to role map for current type\n",
    "        role_to_list_map[ current_role ] = type_role_list\n",
    "        \n",
    "    #-- END loop over roles --#\n",
    "    \n",
    "#-- END loop over relation types. --#"
   ]
  },
  {
   "cell_type": "markdown",
   "metadata": {},
   "source": [
    "#### unit test - relation type role value lists - ENTITY_SELECTION\n",
    "\n",
    "- Back to [Table of Contents](#Table-of-Contents)"
   ]
  },
  {
   "cell_type": "code",
   "execution_count": 22,
   "metadata": {
    "ExecuteTime": {
     "end_time": "2020-01-18T04:49:48.518885Z",
     "start_time": "2020-01-18T04:49:47.451970Z"
    },
    "scrolled": true
   },
   "outputs": [
    {
     "name": "stdout",
     "output_type": "stream",
     "text": [
      "In get_selection_filters(): use_entity_selection_IN is True\n",
      "In get_selection_filters(): use_entity_selection_IN is False\n",
      "In generate_master_entity_list: len( entity_dict ) = 153; entity_dict: {135: None, 140: None, 139: None, 138: None, 136: None, 137: None, 161: None, 209: None, 218: None, 217: None, 216: None, 215: None, 214: None, 213: None, 212: None, 211: None, 72: None, 157: None, 210: None, 162: None, 163: None, 188: None, 190: None, 189: None, 171: None, 176: None, 175: None, 174: None, 173: None, 172: None, 35: None, 36: None, 220: None, 221: None, 222: None, 142: None, 144: None, 145: None, 143: None, 18: None, 24: None, 23: None, 22: None, 21: None, 20: None, 19: None, 25: None, 178: None, 181: None, 180: None, 185: None, 184: None, 183: None, 182: None, 179: None, 8: None, 9: None, 16: None, 13: None, 12: None, 11: None, 15: None, 14: None, 10: None, 80: None, 83: None, 82: None, 81: None, 192: None, 201: None, 200: None, 195: None, 194: None, 199: None, 198: None, 197: None, 196: None, 193: None, 69: None, 71: None, 70: None, 153: None, 159: None, 158: None, 155: None, 154: None, 156: None, 147: None, 206: None, 204: None, 207: None, 205: None, 203: None, 151: None, 148: None, 150: None, 149: None, 46: None, 44: None, 40: None, 47: None, 45: None, 43: None, 42: None, 41: None, 39: None, 38: None, 32: None, 28: None, 33: None, 31: None, 30: None, 29: None, 27: None, 85: None, 89: None, 87: None, 90: None, 88: None, 86: None, 165: None, 168: None, 167: None, 169: None, 166: None, 74: None, 78: None, 77: None, 76: None, 75: None, 63: None, 67: None, 66: None, 65: None, 64: None, 224: None, 229: None, 228: None, 227: None, 226: None, 225: None, 49: None, 53: None, 52: None, 51: None, 50: None, 55: None, 61: None, 59: None, 58: None, 60: None, 57: None, 56: None}\n",
      "In generate_master_entity_list(): master entity ID list length: 153 ( list: [8, 9, 10, 11, 12, 13, 14, 15, 16, 18, 19, 20, 21, 22, 23, 24, 25, 27, 28, 29, 30, 31, 32, 33, 35, 36, 38, 39, 40, 41, 42, 43, 44, 45, 46, 47, 49, 50, 51, 52, 53, 55, 56, 57, 58, 59, 60, 61, 63, 64, 65, 66, 67, 69, 70, 71, 72, 74, 75, 76, 77, 78, 80, 81, 82, 83, 85, 86, 87, 88, 89, 90, 135, 136, 137, 138, 139, 140, 142, 143, 144, 145, 147, 148, 149, 150, 151, 153, 154, 155, 156, 157, 158, 159, 161, 162, 163, 165, 166, 167, 168, 169, 171, 172, 173, 174, 175, 176, 178, 179, 180, 181, 182, 183, 184, 185, 188, 189, 190, 192, 193, 194, 195, 196, 197, 198, 199, 200, 201, 203, 204, 205, 206, 207, 209, 210, 211, 212, 213, 214, 215, 216, 217, 218, 220, 221, 222, 224, 225, 226, 227, 228, 229] )\n"
     ]
    }
   ],
   "source": [
    "# make test instance.\n",
    "test_instance = NetworkDataOutputTest()\n",
    "\n",
    "# set up basic\n",
    "ndo_instance = test_instance.set_up_entity_selection_test_instance()\n",
    "\n",
    "# render\n",
    "ndo_instance.render()\n",
    "\n",
    "# get relation QuerySet\n",
    "relation_qs = ndo_instance.get_query_set()\n",
    "\n",
    "# get master ID list\n",
    "entity_id_list = ndo_instance.get_master_entity_list()"
   ]
  },
  {
   "cell_type": "code",
   "execution_count": 23,
   "metadata": {
    "ExecuteTime": {
     "end_time": "2020-01-18T04:49:53.989560Z",
     "start_time": "2020-01-18T04:49:53.971364Z"
    }
   },
   "outputs": [
    {
     "name": "stdout",
     "output_type": "stream",
     "text": [
      "18 - context_text-Person-30\n",
      "match count: 0\n",
      "match count: 0\n"
     ]
    }
   ],
   "source": [
    "test_entity = Entity.objects.get( id = 18 )\n",
    "print( test_entity )\n",
    "\n",
    "test_qs = relation_qs.filter( relation_through = test_entity )\n",
    "print( \"match count: {}\".format( test_qs.count() ) )\n",
    "\n",
    "test_qs = relation_qs.filter( relation_through_id = 18 )\n",
    "print( \"match count: {}\".format( test_qs.count() ) )"
   ]
  },
  {
   "cell_type": "code",
   "execution_count": 24,
   "metadata": {
    "ExecuteTime": {
     "end_time": "2020-01-18T04:50:48.007488Z",
     "start_time": "2020-01-18T04:50:38.897731Z"
    }
   },
   "outputs": [
    {
     "name": "stdout",
     "output_type": "stream",
     "text": [
      "----> type: 2 - mentioned - mentioned; role: FROM; list: [7, 24, 0, 0, 0, 0, 0, 0, 0, 7, 0, 0, 0, 0, 0, 0, 0, 0, 0, 0, 0, 0, 0, 0, 1, 0, 0, 0, 0, 0, 0, 0, 0, 0, 0, 0, 4, 0, 0, 0, 0, 6, 0, 0, 0, 0, 0, 0, 4, 0, 0, 0, 0, 3, 0, 0, 0, 4, 0, 0, 0, 0, 3, 0, 0, 0, 5, 0, 0, 0, 0, 0, 0, 0, 0, 0, 0, 0, 0, 0, 0, 0, 0, 0, 0, 0, 0, 0, 0, 0, 0, 0, 0, 0, 0, 0, 0, 0, 0, 0, 0, 0, 0, 0, 0, 0, 0, 0, 0, 0, 0, 0, 0, 0, 0, 0, 0, 0, 0, 0, 0, 0, 0, 0, 0, 0, 0, 0, 0, 0, 0, 0, 0, 0, 0, 0, 0, 0, 0, 0, 0, 0, 0, 0, 0, 0, 0, 0, 0, 0, 0, 0, 0]\n",
      "----> type: 2 - mentioned - mentioned; role: TO; list: [0, 0, 2, 2, 2, 2, 2, 2, 2, 0, 1, 1, 1, 1, 1, 1, 1, 1, 1, 1, 1, 1, 1, 1, 0, 1, 1, 1, 1, 1, 1, 1, 1, 1, 1, 1, 0, 1, 1, 1, 1, 0, 1, 1, 1, 1, 1, 1, 0, 1, 1, 1, 1, 0, 1, 1, 1, 0, 1, 1, 1, 1, 0, 1, 1, 1, 0, 1, 1, 1, 1, 1, 0, 0, 0, 0, 0, 0, 0, 0, 0, 0, 0, 0, 0, 0, 0, 0, 0, 0, 0, 0, 0, 0, 0, 0, 0, 0, 0, 0, 0, 0, 0, 0, 0, 0, 0, 0, 0, 0, 0, 0, 0, 0, 0, 0, 0, 0, 0, 0, 0, 0, 0, 0, 0, 0, 0, 0, 0, 0, 0, 0, 0, 0, 0, 0, 0, 0, 0, 0, 0, 0, 0, 0, 0, 0, 0, 0, 0, 0, 0, 0, 0]\n",
      "----> type: 2 - mentioned - mentioned; role: THROUGH; list: [0, 0, 0, 0, 0, 0, 0, 0, 0, 0, 0, 0, 0, 0, 0, 0, 0, 0, 0, 0, 0, 0, 0, 0, 0, 0, 0, 0, 0, 0, 0, 0, 0, 0, 0, 0, 0, 0, 0, 0, 0, 0, 0, 0, 0, 0, 0, 0, 0, 0, 0, 0, 0, 0, 0, 0, 0, 0, 0, 0, 0, 0, 0, 0, 0, 0, 0, 0, 0, 0, 0, 0, 0, 0, 0, 0, 0, 0, 0, 0, 0, 0, 0, 0, 0, 0, 0, 0, 0, 0, 0, 0, 0, 0, 0, 0, 0, 0, 0, 0, 0, 0, 0, 0, 0, 0, 0, 0, 0, 0, 0, 0, 0, 0, 0, 0, 0, 0, 0, 0, 0, 0, 0, 0, 0, 0, 0, 0, 0, 0, 0, 0, 0, 0, 0, 0, 0, 0, 0, 0, 0, 0, 0, 0, 0, 0, 0, 0, 0, 0, 0, 0, 0]\n",
      "----> type: 1 - quoted - quoted; role: FROM; list: [4, 9, 0, 0, 0, 0, 0, 0, 0, 6, 0, 0, 0, 0, 0, 0, 0, 0, 0, 0, 0, 0, 0, 0, 1, 0, 0, 0, 0, 0, 0, 0, 0, 0, 0, 0, 3, 0, 0, 0, 0, 3, 0, 0, 0, 0, 0, 0, 4, 0, 0, 0, 0, 3, 0, 0, 0, 4, 0, 0, 0, 0, 3, 0, 0, 0, 2, 0, 0, 0, 0, 0, 0, 0, 0, 0, 0, 0, 0, 0, 0, 0, 0, 0, 0, 0, 0, 0, 0, 0, 0, 0, 0, 0, 0, 0, 0, 0, 0, 0, 0, 0, 0, 0, 0, 0, 0, 0, 0, 0, 0, 0, 0, 0, 0, 0, 0, 0, 0, 0, 0, 0, 0, 0, 0, 0, 0, 0, 0, 0, 0, 0, 0, 0, 0, 0, 0, 0, 0, 0, 0, 0, 0, 0, 0, 0, 0, 0, 0, 0, 0, 0, 0]\n",
      "----> type: 1 - quoted - quoted; role: TO; list: [0, 0, 0, 2, 2, 2, 0, 0, 2, 0, 1, 1, 1, 1, 1, 1, 0, 0, 1, 0, 0, 0, 1, 0, 0, 1, 0, 0, 1, 0, 0, 0, 1, 0, 1, 0, 0, 0, 1, 1, 1, 0, 0, 0, 1, 1, 0, 1, 0, 1, 1, 1, 1, 0, 1, 1, 1, 0, 1, 1, 1, 1, 0, 1, 1, 1, 0, 0, 1, 0, 1, 0, 0, 0, 0, 0, 0, 0, 0, 0, 0, 0, 0, 0, 0, 0, 0, 0, 0, 0, 0, 0, 0, 0, 0, 0, 0, 0, 0, 0, 0, 0, 0, 0, 0, 0, 0, 0, 0, 0, 0, 0, 0, 0, 0, 0, 0, 0, 0, 0, 0, 0, 0, 0, 0, 0, 0, 0, 0, 0, 0, 0, 0, 0, 0, 0, 0, 0, 0, 0, 0, 0, 0, 0, 0, 0, 0, 0, 0, 0, 0, 0, 0]\n",
      "----> type: 1 - quoted - quoted; role: THROUGH; list: [0, 0, 0, 0, 0, 0, 0, 0, 0, 0, 0, 0, 0, 0, 0, 0, 0, 0, 0, 0, 0, 0, 0, 0, 0, 0, 0, 0, 0, 0, 0, 0, 0, 0, 0, 0, 0, 0, 0, 0, 0, 0, 0, 0, 0, 0, 0, 0, 0, 0, 0, 0, 0, 0, 0, 0, 0, 0, 0, 0, 0, 0, 0, 0, 0, 0, 0, 0, 0, 0, 0, 0, 0, 0, 0, 0, 0, 0, 0, 0, 0, 0, 0, 0, 0, 0, 0, 0, 0, 0, 0, 0, 0, 0, 0, 0, 0, 0, 0, 0, 0, 0, 0, 0, 0, 0, 0, 0, 0, 0, 0, 0, 0, 0, 0, 0, 0, 0, 0, 0, 0, 0, 0, 0, 0, 0, 0, 0, 0, 0, 0, 0, 0, 0, 0, 0, 0, 0, 0, 0, 0, 0, 0, 0, 0, 0, 0, 0, 0, 0, 0, 0, 0]\n",
      "----> type: 3 - shared_byline - Shared Byline; role: FROM; list: [1, 1, 0, 0, 0, 0, 0, 0, 0, 0, 0, 0, 0, 0, 0, 0, 0, 0, 0, 0, 0, 0, 0, 0, 0, 0, 0, 0, 0, 0, 0, 0, 0, 0, 0, 0, 0, 0, 0, 0, 0, 0, 0, 0, 0, 0, 0, 0, 0, 0, 0, 0, 0, 0, 0, 0, 0, 0, 0, 0, 0, 0, 0, 0, 0, 0, 0, 0, 0, 0, 0, 0, 0, 0, 0, 0, 0, 0, 0, 0, 0, 0, 0, 0, 0, 0, 0, 0, 0, 0, 0, 0, 0, 0, 0, 0, 0, 0, 0, 0, 0, 0, 0, 0, 0, 0, 0, 0, 0, 0, 0, 0, 0, 0, 0, 0, 0, 0, 0, 0, 0, 0, 0, 0, 0, 0, 0, 0, 0, 0, 0, 0, 0, 0, 0, 0, 0, 0, 0, 0, 0, 0, 0, 0, 0, 0, 0, 0, 0, 0, 0, 0, 0]\n",
      "----> type: 3 - shared_byline - Shared Byline; role: TO; list: [1, 1, 0, 0, 0, 0, 0, 0, 0, 0, 0, 0, 0, 0, 0, 0, 0, 0, 0, 0, 0, 0, 0, 0, 0, 0, 0, 0, 0, 0, 0, 0, 0, 0, 0, 0, 0, 0, 0, 0, 0, 0, 0, 0, 0, 0, 0, 0, 0, 0, 0, 0, 0, 0, 0, 0, 0, 0, 0, 0, 0, 0, 0, 0, 0, 0, 0, 0, 0, 0, 0, 0, 0, 0, 0, 0, 0, 0, 0, 0, 0, 0, 0, 0, 0, 0, 0, 0, 0, 0, 0, 0, 0, 0, 0, 0, 0, 0, 0, 0, 0, 0, 0, 0, 0, 0, 0, 0, 0, 0, 0, 0, 0, 0, 0, 0, 0, 0, 0, 0, 0, 0, 0, 0, 0, 0, 0, 0, 0, 0, 0, 0, 0, 0, 0, 0, 0, 0, 0, 0, 0, 0, 0, 0, 0, 0, 0, 0, 0, 0, 0, 0, 0]\n",
      "----> type: 3 - shared_byline - Shared Byline; role: THROUGH; list: [0, 0, 0, 0, 0, 0, 0, 0, 0, 0, 0, 0, 0, 0, 0, 0, 0, 0, 0, 0, 0, 0, 0, 0, 0, 0, 0, 0, 0, 0, 0, 0, 0, 0, 0, 0, 0, 0, 0, 0, 0, 0, 0, 0, 0, 0, 0, 0, 0, 0, 0, 0, 0, 0, 0, 0, 0, 0, 0, 0, 0, 0, 0, 0, 0, 0, 0, 0, 0, 0, 0, 0, 0, 0, 0, 0, 0, 0, 0, 0, 0, 0, 0, 0, 0, 0, 0, 0, 0, 0, 0, 0, 0, 0, 0, 0, 0, 0, 0, 0, 0, 0, 0, 0, 0, 0, 0, 0, 0, 0, 0, 0, 0, 0, 0, 0, 0, 0, 0, 0, 0, 0, 0, 0, 0, 0, 0, 0, 0, 0, 0, 0, 0, 0, 0, 0, 0, 0, 0, 0, 0, 0, 0, 0, 0, 0, 0, 0, 0, 0, 0, 0, 0]\n"
     ]
    }
   ],
   "source": [
    "mentioned_type = Entity_Relation_Type.objects.get( slug = \"mentioned\" )\n",
    "quoted_type = Entity_Relation_Type.objects.get( slug = \"quoted\" )\n",
    "shared_byline_type = Entity_Relation_Type.objects.get( slug = \"shared_byline\" )\n",
    "type_list = [ mentioned_type, quoted_type, shared_byline_type ]\n",
    "role_list = [ ContextBase.RELATION_ROLES_FROM, ContextBase.RELATION_ROLES_TO, ContextBase.RELATION_ROLES_THROUGH ]\n",
    "\n",
    "# declare variables\n",
    "current_type_slug = None\n",
    "entity_selection_type_to_roles_map = {}\n",
    "role_to_list_map = {}\n",
    "\n",
    "# loop over types\n",
    "for current_type in type_list:\n",
    "    \n",
    "    # add to type_to_roles_map\n",
    "    current_type_slug = current_type.slug\n",
    "    role_to_list_map = {}\n",
    "    entity_selection_type_to_roles_map[ current_type_slug ] = role_to_list_map\n",
    "    \n",
    "    # loop over roles\n",
    "    for current_role in role_list:\n",
    "        \n",
    "        # init list\n",
    "        type_role_list = []\n",
    "        \n",
    "        # loop over IDs.\n",
    "        for entity_id in entity_id_list:\n",
    "            \n",
    "            # do lookup in relations.  relation type...\n",
    "            test_qs = relation_qs.filter( relation_type = current_type )\n",
    "\n",
    "            # and entity in requested role...\n",
    "            if ( current_role == ContextBase.RELATION_ROLES_FROM ):\n",
    "                test_qs = test_qs.filter( relation_from_id = entity_id )\n",
    "            elif ( current_role == ContextBase.RELATION_ROLES_TO ):\n",
    "                test_qs = test_qs.filter( relation_to_id = entity_id )\n",
    "            elif ( current_role == ContextBase.RELATION_ROLES_THROUGH ):\n",
    "                test_qs = test_qs.filter( relation_through_id = entity_id )\n",
    "            #-- END check to see which role we are filtering on. --#\n",
    "            \n",
    "            # get count of matches for this entity, requested type and role\n",
    "            entity_count = test_qs.count()\n",
    "            \n",
    "            # add count to list.\n",
    "            type_role_list.append( entity_count )\n",
    "            \n",
    "        #-- END loop over entities. --#\n",
    "        \n",
    "        # output the list.\n",
    "        print( \"----> type: {}; role: {}; list: {}\".format( current_type, current_role, type_role_list ) )\n",
    "        \n",
    "        # add it to role map for current type\n",
    "        role_to_list_map[ current_role ] = type_role_list\n",
    "        \n",
    "    #-- END loop over roles --#\n",
    "    \n",
    "#-- END loop over relation types. --#"
   ]
  },
  {
   "cell_type": "markdown",
   "metadata": {},
   "source": [
    "# TODO and DONE\n",
    "\n",
    "- Back to [Table of Contents](#Table-of-Contents)\n",
    "\n",
    "For TODO and DONE lists, see [analysis_todo.ipynb](analysis_todo.ipynb) --> Step 3 - render context networks."
   ]
  }
 ],
 "metadata": {
  "kernelspec": {
   "display_name": "research_virtualenv",
   "language": "python",
   "name": "research"
  },
  "language_info": {
   "codemirror_mode": {
    "name": "ipython",
    "version": 3
   },
   "file_extension": ".py",
   "mimetype": "text/x-python",
   "name": "python",
   "nbconvert_exporter": "python",
   "pygments_lexer": "ipython3",
   "version": "3.8.5"
  },
  "toc": {
   "base_numbering": 1,
   "nav_menu": {},
   "number_sections": true,
   "sideBar": true,
   "skip_h1_title": false,
   "title_cell": "Table of Contents",
   "title_sidebar": "Contents",
   "toc_cell": true,
   "toc_position": {},
   "toc_section_display": true,
   "toc_window_display": true
  }
 },
 "nbformat": 4,
 "nbformat_minor": 2
}
