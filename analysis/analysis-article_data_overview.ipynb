{
 "cells": [
  {
   "cell_type": "markdown",
   "id": "ba4ccabf-42d0-4217-8baf-87bd790d8478",
   "metadata": {},
   "source": [
    "# Setup"
   ]
  },
  {
   "cell_type": "markdown",
   "id": "089876e6-2d2f-4fd0-96f6-730520fb0bab",
   "metadata": {},
   "source": [
    "## Setup - Imports"
   ]
  },
  {
   "cell_type": "code",
   "execution_count": 1,
   "id": "47c3f417-8fcb-49c1-85f3-44c070e980fe",
   "metadata": {},
   "outputs": [
    {
     "name": "stdout",
     "output_type": "stream",
     "text": [
      "packages imported at 2022-05-11 14:35:23.246217\n"
     ]
    }
   ],
   "source": [
    "# python base imports\n",
    "import datetime\n",
    "import json\n",
    "\n",
    "# import six\n",
    "import six\n",
    "\n",
    "print( \"packages imported at \" + str( datetime.datetime.now() ) )"
   ]
  },
  {
   "cell_type": "markdown",
   "id": "17939321-ff9b-4230-84ef-5165d0d8820a",
   "metadata": {},
   "source": [
    "## Setup - Initialize Django\n",
    "\n",
    "- Back to [Table of Contents](#Table-of-Contents)\n",
    "\n",
    "First, initialize my dev django project, so I can run code in this notebook that references my django models and can talk to the database using my project's settings."
   ]
  },
  {
   "cell_type": "code",
   "execution_count": 2,
   "id": "f2ea6891-3f5d-48f3-b819-a8ba8fa9d869",
   "metadata": {},
   "outputs": [
    {
     "name": "stdout",
     "output_type": "stream",
     "text": [
      "django initialized at 2022-05-11 14:35:26.467878\n"
     ]
    }
   ],
   "source": [
    "%run ../django_init.py"
   ]
  },
  {
   "cell_type": "code",
   "execution_count": 21,
   "id": "4c4c9544-0d64-4cf1-baca-f1226617dec1",
   "metadata": {},
   "outputs": [
    {
     "name": "stdout",
     "output_type": "stream",
     "text": [
      "django model packages imported at 2022-05-11 15:14:44.090555\n"
     ]
    }
   ],
   "source": [
    "# django imports\n",
    "from django.contrib.auth.models import User\n",
    "from django.db.models import Max\n",
    "from django.db.models import Min\n",
    "\n",
    "# sourcenet imports\n",
    "from context_text.shared.context_text_base import ContextTextBase\n",
    "\n",
    "# context_analysis imports\n",
    "from context_analysis.network.network_person_info import NetworkPersonInfo\n",
    "\n",
    "# sourcenet imports\n",
    "from context_text.models import Article\n",
    "from context_text.models import Article_Author\n",
    "from context_text.models import Article_Data\n",
    "from context_text.models import Article_Subject\n",
    "from context_text.models import Newspaper\n",
    "from context_text.models import Person\n",
    "\n",
    "# article coding\n",
    "from context_text.article_coding.article_coder import ArticleCoder\n",
    "#from context_text.article_coding.article_coding import ArticleCoding\n",
    "from context_text.article_coding.open_calais_v2.open_calais_v2_article_coder import OpenCalaisV2ArticleCoder\n",
    "\n",
    "# import class that actually processes requests for outputting networks.\n",
    "from context_text.export.network_output import NetworkOutput\n",
    "\n",
    "# context_text shared\n",
    "from context_text.shared.context_text_base import ContextTextBase\n",
    "\n",
    "print( \"django model packages imported at \" + str( datetime.datetime.now() ) )"
   ]
  },
  {
   "cell_type": "markdown",
   "id": "732b5099-9487-4c60-a4bd-35df7a6bf144",
   "metadata": {},
   "source": [
    "## Setup - shared variables"
   ]
  },
  {
   "cell_type": "code",
   "execution_count": 28,
   "id": "3033a36d-b69a-4caf-89bd-9d8d7780e83c",
   "metadata": {},
   "outputs": [],
   "source": [
    "# get ArticleCoding instance.\n",
    "#article_coding = ArticleCoding()\n",
    "\n",
    "# automated coding user\n",
    "automated_coder = ArticleCoder.get_automated_coding_user()\n",
    "\n",
    "# newspapers for Grand Rapids Press and Detroit News.\n",
    "grand_rapids_press = Newspaper.objects.get( newsbank_code = \"GRPB\" )\n",
    "detroit_news = Newspaper.objects.get( newsbank_code = \"DTNB\" )\n",
    "\n",
    "# OpenCalais v2 coder type\n",
    "ocv2_coder_type = OpenCalaisV2ArticleCoder.CONFIG_APPLICATION"
   ]
  },
  {
   "cell_type": "markdown",
   "id": "7ea63481-8088-47d9-9a29-8d6db59daf4c",
   "metadata": {},
   "source": [
    "# Article_Data Overview"
   ]
  },
  {
   "cell_type": "code",
   "execution_count": 5,
   "id": "9986c8bb-60b7-420d-be6a-eb1f81e38eee",
   "metadata": {},
   "outputs": [
    {
     "name": "stdout",
     "output_type": "stream",
     "text": [
      "Starting with 45657 total Article_Data instances.\n"
     ]
    }
   ],
   "source": [
    "article_data_qs = None\n",
    "article_data_count = None\n",
    "\n",
    "# get all Article_Data.\n",
    "article_data_qs = Article_Data.objects.all()\n",
    "\n",
    "# how many we starting with?\n",
    "article_data_count = article_data_qs.count()\n",
    "\n",
    "print( \"Starting with {} total Article_Data instances.\".format( article_data_count ) )"
   ]
  },
  {
   "cell_type": "markdown",
   "id": "4fc98b10-3624-4df2-9f07-a091fe43a465",
   "metadata": {},
   "source": [
    "## Detect single-name people within Article_Data\n",
    "\n",
    "- Moved this work off to separate work notebook: [analysis-omit_single_names.ipynb](./omit_single_names.ipynb)"
   ]
  },
  {
   "cell_type": "markdown",
   "id": "df157d5e-320d-449c-a7e9-4e4f93b0f7c5",
   "metadata": {},
   "source": [
    "## Filter on coder"
   ]
  },
  {
   "cell_type": "markdown",
   "id": "02e34ac1-04de-415e-a0df-a63424f2e205",
   "metadata": {},
   "source": [
    "### Only automated coder"
   ]
  },
  {
   "cell_type": "code",
   "execution_count": 6,
   "id": "ab8dc939-fb55-4b9a-9b68-73a5b66b07b8",
   "metadata": {},
   "outputs": [
    {
     "name": "stdout",
     "output_type": "stream",
     "text": [
      "44211 Article_Data instances for coder automated.\n"
     ]
    }
   ],
   "source": [
    "# get automated coder user.\n",
    "#automated_coder = ArticleCoder.get_automated_coding_user()\n",
    "\n",
    "# filter to just Article_Data coded by this user.\n",
    "article_data_qs = article_data_qs.filter( coder = automated_coder )\n",
    "\n",
    "# how many now?\n",
    "article_data_count = article_data_qs.count()\n",
    "\n",
    "print( \"{} Article_Data instances for coder {}.\".format( article_data_count, automated_coder ) )"
   ]
  },
  {
   "cell_type": "markdown",
   "id": "03f38008-d065-4de6-820d-d42df9a5cd4a",
   "metadata": {},
   "source": [
    "### Only OpenCalais_v2"
   ]
  },
  {
   "cell_type": "code",
   "execution_count": 10,
   "id": "ff170204-17c8-4b5f-a94e-f698e3d6c2c2",
   "metadata": {},
   "outputs": [
    {
     "name": "stdout",
     "output_type": "stream",
     "text": [
      "43843 Article_Data instances for coder_type OpenCalais_REST_API_v2.\n"
     ]
    }
   ],
   "source": [
    "my_coder_type = ocv2_coder_type\n",
    "\n",
    "# filter to just Article_Data with coder_type of \"OpenCalais_REST_API_v2\"\n",
    "article_data_qs = article_data_qs.filter( coder_type = my_coder_type )\n",
    "\n",
    "# how many now?\n",
    "article_data_count = article_data_qs.count()\n",
    "\n",
    "print( \"{} Article_Data instances for coder_type {}.\".format( article_data_count, my_coder_type ) )"
   ]
  },
  {
   "cell_type": "markdown",
   "id": "6d226020-ce1e-4738-b0c4-a95f3634b46c",
   "metadata": {},
   "source": [
    "## Filter on paper"
   ]
  },
  {
   "cell_type": "markdown",
   "id": "ca0dd642-7aca-4530-9f5f-94fc30c172f4",
   "metadata": {},
   "source": [
    "### Only Detroit News"
   ]
  },
  {
   "cell_type": "code",
   "execution_count": null,
   "id": "67966f9f-edd9-4897-bd3d-6f429040bc50",
   "metadata": {},
   "outputs": [],
   "source": [
    "# get automated coder user.\n",
    "#automated_coder = ArticleCoder.get_automated_coding_user()\n",
    "my_newspaper = detroit_news\n",
    "\n",
    "# filter to just Article_Data coded by this user.\n",
    "article_data_qs = article_data_qs.filter( article__newspaper = my_newspaper )\n",
    "\n",
    "# how many now?\n",
    "article_data_count = article_data_qs.count()\n",
    "\n",
    "print( \"{} Article_Data instances for newspaper {}.\".format( article_data_count, my_newspaper ) )"
   ]
  },
  {
   "cell_type": "markdown",
   "id": "e57f2480-d4e7-42d4-b834-82c6f56c6765",
   "metadata": {
    "tags": []
   },
   "source": [
    "### Only Grand Rapids Press"
   ]
  },
  {
   "cell_type": "code",
   "execution_count": 15,
   "id": "a02e7c06-14f1-479a-b30f-04b90281df55",
   "metadata": {
    "tags": []
   },
   "outputs": [
    {
     "name": "stdout",
     "output_type": "stream",
     "text": [
      "43816 Article_Data instances for newspaper 1 - Grand Rapids Press, The ( GRPB ).\n"
     ]
    }
   ],
   "source": [
    "# get automated coder user.\n",
    "#automated_coder = ArticleCoder.get_automated_coding_user()\n",
    "my_newspaper = grand_rapids_press\n",
    "\n",
    "# filter to just Article_Data coded by this user.\n",
    "article_data_qs = article_data_qs.filter( article__newspaper = my_newspaper )\n",
    "\n",
    "# how many now?\n",
    "article_data_count = article_data_qs.count()\n",
    "\n",
    "print( \"{} Article_Data instances for newspaper {}.\".format( article_data_count, my_newspaper ) )"
   ]
  },
  {
   "cell_type": "markdown",
   "id": "a108d8c9-4024-4095-8c8c-64af8f832006",
   "metadata": {},
   "source": [
    "# Article_Data for GRP analysis"
   ]
  },
  {
   "cell_type": "code",
   "execution_count": 15,
   "id": "e23dc8de-6b98-45e7-9b52-455297804771",
   "metadata": {},
   "outputs": [],
   "source": [
    "# init\n",
    "grp_article_data_qs = None\n",
    "article_data_count = None\n",
    "work_qs = None"
   ]
  },
  {
   "cell_type": "code",
   "execution_count": 16,
   "id": "96f4a1c1-4189-40fb-ae8a-888a98d610c8",
   "metadata": {},
   "outputs": [
    {
     "name": "stdout",
     "output_type": "stream",
     "text": [
      "Starting with 45657 total Article_Data instances.\n"
     ]
    }
   ],
   "source": [
    "# get all Article_Data.\n",
    "grp_article_data_qs = Article_Data.objects.all()\n",
    "\n",
    "# how many we starting with?\n",
    "article_data_count = grp_article_data_qs.count()\n",
    "\n",
    "print( \"Starting with {} total Article_Data instances.\".format( article_data_count ) )"
   ]
  },
  {
   "cell_type": "markdown",
   "id": "eb106ef1-c2c6-4f22-a45f-d17f986799f6",
   "metadata": {},
   "source": [
    "## GRP - Only OpenCalais v.2"
   ]
  },
  {
   "cell_type": "code",
   "execution_count": 17,
   "id": "73e0aadc-16a8-49fb-ac23-628f73e64bce",
   "metadata": {},
   "outputs": [
    {
     "name": "stdout",
     "output_type": "stream",
     "text": [
      "43843 Article_Data instances for coder_type OpenCalais_REST_API_v2.\n"
     ]
    }
   ],
   "source": [
    "my_coder_type = ocv2_coder_type\n",
    "\n",
    "# filter to just Article_Data with coder_type of \"OpenCalais_REST_API_v2\"\n",
    "grp_article_data_qs = grp_article_data_qs.filter( coder = automated_coder )\n",
    "grp_article_data_qs = grp_article_data_qs.filter( coder_type = my_coder_type )\n",
    "\n",
    "# how many now?\n",
    "article_data_count = grp_article_data_qs.count()\n",
    "\n",
    "print( \"{} Article_Data instances for coder_type {}.\".format( article_data_count, my_coder_type ) )"
   ]
  },
  {
   "cell_type": "markdown",
   "id": "d0096614-07ec-4534-8782-900a542e9073",
   "metadata": {
    "tags": []
   },
   "source": [
    "## GRP - Only Grand Rapids Press"
   ]
  },
  {
   "cell_type": "code",
   "execution_count": 18,
   "id": "5bf25cde-42f2-42e3-9c6b-157a87e1f54c",
   "metadata": {
    "tags": []
   },
   "outputs": [
    {
     "name": "stdout",
     "output_type": "stream",
     "text": [
      "43816 Article_Data instances for newspaper 1 - Grand Rapids Press, The ( GRPB ).\n"
     ]
    }
   ],
   "source": [
    "# get automated coder user.\n",
    "#automated_coder = ArticleCoder.get_automated_coding_user()\n",
    "my_newspaper = grand_rapids_press\n",
    "\n",
    "# filter to just Article_Data coded by this user.\n",
    "grp_article_data_qs = grp_article_data_qs.filter( article__newspaper = my_newspaper )\n",
    "\n",
    "# how many now?\n",
    "article_data_count = grp_article_data_qs.count()\n",
    "\n",
    "print( \"{} Article_Data instances for newspaper {}.\".format( article_data_count, my_newspaper ) )"
   ]
  },
  {
   "cell_type": "markdown",
   "id": "4e35d805-6d74-47d1-927d-58d92a23f6f2",
   "metadata": {},
   "source": [
    "## GRP - date ranges\n",
    "\n",
    "Get min and max publication dates for articles within Article_Data QuerySet.\n",
    "\n",
    "- Django aggregation function guide: [https://docs.djangoproject.com/en/4.0/topics/db/aggregation/](https://docs.djangoproject.com/en/4.0/topics/db/aggregation/)"
   ]
  },
  {
   "cell_type": "code",
   "execution_count": 23,
   "id": "cb247fdb-615e-4328-a56a-3c77631c3116",
   "metadata": {},
   "outputs": [
    {
     "name": "stdout",
     "output_type": "stream",
     "text": [
      "Min pubdate: 2005-01-01 ( {'article__pub_date__min': datetime.date(2005, 1, 1)} )\n"
     ]
    }
   ],
   "source": [
    "# minimum publication date\n",
    "work_qs = grp_article_data_qs\n",
    "aggregate_value_dict = work_qs.aggregate( Min( \"article__pub_date\" ) )  \n",
    "min_pubdate = aggregate_value_dict[ \"article__pub_date__min\" ]\n",
    "print( \"Min pubdate: {min_pubdate} ( {agg_dict} )\".format( min_pubdate = min_pubdate, agg_dict = aggregate_value_dict ) )"
   ]
  },
  {
   "cell_type": "code",
   "execution_count": 24,
   "id": "2436b1c2-2789-4a47-aeca-6f4ad908ae7d",
   "metadata": {},
   "outputs": [
    {
     "name": "stdout",
     "output_type": "stream",
     "text": [
      "Max pubdate: 2010-11-30 ( {'article__pub_date__max': datetime.date(2010, 11, 30)} )\n"
     ]
    }
   ],
   "source": [
    "# maximum publication date\n",
    "work_qs = grp_article_data_qs\n",
    "aggregate_value_dict = work_qs.aggregate( Max( \"article__pub_date\" ) )  \n",
    "max_pubdate = aggregate_value_dict[ \"article__pub_date__max\" ]\n",
    "print( \"Max pubdate: {max_pubdate} ( {agg_dict} )\".format( max_pubdate = max_pubdate, agg_dict = aggregate_value_dict ) )"
   ]
  },
  {
   "cell_type": "markdown",
   "id": "9d1be7e4-f621-4298-9369-5ca70ff95fe7",
   "metadata": {},
   "source": [
    "## GRP - missing names in Article_Subject"
   ]
  },
  {
   "cell_type": "markdown",
   "id": "14049976-e8f6-4bad-a9c9-1c266708fbe5",
   "metadata": {},
   "source": [
    "### GRP - Article_Subject - name"
   ]
  },
  {
   "cell_type": "code",
   "execution_count": 31,
   "id": "a8cff412-93d9-4f3a-952b-5814c47abc1b",
   "metadata": {},
   "outputs": [
    {
     "name": "stdout",
     "output_type": "stream",
     "text": [
      "Article_Subject count: 220076\n",
      "Empty name count: 2302\n",
      "Empty name by automated coder count: 1335\n",
      "Empty name by OpenCalais v2: 55\n",
      "Empty name only GRP articles: 53\n"
     ]
    }
   ],
   "source": [
    "# declare variables\n",
    "empty_name_list = None\n",
    "ad_id_to_empty_name_map = None\n",
    "article_data = None\n",
    "name_qs = None\n",
    "name_count = None\n",
    "\n",
    "# init\n",
    "empty_name_list = list()\n",
    "ad_id_to_empty_name_map = dict()\n",
    "\n",
    "# ==> name\n",
    "\n",
    "# get all Article_Subject...\n",
    "name_qs = Article_Subject.objects.all()\n",
    "name_count = name_qs.count()\n",
    "print( \"Article_Subject count: {}\".format( name_count ) ) \n",
    "\n",
    "# ...with empty name...\n",
    "name_qs = name_qs.filter( name__isnull = True )\n",
    "name_count = name_qs.count()\n",
    "print( \"Empty name count: {}\".format( name_count ) ) \n",
    "\n",
    "# ...just those that are related to an automated coder...\n",
    "name_qs = name_qs.filter( article_data__coder = automated_coder )\n",
    "name_count = name_qs.count()\n",
    "print( \"Empty name by automated coder count: {}\".format( name_count ) )\n",
    "\n",
    "# ...just those that are type \"OpenCalais_REST_API_v2\"...\n",
    "name_qs = name_qs.filter( article_data__coder_type = ocv2_coder_type )\n",
    "name_count = name_qs.count()\n",
    "print( \"Empty name by OpenCalais v2: {}\".format( name_count ) )\n",
    "\n",
    "# ...only Grand Rapids Press...?\n",
    "name_qs = name_qs.filter( article_data__article__newspaper = grand_rapids_press )\n",
    "name_count = name_qs.count()\n",
    "print( \"Empty name only GRP articles: {}\".format( name_count ) )"
   ]
  },
  {
   "cell_type": "markdown",
   "id": "13d2520f-e3dd-4c24-aab5-ff6d3888c644",
   "metadata": {},
   "source": [
    "### GRP - Article_Subject - verbatim_name"
   ]
  },
  {
   "cell_type": "code",
   "execution_count": 32,
   "id": "14cc0594-a303-4d13-84f8-16d060e894c9",
   "metadata": {},
   "outputs": [
    {
     "name": "stdout",
     "output_type": "stream",
     "text": [
      "Article_Subject count: 220076\n",
      "Empty verbatim_name count: 6589\n",
      "Empty verbatim_name by automated coder count: 1335\n",
      "Empty verbatim_name by OpenCalais v2: 55\n",
      "Empty verbatim_name only GRP articles: 53\n"
     ]
    }
   ],
   "source": [
    "# declare variables\n",
    "empty_name_list = None\n",
    "ad_id_to_empty_name_map = None\n",
    "article_data = None\n",
    "name_qs = None\n",
    "name_count = None\n",
    "\n",
    "# init\n",
    "empty_name_list = list()\n",
    "ad_id_to_empty_name_map = dict()\n",
    "\n",
    "# ==> name\n",
    "\n",
    "# get all Article_Subject...\n",
    "name_qs = Article_Subject.objects.all()\n",
    "name_count = name_qs.count()\n",
    "print( \"Article_Subject count: {}\".format( name_count ) ) \n",
    "\n",
    "# ...with empty verbatim_name...\n",
    "name_qs = name_qs.filter( verbatim_name__isnull = True )\n",
    "name_count = name_qs.count()\n",
    "print( \"Empty verbatim_name count: {}\".format( name_count ) ) \n",
    "\n",
    "# ...just those that are related to an automated coder...\n",
    "name_qs = name_qs.filter( article_data__coder = automated_coder )\n",
    "name_count = name_qs.count()\n",
    "print( \"Empty verbatim_name by automated coder count: {}\".format( name_count ) )\n",
    "\n",
    "# ...just those that are type \"OpenCalais_REST_API_v2\"...\n",
    "name_qs = name_qs.filter( article_data__coder_type = ocv2_coder_type )\n",
    "name_count = name_qs.count()\n",
    "print( \"Empty verbatim_name by OpenCalais v2: {}\".format( name_count ) )\n",
    "\n",
    "# ...only Grand Rapids Press...?\n",
    "name_qs = name_qs.filter( article_data__article__newspaper = grand_rapids_press )\n",
    "name_count = name_qs.count()\n",
    "print( \"Empty verbatim_name only GRP articles: {}\".format( name_count ) )"
   ]
  },
  {
   "cell_type": "markdown",
   "id": "1b3b58e7-00ff-43aa-9670-0351ba2cc50e",
   "metadata": {},
   "source": [
    "### GRP - Article_Subject - lookup_name"
   ]
  },
  {
   "cell_type": "code",
   "execution_count": 33,
   "id": "492fe8c1-4ae2-49b5-9499-c12d5966634a",
   "metadata": {},
   "outputs": [
    {
     "name": "stdout",
     "output_type": "stream",
     "text": [
      "Article_Subject count: 220076\n",
      "Empty lookup_name count: 6589\n",
      "Empty lookup_name by automated coder count: 1335\n",
      "Empty lookup_name by OpenCalais v2: 55\n",
      "Empty lookup_name only GRP articles: 53\n"
     ]
    }
   ],
   "source": [
    "# declare variables\n",
    "empty_name_list = None\n",
    "ad_id_to_empty_name_map = None\n",
    "article_data = None\n",
    "name_qs = None\n",
    "name_count = None\n",
    "\n",
    "# init\n",
    "empty_name_list = list()\n",
    "ad_id_to_empty_name_map = dict()\n",
    "\n",
    "# ==> name\n",
    "\n",
    "# get all Article_Subject...\n",
    "name_qs = Article_Subject.objects.all()\n",
    "name_count = name_qs.count()\n",
    "print( \"Article_Subject count: {}\".format( name_count ) ) \n",
    "\n",
    "# ...with empty lookup_name...\n",
    "name_qs = name_qs.filter( lookup_name__isnull = True )\n",
    "name_count = name_qs.count()\n",
    "print( \"Empty lookup_name count: {}\".format( name_count ) ) \n",
    "\n",
    "# ...just those that are related to an automated coder...\n",
    "name_qs = name_qs.filter( article_data__coder = automated_coder )\n",
    "name_count = name_qs.count()\n",
    "print( \"Empty lookup_name by automated coder count: {}\".format( name_count ) )\n",
    "\n",
    "# ...just those that are type \"OpenCalais_REST_API_v2\"...\n",
    "name_qs = name_qs.filter( article_data__coder_type = ocv2_coder_type )\n",
    "name_count = name_qs.count()\n",
    "print( \"Empty lookup_name by OpenCalais v2: {}\".format( name_count ) )\n",
    "\n",
    "# ...only Grand Rapids Press...?\n",
    "name_qs = name_qs.filter( article_data__article__newspaper = grand_rapids_press )\n",
    "name_count = name_qs.count()\n",
    "print( \"Empty lookup_name only GRP articles: {}\".format( name_count ) )"
   ]
  },
  {
   "cell_type": "markdown",
   "id": "f58491b1-b8f4-4827-a06b-4aab3ff26ef7",
   "metadata": {},
   "source": [
    "### GRP - Article_Subject - all three"
   ]
  },
  {
   "cell_type": "code",
   "execution_count": 35,
   "id": "92d9dff2-520c-4830-8d82-43850cb0d45c",
   "metadata": {},
   "outputs": [
    {
     "name": "stdout",
     "output_type": "stream",
     "text": [
      "Article_Subject count: 220076\n",
      "Empty all names count: 2302\n",
      "Empty all names by automated coder count: 1335\n",
      "Empty all names by OpenCalais v2: 55\n",
      "Empty all names only GRP articles: 53\n"
     ]
    }
   ],
   "source": [
    "# declare variables\n",
    "empty_name_list = None\n",
    "ad_id_to_empty_name_map = None\n",
    "article_data = None\n",
    "name_qs = None\n",
    "name_count = None\n",
    "\n",
    "# init\n",
    "empty_name_list = list()\n",
    "ad_id_to_empty_name_map = dict()\n",
    "\n",
    "# ==> name\n",
    "\n",
    "# get all Article_Subject...\n",
    "name_qs = Article_Subject.objects.all()\n",
    "name_count = name_qs.count()\n",
    "print( \"Article_Subject count: {}\".format( name_count ) ) \n",
    "\n",
    "# ...with empty name...\n",
    "name_qs = name_qs.filter( name__isnull = True )\n",
    "name_qs = name_qs.filter( verbatim_name__isnull = True )\n",
    "name_qs = name_qs.filter( lookup_name__isnull = True )\n",
    "name_count = name_qs.count()\n",
    "print( \"Empty all names count: {}\".format( name_count ) ) \n",
    "\n",
    "# ...just those that are related to an automated coder...\n",
    "name_qs = name_qs.filter( article_data__coder = automated_coder )\n",
    "name_count = name_qs.count()\n",
    "print( \"Empty all names by automated coder count: {}\".format( name_count ) )\n",
    "\n",
    "# ...just those that are type \"OpenCalais_REST_API_v2\"...\n",
    "name_qs = name_qs.filter( article_data__coder_type = ocv2_coder_type )\n",
    "name_count = name_qs.count()\n",
    "print( \"Empty all names by OpenCalais v2: {}\".format( name_count ) )\n",
    "\n",
    "# ...only Grand Rapids Press...?\n",
    "name_qs = name_qs.filter( article_data__article__newspaper = grand_rapids_press )\n",
    "name_count = name_qs.count()\n",
    "print( \"Empty all names only GRP articles: {}\".format( name_count ) )"
   ]
  },
  {
   "cell_type": "code",
   "execution_count": null,
   "id": "350e3c4c-ec4e-420b-b9ab-d70c19a045a1",
   "metadata": {},
   "outputs": [],
   "source": []
  },
  {
   "cell_type": "markdown",
   "id": "1cc2f77f-3d4e-432f-85e7-c1919620d870",
   "metadata": {},
   "source": [
    "## GRP - missing names in Article_Author"
   ]
  },
  {
   "cell_type": "markdown",
   "id": "86a05732-5c75-4228-abde-7e0c5bac7303",
   "metadata": {},
   "source": [
    "### GRP - Article_Author - name"
   ]
  },
  {
   "cell_type": "code",
   "execution_count": 36,
   "id": "c24af012-21c3-449d-a7da-f876401f4c6d",
   "metadata": {},
   "outputs": [
    {
     "name": "stdout",
     "output_type": "stream",
     "text": [
      "Article_Subject count: 47190\n",
      "Empty name count: 707\n",
      "Empty name by automated coder count: 393\n",
      "Empty name by OpenCalais v2: 11\n",
      "Empty name only GRP articles: 11\n"
     ]
    }
   ],
   "source": [
    "# declare variables\n",
    "empty_name_list = None\n",
    "ad_id_to_empty_name_map = None\n",
    "article_data = None\n",
    "name_qs = None\n",
    "name_count = None\n",
    "\n",
    "# init\n",
    "empty_name_list = list()\n",
    "ad_id_to_empty_name_map = dict()\n",
    "\n",
    "# ==> name\n",
    "\n",
    "# get all Article_Author...\n",
    "name_qs = Article_Author.objects.all()\n",
    "name_count = name_qs.count()\n",
    "print( \"Article_Author count: {}\".format( name_count ) ) \n",
    "\n",
    "# ...with empty name...\n",
    "name_qs = name_qs.filter( name__isnull = True )\n",
    "name_count = name_qs.count()\n",
    "print( \"Empty name count: {}\".format( name_count ) ) \n",
    "\n",
    "# ...just those that are related to an automated coder...\n",
    "name_qs = name_qs.filter( article_data__coder = automated_coder )\n",
    "name_count = name_qs.count()\n",
    "print( \"Empty name by automated coder count: {}\".format( name_count ) )\n",
    "\n",
    "# ...just those that are type \"OpenCalais_REST_API_v2\"...\n",
    "name_qs = name_qs.filter( article_data__coder_type = ocv2_coder_type )\n",
    "name_count = name_qs.count()\n",
    "print( \"Empty name by OpenCalais v2: {}\".format( name_count ) )\n",
    "\n",
    "# ...only Grand Rapids Press...?\n",
    "name_qs = name_qs.filter( article_data__article__newspaper = grand_rapids_press )\n",
    "name_count = name_qs.count()\n",
    "print( \"Empty name only GRP articles: {}\".format( name_count ) )"
   ]
  },
  {
   "cell_type": "markdown",
   "id": "5f789e51-c647-4da8-b318-e62ef82f2d96",
   "metadata": {},
   "source": [
    "### GRP - Article_Author - verbatim_name"
   ]
  },
  {
   "cell_type": "code",
   "execution_count": 37,
   "id": "fafcd371-0a1a-4171-9b30-0760170bc1bb",
   "metadata": {},
   "outputs": [
    {
     "name": "stdout",
     "output_type": "stream",
     "text": [
      "Article_Author count: 47190\n",
      "Empty verbatim_name count: 1809\n",
      "Empty verbatim_name by automated coder count: 393\n",
      "Empty verbatim_name by OpenCalais v2: 11\n",
      "Empty verbatim_name only GRP articles: 11\n"
     ]
    }
   ],
   "source": [
    "# declare variables\n",
    "empty_name_list = None\n",
    "ad_id_to_empty_name_map = None\n",
    "article_data = None\n",
    "name_qs = None\n",
    "name_count = None\n",
    "\n",
    "# init\n",
    "empty_name_list = list()\n",
    "ad_id_to_empty_name_map = dict()\n",
    "\n",
    "# ==> name\n",
    "\n",
    "# get all Article_Author...\n",
    "name_qs = Article_Author.objects.all()\n",
    "name_count = name_qs.count()\n",
    "print( \"Article_Author count: {}\".format( name_count ) ) \n",
    "\n",
    "# ...with empty verbatim_name...\n",
    "name_qs = name_qs.filter( verbatim_name__isnull = True )\n",
    "name_count = name_qs.count()\n",
    "print( \"Empty verbatim_name count: {}\".format( name_count ) ) \n",
    "\n",
    "# ...just those that are related to an automated coder...\n",
    "name_qs = name_qs.filter( article_data__coder = automated_coder )\n",
    "name_count = name_qs.count()\n",
    "print( \"Empty verbatim_name by automated coder count: {}\".format( name_count ) )\n",
    "\n",
    "# ...just those that are type \"OpenCalais_REST_API_v2\"...\n",
    "name_qs = name_qs.filter( article_data__coder_type = ocv2_coder_type )\n",
    "name_count = name_qs.count()\n",
    "print( \"Empty verbatim_name by OpenCalais v2: {}\".format( name_count ) )\n",
    "\n",
    "# ...only Grand Rapids Press...?\n",
    "name_qs = name_qs.filter( article_data__article__newspaper = grand_rapids_press )\n",
    "name_count = name_qs.count()\n",
    "print( \"Empty verbatim_name only GRP articles: {}\".format( name_count ) )"
   ]
  },
  {
   "cell_type": "markdown",
   "id": "40edbdf0-38a5-4e1b-b477-f092c40e32ae",
   "metadata": {},
   "source": [
    "### GRP - Article_Author - lookup_name"
   ]
  },
  {
   "cell_type": "code",
   "execution_count": 38,
   "id": "e66e76aa-fe17-4942-9edb-947cad12b03a",
   "metadata": {},
   "outputs": [
    {
     "name": "stdout",
     "output_type": "stream",
     "text": [
      "Article_Author count: 47190\n",
      "Empty lookup_name count: 1809\n",
      "Empty lookup_name by automated coder count: 393\n",
      "Empty lookup_name by OpenCalais v2: 11\n",
      "Empty lookup_name only GRP articles: 11\n"
     ]
    }
   ],
   "source": [
    "# declare variables\n",
    "empty_name_list = None\n",
    "ad_id_to_empty_name_map = None\n",
    "article_data = None\n",
    "name_qs = None\n",
    "name_count = None\n",
    "\n",
    "# init\n",
    "empty_name_list = list()\n",
    "ad_id_to_empty_name_map = dict()\n",
    "\n",
    "# ==> name\n",
    "\n",
    "# get all Article_Author...\n",
    "name_qs = Article_Author.objects.all()\n",
    "name_count = name_qs.count()\n",
    "print( \"Article_Author count: {}\".format( name_count ) ) \n",
    "\n",
    "# ...with empty lookup_name...\n",
    "name_qs = name_qs.filter( lookup_name__isnull = True )\n",
    "name_count = name_qs.count()\n",
    "print( \"Empty lookup_name count: {}\".format( name_count ) ) \n",
    "\n",
    "# ...just those that are related to an automated coder...\n",
    "name_qs = name_qs.filter( article_data__coder = automated_coder )\n",
    "name_count = name_qs.count()\n",
    "print( \"Empty lookup_name by automated coder count: {}\".format( name_count ) )\n",
    "\n",
    "# ...just those that are type \"OpenCalais_REST_API_v2\"...\n",
    "name_qs = name_qs.filter( article_data__coder_type = ocv2_coder_type )\n",
    "name_count = name_qs.count()\n",
    "print( \"Empty lookup_name by OpenCalais v2: {}\".format( name_count ) )\n",
    "\n",
    "# ...only Grand Rapids Press...?\n",
    "name_qs = name_qs.filter( article_data__article__newspaper = grand_rapids_press )\n",
    "name_count = name_qs.count()\n",
    "print( \"Empty lookup_name only GRP articles: {}\".format( name_count ) )"
   ]
  },
  {
   "cell_type": "markdown",
   "id": "90227fb1-9430-4fc4-a6a4-c49eb57dad58",
   "metadata": {},
   "source": [
    "### GRP - Article_Author - all three"
   ]
  },
  {
   "cell_type": "code",
   "execution_count": 39,
   "id": "d3570307-0f6c-474d-8a05-12952bd812d9",
   "metadata": {},
   "outputs": [
    {
     "name": "stdout",
     "output_type": "stream",
     "text": [
      "Article_Author count: 47190\n",
      "Empty all names count: 707\n",
      "Empty all names by automated coder count: 393\n",
      "Empty all names by OpenCalais v2: 11\n",
      "Empty all names only GRP articles: 11\n"
     ]
    }
   ],
   "source": [
    "# declare variables\n",
    "empty_name_list = None\n",
    "ad_id_to_empty_name_map = None\n",
    "article_data = None\n",
    "name_qs = None\n",
    "name_count = None\n",
    "\n",
    "# init\n",
    "empty_name_list = list()\n",
    "ad_id_to_empty_name_map = dict()\n",
    "\n",
    "# ==> name\n",
    "\n",
    "# get all Article_Author...\n",
    "name_qs = Article_Author.objects.all()\n",
    "name_count = name_qs.count()\n",
    "print( \"Article_Author count: {}\".format( name_count ) ) \n",
    "\n",
    "# ...with empty name...\n",
    "name_qs = name_qs.filter( name__isnull = True )\n",
    "name_qs = name_qs.filter( verbatim_name__isnull = True )\n",
    "name_qs = name_qs.filter( lookup_name__isnull = True )\n",
    "name_count = name_qs.count()\n",
    "print( \"Empty all names count: {}\".format( name_count ) ) \n",
    "\n",
    "# ...just those that are related to an automated coder...\n",
    "name_qs = name_qs.filter( article_data__coder = automated_coder )\n",
    "name_count = name_qs.count()\n",
    "print( \"Empty all names by automated coder count: {}\".format( name_count ) )\n",
    "\n",
    "# ...just those that are type \"OpenCalais_REST_API_v2\"...\n",
    "name_qs = name_qs.filter( article_data__coder_type = ocv2_coder_type )\n",
    "name_count = name_qs.count()\n",
    "print( \"Empty all names by OpenCalais v2: {}\".format( name_count ) )\n",
    "\n",
    "# ...only Grand Rapids Press...?\n",
    "name_qs = name_qs.filter( article_data__article__newspaper = grand_rapids_press )\n",
    "name_count = name_qs.count()\n",
    "print( \"Empty all names only GRP articles: {}\".format( name_count ) )"
   ]
  },
  {
   "cell_type": "code",
   "execution_count": null,
   "id": "35dc8db6-c3d4-4f17-87e2-1836758e0e04",
   "metadata": {},
   "outputs": [],
   "source": []
  }
 ],
 "metadata": {
  "kernelspec": {
   "display_name": "research_virtualenv",
   "language": "python",
   "name": "research"
  },
  "language_info": {
   "codemirror_mode": {
    "name": "ipython",
    "version": 3
   },
   "file_extension": ".py",
   "mimetype": "text/x-python",
   "name": "python",
   "nbconvert_exporter": "python",
   "pygments_lexer": "ipython3",
   "version": "3.10.4"
  },
  "toc-autonumbering": true
 },
 "nbformat": 4,
 "nbformat_minor": 5
}
