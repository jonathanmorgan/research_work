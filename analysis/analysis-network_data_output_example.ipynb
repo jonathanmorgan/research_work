{
 "cells": [
  {
   "cell_type": "markdown",
   "id": "a62fac68-0a57-47c6-b6cc-e62a02385a47",
   "metadata": {},
   "source": [
    "**analysis-network_data_output_example.ipynb - Programmatic network data output**"
   ]
  },
  {
   "cell_type": "markdown",
   "id": "ba4ccabf-42d0-4217-8baf-87bd790d8478",
   "metadata": {},
   "source": [
    "# Setup"
   ]
  },
  {
   "cell_type": "markdown",
   "id": "089876e6-2d2f-4fd0-96f6-730520fb0bab",
   "metadata": {},
   "source": [
    "## Setup - Imports"
   ]
  },
  {
   "cell_type": "code",
   "execution_count": 1,
   "id": "47c3f417-8fcb-49c1-85f3-44c070e980fe",
   "metadata": {},
   "outputs": [
    {
     "name": "stdout",
     "output_type": "stream",
     "text": [
      "packages imported at 2022-05-23 18:04:05.276770\n"
     ]
    }
   ],
   "source": [
    "# python base imports\n",
    "import datetime\n",
    "import json\n",
    "\n",
    "# import six\n",
    "import six\n",
    "\n",
    "print( \"packages imported at \" + str( datetime.datetime.now() ) )"
   ]
  },
  {
   "cell_type": "markdown",
   "id": "17939321-ff9b-4230-84ef-5165d0d8820a",
   "metadata": {},
   "source": [
    "## Setup - Initialize Django\n",
    "\n",
    "- Back to [Table of Contents](#Table-of-Contents)\n",
    "\n",
    "First, initialize my dev django project, so I can run code in this notebook that references my django models and can talk to the database using my project's settings."
   ]
  },
  {
   "cell_type": "code",
   "execution_count": 2,
   "id": "f2ea6891-3f5d-48f3-b819-a8ba8fa9d869",
   "metadata": {},
   "outputs": [
    {
     "name": "stdout",
     "output_type": "stream",
     "text": [
      "django initialized at 2022-05-23 18:04:07.138072\n"
     ]
    }
   ],
   "source": [
    "%run ../django_init.py"
   ]
  },
  {
   "cell_type": "code",
   "execution_count": 3,
   "id": "4c4c9544-0d64-4cf1-baca-f1226617dec1",
   "metadata": {},
   "outputs": [
    {
     "name": "stdout",
     "output_type": "stream",
     "text": [
      "django model packages imported at 2022-05-23 18:04:08.761833\n"
     ]
    }
   ],
   "source": [
    "# import class that actually processes requests for outputting networks.\n",
    "from context_text.export.network_output import NetworkOutput\n",
    "\n",
    "print( \"django model packages imported at \" + str( datetime.datetime.now() ) )"
   ]
  },
  {
   "cell_type": "markdown",
   "id": "79234051-2431-4f63-a80b-f05959831c0b",
   "metadata": {},
   "source": [
    "# network data output test"
   ]
  },
  {
   "cell_type": "markdown",
   "id": "6c03dbe0-2629-4761-907d-abc2af709dca",
   "metadata": {},
   "source": [
    "## from full data"
   ]
  },
  {
   "cell_type": "code",
   "execution_count": null,
   "id": "60ef24eb-3a73-4fc7-8b67-2979753889ed",
   "metadata": {},
   "outputs": [],
   "source": [
    "#include_single_word_names = \"yes\"\n",
    "include_single_word_names = \"no\"\n",
    "\n",
    "request_json_string = \"\"\"{\n",
    "    \"start_date\": \"2009-12-01\",\n",
    "    \"end_date\": \"2009-12-31\",\n",
    "    \"date_range\": \"\",\n",
    "    \"publications\": \"1\",\n",
    "    \"coder_id_priority_list\": \"2\",\n",
    "    \"coder_type_filter_type\": \"automated\",\n",
    "    \"coder_types_list\": \"OpenCalais_REST_API_v2\",\n",
    "    \"tags_list\": \"grp_month\",\n",
    "    \"unique_identifiers\": \"\",\n",
    "    \"allow_duplicate_articles\": \"no\",\n",
    "    \"include_source_contact_types\": [\n",
    "        \"direct\",\n",
    "        \"event\",\n",
    "        \"past_quotes\",\n",
    "        \"document\",\n",
    "        \"other\"\n",
    "    ],\n",
    "    \"exclude_persons_with_tags_in_list\": \"\",\n",
    "    \"include_persons_with_single_word_name\": \"no\",\n",
    "    \"network_download_as_file\": \"yes\",\n",
    "    \"network_include_render_details\": \"no\",\n",
    "    \"output_type\": \"tab_delimited_matrix\",\n",
    "    \"network_data_output_type\": \"net_and_attr_cols\",\n",
    "    \"network_label\": \"\",\n",
    "    \"network_include_headers\": \"yes\",\n",
    "    \"person_query_type\": \"custom\",\n",
    "    \"person_start_date\": \"2009-12-01\",\n",
    "    \"person_end_date\": \"2009-12-31\",\n",
    "    \"person_date_range\": \"\",\n",
    "    \"person_publications\": \"1\",\n",
    "    \"person_coders\": \"2\",\n",
    "    \"person_coder_id_priority_list\": \"\",\n",
    "    \"person_coder_type_filter_type\": \"automated\",\n",
    "    \"person_coder_types_list\": \"OpenCalais_REST_API_v2\",\n",
    "    \"person_tag_list\": \"grp_month\",\n",
    "    \"person_unique_identifiers\": \"\",\n",
    "    \"person_allow_duplicate_articles\": \"yes\"\n",
    "}\"\"\"\n",
    "\n",
    "request_json = json.loads( request_json_string )\n",
    "print( request_json ) "
   ]
  },
  {
   "cell_type": "markdown",
   "id": "1aba3a8f-fbd9-4f76-a531-a31fa462c238",
   "metadata": {},
   "source": [
    "## test data"
   ]
  },
  {
   "cell_type": "code",
   "execution_count": 4,
   "id": "3a5157e3-4ad8-4282-b65e-36c2c4b7e201",
   "metadata": {},
   "outputs": [
    {
     "name": "stdout",
     "output_type": "stream",
     "text": [
      "{'start_date': '2009-12-01', 'end_date': '2010-02-13', 'date_range': '', 'publications': '1', 'coder_id_priority_list': '', 'coder_type_filter_type': '', 'coder_types_list': '', 'tags_list': 'grp_month', 'unique_identifiers': '', 'allow_duplicate_articles': 'no', 'include_source_contact_types': ['direct', 'event', 'past_quotes', 'document', 'other'], 'exclude_persons_with_tags_in_list': '', 'include_persons_with_single_word_name': 'no', 'network_download_as_file': 'yes', 'network_include_render_details': 'no', 'output_type': 'tab_delimited_matrix', 'network_data_output_type': 'net_and_attr_cols', 'network_label': '', 'network_include_headers': 'yes', 'person_query_type': 'custom', 'person_start_date': '2009-12-01', 'person_end_date': '2010-02-13', 'person_date_range': '', 'person_publications': '1', 'person_coders': '', 'person_coder_id_priority_list': '', 'person_coder_type_filter_type': '', 'person_coder_types_list': '', 'person_tag_list': 'grp_month', 'person_unique_identifiers': '', 'person_allow_duplicate_articles': 'yes'}\n"
     ]
    }
   ],
   "source": [
    "#include_single_word_names = \"yes\"\n",
    "include_single_word_names = \"yes\"\n",
    "\n",
    "request_json_string = \"\"\"{\n",
    "    \"start_date\": \"2009-12-01\",\n",
    "    \"end_date\": \"2010-02-13\",\n",
    "    \"date_range\": \"\",\n",
    "    \"publications\": \"1\",\n",
    "    \"coder_id_priority_list\": \"\",\n",
    "    \"coder_type_filter_type\": \"\",\n",
    "    \"coder_types_list\": \"\",\n",
    "    \"tags_list\": \"grp_month\",\n",
    "    \"unique_identifiers\": \"\",\n",
    "    \"allow_duplicate_articles\": \"no\",\n",
    "    \"include_source_contact_types\": [\n",
    "        \"direct\",\n",
    "        \"event\",\n",
    "        \"past_quotes\",\n",
    "        \"document\",\n",
    "        \"other\"\n",
    "    ],\n",
    "    \"exclude_persons_with_tags_in_list\": \"\",\n",
    "    \"include_persons_with_single_word_name\": \"no\",\n",
    "    \"network_download_as_file\": \"yes\",\n",
    "    \"network_include_render_details\": \"no\",\n",
    "    \"output_type\": \"tab_delimited_matrix\",\n",
    "    \"network_data_output_type\": \"net_and_attr_cols\",\n",
    "    \"network_label\": \"\",\n",
    "    \"network_include_headers\": \"yes\",\n",
    "    \"person_query_type\": \"custom\",\n",
    "    \"person_start_date\": \"2009-12-01\",\n",
    "    \"person_end_date\": \"2010-02-13\",\n",
    "    \"person_date_range\": \"\",\n",
    "    \"person_publications\": \"1\",\n",
    "    \"person_coders\": \"\",\n",
    "    \"person_coder_id_priority_list\": \"\",\n",
    "    \"person_coder_type_filter_type\": \"\",\n",
    "    \"person_coder_types_list\": \"\",\n",
    "    \"person_tag_list\": \"grp_month\",\n",
    "    \"person_unique_identifiers\": \"\",\n",
    "    \"person_allow_duplicate_articles\": \"yes\"\n",
    "}\"\"\"\n",
    "request_json = json.loads( request_json_string )\n",
    "print( request_json ) "
   ]
  },
  {
   "cell_type": "markdown",
   "id": "60bb7079-c12b-4c12-bfcb-915d46bee8f6",
   "metadata": {},
   "source": [
    "## create network data"
   ]
  },
  {
   "cell_type": "code",
   "execution_count": 5,
   "id": "473054a8-d601-4eb4-9ab8-ca14f452cca9",
   "metadata": {},
   "outputs": [],
   "source": [
    "# try creating network data.\n",
    "network_outputter = NetworkOutput()\n",
    "network_data = network_outputter.process_network_output_request(\n",
    "    params_IN = request_json,\n",
    "    debug_flag_IN = None\n",
    ")"
   ]
  },
  {
   "cell_type": "code",
   "execution_count": 6,
   "id": "c20ddf44-e7af-4b77-98c6-2aead646db44",
   "metadata": {},
   "outputs": [
    {
     "name": "stdout",
     "output_type": "stream",
     "text": [
      "Network data length: 0\n",
      "ERROR! network data length is 0, should be 2427606\n"
     ]
    }
   ],
   "source": [
    "network_data_length = len( network_data )\n",
    "should_be = 2427606\n",
    "print( \"Network data length: {}\".format( network_data_length ) )\n",
    "if ( network_data_length != should_be ):\n",
    "    \n",
    "    # not right length. Error.\n",
    "    print( \"ERROR! network data length is {}, should be {}\".format( network_data_length, should_be ) )\n",
    "    \n",
    "#-- END debug/test --#"
   ]
  },
  {
   "cell_type": "markdown",
   "id": "4cff44fd-47eb-42d3-9ddb-35ccb0d414af",
   "metadata": {},
   "source": [
    "- if include_persons_with_single_word_name = \"yes\": 2427606\n",
    "- if include_persons_with_single_word_name = \"no\": 2344545"
   ]
  },
  {
   "cell_type": "markdown",
   "id": "42cc27cf-4318-4042-8932-3e24915392bf",
   "metadata": {},
   "source": [
    "## write to file"
   ]
  },
  {
   "cell_type": "code",
   "execution_count": null,
   "id": "82aada51-899c-476b-b564-4fd5ef4a7889",
   "metadata": {},
   "outputs": [],
   "source": [
    "# write the output to a file\n",
    "current_date_time = None\n",
    "my_file_extension = None\n",
    "network_data_file_path = None\n",
    "network_data_file = None\n",
    "\n",
    "# time stamp and file extension to append to file name\n",
    "current_date_time = datetime.datetime.now().strftime( '%Y%m%d-%H%M%S' )\n",
    "my_file_extension = \"txt\"\n",
    "\n",
    "# make file path.\n",
    "network_data_file_path = \"context_text_data-{timestamp}.{file_extension}\".format(\n",
    "    timestamp = current_date_time,\n",
    "    file_extension = my_file_extension\n",
    ")\n",
    "\n",
    "# write to file.\n",
    "with open( network_data_file_path, 'w' ) as network_data_file:\n",
    "\n",
    "    # output all the data to file.\n",
    "    network_data_file.write( network_data )\n",
    "    \n",
    "#-- END with open( network_data_file_path, 'w' ) as network_data_file --#\n",
    "\n",
    "print( \"network data written to file {} at {}\".format( network_data_file_path, datetime.datetime.now() ) )"
   ]
  }
 ],
 "metadata": {
  "kernelspec": {
   "display_name": "research_virtualenv",
   "language": "python",
   "name": "research"
  },
  "language_info": {
   "codemirror_mode": {
    "name": "ipython",
    "version": 3
   },
   "file_extension": ".py",
   "mimetype": "text/x-python",
   "name": "python",
   "nbconvert_exporter": "python",
   "pygments_lexer": "ipython3",
   "version": "3.10.4"
  },
  "toc-autonumbering": true
 },
 "nbformat": 4,
 "nbformat_minor": 5
}
