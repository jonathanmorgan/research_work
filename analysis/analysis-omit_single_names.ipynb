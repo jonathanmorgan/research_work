{
 "cells": [
  {
   "cell_type": "markdown",
   "id": "ba4ccabf-42d0-4217-8baf-87bd790d8478",
   "metadata": {},
   "source": [
    "# Setup"
   ]
  },
  {
   "cell_type": "markdown",
   "id": "089876e6-2d2f-4fd0-96f6-730520fb0bab",
   "metadata": {},
   "source": [
    "## Setup - Imports"
   ]
  },
  {
   "cell_type": "code",
   "execution_count": 1,
   "id": "47c3f417-8fcb-49c1-85f3-44c070e980fe",
   "metadata": {},
   "outputs": [
    {
     "name": "stdout",
     "output_type": "stream",
     "text": [
      "packages imported at 2022-05-18 16:53:57.372708\n"
     ]
    }
   ],
   "source": [
    "# python base imports\n",
    "import datetime\n",
    "import json\n",
    "\n",
    "# import six\n",
    "import six\n",
    "\n",
    "print( \"packages imported at \" + str( datetime.datetime.now() ) )"
   ]
  },
  {
   "cell_type": "markdown",
   "id": "17939321-ff9b-4230-84ef-5165d0d8820a",
   "metadata": {},
   "source": [
    "## Setup - Initialize Django\n",
    "\n",
    "- Back to [Table of Contents](#Table-of-Contents)\n",
    "\n",
    "First, initialize my dev django project, so I can run code in this notebook that references my django models and can talk to the database using my project's settings."
   ]
  },
  {
   "cell_type": "code",
   "execution_count": 2,
   "id": "f2ea6891-3f5d-48f3-b819-a8ba8fa9d869",
   "metadata": {},
   "outputs": [
    {
     "name": "stdout",
     "output_type": "stream",
     "text": [
      "django initialized at 2022-05-18 16:53:59.755330\n"
     ]
    }
   ],
   "source": [
    "%run ../django_init.py"
   ]
  },
  {
   "cell_type": "code",
   "execution_count": 3,
   "id": "4c4c9544-0d64-4cf1-baca-f1226617dec1",
   "metadata": {},
   "outputs": [
    {
     "name": "stdout",
     "output_type": "stream",
     "text": [
      "django model packages imported at 2022-05-18 16:54:01.033530\n"
     ]
    }
   ],
   "source": [
    "# django imports\n",
    "from django.contrib.auth.models import User\n",
    "\n",
    "# sourcenet imports\n",
    "from context_text.shared.context_text_base import ContextTextBase\n",
    "\n",
    "# context_analysis imports\n",
    "from context_analysis.network.network_person_info import NetworkPersonInfo\n",
    "\n",
    "# sourcenet imports\n",
    "from context_text.models import Article\n",
    "from context_text.models import Article_Author\n",
    "from context_text.models import Article_Data\n",
    "from context_text.models import Article_Subject\n",
    "from context_text.models import Newspaper\n",
    "from context_text.models import Person\n",
    "\n",
    "# article coding\n",
    "from context_text.article_coding.article_coder import ArticleCoder\n",
    "#from context_text.article_coding.article_coding import ArticleCoding\n",
    "from context_text.article_coding.open_calais_v2.open_calais_v2_article_coder import OpenCalaisV2ArticleCoder\n",
    "\n",
    "# import class that actually processes requests for outputting networks.\n",
    "from context_text.export.network_output import NetworkOutput\n",
    "\n",
    "# context_text shared\n",
    "from context_text.shared.context_text_base import ContextTextBase\n",
    "\n",
    "print( \"django model packages imported at \" + str( datetime.datetime.now() ) )"
   ]
  },
  {
   "cell_type": "markdown",
   "id": "732b5099-9487-4c60-a4bd-35df7a6bf144",
   "metadata": {},
   "source": [
    "## Setup - Important instances"
   ]
  },
  {
   "cell_type": "code",
   "execution_count": 4,
   "id": "3033a36d-b69a-4caf-89bd-9d8d7780e83c",
   "metadata": {},
   "outputs": [],
   "source": [
    "# get ArticleCoding instance.\n",
    "#article_coding = ArticleCoding()\n",
    "\n",
    "# automated coding user\n",
    "automated_coder = ArticleCoder.get_automated_coding_user()\n",
    "\n",
    "# newspapers for Grand Rapids Press and Detroit News.\n",
    "grand_rapids_press = Newspaper.objects.get( newsbank_code = \"GRPB\" )\n",
    "detroit_news = Newspaper.objects.get( newsbank_code = \"DTNB\" )"
   ]
  },
  {
   "cell_type": "markdown",
   "id": "b25d18a6-95bf-4363-bda0-91f87e96fd35",
   "metadata": {
    "tags": []
   },
   "source": [
    "# Filter Article_Data"
   ]
  },
  {
   "cell_type": "code",
   "execution_count": 5,
   "id": "9986c8bb-60b7-420d-be6a-eb1f81e38eee",
   "metadata": {},
   "outputs": [
    {
     "name": "stdout",
     "output_type": "stream",
     "text": [
      "Starting with 45657 total Article_Data instances.\n"
     ]
    }
   ],
   "source": [
    "article_data_qs = None\n",
    "article_data_count = None\n",
    "\n",
    "# get all Article_Data.\n",
    "article_data_qs = Article_Data.objects.all()\n",
    "\n",
    "# how many we starting with?\n",
    "article_data_count = article_data_qs.count()\n",
    "\n",
    "print( \"Starting with {} total Article_Data instances.\".format( article_data_count ) )"
   ]
  },
  {
   "cell_type": "markdown",
   "id": "4fc98b10-3624-4df2-9f07-a091fe43a465",
   "metadata": {},
   "source": [
    "## Detect single-name people within Article_Data"
   ]
  },
  {
   "cell_type": "markdown",
   "id": "bd856293-bc61-41d1-9d3e-ca420bce5479",
   "metadata": {},
   "source": [
    "- code to filter out those with single names... where?\n",
    "\n",
    "    - notebook where work was done originally (just notes - it was manual): [prelim_month-create_Reliability_Names_data.ipynb](./methods/data_creation/prelim_month-create_Reliability_Names_data.ipynb)\n",
    "    - code to filter to just single first names is in `context_analysis/views.py --> reliability_names_disagreement_view()`:\n",
    "    \n",
    "            if ( reliability_names_only_first_name == True ):\n",
    "\n",
    "                # to start, first name needs to not be null and\n",
    "                #     not be empty.\n",
    "                reliability_names_qs = reliability_names_qs.filter( \n",
    "                    Q( person__first_name__isnull = False ) & ~Q( person__first_name = \"\" ),\n",
    "                    Q( person__middle_name__isnull = True ) | Q( person__middle_name = \"\" ),\n",
    "                    Q( person__last_name__isnull = True ) | Q( person__last_name = \"\" ),\n",
    "                    Q( person__name_prefix__isnull = True ) | Q( person__name_prefix = \"\" ),\n",
    "                    Q( person__name_suffix__isnull = True ) | Q( person__name_suffix = \"\" ),\n",
    "                    Q( person__nickname__isnull = True ) | Q( person__nickname = \"\" ),\n",
    "                )\n",
    "\n",
    "            #-- END only first name --#\n",
    "\n",
    "Person in Article_Data\n",
    "\n",
    "- Article_Data\n",
    "\n",
    "    - Article_Author\n",
    "    - Article_Subject\n",
    "    - both Article_Author and Article_Subject have \"person\" relation that ties to person instance for name and other details.\n",
    "    - They also have name fields:\n",
    "    \n",
    "        - name\n",
    "        - verbatim_name\n",
    "        - lookup_name\n",
    "        \n",
    "    - Should mine the above to see how widely and reliably the name fields were set - could just look for names with no internal spaces there..."
   ]
  },
  {
   "cell_type": "code",
   "execution_count": null,
   "id": "2fc80f91-90a1-4cd5-b637-b85ce0130cac",
   "metadata": {},
   "outputs": [],
   "source": [
    "# start with Article_Data QuerySet\n",
    "article_data_qs = Article_Data.objects.all()"
   ]
  },
  {
   "cell_type": "markdown",
   "id": "470f9c64-065a-4c0a-a185-0d33d419c798",
   "metadata": {},
   "source": [
    "### Article_Subject\n",
    "\n",
    "- Some have no name, verbatim_name, or lookup_name.\n",
    "\n",
    "    - small sample included valid people where this data was just not captured early on.\n",
    "    - see if I can write a script to populate from saved data.\n",
    "\n",
    "- Some, name/verbatim_name/lookup_name are single name. These we'd want to omit, as long as this is actually the verbatim name from the article.\n",
    "\n",
    "    - spot-check in [View article + coding](https://research.local/research/context/text/article/article_data/view_with_text/)\n",
    "    - looks like it is, and so omit if the subject's name in Article_Subject has no spaces.\n",
    "    - check programatically for single-name people (not only is verbatim name in Article_Subject single word, but also look at the different name elements of the \"Person\" associated with the single-name mention to see if the Person has just first names, also). Two reasons that single  of match:\n",
    "    \n",
    "        - from early days, program created person with single name part from article.\n",
    "        - ...?  I already forgot."
   ]
  },
  {
   "cell_type": "code",
   "execution_count": 6,
   "id": "2677e932-5b1f-4ce2-a6a7-c2ab3f3a1828",
   "metadata": {},
   "outputs": [
    {
     "name": "stdout",
     "output_type": "stream",
     "text": [
      "total Article_Subject count = 220076\n",
      "automated Article_Subject count = 214229\n",
      "exclude name__contains = \"<space>\" --> match count = 14807\n",
      "exclude name__contains = \"<space>\"; exclude NULL --> match count = 13525\n",
      "\n",
      "5387 (AS) - Obama ( id = 842; capture_method = OpenCalais_REST_API_v1 ) (mentioned; individual):\n",
      "-          name: Obama\n",
      "- verbatim_name: Obama\n",
      "-   lookup_name: Obama\n",
      "- Article_Data: 1634 - automated ( ADCT: OpenCalais_REST_API_v2 )  -- Article: 21172 - Dec 06, 2009, City and Region ( B1 ), UID: 12C7A9A517442D40 - I gave presidential security the slip, too - But this was 30 years ago, and I had a job to do ( Grand Rapids Press, The )\n",
      "- Article: 21172 - Dec 06, 2009, City and Region ( B1 ), UID: 12C7A9A517442D40 - I gave presidential security the slip, too - But this was 30 years ago, and I had a job to do ( Grand Rapids Press, The )\n",
      "\n",
      "5396 (AS) - Vernon ( id = 847; capture_method = OpenCalais_REST_API_v1 ) (mentioned; individual):\n",
      "-          name: Vernon\n",
      "- verbatim_name: Vernon\n",
      "-   lookup_name: Vernon\n",
      "- Article_Data: 1635 - automated ( ADCT: OpenCalais_REST_API_v2 )  -- Article: 21287 - Dec 06, 2009, City and Region ( B2 ), UID: 12C7A9A4B39A5F78 - Crash victim succumbs to injuries ( Grand Rapids Press, The )\n",
      "- Article: 21287 - Dec 06, 2009, City and Region ( B2 ), UID: 12C7A9A4B39A5F78 - Crash victim succumbs to injuries ( Grand Rapids Press, The )\n",
      "\n",
      "5423 (AS) - Bill ( id = 855; capture_method = OpenCalais_REST_API_v1 ) (mentioned; individual):\n",
      "-          name: Bill\n",
      "- verbatim_name: Bill\n",
      "-   lookup_name: Bill\n",
      "- Article_Data: 1641 - automated ( ADCT: OpenCalais_REST_API_v2 )  -- Article: 21190 - Dec 06, 2009, Lakeshore ( N1 ), UID: 12C7A9A49ABC73B0 - Dental clinic transforms lives at Holland Free Health Clinic - Hygienist starts program to help uninsured and low-income patients ( Grand Rapids Press, The )\n",
      "- Article: 21190 - Dec 06, 2009, Lakeshore ( N1 ), UID: 12C7A9A49ABC73B0 - Dental clinic transforms lives at Holland Free Health Clinic - Hygienist starts program to help uninsured and low-income patients ( Grand Rapids Press, The )\n",
      "\n",
      "5460 (AS) - Joshua ( id = 869; capture_method = OpenCalais_REST_API_v1 ) (mentioned; individual):\n",
      "-          name: Joshua\n",
      "- verbatim_name: Joshua\n",
      "-   lookup_name: Joshua\n",
      "- Article_Data: 1651 - automated ( ADCT: OpenCalais_REST_API_v2 )  -- Article: 21435 - Dec 07, 2009, Front Page ( A1 ), UID: 12C7B206119DFAB0 - 'There was nothing I could do' - Witness says truck was heading wrong way without headlights before fatal crash ( Grand Rapids Press, The )\n",
      "- Article: 21435 - Dec 07, 2009, Front Page ( A1 ), UID: 12C7B206119DFAB0 - 'There was nothing I could do' - Witness says truck was heading wrong way without headlights before fatal crash ( Grand Rapids Press, The )\n",
      "\n",
      "5462 (AS) - Bielinski, Jamie ( id = 780; capture_method = OpenCalais_REST_API ) (mentioned; individual):\n",
      "-          name: Jamie\n",
      "- verbatim_name: Jamie\n",
      "-   lookup_name: Jamie\n",
      "- Article_Data: 1651 - automated ( ADCT: OpenCalais_REST_API_v2 )  -- Article: 21435 - Dec 07, 2009, Front Page ( A1 ), UID: 12C7B206119DFAB0 - 'There was nothing I could do' - Witness says truck was heading wrong way without headlights before fatal crash ( Grand Rapids Press, The )\n",
      "- Article: 21435 - Dec 07, 2009, Front Page ( A1 ), UID: 12C7B206119DFAB0 - 'There was nothing I could do' - Witness says truck was heading wrong way without headlights before fatal crash ( Grand Rapids Press, The )\n",
      "\n",
      "5498 (AS) - Jaidon ( id = 875; capture_method = OpenCalais_REST_API_v1 ) (mentioned; individual):\n",
      "-          name: Jaidon\n",
      "- verbatim_name: Jaidon\n",
      "-   lookup_name: Jaidon\n",
      "- Article_Data: 1660 - automated ( ADCT: OpenCalais_REST_API_v2 )  -- Article: 21509 - Dec 08, 2009, City and Region ( A3 ), UID: 12C7F4A842D56720 - 'I just ran for the kids' - Dad carries sons through fiery doorway as flames engulf house ( Grand Rapids Press, The )\n",
      "- Article: 21509 - Dec 08, 2009, City and Region ( A3 ), UID: 12C7F4A842D56720 - 'I just ran for the kids' - Dad carries sons through fiery doorway as flames engulf house ( Grand Rapids Press, The )\n",
      "\n",
      "5502 (AS) - Rushing ( id = 878; capture_method = OpenCalais_REST_API_v1 ) (mentioned; individual):\n",
      "-          name: Rushing\n",
      "- verbatim_name: Rushing\n",
      "-   lookup_name: Rushing\n",
      "- Article_Data: 1660 - automated ( ADCT: OpenCalais_REST_API_v2 )  -- Article: 21509 - Dec 08, 2009, City and Region ( A3 ), UID: 12C7F4A842D56720 - 'I just ran for the kids' - Dad carries sons through fiery doorway as flames engulf house ( Grand Rapids Press, The )\n",
      "- Article: 21509 - Dec 08, 2009, City and Region ( A3 ), UID: 12C7F4A842D56720 - 'I just ran for the kids' - Dad carries sons through fiery doorway as flames engulf house ( Grand Rapids Press, The )\n",
      "\n",
      "5500 (AS) - Kaidon ( id = 877; capture_method = OpenCalais_REST_API_v1 ) (mentioned; individual):\n",
      "-          name: Kaidon\n",
      "- verbatim_name: Kaidon\n",
      "-   lookup_name: Kaidon\n",
      "- Article_Data: 1660 - automated ( ADCT: OpenCalais_REST_API_v2 )  -- Article: 21509 - Dec 08, 2009, City and Region ( A3 ), UID: 12C7F4A842D56720 - 'I just ran for the kids' - Dad carries sons through fiery doorway as flames engulf house ( Grand Rapids Press, The )\n",
      "- Article: 21509 - Dec 08, 2009, City and Region ( A3 ), UID: 12C7F4A842D56720 - 'I just ran for the kids' - Dad carries sons through fiery doorway as flames engulf house ( Grand Rapids Press, The )\n",
      "\n",
      "5534 (AS) - Betty ( id = 885; capture_method = OpenCalais_REST_API_v1 ) (mentioned; individual):\n",
      "-          name: Betty\n",
      "- verbatim_name: Betty\n",
      "-   lookup_name: Betty\n",
      "- Article_Data: 1666 - automated ( ADCT: OpenCalais_REST_API_v2 )  -- Article: 21569 - Dec 08, 2009, Front Page ( A1 ), UID: 12C7F4A84421E068 - Institute makes way for more research - Expanded lab space expected to bring in more funds ( Grand Rapids Press, The )\n",
      "- Article: 21569 - Dec 08, 2009, Front Page ( A1 ), UID: 12C7F4A84421E068 - Institute makes way for more research - Expanded lab space expected to bring in more funds ( Grand Rapids Press, The )\n",
      "\n",
      "5598 (AS) - Taylor, Helen ( id = 576; capture_method = OpenCalais_REST_API_v2 ) (mentioned; individual):\n",
      "-          name: Helen\n",
      "- verbatim_name: Helen\n",
      "-   lookup_name: Helen\n",
      "- Article_Data: 1681 - automated ( ADCT: OpenCalais_REST_API_v2 )  -- Article: 21644 - Dec 09, 2009, City and Region ( A6 ), UID: 12C8506A1B3C7150 - MSU to honor DeVos with honorary degree ( Grand Rapids Press, The )\n",
      "- Article: 21644 - Dec 09, 2009, City and Region ( A6 ), UID: 12C8506A1B3C7150 - MSU to honor DeVos with honorary degree ( Grand Rapids Press, The )\n",
      "\n",
      "\n",
      "exclude verbatim_name__contains = \"<space>\" --> match count = 14807\n",
      "exclude lookup_name__contains = \"<space>\" --> match count = 14807\n",
      "\n",
      "920 (AS) - Horrigan, Carey ( id = 596; capture_method = OpenCalais_REST_API_v2 ) (quoted; individual):\n",
      "-          name: None\n",
      "- verbatim_name: None\n",
      "-   lookup_name: None\n",
      "- Article_Data: 332 - automated ( ADCT: OpenCalais_REST_API )  -- Article: 455501 - Aug 05, 2005, State ( B3 ), UID: 10BCF0C59972FBF0 - Seen and heard ( Grand Rapids Press, The )\n",
      "- Article: 455501 - Aug 05, 2005, State ( B3 ), UID: 10BCF0C59972FBF0 - Seen and heard ( Grand Rapids Press, The )\n",
      "\n",
      "921 (AS) - Gignac, Pat ( id = 601; capture_method = OpenCalais_REST_API ) (quoted; individual):\n",
      "-          name: None\n",
      "- verbatim_name: None\n",
      "-   lookup_name: None\n",
      "- Article_Data: 332 - automated ( ADCT: OpenCalais_REST_API )  -- Article: 455501 - Aug 05, 2005, State ( B3 ), UID: 10BCF0C59972FBF0 - Seen and heard ( Grand Rapids Press, The )\n",
      "- Article: 455501 - Aug 05, 2005, State ( B3 ), UID: 10BCF0C59972FBF0 - Seen and heard ( Grand Rapids Press, The )\n",
      "\n",
      "922 (AS) - Page, Tom ( id = 602; capture_method = OpenCalais_REST_API ) (quoted; individual):\n",
      "-          name: None\n",
      "- verbatim_name: None\n",
      "-   lookup_name: None\n",
      "- Article_Data: 332 - automated ( ADCT: OpenCalais_REST_API )  -- Article: 455501 - Aug 05, 2005, State ( B3 ), UID: 10BCF0C59972FBF0 - Seen and heard ( Grand Rapids Press, The )\n",
      "- Article: 455501 - Aug 05, 2005, State ( B3 ), UID: 10BCF0C59972FBF0 - Seen and heard ( Grand Rapids Press, The )\n",
      "\n",
      "923 (AS) - Hurley, Walter ( id = 603; capture_method = OpenCalais_REST_API ) (quoted; individual):\n",
      "-          name: None\n",
      "- verbatim_name: None\n",
      "-   lookup_name: None\n",
      "- Article_Data: 332 - automated ( ADCT: OpenCalais_REST_API )  -- Article: 455501 - Aug 05, 2005, State ( B3 ), UID: 10BCF0C59972FBF0 - Seen and heard ( Grand Rapids Press, The )\n",
      "- Article: 455501 - Aug 05, 2005, State ( B3 ), UID: 10BCF0C59972FBF0 - Seen and heard ( Grand Rapids Press, The )\n",
      "\n",
      "924 (AS) - Mason, Pat ( id = 604; capture_method = OpenCalais_REST_API ) (quoted; individual):\n",
      "-          name: None\n",
      "- verbatim_name: None\n",
      "-   lookup_name: None\n",
      "- Article_Data: 332 - automated ( ADCT: OpenCalais_REST_API )  -- Article: 455501 - Aug 05, 2005, State ( B3 ), UID: 10BCF0C59972FBF0 - Seen and heard ( Grand Rapids Press, The )\n",
      "- Article: 455501 - Aug 05, 2005, State ( B3 ), UID: 10BCF0C59972FBF0 - Seen and heard ( Grand Rapids Press, The )\n",
      "\n",
      "925 (AS) - Kopeck, Susan ( id = 605; capture_method = OpenCalais_REST_API ) (quoted; individual):\n",
      "-          name: None\n",
      "- verbatim_name: None\n",
      "-   lookup_name: None\n",
      "- Article_Data: 332 - automated ( ADCT: OpenCalais_REST_API )  -- Article: 455501 - Aug 05, 2005, State ( B3 ), UID: 10BCF0C59972FBF0 - Seen and heard ( Grand Rapids Press, The )\n",
      "- Article: 455501 - Aug 05, 2005, State ( B3 ), UID: 10BCF0C59972FBF0 - Seen and heard ( Grand Rapids Press, The )\n",
      "\n",
      "926 (AS) - Charron, Diane ( id = 606; capture_method = OpenCalais_REST_API ) (quoted; individual):\n",
      "-          name: None\n",
      "- verbatim_name: None\n",
      "-   lookup_name: None\n",
      "- Article_Data: 332 - automated ( ADCT: OpenCalais_REST_API )  -- Article: 455501 - Aug 05, 2005, State ( B3 ), UID: 10BCF0C59972FBF0 - Seen and heard ( Grand Rapids Press, The )\n",
      "- Article: 455501 - Aug 05, 2005, State ( B3 ), UID: 10BCF0C59972FBF0 - Seen and heard ( Grand Rapids Press, The )\n",
      "\n",
      "927 (AS) - Kopeck, Bryan ( id = 607; capture_method = OpenCalais_REST_API ) (quoted; individual):\n",
      "-          name: None\n",
      "- verbatim_name: None\n",
      "-   lookup_name: None\n",
      "- Article_Data: 332 - automated ( ADCT: OpenCalais_REST_API )  -- Article: 455501 - Aug 05, 2005, State ( B3 ), UID: 10BCF0C59972FBF0 - Seen and heard ( Grand Rapids Press, The )\n",
      "- Article: 455501 - Aug 05, 2005, State ( B3 ), UID: 10BCF0C59972FBF0 - Seen and heard ( Grand Rapids Press, The )\n",
      "\n",
      "928 (AS) - Bock, Steve ( id = 608; capture_method = OpenCalais_REST_API ) (quoted; individual):\n",
      "-          name: None\n",
      "- verbatim_name: None\n",
      "-   lookup_name: None\n",
      "- Article_Data: 333 - automated ( ADCT: OpenCalais_REST_API )  -- Article: 272493 - Apr 14, 2006, Front Page ( A1 ), UID: 1110E7EC836EDC48 - Satellites to keep eye on sex offenders - State also plans to monitor other parolees, probationers on GPS system ( Grand Rapids Press, The )\n",
      "- Article: 272493 - Apr 14, 2006, Front Page ( A1 ), UID: 1110E7EC836EDC48 - Satellites to keep eye on sex offenders - State also plans to monitor other parolees, probationers on GPS system ( Grand Rapids Press, The )\n",
      "\n",
      "929 (AS) - Marlan, Russ ( id = 609; capture_method = OpenCalais_REST_API ) (quoted; individual):\n",
      "-          name: None\n",
      "- verbatim_name: None\n",
      "-   lookup_name: None\n",
      "- Article_Data: 333 - automated ( ADCT: OpenCalais_REST_API )  -- Article: 272493 - Apr 14, 2006, Front Page ( A1 ), UID: 1110E7EC836EDC48 - Satellites to keep eye on sex offenders - State also plans to monitor other parolees, probationers on GPS system ( Grand Rapids Press, The )\n",
      "- Article: 272493 - Apr 14, 2006, Front Page ( A1 ), UID: 1110E7EC836EDC48 - Satellites to keep eye on sex offenders - State also plans to monitor other parolees, probationers on GPS system ( Grand Rapids Press, The )\n"
     ]
    }
   ],
   "source": [
    "# declare variables\n",
    "match_count = None\n",
    "article_subject = None\n",
    "my_name = None\n",
    "my_verbatim_name = None\n",
    "my_lookup_name = None\n",
    "\n",
    "# set up base queryset\n",
    "all_article_subjects_qs = Article_Subject.objects.all()\n",
    "match_count = all_article_subjects_qs.count()\n",
    "print( \"total Article_Subject count = {}\".format( match_count ) )\n",
    "\n",
    "# just automated coder.\n",
    "all_article_subjects_qs = all_article_subjects_qs.filter( article_data__coder = automated_coder )\n",
    "match_count = all_article_subjects_qs.count()\n",
    "print( \"automated Article_Subject count = {}\".format( match_count ) )\n",
    "\n",
    "# look for any that have no space in name.\n",
    "article_subject_qs = all_article_subjects_qs.exclude( name__contains = \" \" )\n",
    "match_count = article_subject_qs.count()\n",
    "print( \"exclude name__contains = \\\"<space>\\\" --> match count = {}\".format( match_count ) )\n",
    "\n",
    "# look for any that have no space in name.\n",
    "article_subject_qs = article_subject_qs.exclude( name__isnull = True )\n",
    "match_count = article_subject_qs.count()\n",
    "print( \"exclude name__contains = \\\"<space>\\\"; exclude NULL --> match count = {}\".format( match_count ) )\n",
    "\n",
    "for article_subject in article_subject_qs[ 0 : 10 ]:\n",
    "    \n",
    "    # get all names\n",
    "    my_name = article_subject.name\n",
    "    my_verbatim_name = article_subject.verbatim_name\n",
    "    my_lookup_name = article_subject.lookup_name\n",
    "\n",
    "    print( \"\\n{article_subject}:\".format( article_subject = article_subject ) )\n",
    "    print( \"-          name: {}\".format( my_name ) )\n",
    "    print( \"- verbatim_name: {}\".format( my_verbatim_name ) )\n",
    "    print( \"-   lookup_name: {}\".format( my_lookup_name ) )\n",
    "    \n",
    "    my_article_data = article_subject.article_data\n",
    "    print( \"- Article_Data: {}\".format( my_article_data ) ) \n",
    "\n",
    "    my_article = my_article_data.article\n",
    "    print( \"- Article: {}\".format( my_article ) ) \n",
    "    \n",
    "#-- END loop over sample of Article_Subject instances --#\n",
    "\n",
    "print( \"\\n\" )\n",
    "\n",
    "# look for any that have no space in verbatim_name.\n",
    "article_subject_qs = all_article_subjects_qs.exclude( verbatim_name__contains = \" \" )\n",
    "match_count = article_subject_qs.count()\n",
    "print( \"exclude verbatim_name__contains = \\\"<space>\\\" --> match count = {}\".format( match_count ) )\n",
    "\n",
    "# look for any that have no space in lookup_name.\n",
    "article_subject_qs = all_article_subjects_qs.exclude( lookup_name__contains = \" \" )\n",
    "match_count = article_subject_qs.count()\n",
    "print( \"exclude lookup_name__contains = \\\"<space>\\\" --> match count = {}\".format( match_count ) )\n",
    "\n",
    "for article_subject in article_subject_qs[ 0 : 10 ]:\n",
    "    \n",
    "    # get all names\n",
    "    my_name = article_subject.name\n",
    "    my_verbatim_name = article_subject.verbatim_name\n",
    "    my_lookup_name = article_subject.lookup_name\n",
    "\n",
    "    print( \"\\n{article_subject}:\".format( article_subject = article_subject ) )\n",
    "    print( \"-          name: {}\".format( my_name ) )\n",
    "    print( \"- verbatim_name: {}\".format( my_verbatim_name ) )\n",
    "    print( \"-   lookup_name: {}\".format( my_lookup_name ) )\n",
    "    \n",
    "    my_article_data = article_subject.article_data\n",
    "    print( \"- Article_Data: {}\".format( my_article_data ) ) \n",
    "\n",
    "    my_article = my_article_data.article\n",
    "    print( \"- Article: {}\".format( my_article ) ) \n",
    "    \n",
    "#-- END loop over sample of Article_Subject instances --#"
   ]
  },
  {
   "cell_type": "markdown",
   "id": "67782e3a-c036-4d4b-8688-a0fdc2ce8be1",
   "metadata": {},
   "source": [
    "### Article_Author"
   ]
  },
  {
   "cell_type": "code",
   "execution_count": null,
   "id": "59644429-112b-4aba-990e-2f2674d84da0",
   "metadata": {},
   "outputs": [],
   "source": [
    "# declare variables\n",
    "match_count = None\n",
    "article_subject = None\n",
    "my_name = None\n",
    "my_verbatim_name = None\n",
    "my_lookup_name = None\n",
    "\n",
    "# set up base queryset\n",
    "all_article_subjects_qs = Article_Subject.objects.all()\n",
    "match_count = all_article_subjects_qs.count()\n",
    "print( \"total Article_Subject count = {}\".format( match_count ) )\n",
    "\n",
    "# just automated coder.\n",
    "all_article_subjects_qs = all_article_subjects_qs.filter( article_data__coder = automated_coder )\n",
    "match_count = all_article_subjects_qs.count()\n",
    "print( \"automated Article_Subject count = {}\".format( match_count ) )\n",
    "\n",
    "# look for any that have no space in name.\n",
    "article_subject_qs = all_article_subjects_qs.exclude( name__contains = \" \" )\n",
    "match_count = article_subject_qs.count()\n",
    "print( \"exclude name__contains = \\\"<space>\\\" --> match count = {}\".format( match_count ) )\n",
    "\n",
    "# look for any that have no space in name.\n",
    "article_subject_qs = article_subject_qs.exclude( name__isnull = True )\n",
    "match_count = article_subject_qs.count()\n",
    "print( \"exclude name__contains = \\\"<space>\\\"; exclude NULL --> match count = {}\".format( match_count ) )\n",
    "\n",
    "for article_subject in article_subject_qs[ 0 : 10 ]:\n",
    "    \n",
    "    # get all names\n",
    "    my_name = article_subject.name\n",
    "    my_verbatim_name = article_subject.verbatim_name\n",
    "    my_lookup_name = article_subject.lookup_name\n",
    "\n",
    "    print( \"\\n{article_subject}:\".format( article_subject = article_subject ) )\n",
    "    print( \"-          name: {}\".format( my_name ) )\n",
    "    print( \"- verbatim_name: {}\".format( my_verbatim_name ) )\n",
    "    print( \"-   lookup_name: {}\".format( my_lookup_name ) )\n",
    "    \n",
    "#-- END loop over sample of Article_Subject instances --#\n",
    "\n",
    "print( \"\\n\" )\n",
    "\n",
    "# look for any that have no space in verbatim_name.\n",
    "article_subject_qs = all_article_subjects_qs.exclude( verbatim_name__contains = \" \" )\n",
    "match_count = article_subject_qs.count()\n",
    "print( \"exclude verbatim_name__contains = \\\"<space>\\\" --> match count = {}\".format( match_count ) )\n",
    "\n",
    "# look for any that have no space in lookup_name.\n",
    "article_subject_qs = all_article_subjects_qs.exclude( lookup_name__contains = \" \" )\n",
    "match_count = article_subject_qs.count()\n",
    "print( \"exclude lookup_name__contains = \\\"<space>\\\" --> match count = {}\".format( match_count ) )\n",
    "\n",
    "for article_subject in article_subject_qs[ 0 : 10 ]:\n",
    "    \n",
    "    # get all names\n",
    "    my_name = article_subject.name\n",
    "    my_verbatim_name = article_subject.verbatim_name\n",
    "    my_lookup_name = article_subject.lookup_name\n",
    "\n",
    "    print( \"\\n{article_subject}:\".format( article_subject = article_subject ) )\n",
    "    print( \"-          name: {}\".format( my_name ) )\n",
    "    print( \"- verbatim_name: {}\".format( my_verbatim_name ) )\n",
    "    print( \"-   lookup_name: {}\".format( my_lookup_name ) )\n",
    "    \n",
    "#-- END loop over sample of Article_Subject instances --#"
   ]
  },
  {
   "cell_type": "markdown",
   "id": "b90018a1-b761-40b0-bdd4-09bbdb880bd5",
   "metadata": {},
   "source": [
    "# Article_Data for GRP analysis"
   ]
  },
  {
   "cell_type": "code",
   "execution_count": null,
   "id": "fdac1569-8541-449c-8f0b-358bacfe4fdd",
   "metadata": {
    "tags": []
   },
   "outputs": [],
   "source": [
    "# init\n",
    "grp_article_data_qs = None\n",
    "article_data_count = None\n",
    "work_qs = None"
   ]
  },
  {
   "cell_type": "code",
   "execution_count": null,
   "id": "7cb76b34-df3c-4663-9578-65386210b8e3",
   "metadata": {
    "tags": []
   },
   "outputs": [],
   "source": [
    "# get all Article_Data.\n",
    "grp_article_data_qs = Article_Data.objects.all()\n",
    "\n",
    "# how many we starting with?\n",
    "article_data_count = grp_article_data_qs.count()\n",
    "\n",
    "print( \"Starting with {} total Article_Data instances.\".format( article_data_count ) )"
   ]
  },
  {
   "cell_type": "markdown",
   "id": "1911602a-42b2-4956-aa63-829f0f92bc22",
   "metadata": {},
   "source": [
    "## GRP - Only OpenCalais v.2"
   ]
  },
  {
   "cell_type": "code",
   "execution_count": null,
   "id": "0bc88a6c-d5d9-4323-b547-91f3c585552c",
   "metadata": {},
   "outputs": [],
   "source": [
    "my_coder_type = ocv2_coder_type\n",
    "\n",
    "# filter to just Article_Data with coder_type of \"OpenCalais_REST_API_v2\"\n",
    "grp_article_data_qs = grp_article_data_qs.filter( coder = automated_coder )\n",
    "grp_article_data_qs = grp_article_data_qs.filter( coder_type = my_coder_type )\n",
    "\n",
    "# how many now?\n",
    "article_data_count = grp_article_data_qs.count()\n",
    "\n",
    "print( \"{} Article_Data instances for coder_type {}.\".format( article_data_count, my_coder_type ) )"
   ]
  },
  {
   "cell_type": "markdown",
   "id": "7a332960-3fa9-4a78-8f4d-fdd4aa23a08a",
   "metadata": {
    "tags": []
   },
   "source": [
    "## GRP - Only Grand Rapids Press"
   ]
  },
  {
   "cell_type": "code",
   "execution_count": null,
   "id": "ee245b06-07aa-4a46-8c49-532c8e0fde8a",
   "metadata": {
    "tags": []
   },
   "outputs": [],
   "source": [
    "# get automated coder user.\n",
    "#automated_coder = ArticleCoder.get_automated_coding_user()\n",
    "my_newspaper = grand_rapids_press\n",
    "\n",
    "# filter to just Article_Data coded by this user.\n",
    "grp_article_data_qs = grp_article_data_qs.filter( article__newspaper = my_newspaper )\n",
    "\n",
    "# how many now?\n",
    "article_data_count = grp_article_data_qs.count()\n",
    "\n",
    "print( \"{} Article_Data instances for newspaper {}.\".format( article_data_count, my_newspaper ) )"
   ]
  }
 ],
 "metadata": {
  "kernelspec": {
   "display_name": "research_virtualenv",
   "language": "python",
   "name": "research"
  },
  "language_info": {
   "codemirror_mode": {
    "name": "ipython",
    "version": 3
   },
   "file_extension": ".py",
   "mimetype": "text/x-python",
   "name": "python",
   "nbconvert_exporter": "python",
   "pygments_lexer": "ipython3",
   "version": "3.10.4"
  },
  "toc-autonumbering": true
 },
 "nbformat": 4,
 "nbformat_minor": 5
}
