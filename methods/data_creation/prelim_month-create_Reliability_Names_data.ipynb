{
 "cells": [
  {
   "cell_type": "markdown",
   "metadata": {},
   "source": [
    "**prelim_month - create Reliability_Names data**\n",
    "\n",
    "`2016.12.04 - work log - prelim_month - create Reliability_Names`\n",
    "\n",
    "original file name: `2016.12.04-work_log-prelim_month-create_Reliability_Names.ipynb`\n",
    "\n",
    "This is the notebook where the underlying name comparison data was created - one row per person per article, columns for the ways up to ten different coders captured that person from the text."
   ]
  },
  {
   "cell_type": "markdown",
   "metadata": {
    "toc": "true"
   },
   "source": [
    "<h1>Table of Contents<span class=\"tocSkip\"></span></h1>\n",
    "<div class=\"toc\"><ul class=\"toc-item\"><li><span><a href=\"#Setup\" data-toc-modified-id=\"Setup-1\"><span class=\"toc-item-num\">1&nbsp;&nbsp;</span>Setup</a></span><ul class=\"toc-item\"><li><span><a href=\"#Setup---Imports\" data-toc-modified-id=\"Setup---Imports-1.1\"><span class=\"toc-item-num\">1.1&nbsp;&nbsp;</span>Setup - Imports</a></span></li><li><span><a href=\"#Setup---virtualenv-jupyter-kernel\" data-toc-modified-id=\"Setup---virtualenv-jupyter-kernel-1.2\"><span class=\"toc-item-num\">1.2&nbsp;&nbsp;</span>Setup - virtualenv jupyter kernel</a></span></li><li><span><a href=\"#Setup---Initialize-Django\" data-toc-modified-id=\"Setup---Initialize-Django-1.3\"><span class=\"toc-item-num\">1.3&nbsp;&nbsp;</span>Setup - Initialize Django</a></span></li></ul></li><li><span><a href=\"#Data-characterization\" data-toc-modified-id=\"Data-characterization-2\"><span class=\"toc-item-num\">2&nbsp;&nbsp;</span>Data characterization</a></span></li><li><span><a href=\"#Reliability-data-creation---prelim_month\" data-toc-modified-id=\"Reliability-data-creation---prelim_month-3\"><span class=\"toc-item-num\">3&nbsp;&nbsp;</span>Reliability data creation - <code>prelim_month</code></a></span></li><li><span><a href=\"#Database-backup---sourcenet-2016.12.04.pgsql.gz\" data-toc-modified-id=\"Database-backup---sourcenet-2016.12.04.pgsql.gz-4\"><span class=\"toc-item-num\">4&nbsp;&nbsp;</span>Database backup - <code>sourcenet-2016.12.04.pgsql.gz</code></a></span></li><li><span><a href=\"#Data-cleanup\" data-toc-modified-id=\"Data-cleanup-5\"><span class=\"toc-item-num\">5&nbsp;&nbsp;</span>Data cleanup</a></span><ul class=\"toc-item\"><li><span><a href=\"#Remove-single-name-reliability-data\" data-toc-modified-id=\"Remove-single-name-reliability-data-5.1\"><span class=\"toc-item-num\">5.1&nbsp;&nbsp;</span>Remove single-name reliability data</a></span><ul class=\"toc-item\"><li><span><a href=\"#Single-name-data-assessment\" data-toc-modified-id=\"Single-name-data-assessment-5.1.1\"><span class=\"toc-item-num\">5.1.1&nbsp;&nbsp;</span>Single-name data assessment</a></span></li><li><span><a href=\"#Delete-selected-single-name-data\" data-toc-modified-id=\"Delete-selected-single-name-data-5.1.2\"><span class=\"toc-item-num\">5.1.2&nbsp;&nbsp;</span>Delete selected single-name data</a></span></li></ul></li></ul></li></ul></div>"
   ]
  },
  {
   "cell_type": "markdown",
   "metadata": {},
   "source": [
    "# Setup\n",
    "\n",
    "- Back to [Table of Contents](#Table-of-Contents)"
   ]
  },
  {
   "cell_type": "markdown",
   "metadata": {},
   "source": [
    "## Setup - Imports\n",
    "\n",
    "- Back to [Table of Contents](#Table-of-Contents)"
   ]
  },
  {
   "cell_type": "code",
   "execution_count": 1,
   "metadata": {},
   "outputs": [
    {
     "name": "stdout",
     "output_type": "stream",
     "text": [
      "packages imported at 2018-08-15 19:37:09.208903\n"
     ]
    }
   ],
   "source": [
    "import datetime\n",
    "\n",
    "print( \"packages imported at \" + str( datetime.datetime.now() ) )"
   ]
  },
  {
   "cell_type": "markdown",
   "metadata": {},
   "source": [
    "## Setup - virtualenv jupyter kernel\n",
    "\n",
    "- Back to [Table of Contents](#Table-of-Contents)\n",
    "\n",
    "If you are using a virtualenv, make sure that you:\n",
    "\n",
    "- have installed your virtualenv as a kernel.\n",
    "- choose the kernel for your virtualenv as the kernel for your notebook (Kernel --> Change kernel).\n",
    "\n",
    "Since I use a virtualenv, need to get that activated somehow inside this notebook.  One option is to run `../dev/wsgi.py` in this notebook, to configure the python environment manually as if you had activated the `sourcenet` virtualenv.  To do this, you'd make a code cell that contains:\n",
    "\n",
    "    %run ../dev/wsgi.py\n",
    "    \n",
    "This is sketchy, however, because of the changes it makes to your Python environment within the context of whatever your current kernel is.  I'd worry about collisions with the actual Python 3 kernel.  Better, one can install their virtualenv as a separate kernel.  Steps:\n",
    "\n",
    "- activate your virtualenv:\n",
    "\n",
    "        workon sourcenet\n",
    "\n",
    "- in your virtualenv, install the package `ipykernel`.\n",
    "\n",
    "        pip install ipykernel\n",
    "\n",
    "- use the ipykernel python program to install the current environment as a kernel:\n",
    "\n",
    "        python -m ipykernel install --user --name <env_name> --display-name \"<display_name>\"\n",
    "        \n",
    "    `sourcenet` example:\n",
    "    \n",
    "        python -m ipykernel install --user --name sourcenet --display-name \"sourcenet (Python 3)\"\n",
    "        \n",
    "More details: [http://ipython.readthedocs.io/en/stable/install/kernel_install.html](http://ipython.readthedocs.io/en/stable/install/kernel_install.html)"
   ]
  },
  {
   "cell_type": "markdown",
   "metadata": {},
   "source": [
    "## Setup - Initialize Django\n",
    "\n",
    "- Back to [Table of Contents](#Table-of-Contents)\n",
    "\n",
    "First, initialize my dev django project, so I can run code in this notebook that references my django models and can talk to the database using my project's settings."
   ]
  },
  {
   "cell_type": "code",
   "execution_count": 2,
   "metadata": {},
   "outputs": [
    {
     "data": {
      "text/plain": [
       "'/home/jonathanmorgan/work/django/research/work/phd_work/methods/data_creation'"
      ]
     },
     "execution_count": 2,
     "metadata": {},
     "output_type": "execute_result"
    }
   ],
   "source": [
    "%pwd"
   ]
  },
  {
   "cell_type": "code",
   "execution_count": 3,
   "metadata": {},
   "outputs": [
    {
     "name": "stdout",
     "output_type": "stream",
     "text": [
      "2016.12.09-work_log-prelim_month-no_single_names.ipynb\n",
      "2016.12.10-work_log-prelim_month-single_name_match_error.ipynb\n",
      "2016.12.11-work_log-prelim_month-remove_single_names.ipynb\n",
      "2017.06.01-work_log-prelim_month-remove_single_names.ipynb\n",
      "prelim_month-create_Reliability_Names_data.ipynb\n",
      "reliability-build_name_data.py\n"
     ]
    }
   ],
   "source": [
    "%ls"
   ]
  },
  {
   "cell_type": "code",
   "execution_count": 4,
   "metadata": {},
   "outputs": [
    {
     "name": "stderr",
     "output_type": "stream",
     "text": [
      "/home/jonathanmorgan/.virtualenvs/research/lib/python3.6/site-packages/psycopg2/__init__.py:144: UserWarning: The psycopg2 wheel package will be renamed from release 2.8; in order to keep installing from binary please use \"pip install psycopg2-binary\" instead. For details see: <http://initd.org/psycopg/docs/install.html#binary-install-from-pypi>.\n",
      "  \"\"\")\n",
      "/home/jonathanmorgan/.virtualenvs/research/lib/python3.6/importlib/_bootstrap.py:219: RuntimeWarning: numpy.dtype size changed, may indicate binary incompatibility. Expected 96, got 88\n",
      "  return f(*args, **kwds)\n"
     ]
    },
    {
     "name": "stdout",
     "output_type": "stream",
     "text": [
      "django initialized at 2018-08-15 19:38:10.518822\n"
     ]
    }
   ],
   "source": [
    "%run ../django_init.py"
   ]
  },
  {
   "cell_type": "markdown",
   "metadata": {},
   "source": [
    "# Data characterization\n",
    "\n",
    "- Back to [Table of Contents](#Table-of-Contents)\n",
    "\n",
    "Description of data, for paper.\n",
    "\n",
    "- grp_month article count = 441\n"
   ]
  },
  {
   "cell_type": "code",
   "execution_count": 5,
   "metadata": {},
   "outputs": [],
   "source": [
    "from context_text.models import Article"
   ]
  },
  {
   "cell_type": "code",
   "execution_count": 6,
   "metadata": {},
   "outputs": [
    {
     "name": "stdout",
     "output_type": "stream",
     "text": [
      "grp_month count = 441\n"
     ]
    }
   ],
   "source": [
    "# how many articles in \"grp_month\"?\n",
    "article_qs = Article.objects.filter( tags__name__in = [ \"grp_month\" ] )\n",
    "grp_month_count = article_qs.count()\n",
    "\n",
    "print( \"grp_month count = {}\".format( grp_month_count ) )"
   ]
  },
  {
   "cell_type": "markdown",
   "metadata": {},
   "source": [
    "# Reliability data creation - `prelim_month`\n",
    "\n",
    "- Back to [Table of Contents](#Table-of-Contents)\n",
    "\n",
    "Create the data.\n",
    "\n",
    "Initialize from file:"
   ]
  },
  {
   "cell_type": "code",
   "execution_count": null,
   "metadata": {},
   "outputs": [],
   "source": [
    "%run ../config-coder_index-prelim_month.py"
   ]
  },
  {
   "cell_type": "markdown",
   "metadata": {},
   "source": [
    "Example snapshot of configuration in this file:\n",
    "\n",
    "    '''\n",
    "    You must create an index-able instance and place it in my_index_instance before\n",
    "        you run this code.  The index configuration in this file will be applied to\n",
    "        the instance stored in \"my_index_instance\".\n",
    "\n",
    "    Objects you can pass in this instance:\n",
    "\n",
    "    from context_analysis.reliability.reliability_names_builder import ReliabilityNamesBuilder\n",
    "    from context_analysis.network.network_person_info import NetworkPersonInfo\n",
    "    '''\n",
    "\n",
    "    # imports\n",
    "    import datetime\n",
    "\n",
    "    # sourcenet imports\n",
    "    from context_text.shared.context_text_base import ContextTextBase\n",
    "\n",
    "    # context_analysis imports\n",
    "    from context_analysis.reliability.reliability_names_builder import ReliabilityNamesBuilder\n",
    "    from context_analysis.network.network_person_info import NetworkPersonInfo\n",
    "\n",
    "    # return reference\n",
    "    index_helper_OUT = None\n",
    "\n",
    "    # declare variables\n",
    "    tag_list = None\n",
    "    label = \"\"\n",
    "\n",
    "    # declare variables - user setup\n",
    "    my_info_instance = None\n",
    "    my_reliability_instance = None\n",
    "    current_coder = None\n",
    "    current_coder_id = -1\n",
    "    current_priority = -1\n",
    "\n",
    "    # declare variables - Article_Data filtering.\n",
    "    coder_type = \"\"\n",
    "\n",
    "    #===============================================================================\n",
    "    # configure\n",
    "    #===============================================================================\n",
    "\n",
    "    # list of tags of articles we want to process.\n",
    "    tag_list = [ \"grp_month\", ]\n",
    "\n",
    "    # label to associate with results, for subsequent lookup.\n",
    "    label = \"prelim_month\"\n",
    "\n",
    "    # create index instances\n",
    "    my_info_instance = NetworkPersonInfo()\n",
    "    my_reliability_instance = ReliabilityNamesBuilder()\n",
    "\n",
    "    # ! ====> map coders to indices\n",
    "\n",
    "    # set it up so that...\n",
    "\n",
    "    # ...the ground truth user has highest priority (4) for index 1...\n",
    "    current_coder = ContextTextBase.get_ground_truth_coding_user()\n",
    "    current_coder_id = current_coder.id\n",
    "    current_index = 1\n",
    "    current_priority = 4\n",
    "    my_info_instance.add_coder_at_index( current_coder_id, current_index, priority_IN = current_priority )\n",
    "    my_reliability_instance.add_coder_at_index( current_coder_id, current_index, priority_IN = current_priority )\n",
    "\n",
    "    # ...coder ID 8 is priority 3 for index 1...\n",
    "    current_coder_id = 8\n",
    "    current_index = 1\n",
    "    current_priority = 3\n",
    "    my_info_instance.add_coder_at_index( current_coder_id, current_index, priority_IN = current_priority )\n",
    "    my_reliability_instance.add_coder_at_index( current_coder_id, current_index, priority_IN = current_priority )\n",
    "\n",
    "    # ...coder ID 9 is priority 2 for index 1...\n",
    "    current_coder_id = 9\n",
    "    current_index = 1\n",
    "    current_priority = 2\n",
    "    my_info_instance.add_coder_at_index( current_coder_id, current_index, priority_IN = current_priority )\n",
    "    my_reliability_instance.add_coder_at_index( current_coder_id, current_index, priority_IN = current_priority )\n",
    "\n",
    "    # ...coder ID 10 is priority 1 for index 1...\n",
    "    current_coder_id = 10\n",
    "    current_index = 1\n",
    "    current_priority = 1\n",
    "    my_info_instance.add_coder_at_index( current_coder_id, current_index, priority_IN = current_priority )\n",
    "    my_reliability_instance.add_coder_at_index( current_coder_id, current_index, priority_IN = current_priority )\n",
    "\n",
    "    # ...and automated coder (2) is index 2\n",
    "    current_coder = ContextTextBase.get_automated_coding_user()\n",
    "    current_coder_id = current_coder.id\n",
    "    current_index = 2\n",
    "    current_priority = 1\n",
    "    my_info_instance.add_coder_at_index( current_coder_id, current_index, priority_IN = current_priority )\n",
    "    my_reliability_instance.add_coder_at_index( current_coder_id, current_index, priority_IN = current_priority )\n",
    "\n",
    "    # and only look at coding by those users.  And...\n",
    "\n",
    "    # configure so that it limits to automated coder_type of OpenCalais_REST_API_v2.\n",
    "    coder_type = \"OpenCalais_REST_API_v2\"\n",
    "    #my_reliability_instance.limit_to_automated_coder_type = \"OpenCalais_REST_API_v2\"\n",
    "    my_info_instance.automated_coder_type_include_list.append( coder_type )\n",
    "    my_reliability_instance.automated_coder_type_include_list.append( coder_type )\n",
    "\n",
    "    index_helper_OUT = my_info_instance.get_index_helper()\n",
    "\n",
    "    print( \"indexing for grp_month/prelim_month initialized at \" + str( datetime.datetime.now() ) )"
   ]
  },
  {
   "cell_type": "code",
   "execution_count": null,
   "metadata": {},
   "outputs": [],
   "source": [
    "# output debug JSON to file\n",
    "my_reliability_instance.debug_output_json_file_path = \"/home/jonathanmorgan/\" + label + \".json\"\n",
    "\n",
    "#===============================================================================\n",
    "# process\n",
    "#===============================================================================\n",
    "\n",
    "# process articles\n",
    "#my_reliability_instance.process_articles( tag_list )\n",
    "\n",
    "# output to database.\n",
    "#my_reliability_instance.output_reliability_data( label )\n",
    "\n",
    "print( \"reliability data created at \" + str( datetime.datetime.now() ) )"
   ]
  },
  {
   "cell_type": "markdown",
   "metadata": {},
   "source": [
    "# Database backup - `sourcenet-2016.12.04.pgsql.gz`\n",
    "\n",
    "- Back to [Table of Contents](#Table-of-Contents)\n",
    "\n",
    "First, making backup of database.\n",
    "\n",
    "- File name: `sourcenet-2016.12.04.pgsql.gz`\n",
    "- All articles in tag \"grp_month\" are coded by OpenCalais.\n",
    "- Reliability data generated with label \"prelim_month\", no cleanup done yet."
   ]
  },
  {
   "cell_type": "markdown",
   "metadata": {},
   "source": [
    "# Data cleanup\n",
    "\n",
    "- Back to [Table of Contents](#Table-of-Contents)"
   ]
  },
  {
   "cell_type": "markdown",
   "metadata": {},
   "source": [
    "## Remove single-name reliability data\n",
    "\n",
    "- Back to [Table of Contents](#Table-of-Contents)\n",
    "\n",
    "Next, remove all reliability data that refers to a single name using the \"View reliability name information\" screen:\n",
    "\n",
    "- [https://research.local/research/context/analysis/reliability/names/disagreement/view](https://research.local/research/context/analysis/reliability/names/disagreement/view)\n",
    "\n",
    "To start, enter the following in fields there:\n",
    "\n",
    "- Label: - \"prelim_month\"\n",
    "- Coders to compare (1 through ==>): - 2\n",
    "- Reliability names filter type: - Select \"Lookup\"\n",
    "- [Lookup] - Person has first name, no other name parts. - CHECK the checkbox\n",
    "\n",
    "You should see lots of entries where the automated coder detected people who were mentioned only by their first name."
   ]
  },
  {
   "cell_type": "markdown",
   "metadata": {},
   "source": [
    "### Single-name data assessment\n",
    "\n",
    "- Back to [Table of Contents](#Table-of-Contents)\n",
    "\n",
    "See [2016.12.09-work_log-prelim_month-no_single_names.ipynb](2016.12.09-work_log-prelim_month-no_single_names.ipynb)"
   ]
  },
  {
   "cell_type": "markdown",
   "metadata": {},
   "source": [
    "### Delete selected single-name data\n",
    "\n",
    "- Back to [Table of Contents](#Table-of-Contents)\n",
    "\n",
    "See [2016.12.09-work_log-prelim_month-no_single_names.ipynb](2016.12.09-work_log-prelim_month-no_single_names.ipynb)"
   ]
  }
 ],
 "metadata": {
  "kernelspec": {
   "display_name": "research_virtualenv",
   "language": "python",
   "name": "research"
  },
  "language_info": {
   "codemirror_mode": {
    "name": "ipython",
    "version": 3
   },
   "file_extension": ".py",
   "mimetype": "text/x-python",
   "name": "python",
   "nbconvert_exporter": "python",
   "pygments_lexer": "ipython3",
   "version": "3.10.4"
  },
  "toc": {
   "base_numbering": 1,
   "nav_menu": {},
   "number_sections": true,
   "sideBar": true,
   "skip_h1_title": false,
   "title_cell": "Table of Contents",
   "title_sidebar": "Contents",
   "toc_cell": true,
   "toc_position": {
    "height": "717px",
    "left": "0px",
    "right": "1104px",
    "top": "111px",
    "width": "336px"
   },
   "toc_section_display": "block",
   "toc_window_display": true
  }
 },
 "nbformat": 4,
 "nbformat_minor": 4
}
