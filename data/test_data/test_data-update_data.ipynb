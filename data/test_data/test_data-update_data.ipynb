{
 "cells": [
  {
   "cell_type": "markdown",
   "id": "4c07e508-d83b-4d08-92b6-41f43cf4c9e0",
   "metadata": {},
   "source": [
    "**_test_data-update_data.ipynb_ - Update unit test data to include OpenCalais V.2 coding**"
   ]
  },
  {
   "cell_type": "markdown",
   "id": "a6a15e82-789c-43a4-a4c3-9edae9efba62",
   "metadata": {
    "jp-MarkdownHeadingCollapsed": true,
    "tags": []
   },
   "source": [
    "# TODO\n",
    "\n",
    "- update test data:\n",
    "\n",
    "    - // load existing fixtures.\n",
    "    - re-code with OpenCalais v.2\n",
    "    \n",
    "        - add API key to config\n",
    "        - code all Articles\n",
    "        - remove API key from config\n",
    "    \n",
    "    - make sure we can generate network data from them.\n",
    "    - if no one with single names, make it so a few have single names in Article_Source.\n",
    "    - build out network data for a few different specs (one with single name, one without) and store in new table.\n",
    "    - re-export fixtures (notes on how to do this?).\n",
    "\n",
    "- make sure existing unit tests work with new data.\n",
    "- make sure the Article_Data method `filter_article_persons()` works as I intend. To start, create tests in notebook against actual database, using full Article_Subject and Article_Author QuerySets, compare numbers to raw queries. Then, do the same against test database, use numbers to create unit tests.\n",
    "- even lower level, make tests for the method to build person dictionaries, and the base lookup method.\n",
    "- simple network data creation test - run with a few specs against test data, make sure I get the right size of output back for each."
   ]
  },
  {
   "cell_type": "markdown",
   "id": "f3c23617-eaf2-4958-bc86-17f383baf5b1",
   "metadata": {},
   "source": [
    "# Setup"
   ]
  },
  {
   "cell_type": "markdown",
   "id": "540753e0-4ca3-44dd-bdb9-6f5ba0ced285",
   "metadata": {},
   "source": [
    "## Setup - Imports"
   ]
  },
  {
   "cell_type": "code",
   "execution_count": 3,
   "id": "3a76ff7e-c38d-4da6-8e7b-af252a266830",
   "metadata": {},
   "outputs": [
    {
     "name": "stdout",
     "output_type": "stream",
     "text": [
      "packages imported at 2022-05-24 01:21:28.208492\n"
     ]
    }
   ],
   "source": [
    "# python base imports\n",
    "import datetime\n",
    "import json\n",
    "\n",
    "# import six\n",
    "import six\n",
    "\n",
    "print( \"packages imported at \" + str( datetime.datetime.now() ) )"
   ]
  },
  {
   "cell_type": "markdown",
   "id": "f33f7423-ebfd-4c8a-8d62-977aec9a6b66",
   "metadata": {},
   "source": [
    "## Setup - Initialize Django\n",
    "\n",
    "- Back to [Table of Contents](#Table-of-Contents)\n",
    "\n",
    "First, initialize my dev django project, so I can run code in this notebook that references my django models and can talk to the database using my project's settings."
   ]
  },
  {
   "cell_type": "code",
   "execution_count": 5,
   "id": "00ed0586-ed3e-4a06-b987-ca62fdd1b0cb",
   "metadata": {},
   "outputs": [
    {
     "name": "stdout",
     "output_type": "stream",
     "text": [
      "django initialized at 2022-05-24 01:21:37.437492\n"
     ]
    }
   ],
   "source": [
    "%run ../../django_init.py"
   ]
  },
  {
   "cell_type": "code",
   "execution_count": 6,
   "id": "c6a4e76a-de34-4d86-9e43-b74e4e662332",
   "metadata": {},
   "outputs": [
    {
     "name": "stdout",
     "output_type": "stream",
     "text": [
      "django model packages imported at 2022-05-24 01:21:39.152368\n"
     ]
    }
   ],
   "source": [
    "# django imports\n",
    "from django.contrib.auth.models import User\n",
    "from django.db.models import Max\n",
    "from django.db.models import Min\n",
    "\n",
    "# sourcenet imports\n",
    "from context_text.shared.context_text_base import ContextTextBase\n",
    "\n",
    "# context_analysis imports\n",
    "from context_analysis.network.network_person_info import NetworkPersonInfo\n",
    "\n",
    "# sourcenet imports\n",
    "from context_text.models import Article\n",
    "from context_text.models import Article_Author\n",
    "from context_text.models import Article_Data\n",
    "from context_text.models import Article_Subject\n",
    "from context_text.models import Newspaper\n",
    "from context_text.models import Person\n",
    "\n",
    "# article coding\n",
    "from context_text.article_coding.article_coder import ArticleCoder\n",
    "#from context_text.article_coding.article_coding import ArticleCoding\n",
    "from context_text.article_coding.open_calais_v2.open_calais_v2_article_coder import OpenCalaisV2ArticleCoder\n",
    "from context_text.article_coding.open_calais_v2.open_calais_v2_api_response import OpenCalaisV2ApiResponse\n",
    "\n",
    "# import class that actually processes requests for outputting networks.\n",
    "from context_text.export.network_output import NetworkOutput\n",
    "\n",
    "# context_text shared\n",
    "from context_text.shared.context_text_base import ContextTextBase\n",
    "\n",
    "print( \"django model packages imported at \" + str( datetime.datetime.now() ) )"
   ]
  },
  {
   "cell_type": "markdown",
   "id": "4d1c1afe-890d-4a8d-84e4-4ba2f55023a9",
   "metadata": {},
   "source": [
    "## Setup - shared variables"
   ]
  },
  {
   "cell_type": "code",
   "execution_count": 7,
   "id": "1950db4c-a0f2-4e6e-b319-1a261e649732",
   "metadata": {},
   "outputs": [],
   "source": [
    "# get ArticleCoding instance.\n",
    "#article_coding = ArticleCoding()\n",
    "\n",
    "# automated coding user\n",
    "automated_coder = ArticleCoder.get_automated_coding_user()\n",
    "\n",
    "# newspapers for Grand Rapids Press and Detroit News.\n",
    "grand_rapids_press = Newspaper.objects.get( newsbank_code = \"GRPB\" )\n",
    "detroit_news = Newspaper.objects.get( newsbank_code = \"DTNB\" )\n",
    "\n",
    "# OpenCalais v2 coder type\n",
    "ocv2_coder_type = OpenCalaisV2ArticleCoder.CONFIG_APPLICATION"
   ]
  },
  {
   "cell_type": "markdown",
   "id": "eace3d14-5d35-4f29-bbf4-dbbc9ed903be",
   "metadata": {},
   "source": [
    "# Understand existing data"
   ]
  },
  {
   "cell_type": "code",
   "execution_count": 8,
   "id": "ff883da8-22b9-4e2c-8470-1347d5f77c3d",
   "metadata": {},
   "outputs": [
    {
     "name": "stdout",
     "output_type": "stream",
     "text": [
      "Article count: 46\n"
     ]
    }
   ],
   "source": [
    "# how many articles?\n",
    "article_qs = Article.objects.all()\n",
    "print( \"Article count: {}\".format( article_qs.count() ) )"
   ]
  },
  {
   "cell_type": "code",
   "execution_count": null,
   "id": "1c75e2ee-d9a4-427f-b74c-8d26a2e3519a",
   "metadata": {},
   "outputs": [],
   "source": []
  }
 ],
 "metadata": {
  "kernelspec": {
   "display_name": "research_virtualenv",
   "language": "python",
   "name": "research"
  },
  "language_info": {
   "codemirror_mode": {
    "name": "ipython",
    "version": 3
   },
   "file_extension": ".py",
   "mimetype": "text/x-python",
   "name": "python",
   "nbconvert_exporter": "python",
   "pygments_lexer": "ipython3",
   "version": "3.10.4"
  }
 },
 "nbformat": 4,
 "nbformat_minor": 5
}
