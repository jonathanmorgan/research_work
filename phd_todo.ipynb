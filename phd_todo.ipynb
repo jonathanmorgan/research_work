{
 "cells": [
  {
   "cell_type": "markdown",
   "metadata": {
    "toc": true
   },
   "source": [
    "<h1>Table of Contents<span class=\"tocSkip\"></span></h1>\n",
    "<div class=\"toc\"><ul class=\"toc-item\"><li><span><a href=\"#Dissertation-proposal\" data-toc-modified-id=\"Dissertation-proposal-1\"><span class=\"toc-item-num\">1&nbsp;&nbsp;</span>Dissertation proposal</a></span></li></ul></div>"
   ]
  },
  {
   "cell_type": "markdown",
   "metadata": {},
   "source": [
    "# Dissertation proposal\n",
    "\n",
    "- Back to [Table of Contents](Table-of-Contents)\n",
    "\n",
    "DONE:\n",
    "\n",
    "- lay out the Journalism-centric thing i’ve been working on.\n",
    "\n",
    "    - start the outline I already wrote, see how it looks.\n",
    "\n",
    "- list of modules I have been preparing for re: dissertation, including all work needed for each, which parts are completed, and a rough estimate timeline for work needed to be done, broken out by task.\n",
    "- a brief dissertation outline based on the work I have already completed, with three papers broken out into details of each.\n",
    "- For the three papers, integrate module estimates with additional work needed for each, which parts are completed, and a rough estimate timeline for work needed to be done, broken out by task.\n",
    "- a narrative for each paper (will try to get into design and methods, including picking data from sets of data I have access to).  For the methods paper, i’ll have a draft completed.\n"
   ]
  },
  {
   "cell_type": "markdown",
   "metadata": {},
   "source": [
    "# analysis"
   ]
  },
  {
   "cell_type": "markdown",
   "metadata": {},
   "source": [
    "## TODO"
   ]
  },
  {
   "cell_type": "markdown",
   "metadata": {},
   "source": [
    "- figure out what articles are coded\n",
    "\n",
    "    - from each paper, date range, and set of tags with counts across each range.\n",
    "    - data exploration notebook: [analysis-data_exploration.ipynb](./analysis/analysis-data_exploration.ipynb)\n",
    "    - identify what filtering has already been done:\n",
    "    \n",
    "        - for each paper, sections included, date range, sets of tags.\n",
    "        - look at names of all people, see how many are single-name.\n",
    "        - look for date range included.\n",
    "    \n",
    "- code the Detroit News articles.\n",
    "\n",
    "    - for work needed for author strings to be able to find local news correctly, see:\n",
    "    \n",
    "        - `context_text/collectors/newsbank/newspapers/DTNB.py`\n",
    "    \n",
    "    - for filtering down to local news:\n",
    "    \n",
    "        - [newsbank-article_coding.ipynb](../data/article_coding/newsbank-article_coding.ipynb)\n",
    "        - Business, Metro, and Nation\n",
    "        - local byline\n",
    "\n",
    "- code to filter out those with single names... where?\n",
    "- use tags to programatically filter and bin sets of articles I am interested in, then just use those tags to generate network data in [Network Builder](https://research.local/research/context/text/output/network).\n",
    "\n",
    "    - remove single names (add this to the processing in network builder?).\n",
    "    - only appropriate sections\n",
    "    - year before and after layoffs.\n",
    "    - every 3 months of the year before and after layoffs.\n",
    "    - every month of the year before and after layoffs.\n",
    "    - every week of the year before and after layoffs.\n"
   ]
  },
  {
   "cell_type": "markdown",
   "metadata": {},
   "source": [
    "## DONE"
   ]
  },
  {
   "cell_type": "markdown",
   "metadata": {},
   "source": [
    "- 2022.05.05 - look at Network Builder - see how hard to make it callable with a JSON dictionary rather than through page. Got it. Not that bad."
   ]
  }
 ],
 "metadata": {
  "kernelspec": {
   "display_name": "research_virtualenv",
   "language": "python",
   "name": "research"
  },
  "language_info": {
   "codemirror_mode": {
    "name": "ipython",
    "version": 3
   },
   "file_extension": ".py",
   "mimetype": "text/x-python",
   "name": "python",
   "nbconvert_exporter": "python",
   "pygments_lexer": "ipython3",
   "version": "3.10.4"
  },
  "toc": {
   "base_numbering": 1,
   "nav_menu": {},
   "number_sections": true,
   "sideBar": true,
   "skip_h1_title": false,
   "title_cell": "Table of Contents",
   "title_sidebar": "Contents",
   "toc_cell": true,
   "toc_position": {},
   "toc_section_display": true,
   "toc_window_display": true
  },
  "toc-autonumbering": true
 },
 "nbformat": 4,
 "nbformat_minor": 4
}
